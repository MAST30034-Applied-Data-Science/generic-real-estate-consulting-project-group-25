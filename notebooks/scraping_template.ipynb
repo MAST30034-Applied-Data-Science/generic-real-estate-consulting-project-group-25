{
 "cells": [
  {
   "cell_type": "code",
   "execution_count": 1,
   "metadata": {},
   "outputs": [],
   "source": [
    "import requests\n",
    "import time\n",
    "session = requests.Session()\n",
    "import pandas as pd\n",
    "from bs4 import BeautifulSoup\n",
    "import lxml\n",
    "import xml.etree.ElementTree as ET\n",
    "from tqdm import tqdm"
   ]
  },
  {
   "cell_type": "code",
   "execution_count": 5,
   "metadata": {},
   "outputs": [],
   "source": [
    "### suburb and postal code will be a dictionary\n",
    "HEADERS = {\"User-Agent\": \"Mozilla/5.0 (X11; CrOS x86_64 12871.102.0) AppleWebKit/537.36 (KHTML, like Gecko) Chrome/81.0.4044.141 Safari/537.36\",\n",
    "            \"accept\": \"application/json\"}\n",
    "\n"
   ]
  },
  {
   "cell_type": "code",
   "execution_count": 120,
   "metadata": {},
   "outputs": [],
   "source": [
    "def get_website(seed):\n",
    "#     seed = f'https://www.domain.com.au/rent/{suburb}-vic-{postalcode}/?page={page_num}'\n",
    "#     seed = f\"https://www.domain.com.au/sitemap-listings-rent-2022080823.xml\"\n",
    "    response = session.get(seed, headers=HEADERS)\n",
    "    data = response.text\n",
    "    return data"
   ]
  },
  {
   "cell_type": "markdown",
   "metadata": {},
   "source": [
    "### Get listing groups"
   ]
  },
  {
   "cell_type": "code",
   "execution_count": 130,
   "metadata": {},
   "outputs": [
    {
     "name": "stderr",
     "output_type": "stream",
     "text": [
      "/home/sousf/.local/lib/python3.10/site-packages/bs4/builder/__init__.py:545: XMLParsedAsHTMLWarning: It looks like you're parsing an XML document using an HTML parser. If this really is an HTML document (maybe it's XHTML?), you can ignore or filter this warning. If it's XML, you should know that using an XML parser will be more reliable. To parse this document as XML, make sure you have the lxml package installed, and pass the keyword argument `features=\"xml\"` into the BeautifulSoup constructor.\n",
      "  warnings.warn(\n"
     ]
    }
   ],
   "source": [
    "listings_groups = []\n",
    "try:\n",
    "    data = get_website(\"https://www.domain.com.au/sitemap-listings-rent.xml\")\n",
    "    soup = BeautifulSoup(data, \"html.parser\")\n",
    "    listings_groups = [x.contents[0] for x in soup.find_all('loc')]\n",
    "    listings_groups = pd.DataFrame(listings_groups, columns=['links'])\n",
    "    listings_groups.to_csv(\"../data/raw/listing_groups.csv\")\n",
    "except Exception as e:\n",
    "    print(e)"
   ]
  },
  {
   "cell_type": "markdown",
   "metadata": {},
   "source": [
    "### Get individual listings"
   ]
  },
  {
   "cell_type": "code",
   "execution_count": 142,
   "metadata": {},
   "outputs": [
    {
     "name": "stderr",
     "output_type": "stream",
     "text": [
      "/home/sousf/.local/lib/python3.10/site-packages/bs4/builder/__init__.py:545: XMLParsedAsHTMLWarning: It looks like you're parsing an XML document using an HTML parser. If this really is an HTML document (maybe it's XHTML?), you can ignore or filter this warning. If it's XML, you should know that using an XML parser will be more reliable. To parse this document as XML, make sure you have the lxml package installed, and pass the keyword argument `features=\"xml\"` into the BeautifulSoup constructor.\n",
      "  warnings.warn(\n"
     ]
    },
    {
     "data": {
      "text/plain": [
       "['https://www.domain.com.au/1-sanctuary-way-ascot-vale-vic-3032-16065444',\n",
       " 'https://www.domain.com.au/1206-639-little-lonsdale-street-melbourne-vic-3000-16065443',\n",
       " 'https://www.domain.com.au/13-86-hotham-street-east-melbourne-vic-3002-16065438',\n",
       " 'https://www.domain.com.au/60-777-whitehorse-road-mont-albert-vic-3127-16065435',\n",
       " 'https://www.domain.com.au/15-vincent-avenue-st-albans-vic-3021-16065436',\n",
       " 'https://www.domain.com.au/1-238-deakin-avenue-mildura-vic-3500-16065433',\n",
       " 'https://www.domain.com.au/4-gila-way-truganina-vic-3029-16065421',\n",
       " 'https://www.domain.com.au/unit-4-18-avoca-ave-elwood-vic-3184-16065420',\n",
       " 'https://www.domain.com.au/6-percy-place-prahran-vic-3181-16047983',\n",
       " 'https://www.domain.com.au/316-330-lygon-street-brunswick-east-vic-3057-15187572',\n",
       " 'https://www.domain.com.au/61-dutton-lane-ascot-vale-vic-3032-16065419',\n",
       " 'https://www.domain.com.au/1306-618-lonsdale-street-melbourne-vic-3000-16065416',\n",
       " 'https://www.domain.com.au/38-fantail-way-brookfield-vic-3338-16065412',\n",
       " 'https://www.domain.com.au/8-16-lusher-road-croydon-vic-3136-16065411',\n",
       " 'https://www.domain.com.au/rear-531-middleborough-road-box-hill-north-vic-3129-16065410',\n",
       " 'https://www.domain.com.au/26-newbridge-boulevard-wallan-vic-3756-16065395',\n",
       " 'https://www.domain.com.au/12-3-wimbledon-avenue-elwood-vic-3184-16065394',\n",
       " 'https://www.domain.com.au/2-34-william-avenue-dandenong-vic-3175-15987670',\n",
       " 'https://www.domain.com.au/41-magnolia-drive-echuca-vic-3564-16065392',\n",
       " 'https://www.domain.com.au/48-burke-road-ivanhoe-east-vic-3079-16065389',\n",
       " 'https://www.domain.com.au/11-rejoice-street-tarneit-vic-3029-16065381',\n",
       " 'https://www.domain.com.au/478-moreland-road-brunswick-west-vic-3055-14786795',\n",
       " 'https://www.domain.com.au/46-joey-crescent-deanside-vic-3336-16059980',\n",
       " 'https://www.domain.com.au/3610-500-elizabeth-street-melbourne-vic-3000-16065365',\n",
       " 'https://www.domain.com.au/6-225-229-koornang-road-carnegie-vic-3163-16065364',\n",
       " 'https://www.domain.com.au/1-27-birdwood-street-dandenong-vic-3175-16065363',\n",
       " 'https://www.domain.com.au/21-131-riversdale-road-hawthorn-vic-3122-16065362',\n",
       " 'https://www.domain.com.au/510-1-almeida-crescent-south-yarra-vic-3141-16065356',\n",
       " 'https://www.domain.com.au/504-350-la-trobe-street-melbourne-vic-3000-15302782',\n",
       " 'https://www.domain.com.au/44-linfield-parade-wollert-vic-3750-16065355',\n",
       " 'https://www.domain.com.au/3-15-bernard-court-lara-vic-3212-16065353',\n",
       " 'https://www.domain.com.au/2-16-lyon-street-essendon-vic-3040-16065350',\n",
       " 'https://www.domain.com.au/1-11-mount-street-glen-waverley-vic-3150-16065349',\n",
       " 'https://www.domain.com.au/36-beveridge-road-silvan-vic-3795-16065343',\n",
       " 'https://www.domain.com.au/31-odessa-avenue-keilor-downs-vic-3038-16065334',\n",
       " 'https://www.domain.com.au/12-sukarna-court-doreen-vic-3754-16065330',\n",
       " 'https://www.domain.com.au/11b-curtis-court-cranbourne-vic-3977-16065323',\n",
       " 'https://www.domain.com.au/440-keys-road-flinders-vic-3929-16065322',\n",
       " 'https://www.domain.com.au/29-ormond-rd-moonee-ponds-vic-3039-16065320',\n",
       " 'https://www.domain.com.au/15-1-hatfeild-ct-west-footscray-vic-3012-16065321',\n",
       " 'https://www.domain.com.au/floor19-673-la-trobe-street-docklands-vic-3008-16065317',\n",
       " 'https://www.domain.com.au/815-288-albert-st-brunswick-vic-3056-16065315',\n",
       " 'https://www.domain.com.au/4-queen-circuit-sunshine-vic-3020-16065316',\n",
       " 'https://www.domain.com.au/201-356-carlisle-street-balaclava-vic-3183-16065312',\n",
       " 'https://www.domain.com.au/19-70-grange-boulevard-bundoora-vic-3083-16065309',\n",
       " 'https://www.domain.com.au/8-swaine-street-armstrong-creek-vic-3217-16065297',\n",
       " 'https://www.domain.com.au/4-22-mcivor-road-st-albans-vic-3021-16065295',\n",
       " 'https://www.domain.com.au/34-byron-drive-drouin-vic-3818-16065294',\n",
       " 'https://www.domain.com.au/7-22-sydney-street-murrumbeena-vic-3163-16065286',\n",
       " 'https://www.domain.com.au/4-474-494-lygon-street-brunswick-east-vic-3057-16065285',\n",
       " 'https://www.domain.com.au/9-49-brougham-street-north-melbourne-vic-3051-16065284',\n",
       " 'https://www.domain.com.au/2-12-chastleton-avenue-toorak-vic-3142-16065282',\n",
       " 'https://www.domain.com.au/22-77-alma-road-st-kilda-vic-3182-16065272',\n",
       " 'https://www.domain.com.au/29-forbes-ct-north-bendigo-vic-3550-16065271',\n",
       " 'https://www.domain.com.au/30-hayes-drive-horsham-vic-3400-16065267',\n",
       " 'https://www.domain.com.au/2-32-jacka-street-macleod-vic-3085-16065265',\n",
       " 'https://www.domain.com.au/30a-herbert-street-mornington-vic-3931-16065264',\n",
       " 'https://www.domain.com.au/g10-43-45-the-avenue-balaclava-vic-3183-16065263',\n",
       " 'https://www.domain.com.au/1308-421-docklands-drive-docklands-vic-3008-16065261',\n",
       " 'https://www.domain.com.au/1-37-margaret-street-south-yarra-vic-3141-10459409',\n",
       " 'https://www.domain.com.au/8-97-101-cruikshank-street-port-melbourne-vic-3207-16065256',\n",
       " 'https://www.domain.com.au/4101-245-city-road-southbank-vic-3006-16065255',\n",
       " 'https://www.domain.com.au/104-8-garfield-street-richmond-vic-3121-16065253',\n",
       " 'https://www.domain.com.au/69-peel-street-kew-vic-3101-15737853',\n",
       " 'https://www.domain.com.au/5-522-bluff-road-hampton-vic-3188-16065251',\n",
       " 'https://www.domain.com.au/97-halletts-way-bacchus-marsh-vic-3340-16065249',\n",
       " 'https://www.domain.com.au/30-beau-vista-drive-traralgon-vic-3844-16065244',\n",
       " 'https://www.domain.com.au/1-norham-court-berwick-vic-3806-16065239',\n",
       " 'https://www.domain.com.au/62-brougham-street-kew-vic-3101-16065237',\n",
       " 'https://www.domain.com.au/809-15-doepel-way-docklands-vic-3008-16065231',\n",
       " 'https://www.domain.com.au/41-gershwin-street-point-cook-vic-3030-16065223',\n",
       " 'https://www.domain.com.au/2-20-bellevue-street-richmond-vic-3121-16065218',\n",
       " 'https://www.domain.com.au/8-mt-eccles-place-caroline-springs-vic-3023-16065217',\n",
       " 'https://www.domain.com.au/5-129-corrigan-road-noble-park-vic-3174-12021834',\n",
       " 'https://www.domain.com.au/10-shalimar-pl-shepparton-vic-3630-16065205',\n",
       " 'https://www.domain.com.au/2-20-lyndhurst-crescent-brunswick-east-vic-3057-16065203',\n",
       " 'https://www.domain.com.au/134c-atherton-road-oakleigh-vic-3166-16065200',\n",
       " 'https://www.domain.com.au/17-kurrajong-crescent-watsonia-north-vic-3087-16065197',\n",
       " 'https://www.domain.com.au/2702-151-city-road-southbank-vic-3006-16065196',\n",
       " 'https://www.domain.com.au/58-39-rathdowne-street-carlton-vic-3053-16065195',\n",
       " 'https://www.domain.com.au/57-raglan-street-white-hills-vic-3550-16065193',\n",
       " 'https://www.domain.com.au/503-8-station-street-caulfield-north-vic-3161-16065192',\n",
       " 'https://www.domain.com.au/9-20-denmark-hill-road-hawthorn-east-vic-3123-16065188',\n",
       " 'https://www.domain.com.au/21-iona-avenue-toorak-vic-3142-16065186',\n",
       " 'https://www.domain.com.au/4-1-mckibbin-court-wodonga-vic-3690-16065183',\n",
       " 'https://www.domain.com.au/304-cobden-street-mount-pleasant-vic-3350-16065180',\n",
       " 'https://www.domain.com.au/22-old-school-road-notting-hill-vic-3168-16065179',\n",
       " 'https://www.domain.com.au/2-sandhill-st-shepparton-vic-3630-16065176',\n",
       " 'https://www.domain.com.au/5-496-fitzroy-street-fitzroy-vic-3065-16065174',\n",
       " 'https://www.domain.com.au/4-28-bordeaux-street-avondale-heights-vic-3034-10270578',\n",
       " 'https://www.domain.com.au/5-el-reno-cres-airport-west-vic-3042-16065165',\n",
       " 'https://www.domain.com.au/502-283-high-street-prahran-vic-3181-16065163',\n",
       " 'https://www.domain.com.au/7-sunlight-avenue-clyde-north-vic-3978-16065161',\n",
       " 'https://www.domain.com.au/6-kalara-close-lalor-vic-3075-16065158',\n",
       " 'https://www.domain.com.au/18-suffolk-street-curlewis-vic-3222-14968711',\n",
       " 'https://www.domain.com.au/7-150-rupert-street-west-footscray-vic-3012-13780455',\n",
       " 'https://www.domain.com.au/817-132-commercial-road-prahran-vic-3181-16065154',\n",
       " 'https://www.domain.com.au/7-114a-westbury-close-balaclava-vic-3183-16065153',\n",
       " 'https://www.domain.com.au/11-dianella-walkway-brunswick-east-vic-3057-16065146',\n",
       " 'https://www.domain.com.au/102-279-wellington-parade-south-east-melbourne-vic-3002-14787024',\n",
       " 'https://www.domain.com.au/62-clauscen-street-fitzroy-north-vic-3068-16065136',\n",
       " 'https://www.domain.com.au/1-8-princes-close-prahran-vic-3181-16065129',\n",
       " 'https://www.domain.com.au/85-moore-road-airport-west-vic-3042-16065128',\n",
       " 'https://www.domain.com.au/23-clyde-street-thornbury-vic-3071-16065124',\n",
       " 'https://www.domain.com.au/34a-orlando-street-eaglehawk-vic-3556-16065120',\n",
       " 'https://www.domain.com.au/201-323-dandenong-road-prahran-vic-3181-16065119',\n",
       " 'https://www.domain.com.au/10-calmos-avenue-mernda-vic-3754-14774638',\n",
       " 'https://www.domain.com.au/4-6-hamilton-street-bentleigh-vic-3204-16065113',\n",
       " 'https://www.domain.com.au/1311-18-mount-alexander-rd-travancore-vic-3032-12074974',\n",
       " 'https://www.domain.com.au/3-arnot-court-croydon-vic-3136-16065100',\n",
       " 'https://www.domain.com.au/12-the-boulevard-sale-vic-3850-16065094',\n",
       " 'https://www.domain.com.au/9-tussock-road-craigieburn-vic-3064-16065083',\n",
       " 'https://www.domain.com.au/120-abekcett-street-melbourne-vic-3000-16065076',\n",
       " 'https://www.domain.com.au/1506b-250-spencer-street-melbourne-vic-3000-14620499',\n",
       " 'https://www.domain.com.au/2707b-639-little-lonsdale-street-melbourne-vic-3000-14781517',\n",
       " 'https://www.domain.com.au/1215-39-lonsdale-street-melbourne-vic-3000-14536234',\n",
       " 'https://www.domain.com.au/1-35-carroll-crescent-glen-iris-vic-3146-16065068',\n",
       " 'https://www.domain.com.au/22-armstrong-drive-rowville-vic-3178-16065061',\n",
       " 'https://www.domain.com.au/7-bergen-close-keilor-lodge-vic-3038-16065056',\n",
       " 'https://www.domain.com.au/3-valewood-drive-kealba-vic-3021-16065053',\n",
       " 'https://www.domain.com.au/9-wakelin-cres-taylors-lakes-vic-3038-16065051',\n",
       " 'https://www.domain.com.au/17-spring-circuit-caroline-springs-vic-3023-16065050',\n",
       " 'https://www.domain.com.au/41-possum-drive-beveridge-vic-3753-16065049',\n",
       " 'https://www.domain.com.au/5-20-kooyong-rd-caulfield-north-vic-3161-16065046',\n",
       " 'https://www.domain.com.au/3-mabillon-way-clyde-north-vic-3978-16065044',\n",
       " 'https://www.domain.com.au/20-millicent-parade-officer-vic-3809-16065043',\n",
       " 'https://www.domain.com.au/4-121-wellington-st-flemington-vic-3031-16065041',\n",
       " 'https://www.domain.com.au/8-sevenhill-drive-mount-duneed-vic-3217-16065038',\n",
       " 'https://www.domain.com.au/2-62-wigg-street-wodonga-vic-3690-12554369',\n",
       " 'https://www.domain.com.au/108-2055-malvern-road-malvern-east-vic-3145-16065018',\n",
       " 'https://www.domain.com.au/1705-1-freshwater-place-southbank-vic-3006-16065015',\n",
       " 'https://www.domain.com.au/51-cochrane-st-mitcham-vic-3132-16065013',\n",
       " 'https://www.domain.com.au/4-cynthia-court-wantirna-south-vic-3152-16065010',\n",
       " 'https://www.domain.com.au/unit-113-153b-high-st-prahran-vic-3181-16065009',\n",
       " 'https://www.domain.com.au/59-irwin-ave-altona-north-vic-3025-15922509',\n",
       " 'https://www.domain.com.au/c16-1-5-grantham-street-brunswick-west-vic-3055-16065002',\n",
       " 'https://www.domain.com.au/1007-27-therry-street-melbourne-vic-3000-14819549',\n",
       " 'https://www.domain.com.au/144-essex-street-west-footscray-vic-3012-12809587',\n",
       " 'https://www.domain.com.au/112-south-rd-brighton-east-vic-3187-14865595',\n",
       " 'https://www.domain.com.au/13-32-34-albion-road-box-hill-vic-3128-16064968',\n",
       " 'https://www.domain.com.au/80-gibsons-circuit-bonnie-brook-vic-3335-16064965',\n",
       " 'https://www.domain.com.au/34-bellevue-avenue-doncaster-east-vic-3109-16064963',\n",
       " 'https://www.domain.com.au/11-7-11-terrigal-crescent-kilsyth-vic-3137-16064960',\n",
       " 'https://www.domain.com.au/9-katrina-court-carrum-downs-vic-3201-16064959',\n",
       " 'https://www.domain.com.au/24-oregon-drive-donvale-vic-3111-16064948',\n",
       " 'https://www.domain.com.au/27b-draper-street-mckinnon-vic-3204-16064956',\n",
       " 'https://www.domain.com.au/32-1-gatehouse-drive-kensington-vic-3031-16064953',\n",
       " 'https://www.domain.com.au/5-266-melrose-drive-tullamarine-vic-3043-15579738',\n",
       " 'https://www.domain.com.au/550a-centre-road-bentleigh-vic-3204-14700640',\n",
       " 'https://www.domain.com.au/3-8-10-james-avenue-kew-vic-3101-16064942',\n",
       " 'https://www.domain.com.au/99a-seventh-avenue-altona-north-vic-3025-16064939',\n",
       " 'https://www.domain.com.au/15-hargreaves-crescent-braybrook-vic-3019-16064937',\n",
       " 'https://www.domain.com.au/220-ascot-vale-road-ascot-vale-vic-3032-16064932',\n",
       " 'https://www.domain.com.au/16-smith-avenue-warrnambool-vic-3280-16064927',\n",
       " 'https://www.domain.com.au/205-1-petty-s-lane-doncaster-vic-3108-16064925',\n",
       " 'https://www.domain.com.au/49-middle-park-drive-point-cook-vic-3030-16064924',\n",
       " 'https://www.domain.com.au/14-2-rockgarden-drive-truganina-vic-3029-16064922',\n",
       " 'https://www.domain.com.au/8-8-rosstown-road-carnegie-vic-3163-16064917',\n",
       " 'https://www.domain.com.au/1206-618-little-lonsdale-street-melbourne-vic-3000-16064916',\n",
       " 'https://www.domain.com.au/13-falu-parade-tarneit-vic-3029-16064915',\n",
       " 'https://www.domain.com.au/10-walters-court-altona-meadows-vic-3028-16064913',\n",
       " 'https://www.domain.com.au/15-85-caroline-street-south-yarra-vic-3141-16064912',\n",
       " 'https://www.domain.com.au/302-270-young-street-fitzroy-vic-3065-16064911',\n",
       " 'https://www.domain.com.au/896-station-street-box-hill-north-vic-3129-16064910',\n",
       " 'https://www.domain.com.au/8-thrums-road-mambourin-vic-3024-16064908',\n",
       " 'https://www.domain.com.au/1-1005-south-street-ballarat-central-vic-3350-16064899',\n",
       " 'https://www.domain.com.au/5-70-lincoln-road-croydon-vic-3136-16064892',\n",
       " 'https://www.domain.com.au/9-67-market-street-sale-vic-3850-16064890',\n",
       " 'https://www.domain.com.au/19-echo-place-alfredton-vic-3350-15380831',\n",
       " 'https://www.domain.com.au/1806-673-latrobe-street-docklands-vic-3008-16064887',\n",
       " 'https://www.domain.com.au/503-22-chatham-street-prahran-vic-3181-16064884',\n",
       " 'https://www.domain.com.au/2313-3-yarra-street-south-yarra-vic-3141-16064881',\n",
       " 'https://www.domain.com.au/197-reservoir-road-bendigo-vic-3550-15309340',\n",
       " 'https://www.domain.com.au/65-railway-parade-seaford-vic-3198-16064878',\n",
       " 'https://www.domain.com.au/9-glencroft-terrace-wheelers-hill-vic-3150-15513230',\n",
       " 'https://www.domain.com.au/91-george-street-scoresby-vic-3179-16064863',\n",
       " 'https://www.domain.com.au/1-9-long-street-elsternwick-vic-3185-16064860',\n",
       " 'https://www.domain.com.au/1-13-calvert-street-bairnsdale-vic-3875-16064857',\n",
       " 'https://www.domain.com.au/4-68-thackeray-road-reservoir-vic-3073-16064856',\n",
       " 'https://www.domain.com.au/2-9-vale-street-st-kilda-vic-3182-16064855',\n",
       " 'https://www.domain.com.au/4-113-115-albert-street-geelong-west-vic-3218-16064852',\n",
       " 'https://www.domain.com.au/52-hadley-street-seaford-vic-3198-16064843',\n",
       " 'https://www.domain.com.au/330-grimshaw-street-watsonia-north-vic-3087-16064839',\n",
       " 'https://www.domain.com.au/27a-everard-street-footscray-vic-3011-16064838',\n",
       " 'https://www.domain.com.au/8-36-byron-street-elwood-vic-3184-16064837',\n",
       " 'https://www.domain.com.au/206-436-442-huntingdale-road-mount-waverley-vic-3149-15669991',\n",
       " 'https://www.domain.com.au/11-juliet-court-dandenong-north-vic-3175-11928149',\n",
       " 'https://www.domain.com.au/13-40-lillimur-road-ormond-vic-3204-16064832',\n",
       " 'https://www.domain.com.au/138-471-malvern-road-south-yarra-vic-3141-16064830',\n",
       " 'https://www.domain.com.au/107-15-pickles-street-port-melbourne-vic-3207-16064829',\n",
       " 'https://www.domain.com.au/7-7-pengelly-court-sunshine-vic-3020-16064825',\n",
       " 'https://www.domain.com.au/63-south-circular-road-gladstone-park-vic-3043-16064819',\n",
       " 'https://www.domain.com.au/4-7-9-archibald-street-box-hill-vic-3128-16064811',\n",
       " 'https://www.domain.com.au/8-11-troward-harvey-way-craigieburn-vic-3064-16064809',\n",
       " 'https://www.domain.com.au/16b-keswick-street-bentleigh-east-vic-3165-16064810',\n",
       " 'https://www.domain.com.au/52-tyquin-street-laverton-vic-3028-16064804',\n",
       " 'https://www.domain.com.au/201-21-wellington-street-collingwood-vic-3066-15895138',\n",
       " 'https://www.domain.com.au/29-lorna-street-seaford-vic-3198-16064802',\n",
       " 'https://www.domain.com.au/6-10-lalbert-crescent-prahran-vic-3181-16064800',\n",
       " 'https://www.domain.com.au/18-kingsley-st-elwood-vic-3184-16064797',\n",
       " 'https://www.domain.com.au/7-1204-glen-huntly-road-glen-huntly-vic-3163-16064791',\n",
       " 'https://www.domain.com.au/95-york-street-prahran-vic-3181-16064788',\n",
       " 'https://www.domain.com.au/3-79-hemmings-street-dandenong-vic-3175-16064786',\n",
       " 'https://www.domain.com.au/31-foster-ave-glen-huntly-vic-3163-16064783',\n",
       " 'https://www.domain.com.au/3-3-chapel-mews-south-yarra-vic-3141-16064781',\n",
       " 'https://www.domain.com.au/262-queen-street-altona-vic-3018-16064778',\n",
       " 'https://www.domain.com.au/23-6-8-glen-eira-road-ripponlea-vic-3185-16064777',\n",
       " 'https://www.domain.com.au/121-lord-street-richmond-vic-3121-16064776',\n",
       " 'https://www.domain.com.au/26-vail-street-prahran-vic-3181-16064768',\n",
       " 'https://www.domain.com.au/210-201-whitehorse-road-balwyn-vic-3103-16064767',\n",
       " 'https://www.domain.com.au/10-reddrop-court-altona-meadows-vic-3028-16064764',\n",
       " 'https://www.domain.com.au/97-marquands-road-truganina-vic-3029-16064763',\n",
       " 'https://www.domain.com.au/6-11-brandon-mews-grovedale-vic-3216-16064762',\n",
       " 'https://www.domain.com.au/19-rainford-place-armstrong-creek-vic-3217-16064759',\n",
       " 'https://www.domain.com.au/1-27-langton-street-glenroy-vic-3046-16064757',\n",
       " 'https://www.domain.com.au/16-sienna-place-point-cook-vic-3030-16064752',\n",
       " 'https://www.domain.com.au/1-8-may-street-elwood-vic-3184-16064751',\n",
       " 'https://www.domain.com.au/510-551-swanston-street-carlton-vic-3053-15202899',\n",
       " 'https://www.domain.com.au/1-684-hawthorn-road-brighton-east-vic-3187-16064741',\n",
       " 'https://www.domain.com.au/1-116-anakie-road-bell-park-vic-3215-16064737',\n",
       " 'https://www.domain.com.au/25-8-taylor-drive-mildura-vic-3500-16064736',\n",
       " 'https://www.domain.com.au/35-freshfields-drive-cranbourne-north-vic-3977-16064734',\n",
       " 'https://www.domain.com.au/12-rolland-street-coburg-vic-3058-16064730',\n",
       " 'https://www.domain.com.au/6-46-leonard-avenue-noble-park-vic-3174-16064726',\n",
       " 'https://www.domain.com.au/24-st-james-street-moonee-ponds-vic-3039-16064725',\n",
       " 'https://www.domain.com.au/3-12-llewellyn-street-beaumaris-vic-3193-16064723',\n",
       " 'https://www.domain.com.au/30-parkin-avenue-cheltenham-vic-3192-16064722',\n",
       " 'https://www.domain.com.au/6-9-11-otter-st-collingwood-vic-3066-16064713',\n",
       " 'https://www.domain.com.au/5-29-knight-avenue-herne-hill-vic-3218-16064712',\n",
       " 'https://www.domain.com.au/25-22-leonard-crescent-ascot-vale-vic-3032-16064709',\n",
       " 'https://www.domain.com.au/3-9-kingston-street-keilor-park-vic-3042-14491574',\n",
       " 'https://www.domain.com.au/20-ellesmere-road-burwood-east-vic-3151-14720826',\n",
       " 'https://www.domain.com.au/1-4-murray-road-melton-south-vic-3338-16064700',\n",
       " 'https://www.domain.com.au/10-plough-street-mernda-vic-3754-16064697',\n",
       " 'https://www.domain.com.au/141-millers-road-altona-north-vic-3025-16064696',\n",
       " 'https://www.domain.com.au/14-11-auburn-grove-hawthorn-east-vic-3123-16064692',\n",
       " 'https://www.domain.com.au/21-central-avenue-moorabbin-vic-3189-16064691',\n",
       " 'https://www.domain.com.au/414-118-franklin-street-melbourne-vic-3004-16064689',\n",
       " 'https://www.domain.com.au/5-163-parkers-road-parkdale-vic-3195-16064688',\n",
       " 'https://www.domain.com.au/7-wentworth-place-melton-south-vic-3338-16064683',\n",
       " 'https://www.domain.com.au/2-56-william-street-balaclava-vic-3183-16064681',\n",
       " 'https://www.domain.com.au/2402-155-franklin-street-melbourne-vic-3000-15366391',\n",
       " 'https://www.domain.com.au/101-229-bridge-road-richmond-vic-3121-10534630',\n",
       " 'https://www.domain.com.au/35-lillrose-drive-charlemont-vic-3217-16064675',\n",
       " 'https://www.domain.com.au/27-hayes-drive-beechworth-vic-3747-16064670',\n",
       " 'https://www.domain.com.au/1-25a-leonard-avenue-noble-park-vic-3174-16064672',\n",
       " 'https://www.domain.com.au/15-marlin-terrace-seabrook-vic-3028-16064669',\n",
       " 'https://www.domain.com.au/3-3-louis-avenue-dandenong-vic-3175-16064668',\n",
       " 'https://www.domain.com.au/33-nott-street-malvern-east-vic-3145-16064665',\n",
       " 'https://www.domain.com.au/4-29-collier-court-strathmore-vic-3041-16064663',\n",
       " 'https://www.domain.com.au/402-33-seymour-street-preston-vic-3072-16064662',\n",
       " 'https://www.domain.com.au/56-tyner-road-wantirna-south-vic-3152-16064658',\n",
       " 'https://www.domain.com.au/1-445-st-kilda-street-elwood-vic-3184-16064657',\n",
       " 'https://www.domain.com.au/7-quigley-st-yinnar-vic-3869-16064656',\n",
       " 'https://www.domain.com.au/11-torrington-street-point-cook-vic-3030-16064653',\n",
       " 'https://www.domain.com.au/6-intervale-drive-wyndham-vale-vic-3024-16064649',\n",
       " 'https://www.domain.com.au/15-nouvel-crescent-corinella-vic-3984-16064645',\n",
       " 'https://www.domain.com.au/32-mistral-way-beveridge-vic-3753-16064644',\n",
       " 'https://www.domain.com.au/108-mahoneys-road-forest-hill-vic-3131-16064634',\n",
       " 'https://www.domain.com.au/43-lucerne-crescent-alphington-vic-3078-16064632',\n",
       " 'https://www.domain.com.au/2-86-settlement-road-belmont-vic-3216-15434401',\n",
       " 'https://www.domain.com.au/33-edgecombe-way-roxburgh-park-vic-3064-16064630',\n",
       " 'https://www.domain.com.au/3-93-st-leonards-road-ascot-vale-vic-3032-16064629',\n",
       " 'https://www.domain.com.au/6-164-napier-st-essendon-vic-3040-16064627',\n",
       " 'https://www.domain.com.au/5-ruby-road-cobblebank-vic-3338-14404461',\n",
       " 'https://www.domain.com.au/2-30-kelly-street-chadstone-vic-3148-9994359',\n",
       " 'https://www.domain.com.au/8-73-coulstock-street-warrnambool-vic-3280-16064617',\n",
       " 'https://www.domain.com.au/60-eagle-road-armstrong-creek-vic-3217-16064615',\n",
       " 'https://www.domain.com.au/13-hattam-street-golden-square-vic-3555-10599262',\n",
       " 'https://www.domain.com.au/2307-60-a-beckett-street-melbourne-vic-3000-15335147',\n",
       " 'https://www.domain.com.au/3-5-station-street-norlane-vic-3214-16064608',\n",
       " 'https://www.domain.com.au/9-27-robe-street-st-kilda-vic-3182-16064598',\n",
       " 'https://www.domain.com.au/1505-8-marmion-place-docklands-vic-3008-16064597',\n",
       " 'https://www.domain.com.au/225-st-georges-road-northcote-vic-3070-16064591',\n",
       " 'https://www.domain.com.au/53-151-fitzroy-street-st-kilda-vic-3182-16064590',\n",
       " 'https://www.domain.com.au/5313-228-la-trobe-street-melbourne-vic-3000-15329783',\n",
       " 'https://www.domain.com.au/1-502-lydiard-street-north-soldiers-hill-vic-3350-16064585',\n",
       " 'https://www.domain.com.au/3807-639-little-lonsdale-street-melbourne-vic-3000-14527576',\n",
       " 'https://www.domain.com.au/8-4-mccracken-avenue-northcote-vic-3070-16064578',\n",
       " 'https://www.domain.com.au/4-astran-court-endeavour-hills-vic-3802-16064576',\n",
       " 'https://www.domain.com.au/24-tulloch-street-botanic-ridge-vic-3977-16064573',\n",
       " 'https://www.domain.com.au/503-7-balcombe-road-mentone-vic-3194-16064570',\n",
       " 'https://www.domain.com.au/9-350-somerville-road-west-footscray-vic-3012-16064564',\n",
       " 'https://www.domain.com.au/105-304-310-lygon-st-brunswick-east-vic-3057-14445758',\n",
       " 'https://www.domain.com.au/31-simpson-street-yarraville-vic-3013-13782492',\n",
       " 'https://www.domain.com.au/93-fogarty-avenue-highton-vic-3216-16064560',\n",
       " 'https://www.domain.com.au/12-12-may-street-elwood-vic-3184-16064557',\n",
       " 'https://www.domain.com.au/209-20-station-street-highett-vic-3190-16064556',\n",
       " 'https://www.domain.com.au/50-rowell-avenue-camberwell-vic-3124-16064551',\n",
       " 'https://www.domain.com.au/89-valentine-street-ivanhoe-vic-3079-16064543',\n",
       " 'https://www.domain.com.au/2-2-pyke-street-woodend-vic-3442-16064542',\n",
       " 'https://www.domain.com.au/2-19-wattle-drive-doveton-vic-3177-16064540',\n",
       " 'https://www.domain.com.au/6-144-brighton-road-elsternwick-vic-3185-16064538',\n",
       " 'https://www.domain.com.au/9-11-troward-harvey-way-craigieburn-vic-3064-16064539',\n",
       " 'https://www.domain.com.au/31214-2-connam-avenue-clayton-vic-3168-16064531',\n",
       " 'https://www.domain.com.au/9-ravine-place-thornhill-park-vic-3335-16064529',\n",
       " 'https://www.domain.com.au/19-koroit-place-taylors-lakes-vic-3038-16064522',\n",
       " 'https://www.domain.com.au/6-30-collins-street-mentone-vic-3194-16064521',\n",
       " 'https://www.domain.com.au/5-1-taylor-street-fitzroy-north-vic-3068-9951260',\n",
       " 'https://www.domain.com.au/1205d-21-robert-street-collingwood-vic-3066-14571889',\n",
       " 'https://www.domain.com.au/19-30-hopetoun-road-warrnambool-vic-3280-16064516',\n",
       " 'https://www.domain.com.au/2707-35-malcolm-street-south-yarra-vic-3141-15393685',\n",
       " 'https://www.domain.com.au/3-225-buckley-street-essendon-vic-3040-16064511',\n",
       " 'https://www.domain.com.au/10-bloom-street-moonee-ponds-vic-3039-16064510',\n",
       " 'https://www.domain.com.au/15a-club-parade-kilmore-vic-3764-15226214',\n",
       " 'https://www.domain.com.au/1-604-havelock-street-black-hill-vic-3350-16064506',\n",
       " 'https://www.domain.com.au/2-1526-heatherton-road-dandenong-vic-3175-16064504',\n",
       " 'https://www.domain.com.au/15-medley-walk-ascot-vale-vic-3032-14750242',\n",
       " 'https://www.domain.com.au/8-9-12-may-street-elwood-vic-3184-16064495',\n",
       " 'https://www.domain.com.au/10-wesley-drive-narre-warren-vic-3805-16064492',\n",
       " 'https://www.domain.com.au/172-raleigh-st-thornbury-vic-3071-16064489',\n",
       " 'https://www.domain.com.au/4901-560-lonsdale-street-melbourne-vic-3000-16064475',\n",
       " 'https://www.domain.com.au/10-hallmark-drive-narre-warren-south-vic-3805-16064471',\n",
       " 'https://www.domain.com.au/45-spring-street-thomastown-vic-3074-16064468',\n",
       " 'https://www.domain.com.au/4-25-cardigan-street-st-kilda-east-vic-3183-16064463',\n",
       " 'https://www.domain.com.au/5-edgar-close-chirnside-park-vic-3116-16064461',\n",
       " 'https://www.domain.com.au/207-8-horizon-drive-maribyrnong-vic-3032-16064457',\n",
       " 'https://www.domain.com.au/4-23-maple-walk-moonee-ponds-vic-3039-16064455',\n",
       " 'https://www.domain.com.au/20-shakespeare-grove-officer-vic-3809-16064451',\n",
       " 'https://www.domain.com.au/1b-castles-road-bentleigh-vic-3204-16064447',\n",
       " 'https://www.domain.com.au/4-25-ti-tree-grove-east-parkdale-vic-3195-14859408',\n",
       " 'https://www.domain.com.au/9-43-milton-street-elwood-vic-3184-16064441',\n",
       " 'https://www.domain.com.au/10-54-balston-street-st-kilda-east-vic-3183-16064440',\n",
       " 'https://www.domain.com.au/144-sixth-avenue-rosebud-vic-3939-15500945',\n",
       " 'https://www.domain.com.au/tarneit-vic-3029-16064437',\n",
       " 'https://www.domain.com.au/67-victoria-street-seddon-vic-3011-16064434',\n",
       " 'https://www.domain.com.au/5-gongurra-bowl-harkness-vic-3337-16064433',\n",
       " 'https://www.domain.com.au/20-battery-road-point-cook-vic-3030-16064428',\n",
       " 'https://www.domain.com.au/2-14-sylvan-street-balwyn-north-vic-3104-15721267',\n",
       " 'https://www.domain.com.au/16-glendye-court-corio-vic-3214-16064423',\n",
       " 'https://www.domain.com.au/60-borrack-crescent-mernda-vic-3754-16064422',\n",
       " 'https://www.domain.com.au/1-98-grange-road-alphington-vic-3078-16064417',\n",
       " 'https://www.domain.com.au/4-129-131-kambrook-road-caulfield-north-vic-3161-16064416',\n",
       " 'https://www.domain.com.au/2-155-157-oakleigh-road-carnegie-vic-3163-16064409',\n",
       " 'https://www.domain.com.au/17-brosnan-road-bentleigh-east-vic-3165-16064398',\n",
       " 'https://www.domain.com.au/9-41-44-gladesville-boulevard-patterson-lakes-vic-3197-16064389',\n",
       " 'https://www.domain.com.au/28-prime-street-mickleham-vic-3064-16064388',\n",
       " 'https://www.domain.com.au/1106-555-flinders-street-melbourne-vic-3000-16064379',\n",
       " 'https://www.domain.com.au/2109e-888-collins-street-docklands-vic-3008-16064373',\n",
       " 'https://www.domain.com.au/44-baudinette-drive-sebastopol-vic-3356-16064372',\n",
       " 'https://www.domain.com.au/30-mat-rush-avenue-bundoora-vic-3083-16064367',\n",
       " 'https://www.domain.com.au/211-183-high-street-preston-vic-3072-16064366',\n",
       " 'https://www.domain.com.au/201-1-courtney-street-north-melbourne-vic-3051-16064364',\n",
       " 'https://www.domain.com.au/54-wellington-street-cremorne-vic-3121-16064362',\n",
       " 'https://www.domain.com.au/29-brunton-crescent-tullamarine-vic-3043-16064360',\n",
       " 'https://www.domain.com.au/24-cookson-way-burwood-vic-3125-16064359',\n",
       " 'https://www.domain.com.au/8-merry-street-ringwood-east-vic-3135-16064353',\n",
       " 'https://www.domain.com.au/32-dallas-avenue-hughesdale-vic-3166-16064349',\n",
       " 'https://www.domain.com.au/3-felstead-avenue-sunshine-west-vic-3020-16064348',\n",
       " 'https://www.domain.com.au/6-20-spring-road-springvale-south-vic-3172-16064347',\n",
       " 'https://www.domain.com.au/4-13-edith-street-dandenong-vic-3175-15981493',\n",
       " 'https://www.domain.com.au/2-45-jacana-avenue-broadmeadows-vic-3047-16064340',\n",
       " 'https://www.domain.com.au/2-405-toorak-road-toorak-vic-3142-16064339',\n",
       " 'https://www.domain.com.au/11-111-miller-street-fitzroy-north-vic-3068-9951532',\n",
       " 'https://www.domain.com.au/5-21-sumers-street-laverton-vic-3028-16064338',\n",
       " 'https://www.domain.com.au/1406-81-south-wharf-drive-docklands-vic-3008-16064337',\n",
       " 'https://www.domain.com.au/2605-100-lorimer-street-docklands-vic-3008-16064335',\n",
       " 'https://www.domain.com.au/3704-90-lorimer-street-docklands-vic-3008-16064334',\n",
       " 'https://www.domain.com.au/808-60-lorimer-street-docklands-vic-3008-16064333',\n",
       " 'https://www.domain.com.au/7-george-street-rye-vic-3941-16064329',\n",
       " 'https://www.domain.com.au/27-tucker-boulevard-carrum-downs-vic-3201-15814010',\n",
       " 'https://www.domain.com.au/8-sorrel-circuit-sunbury-vic-3429-15092156',\n",
       " 'https://www.domain.com.au/107-john-street-williamstown-vic-3016-14580899',\n",
       " 'https://www.domain.com.au/30-moresby-avenue-bulleen-vic-3105-16064321',\n",
       " 'https://www.domain.com.au/503-8-mccrae-street-docklands-vic-3008-16064317',\n",
       " 'https://www.domain.com.au/2-372-orrong-road-caulfield-north-vic-3161-16064315',\n",
       " 'https://www.domain.com.au/48-321-chapel-street-prahran-vic-3181-16064313',\n",
       " 'https://www.domain.com.au/5-potter-street-bairnsdale-vic-3875-16064310',\n",
       " 'https://www.domain.com.au/32-35-47-burnt-street-nunawading-vic-3131-16064311',\n",
       " 'https://www.domain.com.au/872-centre-road-bentleigh-east-vic-3165-16064305',\n",
       " 'https://www.domain.com.au/283a-burnley-street-richmond-vic-3121-16064303',\n",
       " 'https://www.domain.com.au/287-carrick-drive-gladstone-park-vic-3043-16064301',\n",
       " 'https://www.domain.com.au/52-whites-road-warrnambool-vic-3280-16064297',\n",
       " 'https://www.domain.com.au/2-83-parkmore-road-bentleigh-east-vic-3165-16064295',\n",
       " 'https://www.domain.com.au/40-dorrit-street-carlton-vic-3053-16064293',\n",
       " 'https://www.domain.com.au/2-23-merlyn-avenue-clayton-south-vic-3169-9967004',\n",
       " 'https://www.domain.com.au/2-55-albert-hill-road-lilydale-vic-3140-16064287',\n",
       " 'https://www.domain.com.au/8-21-23-newlyn-street-caulfield-vic-3162-16064286',\n",
       " 'https://www.domain.com.au/117b-waterdale-road-ivanhoe-vic-3079-16064276',\n",
       " 'https://www.domain.com.au/2-116-mountain-view-road-briar-hill-vic-3088-16064274',\n",
       " 'https://www.domain.com.au/20-whitegum-way-cranbourne-north-vic-3977-13646734',\n",
       " 'https://www.domain.com.au/43-millbrook-drive-wyndham-vale-vic-3024-16064265',\n",
       " 'https://www.domain.com.au/8-140-tambo-circuit-whittlesea-vic-3757-16064263',\n",
       " 'https://www.domain.com.au/21-14-mitford-street-st-kilda-vic-3182-16064262',\n",
       " 'https://www.domain.com.au/2-18-south-terrace-clifton-hill-vic-3068-16064261',\n",
       " 'https://www.domain.com.au/15-vessey-walk-wyndham-vale-vic-3024-12969416',\n",
       " 'https://www.domain.com.au/1-brampton-way-mildura-vic-3500-16064255',\n",
       " 'https://www.domain.com.au/4-43-york-street-bonbeach-vic-3196-16064256',\n",
       " 'https://www.domain.com.au/5-51-53-helms-street-newcomb-vic-3219-16064254',\n",
       " 'https://www.domain.com.au/4405-639-lonsdale-street-melbourne-vic-3000-16064252',\n",
       " 'https://www.domain.com.au/23-old-school-road-notting-hill-vic-3168-16064251',\n",
       " 'https://www.domain.com.au/4-10-12-james-street-dandenong-vic-3175-16064248',\n",
       " 'https://www.domain.com.au/17-obsidian-avenue-tarneit-vic-3029-16064245',\n",
       " 'https://www.domain.com.au/2901-200-spencer-street-melbourne-vic-3000-16064243',\n",
       " 'https://www.domain.com.au/80-kerrabee-drive-mernda-vic-3754-16064240',\n",
       " 'https://www.domain.com.au/14-2-clarkson-court-clayton-vic-3168-16064232',\n",
       " 'https://www.domain.com.au/45b-loch-park-road-traralgon-vic-3844-16064228',\n",
       " 'https://www.domain.com.au/16-114-118-ferntree-gully-road-oakleigh-east-vic-3166-16064225',\n",
       " 'https://www.domain.com.au/2a-granter-street-brighton-east-vic-3187-16064222',\n",
       " 'https://www.domain.com.au/4-wattle-grove-seaholme-vic-3018-15151018',\n",
       " 'https://www.domain.com.au/2-223-woods-street-newport-vic-3015-16064209',\n",
       " 'https://www.domain.com.au/1-36-grevillia-road-oak-park-vic-3046-16064206',\n",
       " 'https://www.domain.com.au/1-4-dundas-street-thornbury-vic-3071-16064204',\n",
       " 'https://www.domain.com.au/63-peter-thomson-circuit-yarrawonga-vic-3730-16064202',\n",
       " 'https://www.domain.com.au/12-sheppard-street-shepparton-vic-3630-16064201',\n",
       " 'https://www.domain.com.au/74-neasham-drive-dandenong-north-vic-3175-16064197',\n",
       " 'https://www.domain.com.au/13-frayne-st-stawell-vic-3380-16064195',\n",
       " 'https://www.domain.com.au/2-115-albion-street-brunswick-vic-3056-16064194',\n",
       " 'https://www.domain.com.au/1-glee-street-wyndham-vale-vic-3024-15342537',\n",
       " 'https://www.domain.com.au/3-56-larnook-street-prahran-vic-3181-16064188',\n",
       " 'https://www.domain.com.au/unit-1-72-duffy-street-epping-vic-3076-16064186',\n",
       " 'https://www.domain.com.au/21-lucknow-drive-beveridge-vic-3753-16064182',\n",
       " 'https://www.domain.com.au/504-8-martin-street-heidelberg-vic-3084-16064181',\n",
       " 'https://www.domain.com.au/5-pisa-street-fraser-rise-vic-3336-15817219',\n",
       " 'https://www.domain.com.au/7-8-david-altona-vic-3018-16064178',\n",
       " 'https://www.domain.com.au/33-anglers-drive-epping-vic-3076-15242157',\n",
       " 'https://www.domain.com.au/4-273-orrong-road-st-kilda-east-vic-3183-16064176',\n",
       " 'https://www.domain.com.au/unit-4-84-patrick-st-stawell-vic-3380-16064174',\n",
       " 'https://www.domain.com.au/63-5-thompson-road-patterson-lakes-vic-3197-16064167',\n",
       " 'https://www.domain.com.au/301-rubicon-street-sebastopol-vic-3356-16064172',\n",
       " 'https://www.domain.com.au/4-32-mount-pleasant-road-nunawading-vic-3131-16064170',\n",
       " 'https://www.domain.com.au/18-mountain-ash-circuit-winter-valley-vic-3358-16064169',\n",
       " 'https://www.domain.com.au/709-1-foundry-road-sunshine-vic-3020-16064166',\n",
       " 'https://www.domain.com.au/2-toorak-avenue-mildura-vic-3500-16064161',\n",
       " 'https://www.domain.com.au/1711-105-batman-street-west-melbourne-vic-3003-16064159',\n",
       " 'https://www.domain.com.au/2-balmain-court-wantirna-vic-3152-16064148',\n",
       " 'https://www.domain.com.au/1-10-willow-glen-court-dingley-village-vic-3172-16064147',\n",
       " 'https://www.domain.com.au/5803-370-queen-street-melbourne-vic-3000-16064139',\n",
       " 'https://www.domain.com.au/45-darcy-st-stawell-vic-3380-16064143',\n",
       " 'https://www.domain.com.au/10-ashdown-court-bundoora-vic-3083-15711818',\n",
       " 'https://www.domain.com.au/9-haven-crescent-ascot-vale-vic-3032-16064140',\n",
       " 'https://www.domain.com.au/38-st-claire-avenue-south-morang-vic-3752-15271005',\n",
       " 'https://www.domain.com.au/1-13-maryn-close-berwick-vic-3806-16064136',\n",
       " 'https://www.domain.com.au/18-wagner-werribee-vic-3030-16064132',\n",
       " 'https://www.domain.com.au/1a-alexandra-avenue-kalimna-vic-3909-16064131',\n",
       " 'https://www.domain.com.au/203-72-high-street-prahran-vic-3181-16064123',\n",
       " 'https://www.domain.com.au/1-20-donald-avenue-essendon-vic-3040-16064118',\n",
       " 'https://www.domain.com.au/67-baltimore-drive-point-cook-vic-3030-16064114',\n",
       " 'https://www.domain.com.au/2-65-ballarat-road-footscray-vic-3011-16064111',\n",
       " 'https://www.domain.com.au/5-854-pascoe-vale-road-glenroy-vic-3046-16064109',\n",
       " 'https://www.domain.com.au/1501w-888-collins-street-docklands-docklands-vic-3008-16064107',\n",
       " 'https://www.domain.com.au/1-harvey-close-epping-vic-3076-16064105',\n",
       " 'https://www.domain.com.au/178-yarra-road-croydon-north-vic-3136-16064102',\n",
       " 'https://www.domain.com.au/33-barkly-ave-armadale-vic-3143-16064100',\n",
       " 'https://www.domain.com.au/177-ahern-road-pakenham-vic-3810-16064098',\n",
       " 'https://www.domain.com.au/1-nauru-court-berwick-vic-3806-16064094',\n",
       " 'https://www.domain.com.au/2400-63-whiteman-street-southbank-vic-3006-16064090',\n",
       " 'https://www.domain.com.au/2-67-71-osborne-street-flora-hill-vic-3550-10471069',\n",
       " 'https://www.domain.com.au/2-36-the-grove-coburg-vic-3058-15297512',\n",
       " 'https://www.domain.com.au/22-clowes-street-kyneton-vic-3444-16064081',\n",
       " 'https://www.domain.com.au/10-enright-street-botanic-ridge-vic-3977-16064078',\n",
       " 'https://www.domain.com.au/80-kerrabee-drive-mernda-vic-3754-16064077',\n",
       " 'https://www.domain.com.au/503-243-franklin-street-melbourne-vic-3000-16064073',\n",
       " 'https://www.domain.com.au/474-burwood-road-hawthorn-vic-3122-16064070',\n",
       " 'https://www.domain.com.au/35-lilac-street-bentleigh-east-vic-3165-16064064',\n",
       " 'https://www.domain.com.au/105-52-dow-street-port-melbourne-vic-3207-16064063',\n",
       " 'https://www.domain.com.au/68-dawley-circuit-werribee-vic-3030-16064062',\n",
       " 'https://www.domain.com.au/22-brookvale-court-roxburgh-park-vic-3064-15207342',\n",
       " 'https://www.domain.com.au/5-1-chatfield-avenue-capel-sound-vic-3940-15884888',\n",
       " 'https://www.domain.com.au/15a-foy-avenue-chelsea-vic-3196-16064058',\n",
       " 'https://www.domain.com.au/10-kallista-circuit-officer-vic-3809-16064056',\n",
       " 'https://www.domain.com.au/12a-felicia-grove-forest-hill-vic-3131-16064055',\n",
       " 'https://www.domain.com.au/17-25-37-spring-road-springvale-south-vic-3172-16064051',\n",
       " 'https://www.domain.com.au/84-albert-street-horsham-vic-3400-16064036',\n",
       " 'https://www.domain.com.au/5-31-mcnally-street-yarrawonga-vic-3730-16064038',\n",
       " 'https://www.domain.com.au/104-226-waverley-road-malvern-east-vic-3145-16064029',\n",
       " 'https://www.domain.com.au/1-9-young-street-horsham-vic-3400-16064009',\n",
       " 'https://www.domain.com.au/14-olivebank-road-ferntree-gully-vic-3156-16064005',\n",
       " 'https://www.domain.com.au/1204-139-145-queensberry-street-carlton-vic-3053-16064006',\n",
       " 'https://www.domain.com.au/877-waverley-road-glen-waverley-vic-3150-16064001',\n",
       " 'https://www.domain.com.au/24-hurlingham-way-craigieburn-vic-3064-16063992',\n",
       " 'https://www.domain.com.au/13-hickory-drive-narre-warren-south-vic-3805-16063991',\n",
       " 'https://www.domain.com.au/15-bazadaise-drive-clyde-north-vic-3978-16063989',\n",
       " 'https://www.domain.com.au/91-watton-street-penshurst-vic-3289-16063987',\n",
       " 'https://www.domain.com.au/5-7-highview-court-pakenham-vic-3810-16063985',\n",
       " 'https://www.domain.com.au/102-9-collared-close-bundoora-vic-3083-16063983',\n",
       " 'https://www.domain.com.au/11-rawson-avenue-sunshine-vic-3020-16063980',\n",
       " 'https://www.domain.com.au/106-hoffmans-road-essendon-vic-3040-16063976',\n",
       " 'https://www.domain.com.au/121-bignell-road-bentleigh-east-vic-3165-16063975',\n",
       " 'https://www.domain.com.au/19-quay-boulevard-werribee-south-vic-3030-16063974',\n",
       " 'https://www.domain.com.au/26-15-moore-street-moonee-ponds-vic-3039-16063972',\n",
       " 'https://www.domain.com.au/318-victoria-street-richmond-vic-3121-15146722',\n",
       " 'https://www.domain.com.au/2-248-francis-street-yarraville-vic-3013-16063967',\n",
       " 'https://www.domain.com.au/6-narebar-street-bell-park-vic-3215-10669451',\n",
       " 'https://www.domain.com.au/506-99-palmerston-crescent-south-melbourne-vic-3205-9763261',\n",
       " 'https://www.domain.com.au/120-nott-street-port-melbourne-vic-3207-16063962',\n",
       " 'https://www.domain.com.au/61-108-124-union-street-brunswick-vic-3056-16063960',\n",
       " 'https://www.domain.com.au/12-thompson-street-beechworth-vic-3747-16063959',\n",
       " 'https://www.domain.com.au/4-telford-street-tungamah-vic-3728-16063955',\n",
       " 'https://www.domain.com.au/62-sims-street-sandringham-vic-3191-16063950',\n",
       " 'https://www.domain.com.au/52-whites-road-warrnambool-vic-3280-16063948',\n",
       " 'https://www.domain.com.au/1-18-kynock-street-deer-park-vic-3023-16063944',\n",
       " 'https://www.domain.com.au/104-427-hampton-street-hampton-vic-3188-16063942',\n",
       " 'https://www.domain.com.au/211b-399-bourke-street-melbourne-vic-3000-16063938',\n",
       " 'https://www.domain.com.au/3-breydon-court-st-albans-vic-3021-15943983',\n",
       " 'https://www.domain.com.au/8-winton-street-charlemont-vic-3217-16063934',\n",
       " 'https://www.domain.com.au/169-pilgrim-street-seddon-vic-3011-15030968',\n",
       " 'https://www.domain.com.au/2-cardiff-street-bell-post-hill-vic-3215-16063931',\n",
       " 'https://www.domain.com.au/1-12-william-street-cranbourne-vic-3977-16063928',\n",
       " 'https://www.domain.com.au/33-landcox-street-brighton-east-vic-3187-15885544',\n",
       " 'https://www.domain.com.au/20-beatrix-circuit-officer-vic-3809-16063925',\n",
       " 'https://www.domain.com.au/2-24-silvercreek-drive-lynbrook-vic-3975-16063921',\n",
       " 'https://www.domain.com.au/6-33-tremain-drive-lucas-vic-3350-16063920',\n",
       " 'https://www.domain.com.au/24-orrong-crescent-caulfield-north-vic-3161-16063914',\n",
       " 'https://www.domain.com.au/8-2-6-wimmera-place-st-kilda-vic-3182-16063911',\n",
       " 'https://www.domain.com.au/74-st-andrews-street-brighton-vic-3186-16063910',\n",
       " 'https://www.domain.com.au/110-449-hawthorn-road-caulfield-south-vic-3162-16063907',\n",
       " 'https://www.domain.com.au/105-20-station-street-highett-vic-3190-16063906',\n",
       " 'https://www.domain.com.au/30-peppermint-grove-knoxfield-vic-3180-16063899',\n",
       " 'https://www.domain.com.au/100-union-street-brunswick-vic-3056-16027510',\n",
       " 'https://www.domain.com.au/3-84a-maribyrnong-rd-moonee-ponds-vic-3039-16063891',\n",
       " 'https://www.domain.com.au/1-22-myola-street-carrum-vic-3197-16063890',\n",
       " 'https://www.domain.com.au/1-51-browns-rd-bentleigh-east-vic-3165-16063888',\n",
       " 'https://www.domain.com.au/5401-464-collins-street-melbourne-vic-3000-16063884',\n",
       " 'https://www.domain.com.au/20-114-princes-highway-dandenong-vic-3175-16063877',\n",
       " 'https://www.domain.com.au/8-search-road-diggers-rest-vic-3427-14920812',\n",
       " 'https://www.domain.com.au/2-24-myers-road-bittern-vic-3918-16040301',\n",
       " 'https://www.domain.com.au/4-368-geelong-road-west-footscray-vic-3012-16063872',\n",
       " 'https://www.domain.com.au/2-47-briggs-street-mount-waverley-vic-3149-16063868',\n",
       " 'https://www.domain.com.au/3-fairweather-parade-officer-vic-3809-16063861',\n",
       " 'https://www.domain.com.au/1-signature-boulevard-sanctuary-lakes-vic-3030-16063858',\n",
       " 'https://www.domain.com.au/22-1-29-albert-road-melbourne-vic-3004-16063855',\n",
       " 'https://www.domain.com.au/9-o-brien-court-altona-meadows-vic-3028-16063853',\n",
       " 'https://www.domain.com.au/69-panorama-avenue-lower-plenty-vic-3093-16063852',\n",
       " 'https://www.domain.com.au/9-grange-drive-broadford-vic-3658-16063850',\n",
       " 'https://www.domain.com.au/172-george-street-fitzroy-vic-3065-16063837',\n",
       " 'https://www.domain.com.au/15-thistle-street-golden-square-vic-3555-15087744',\n",
       " 'https://www.domain.com.au/640-shepparton-dookie-college-road-cosgrove-south-vic-3631-16063833',\n",
       " 'https://www.domain.com.au/11-greig-drive-mernda-vic-3754-16063831',\n",
       " 'https://www.domain.com.au/6-debra-avenue-pakenham-vic-3810-16063830',\n",
       " 'https://www.domain.com.au/229-st-germain-boulevard-clyde-north-vic-3978-16063829',\n",
       " 'https://www.domain.com.au/3-1-acland-street-st-kilda-vic-3182-16063828',\n",
       " 'https://www.domain.com.au/8-claremont-crescent-canterbury-vic-3126-16063827',\n",
       " 'https://www.domain.com.au/16-morrice-street-caulfield-north-vic-3161-16063822',\n",
       " 'https://www.domain.com.au/8-190-lennox-street-richmond-vic-3121-16063791',\n",
       " 'https://www.domain.com.au/2905-35-malcolm-street-south-yarra-vic-3141-16063814',\n",
       " 'https://www.domain.com.au/92-gallantry-avenue-craigieburn-vic-3064-16063808',\n",
       " 'https://www.domain.com.au/2-90-toorak-road-west-south-yarra-vic-3141-16010912',\n",
       " 'https://www.domain.com.au/31-vicars-avenue-wonthaggi-vic-3995-16063805',\n",
       " 'https://www.domain.com.au/40-andrews-avenue-reservoir-vic-3073-16063802',\n",
       " 'https://www.domain.com.au/2-250-myers-street-geelong-vic-3220-16063800',\n",
       " 'https://www.domain.com.au/2-61-little-oxford-street-collingwood-vic-3066-16061683',\n",
       " 'https://www.domain.com.au/5-budd-street-brighton-vic-3186-16063793',\n",
       " 'https://www.domain.com.au/72-balmoral-avenue-pascoe-vale-south-vic-3044-16063780',\n",
       " 'https://www.domain.com.au/19-duke-street-yarram-vic-3971-16063778',\n",
       " 'https://www.domain.com.au/405-39-queen-street-melbourne-vic-3000-16063772',\n",
       " 'https://www.domain.com.au/2-17-sarton-road-clayton-vic-3168-14970451',\n",
       " 'https://www.domain.com.au/1-453-kooyong-rd-elsternwick-vic-3185-16063736',\n",
       " 'https://www.domain.com.au/9-niseko-crescent-pakenham-vic-3810-16063755',\n",
       " 'https://www.domain.com.au/14-exford-road-melton-south-vic-3338-16063753',\n",
       " 'https://www.domain.com.au/45-mullingar-drive-alfredton-vic-3350-16063743',\n",
       " 'https://www.domain.com.au/904-50-claremont-street-south-yarra-vic-3141-16063745',\n",
       " 'https://www.domain.com.au/117-58-douglas-street-noble-park-vic-3174-10004676',\n",
       " 'https://www.domain.com.au/113-68-cambridge-street-collingwood-vic-3066-16063742',\n",
       " 'https://www.domain.com.au/15-21-irving-avenue-prahran-vic-3181-15635697',\n",
       " 'https://www.domain.com.au/59-rosina-drive-melton-vic-3337-16063733',\n",
       " 'https://www.domain.com.au/357-bell-street-bellfield-vic-3081-16063729',\n",
       " 'https://www.domain.com.au/32-mansfield-road-euroa-vic-3666-16063725',\n",
       " 'https://www.domain.com.au/2-5-amarina-close-meadow-heights-vic-3048-16063724',\n",
       " 'https://www.domain.com.au/5-144-nicholson-street-coburg-vic-3058-16063720',\n",
       " 'https://www.domain.com.au/34-the-parkway-patterson-lakes-vic-3197-16063714',\n",
       " 'https://www.domain.com.au/2-86-kavanagh-street-southbank-vic-3006-16063710',\n",
       " 'https://www.domain.com.au/205-55-jeffcott-street-west-melbourne-vic-3003-16063709',\n",
       " 'https://www.domain.com.au/3-16-lansdowne-road-st-kilda-east-vic-3183-16063700',\n",
       " 'https://www.domain.com.au/64-kansas-avenue-bell-post-hill-vic-3215-16063699',\n",
       " 'https://www.domain.com.au/212-36-38-darling-street-south-yarra-vic-3141-16063697',\n",
       " 'https://www.domain.com.au/34-ashford-drive-pakenham-vic-3810-16063692',\n",
       " 'https://www.domain.com.au/3-67-margaret-street-clayton-vic-3168-16063691',\n",
       " 'https://www.domain.com.au/2-14-donna-buang-street-camberwell-vic-3124-16063689',\n",
       " 'https://www.domain.com.au/508s-883-collins-street-docklands-vic-3008-15566830',\n",
       " 'https://www.domain.com.au/1702-8-downie-street-melbourne-vic-3000-16063683',\n",
       " 'https://www.domain.com.au/2-14-carrier-street-benalla-vic-3672-16063680',\n",
       " 'https://www.domain.com.au/113-350-st-kilda-road-melbourne-vic-3004-16063679',\n",
       " 'https://www.domain.com.au/14-mingay-close-truganina-vic-3029-15074470',\n",
       " 'https://www.domain.com.au/6-9-eddy-street-camberwell-vic-3124-16063669',\n",
       " 'https://www.domain.com.au/26-mcconnachie-court-epsom-vic-3551-9238704',\n",
       " 'https://www.domain.com.au/91-grant-st-forrest-vic-3236-16063661',\n",
       " 'https://www.domain.com.au/1308-628-flinders-street-docklands-vic-3008-16063659',\n",
       " 'https://www.domain.com.au/11-bage-street-diamond-creek-vic-3089-16063647',\n",
       " 'https://www.domain.com.au/4-29-marine-parade-st-kilda-vic-3182-16063644',\n",
       " 'https://www.domain.com.au/403-1-porter-street-hawthorn-east-vic-3123-16063643',\n",
       " 'https://www.domain.com.au/4-151-canterbury-road-toorak-vic-3142-16063497',\n",
       " 'https://www.domain.com.au/1-10-12-chanak-street-malvern-east-vic-3145-16063635',\n",
       " 'https://www.domain.com.au/2-144-porter-road-heidelberg-heights-vic-3081-16063633',\n",
       " 'https://www.domain.com.au/6-pascal-crescent-kalkallo-vic-3064-16063627',\n",
       " 'https://www.domain.com.au/7-35-murray-street-brunswick-west-vic-3055-16063624',\n",
       " 'https://www.domain.com.au/1-17-clarke-street-thomastown-vic-3074-16063619',\n",
       " 'https://www.domain.com.au/2-4-ralston-street-south-yarra-vic-3141-16063618',\n",
       " 'https://www.domain.com.au/2-184-mason-street-newport-vic-3015-16063614',\n",
       " 'https://www.domain.com.au/402-6-butler-camberwell-vic-3124-16063613',\n",
       " 'https://www.domain.com.au/35-kinglake-drive-wyndham-vale-vic-3024-16063611',\n",
       " 'https://www.domain.com.au/511-8-garden-street-south-yarra-vic-3141-16063607',\n",
       " 'https://www.domain.com.au/6-28-ardyne-street-murrumbeena-vic-3163-16063604',\n",
       " 'https://www.domain.com.au/12-wayland-road-truganina-vic-3029-16063599',\n",
       " 'https://www.domain.com.au/218-66-mt-alexander-road-travancore-vic-3032-16063596',\n",
       " 'https://www.domain.com.au/2-9-st-vigeons-road-reservoir-vic-3073-16063589',\n",
       " 'https://www.domain.com.au/32a-hopetoun-street-ballarat-east-vic-3350-16063585',\n",
       " 'https://www.domain.com.au/11-plym-street-bentleigh-vic-3204-16063582',\n",
       " 'https://www.domain.com.au/4-ruby-place-werribee-vic-3030-15697969',\n",
       " 'https://www.domain.com.au/27-shanklin-st-hurstbridge-vic-3099-16063576',\n",
       " 'https://www.domain.com.au/3-bonview-circuit-truganina-vic-3029-16063573',\n",
       " 'https://www.domain.com.au/12-franzi-street-guildford-vic-3451-16063569',\n",
       " 'https://www.domain.com.au/4-67-walsh-street-south-yarra-vic-3141-16063567',\n",
       " 'https://www.domain.com.au/14-lady-penryhn-avenue-wyndham-vale-vic-3024-16063556',\n",
       " 'https://www.domain.com.au/23-golflinks-drive-mill-park-vic-3082-12079228',\n",
       " 'https://www.domain.com.au/24-montalto-avenue-toorak-vic-3142-16063542',\n",
       " 'https://www.domain.com.au/445-geelong-road-yarraville-vic-3013-16063537',\n",
       " 'https://www.domain.com.au/12-scorchin-drive-cranbourne-south-vic-3977-16063534',\n",
       " 'https://www.domain.com.au/14-romeo-court-mill-park-vic-3082-16063531',\n",
       " 'https://www.domain.com.au/7-130-alexandra-street-st-kilda-east-vic-3183-16063528',\n",
       " 'https://www.domain.com.au/20-deutgam-street-werribee-vic-3030-16063527',\n",
       " 'https://www.domain.com.au/3-the-grove-boronia-vic-3155-16063524',\n",
       " 'https://www.domain.com.au/8-854-pascoe-vale-road-glenroy-vic-3046-16063522',\n",
       " 'https://www.domain.com.au/13-branigan-drive-kilmore-vic-3764-13248078',\n",
       " 'https://www.domain.com.au/67-546-flinders-street-melbourne-vic-3000-5338215',\n",
       " 'https://www.domain.com.au/3-37-fisher-street-malvern-east-vic-3145-16063516',\n",
       " 'https://www.domain.com.au/2-29-mitford-street-st-kilda-vic-3182-16063514',\n",
       " 'https://www.domain.com.au/65-lake-gardens-avenue-lake-gardens-vic-3355-16063504',\n",
       " 'https://www.domain.com.au/3-ajana-street-balwyn-north-vic-3104-16063499',\n",
       " 'https://www.domain.com.au/6-lee-street-deer-park-vic-3023-16063483',\n",
       " 'https://www.domain.com.au/2-callistemon-circuit-lara-vic-3212-16063496',\n",
       " 'https://www.domain.com.au/18-anwyl-close-mildura-vic-3500-16063495',\n",
       " 'https://www.domain.com.au/15-norval-crescent-coolaroo-vic-3048-15338458',\n",
       " 'https://www.domain.com.au/208-324-pascoe-vale-road-essendon-vic-3040-16063494',\n",
       " 'https://www.domain.com.au/3-1587-point-nepean-road-capel-sound-vic-3940-15866870',\n",
       " 'https://www.domain.com.au/7-334-339-station-street-chelsea-vic-3196-16063489',\n",
       " 'https://www.domain.com.au/1-108-hotham-street-st-kilda-east-vic-3183-16063486',\n",
       " 'https://www.domain.com.au/2-26-canning-street-north-melbourne-vic-3051-16063485',\n",
       " 'https://www.domain.com.au/lg6-52-darling-street-south-yarra-vic-3141-16063479',\n",
       " 'https://www.domain.com.au/2-16-liddiard-street-hawthorn-vic-3122-16063478',\n",
       " 'https://www.domain.com.au/8-14-maroona-road-carnegie-vic-3163-16063477',\n",
       " 'https://www.domain.com.au/16f-54-la-scala-avenue-maribyrnong-vic-3032-14989099',\n",
       " 'https://www.domain.com.au/1212-151-city-road-southbank-vic-3006-16063475',\n",
       " 'https://www.domain.com.au/117-38-kavanagh-street-southbank-vic-3006-16063474',\n",
       " 'https://www.domain.com.au/64-glyndon-road-camberwell-vic-3124-16063463',\n",
       " 'https://www.domain.com.au/30-parrakeet-road-werribee-vic-3030-16063464',\n",
       " 'https://www.domain.com.au/10-fantail-street-winter-valley-vic-3358-15291696',\n",
       " 'https://www.domain.com.au/6-40-army-road-pakenham-vic-3810-16063456',\n",
       " 'https://www.domain.com.au/24-oakview-parade-caroline-springs-vic-3023-16063452',\n",
       " 'https://www.domain.com.au/10-18-gerald-street-murrumbeena-vic-3163-16063451',\n",
       " 'https://www.domain.com.au/31-morshead-street-melton-south-vic-3338-16063448',\n",
       " 'https://www.domain.com.au/57-hardy-loop-keysborough-vic-3173-16063447',\n",
       " 'https://www.domain.com.au/10-k7-high-street-windsor-vic-3181-16063444',\n",
       " 'https://www.domain.com.au/9-caddy-court-reservoir-vic-3073-16063442',\n",
       " 'https://www.domain.com.au/16-melissa-street-strathmore-vic-3041-16063439',\n",
       " 'https://www.domain.com.au/1-29-the-avenue-windsor-vic-3181-16063438',\n",
       " 'https://www.domain.com.au/29-70-church-street-hawthorn-vic-3122-16063437',\n",
       " 'https://www.domain.com.au/unit-3-40-mckenzie-street-broadford-vic-3658-16063434',\n",
       " 'https://www.domain.com.au/9-cobb-court-kangaroo-flat-vic-3555-16063433',\n",
       " 'https://www.domain.com.au/3-michael-court-noble-park-vic-3174-13464486',\n",
       " 'https://www.domain.com.au/2-11-apsley-street-glenroy-vic-3046-15307058',\n",
       " 'https://www.domain.com.au/503-9-dryburgh-street-west-melbourne-vic-3003-16063432',\n",
       " 'https://www.domain.com.au/1016-233-collins-st-melbourne-vic-3000-16063430',\n",
       " 'https://www.domain.com.au/222-416-st-kilda-road-melbourne-vic-3004-16063428',\n",
       " 'https://www.domain.com.au/10-coonamar-street-tullamarine-vic-3043-15710692',\n",
       " 'https://www.domain.com.au/18-renown-street-maidstone-vic-3012-16063417',\n",
       " 'https://www.domain.com.au/18-albatross-road-lakes-entrance-vic-3909-14140108',\n",
       " 'https://www.domain.com.au/2-delatite-close-epping-vic-3076-16063416',\n",
       " 'https://www.domain.com.au/4-6-7-rose-court-tatura-vic-3616-16063414',\n",
       " 'https://www.domain.com.au/4-marrang-way-point-cook-vic-3030-16063408',\n",
       " 'https://www.domain.com.au/20-adrianus-street-alfredton-vic-3350-16063406',\n",
       " 'https://www.domain.com.au/314-cuthberts-road-lucas-vic-3350-16063404',\n",
       " 'https://www.domain.com.au/45a-loch-park-road-traralgon-vic-3844-16063403',\n",
       " 'https://www.domain.com.au/12-celadon-street-epping-vic-3076-16063401',\n",
       " 'https://www.domain.com.au/3-20-neville-street-keilor-east-vic-3033-16063397',\n",
       " 'https://www.domain.com.au/4-40-chaleyer-street-reservoir-vic-3073-16063395',\n",
       " 'https://www.domain.com.au/101b-1091-plenty-road-bundoora-vic-3083-16063393',\n",
       " 'https://www.domain.com.au/2-10-westley-street-ferntree-gully-vic-3156-13184110',\n",
       " 'https://www.domain.com.au/13-gumbowie-avenue-clifton-springs-vic-3222-16063383',\n",
       " 'https://www.domain.com.au/3-3-graham-street-wonthaggi-vic-3995-16063382',\n",
       " 'https://www.domain.com.au/4-tyrrell-close-corio-vic-3214-16063377',\n",
       " 'https://www.domain.com.au/2704-245-city-road-southbank-vic-3006-16063376',\n",
       " 'https://www.domain.com.au/3-46-elsey-road-reservoir-vic-3073-16063375',\n",
       " 'https://www.domain.com.au/2-12-gordon-street-croydon-vic-3136-16063374',\n",
       " 'https://www.domain.com.au/7-12-15-vilnius-way-truganina-vic-3029-16063372',\n",
       " 'https://www.domain.com.au/9-2-marne-street-south-yarra-vic-3141-16063371',\n",
       " 'https://www.domain.com.au/7-35-powlett-street-east-melbourne-vic-3002-16063366',\n",
       " 'https://www.domain.com.au/3-79-barkly-street-st-kilda-vic-3182-16063362',\n",
       " 'https://www.domain.com.au/32-kardinia-street-belmont-vic-3216-16063360',\n",
       " 'https://www.domain.com.au/1-30-silver-gum-drive-pakenham-vic-3810-16063357',\n",
       " 'https://www.domain.com.au/16-perry-lane-ascot-vic-3551-16063358',\n",
       " 'https://www.domain.com.au/317-157-fitzroy-st-st-kilda-vic-3182-16052469',\n",
       " 'https://www.domain.com.au/601a-keilor-road-niddrie-vic-3042-16063355',\n",
       " 'https://www.domain.com.au/10-sahara-way-truganina-vic-3029-16063351',\n",
       " 'https://www.domain.com.au/47-bellairs-avenue-yarraville-vic-3013-16063348',\n",
       " 'https://www.domain.com.au/32-thornton-avenue-bundoora-vic-3083-16063347',\n",
       " 'https://www.domain.com.au/690-canning-street-carlton-north-vic-3054-16063345',\n",
       " 'https://www.domain.com.au/5-4-6-zealandia-road-east-croydon-north-vic-3136-16063344',\n",
       " 'https://www.domain.com.au/1107s-889-collins-street-docklands-vic-3008-16063342',\n",
       " 'https://www.domain.com.au/203-55-59-earl-street-kew-vic-3101-14793341',\n",
       " 'https://www.domain.com.au/11-grenda-drive-mill-park-vic-3082-16063339',\n",
       " 'https://www.domain.com.au/1-508-blackburn-road-doncaster-east-vic-3109-16063337',\n",
       " 'https://www.domain.com.au/8-sheahans-road-templestowe-lower-vic-3107-16063336',\n",
       " 'https://www.domain.com.au/6-rolls-street-coburg-vic-3058-16063327',\n",
       " 'https://www.domain.com.au/4501-33-rose-lane-melbourne-vic-3000-16063319',\n",
       " 'https://www.domain.com.au/17-kasem-drive-werribee-vic-3030-16063317',\n",
       " 'https://www.domain.com.au/18-montgomery-street-heidelberg-heights-vic-3081-16063314',\n",
       " 'https://www.domain.com.au/1-134-spring-street-reservoir-vic-3073-14800179',\n",
       " 'https://www.domain.com.au/44-rennie-street-coburg-vic-3058-14385138',\n",
       " 'https://www.domain.com.au/1116-52-54-osullivan-road-glen-waverley-vic-3150-13753386',\n",
       " 'https://www.domain.com.au/105-801-centre-road-bentleigh-east-vic-3165-16063308',\n",
       " 'https://www.domain.com.au/2-112-lonsdale-street-redan-vic-3350-16063305',\n",
       " 'https://www.domain.com.au/20-seabeach-parade-north-shore-vic-3214-16063304',\n",
       " 'https://www.domain.com.au/47-painted-hills-road-doreen-vic-3754-16063299',\n",
       " 'https://www.domain.com.au/4-28-raleigh-street-prahran-vic-3181-16063297',\n",
       " 'https://www.domain.com.au/7-145-brighton-road-elwood-vic-3184-16063298',\n",
       " 'https://www.domain.com.au/11-30-murphy-street-south-yarra-vic-3141-16063296',\n",
       " 'https://www.domain.com.au/201a-ascot-vale-road-ascot-vale-vic-3032-15725049',\n",
       " 'https://www.domain.com.au/52a-burrindi-road-caulfield-south-vic-3162-16063292',\n",
       " 'https://www.domain.com.au/36-murray-anderson-road-rosebud-vic-3939-16063290',\n",
       " 'https://www.domain.com.au/547-horsham-noradjuha-road-horsham-vic-3400-16063291',\n",
       " 'https://www.domain.com.au/1-377-bay-road-cheltenham-vic-3192-16063286',\n",
       " 'https://www.domain.com.au/15-60-arthur-st-south-yarra-vic-3141-14600343',\n",
       " 'https://www.domain.com.au/1-137-greaves-street-werribee-vic-3030-16063278',\n",
       " 'https://www.domain.com.au/14-jefferson-avenue-cranbourne-north-vic-3977-16063276',\n",
       " 'https://www.domain.com.au/55-cole-street-williamstown-vic-3016-14228487',\n",
       " 'https://www.domain.com.au/2-65-george-street-fitzroy-vic-3065-16063272',\n",
       " 'https://www.domain.com.au/6-the-oaks-avenue-pakenham-vic-3810-16063273',\n",
       " 'https://www.domain.com.au/206-35-wilson-st-south-yarra-vic-3141-15268110',\n",
       " 'https://www.domain.com.au/2-lisabritt-court-mount-martha-vic-3934-16063269',\n",
       " 'https://www.domain.com.au/3-92-bladin-street-laverton-vic-3028-16063266',\n",
       " 'https://www.domain.com.au/804-tress-street-mount-pleasant-vic-3350-16063263',\n",
       " 'https://www.domain.com.au/7-hare-street-morwell-vic-3840-16052577',\n",
       " 'https://www.domain.com.au/17-gunnedah-street-albion-vic-3020-16063262',\n",
       " 'https://www.domain.com.au/202-1565-malvern-road-glen-iris-vic-3146-16063261',\n",
       " 'https://www.domain.com.au/23-ebdale-street-frankston-vic-3199-16063260',\n",
       " 'https://www.domain.com.au/116-45-york-street-richmond-vic-3121-16063259',\n",
       " 'https://www.domain.com.au/31-charles-street-wallan-vic-3756-16063258',\n",
       " 'https://www.domain.com.au/8-sunline-street-drouin-vic-3818-16063256',\n",
       " 'https://www.domain.com.au/2302-5-sutherland-street-melbourne-vic-3000-16063252',\n",
       " 'https://www.domain.com.au/32-harmony-road-ascot-vale-vic-3032-16063247',\n",
       " 'https://www.domain.com.au/1-masters-street-dandenong-vic-3175-16063246',\n",
       " 'https://www.domain.com.au/1-24-ascot-street-doncaster-east-vic-3109-16063243',\n",
       " 'https://www.domain.com.au/26-stafford-street-footscray-vic-3011-16063223',\n",
       " 'https://www.domain.com.au/12a-310-bangerang-road-echuca-village-vic-3564-16063235',\n",
       " 'https://www.domain.com.au/7-138-new-street-brighton-vic-3186-16063233',\n",
       " 'https://www.domain.com.au/108-9-hewitt-avenue-footscray-vic-3011-16063229',\n",
       " 'https://www.domain.com.au/6-stonehaven-road-traralgon-vic-3844-16063227',\n",
       " 'https://www.domain.com.au/402-6-station-st-moorabbin-vic-3189-16063226',\n",
       " 'https://www.domain.com.au/9-106-addison-street-elwood-vic-3184-16063225',\n",
       " 'https://www.domain.com.au/20-luella-lane-pakenham-vic-3810-16063222',\n",
       " 'https://www.domain.com.au/129-daley-st-glenroy-vic-3046-16063220',\n",
       " 'https://www.domain.com.au/30-luella-lane-pakenham-vic-3810-16063219',\n",
       " 'https://www.domain.com.au/9-1-dalgety-street-st-kilda-vic-3182-16063218',\n",
       " 'https://www.domain.com.au/118-20-camberwell-road-hawthorn-east-vic-3123-16063217',\n",
       " 'https://www.domain.com.au/22-featherpark-way-craigieburn-vic-3064-16063216',\n",
       " 'https://www.domain.com.au/7-lansdowne-street-sale-vic-3850-16063215',\n",
       " 'https://www.domain.com.au/2-4-eulinga-drive-mildura-vic-3500-16063213',\n",
       " 'https://www.domain.com.au/8-11-kemp-street-thornbury-vic-3071-16063211',\n",
       " 'https://www.domain.com.au/9-brunning-street-balaclava-vic-3183-16063203',\n",
       " 'https://www.domain.com.au/4-2-selwyn-avenue-elwood-vic-3184-16063201',\n",
       " 'https://www.domain.com.au/1-13-crimea-street-caulfield-north-vic-3161-16063194',\n",
       " 'https://www.domain.com.au/3-231-peel-st-north-melbourne-vic-3051-16035329',\n",
       " 'https://www.domain.com.au/1-25-eumeralla-road-caulfield-south-vic-3162-16063185',\n",
       " 'https://www.domain.com.au/99-derby-drive-epping-vic-3076-16063181',\n",
       " 'https://www.domain.com.au/147-henry-street-greensborough-vic-3088-16063180',\n",
       " 'https://www.domain.com.au/3-4-orrong-road-elsternwick-vic-3185-16063179',\n",
       " 'https://www.domain.com.au/4-867-883-drummond-street-carlton-north-vic-3054-16063178',\n",
       " 'https://www.domain.com.au/5-2-10-creekwood-drive-craigieburn-vic-3064-16063171',\n",
       " 'https://www.domain.com.au/1-4-newton-street-thomastown-vic-3074-15197998',\n",
       " 'https://www.domain.com.au/708-39-coventry-street-southbank-vic-3006-16063170',\n",
       " 'https://www.domain.com.au/13-sherwood-street-tarneit-vic-3029-16063167',\n",
       " 'https://www.domain.com.au/3-30-heyington-crescent-noble-park-north-vic-3174-16063164',\n",
       " 'https://www.domain.com.au/3-20-shankland-blvd-meadow-heights-vic-3048-16063163',\n",
       " 'https://www.domain.com.au/4-3-alexander-court-broadmeadows-vic-3047-13973849',\n",
       " 'https://www.domain.com.au/1-17-spring-gully-road-quarry-hill-vic-3550-16063159',\n",
       " 'https://www.domain.com.au/1-disraeli-grove-pascoe-vale-south-vic-3044-16063158',\n",
       " 'https://www.domain.com.au/6-54-hill-street-bentleigh-east-vic-3165-16063155',\n",
       " 'https://www.domain.com.au/6-vintage-avenue-doncaster-vic-3108-15964518',\n",
       " 'https://www.domain.com.au/17-burnett-street-mitcham-vic-3132-16063154',\n",
       " 'https://www.domain.com.au/71-the-crescent-kensington-vic-3031-16063148',\n",
       " 'https://www.domain.com.au/25-mahogany-drive-mildura-vic-3500-16063147',\n",
       " 'https://www.domain.com.au/22-palmer-avenue-point-cook-vic-3030-16063145',\n",
       " 'https://www.domain.com.au/3-20-epsom-road-ascot-vale-vic-3032-16063144',\n",
       " 'https://www.domain.com.au/13-windsor-rise-sunbury-vic-3429-16063143',\n",
       " 'https://www.domain.com.au/1908-570-lygon-street-carlton-vic-3053-16063135',\n",
       " 'https://www.domain.com.au/1-178-lower-heidelberg-road-ivanhoe-east-vic-3079-16063140',\n",
       " 'https://www.domain.com.au/625-118-franklin-street-melbourne-vic-3000-16063139',\n",
       " 'https://www.domain.com.au/100-rosanna-road-heidelberg-vic-3084-16063137',\n",
       " 'https://www.domain.com.au/19-vickers-avenue-strathmore-heights-vic-3041-16063136',\n",
       " 'https://www.domain.com.au/4-88-grandview-grove-rosanna-vic-3084-16063133',\n",
       " 'https://www.domain.com.au/207-56-harp-road-kew-vic-3101-16063131',\n",
       " 'https://www.domain.com.au/614-5-olive-york-way-brunswick-west-vic-3055-15426148',\n",
       " 'https://www.domain.com.au/4-9-findlay-street-cowes-vic-3922-16063129',\n",
       " 'https://www.domain.com.au/1-17-spring-gully-road-quarry-hill-vic-3550-10634295',\n",
       " 'https://www.domain.com.au/2-tanika-walk-epping-vic-3076-12708064',\n",
       " 'https://www.domain.com.au/2-72-victoria-street-brunswick-east-vic-3057-16063123',\n",
       " 'https://www.domain.com.au/10-lydia-street-brunswick-vic-3056-16063117',\n",
       " 'https://www.domain.com.au/53-duke-street-windsor-vic-3181-16063116',\n",
       " 'https://www.domain.com.au/67-jetty-road-rosebud-vic-3939-15748425',\n",
       " 'https://www.domain.com.au/1-25-burrows-avenue-dandenong-vic-3175-16063113',\n",
       " 'https://www.domain.com.au/13-40-gorge-road-south-morang-vic-3752-16063109',\n",
       " 'https://www.domain.com.au/2307-8-kavanagh-street-southbank-vic-3006-16063108',\n",
       " 'https://www.domain.com.au/36-ronald-road-croydon-vic-3136-16063106',\n",
       " 'https://www.domain.com.au/46-mirls-street-newport-vic-3015-14275677',\n",
       " 'https://www.domain.com.au/2-11-memorial-avenue-epping-vic-3076-16063103',\n",
       " 'https://www.domain.com.au/2-milverton-lane-canadian-vic-3350-16063102',\n",
       " 'https://www.domain.com.au/14-1-village-way-pakenham-vic-3810-16063098',\n",
       " 'https://www.domain.com.au/23-12-14-venice-street-mentone-vic-3194-16063095',\n",
       " 'https://www.domain.com.au/15-18-lernes-street-forest-hill-vic-3131-16063088',\n",
       " 'https://www.domain.com.au/10-powrie-court-ringwood-north-vic-3134-16063087',\n",
       " 'https://www.domain.com.au/36-middleton-road-armstrong-creek-vic-3217-16063084',\n",
       " 'https://www.domain.com.au/20-clairmont-avenue-cranbourne-vic-3977-16063083',\n",
       " 'https://www.domain.com.au/1-17-esdale-street-blackburn-vic-3130-16063080',\n",
       " 'https://www.domain.com.au/51-banksia-street-eaglemont-vic-3084-16063069',\n",
       " 'https://www.domain.com.au/3601-8-sutherland-street-melbourne-vic-3000-16063063',\n",
       " 'https://www.domain.com.au/24-keskadale-way-clyde-vic-3978-16063062',\n",
       " 'https://www.domain.com.au/4-9-king-street-dandenong-vic-3175-16063059',\n",
       " 'https://www.domain.com.au/65-high-street-eaglehawk-vic-3556-12933490',\n",
       " 'https://www.domain.com.au/b209-26-leonard-crescent-ascot-vale-vic-3032-16034051',\n",
       " 'https://www.domain.com.au/5-42-liege-avenue-noble-park-vic-3174-16063055',\n",
       " 'https://www.domain.com.au/50-mcivor-forest-drive-junortoun-vic-3551-14624269',\n",
       " 'https://www.domain.com.au/9-33-charnwood-road-st-kilda-vic-3182-16063029',\n",
       " 'https://www.domain.com.au/107-3-dixon-street-clayton-vic-3168-16063052',\n",
       " 'https://www.domain.com.au/33-oak-street-wendouree-vic-3355-16063042',\n",
       " 'https://www.domain.com.au/5-30-mclean-street-brunswick-west-vic-3055-16063041',\n",
       " 'https://www.domain.com.au/118-stradbroke-avenue-swan-hill-vic-3585-16063040',\n",
       " 'https://www.domain.com.au/12-ormonde-esplanade-harkness-vic-3337-16063038',\n",
       " 'https://www.domain.com.au/2-6-carlyle-street-hawthorn-east-vic-3123-12153006',\n",
       " 'https://www.domain.com.au/304-350-victoria-street-north-melbourne-vic-3051-16063026',\n",
       " 'https://www.domain.com.au/3-matotek-court-mildura-vic-3500-16063019',\n",
       " 'https://www.domain.com.au/56-davies-street-altona-vic-3018-16063016',\n",
       " 'https://www.domain.com.au/3-8-leila-road-ormond-vic-3204-16063014',\n",
       " 'https://www.domain.com.au/60-alabaster-avenue-cobblebank-vic-3338-16063009',\n",
       " 'https://www.domain.com.au/2-21-melbourne-avenue-glenroy-vic-3046-16063007',\n",
       " 'https://www.domain.com.au/6-137-warrandyte-road-ringwood-north-vic-3134-15140364',\n",
       " 'https://www.domain.com.au/18-131-parker-street-templestowe-vic-3106-15402197',\n",
       " 'https://www.domain.com.au/23-harold-street-glenroy-vic-3046-16062992',\n",
       " 'https://www.domain.com.au/33-monkhouse-drive-endeavour-hills-vic-3802-16062991',\n",
       " 'https://www.domain.com.au/63-plume-street-norlane-vic-3214-16062989',\n",
       " 'https://www.domain.com.au/4-109-balwyn-road-balwyn-vic-3103-15557700',\n",
       " 'https://www.domain.com.au/1-west-court-glen-waverley-vic-3150-16062988',\n",
       " 'https://www.domain.com.au/2-88-somerville-road-yarraville-vic-3013-16062987',\n",
       " 'https://www.domain.com.au/4-6-8-murray-court-cranbourne-vic-3977-16062984',\n",
       " 'https://www.domain.com.au/2-17-green-street-ivanhoe-vic-3079-16062979',\n",
       " 'https://www.domain.com.au/7-125-arthur-street-fairfield-vic-3078-15986927',\n",
       " 'https://www.domain.com.au/5-20-22-kristen-close-glen-waverley-vic-3150-16062976',\n",
       " 'https://www.domain.com.au/7-125-arthur-street-fairfield-vic-3078-15986926',\n",
       " 'https://www.domain.com.au/108-3-victoria-street-windsor-vic-3181-16062975',\n",
       " 'https://www.domain.com.au/26-wattle-drive-watsonia-vic-3087-16062972',\n",
       " 'https://www.domain.com.au/3-877-punt-road-south-yarra-vic-3141-16062970',\n",
       " 'https://www.domain.com.au/4-8-murrell-street-glenroy-vic-3046-16062969',\n",
       " 'https://www.domain.com.au/38-helen-street-st-albans-vic-3021-16062967',\n",
       " 'https://www.domain.com.au/2-17-kirstina-road-glen-waverley-vic-3150-16062966',\n",
       " 'https://www.domain.com.au/8-19-robin-drive-carrum-downs-vic-3201-16062965',\n",
       " 'https://www.domain.com.au/7-ironbark-drive-benalla-vic-3672-16062963',\n",
       " 'https://www.domain.com.au/26a-loyola-grove-burnley-vic-3121-16062962',\n",
       " 'https://www.domain.com.au/18-coupling-way-glenroy-vic-3046-16062958',\n",
       " 'https://www.domain.com.au/40-shannon-avenue-geelong-west-vic-3218-16062957',\n",
       " 'https://www.domain.com.au/1522-850-whitehorse-road-box-hill-vic-3128-16062956',\n",
       " 'https://www.domain.com.au/3-raymond-grove-caulfield-south-vic-3162-16062955',\n",
       " 'https://www.domain.com.au/15-wendy-way-pakenham-vic-3810-15297639',\n",
       " 'https://www.domain.com.au/56-wellington-road-clayton-vic-3168-16062948',\n",
       " 'https://www.domain.com.au/6-31-abinger-street-richmond-vic-3121-16062938',\n",
       " 'https://www.domain.com.au/2-78-pethajohn-parade-grovedale-vic-3216-16062935',\n",
       " 'https://www.domain.com.au/2-1-palm-court-st-kilda-east-vic-3183-16062930',\n",
       " 'https://www.domain.com.au/21-rivergum-court-north-bendigo-vic-3550-16062929',\n",
       " 'https://www.domain.com.au/5-goegan-street-werribee-vic-3030-16062927',\n",
       " 'https://www.domain.com.au/8-bells-lane-brown-hill-vic-3350-16062923',\n",
       " 'https://www.domain.com.au/320-3-hoddle-street-collingwood-vic-3066-16062922',\n",
       " 'https://www.domain.com.au/44-derwent-drive-long-gully-vic-3550-16062921',\n",
       " 'https://www.domain.com.au/2-1-sturt-street-cobram-vic-3644-16062919',\n",
       " 'https://www.domain.com.au/10-30-selwyn-avenue-elwood-vic-3184-16062918',\n",
       " 'https://www.domain.com.au/5-24-28-yarraman-road-noble-park-vic-3174-16062915',\n",
       " 'https://www.domain.com.au/58-hinkler-road-glen-waverley-vic-3150-16062906',\n",
       " 'https://www.domain.com.au/24-rosenthal-crescent-reservoir-vic-3073-16062902',\n",
       " 'https://www.domain.com.au/19-murnong-street-leopold-vic-3224-16062901',\n",
       " 'https://www.domain.com.au/201-1193-nepean-hwy-highett-vic-3190-16062899',\n",
       " 'https://www.domain.com.au/4-8-10-kingsley-court-yarrawonga-vic-3730-14330167',\n",
       " 'https://www.domain.com.au/21-murnong-street-leopold-vic-3224-16062896',\n",
       " 'https://www.domain.com.au/307-106-112-queensberry-street-carlton-vic-3053-16062894',\n",
       " 'https://www.domain.com.au/407-68-70-dorcas-street-southbank-vic-3006-14556691',\n",
       " 'https://www.domain.com.au/28-huntingfield-drive-doncaster-east-vic-3109-16062887',\n",
       " 'https://www.domain.com.au/86-lackenheath-dr-tullamarine-vic-3043-15362648',\n",
       " 'https://www.domain.com.au/22-flagstaff-loop-craigieburn-vic-3064-16062881',\n",
       " 'https://www.domain.com.au/22-eldridge-street-footscray-vic-3011-16062878',\n",
       " 'https://www.domain.com.au/56-leopold-crescent-hampton-park-vic-3976-16062874',\n",
       " 'https://www.domain.com.au/34-precinct-walk-clyde-north-vic-3978-16062873',\n",
       " 'https://www.domain.com.au/5-67-wellington-road-portland-vic-3305-16062869',\n",
       " 'https://www.domain.com.au/503-8-bowen-crescent-melbourne-vic-3004-16062867',\n",
       " 'https://www.domain.com.au/94-coppin-street-richmond-vic-3121-16062861',\n",
       " 'https://www.domain.com.au/2-nerida-court-keysborough-vic-3173-16062860',\n",
       " 'https://www.domain.com.au/27-16-20-milton-street-elwood-vic-3184-15503430',\n",
       " 'https://www.domain.com.au/2-10-bowen-street-moonee-ponds-vic-3039-12176913',\n",
       " 'https://www.domain.com.au/4-lester-st-woori-yallock-vic-3139-16062853',\n",
       " 'https://www.domain.com.au/2-riverside-avenue-balwyn-north-vic-3104-16062851',\n",
       " 'https://www.domain.com.au/6-471-san-mateo-avenue-mildura-vic-3500-16062842',\n",
       " 'https://www.domain.com.au/1201-28-bouverie-street-carlton-vic-3053-16062841',\n",
       " 'https://www.domain.com.au/503-999-whitehorse-road-box-hill-vic-3128-14354487',\n",
       " 'https://www.domain.com.au/15-winmalee-road-balwyn-vic-3103-16062825',\n",
       " 'https://www.domain.com.au/402-42-ralston-street-south-yarra-vic-3141-16062823',\n",
       " 'https://www.domain.com.au/508-7-balcombe-rd-mentone-vic-3194-16062820',\n",
       " 'https://www.domain.com.au/6-ironbark-lane-maidstone-vic-3012-16062815',\n",
       " 'https://www.domain.com.au/21-torrington-street-point-cook-vic-3030-16062814',\n",
       " 'https://www.domain.com.au/156-highfield-road-camberwell-vic-3124-16062806',\n",
       " 'https://www.domain.com.au/2-37-elsie-street-bell-park-vic-3215-16062800',\n",
       " 'https://www.domain.com.au/702-594-st-kilda-road-melbourne-vic-3004-16062777',\n",
       " 'https://www.domain.com.au/9-kilkenny-drive-alfredton-vic-3350-16062776',\n",
       " 'https://www.domain.com.au/12-bursaria-street-jackass-flat-vic-3556-16062759',\n",
       " 'https://www.domain.com.au/2-212-kambrook-road-caulfield-vic-3162-15065065',\n",
       " 'https://www.domain.com.au/12-walbrook-drive-clyde-north-vic-3978-16062755',\n",
       " 'https://www.domain.com.au/42-palmerston-street-west-footscray-vic-3012-16062750',\n",
       " 'https://www.domain.com.au/8-ocean-court-altona-meadows-vic-3028-16062749',\n",
       " 'https://www.domain.com.au/531-1-shamrock-street-abbotsford-vic-3067-14750640',\n",
       " 'https://www.domain.com.au/6207-568-collins-street-melbourne-vic-3000-14488107',\n",
       " 'https://www.domain.com.au/1105-20-24-hepburn-road-doncaster-vic-3108-16062736',\n",
       " 'https://www.domain.com.au/63-australis-drive-williams-landing-vic-3027-16062735',\n",
       " 'https://www.domain.com.au/4-melanesia-court-warrnambool-vic-3280-16062733',\n",
       " 'https://www.domain.com.au/1-4-cabena-crescent-chadstone-vic-3148-15039332',\n",
       " 'https://www.domain.com.au/1206-118-russell-street-melbourne-vic-3000-16062720',\n",
       " 'https://www.domain.com.au/4-3-decathlon-street-bundoora-vic-3083-16062719',\n",
       " 'https://www.domain.com.au/3-16-wantirna-road-ringwood-vic-3134-16062718',\n",
       " 'https://www.domain.com.au/9-chong-court-berwick-vic-3806-16062713',\n",
       " 'https://www.domain.com.au/24-2a-bates-street-malvern-east-vic-3145-16053602',\n",
       " 'https://www.domain.com.au/22-123-millswyn-street-south-yarra-vic-3141-16062712',\n",
       " 'https://www.domain.com.au/301-77-queens-road-melbourne-vic-3004-16062709',\n",
       " 'https://www.domain.com.au/57-centenary-avenue-melton-vic-3337-16062706',\n",
       " 'https://www.domain.com.au/12-myrtle-street-werribee-vic-3030-16062705',\n",
       " 'https://www.domain.com.au/103-munro-street-coburg-vic-3058-16062702',\n",
       " 'https://www.domain.com.au/54-hilton-street-glenroy-vic-3046-16062695',\n",
       " 'https://www.domain.com.au/8-brooklyn-street-point-cook-vic-3030-16062688',\n",
       " 'https://www.domain.com.au/3101-1-balston-street-southbank-vic-3006-16062684',\n",
       " 'https://www.domain.com.au/303-81-argyle-street-fitzroy-vic-3065-16062683',\n",
       " 'https://www.domain.com.au/28-conside-cres-torquay-vic-3228-16062678',\n",
       " 'https://www.domain.com.au/4-20-munro-street-ringwood-vic-3134-16062673',\n",
       " 'https://www.domain.com.au/3-21-jolly-street-frankston-vic-3199-16062672',\n",
       " 'https://www.domain.com.au/6-3-forbes-street-essendon-vic-3040-16062671',\n",
       " 'https://www.domain.com.au/9-6-10-farnham-court-flemington-vic-3031-16062669',\n",
       " 'https://www.domain.com.au/2-66-bruce-street-preston-vic-3072-16062668',\n",
       " 'https://www.domain.com.au/14-hamlet-street-werribee-vic-3030-16062667',\n",
       " 'https://www.domain.com.au/21-mountain-way-doreen-vic-3754-15083911',\n",
       " 'https://www.domain.com.au/32a-cambra-road-belmont-vic-3216-16062658',\n",
       " 'https://www.domain.com.au/56-prudence-parade-point-cook-vic-3030-16062650',\n",
       " 'https://www.domain.com.au/25-victoria-st-footscray-vic-3011-16062648',\n",
       " 'https://www.domain.com.au/44-cherrington-avenue-officer-vic-3809-16062647',\n",
       " 'https://www.domain.com.au/57-baker-street-richmond-vic-3121-16062642',\n",
       " 'https://www.domain.com.au/4-42-rufus-street-epping-vic-3076-16062640',\n",
       " 'https://www.domain.com.au/202-1-kennedy-avenue-richmond-vic-3121-9083115',\n",
       " 'https://www.domain.com.au/15-80-epping-road-epping-vic-3076-16062635',\n",
       " 'https://www.domain.com.au/10-athol-street-roxburgh-park-vic-3064-16062634',\n",
       " 'https://www.domain.com.au/6-grenache-street-point-cook-vic-3030-16062632',\n",
       " 'https://www.domain.com.au/2-401-alma-road-caulfield-north-vic-3161-16062629',\n",
       " 'https://www.domain.com.au/unit-1509-105-clarendon-street-southbank-vic-3006-16062625',\n",
       " 'https://www.domain.com.au/207-699b-barkly-street-west-footscray-vic-3012-16062610',\n",
       " 'https://www.domain.com.au/16-bolitho-terrace-maiden-gully-vic-3551-16062609',\n",
       " 'https://www.domain.com.au/18-monterey-street-diggers-rest-vic-3427-16062608',\n",
       " 'https://www.domain.com.au/2-6-eagling-street-keilor-vic-3036-16062598',\n",
       " 'https://www.domain.com.au/389-napier-street-fitzroy-vic-3065-16062597',\n",
       " 'https://www.domain.com.au/5-tranquil-road-aintree-vic-3336-16062589',\n",
       " 'https://www.domain.com.au/24-gum-road-kings-park-vic-3021-16062587',\n",
       " 'https://www.domain.com.au/3-versant-drive-craigieburn-vic-3064-16062581',\n",
       " 'https://www.domain.com.au/12-133-clarke-street-northcote-vic-3070-16062582',\n",
       " 'https://www.domain.com.au/23-brighton-street-flemington-vic-3031-16062575',\n",
       " 'https://www.domain.com.au/4-12-oxford-street-box-hill-vic-3128-15703416',\n",
       " 'https://www.domain.com.au/2803-483-swanston-street-melbourne-vic-3000-16062567',\n",
       " 'https://www.domain.com.au/4-3-5-leicester-avenue-mount-eliza-vic-3930-16062566',\n",
       " 'https://www.domain.com.au/4-22-kelly-avenue-hampton-east-vic-3188-16062559',\n",
       " 'https://www.domain.com.au/211-59-thistlethwaite-street-south-melbourne-vic-3205-16062558',\n",
       " 'https://www.domain.com.au/24-157-epsom-road-ascot-vale-vic-3032-12812839',\n",
       " 'https://www.domain.com.au/1-42-grandview-grove-prahran-vic-3181-16062555',\n",
       " 'https://www.domain.com.au/2-175-lawrence-road-mount-waverley-vic-3149-16062544',\n",
       " 'https://www.domain.com.au/8a-westley-street-carrum-vic-3197-16062538',\n",
       " 'https://www.domain.com.au/15-24-26-burton-avenue-clayton-vic-3168-16062534',\n",
       " 'https://www.domain.com.au/1317-35-albert-road-melbourne-vic-3004-16062533',\n",
       " 'https://www.domain.com.au/213-3-duggan-street-brunswick-west-vic-3055-15607490',\n",
       " 'https://www.domain.com.au/4-nareeb-court-toorak-vic-3142-16044504',\n",
       " 'https://www.domain.com.au/2-oakwood-court-hillside-vic-3037-16062527',\n",
       " 'https://www.domain.com.au/201-108-flinders-street-melbourne-vic-3000-16062522',\n",
       " 'https://www.domain.com.au/108-ambassador-crescent-point-cook-vic-3030-16062518',\n",
       " 'https://www.domain.com.au/5-elana-court-langwarrin-vic-3910-16062515',\n",
       " 'https://www.domain.com.au/30-charlotte-crescent-wyndham-vale-vic-3024-16062514',\n",
       " 'https://www.domain.com.au/12-3-quat-quatta-avenue-ripponlea-vic-3185-16062513',\n",
       " 'https://www.domain.com.au/4-15-bostock-avenue-manifold-heights-vic-3218-16062508',\n",
       " 'https://www.domain.com.au/29-upton-street-altona-vic-3018-16062503',\n",
       " 'https://www.domain.com.au/g01-130-errol-street-north-melbourne-vic-3051-16062504',\n",
       " 'https://www.domain.com.au/4-45-edgar-street-glen-iris-vic-3146-16062501',\n",
       " 'https://www.domain.com.au/2-50-clyde-street-box-hill-north-vic-3129-16062494',\n",
       " 'https://www.domain.com.au/2-39-banksia-grove-tullamarine-vic-3043-16062492',\n",
       " 'https://www.domain.com.au/104-75-palmerston-crescent-south-melbourne-vic-3205-16062482',\n",
       " 'https://www.domain.com.au/50-atlantis-drive-point-cook-vic-3030-16062481',\n",
       " 'https://www.domain.com.au/16-alamein-st-shepparton-vic-3630-16062478',\n",
       " 'https://www.domain.com.au/910-181-abeckett-street-melbourne-vic-3000-16062474',\n",
       " 'https://www.domain.com.au/1612-70-southbank-boulevard-southbank-vic-3006-16062471',\n",
       " 'https://www.domain.com.au/1-34-jennings-street-kyneton-vic-3444-16062470',\n",
       " 'https://www.domain.com.au/331-gaffney-street-pascoe-vale-vic-3044-16062466',\n",
       " 'https://www.domain.com.au/5-2-kiewa-east-road-tangambalanga-vic-3691-16062468',\n",
       " 'https://www.domain.com.au/15-gurney-crescent-wodonga-vic-3690-16062467',\n",
       " 'https://www.domain.com.au/21-harkaway-road-berwick-vic-3806-16062465',\n",
       " 'https://www.domain.com.au/10-125-grange-road-glen-huntly-vic-3163-16062463',\n",
       " 'https://www.domain.com.au/709-11-cohen-place-melbourne-vic-3000-16062462',\n",
       " 'https://www.domain.com.au/45-anaconda-road-narre-warren-vic-3805-16062442',\n",
       " 'https://www.domain.com.au/42-sunset-boulevard-jacana-vic-3047-16062458',\n",
       " 'https://www.domain.com.au/135-somerville-road-hampton-park-vic-3976-16062444',\n",
       " 'https://www.domain.com.au/4-savile-place-narre-warren-vic-3805-16062445',\n",
       " 'https://www.domain.com.au/1404-60-lorimer-street-docklands-vic-3008-16062438',\n",
       " 'https://www.domain.com.au/1411-120-a-beckett-st-melbourne-vic-3000-16062428',\n",
       " 'https://www.domain.com.au/2-60-william-street-fawkner-vic-3060-16062422',\n",
       " 'https://www.domain.com.au/1-stanger-court-wodonga-vic-3690-16062413',\n",
       " 'https://www.domain.com.au/105-brockley-street-wodonga-vic-3690-16062412',\n",
       " 'https://www.domain.com.au/2-63-king-parade-knoxfield-vic-3180-16062411',\n",
       " ...]"
      ]
     },
     "execution_count": 142,
     "metadata": {},
     "output_type": "execute_result"
    }
   ],
   "source": [
    "listings_groups = pd.read_csv(\"../data/raw/listing_groups.csv\")\n",
    "listings_groups['links']\n",
    "listings = []\n",
    "try:\n",
    "    for group in listings_groups['links']:\n",
    "        data = get_website(group)\n",
    "        soup = BeautifulSoup(data, \"html.parser\")\n",
    "        listings.extend([x.contents[0] for x in soup.find_all('loc') if '-vic-' in x.contents[0]])\n",
    "#         print(listings)\n",
    "except Exception as e:\n",
    "    print(e)\n",
    "    \n",
    "listings"
   ]
  },
  {
   "cell_type": "code",
   "execution_count": 143,
   "metadata": {},
   "outputs": [
    {
     "data": {
      "text/plain": [
       "16025"
      ]
     },
     "execution_count": 143,
     "metadata": {},
     "output_type": "execute_result"
    }
   ],
   "source": [
    "len(listings)"
   ]
  },
  {
   "cell_type": "code",
   "execution_count": 145,
   "metadata": {},
   "outputs": [],
   "source": [
    "listings = pd.DataFrame(listings, columns=['links'])\n",
    "listings.to_csv(\"../data/raw/listings.csv\", index=False)"
   ]
  },
  {
   "cell_type": "markdown",
   "metadata": {},
   "source": [
    "### Get listing data"
   ]
  },
  {
   "cell_type": "code",
   "execution_count": 44,
   "metadata": {},
   "outputs": [],
   "source": [
    "# response = session.get('https://www.domain.com.au/1-sanctuary-way-ascot-vale-vic-3032-16065444', headers=HEADERS)\n",
    "response = session.get('https://www.domain.com.au/805-81-queens-road-melbourne-vic-3004-16067649', headers=HEADERS)\n",
    "\n",
    "listing_data = response.json()"
   ]
  },
  {
   "cell_type": "code",
   "execution_count": 45,
   "metadata": {},
   "outputs": [
    {
     "data": {
      "text/plain": [
       "dict_keys(['pageType', 'pageTitle', 'props', 'digitalData', 'raygunTags'])"
      ]
     },
     "execution_count": 45,
     "metadata": {},
     "output_type": "execute_result"
    }
   ],
   "source": [
    "listing_data.keys()"
   ]
  },
  {
   "cell_type": "code",
   "execution_count": 46,
   "metadata": {},
   "outputs": [
    {
     "data": {
      "text/plain": [
       "16067649"
      ]
     },
     "execution_count": 46,
     "metadata": {},
     "output_type": "execute_result"
    }
   ],
   "source": [
    "listing_data['props']['id']"
   ]
  },
  {
   "cell_type": "code",
   "execution_count": 47,
   "metadata": {},
   "outputs": [
    {
     "data": {
      "text/plain": [
       "dict_keys(['user', 'loginAndReturnUrl', 'signupAndReturnUrl', 'notificationApiUrl', 'listingsMap', 'otherListingsIds', 'address', 'unitNumber', 'streetNumber', 'street', 'suburb', 'postcode', 'stateAbbreviation', 'projectColor', 'createdOn', 'modifiedOn', 'projectName', 'isStandardListing', 'isArchived', 'id', 'listingId', 'listingUrl', 'projectUrl', 'bigProjectLogo', 'smallProjectLogo', 'brandingProjectLogo', 'brandingProjectColor', 'footer', 'propertyType', 'beds', 'phone', 'agencyName', 'propertyDeveloperName', 'agencyLogo', 'agencyBanner', 'agencyProfileUrl', 'propertyDeveloperUrl', 'projectLink', 'websiteLink', 'brandingColor', 'brandingAppearance', 'limitedAgencyMode', 'listingType', 'description', 'fetchUrl', 'headline', 'tagline', 'banner', 'loanfinder', 'schoolCatchment', 'whatIsNearby', 'neighbourhoodInsights', 'locationProfileCards', 'suburbInsights', 'otherProjects', 'gallery', 'additionalLinks', 'header', 'listingSummary', 'propertyProfileUrlSlug', 'agents', 'inspection', 'features', 'structuredFeatures', 'priceGuide', 'stampDutyEstimate', 'map', 'domainSays', 'meta', 'enquiryForm', 'thumborBaseUrl', 'oneFormOptIn', 'estimatedDeviceWidth', 'estimatedDeviceHeight', 'noAds', 'fetchAndPublishUserData', 'shortlistExperimentFlag', 'isLandEstate', 'requiresTrackingConsent', 'placesEnabled', 'displayType', 'backToSearchUrl', 'canGoBackToSearch', 'primaryPropertyType', 'propertyId', 'rentalApplicationActive', 'rentalApplicationData', 'enableDownloadPropertyReport', 'enableMobileBannerAppDriver', 'forceMobileBannerAppDriver', 'enableSuggestedFeatures', 'enableVerticalGallery', 'enableHomepassAPIV2', 'featureFlags', 'homeloansApiBaseUrl', 'mixpanelToken', 'sessionToken', 'isRetirement', 'enablePropertyNextSteps', 'enablePropertyNextStepsBackend', 'isDlfFunnelModalOpen', 'shortlistPriceChange', 'correlationId', 'isRedirectedFromPremarket', 'graphqlApi', 'enableBeforeYouBidNew', 'enableEnquiryCustomisations', 'projectDetails', 'rootGraphQuery'])"
      ]
     },
     "execution_count": 47,
     "metadata": {},
     "output_type": "execute_result"
    }
   ],
   "source": [
    "listing_data['props'].keys()"
   ]
  },
  {
   "cell_type": "code",
   "execution_count": 48,
   "metadata": {},
   "outputs": [
    {
     "data": {
      "text/plain": [
       "'https://www.domain.com.au/805-81-queens-road-melbourne-vic-3004-16067649'"
      ]
     },
     "execution_count": 48,
     "metadata": {},
     "output_type": "execute_result"
    }
   ],
   "source": [
    "listing_data['props']['listingUrl']"
   ]
  },
  {
   "cell_type": "code",
   "execution_count": 67,
   "metadata": {},
   "outputs": [
    {
     "data": {
      "text/html": [
       "<div>\n",
       "<style scoped>\n",
       "    .dataframe tbody tr th:only-of-type {\n",
       "        vertical-align: middle;\n",
       "    }\n",
       "\n",
       "    .dataframe tbody tr th {\n",
       "        vertical-align: top;\n",
       "    }\n",
       "\n",
       "    .dataframe thead th {\n",
       "        text-align: right;\n",
       "    }\n",
       "</style>\n",
       "<table border=\"1\" class=\"dataframe\">\n",
       "  <thead>\n",
       "    <tr style=\"text-align: right;\">\n",
       "      <th></th>\n",
       "      <th>availableFrom</th>\n",
       "      <th>bond</th>\n",
       "      <th>landsize</th>\n",
       "    </tr>\n",
       "  </thead>\n",
       "  <tbody>\n",
       "    <tr>\n",
       "      <th>0</th>\n",
       "      <td>Friday, 2nd September 2022</td>\n",
       "      <td>1651.0</td>\n",
       "      <td>NaN</td>\n",
       "    </tr>\n",
       "    <tr>\n",
       "      <th>1</th>\n",
       "      <td>NaN</td>\n",
       "      <td>NaN</td>\n",
       "      <td>432.0</td>\n",
       "    </tr>\n",
       "  </tbody>\n",
       "</table>\n",
       "</div>"
      ],
      "text/plain": [
       "                availableFrom    bond  landsize\n",
       "0  Friday, 2nd September 2022  1651.0       NaN\n",
       "1                         NaN     NaN     432.0"
      ]
     },
     "execution_count": 67,
     "metadata": {},
     "output_type": "execute_result"
    }
   ],
   "source": [
    "stats = listing_data['props']['listingSummary']['stats']\n",
    "stat_list = {}\n",
    "for d in stats:\n",
    "    stat = {}\n",
    "    stat[d['key']] = d['value']\n",
    "    stat_list.update(stat)\n",
    "    \n",
    "test_list = [stat_list, {'landsize': 432}]\n",
    "pd.DataFrame(test_list)"
   ]
  },
  {
   "cell_type": "markdown",
   "metadata": {},
   "source": [
    "### Property data\n",
    "price per week, postcode/suburb, address, bedrooms, bathrooms, carpark, property type, "
   ]
  },
  {
   "cell_type": "code",
   "execution_count": 340,
   "metadata": {},
   "outputs": [
    {
     "data": {
      "text/html": [
       "<div>\n",
       "<style scoped>\n",
       "    .dataframe tbody tr th:only-of-type {\n",
       "        vertical-align: middle;\n",
       "    }\n",
       "\n",
       "    .dataframe tbody tr th {\n",
       "        vertical-align: top;\n",
       "    }\n",
       "\n",
       "    .dataframe thead th {\n",
       "        text-align: right;\n",
       "    }\n",
       "</style>\n",
       "<table border=\"1\" class=\"dataframe\">\n",
       "  <thead>\n",
       "    <tr style=\"text-align: right;\">\n",
       "      <th></th>\n",
       "      <th>beds</th>\n",
       "      <th>baths</th>\n",
       "      <th>parking</th>\n",
       "      <th>title</th>\n",
       "      <th>price</th>\n",
       "      <th>address</th>\n",
       "      <th>promoType</th>\n",
       "      <th>listingType</th>\n",
       "      <th>propertyType</th>\n",
       "      <th>status</th>\n",
       "      <th>mode</th>\n",
       "      <th>isRural</th>\n",
       "      <th>houses</th>\n",
       "      <th>showDefaultFeatures</th>\n",
       "      <th>id</th>\n",
       "    </tr>\n",
       "  </thead>\n",
       "  <tbody>\n",
       "    <tr>\n",
       "      <th>0</th>\n",
       "      <td>2</td>\n",
       "      <td>1</td>\n",
       "      <td>1</td>\n",
       "      <td>$480 per week</td>\n",
       "      <td>$480 per week</td>\n",
       "      <td>102/279 Wellington Parade South, East Melbourn...</td>\n",
       "      <td>branded</td>\n",
       "      <td>rent</td>\n",
       "      <td>Apartment / Unit / Flat</td>\n",
       "      <td>recentlyUpdated</td>\n",
       "      <td>rent</td>\n",
       "      <td>False</td>\n",
       "      <td>0</td>\n",
       "      <td>True</td>\n",
       "      <td>14787024</td>\n",
       "    </tr>\n",
       "  </tbody>\n",
       "</table>\n",
       "</div>"
      ],
      "text/plain": [
       "   beds  baths  parking          title          price  \\\n",
       "0     2      1        1  $480 per week  $480 per week   \n",
       "\n",
       "                                             address promoType listingType  \\\n",
       "0  102/279 Wellington Parade South, East Melbourn...   branded        rent   \n",
       "\n",
       "              propertyType           status  mode  isRural  houses  \\\n",
       "0  Apartment / Unit / Flat  recentlyUpdated  rent    False       0   \n",
       "\n",
       "   showDefaultFeatures        id  \n",
       "0                 True  14787024  "
      ]
     },
     "execution_count": 340,
     "metadata": {},
     "output_type": "execute_result"
    }
   ],
   "source": [
    "prop_data = listing_data['props']['listingSummary']\n",
    "stat = prop_data.pop(\"stats\", None)\n",
    "prop_df = pd.DataFrame(prop_data, index=[0])\n",
    "# prop_df['stampDutyEstimate'] = listing_data['props']['stampDutyEstimate']\n",
    "prop_df['id'] = listing_data['props']['id']\n",
    "prop_df"
   ]
  },
  {
   "cell_type": "code",
   "execution_count": 252,
   "metadata": {},
   "outputs": [
    {
     "data": {
      "text/plain": [
       "[{'key': 'availableFrom',\n",
       "  'value': 'Sunday, 4th September 2022',\n",
       "  'iso8601Value': '2022-09-04T14:00:00'},\n",
       " {'key': 'bond', 'value': 2390}]"
      ]
     },
     "execution_count": 252,
     "metadata": {},
     "output_type": "execute_result"
    }
   ],
   "source": [
    "prop_data"
   ]
  },
  {
   "cell_type": "code",
   "execution_count": 240,
   "metadata": {},
   "outputs": [
    {
     "data": {
      "text/plain": [
       "{'beds': 4,\n",
       " 'baths': 3,\n",
       " 'parking': 2,\n",
       " 'title': '$950',\n",
       " 'price': '$950',\n",
       " 'address': '1 Sanctuary Way, Ascot Vale VIC 3032',\n",
       " 'promoType': 'platinum',\n",
       " 'listingType': 'rent',\n",
       " 'propertyType': 'House',\n",
       " 'status': 'new',\n",
       " 'mode': 'rent',\n",
       " 'isRural': False,\n",
       " 'houses': 0,\n",
       " 'showDefaultFeatures': True}"
      ]
     },
     "execution_count": 240,
     "metadata": {},
     "output_type": "execute_result"
    }
   ],
   "source": [
    "prop_data"
   ]
  },
  {
   "cell_type": "markdown",
   "metadata": {},
   "source": [
    "### Suburb Data\n"
   ]
  },
  {
   "cell_type": "code",
   "execution_count": 267,
   "metadata": {},
   "outputs": [
    {
     "data": {
      "text/plain": [
       "{'beds': 1,\n",
       " 'propertyType': 'Unit',\n",
       " 'suburb': 'Melbourne',\n",
       " 'suburbProfileUrl': '/suburb-profile/melbourne-vic-3000',\n",
       " 'medianPrice': 330000,\n",
       " 'medianRentPrice': 340,\n",
       " 'avgDaysOnMarket': 121,\n",
       " 'auctionClearance': 41,\n",
       " 'nrSoldThisYear': 395,\n",
       " 'entryLevelPrice': 180000,\n",
       " 'luxuryLevelPrice': 593000,\n",
       " 'renterPercentage': 0.6970133677881032,\n",
       " 'singlePercentage': 0.7628455892048701,\n",
       " 'demographics': {'population': 47279,\n",
       "  'avgAge': '20 to 39',\n",
       "  'owners': 0.3029866322118968,\n",
       "  'renters': 0.6970133677881032,\n",
       "  'families': 0.2371544107951299,\n",
       "  'singles': 0.7628455892048701,\n",
       "  'clarification': True},\n",
       " 'salesGrowthList': [{'medianSoldPrice': 429000,\n",
       "   'annualGrowth': 0,\n",
       "   'numberSold': 665,\n",
       "   'year': '2017'},\n",
       "  {'medianSoldPrice': 360000,\n",
       "   'annualGrowth': -0.16083916083916083,\n",
       "   'numberSold': 468,\n",
       "   'year': '2018'},\n",
       "  {'medianSoldPrice': 355000,\n",
       "   'annualGrowth': -0.013888888888888888,\n",
       "   'numberSold': 487,\n",
       "   'year': '2019'},\n",
       "  {'medianSoldPrice': 361000,\n",
       "   'annualGrowth': 0.016901408450704224,\n",
       "   'numberSold': 438,\n",
       "   'year': '2020'},\n",
       "  {'medianSoldPrice': 350000,\n",
       "   'annualGrowth': -0.030470914127423823,\n",
       "   'numberSold': 314,\n",
       "   'year': '2021'},\n",
       "  {'medianSoldPrice': 330000,\n",
       "   'annualGrowth': -0.05714285714285714,\n",
       "   'numberSold': 395,\n",
       "   'year': '2022'}],\n",
       " 'mostRecentSale': None}"
      ]
     },
     "execution_count": 267,
     "metadata": {},
     "output_type": "execute_result"
    }
   ],
   "source": [
    "listing_data['props']['suburbInsights']"
   ]
  },
  {
   "cell_type": "code",
   "execution_count": 277,
   "metadata": {},
   "outputs": [
    {
     "data": {
      "text/html": [
       "<div>\n",
       "<style scoped>\n",
       "    .dataframe tbody tr th:only-of-type {\n",
       "        vertical-align: middle;\n",
       "    }\n",
       "\n",
       "    .dataframe tbody tr th {\n",
       "        vertical-align: top;\n",
       "    }\n",
       "\n",
       "    .dataframe thead th {\n",
       "        text-align: right;\n",
       "    }\n",
       "</style>\n",
       "<table border=\"1\" class=\"dataframe\">\n",
       "  <thead>\n",
       "    <tr style=\"text-align: right;\">\n",
       "      <th></th>\n",
       "      <th>suburb</th>\n",
       "      <th>medianRentPrice</th>\n",
       "      <th>population</th>\n",
       "      <th>avgAge</th>\n",
       "      <th>owners</th>\n",
       "      <th>renters</th>\n",
       "      <th>families</th>\n",
       "      <th>singles</th>\n",
       "    </tr>\n",
       "  </thead>\n",
       "  <tbody>\n",
       "    <tr>\n",
       "      <th>0</th>\n",
       "      <td>Melbourne</td>\n",
       "      <td>340</td>\n",
       "      <td>47279</td>\n",
       "      <td>20 to 39</td>\n",
       "      <td>0.302987</td>\n",
       "      <td>0.697013</td>\n",
       "      <td>0.237154</td>\n",
       "      <td>0.762846</td>\n",
       "    </tr>\n",
       "  </tbody>\n",
       "</table>\n",
       "</div>"
      ],
      "text/plain": [
       "      suburb  medianRentPrice  population    avgAge    owners   renters  \\\n",
       "0  Melbourne              340       47279  20 to 39  0.302987  0.697013   \n",
       "\n",
       "   families   singles  \n",
       "0  0.237154  0.762846  "
      ]
     },
     "execution_count": 277,
     "metadata": {},
     "output_type": "execute_result"
    }
   ],
   "source": [
    "i = 0\n",
    "# edit this to add or remove suburb features\n",
    "suburb_keys = [\"suburb\", \"medianRentPrice\"]\n",
    "\n",
    "\n",
    "suburb_data = {key: listing_data['props']['suburbInsights'][key] for key in suburb_keys}\n",
    "suburb_data.update(listing_data['props']['suburbInsights'][\"demographics\"])\n",
    "suburb_data.pop(\"clarification\")\n",
    "suburb_data\n",
    "\n",
    "\n",
    "suburb_df = pd.DataFrame(suburb_data, index = [i])\n",
    "suburb_df"
   ]
  },
  {
   "cell_type": "markdown",
   "metadata": {},
   "source": [
    "### Neighbourhood Data"
   ]
  },
  {
   "cell_type": "code",
   "execution_count": 281,
   "metadata": {},
   "outputs": [
    {
     "data": {
      "text/plain": [
       "{'age0To19': 0.05878031,\n",
       " 'age20To39': 0.775900066,\n",
       " 'age40To59': 0.138868481,\n",
       " 'age60Plus': 0.0264511388,\n",
       " 'longTermResident': 0.120689653,\n",
       " 'owner': 0.199685544,\n",
       " 'renter': 0.8003145,\n",
       " 'family': 0.3400703,\n",
       " 'single': 0.6599297,\n",
       " 'showIncomeAndExpenses': False}"
      ]
     },
     "execution_count": 281,
     "metadata": {},
     "output_type": "execute_result"
    }
   ],
   "source": [
    "listing_data['props']['neighbourhoodInsights']"
   ]
  },
  {
   "cell_type": "code",
   "execution_count": 288,
   "metadata": {},
   "outputs": [
    {
     "data": {
      "text/html": [
       "<div>\n",
       "<style scoped>\n",
       "    .dataframe tbody tr th:only-of-type {\n",
       "        vertical-align: middle;\n",
       "    }\n",
       "\n",
       "    .dataframe tbody tr th {\n",
       "        vertical-align: top;\n",
       "    }\n",
       "\n",
       "    .dataframe thead th {\n",
       "        text-align: right;\n",
       "    }\n",
       "</style>\n",
       "<table border=\"1\" class=\"dataframe\">\n",
       "  <thead>\n",
       "    <tr style=\"text-align: right;\">\n",
       "      <th></th>\n",
       "      <th>age0To19</th>\n",
       "      <th>age20To39</th>\n",
       "      <th>age40To59</th>\n",
       "      <th>age60Plus</th>\n",
       "      <th>longTermResident</th>\n",
       "      <th>owner</th>\n",
       "      <th>renter</th>\n",
       "      <th>family</th>\n",
       "      <th>single</th>\n",
       "    </tr>\n",
       "  </thead>\n",
       "  <tbody>\n",
       "    <tr>\n",
       "      <th>0</th>\n",
       "      <td>0.05878</td>\n",
       "      <td>0.7759</td>\n",
       "      <td>0.138868</td>\n",
       "      <td>0.026451</td>\n",
       "      <td>0.12069</td>\n",
       "      <td>0.199686</td>\n",
       "      <td>0.800315</td>\n",
       "      <td>0.34007</td>\n",
       "      <td>0.65993</td>\n",
       "    </tr>\n",
       "  </tbody>\n",
       "</table>\n",
       "</div>"
      ],
      "text/plain": [
       "   age0To19  age20To39  age40To59  age60Plus  longTermResident     owner  \\\n",
       "0   0.05878     0.7759   0.138868   0.026451           0.12069  0.199686   \n",
       "\n",
       "     renter   family   single  \n",
       "0  0.800315  0.34007  0.65993  "
      ]
     },
     "execution_count": 288,
     "metadata": {},
     "output_type": "execute_result"
    }
   ],
   "source": [
    "i = 0\n",
    "neighbourhood_data = listing_data['props']['neighbourhoodInsights']\n",
    "neighbourhood_data.pop('map')\n",
    "neighbourhood_data.pop('showIncomeAndExpenses')\n",
    "neighbourhood_df = pd.DataFrame(neighbourhood_data, index = [i])\n",
    "neighbourhood_df"
   ]
  },
  {
   "cell_type": "code",
   "execution_count": 289,
   "metadata": {},
   "outputs": [
    {
     "data": {
      "text/html": [
       "<div>\n",
       "<style scoped>\n",
       "    .dataframe tbody tr th:only-of-type {\n",
       "        vertical-align: middle;\n",
       "    }\n",
       "\n",
       "    .dataframe tbody tr th {\n",
       "        vertical-align: top;\n",
       "    }\n",
       "\n",
       "    .dataframe thead th {\n",
       "        text-align: right;\n",
       "    }\n",
       "</style>\n",
       "<table border=\"1\" class=\"dataframe\">\n",
       "  <thead>\n",
       "    <tr style=\"text-align: right;\">\n",
       "      <th></th>\n",
       "      <th>age0To19</th>\n",
       "      <th>age20To39</th>\n",
       "      <th>age40To59</th>\n",
       "      <th>age60Plus</th>\n",
       "      <th>longTermResident</th>\n",
       "      <th>owner</th>\n",
       "      <th>renter</th>\n",
       "      <th>family</th>\n",
       "      <th>single</th>\n",
       "    </tr>\n",
       "  </thead>\n",
       "  <tbody>\n",
       "    <tr>\n",
       "      <th>0</th>\n",
       "      <td>0.05878</td>\n",
       "      <td>0.7759</td>\n",
       "      <td>0.138868</td>\n",
       "      <td>0.026451</td>\n",
       "      <td>0.12069</td>\n",
       "      <td>0.199686</td>\n",
       "      <td>0.800315</td>\n",
       "      <td>0.34007</td>\n",
       "      <td>0.65993</td>\n",
       "    </tr>\n",
       "  </tbody>\n",
       "</table>\n",
       "</div>"
      ],
      "text/plain": [
       "   age0To19  age20To39  age40To59  age60Plus  longTermResident     owner  \\\n",
       "0   0.05878     0.7759   0.138868   0.026451           0.12069  0.199686   \n",
       "\n",
       "     renter   family   single  \n",
       "0  0.800315  0.34007  0.65993  "
      ]
     },
     "execution_count": 289,
     "metadata": {},
     "output_type": "execute_result"
    }
   ],
   "source": [
    "neighbourhood_df"
   ]
  },
  {
   "cell_type": "markdown",
   "metadata": {},
   "source": [
    "### Nearest schools"
   ]
  },
  {
   "cell_type": "code",
   "execution_count": 292,
   "metadata": {},
   "outputs": [
    {
     "data": {
      "text/plain": [
       "[{'id': '',\n",
       "  'educationLevel': 'secondary',\n",
       "  'name': 'Ozford College - Ozford College Campus',\n",
       "  'distance': 259.55083543938684,\n",
       "  'state': 'VIC',\n",
       "  'postCode': '3000',\n",
       "  'year': '',\n",
       "  'gender': '',\n",
       "  'type': 'Private',\n",
       "  'address': 'Melbourne, VIC 3000',\n",
       "  'url': '',\n",
       "  'domainSeoUrlSlug': 'ozford-college-english-language-centre-vic-3000-52094'},\n",
       " {'id': '',\n",
       "  'educationLevel': 'secondary',\n",
       "  'name': 'Ozford College',\n",
       "  'distance': 260.5021570858975,\n",
       "  'state': 'VIC',\n",
       "  'postCode': '3000',\n",
       "  'year': '11-12',\n",
       "  'gender': 'CoEd',\n",
       "  'type': 'Private',\n",
       "  'address': 'Melbourne, VIC 3000',\n",
       "  'url': 'http://www.ozford.edu.au',\n",
       "  'domainSeoUrlSlug': 'ozford-college-vic-3000-40714'},\n",
       " {'id': '',\n",
       "  'educationLevel': 'combined',\n",
       "  'name': 'Haileybury Girls College - City Campus',\n",
       "  'distance': 351.66409019499406,\n",
       "  'state': 'VIC',\n",
       "  'postCode': '3006',\n",
       "  'year': '',\n",
       "  'gender': '',\n",
       "  'type': 'Private',\n",
       "  'address': 'West Melbourne, VIC 3006',\n",
       "  'url': '',\n",
       "  'domainSeoUrlSlug': 'haileybury-girls-college-city-campus-vic-3006-52428'},\n",
       " {'id': '',\n",
       "  'educationLevel': 'combined',\n",
       "  'name': 'Eltham College - King Street Campus',\n",
       "  'distance': 454.6838603516067,\n",
       "  'state': 'VIC',\n",
       "  'postCode': '3000',\n",
       "  'year': '',\n",
       "  'gender': '',\n",
       "  'type': 'Private',\n",
       "  'address': 'Melbourne, VIC 3000',\n",
       "  'url': '',\n",
       "  'domainSeoUrlSlug': 'eltham-college-king-street-campus-vic-3000-52625'},\n",
       " {'id': '',\n",
       "  'educationLevel': 'combined',\n",
       "  'name': 'Eltham College - Lonsdale Street Campus',\n",
       "  'distance': 762.5764320606507,\n",
       "  'state': 'VIC',\n",
       "  'postCode': '3000',\n",
       "  'year': '',\n",
       "  'gender': '',\n",
       "  'type': 'Private',\n",
       "  'address': 'Melbourne, VIC 3000',\n",
       "  'url': '',\n",
       "  'domainSeoUrlSlug': 'eltham-college-lonsdale-street-campus-vic-3000-46233'},\n",
       " {'id': '',\n",
       "  'educationLevel': 'secondary',\n",
       "  'name': 'Hester Hornbrook Academy - City Campus',\n",
       "  'distance': 770.6572405154325,\n",
       "  'state': 'VIC',\n",
       "  'postCode': '3000',\n",
       "  'year': '',\n",
       "  'gender': '',\n",
       "  'type': 'Private',\n",
       "  'address': 'Melbourne, VIC 3000',\n",
       "  'url': '',\n",
       "  'domainSeoUrlSlug': 'hester-hornbrook-academy-city-campus-vic-3000-52519'},\n",
       " {'id': '1999',\n",
       "  'educationLevel': 'secondary',\n",
       "  'name': 'Simonds Catholic College',\n",
       "  'distance': 914.8966872497949,\n",
       "  'state': 'VIC',\n",
       "  'postCode': '3003',\n",
       "  'year': '7-12',\n",
       "  'gender': 'Boys',\n",
       "  'type': 'Catholic',\n",
       "  'address': 'West Melbourne, VIC 3003',\n",
       "  'url': 'http://www.sccmelb.catholic.edu.au',\n",
       "  'domainSeoUrlSlug': 'simonds-catholic-college-vic-3003-1999'},\n",
       " {'id': '',\n",
       "  'educationLevel': 'primary',\n",
       "  'name': 'Docklands Primary School',\n",
       "  'distance': 932.6678534361225,\n",
       "  'state': 'VIC',\n",
       "  'postCode': '3008',\n",
       "  'year': 'Prep-6',\n",
       "  'gender': 'CoEd',\n",
       "  'type': 'Government',\n",
       "  'address': 'Docklands, VIC 3008',\n",
       "  'url': '',\n",
       "  'domainSeoUrlSlug': 'docklands-primary-school-vic-3008-52915',\n",
       "  'isRadiusResult': True},\n",
       " {'id': '',\n",
       "  'educationLevel': 'secondary',\n",
       "  'name': 'River Nile School',\n",
       "  'distance': 1040.9169388990545,\n",
       "  'state': 'VIC',\n",
       "  'postCode': '3051',\n",
       "  'year': '11-12',\n",
       "  'gender': 'Girls',\n",
       "  'type': 'Private',\n",
       "  'address': 'North Melbourne, VIC 3051',\n",
       "  'url': 'http://www.rivernileschool.vic.edu.au/',\n",
       "  'domainSeoUrlSlug': 'river-nile-school-vic-3051-52480'},\n",
       " {'id': '',\n",
       "  'educationLevel': 'secondary',\n",
       "  'name': \"St Joseph's Flexible Learning Centre\",\n",
       "  'distance': 1203.1425057816718,\n",
       "  'state': 'VIC',\n",
       "  'postCode': '3051',\n",
       "  'year': '7-12',\n",
       "  'gender': 'CoEd',\n",
       "  'type': 'Catholic',\n",
       "  'address': 'North Melbourne, VIC 3051',\n",
       "  'url': 'http://www.youthplus.edu.au',\n",
       "  'domainSeoUrlSlug': 'st-josephs-flexible-learning-centre-melbourne-vic-3051-50452'},\n",
       " {'id': '',\n",
       "  'educationLevel': 'secondary',\n",
       "  'name': \"Stott's Colleges\",\n",
       "  'distance': 1650.340682556042,\n",
       "  'state': 'VIC',\n",
       "  'postCode': '3000',\n",
       "  'year': '11-12',\n",
       "  'gender': '',\n",
       "  'type': 'Private',\n",
       "  'address': 'Melbourne, VIC 3000',\n",
       "  'url': 'https://www.stotts.edu.au/',\n",
       "  'domainSeoUrlSlug': 'stotts-colleges-vic-3000-50313'},\n",
       " {'id': '',\n",
       "  'educationLevel': 'primary',\n",
       "  'name': 'South Melbourne Primary School',\n",
       "  'distance': 1665.705716032926,\n",
       "  'state': 'VIC',\n",
       "  'postCode': '3205',\n",
       "  'year': 'Prep-6',\n",
       "  'gender': 'CoEd',\n",
       "  'type': 'Government',\n",
       "  'address': 'Southbank, VIC 3205',\n",
       "  'url': 'https://southmelbourneps.vic.edu.au/',\n",
       "  'domainSeoUrlSlug': 'south-melbourne-primary-school-vic-3205-52587',\n",
       "  'isRadiusResult': True},\n",
       " {'id': '3946',\n",
       "  'educationLevel': 'secondary',\n",
       "  'name': 'University High School',\n",
       "  'distance': 1932.145113882303,\n",
       "  'state': 'VIC',\n",
       "  'postCode': '3052',\n",
       "  'year': '7-12',\n",
       "  'gender': 'CoEd',\n",
       "  'type': 'Government',\n",
       "  'address': 'Parkville, VIC 3052',\n",
       "  'url': 'http://www.unihigh.vic.edu.au',\n",
       "  'domainSeoUrlSlug': 'university-high-school-vic-3052-3946'}]"
      ]
     },
     "execution_count": 292,
     "metadata": {},
     "output_type": "execute_result"
    }
   ],
   "source": [
    "closest_school = listing_data['props']['schoolCatchment']['schools']\n",
    "closest_school"
   ]
  },
  {
   "cell_type": "code",
   "execution_count": 331,
   "metadata": {},
   "outputs": [
    {
     "data": {
      "text/plain": [
       "[{'id': '',\n",
       "  'educationLevel': 'secondary',\n",
       "  'name': 'SEDA College (Victoria) - Netball Ascot Vale',\n",
       "  'distance': 407.0349574515122,\n",
       "  'state': 'VIC',\n",
       "  'postCode': '3032',\n",
       "  'year': '',\n",
       "  'gender': '',\n",
       "  'type': 'Private',\n",
       "  'address': 'Ascot Vale, VIC 3032',\n",
       "  'url': '',\n",
       "  'domainSeoUrlSlug': 'seda-college-victoria-netball-ascot-vale-vic-3032-52561'},\n",
       " {'id': '10491',\n",
       "  'educationLevel': 'primary',\n",
       "  'name': \"St Mary's School\",\n",
       "  'distance': 726.0180056952819,\n",
       "  'state': 'VIC',\n",
       "  'postCode': '3032',\n",
       "  'year': 'Prep-6',\n",
       "  'gender': 'CoEd',\n",
       "  'type': 'Catholic',\n",
       "  'address': 'Ascot Vale, VIC 3032',\n",
       "  'url': 'http://www.smascotvale.catholic.edu.au/',\n",
       "  'domainSeoUrlSlug': 'st-marys-school-vic-3032-10491'},\n",
       " {'id': '940',\n",
       "  'educationLevel': 'primary',\n",
       "  'name': 'Ascot Vale West Primary School',\n",
       "  'distance': 816.3605116347898,\n",
       "  'state': 'VIC',\n",
       "  'postCode': '3032',\n",
       "  'year': 'Prep-6',\n",
       "  'gender': 'CoEd',\n",
       "  'type': 'Government',\n",
       "  'address': 'Ascot Vale, VIC 3032',\n",
       "  'url': 'http://www.avwps.vic.edu.au',\n",
       "  'domainSeoUrlSlug': 'ascot-vale-west-primary-school-vic-3032-940'},\n",
       " {'id': '2631',\n",
       "  'educationLevel': 'secondary',\n",
       "  'name': 'Maribyrnong Secondary College',\n",
       "  'distance': 1380.325384292199,\n",
       "  'state': 'VIC',\n",
       "  'postCode': '3032',\n",
       "  'year': '7-12',\n",
       "  'gender': 'CoEd',\n",
       "  'type': 'Government',\n",
       "  'address': 'Maribyrnong, VIC 3032',\n",
       "  'url': 'http://www.maribsc.vic.edu.au/',\n",
       "  'domainSeoUrlSlug': 'maribyrnong-secondary-college-vic-3012-2631'},\n",
       " {'id': '',\n",
       "  'educationLevel': 'primary',\n",
       "  'name': \"St Margaret's Primary School\",\n",
       "  'distance': 1527.0077306028593,\n",
       "  'state': 'VIC',\n",
       "  'postCode': '3032',\n",
       "  'year': 'Prep-6',\n",
       "  'gender': 'CoEd',\n",
       "  'type': 'Catholic',\n",
       "  'address': 'Maribyrnong, VIC 3032',\n",
       "  'url': 'http://www.smmaribyrnong.catholic.edu.au',\n",
       "  'domainSeoUrlSlug': 'st-margarets-primary-school-vic-3032-45915'},\n",
       " {'id': '',\n",
       "  'educationLevel': 'secondary',\n",
       "  'name': 'SEDA College (Victoria) - Cricket Australia - Footscray',\n",
       "  'distance': 1624.1591496248384,\n",
       "  'state': 'VIC',\n",
       "  'postCode': '3011',\n",
       "  'year': '',\n",
       "  'gender': '',\n",
       "  'type': 'Private',\n",
       "  'address': 'Footscray, VIC 3011',\n",
       "  'url': '',\n",
       "  'domainSeoUrlSlug': 'seda-college-victoria-cricket-australia-footscray-vic-3011-52549'},\n",
       " {'id': '',\n",
       "  'educationLevel': 'combined',\n",
       "  'name': 'Penleigh & Essendon Grammar School - Moonee Ponds Campus',\n",
       "  'distance': 1804.5891526394403,\n",
       "  'state': 'VIC',\n",
       "  'postCode': '3039',\n",
       "  'year': '',\n",
       "  'gender': '',\n",
       "  'type': 'Private',\n",
       "  'address': 'Moonee Ponds, VIC 3039',\n",
       "  'url': '',\n",
       "  'domainSeoUrlSlug': 'penleigh-essendon-grammar-school-moonee-ponds-campus-vic-3039-46182'},\n",
       " {'id': '2126',\n",
       "  'educationLevel': 'combined',\n",
       "  'name': 'Lowther Hall Anglican Grammar School',\n",
       "  'distance': 2077.999480805924,\n",
       "  'state': 'VIC',\n",
       "  'postCode': '3040',\n",
       "  'year': 'Prep-12',\n",
       "  'gender': 'Girls',\n",
       "  'type': 'Private',\n",
       "  'address': 'Essendon, VIC 3040',\n",
       "  'url': 'http://www.lowtherhall.vic.edu.au',\n",
       "  'domainSeoUrlSlug': 'lowther-hall-anglican-grammar-school-vic-3040-2126'},\n",
       " {'id': '',\n",
       "  'educationLevel': 'primary',\n",
       "  'name': 'Resurrection House',\n",
       "  'distance': 2188.9305763727784,\n",
       "  'state': 'VIC',\n",
       "  'postCode': '3040',\n",
       "  'year': 'Prep-6',\n",
       "  'gender': 'CoEd',\n",
       "  'type': 'Catholic',\n",
       "  'address': 'Essendon, VIC 3040',\n",
       "  'url': 'https://www.cem.edu.au/',\n",
       "  'domainSeoUrlSlug': 'resurrection-house-vic-3040-45884'},\n",
       " {'id': '2124',\n",
       "  'educationLevel': 'secondary',\n",
       "  'name': 'Ave Maria College',\n",
       "  'distance': 2244.682338292931,\n",
       "  'state': 'VIC',\n",
       "  'postCode': '3040',\n",
       "  'year': '7-12',\n",
       "  'gender': 'CoEd',\n",
       "  'type': 'Catholic',\n",
       "  'address': 'Aberfeldie, VIC 3040',\n",
       "  'url': 'http://www.avemaria.vic.edu.au',\n",
       "  'domainSeoUrlSlug': 'ave-maria-college-vic-3040-2124'},\n",
       " {'id': '',\n",
       "  'educationLevel': 'secondary',\n",
       "  'name': \"St Columba's College\",\n",
       "  'distance': 2320.922841015035,\n",
       "  'state': 'VIC',\n",
       "  'postCode': '3040',\n",
       "  'year': '7-12',\n",
       "  'gender': 'Girls',\n",
       "  'type': 'Catholic',\n",
       "  'address': 'Essendon, VIC 3040',\n",
       "  'url': 'http://www.columba.vic.edu.au',\n",
       "  'domainSeoUrlSlug': 'st-columbas-college-vic-3040-45748'},\n",
       " {'id': '2127',\n",
       "  'educationLevel': 'primary',\n",
       "  'name': 'Our Lady of the Nativity School',\n",
       "  'distance': 2324.592182585438,\n",
       "  'state': 'VIC',\n",
       "  'postCode': '3040',\n",
       "  'year': 'Prep-6',\n",
       "  'gender': 'CoEd',\n",
       "  'type': 'Catholic',\n",
       "  'address': 'Aberfeldie, VIC 3040',\n",
       "  'url': 'http://www.olnaberfeldie.catholic.edu.au',\n",
       "  'domainSeoUrlSlug': 'our-lady-of-the-nativity-school-vic-3040-2127'},\n",
       " {'id': '2036',\n",
       "  'educationLevel': 'combined',\n",
       "  'name': 'Furlong Park School For Deaf Children',\n",
       "  'distance': 6944.387188736425,\n",
       "  'state': 'VIC',\n",
       "  'postCode': '3020',\n",
       "  'year': 'U',\n",
       "  'gender': 'CoEd',\n",
       "  'type': 'Government',\n",
       "  'address': 'Sunshine North, VIC 3020',\n",
       "  'url': 'http://www.furlongpark.vic.edu.au',\n",
       "  'domainSeoUrlSlug': 'furlong-park-special-school-vic-3020-2036'}]"
      ]
     },
     "execution_count": 331,
     "metadata": {},
     "output_type": "execute_result"
    }
   ],
   "source": [
    "closest_schools = listing_data['props']['schoolCatchment']['schools']\n",
    "closest_schools"
   ]
  },
  {
   "cell_type": "code",
   "execution_count": 310,
   "metadata": {},
   "outputs": [
    {
     "data": {
      "text/html": [
       "<div>\n",
       "<style scoped>\n",
       "    .dataframe tbody tr th:only-of-type {\n",
       "        vertical-align: middle;\n",
       "    }\n",
       "\n",
       "    .dataframe tbody tr th {\n",
       "        vertical-align: top;\n",
       "    }\n",
       "\n",
       "    .dataframe thead th {\n",
       "        text-align: right;\n",
       "    }\n",
       "</style>\n",
       "<table border=\"1\" class=\"dataframe\">\n",
       "  <thead>\n",
       "    <tr style=\"text-align: right;\">\n",
       "      <th></th>\n",
       "      <th>id</th>\n",
       "      <th>educationLevel</th>\n",
       "      <th>name</th>\n",
       "      <th>distance</th>\n",
       "      <th>state</th>\n",
       "      <th>postCode</th>\n",
       "      <th>year</th>\n",
       "      <th>gender</th>\n",
       "      <th>type</th>\n",
       "      <th>address</th>\n",
       "      <th>url</th>\n",
       "      <th>domainSeoUrlSlug</th>\n",
       "    </tr>\n",
       "  </thead>\n",
       "  <tbody>\n",
       "    <tr>\n",
       "      <th>0</th>\n",
       "      <td></td>\n",
       "      <td>secondary</td>\n",
       "      <td>Ozford College - Ozford College Campus</td>\n",
       "      <td>259.550835</td>\n",
       "      <td>VIC</td>\n",
       "      <td>3000</td>\n",
       "      <td></td>\n",
       "      <td></td>\n",
       "      <td>Private</td>\n",
       "      <td>Melbourne, VIC 3000</td>\n",
       "      <td></td>\n",
       "      <td>ozford-college-english-language-centre-vic-300...</td>\n",
       "    </tr>\n",
       "  </tbody>\n",
       "</table>\n",
       "</div>"
      ],
      "text/plain": [
       "  id educationLevel                                    name    distance state  \\\n",
       "0         secondary  Ozford College - Ozford College Campus  259.550835   VIC   \n",
       "\n",
       "  postCode year gender     type              address url  \\\n",
       "0     3000              Private  Melbourne, VIC 3000       \n",
       "\n",
       "                                    domainSeoUrlSlug  \n",
       "0  ozford-college-english-language-centre-vic-300...  "
      ]
     },
     "execution_count": 310,
     "metadata": {},
     "output_type": "execute_result"
    }
   ],
   "source": [
    "i = 0\n",
    "top = closest_schools[0]\n",
    "top = pd.DataFrame(top, index = [i])\n",
    "top"
   ]
  },
  {
   "cell_type": "code",
   "execution_count": 3,
   "metadata": {},
   "outputs": [
    {
     "data": {
      "text/html": [
       "<div>\n",
       "<style scoped>\n",
       "    .dataframe tbody tr th:only-of-type {\n",
       "        vertical-align: middle;\n",
       "    }\n",
       "\n",
       "    .dataframe tbody tr th {\n",
       "        vertical-align: top;\n",
       "    }\n",
       "\n",
       "    .dataframe thead th {\n",
       "        text-align: right;\n",
       "    }\n",
       "</style>\n",
       "<table border=\"1\" class=\"dataframe\">\n",
       "  <thead>\n",
       "    <tr style=\"text-align: right;\">\n",
       "      <th></th>\n",
       "      <th>links</th>\n",
       "    </tr>\n",
       "  </thead>\n",
       "  <tbody>\n",
       "    <tr>\n",
       "      <th>0</th>\n",
       "      <td>https://www.domain.com.au/1-sanctuary-way-asco...</td>\n",
       "    </tr>\n",
       "    <tr>\n",
       "      <th>1</th>\n",
       "      <td>https://www.domain.com.au/1206-639-little-lons...</td>\n",
       "    </tr>\n",
       "    <tr>\n",
       "      <th>2</th>\n",
       "      <td>https://www.domain.com.au/13-86-hotham-street-...</td>\n",
       "    </tr>\n",
       "    <tr>\n",
       "      <th>3</th>\n",
       "      <td>https://www.domain.com.au/60-777-whitehorse-ro...</td>\n",
       "    </tr>\n",
       "    <tr>\n",
       "      <th>4</th>\n",
       "      <td>https://www.domain.com.au/15-vincent-avenue-st...</td>\n",
       "    </tr>\n",
       "    <tr>\n",
       "      <th>...</th>\n",
       "      <td>...</td>\n",
       "    </tr>\n",
       "    <tr>\n",
       "      <th>16020</th>\n",
       "      <td>https://www.domain.com.au/4-181-great-ocean-ro...</td>\n",
       "    </tr>\n",
       "    <tr>\n",
       "      <th>16021</th>\n",
       "      <td>https://www.domain.com.au/53-mcewan-road-heide...</td>\n",
       "    </tr>\n",
       "    <tr>\n",
       "      <th>16022</th>\n",
       "      <td>https://www.domain.com.au/14-8-clyde-street-es...</td>\n",
       "    </tr>\n",
       "    <tr>\n",
       "      <th>16023</th>\n",
       "      <td>https://www.domain.com.au/52-121-rathdowne-st-...</td>\n",
       "    </tr>\n",
       "    <tr>\n",
       "      <th>16024</th>\n",
       "      <td>https://www.domain.com.au/2-19-eastgate-street...</td>\n",
       "    </tr>\n",
       "  </tbody>\n",
       "</table>\n",
       "<p>16025 rows × 1 columns</p>\n",
       "</div>"
      ],
      "text/plain": [
       "                                                   links\n",
       "0      https://www.domain.com.au/1-sanctuary-way-asco...\n",
       "1      https://www.domain.com.au/1206-639-little-lons...\n",
       "2      https://www.domain.com.au/13-86-hotham-street-...\n",
       "3      https://www.domain.com.au/60-777-whitehorse-ro...\n",
       "4      https://www.domain.com.au/15-vincent-avenue-st...\n",
       "...                                                  ...\n",
       "16020  https://www.domain.com.au/4-181-great-ocean-ro...\n",
       "16021  https://www.domain.com.au/53-mcewan-road-heide...\n",
       "16022  https://www.domain.com.au/14-8-clyde-street-es...\n",
       "16023  https://www.domain.com.au/52-121-rathdowne-st-...\n",
       "16024  https://www.domain.com.au/2-19-eastgate-street...\n",
       "\n",
       "[16025 rows x 1 columns]"
      ]
     },
     "execution_count": 3,
     "metadata": {},
     "output_type": "execute_result"
    }
   ],
   "source": [
    "listings = pd.read_csv(\"../data/raw/listings.csv\")\n",
    "listings"
   ]
  },
  {
   "cell_type": "code",
   "execution_count": 30,
   "metadata": {},
   "outputs": [
    {
     "name": "stderr",
     "output_type": "stream",
     "text": [
      "  0%|▏                                                                             | 39/16025 [00:18<2:07:02,  2.10it/s]"
     ]
    },
    {
     "name": "stdout",
     "output_type": "stream",
     "text": [
      "Redirected:  39 https://www.domain.com.au/15-1-hatfeild-ct-west-footscray-vic-3012-16065321\n"
     ]
    },
    {
     "name": "stderr",
     "output_type": "stream",
     "text": [
      "  1%|▌                                                                            | 113/16025 [00:55<2:10:24,  2.03it/s]"
     ]
    },
    {
     "name": "stdout",
     "output_type": "stream",
     "text": [
      "Redirected:  113 https://www.domain.com.au/1506b-250-spencer-street-melbourne-vic-3000-14620499\n"
     ]
    },
    {
     "name": "stderr",
     "output_type": "stream",
     "text": [
      "  1%|▊                                                                            | 159/16025 [01:23<2:41:42,  1.64it/s]"
     ]
    },
    {
     "name": "stdout",
     "output_type": "stream",
     "text": [
      "Redirected:  158 https://www.domain.com.au/1206-618-little-lonsdale-street-melbourne-vic-3000-16064916\n",
      "'listingSummary'\n"
     ]
    },
    {
     "name": "stderr",
     "output_type": "stream",
     "text": [
      "  1%|█                                                                            | 223/16025 [01:57<1:46:48,  2.47it/s]"
     ]
    },
    {
     "name": "stdout",
     "output_type": "stream",
     "text": [
      "Redirected:  222 https://www.domain.com.au/12-rolland-street-coburg-vic-3058-16064730\n",
      "'props'\n"
     ]
    },
    {
     "name": "stderr",
     "output_type": "stream",
     "text": [
      "  1%|█▏                                                                           | 239/16025 [02:06<3:36:29,  1.22it/s]"
     ]
    },
    {
     "name": "stdout",
     "output_type": "stream",
     "text": [
      "Redirected:  239 https://www.domain.com.au/7-wentworth-place-melton-south-vic-3338-16064683\n"
     ]
    },
    {
     "name": "stderr",
     "output_type": "stream",
     "text": [
      "  2%|█▌                                                                           | 324/16025 [02:52<2:08:01,  2.04it/s]"
     ]
    },
    {
     "name": "stdout",
     "output_type": "stream",
     "text": [
      "Redirected:  324 https://www.domain.com.au/tarneit-vic-3029-16064437\n"
     ]
    },
    {
     "name": "stderr",
     "output_type": "stream",
     "text": [
      "  2%|█▌                                                                           | 337/16025 [03:01<3:38:21,  1.20it/s]"
     ]
    },
    {
     "name": "stdout",
     "output_type": "stream",
     "text": [
      "'NoneType' object is not subscriptable\n"
     ]
    },
    {
     "name": "stderr",
     "output_type": "stream",
     "text": [
      "  3%|██▎                                                                          | 491/16025 [04:15<1:47:19,  2.41it/s]"
     ]
    },
    {
     "name": "stdout",
     "output_type": "stream",
     "text": [
      "Redirected:  490 https://www.domain.com.au/52-whites-road-warrnambool-vic-3280-16063948\n",
      "'props'\n"
     ]
    },
    {
     "name": "stderr",
     "output_type": "stream",
     "text": [
      "  4%|██▊                                                                          | 589/16025 [05:06<2:11:01,  1.96it/s]"
     ]
    },
    {
     "name": "stdout",
     "output_type": "stream",
     "text": [
      "Redirected:  589 https://www.domain.com.au/402-6-butler-camberwell-vic-3124-16063613\n"
     ]
    },
    {
     "name": "stderr",
     "output_type": "stream",
     "text": [
      "  4%|██▉                                                                          | 600/16025 [05:11<2:12:41,  1.94it/s]"
     ]
    },
    {
     "name": "stdout",
     "output_type": "stream",
     "text": [
      "Redirected:  600 https://www.domain.com.au/3-bonview-circuit-truganina-vic-3029-16063573\n"
     ]
    },
    {
     "name": "stderr",
     "output_type": "stream",
     "text": [
      "  4%|███▍                                                                         | 719/16025 [06:16<3:33:49,  1.19it/s]"
     ]
    },
    {
     "name": "stdout",
     "output_type": "stream",
     "text": [
      "Redirected:  718 https://www.domain.com.au/206-35-wilson-st-south-yarra-vic-3141-15268110\n",
      "'props'\n"
     ]
    },
    {
     "name": "stderr",
     "output_type": "stream",
     "text": [
      "  5%|███▌                                                                         | 742/16025 [06:27<1:27:40,  2.91it/s]"
     ]
    },
    {
     "name": "stdout",
     "output_type": "stream",
     "text": [
      "Redirected:  741 https://www.domain.com.au/129-daley-st-glenroy-vic-3046-16063220\n",
      "'props'\n"
     ]
    },
    {
     "name": "stderr",
     "output_type": "stream",
     "text": [
      "  5%|███▊                                                                         | 784/16025 [06:50<1:49:07,  2.33it/s]"
     ]
    },
    {
     "name": "stdout",
     "output_type": "stream",
     "text": [
      "Redirected:  784 https://www.domain.com.au/1-17-spring-gully-road-quarry-hill-vic-3550-10634295\n"
     ]
    },
    {
     "name": "stderr",
     "output_type": "stream",
     "text": [
      "  5%|███▉                                                                         | 829/16025 [07:13<2:38:48,  1.59it/s]"
     ]
    },
    {
     "name": "stdout",
     "output_type": "stream",
     "text": [
      "'NoneType' object is not subscriptable\n"
     ]
    },
    {
     "name": "stderr",
     "output_type": "stream",
     "text": [
      "  5%|████                                                                         | 849/16025 [07:27<2:40:52,  1.57it/s]"
     ]
    },
    {
     "name": "stdout",
     "output_type": "stream",
     "text": [
      "'NoneType' object is not subscriptable\n"
     ]
    },
    {
     "name": "stderr",
     "output_type": "stream",
     "text": [
      "  6%|████▎                                                                        | 889/16025 [07:46<1:55:41,  2.18it/s]"
     ]
    },
    {
     "name": "stdout",
     "output_type": "stream",
     "text": [
      "Redirected:  889 https://www.domain.com.au/15-winmalee-road-balwyn-vic-3103-16062825\n"
     ]
    },
    {
     "name": "stderr",
     "output_type": "stream",
     "text": [
      "  6%|████▍                                                                        | 913/16025 [08:00<1:54:41,  2.20it/s]"
     ]
    },
    {
     "name": "stdout",
     "output_type": "stream",
     "text": [
      "Redirected:  913 https://www.domain.com.au/24-2a-bates-street-malvern-east-vic-3145-16053602\n"
     ]
    },
    {
     "name": "stderr",
     "output_type": "stream",
     "text": [
      "  6%|████▌                                                                        | 938/16025 [08:14<2:26:37,  1.71it/s]"
     ]
    },
    {
     "name": "stdout",
     "output_type": "stream",
     "text": [
      "Redirected:  938 https://www.domain.com.au/15-80-epping-road-epping-vic-3076-16062635\n"
     ]
    },
    {
     "name": "stderr",
     "output_type": "stream",
     "text": [
      "  6%|████▋                                                                        | 965/16025 [08:28<1:50:14,  2.28it/s]"
     ]
    },
    {
     "name": "stdout",
     "output_type": "stream",
     "text": [
      "Redirected:  964 https://www.domain.com.au/213-3-duggan-street-brunswick-west-vic-3055-15607490\n",
      "'props'\n"
     ]
    },
    {
     "name": "stderr",
     "output_type": "stream",
     "text": [
      "  6%|████▋                                                                        | 974/16025 [08:33<2:49:27,  1.48it/s]"
     ]
    },
    {
     "name": "stdout",
     "output_type": "stream",
     "text": [
      "Redirected:  974 https://www.domain.com.au/g01-130-errol-street-north-melbourne-vic-3051-16062504\n"
     ]
    },
    {
     "name": "stderr",
     "output_type": "stream",
     "text": [
      "\r\n",
      "  6%|████▋                                                                        | 975/16025 [08:34<2:48:42,  1.49it/s]"
     ]
    },
    {
     "name": "stdout",
     "output_type": "stream",
     "text": [
      "'listingSummary'\n"
     ]
    },
    {
     "name": "stderr",
     "output_type": "stream",
     "text": [
      "  7%|████▉                                                                       | 1054/16025 [09:17<1:58:49,  2.10it/s]"
     ]
    },
    {
     "name": "stdout",
     "output_type": "stream",
     "text": [
      "Redirected:  1054 https://www.domain.com.au/southbank-vic-3006-16062240\n"
     ]
    },
    {
     "name": "stderr",
     "output_type": "stream",
     "text": [
      "  7%|█████                                                                       | 1073/16025 [09:26<1:50:32,  2.25it/s]"
     ]
    },
    {
     "name": "stdout",
     "output_type": "stream",
     "text": [
      "Redirected:  1073 https://www.domain.com.au/617-laurie-street-golden-point-vic-3451-16062167\n"
     ]
    },
    {
     "name": "stderr",
     "output_type": "stream",
     "text": [
      "  7%|█████▎                                                                      | 1127/16025 [09:56<1:57:31,  2.11it/s]"
     ]
    },
    {
     "name": "stdout",
     "output_type": "stream",
     "text": [
      "Redirected:  1127 https://www.domain.com.au/esplanade-west-port-melbourne-vic-3207-16040691\n"
     ]
    },
    {
     "name": "stderr",
     "output_type": "stream",
     "text": [
      "  7%|█████▌                                                                      | 1168/16025 [10:17<1:41:45,  2.43it/s]"
     ]
    },
    {
     "name": "stdout",
     "output_type": "stream",
     "text": [
      "Redirected:  1167 https://www.domain.com.au/2a-george-st-murrumbeena-vic-3163-16045733\n",
      "'props'\n"
     ]
    },
    {
     "name": "stderr",
     "output_type": "stream",
     "text": [
      "  7%|█████▌                                                                      | 1170/16025 [10:18<1:49:09,  2.27it/s]"
     ]
    },
    {
     "name": "stdout",
     "output_type": "stream",
     "text": [
      "Redirected:  1170 https://www.domain.com.au/3705-452-elizabeth-street-melbourne-vic-3000-13900308\n"
     ]
    },
    {
     "name": "stderr",
     "output_type": "stream",
     "text": [
      "  7%|█████▌                                                                      | 1177/16025 [10:22<1:56:14,  2.13it/s]"
     ]
    },
    {
     "name": "stdout",
     "output_type": "stream",
     "text": [
      "Redirected:  1176 https://www.domain.com.au/3-59-cawkwell-street-malvern-vic-3144-16061857\n",
      "'props'\n"
     ]
    },
    {
     "name": "stderr",
     "output_type": "stream",
     "text": [
      "  7%|█████▋                                                                      | 1196/16025 [10:30<1:23:43,  2.95it/s]"
     ]
    },
    {
     "name": "stdout",
     "output_type": "stream",
     "text": [
      "Redirected:  1195 https://www.domain.com.au/145-orange-ave-mildura-vic-3500-16020332\n",
      "'props'\n"
     ]
    },
    {
     "name": "stderr",
     "output_type": "stream",
     "text": [
      "  8%|█████▊                                                                      | 1231/16025 [10:47<2:05:29,  1.96it/s]"
     ]
    },
    {
     "name": "stdout",
     "output_type": "stream",
     "text": [
      "Redirected:  1231 https://www.domain.com.au/31b-tweed-st-highett-vic-3190-16061681\n"
     ]
    },
    {
     "name": "stderr",
     "output_type": "stream",
     "text": [
      "  8%|█████▊                                                                      | 1233/16025 [10:48<2:39:02,  1.55it/s]"
     ]
    },
    {
     "name": "stdout",
     "output_type": "stream",
     "text": [
      "Redirected:  1233 https://www.domain.com.au/2a-poplar-street-newcomb-vic-3219-16029588\n"
     ]
    },
    {
     "name": "stderr",
     "output_type": "stream",
     "text": [
      "\r\n",
      "  8%|█████▊                                                                      | 1234/16025 [10:49<2:27:33,  1.67it/s]"
     ]
    },
    {
     "name": "stdout",
     "output_type": "stream",
     "text": [
      "'listingSummary'\n"
     ]
    },
    {
     "name": "stderr",
     "output_type": "stream",
     "text": [
      "  8%|█████▊                                                                      | 1237/16025 [10:50<1:38:11,  2.51it/s]"
     ]
    },
    {
     "name": "stdout",
     "output_type": "stream",
     "text": [
      "Redirected:  1236 https://www.domain.com.au/20-clairmont-avenue-cranbourne-vic-3977-16061662\n",
      "'props'\n"
     ]
    },
    {
     "name": "stderr",
     "output_type": "stream",
     "text": [
      "  8%|█████▉                                                                      | 1240/16025 [10:52<1:56:29,  2.12it/s]"
     ]
    },
    {
     "name": "stdout",
     "output_type": "stream",
     "text": [
      "Redirected:  1239 https://www.domain.com.au/29-florentino-street-wollert-vic-3750-13669407\n",
      "'props'\n",
      "Redirected:  1240 https://www.domain.com.au/2009b-250-spencer-street-melbourne-vic-3000-14555845\n"
     ]
    },
    {
     "name": "stderr",
     "output_type": "stream",
     "text": [
      "  8%|█████▉                                                                      | 1245/16025 [10:54<1:52:50,  2.18it/s]"
     ]
    },
    {
     "name": "stdout",
     "output_type": "stream",
     "text": [
      "Redirected:  1245 https://www.domain.com.au/710b-250-spencer-street-melbourne-vic-3000-15228190\n"
     ]
    },
    {
     "name": "stderr",
     "output_type": "stream",
     "text": [
      "  8%|██████                                                                      | 1267/16025 [11:06<3:02:39,  1.35it/s]"
     ]
    },
    {
     "name": "stdout",
     "output_type": "stream",
     "text": [
      "Redirected:  1267 https://www.domain.com.au/7-2-floriston-outlook-boronia-vic-3155-15356653\n"
     ]
    },
    {
     "name": "stderr",
     "output_type": "stream",
     "text": [
      "  8%|██████                                                                      | 1274/16025 [11:10<1:56:55,  2.10it/s]"
     ]
    },
    {
     "name": "stdout",
     "output_type": "stream",
     "text": [
      "Redirected:  1273 https://www.domain.com.au/2-38-northcote-road-armadale-vic-3143-16061573\n",
      "'props'\n"
     ]
    },
    {
     "name": "stderr",
     "output_type": "stream",
     "text": [
      "  8%|██████▏                                                                     | 1297/16025 [11:22<2:14:13,  1.83it/s]"
     ]
    },
    {
     "name": "stdout",
     "output_type": "stream",
     "text": [
      "Redirected:  1297 https://www.domain.com.au/laverton-vic-3028-16061505\n"
     ]
    },
    {
     "name": "stderr",
     "output_type": "stream",
     "text": [
      "  8%|██████▏                                                                     | 1311/16025 [11:29<1:34:54,  2.58it/s]"
     ]
    },
    {
     "name": "stdout",
     "output_type": "stream",
     "text": [
      "Redirected:  1310 https://www.domain.com.au/614-100-harbour-esplanade-docklands-vic-3008-16061477\n",
      "'props'\n"
     ]
    },
    {
     "name": "stderr",
     "output_type": "stream",
     "text": [
      "  8%|██████▎                                                                     | 1329/16025 [11:37<1:23:21,  2.94it/s]"
     ]
    },
    {
     "name": "stdout",
     "output_type": "stream",
     "text": [
      "Redirected:  1328 https://www.domain.com.au/23-attuna-crescent-capel-sound-vic-3940-16061436\n",
      "'props'\n"
     ]
    },
    {
     "name": "stderr",
     "output_type": "stream",
     "text": [
      "  8%|██████▍                                                                     | 1361/16025 [11:53<1:43:51,  2.35it/s]"
     ]
    },
    {
     "name": "stdout",
     "output_type": "stream",
     "text": [
      "Redirected:  1360 https://www.domain.com.au/18-848-pascoe-vale-road-glenroy-vic-3046-16061322\n",
      "'props'\n"
     ]
    },
    {
     "name": "stderr",
     "output_type": "stream",
     "text": [
      "  9%|██████▉                                                                     | 1473/16025 [12:57<2:05:46,  1.93it/s]"
     ]
    },
    {
     "name": "stdout",
     "output_type": "stream",
     "text": [
      "Redirected:  1473 https://www.domain.com.au/4-29-ellendale-road-glen-waverley-vic-3150-16060982\n"
     ]
    },
    {
     "name": "stderr",
     "output_type": "stream",
     "text": [
      "  9%|███████                                                                     | 1489/16025 [13:05<2:09:46,  1.87it/s]"
     ]
    },
    {
     "name": "stdout",
     "output_type": "stream",
     "text": [
      "'NoneType' object is not subscriptable\n"
     ]
    },
    {
     "name": "stderr",
     "output_type": "stream",
     "text": [
      "  9%|███████▏                                                                    | 1505/16025 [13:14<2:23:22,  1.69it/s]"
     ]
    },
    {
     "name": "stdout",
     "output_type": "stream",
     "text": [
      "'NoneType' object is not subscriptable\n"
     ]
    },
    {
     "name": "stderr",
     "output_type": "stream",
     "text": [
      " 10%|███████▍                                                                    | 1578/16025 [13:54<1:41:31,  2.37it/s]"
     ]
    },
    {
     "name": "stdout",
     "output_type": "stream",
     "text": [
      "Redirected:  1576 https://www.domain.com.au/12-46-alexandra-st-st-kilda-east-vic-3183-15723519\n",
      "'props'\n",
      "Redirected:  1577 https://www.domain.com.au/6-11-sydney-street-murrumbeena-vic-3163-15862536\n",
      "'props'\n"
     ]
    },
    {
     "name": "stderr",
     "output_type": "stream",
     "text": [
      " 10%|███████▌                                                                    | 1597/16025 [14:04<1:31:39,  2.62it/s]"
     ]
    },
    {
     "name": "stdout",
     "output_type": "stream",
     "text": [
      "Redirected:  1596 https://www.domain.com.au/balnarring-vic-3926-16060658\n",
      "'props'\n"
     ]
    },
    {
     "name": "stderr",
     "output_type": "stream",
     "text": [
      " 10%|███████▊                                                                    | 1651/16025 [14:35<2:13:42,  1.79it/s]"
     ]
    },
    {
     "name": "stdout",
     "output_type": "stream",
     "text": [
      "Redirected:  1650 https://www.domain.com.au/3-836-pascoe-vale-road-glenroy-vic-3046-15853721\n",
      "'props'\n"
     ]
    },
    {
     "name": "stderr",
     "output_type": "stream",
     "text": [
      " 10%|███████▉                                                                    | 1674/16025 [14:48<1:52:22,  2.13it/s]"
     ]
    },
    {
     "name": "stdout",
     "output_type": "stream",
     "text": [
      "Redirected:  1673 https://www.domain.com.au/900b-north-road-pearcedale-vic-3912-16060290\n",
      "'listingSummary'\n"
     ]
    },
    {
     "name": "stderr",
     "output_type": "stream",
     "text": [
      "\r\n",
      " 10%|███████▉                                                                    | 1675/16025 [14:48<1:30:50,  2.63it/s]"
     ]
    },
    {
     "name": "stdout",
     "output_type": "stream",
     "text": [
      "Redirected:  1674 https://www.domain.com.au/1-1-gladstone-street-coburg-vic-3058-16060287\n",
      "'props'\n"
     ]
    },
    {
     "name": "stderr",
     "output_type": "stream",
     "text": [
      " 10%|███████▉                                                                    | 1678/16025 [14:49<1:23:48,  2.85it/s]"
     ]
    },
    {
     "name": "stdout",
     "output_type": "stream",
     "text": [
      "Redirected:  1677 https://www.domain.com.au/77-99-whiteman-street-southbank-vic-3006-16060281\n",
      "'props'\n"
     ]
    },
    {
     "name": "stderr",
     "output_type": "stream",
     "text": [
      " 11%|████████▎                                                                   | 1750/16025 [15:33<3:06:36,  1.27it/s]"
     ]
    },
    {
     "name": "stdout",
     "output_type": "stream",
     "text": [
      "'NoneType' object is not subscriptable\n",
      "Redirected:  1749 https://www.domain.com.au/483-brunswick-road-brunswick-west-vic-3055-16059619\n",
      "'props'\n"
     ]
    },
    {
     "name": "stderr",
     "output_type": "stream",
     "text": [
      " 11%|████████▎                                                                   | 1757/16025 [15:36<1:28:19,  2.69it/s]"
     ]
    },
    {
     "name": "stdout",
     "output_type": "stream",
     "text": [
      "Redirected:  1756 https://www.domain.com.au/108-lambert-street-ararat-vic-3377-16060045\n",
      "'props'\n"
     ]
    },
    {
     "name": "stderr",
     "output_type": "stream",
     "text": [
      " 11%|████████▎                                                                   | 1761/16025 [15:37<1:18:04,  3.05it/s]"
     ]
    },
    {
     "name": "stdout",
     "output_type": "stream",
     "text": [
      "Redirected:  1760 https://www.domain.com.au/63-station-road-melton-south-vic-3338-16060029\n",
      "'props'\n"
     ]
    },
    {
     "name": "stderr",
     "output_type": "stream",
     "text": [
      " 11%|████████▍                                                                   | 1781/16025 [15:47<1:42:29,  2.32it/s]"
     ]
    },
    {
     "name": "stdout",
     "output_type": "stream",
     "text": [
      "Redirected:  1780 https://www.domain.com.au/38-lorimer-drive-bairnsdale-vic-3875-16059974\n",
      "'props'\n"
     ]
    },
    {
     "name": "stderr",
     "output_type": "stream",
     "text": [
      " 11%|████████▌                                                                   | 1793/16025 [15:54<1:49:10,  2.17it/s]"
     ]
    },
    {
     "name": "stdout",
     "output_type": "stream",
     "text": [
      "Redirected:  1793 https://www.domain.com.au/63-stafford-street-footscray-vic-3011-16059943\n"
     ]
    },
    {
     "name": "stderr",
     "output_type": "stream",
     "text": [
      " 11%|████████▌                                                                   | 1796/16025 [15:55<1:40:12,  2.37it/s]"
     ]
    },
    {
     "name": "stdout",
     "output_type": "stream",
     "text": [
      "Redirected:  1795 https://www.domain.com.au/3-218-warrigal-road-oakleigh-south-vic-3167-15678005\n",
      "'props'\n"
     ]
    },
    {
     "name": "stderr",
     "output_type": "stream",
     "text": [
      " 12%|████████▊                                                                   | 1850/16025 [16:22<2:19:03,  1.70it/s]"
     ]
    },
    {
     "name": "stdout",
     "output_type": "stream",
     "text": [
      "'NoneType' object is not subscriptable\n"
     ]
    },
    {
     "name": "stderr",
     "output_type": "stream",
     "text": [
      " 12%|█████████                                                                   | 1907/16025 [16:52<1:22:41,  2.85it/s]"
     ]
    },
    {
     "name": "stdout",
     "output_type": "stream",
     "text": [
      "Redirected:  1906 https://www.domain.com.au/2a-edgar-street-brighton-vic-3186-16059591\n",
      "'props'\n"
     ]
    },
    {
     "name": "stderr",
     "output_type": "stream",
     "text": [
      " 12%|█████████▍                                                                  | 1978/16025 [17:32<2:01:09,  1.93it/s]"
     ]
    },
    {
     "name": "stdout",
     "output_type": "stream",
     "text": [
      "Redirected:  1978 https://www.domain.com.au/406-evans-road-lovely-banks-vic-3213-16059365\n"
     ]
    },
    {
     "name": "stderr",
     "output_type": "stream",
     "text": [
      " 12%|█████████▍                                                                  | 1983/16025 [17:35<1:54:27,  2.04it/s]"
     ]
    },
    {
     "name": "stdout",
     "output_type": "stream",
     "text": [
      "Redirected:  1983 https://www.domain.com.au/998-gelliondale-road-gelliondale-vic-3971-16059350\n"
     ]
    },
    {
     "name": "stderr",
     "output_type": "stream",
     "text": [
      " 12%|█████████▍                                                                  | 1988/16025 [17:37<1:52:07,  2.09it/s]"
     ]
    },
    {
     "name": "stdout",
     "output_type": "stream",
     "text": [
      "Redirected:  1988 https://www.domain.com.au/3-gona-heidelberg-west-vic-3081-16059330\n"
     ]
    },
    {
     "name": "stderr",
     "output_type": "stream",
     "text": [
      " 12%|█████████▍                                                                  | 1993/16025 [17:40<2:04:46,  1.87it/s]"
     ]
    },
    {
     "name": "stdout",
     "output_type": "stream",
     "text": [
      "Redirected:  1993 https://www.domain.com.au/907-466-smith-street-collingwood-vic-3066-16059313\n"
     ]
    },
    {
     "name": "stderr",
     "output_type": "stream",
     "text": [
      " 13%|█████████▌                                                                  | 2004/16025 [17:46<1:58:30,  1.97it/s]"
     ]
    },
    {
     "name": "stdout",
     "output_type": "stream",
     "text": [
      "Redirected:  2003 https://www.domain.com.au/102-153-city-road-southbank-vic-3006-16059291\n",
      "'props'\n"
     ]
    },
    {
     "name": "stderr",
     "output_type": "stream",
     "text": [
      " 13%|█████████▊                                                                  | 2056/16025 [18:18<1:36:13,  2.42it/s]"
     ]
    },
    {
     "name": "stdout",
     "output_type": "stream",
     "text": [
      "Redirected:  2055 https://www.domain.com.au/1-12-lenore-street-springvale-vic-3171-16059099\n",
      "'props'\n"
     ]
    },
    {
     "name": "stderr",
     "output_type": "stream",
     "text": [
      " 13%|█████████▊                                                                  | 2071/16025 [18:24<1:39:57,  2.33it/s]"
     ]
    },
    {
     "name": "stdout",
     "output_type": "stream",
     "text": [
      "Redirected:  2071 https://www.domain.com.au/38-montmarte-drive-truganina-vic-3029-16059082\n",
      "'props'\n"
     ]
    },
    {
     "name": "stderr",
     "output_type": "stream",
     "text": [
      " 13%|█████████▉                                                                  | 2084/16025 [18:30<1:53:19,  2.05it/s]"
     ]
    },
    {
     "name": "stdout",
     "output_type": "stream",
     "text": [
      "Redirected:  2083 https://www.domain.com.au/2-oakwood-court-hillside-vic-3037-16059051\n",
      "'props'\n"
     ]
    },
    {
     "name": "stderr",
     "output_type": "stream",
     "text": [
      " 13%|██████████                                                                  | 2133/16025 [18:56<1:31:31,  2.53it/s]"
     ]
    },
    {
     "name": "stdout",
     "output_type": "stream",
     "text": [
      "Redirected:  2132 https://www.domain.com.au/38-beresford-road-wollert-vic-3750-16058903\n",
      "'props'\n"
     ]
    },
    {
     "name": "stderr",
     "output_type": "stream",
     "text": [
      " 13%|██████████▏                                                                 | 2158/16025 [19:08<1:39:22,  2.33it/s]"
     ]
    },
    {
     "name": "stdout",
     "output_type": "stream",
     "text": [
      "Redirected:  2158 https://www.domain.com.au/377-frankston-dandenong-road-frankston-north-vic-3200-16058816\n"
     ]
    },
    {
     "name": "stderr",
     "output_type": "stream",
     "text": [
      " 14%|██████████▎                                                                 | 2182/16025 [19:21<1:26:31,  2.67it/s]"
     ]
    },
    {
     "name": "stdout",
     "output_type": "stream",
     "text": [
      "Redirected:  2181 https://www.domain.com.au/305-18-kavanagh-street-southbank-vic-3006-16058733\n",
      "'props'\n"
     ]
    },
    {
     "name": "stderr",
     "output_type": "stream",
     "text": [
      " 14%|██████████▉                                                                 | 2307/16025 [20:22<1:18:36,  2.91it/s]"
     ]
    },
    {
     "name": "stdout",
     "output_type": "stream",
     "text": [
      "Redirected:  2306 https://www.domain.com.au/10-1-barnet-way-richmond-vic-3121-16058270\n",
      "'props'\n"
     ]
    },
    {
     "name": "stderr",
     "output_type": "stream",
     "text": [
      " 14%|██████████▉                                                                 | 2315/16025 [20:26<1:46:58,  2.14it/s]"
     ]
    },
    {
     "name": "stdout",
     "output_type": "stream",
     "text": [
      "Redirected:  2315 https://www.domain.com.au/308-182-191-fitzroy-street-st-kilda-vic-3182-16058244\n"
     ]
    },
    {
     "name": "stderr",
     "output_type": "stream",
     "text": [
      " 15%|███████████                                                                 | 2328/16025 [20:32<1:37:00,  2.35it/s]"
     ]
    },
    {
     "name": "stdout",
     "output_type": "stream",
     "text": [
      "Redirected:  2327 https://www.domain.com.au/50-barrier-avenue-dalyston-vic-3992-16058204\n",
      "'props'\n"
     ]
    },
    {
     "name": "stderr",
     "output_type": "stream",
     "text": [
      " 15%|███████████                                                                 | 2330/16025 [20:33<1:33:59,  2.43it/s]"
     ]
    },
    {
     "name": "stdout",
     "output_type": "stream",
     "text": [
      "Redirected:  2330 https://www.domain.com.au/54-antonio-road-tarneit-vic-3029-16058194\n"
     ]
    },
    {
     "name": "stderr",
     "output_type": "stream",
     "text": [
      " 15%|███████████                                                                 | 2338/16025 [20:36<1:13:05,  3.12it/s]"
     ]
    },
    {
     "name": "stdout",
     "output_type": "stream",
     "text": [
      "Redirected:  2336 https://www.domain.com.au/104-4-cromwell-road-south-yarra-vic-3141-16058177\n",
      "'props'\n",
      "Redirected:  2337 https://www.domain.com.au/3-33-clarke-street-elwood-vic-3184-16026638\n",
      "'props'\n"
     ]
    },
    {
     "name": "stderr",
     "output_type": "stream",
     "text": [
      " 15%|███████████▏                                                                | 2366/16025 [20:50<2:02:31,  1.86it/s]"
     ]
    },
    {
     "name": "stdout",
     "output_type": "stream",
     "text": [
      "Redirected:  2366 https://www.domain.com.au/51-mitchell-street-meadow-heights-vic-3048-16058070\n"
     ]
    },
    {
     "name": "stderr",
     "output_type": "stream",
     "text": [
      " 16%|███████████▊                                                                | 2492/16025 [21:57<2:04:26,  1.81it/s]"
     ]
    },
    {
     "name": "stdout",
     "output_type": "stream",
     "text": [
      "Redirected:  2492 https://www.domain.com.au/1-leila-street-essendon-vic-3040-16057691\n"
     ]
    },
    {
     "name": "stderr",
     "output_type": "stream",
     "text": [
      " 16%|███████████▊                                                                | 2497/16025 [21:59<1:55:47,  1.95it/s]"
     ]
    },
    {
     "name": "stdout",
     "output_type": "stream",
     "text": [
      "Redirected:  2497 https://www.domain.com.au/12-meadow-deepdene-vic-3103-16057687\n"
     ]
    },
    {
     "name": "stderr",
     "output_type": "stream",
     "text": [
      " 16%|███████████▉                                                                | 2511/16025 [22:06<1:55:21,  1.95it/s]"
     ]
    },
    {
     "name": "stdout",
     "output_type": "stream",
     "text": [
      "Redirected:  2511 https://www.domain.com.au/10-echidna-beveridge-vic-3753-16057622\n"
     ]
    },
    {
     "name": "stderr",
     "output_type": "stream",
     "text": [
      " 16%|███████████▉                                                                | 2513/16025 [22:07<2:08:32,  1.75it/s]"
     ]
    },
    {
     "name": "stdout",
     "output_type": "stream",
     "text": [
      "Redirected:  2513 https://www.domain.com.au/16-4-wando-grove-st-kilda-east-vic-3183-14132051\n"
     ]
    },
    {
     "name": "stderr",
     "output_type": "stream",
     "text": [
      " 16%|████████████▏                                                               | 2563/16025 [22:34<2:00:33,  1.86it/s]"
     ]
    },
    {
     "name": "stdout",
     "output_type": "stream",
     "text": [
      "Redirected:  2562 https://www.domain.com.au/367-station-street-carlton-north-vic-3054-15392968\n",
      "'props'\n"
     ]
    },
    {
     "name": "stderr",
     "output_type": "stream",
     "text": [
      " 16%|████████████▌                                                               | 2640/16025 [23:14<1:29:32,  2.49it/s]"
     ]
    },
    {
     "name": "stdout",
     "output_type": "stream",
     "text": [
      "Redirected:  2639 https://www.domain.com.au/3011-118-kavanagh-street-southbank-vic-3006-16057172\n",
      "'props'\n"
     ]
    },
    {
     "name": "stderr",
     "output_type": "stream",
     "text": [
      " 17%|████████████▊                                                               | 2705/16025 [23:49<1:45:53,  2.10it/s]"
     ]
    },
    {
     "name": "stdout",
     "output_type": "stream",
     "text": [
      "Redirected:  2704 https://www.domain.com.au/12-overlook-drive-inverloch-vic-3996-16056947\n",
      "'props'\n"
     ]
    },
    {
     "name": "stderr",
     "output_type": "stream",
     "text": [
      " 17%|█████████████▏                                                              | 2775/16025 [24:26<1:26:47,  2.54it/s]"
     ]
    },
    {
     "name": "stdout",
     "output_type": "stream",
     "text": [
      "Redirected:  2774 https://www.domain.com.au/260-moray-street-south-melbourne-vic-3205-16056645\n",
      "'props'\n"
     ]
    },
    {
     "name": "stderr",
     "output_type": "stream",
     "text": [
      "\r\n",
      " 17%|█████████████▏                                                              | 2776/16025 [24:26<1:32:22,  2.39it/s]"
     ]
    },
    {
     "name": "stdout",
     "output_type": "stream",
     "text": [
      "Redirected:  2776 https://www.domain.com.au/2-4-hartington-street-kew-vic-3101-16056644\n"
     ]
    },
    {
     "name": "stderr",
     "output_type": "stream",
     "text": [
      " 17%|█████████████▎                                                              | 2796/16025 [24:36<1:32:11,  2.39it/s]"
     ]
    },
    {
     "name": "stdout",
     "output_type": "stream",
     "text": [
      "Redirected:  2795 https://www.domain.com.au/camberwell-vic-3124-15911047\n",
      "'listingSummary'\n"
     ]
    },
    {
     "name": "stderr",
     "output_type": "stream",
     "text": [
      " 17%|█████████████▎                                                              | 2798/16025 [24:37<1:39:32,  2.21it/s]"
     ]
    },
    {
     "name": "stdout",
     "output_type": "stream",
     "text": [
      "Redirected:  2798 https://www.domain.com.au/address-available-on-request-collingwood-vic-3066-16054467\n"
     ]
    },
    {
     "name": "stderr",
     "output_type": "stream",
     "text": [
      " 18%|█████████████▎                                                              | 2809/16025 [24:45<1:40:05,  2.20it/s]"
     ]
    },
    {
     "name": "stdout",
     "output_type": "stream",
     "text": [
      "Redirected:  2808 https://www.domain.com.au/176-walnut-ave-mildura-vic-3500-16020186\n",
      "'props'\n"
     ]
    },
    {
     "name": "stderr",
     "output_type": "stream",
     "text": [
      " 18%|█████████████▍                                                              | 2837/16025 [25:01<1:56:34,  1.89it/s]"
     ]
    },
    {
     "name": "stdout",
     "output_type": "stream",
     "text": [
      "Redirected:  2837 https://www.domain.com.au/80-first-ave-altona-north-vic-3025-16056452\n"
     ]
    },
    {
     "name": "stderr",
     "output_type": "stream",
     "text": [
      " 18%|█████████████▌                                                              | 2855/16025 [25:11<1:52:24,  1.95it/s]"
     ]
    },
    {
     "name": "stdout",
     "output_type": "stream",
     "text": [
      "Redirected:  2855 https://www.domain.com.au/11-lando-street-plumpton-vic-3335-15178706\n"
     ]
    },
    {
     "name": "stderr",
     "output_type": "stream",
     "text": [
      " 18%|█████████████▊                                                              | 2924/16025 [25:44<2:36:03,  1.40it/s]"
     ]
    },
    {
     "name": "stdout",
     "output_type": "stream",
     "text": [
      "Redirected:  2924 https://www.domain.com.au/level-g02-11-reid-street-fitzroy-north-vic-3068-16056151\n"
     ]
    },
    {
     "name": "stderr",
     "output_type": "stream",
     "text": [
      " 18%|█████████████▉                                                              | 2939/16025 [25:52<1:46:31,  2.05it/s]"
     ]
    },
    {
     "name": "stdout",
     "output_type": "stream",
     "text": [
      "Redirected:  2939 https://www.domain.com.au/15-addicott-street-frankston-vic-3199-16056081\n"
     ]
    },
    {
     "name": "stderr",
     "output_type": "stream",
     "text": [
      " 18%|██████████████                                                              | 2956/16025 [26:00<1:56:58,  1.86it/s]"
     ]
    },
    {
     "name": "stdout",
     "output_type": "stream",
     "text": [
      "Redirected:  2956 https://www.domain.com.au/3-langar-road-deanside-vic-3336-16056027\n"
     ]
    },
    {
     "name": "stderr",
     "output_type": "stream",
     "text": [
      " 19%|██████████████▍                                                             | 3046/16025 [26:50<2:17:43,  1.57it/s]"
     ]
    },
    {
     "name": "stdout",
     "output_type": "stream",
     "text": [
      "Redirected:  3046 https://www.domain.com.au/gentle-road-tangambalanga-vic-3691-16055716\n"
     ]
    },
    {
     "name": "stderr",
     "output_type": "stream",
     "text": [
      " 19%|██████████████▌                                                             | 3066/16025 [27:00<1:46:22,  2.03it/s]"
     ]
    },
    {
     "name": "stdout",
     "output_type": "stream",
     "text": [
      "Redirected:  3065 https://www.domain.com.au/401-594-st-kilda-road-melbourne-vic-3000-16055668\n",
      "'props'\n"
     ]
    },
    {
     "name": "stderr",
     "output_type": "stream",
     "text": [
      " 19%|██████████████▋                                                             | 3085/16025 [27:09<1:52:47,  1.91it/s]"
     ]
    },
    {
     "name": "stdout",
     "output_type": "stream",
     "text": [
      "Redirected:  3085 https://www.domain.com.au/devenish-wy-st-leonards-vic-3223-16055609\n"
     ]
    },
    {
     "name": "stderr",
     "output_type": "stream",
     "text": [
      " 19%|██████████████▋                                                             | 3089/16025 [27:12<2:35:39,  1.39it/s]"
     ]
    },
    {
     "name": "stdout",
     "output_type": "stream",
     "text": [
      "Redirected:  3089 https://www.domain.com.au/3909-33-rose-lane-melbourne-vic-3000-16055604\n"
     ]
    },
    {
     "name": "stderr",
     "output_type": "stream",
     "text": [
      " 19%|██████████████▊                                                             | 3113/16025 [27:27<1:48:52,  1.98it/s]"
     ]
    },
    {
     "name": "stdout",
     "output_type": "stream",
     "text": [
      "Redirected:  3112 https://www.domain.com.au/2-130-widford-street-glenroy-vic-3046-16055535\n",
      "'props'\n"
     ]
    },
    {
     "name": "stderr",
     "output_type": "stream",
     "text": [
      " 20%|██████████████▉                                                             | 3137/16025 [27:40<2:05:53,  1.71it/s]"
     ]
    },
    {
     "name": "stdout",
     "output_type": "stream",
     "text": [
      "Redirected:  3137 https://www.domain.com.au/2-11-addis-street-geelong-west-vic-3218-16055426\n"
     ]
    },
    {
     "name": "stderr",
     "output_type": "stream",
     "text": [
      "\r\n",
      " 20%|██████████████▉                                                             | 3138/16025 [27:40<1:56:18,  1.85it/s]"
     ]
    },
    {
     "name": "stdout",
     "output_type": "stream",
     "text": [
      "'listingSummary'\n"
     ]
    },
    {
     "name": "stderr",
     "output_type": "stream",
     "text": [
      " 20%|██████████████▉                                                             | 3162/16025 [27:52<1:39:55,  2.15it/s]"
     ]
    },
    {
     "name": "stdout",
     "output_type": "stream",
     "text": [
      "Redirected:  3162 https://www.domain.com.au/5101-466-collins-street-melbourne-vic-3004-14787180\n"
     ]
    },
    {
     "name": "stderr",
     "output_type": "stream",
     "text": [
      " 20%|███████████████                                                             | 3167/16025 [27:55<1:24:26,  2.54it/s]"
     ]
    },
    {
     "name": "stdout",
     "output_type": "stream",
     "text": [
      "Redirected:  3166 https://www.domain.com.au/107-490-elgar-road-box-hill-vic-3128-11611880\n",
      "'props'\n"
     ]
    },
    {
     "name": "stderr",
     "output_type": "stream",
     "text": [
      " 20%|███████████████                                                             | 3180/16025 [28:01<1:40:48,  2.12it/s]"
     ]
    },
    {
     "name": "stdout",
     "output_type": "stream",
     "text": [
      "Redirected:  3180 https://www.domain.com.au/37b-youngm-youngman-street-preston-vic-3072-16055307\n"
     ]
    },
    {
     "name": "stderr",
     "output_type": "stream",
     "text": [
      " 20%|███████████████                                                             | 3189/16025 [28:08<1:48:28,  1.97it/s]"
     ]
    },
    {
     "name": "stdout",
     "output_type": "stream",
     "text": [
      "Redirected:  3188 https://www.domain.com.au/21-wavenhoe-ave-st-kilda-east-vic-3183-16055281\n",
      "'props'\n"
     ]
    },
    {
     "name": "stderr",
     "output_type": "stream",
     "text": [
      " 20%|███████████████▏                                                            | 3205/16025 [28:17<1:52:11,  1.90it/s]"
     ]
    },
    {
     "name": "stdout",
     "output_type": "stream",
     "text": [
      "Redirected:  3205 https://www.domain.com.au/3-11-cecil-court-ballarat-east-vic-3350-16055239\n"
     ]
    },
    {
     "name": "stderr",
     "output_type": "stream",
     "text": [
      " 20%|███████████████▎                                                            | 3240/16025 [28:34<1:47:50,  1.98it/s]"
     ]
    },
    {
     "name": "stdout",
     "output_type": "stream",
     "text": [
      "Redirected:  3240 https://www.domain.com.au/3-eliza-grove-wyndham-vale-vic-3024-16055125\n"
     ]
    },
    {
     "name": "stderr",
     "output_type": "stream",
     "text": [
      " 20%|███████████████▍                                                            | 3245/16025 [28:37<1:57:24,  1.81it/s]"
     ]
    },
    {
     "name": "stdout",
     "output_type": "stream",
     "text": [
      "Redirected:  3245 https://www.domain.com.au/10-euorilie-street-balwyn-north-vic-3104-16055111\n"
     ]
    },
    {
     "name": "stderr",
     "output_type": "stream",
     "text": [
      " 21%|███████████████▋                                                            | 3307/16025 [29:11<1:46:07,  2.00it/s]"
     ]
    },
    {
     "name": "stdout",
     "output_type": "stream",
     "text": [
      "Redirected:  3307 https://www.domain.com.au/west-melbourne-vic-3003-16054940\n"
     ]
    },
    {
     "name": "stderr",
     "output_type": "stream",
     "text": [
      " 21%|████████████████                                                            | 3398/16025 [29:57<1:32:50,  2.27it/s]"
     ]
    },
    {
     "name": "stdout",
     "output_type": "stream",
     "text": [
      "Redirected:  3397 https://www.domain.com.au/306-1-red-hill-doncaster-east-vic-3109-16054674\n",
      "'props'\n"
     ]
    },
    {
     "name": "stderr",
     "output_type": "stream",
     "text": [
      " 21%|████████████████▏                                                           | 3420/16025 [30:09<1:33:10,  2.25it/s]"
     ]
    },
    {
     "name": "stdout",
     "output_type": "stream",
     "text": [
      "Redirected:  3420 https://www.domain.com.au/67-marshall-street-newtown-vic-3220-16054624\n"
     ]
    },
    {
     "name": "stderr",
     "output_type": "stream",
     "text": [
      " 21%|████████████████▎                                                           | 3428/16025 [30:14<1:42:19,  2.05it/s]"
     ]
    },
    {
     "name": "stdout",
     "output_type": "stream",
     "text": [
      "Redirected:  3428 https://www.domain.com.au/2-10-melby-avenue-st-kilda-east-vic-3183-16054608\n"
     ]
    },
    {
     "name": "stderr",
     "output_type": "stream",
     "text": [
      " 21%|████████████████▎                                                           | 3436/16025 [30:19<1:58:59,  1.76it/s]"
     ]
    },
    {
     "name": "stdout",
     "output_type": "stream",
     "text": [
      "Redirected:  3435 https://www.domain.com.au/38-park-street-seaford-vic-3198-16054575\n",
      "'props'\n"
     ]
    },
    {
     "name": "stderr",
     "output_type": "stream",
     "text": [
      " 21%|████████████████▎                                                           | 3438/16025 [30:20<1:46:09,  1.98it/s]"
     ]
    },
    {
     "name": "stdout",
     "output_type": "stream",
     "text": [
      "Redirected:  3437 https://www.domain.com.au/1-437-flemington-rd-north-melbourne-vic-3051-15992054\n",
      "'props'\n"
     ]
    },
    {
     "name": "stderr",
     "output_type": "stream",
     "text": [
      " 22%|████████████████▌                                                           | 3499/16025 [30:55<1:39:23,  2.10it/s]"
     ]
    },
    {
     "name": "stdout",
     "output_type": "stream",
     "text": [
      "Redirected:  3498 https://www.domain.com.au/2107-11-rose-ln-melbourne-vic-3000-15875625\n",
      "'props'\n"
     ]
    },
    {
     "name": "stderr",
     "output_type": "stream",
     "text": [
      " 22%|████████████████▋                                                           | 3512/16025 [31:01<1:34:12,  2.21it/s]"
     ]
    },
    {
     "name": "stdout",
     "output_type": "stream",
     "text": [
      "Redirected:  3512 https://www.domain.com.au/712-188-road-footscray-vic-3011-16054365\n"
     ]
    },
    {
     "name": "stderr",
     "output_type": "stream",
     "text": [
      " 22%|████████████████▋                                                           | 3525/16025 [31:08<1:32:49,  2.24it/s]"
     ]
    },
    {
     "name": "stdout",
     "output_type": "stream",
     "text": [
      "Redirected:  3525 https://www.domain.com.au/1-60-clowes-street-south-yarra-vic-3141-16054320\n"
     ]
    },
    {
     "name": "stderr",
     "output_type": "stream",
     "text": [
      "\r\n",
      " 22%|████████████████▋                                                           | 3526/16025 [31:09<1:55:01,  1.81it/s]"
     ]
    },
    {
     "name": "stdout",
     "output_type": "stream",
     "text": [
      "'listingSummary'\n"
     ]
    },
    {
     "name": "stderr",
     "output_type": "stream",
     "text": [
      " 23%|█████████████████                                                           | 3609/16025 [31:53<1:44:59,  1.97it/s]"
     ]
    },
    {
     "name": "stdout",
     "output_type": "stream",
     "text": [
      "Redirected:  3608 https://www.domain.com.au/4a-lancaster-street-narre-warren-vic-3805-16054040\n",
      "'listingSummary'\n"
     ]
    },
    {
     "name": "stderr",
     "output_type": "stream",
     "text": [
      " 23%|█████████████████▏                                                          | 3632/16025 [32:07<1:56:21,  1.78it/s]"
     ]
    },
    {
     "name": "stdout",
     "output_type": "stream",
     "text": [
      "Redirected:  3631 https://www.domain.com.au/3a-3b-stockdale-stockdale-avenue-bentleigh-east-vic-3165-16053251\n",
      "'listingSummary'\n"
     ]
    },
    {
     "name": "stderr",
     "output_type": "stream",
     "text": [
      " 23%|█████████████████▎                                                          | 3662/16025 [32:27<1:31:49,  2.24it/s]"
     ]
    },
    {
     "name": "stdout",
     "output_type": "stream",
     "text": [
      "Redirected:  3661 https://www.domain.com.au/302-160-little-lonsdale-street-melbourne-vic-3000-16053882\n",
      "'props'\n"
     ]
    },
    {
     "name": "stderr",
     "output_type": "stream",
     "text": [
      "\r\n",
      " 23%|█████████████████▎                                                          | 3663/16025 [32:27<1:16:16,  2.70it/s]"
     ]
    },
    {
     "name": "stdout",
     "output_type": "stream",
     "text": [
      "Redirected:  3662 https://www.domain.com.au/250a-stewart-street-brunswick-east-vic-3057-16053880\n",
      "'props'\n"
     ]
    },
    {
     "name": "stderr",
     "output_type": "stream",
     "text": [
      " 23%|█████████████████▌                                                          | 3690/16025 [32:43<1:47:03,  1.92it/s]"
     ]
    },
    {
     "name": "stdout",
     "output_type": "stream",
     "text": [
      "Redirected:  3689 https://www.domain.com.au/14-straughan-st-glen-iris-vic-3146-16053776\n",
      "'listingSummary'\n"
     ]
    },
    {
     "name": "stderr",
     "output_type": "stream",
     "text": [
      " 23%|█████████████████▌                                                          | 3693/16025 [32:45<1:53:48,  1.81it/s]"
     ]
    },
    {
     "name": "stdout",
     "output_type": "stream",
     "text": [
      "Redirected:  3692 https://www.domain.com.au/6-27-balmoral-avenue-brunswick-vic-3056-16053773\n",
      "'props'\n"
     ]
    },
    {
     "name": "stderr",
     "output_type": "stream",
     "text": [
      " 23%|█████████████████▌                                                          | 3701/16025 [32:49<1:31:14,  2.25it/s]"
     ]
    },
    {
     "name": "stdout",
     "output_type": "stream",
     "text": [
      "Redirected:  3701 https://www.domain.com.au/2-63-rhodes-parade-glenroy-vic-3046-16053756\n"
     ]
    },
    {
     "name": "stderr",
     "output_type": "stream",
     "text": [
      " 24%|██████████████████▏                                                         | 3840/16025 [34:07<1:15:15,  2.70it/s]"
     ]
    },
    {
     "name": "stdout",
     "output_type": "stream",
     "text": [
      "Redirected:  3839 https://www.domain.com.au/124-sandhurst-boulevard-sandhurst-vic-3977-14532808\n",
      "'props'\n"
     ]
    },
    {
     "name": "stderr",
     "output_type": "stream",
     "text": [
      " 24%|██████████████████▏                                                         | 3847/16025 [34:10<1:11:06,  2.85it/s]"
     ]
    },
    {
     "name": "stdout",
     "output_type": "stream",
     "text": [
      "Redirected:  3846 https://www.domain.com.au/23-fault-crescent-north-wonthaggi-vic-3995-16053393\n",
      "'props'\n"
     ]
    },
    {
     "name": "stderr",
     "output_type": "stream",
     "text": [
      " 24%|██████████████████▍                                                         | 3879/16025 [34:25<1:15:19,  2.69it/s]"
     ]
    },
    {
     "name": "stdout",
     "output_type": "stream",
     "text": [
      "Redirected:  3878 https://www.domain.com.au/2808-118-kavanagh-street-southbank-vic-3006-13577031\n",
      "'props'\n"
     ]
    },
    {
     "name": "stderr",
     "output_type": "stream",
     "text": [
      " 24%|██████████████████▍                                                         | 3890/16025 [34:31<1:29:50,  2.25it/s]"
     ]
    },
    {
     "name": "stdout",
     "output_type": "stream",
     "text": [
      "Redirected:  3890 https://www.domain.com.au/1-3-5-17-19-hazeldene-court-berwick-vic-3806-14611396\n"
     ]
    },
    {
     "name": "stderr",
     "output_type": "stream",
     "text": [
      " 24%|██████████████████▍                                                         | 3896/16025 [34:34<1:38:37,  2.05it/s]"
     ]
    },
    {
     "name": "stdout",
     "output_type": "stream",
     "text": [
      "Redirected:  3896 https://www.domain.com.au/42-27-turva-ave-tarneit-vic-3029-15400122\n"
     ]
    },
    {
     "name": "stderr",
     "output_type": "stream",
     "text": [
      " 24%|██████████████████▌                                                         | 3904/16025 [34:40<2:04:18,  1.63it/s]"
     ]
    },
    {
     "name": "stdout",
     "output_type": "stream",
     "text": [
      "Redirected:  3903 https://www.domain.com.au/3-allamanda-crescent-south-morang-vic-3752-16053239\n",
      "'props'\n"
     ]
    },
    {
     "name": "stderr",
     "output_type": "stream",
     "text": [
      " 24%|██████████████████▌                                                         | 3922/16025 [34:50<1:18:44,  2.56it/s]"
     ]
    },
    {
     "name": "stdout",
     "output_type": "stream",
     "text": [
      "Redirected:  3921 https://www.domain.com.au/13-37-fitzgerald-street-south-yarra-vic-3141-16053199\n",
      "'props'\n"
     ]
    },
    {
     "name": "stderr",
     "output_type": "stream",
     "text": [
      " 24%|██████████████████▌                                                         | 3924/16025 [34:51<1:21:25,  2.48it/s]"
     ]
    },
    {
     "name": "stdout",
     "output_type": "stream",
     "text": [
      "Redirected:  3924 https://www.domain.com.au/mooroopna-vic-3629-16053196\n"
     ]
    },
    {
     "name": "stderr",
     "output_type": "stream",
     "text": [
      " 25%|██████████████████▋                                                         | 3933/16025 [34:55<1:32:50,  2.17it/s]"
     ]
    },
    {
     "name": "stdout",
     "output_type": "stream",
     "text": [
      "Redirected:  3933 https://www.domain.com.au/312-29-nicholson-street-brunswick-east-vic-3057-15006450\n"
     ]
    },
    {
     "name": "stderr",
     "output_type": "stream",
     "text": [
      "\r\n",
      " 25%|██████████████████▋                                                         | 3934/16025 [34:56<1:32:00,  2.19it/s]"
     ]
    },
    {
     "name": "stdout",
     "output_type": "stream",
     "text": [
      "Redirected:  3934 https://www.domain.com.au/u2-427-brunswick-road-brunswick-west-vic-3055-16053147\n"
     ]
    },
    {
     "name": "stderr",
     "output_type": "stream",
     "text": [
      " 25%|██████████████████▋                                                         | 3941/16025 [34:58<1:11:11,  2.83it/s]"
     ]
    },
    {
     "name": "stdout",
     "output_type": "stream",
     "text": [
      "Redirected:  3940 https://www.domain.com.au/5-329-orrong-road-st-kilda-east-vic-3183-15655672\n",
      "'props'\n"
     ]
    },
    {
     "name": "stderr",
     "output_type": "stream",
     "text": [
      " 25%|██████████████████▋                                                         | 3945/16025 [35:00<1:24:25,  2.38it/s]"
     ]
    },
    {
     "name": "stdout",
     "output_type": "stream",
     "text": [
      "Redirected:  3944 https://www.domain.com.au/24a-goodenia-close-meadow-heights-vic-3048-16053128\n",
      "'listingSummary'\n",
      "Redirected:  3945 https://www.domain.com.au/u21-117-bouverie-street-carlton-vic-3053-16053125\n"
     ]
    },
    {
     "name": "stderr",
     "output_type": "stream",
     "text": [
      " 25%|██████████████████▋                                                         | 3951/16025 [35:03<1:06:02,  3.05it/s]"
     ]
    },
    {
     "name": "stdout",
     "output_type": "stream",
     "text": [
      "Redirected:  3950 https://www.domain.com.au/4-443-warrigal-rd-burwood-vic-3125-9990579\n",
      "'props'\n",
      "Redirected:  3951 https://www.domain.com.au/34-easey-way-beveridge-vic-3753-16053116\n"
     ]
    },
    {
     "name": "stderr",
     "output_type": "stream",
     "text": [
      "\r\n",
      " 25%|██████████████████▋                                                         | 3952/16025 [35:03<1:27:20,  2.30it/s]"
     ]
    },
    {
     "name": "stdout",
     "output_type": "stream",
     "text": [
      "Redirected:  3952 https://www.domain.com.au/u5-237-glenlyon-road-brunswick-east-vic-3057-16053115\n"
     ]
    },
    {
     "name": "stderr",
     "output_type": "stream",
     "text": [
      " 25%|██████████████████▊                                                         | 3957/16025 [35:06<1:56:42,  1.72it/s]"
     ]
    },
    {
     "name": "stdout",
     "output_type": "stream",
     "text": [
      "Redirected:  3956 https://www.domain.com.au/3a-stockdale-avenue-bentleigh-east-vic-3165-16053101\n",
      "'listingSummary'\n"
     ]
    },
    {
     "name": "stderr",
     "output_type": "stream",
     "text": [
      " 25%|██████████████████▊                                                         | 3971/16025 [35:13<1:32:34,  2.17it/s]"
     ]
    },
    {
     "name": "stdout",
     "output_type": "stream",
     "text": [
      "Redirected:  3970 https://www.domain.com.au/307-148-wells-street-south-melbourne-vic-3205-16053069\n",
      "'props'\n"
     ]
    },
    {
     "name": "stderr",
     "output_type": "stream",
     "text": [
      " 25%|██████████████████▊                                                         | 3977/16025 [35:16<1:41:14,  1.98it/s]"
     ]
    },
    {
     "name": "stdout",
     "output_type": "stream",
     "text": [
      "Redirected:  3977 https://www.domain.com.au/bacchus-marsh-vic-3340-16053048\n"
     ]
    },
    {
     "name": "stderr",
     "output_type": "stream",
     "text": [
      " 25%|██████████████████▉                                                         | 4001/16025 [35:30<2:13:49,  1.50it/s]"
     ]
    },
    {
     "name": "stdout",
     "output_type": "stream",
     "text": [
      "Redirected:  4000 https://www.domain.com.au/12-kiers-avenue-mount-waverley-vic-3149-15449906\n",
      "'props'\n"
     ]
    },
    {
     "name": "stderr",
     "output_type": "stream",
     "text": [
      " 25%|███████████████████                                                         | 4011/16025 [35:35<1:44:39,  1.91it/s]"
     ]
    },
    {
     "name": "stdout",
     "output_type": "stream",
     "text": [
      "Redirected:  4011 https://www.domain.com.au/378-390-saint-georges-road-fitzroy-north-vic-3068-16052965\n"
     ]
    },
    {
     "name": "stderr",
     "output_type": "stream",
     "text": [
      " 25%|███████████████████                                                         | 4014/16025 [35:37<1:39:10,  2.02it/s]"
     ]
    },
    {
     "name": "stdout",
     "output_type": "stream",
     "text": [
      "Redirected:  4014 https://www.domain.com.au/altona-north-vic-3025-16052955\n"
     ]
    },
    {
     "name": "stderr",
     "output_type": "stream",
     "text": [
      " 25%|███████████████████                                                         | 4029/16025 [35:46<1:39:53,  2.00it/s]"
     ]
    },
    {
     "name": "stdout",
     "output_type": "stream",
     "text": [
      "Redirected:  4029 https://www.domain.com.au/145a-roberts-street-essendon-north-vic-3041-16052922\n"
     ]
    },
    {
     "name": "stderr",
     "output_type": "stream",
     "text": [
      " 25%|███████████████████▏                                                        | 4035/16025 [35:50<2:25:14,  1.38it/s]"
     ]
    },
    {
     "name": "stdout",
     "output_type": "stream",
     "text": [
      "Redirected:  4035 https://www.domain.com.au/20-tanner-breakwater-vic-3219-16052915\n"
     ]
    },
    {
     "name": "stderr",
     "output_type": "stream",
     "text": [
      " 25%|███████████████████▏                                                        | 4050/16025 [35:58<1:40:42,  1.98it/s]"
     ]
    },
    {
     "name": "stdout",
     "output_type": "stream",
     "text": [
      "Redirected:  4050 https://www.domain.com.au/1-7-13-laburnam-street-blackburn-vic-3130-16052877\n"
     ]
    },
    {
     "name": "stderr",
     "output_type": "stream",
     "text": [
      " 25%|███████████████████▎                                                        | 4074/16025 [36:12<1:19:45,  2.50it/s]"
     ]
    },
    {
     "name": "stdout",
     "output_type": "stream",
     "text": [
      "Redirected:  4073 https://www.domain.com.au/17-chamberlin-way-point-cook-vic-3030-16052816\n",
      "'listingSummary'\n"
     ]
    },
    {
     "name": "stderr",
     "output_type": "stream",
     "text": [
      " 25%|███████████████████▍                                                        | 4086/16025 [36:18<1:24:08,  2.36it/s]"
     ]
    },
    {
     "name": "stdout",
     "output_type": "stream",
     "text": [
      "Redirected:  4085 https://www.domain.com.au/115-thames-promenade-chelsea-vic-3196-16052779\n",
      "'props'\n"
     ]
    },
    {
     "name": "stderr",
     "output_type": "stream",
     "text": [
      " 26%|███████████████████▌                                                        | 4117/16025 [36:37<1:34:55,  2.09it/s]"
     ]
    },
    {
     "name": "stdout",
     "output_type": "stream",
     "text": [
      "Redirected:  4116 https://www.domain.com.au/2-18-the-crest-frankston-south-vic-3199-14340424\n",
      "'props'\n"
     ]
    },
    {
     "name": "stderr",
     "output_type": "stream",
     "text": [
      " 26%|███████████████████▋                                                        | 4148/16025 [36:52<2:04:19,  1.59it/s]"
     ]
    },
    {
     "name": "stdout",
     "output_type": "stream",
     "text": [
      "Redirected:  4148 https://www.domain.com.au/313-250-gore-street-fitzroy-vic-3065-15239464\n"
     ]
    },
    {
     "name": "stderr",
     "output_type": "stream",
     "text": [
      " 26%|███████████████████▋                                                        | 4150/16025 [36:54<2:18:18,  1.43it/s]"
     ]
    },
    {
     "name": "stdout",
     "output_type": "stream",
     "text": [
      "Redirected:  4150 https://www.domain.com.au/23-warrigal-road-oakleigh-vic-3166-16052605\n"
     ]
    },
    {
     "name": "stderr",
     "output_type": "stream",
     "text": [
      "\r\n",
      " 26%|███████████████████▋                                                        | 4151/16025 [36:54<2:33:45,  1.29it/s]"
     ]
    },
    {
     "name": "stdout",
     "output_type": "stream",
     "text": [
      "'listingSummary'\n"
     ]
    },
    {
     "name": "stderr",
     "output_type": "stream",
     "text": [
      " 26%|███████████████████▊                                                        | 4170/16025 [37:03<1:06:58,  2.95it/s]"
     ]
    },
    {
     "name": "stdout",
     "output_type": "stream",
     "text": [
      "Redirected:  4169 https://www.domain.com.au/211-17-pottershill-road-san-remo-vic-3925-15384558\n",
      "'props'\n"
     ]
    },
    {
     "name": "stderr",
     "output_type": "stream",
     "text": [
      " 26%|████████████████████▎                                                         | 4181/16025 [37:08<59:18,  3.33it/s]"
     ]
    },
    {
     "name": "stdout",
     "output_type": "stream",
     "text": [
      "Redirected:  4179 https://www.domain.com.au/9-wicklow-st-pascoe-vale-vic-3044-15898769\n",
      "'props'\n",
      "Redirected:  4180 https://www.domain.com.au/5-283-spring-street-melbourne-vic-3000-16052523\n",
      "'props'\n"
     ]
    },
    {
     "name": "stderr",
     "output_type": "stream",
     "text": [
      " 26%|███████████████████▉                                                        | 4194/16025 [37:17<2:09:57,  1.52it/s]"
     ]
    },
    {
     "name": "stdout",
     "output_type": "stream",
     "text": [
      "Redirected:  4194 https://www.domain.com.au/10-148-glen-huntly-road-elwood-vic-3184-16052486\n"
     ]
    },
    {
     "name": "stderr",
     "output_type": "stream",
     "text": [
      " 26%|███████████████████▉                                                        | 4208/16025 [37:26<1:47:05,  1.84it/s]"
     ]
    },
    {
     "name": "stdout",
     "output_type": "stream",
     "text": [
      "Redirected:  4207 https://www.domain.com.au/39-laurel-crescent-campbellfield-vic-3061-16052454\n",
      "'props'\n"
     ]
    },
    {
     "name": "stderr",
     "output_type": "stream",
     "text": [
      " 26%|███████████████████▉                                                        | 4214/16025 [37:30<1:46:40,  1.85it/s]"
     ]
    },
    {
     "name": "stdout",
     "output_type": "stream",
     "text": [
      "Redirected:  4213 https://www.domain.com.au/4-woodlands-avenue-pascoe-vale-south-vic-3044-10369408\n",
      "'props'\n"
     ]
    },
    {
     "name": "stderr",
     "output_type": "stream",
     "text": [
      " 26%|███████████████████▉                                                        | 4217/16025 [37:31<1:29:44,  2.19it/s]"
     ]
    },
    {
     "name": "stdout",
     "output_type": "stream",
     "text": [
      "Redirected:  4216 https://www.domain.com.au/54-sherrin-street-morwell-vic-3840-11645778\n",
      "'props'\n"
     ]
    },
    {
     "name": "stderr",
     "output_type": "stream",
     "text": [
      " 26%|████████████████████                                                        | 4240/16025 [37:44<1:51:59,  1.75it/s]"
     ]
    },
    {
     "name": "stdout",
     "output_type": "stream",
     "text": [
      "Redirected:  4240 https://www.domain.com.au/7-4-17-19-hazeldene-court-berwick-vic-3806-16052329\n"
     ]
    },
    {
     "name": "stderr",
     "output_type": "stream",
     "text": [
      " 27%|████████████████████▏                                                       | 4248/16025 [37:50<3:11:45,  1.02it/s]"
     ]
    },
    {
     "name": "stdout",
     "output_type": "stream",
     "text": [
      "Redirected:  4247 https://www.domain.com.au/1-85-devonshire-road-sunshine-vic-3020-16052312\n",
      "'props'\n"
     ]
    },
    {
     "name": "stderr",
     "output_type": "stream",
     "text": [
      " 27%|████████████████████▎                                                       | 4288/16025 [38:10<1:13:53,  2.65it/s]"
     ]
    },
    {
     "name": "stdout",
     "output_type": "stream",
     "text": [
      "Redirected:  4287 https://www.domain.com.au/13-canvas-st-truganina-vic-3029-16051939\n",
      "'props'\n"
     ]
    },
    {
     "name": "stderr",
     "output_type": "stream",
     "text": [
      " 27%|████████████████████▎                                                       | 4293/16025 [38:13<2:15:29,  1.44it/s]"
     ]
    },
    {
     "name": "stdout",
     "output_type": "stream",
     "text": [
      "Redirected:  4292 https://www.domain.com.au/id-21099121-14-maroona-road-carnegie-vic-3163-16051915\n",
      "'listingSummary'\n"
     ]
    },
    {
     "name": "stderr",
     "output_type": "stream",
     "text": [
      " 27%|████████████████████▎                                                       | 4295/16025 [38:14<1:57:42,  1.66it/s]"
     ]
    },
    {
     "name": "stdout",
     "output_type": "stream",
     "text": [
      "Redirected:  4295 https://www.domain.com.au/id-3890435-58-queens-parade-fitzroy-north-vic-3068-12756290\n"
     ]
    },
    {
     "name": "stderr",
     "output_type": "stream",
     "text": [
      "\r\n",
      " 27%|████████████████████▎                                                       | 4296/16025 [38:14<1:49:59,  1.78it/s]"
     ]
    },
    {
     "name": "stdout",
     "output_type": "stream",
     "text": [
      "'listingSummary'\n"
     ]
    },
    {
     "name": "stderr",
     "output_type": "stream",
     "text": [
      " 27%|████████████████████▍                                                       | 4301/16025 [38:17<1:40:11,  1.95it/s]"
     ]
    },
    {
     "name": "stdout",
     "output_type": "stream",
     "text": [
      "Redirected:  4301 https://www.domain.com.au/g08-2-albert-st-kilda-vic-3182-16051903\n"
     ]
    },
    {
     "name": "stderr",
     "output_type": "stream",
     "text": [
      " 27%|████████████████████▍                                                       | 4304/16025 [38:19<2:10:05,  1.50it/s]"
     ]
    },
    {
     "name": "stdout",
     "output_type": "stream",
     "text": [
      "Redirected:  4304 https://www.domain.com.au/51-were-brighton-vic-3186-16051892\n"
     ]
    },
    {
     "name": "stderr",
     "output_type": "stream",
     "text": [
      " 27%|████████████████████▍                                                       | 4314/16025 [38:24<1:24:54,  2.30it/s]"
     ]
    },
    {
     "name": "stdout",
     "output_type": "stream",
     "text": [
      "Redirected:  4313 https://www.domain.com.au/28-scott-street-seaford-vic-3198-16051871\n",
      "'props'\n"
     ]
    },
    {
     "name": "stderr",
     "output_type": "stream",
     "text": [
      " 27%|████████████████████▌                                                       | 4330/16025 [38:32<1:39:21,  1.96it/s]"
     ]
    },
    {
     "name": "stdout",
     "output_type": "stream",
     "text": [
      "Redirected:  4330 https://www.domain.com.au/303-33-harrow-street-box-hill-vic-3128-16051804\n"
     ]
    },
    {
     "name": "stderr",
     "output_type": "stream",
     "text": [
      " 27%|████████████████████▊                                                       | 4387/16025 [39:05<1:29:22,  2.17it/s]"
     ]
    },
    {
     "name": "stdout",
     "output_type": "stream",
     "text": [
      "Redirected:  4386 https://www.domain.com.au/111-whitelodge-road-woodend-north-vic-3442-16051629\n",
      "'props'\n"
     ]
    },
    {
     "name": "stderr",
     "output_type": "stream",
     "text": [
      " 28%|█████████████████████                                                       | 4429/16025 [39:28<1:43:50,  1.86it/s]"
     ]
    },
    {
     "name": "stdout",
     "output_type": "stream",
     "text": [
      "Redirected:  4429 https://www.domain.com.au/54-513-nott-street-port-melbourne-vic-3207-16051478\n"
     ]
    },
    {
     "name": "stderr",
     "output_type": "stream",
     "text": [
      " 28%|█████████████████████▏                                                      | 4472/16025 [39:53<1:21:09,  2.37it/s]"
     ]
    },
    {
     "name": "stdout",
     "output_type": "stream",
     "text": [
      "Redirected:  4471 https://www.domain.com.au/21a-barry-street-tootgarook-vic-3941-16023725\n",
      "'listingSummary'\n"
     ]
    },
    {
     "name": "stderr",
     "output_type": "stream",
     "text": [
      "\r\n",
      " 28%|█████████████████████▏                                                      | 4473/16025 [39:53<1:09:01,  2.79it/s]"
     ]
    },
    {
     "name": "stdout",
     "output_type": "stream",
     "text": [
      "Redirected:  4472 https://www.domain.com.au/17-hakea-avenue-capel-sound-vic-3940-15979179\n",
      "'props'\n"
     ]
    },
    {
     "name": "stderr",
     "output_type": "stream",
     "text": [
      " 28%|█████████████████████▏                                                      | 4475/16025 [39:54<1:03:48,  3.02it/s]"
     ]
    },
    {
     "name": "stdout",
     "output_type": "stream",
     "text": [
      "Redirected:  4474 https://www.domain.com.au/2-kestrel-court-baxter-vic-3911-15996139\n",
      "'props'\n"
     ]
    },
    {
     "name": "stderr",
     "output_type": "stream",
     "text": [
      " 28%|█████████████████████▎                                                      | 4481/16025 [39:56<1:04:15,  2.99it/s]"
     ]
    },
    {
     "name": "stdout",
     "output_type": "stream",
     "text": [
      "Redirected:  4480 https://www.domain.com.au/120-avebury-drive-berwick-vic-3806-14576560\n",
      "'props'\n"
     ]
    },
    {
     "name": "stderr",
     "output_type": "stream",
     "text": [
      " 28%|█████████████████████▎                                                      | 4485/16025 [39:58<1:25:38,  2.25it/s]"
     ]
    },
    {
     "name": "stdout",
     "output_type": "stream",
     "text": [
      "Redirected:  4485 https://www.domain.com.au/3-14-viewpoint-street-ararat-vic-3377-16051340\n"
     ]
    },
    {
     "name": "stderr",
     "output_type": "stream",
     "text": [
      " 28%|█████████████████████▍                                                      | 4510/16025 [40:12<1:29:45,  2.14it/s]"
     ]
    },
    {
     "name": "stdout",
     "output_type": "stream",
     "text": [
      "Redirected:  4510 https://www.domain.com.au/5008-639-lonsdale-street-melbourne-vic-3000-16051266\n"
     ]
    },
    {
     "name": "stderr",
     "output_type": "stream",
     "text": [
      " 28%|█████████████████████▍                                                      | 4526/16025 [40:21<1:57:21,  1.63it/s]"
     ]
    },
    {
     "name": "stdout",
     "output_type": "stream",
     "text": [
      "Redirected:  4526 https://www.domain.com.au/19-amerli-street-deanside-vic-3336-15176030\n"
     ]
    },
    {
     "name": "stderr",
     "output_type": "stream",
     "text": [
      "\r\n",
      " 28%|█████████████████████▍                                                      | 4527/16025 [40:21<1:48:53,  1.76it/s]"
     ]
    },
    {
     "name": "stdout",
     "output_type": "stream",
     "text": [
      "Redirected:  4527 https://www.domain.com.au/2-kindilan-lane-delacombe-vic-3356-16051217\n"
     ]
    },
    {
     "name": "stderr",
     "output_type": "stream",
     "text": [
      " 28%|█████████████████████▍                                                      | 4531/16025 [40:23<1:42:36,  1.87it/s]"
     ]
    },
    {
     "name": "stdout",
     "output_type": "stream",
     "text": [
      "Redirected:  4530 https://www.domain.com.au/142-173-city-road-southbank-vic-3006-16051214\n",
      "'props'\n"
     ]
    },
    {
     "name": "stderr",
     "output_type": "stream",
     "text": [
      " 28%|█████████████████████▌                                                      | 4545/16025 [40:31<1:17:16,  2.48it/s]"
     ]
    },
    {
     "name": "stdout",
     "output_type": "stream",
     "text": [
      "Redirected:  4544 https://www.domain.com.au/4-1a-wattle-road-maidstone-vic-3012-16049769\n",
      "'props'\n"
     ]
    },
    {
     "name": "stderr",
     "output_type": "stream",
     "text": [
      " 28%|█████████████████████▌                                                      | 4554/16025 [40:36<1:29:12,  2.14it/s]"
     ]
    },
    {
     "name": "stdout",
     "output_type": "stream",
     "text": [
      "Redirected:  4554 https://www.domain.com.au/2-4-margaret-street-parkdale-vic-3195-16051153\n"
     ]
    },
    {
     "name": "stderr",
     "output_type": "stream",
     "text": [
      " 28%|█████████████████████▌                                                      | 4559/16025 [40:38<1:09:28,  2.75it/s]"
     ]
    },
    {
     "name": "stdout",
     "output_type": "stream",
     "text": [
      "Redirected:  4558 https://www.domain.com.au/16-boronia-avenue-capel-sound-vic-3940-16016548\n",
      "'props'\n"
     ]
    },
    {
     "name": "stderr",
     "output_type": "stream",
     "text": [
      " 28%|█████████████████████▋                                                      | 4562/16025 [40:39<1:03:35,  3.00it/s]"
     ]
    },
    {
     "name": "stdout",
     "output_type": "stream",
     "text": [
      "Redirected:  4561 https://www.domain.com.au/201-97-flemington-road-north-melbourne-vic-3051-16051143\n",
      "'props'\n"
     ]
    },
    {
     "name": "stderr",
     "output_type": "stream",
     "text": [
      " 29%|██████████████████████                                                      | 4641/16025 [41:18<1:31:00,  2.08it/s]"
     ]
    },
    {
     "name": "stdout",
     "output_type": "stream",
     "text": [
      "Redirected:  4640 https://www.domain.com.au/6-aniseed-avenue-aintree-vic-3336-16050910\n",
      "'props'\n"
     ]
    },
    {
     "name": "stderr",
     "output_type": "stream",
     "text": [
      " 29%|██████████████████████▏                                                     | 4668/16025 [41:31<1:21:55,  2.31it/s]"
     ]
    },
    {
     "name": "stdout",
     "output_type": "stream",
     "text": [
      "Redirected:  4668 https://www.domain.com.au/2-pennell-avenue-st-albans-vic-3021-15633502\n"
     ]
    },
    {
     "name": "stderr",
     "output_type": "stream",
     "text": [
      " 29%|██████████████████████▎                                                     | 4704/16025 [41:50<2:23:14,  1.32it/s]"
     ]
    },
    {
     "name": "stdout",
     "output_type": "stream",
     "text": [
      "Redirected:  4704 https://www.domain.com.au/11-3-holmes-street-brunswick-east-vic-3057-15668683\n"
     ]
    },
    {
     "name": "stderr",
     "output_type": "stream",
     "text": [
      " 29%|██████████████████████▍                                                     | 4722/16025 [42:01<1:30:22,  2.08it/s]"
     ]
    },
    {
     "name": "stdout",
     "output_type": "stream",
     "text": [
      "Redirected:  4721 https://www.domain.com.au/2-80-napoleon-street-west-footscray-vic-3012-16050687\n",
      "'props'\n"
     ]
    },
    {
     "name": "stderr",
     "output_type": "stream",
     "text": [
      " 30%|██████████████████████▌                                                     | 4760/16025 [42:21<1:53:34,  1.65it/s]"
     ]
    },
    {
     "name": "stdout",
     "output_type": "stream",
     "text": [
      "Redirected:  4759 https://www.domain.com.au/95-rippleside-terrace-tarneit-vic-3029-15975003\n",
      "'props'\n"
     ]
    },
    {
     "name": "stderr",
     "output_type": "stream",
     "text": [
      " 30%|██████████████████████▌                                                     | 4769/16025 [42:25<1:06:53,  2.80it/s]"
     ]
    },
    {
     "name": "stdout",
     "output_type": "stream",
     "text": [
      "Redirected:  4768 https://www.domain.com.au/24-eastside-dr-mildura-vic-3500-16019031\n",
      "'props'\n"
     ]
    },
    {
     "name": "stderr",
     "output_type": "stream",
     "text": [
      " 30%|██████████████████████▋                                                     | 4781/16025 [42:31<1:20:16,  2.33it/s]"
     ]
    },
    {
     "name": "stdout",
     "output_type": "stream",
     "text": [
      "Redirected:  4781 https://www.domain.com.au/10-49-59-coonans-road-pascoe-vale-south-vic-3044-16050532\n"
     ]
    },
    {
     "name": "stderr",
     "output_type": "stream",
     "text": [
      " 30%|██████████████████████▊                                                     | 4809/16025 [42:46<2:06:19,  1.48it/s]"
     ]
    },
    {
     "name": "stdout",
     "output_type": "stream",
     "text": [
      "Redirected:  4809 https://www.domain.com.au/17c-wentworth-drive-taylors-lakes-vic-3038-14532713\n"
     ]
    },
    {
     "name": "stderr",
     "output_type": "stream",
     "text": [
      " 30%|██████████████████████▊                                                     | 4823/16025 [42:54<2:04:50,  1.50it/s]"
     ]
    },
    {
     "name": "stdout",
     "output_type": "stream",
     "text": [
      "Redirected:  4823 https://www.domain.com.au/62-39-huon-park-road-cranbourne-north-vic-3977-16050430\n"
     ]
    },
    {
     "name": "stderr",
     "output_type": "stream",
     "text": [
      " 30%|██████████████████████▉                                                     | 4835/16025 [43:00<1:36:50,  1.93it/s]"
     ]
    },
    {
     "name": "stdout",
     "output_type": "stream",
     "text": [
      "Redirected:  4835 https://www.domain.com.au/18-mayall-crescent-wyndham-vale-vic-3024-16050395\n"
     ]
    },
    {
     "name": "stderr",
     "output_type": "stream",
     "text": [
      " 31%|███████████████████████▏                                                    | 4901/16025 [43:35<1:42:23,  1.81it/s]"
     ]
    },
    {
     "name": "stdout",
     "output_type": "stream",
     "text": [
      "Redirected:  4901 https://www.domain.com.au/108-foot-street-frankston-vic-3199-16050212\n"
     ]
    },
    {
     "name": "stderr",
     "output_type": "stream",
     "text": [
      " 31%|███████████████████████▎                                                    | 4915/16025 [43:43<1:44:12,  1.78it/s]"
     ]
    },
    {
     "name": "stdout",
     "output_type": "stream",
     "text": [
      "Redirected:  4915 https://www.domain.com.au/7-composits-lane-doreen-vic-3754-16050182\n"
     ]
    },
    {
     "name": "stderr",
     "output_type": "stream",
     "text": [
      " 31%|███████████████████████▍                                                    | 4933/16025 [43:51<1:40:02,  1.85it/s]"
     ]
    },
    {
     "name": "stdout",
     "output_type": "stream",
     "text": [
      "Redirected:  4933 https://www.domain.com.au/63-39-huon-park-road-cranbourne-north-vic-3977-16050121\n"
     ]
    },
    {
     "name": "stderr",
     "output_type": "stream",
     "text": [
      " 31%|███████████████████████▌                                                    | 4960/16025 [44:04<1:21:46,  2.26it/s]"
     ]
    },
    {
     "name": "stdout",
     "output_type": "stream",
     "text": [
      "Redirected:  4960 https://www.domain.com.au/601-320-plummer-street-port-melbourne-vic-3207-16050068\n"
     ]
    },
    {
     "name": "stderr",
     "output_type": "stream",
     "text": [
      "\r\n",
      " 31%|███████████████████████▌                                                    | 4961/16025 [44:05<2:01:44,  1.51it/s]"
     ]
    },
    {
     "name": "stdout",
     "output_type": "stream",
     "text": [
      "'listingSummary'\n"
     ]
    },
    {
     "name": "stderr",
     "output_type": "stream",
     "text": [
      " 31%|███████████████████████▌                                                    | 4973/16025 [44:13<2:18:45,  1.33it/s]"
     ]
    },
    {
     "name": "stdout",
     "output_type": "stream",
     "text": [
      "Redirected:  4972 https://www.domain.com.au/12-lambourne-avenue-truganina-vic-3029-16050023\n",
      "'props'\n"
     ]
    },
    {
     "name": "stderr",
     "output_type": "stream",
     "text": [
      " 31%|███████████████████████▋                                                    | 4998/16025 [44:25<1:37:01,  1.89it/s]"
     ]
    },
    {
     "name": "stdout",
     "output_type": "stream",
     "text": [
      "Redirected:  4998 https://www.domain.com.au/64-wombat-dr-eltham-vic-3095-16049957\n"
     ]
    },
    {
     "name": "stderr",
     "output_type": "stream",
     "text": [
      " 32%|███████████████████████▉                                                    | 5060/16025 [44:58<2:07:11,  1.44it/s]"
     ]
    },
    {
     "name": "stdout",
     "output_type": "stream",
     "text": [
      "Redirected:  5060 https://www.domain.com.au/7-pippin-court-bacchus-marsh-vic-3340-16049781\n"
     ]
    },
    {
     "name": "stderr",
     "output_type": "stream",
     "text": [
      " 32%|████████████████████████▍                                                   | 5147/16025 [45:46<1:55:27,  1.57it/s]"
     ]
    },
    {
     "name": "stdout",
     "output_type": "stream",
     "text": [
      "Redirected:  5147 https://www.domain.com.au/305-13-15-goodson-street-doncaster-vic-3108-16049535\n"
     ]
    },
    {
     "name": "stderr",
     "output_type": "stream",
     "text": [
      " 32%|████████████████████████▍                                                   | 5161/16025 [45:55<2:36:05,  1.16it/s]"
     ]
    },
    {
     "name": "stdout",
     "output_type": "stream",
     "text": [
      "Redirected:  5161 https://www.domain.com.au/112-harold-street-middle-park-vic-3206-15274766\n"
     ]
    },
    {
     "name": "stderr",
     "output_type": "stream",
     "text": [
      " 32%|████████████████████████▋                                                   | 5207/16025 [46:19<1:10:41,  2.55it/s]"
     ]
    },
    {
     "name": "stdout",
     "output_type": "stream",
     "text": [
      "Redirected:  5206 https://www.domain.com.au/7-27-high-street-mont-albert-vic-3127-16049298\n",
      "'props'\n"
     ]
    },
    {
     "name": "stderr",
     "output_type": "stream",
     "text": [
      " 33%|████████████████████████▋                                                   | 5218/16025 [46:24<1:29:29,  2.01it/s]"
     ]
    },
    {
     "name": "stdout",
     "output_type": "stream",
     "text": [
      "Redirected:  5217 https://www.domain.com.au/1-1-linden-avenue-wendouree-vic-3355-16049215\n",
      "'props'\n"
     ]
    },
    {
     "name": "stderr",
     "output_type": "stream",
     "text": [
      " 33%|████████████████████████▊                                                   | 5224/16025 [46:27<2:09:32,  1.39it/s]"
     ]
    },
    {
     "name": "stdout",
     "output_type": "stream",
     "text": [
      "Redirected:  5224 https://www.domain.com.au/93-canterbury-road-montrose-vic-3765-16049180\n"
     ]
    },
    {
     "name": "stderr",
     "output_type": "stream",
     "text": [
      " 33%|█████████████████████████▏                                                  | 5300/16025 [47:04<1:04:47,  2.76it/s]"
     ]
    },
    {
     "name": "stdout",
     "output_type": "stream",
     "text": [
      "Redirected:  5299 https://www.domain.com.au/55b-soudan-street-coburg-vic-3058-16048976\n",
      "'props'\n"
     ]
    },
    {
     "name": "stderr",
     "output_type": "stream",
     "text": [
      " 33%|█████████████████████████▏                                                  | 5319/16025 [47:13<1:26:05,  2.07it/s]"
     ]
    },
    {
     "name": "stdout",
     "output_type": "stream",
     "text": [
      "Redirected:  5319 https://www.domain.com.au/2-durnham-court-epping-vic-3076-16048912\n"
     ]
    },
    {
     "name": "stderr",
     "output_type": "stream",
     "text": [
      " 33%|█████████████████████████▏                                                  | 5321/16025 [47:14<1:26:39,  2.06it/s]"
     ]
    },
    {
     "name": "stdout",
     "output_type": "stream",
     "text": [
      "Redirected:  5321 https://www.domain.com.au/4-12-pattersons-ln-portland-vic-3305-16048904\n"
     ]
    },
    {
     "name": "stderr",
     "output_type": "stream",
     "text": [
      " 33%|█████████████████████████▎                                                  | 5330/16025 [47:19<1:18:10,  2.28it/s]"
     ]
    },
    {
     "name": "stdout",
     "output_type": "stream",
     "text": [
      "Redirected:  5329 https://www.domain.com.au/1-198-aberdeen-street-geelong-west-vic-3218-16048866\n",
      "'props'\n"
     ]
    },
    {
     "name": "stderr",
     "output_type": "stream",
     "text": [
      " 33%|█████████████████████████▎                                                  | 5334/16025 [47:21<1:29:30,  1.99it/s]"
     ]
    },
    {
     "name": "stdout",
     "output_type": "stream",
     "text": [
      "Redirected:  5333 https://www.domain.com.au/52-hope-street-brunswick-vic-3056-16048861\n",
      "'props'\n"
     ]
    },
    {
     "name": "stderr",
     "output_type": "stream",
     "text": [
      " 33%|█████████████████████████▎                                                  | 5339/16025 [47:24<1:44:39,  1.70it/s]"
     ]
    },
    {
     "name": "stdout",
     "output_type": "stream",
     "text": [
      "Redirected:  5338 https://www.domain.com.au/96-hikari-crescent-cranbourne-south-vic-3977-16048838\n",
      "'props'\n"
     ]
    },
    {
     "name": "stderr",
     "output_type": "stream",
     "text": [
      " 33%|█████████████████████████▎                                                  | 5342/16025 [47:27<2:34:50,  1.15it/s]"
     ]
    },
    {
     "name": "stdout",
     "output_type": "stream",
     "text": [
      "Redirected:  5341 https://www.domain.com.au/6-elizabeth-street-stawell-vic-3380-16048819\n",
      "'props'\n"
     ]
    },
    {
     "name": "stderr",
     "output_type": "stream",
     "text": [
      " 33%|█████████████████████████▍                                                  | 5354/16025 [47:34<1:56:14,  1.53it/s]"
     ]
    },
    {
     "name": "stdout",
     "output_type": "stream",
     "text": [
      "Redirected:  5354 https://www.domain.com.au/108-227-st-georges-road-northcote-vic-3070-16048771\n"
     ]
    },
    {
     "name": "stderr",
     "output_type": "stream",
     "text": [
      "\r\n",
      " 33%|█████████████████████████▍                                                  | 5355/16025 [47:34<1:51:30,  1.59it/s]"
     ]
    },
    {
     "name": "stdout",
     "output_type": "stream",
     "text": [
      "'listingSummary'\n"
     ]
    },
    {
     "name": "stderr",
     "output_type": "stream",
     "text": [
      " 34%|█████████████████████████▍                                                  | 5373/16025 [47:45<2:13:44,  1.33it/s]"
     ]
    },
    {
     "name": "stdout",
     "output_type": "stream",
     "text": [
      "'NoneType' object is not subscriptable\n"
     ]
    },
    {
     "name": "stderr",
     "output_type": "stream",
     "text": [
      " 34%|█████████████████████████▌                                                  | 5384/16025 [47:50<1:09:15,  2.56it/s]"
     ]
    },
    {
     "name": "stdout",
     "output_type": "stream",
     "text": [
      "Redirected:  5383 https://www.domain.com.au/2012-63-whiteman-street-southbank-vic-3006-16048670\n",
      "'props'\n"
     ]
    },
    {
     "name": "stderr",
     "output_type": "stream",
     "text": [
      " 34%|█████████████████████████▋                                                  | 5415/16025 [48:07<1:27:13,  2.03it/s]"
     ]
    },
    {
     "name": "stdout",
     "output_type": "stream",
     "text": [
      "Redirected:  5415 https://www.domain.com.au/19-huntingdale-street-brighton-vic-3186-16048566\n"
     ]
    },
    {
     "name": "stderr",
     "output_type": "stream",
     "text": [
      "\r\n",
      " 34%|█████████████████████████▋                                                  | 5416/16025 [48:08<1:38:12,  1.80it/s]"
     ]
    },
    {
     "name": "stdout",
     "output_type": "stream",
     "text": [
      "Redirected:  5416 https://www.domain.com.au/box-hill-vic-3128-16048565\n"
     ]
    },
    {
     "name": "stderr",
     "output_type": "stream",
     "text": [
      " 34%|█████████████████████████▊                                                  | 5451/16025 [48:25<1:24:41,  2.08it/s]"
     ]
    },
    {
     "name": "stdout",
     "output_type": "stream",
     "text": [
      "Redirected:  5451 https://www.domain.com.au/11-71-barkly-st-mordialloc-vic-3195-16048478\n"
     ]
    },
    {
     "name": "stderr",
     "output_type": "stream",
     "text": [
      " 34%|██████████████████████████▏                                                 | 5512/16025 [48:58<1:48:02,  1.62it/s]"
     ]
    },
    {
     "name": "stdout",
     "output_type": "stream",
     "text": [
      "Redirected:  5512 https://www.domain.com.au/32-jessie-st-richmond-vic-3121-16044369\n"
     ]
    },
    {
     "name": "stderr",
     "output_type": "stream",
     "text": [
      " 35%|██████████████████████████▏                                                 | 5534/16025 [49:12<1:13:23,  2.38it/s]"
     ]
    },
    {
     "name": "stdout",
     "output_type": "stream",
     "text": [
      "Redirected:  5533 https://www.domain.com.au/1-293-buckley-st-essendon-vic-3040-13810790\n",
      "'props'\n"
     ]
    },
    {
     "name": "stderr",
     "output_type": "stream",
     "text": [
      " 35%|██████████████████████████▎                                                 | 5542/16025 [49:15<1:00:13,  2.90it/s]"
     ]
    },
    {
     "name": "stdout",
     "output_type": "stream",
     "text": [
      "Redirected:  5541 https://www.domain.com.au/11-436-geelong-road-west-footscray-vic-3012-16048132\n",
      "'props'\n"
     ]
    },
    {
     "name": "stderr",
     "output_type": "stream",
     "text": [
      " 35%|██████████████████████████▌                                                 | 5588/16025 [49:38<1:15:25,  2.31it/s]"
     ]
    },
    {
     "name": "stdout",
     "output_type": "stream",
     "text": [
      "Redirected:  5588 https://www.domain.com.au/6-151-fitzroy-street-st-kilda-vic-3182-15960897\n"
     ]
    },
    {
     "name": "stderr",
     "output_type": "stream",
     "text": [
      " 35%|██████████████████████████▌                                                 | 5604/16025 [49:47<1:45:37,  1.64it/s]"
     ]
    },
    {
     "name": "stdout",
     "output_type": "stream",
     "text": [
      "Redirected:  5603 https://www.domain.com.au/201-64-macaulay-road-north-melbourne-vic-3051-16047959\n",
      "'props'\n"
     ]
    },
    {
     "name": "stderr",
     "output_type": "stream",
     "text": [
      " 35%|██████████████████████████▊                                                 | 5641/16025 [50:08<1:30:43,  1.91it/s]"
     ]
    },
    {
     "name": "stdout",
     "output_type": "stream",
     "text": [
      "Redirected:  5641 https://www.domain.com.au/98-bostock-street-warrnambool-vic-3280-16047788\n"
     ]
    },
    {
     "name": "stderr",
     "output_type": "stream",
     "text": [
      " 35%|██████████████████████████▉                                                 | 5667/16025 [50:22<1:47:50,  1.60it/s]"
     ]
    },
    {
     "name": "stdout",
     "output_type": "stream",
     "text": [
      "'NoneType' object is not subscriptable\n"
     ]
    },
    {
     "name": "stderr",
     "output_type": "stream",
     "text": [
      " 36%|███████████████████████████▏                                                | 5723/16025 [50:51<1:31:07,  1.88it/s]"
     ]
    },
    {
     "name": "stdout",
     "output_type": "stream",
     "text": [
      "Redirected:  5722 https://www.domain.com.au/903-lydiard-st-n-ballarat-north-vic-3350-16047530\n",
      "'props'\n"
     ]
    },
    {
     "name": "stderr",
     "output_type": "stream",
     "text": [
      " 36%|███████████████████████████▏                                                | 5732/16025 [50:56<1:12:25,  2.37it/s]"
     ]
    },
    {
     "name": "stdout",
     "output_type": "stream",
     "text": [
      "Redirected:  5731 https://www.domain.com.au/1880-westernport-road-ripplebrook-vic-3818-16047492\n",
      "'props'\n"
     ]
    },
    {
     "name": "stderr",
     "output_type": "stream",
     "text": [
      " 36%|███████████████████████████▏                                                | 5740/16025 [50:59<1:01:00,  2.81it/s]"
     ]
    },
    {
     "name": "stdout",
     "output_type": "stream",
     "text": [
      "Redirected:  5739 https://www.domain.com.au/8-harvey-court-roxburgh-park-vic-3064-16047471\n",
      "'props'\n"
     ]
    },
    {
     "name": "stderr",
     "output_type": "stream",
     "text": [
      " 36%|███████████████████████████▏                                                | 5745/16025 [51:01<1:02:28,  2.74it/s]"
     ]
    },
    {
     "name": "stdout",
     "output_type": "stream",
     "text": [
      "Redirected:  5744 https://www.domain.com.au/1-35-wilgah-st-st-kilda-east-vic-3183-15695571\n",
      "'props'\n"
     ]
    },
    {
     "name": "stderr",
     "output_type": "stream",
     "text": [
      " 36%|███████████████████████████▎                                                | 5762/16025 [51:11<1:54:21,  1.50it/s]"
     ]
    },
    {
     "name": "stdout",
     "output_type": "stream",
     "text": [
      "Redirected:  5761 https://www.domain.com.au/4706-60-kavanagh-street-southbank-vic-3006-16047391\n",
      "'props'\n"
     ]
    },
    {
     "name": "stderr",
     "output_type": "stream",
     "text": [
      " 36%|███████████████████████████▎                                                | 5764/16025 [51:12<1:20:38,  2.12it/s]"
     ]
    },
    {
     "name": "stdout",
     "output_type": "stream",
     "text": [
      "Redirected:  5763 https://www.domain.com.au/2812-601-little-lonsdale-street-melbourne-vic-3000-16047388\n",
      "'props'\n"
     ]
    },
    {
     "name": "stderr",
     "output_type": "stream",
     "text": [
      " 36%|███████████████████████████▍                                                | 5785/16025 [51:23<1:30:34,  1.88it/s]"
     ]
    },
    {
     "name": "stdout",
     "output_type": "stream",
     "text": [
      "Redirected:  5784 https://www.domain.com.au/904n-229-toorak-road-south-yarra-vic-3141-11309148\n",
      "'listingSummary'\n"
     ]
    },
    {
     "name": "stderr",
     "output_type": "stream",
     "text": [
      " 36%|███████████████████████████▍                                                | 5787/16025 [51:24<1:09:42,  2.45it/s]"
     ]
    },
    {
     "name": "stdout",
     "output_type": "stream",
     "text": [
      "Redirected:  5786 https://www.domain.com.au/212-416a-st-kilda-road-melbourne-vic-3004-16047316\n",
      "'props'\n"
     ]
    },
    {
     "name": "stderr",
     "output_type": "stream",
     "text": [
      " 36%|███████████████████████████▍                                                | 5792/16025 [51:27<1:34:24,  1.81it/s]"
     ]
    },
    {
     "name": "stdout",
     "output_type": "stream",
     "text": [
      "Redirected:  5792 https://www.domain.com.au/201-116-leake-street-essendon-vic-3040-16047298\n"
     ]
    },
    {
     "name": "stderr",
     "output_type": "stream",
     "text": [
      " 36%|███████████████████████████▌                                                | 5806/16025 [51:34<1:27:00,  1.96it/s]"
     ]
    },
    {
     "name": "stdout",
     "output_type": "stream",
     "text": [
      "Redirected:  5806 https://www.domain.com.au/20a-cavehill-road-lilydale-vic-3140-15239553\n"
     ]
    },
    {
     "name": "stderr",
     "output_type": "stream",
     "text": [
      " 36%|███████████████████████████▌                                                | 5810/16025 [51:36<1:29:35,  1.90it/s]"
     ]
    },
    {
     "name": "stdout",
     "output_type": "stream",
     "text": [
      "Redirected:  5809 https://www.domain.com.au/2-49-valencia-st-glenroy-vic-3046-16047132\n",
      "'props'\n"
     ]
    },
    {
     "name": "stderr",
     "output_type": "stream",
     "text": [
      " 36%|███████████████████████████▋                                                | 5832/16025 [51:49<2:10:18,  1.30it/s]"
     ]
    },
    {
     "name": "stdout",
     "output_type": "stream",
     "text": [
      "Redirected:  5832 https://www.domain.com.au/238a-were-street-brighton-east-vic-3187-16047072\n"
     ]
    },
    {
     "name": "stderr",
     "output_type": "stream",
     "text": [
      " 37%|███████████████████████████▊                                                | 5860/16025 [52:05<1:08:23,  2.48it/s]"
     ]
    },
    {
     "name": "stdout",
     "output_type": "stream",
     "text": [
      "Redirected:  5859 https://www.domain.com.au/2804-245-city-road-southbank-vic-3006-16046962\n",
      "'props'\n"
     ]
    },
    {
     "name": "stderr",
     "output_type": "stream",
     "text": [
      " 37%|███████████████████████████▊                                                | 5867/16025 [52:09<1:16:42,  2.21it/s]"
     ]
    },
    {
     "name": "stdout",
     "output_type": "stream",
     "text": [
      "Redirected:  5867 https://www.domain.com.au/1507e-888-little-collins-street-docklands-vic-3008-16046909\n"
     ]
    },
    {
     "name": "stderr",
     "output_type": "stream",
     "text": [
      " 37%|████████████████████████████                                                | 5906/16025 [52:30<1:23:10,  2.03it/s]"
     ]
    },
    {
     "name": "stdout",
     "output_type": "stream",
     "text": [
      "Redirected:  5906 https://www.domain.com.au/2-22-albert-street-brunswick-east-vic-3057-16046766\n"
     ]
    },
    {
     "name": "stderr",
     "output_type": "stream",
     "text": [
      " 37%|████████████████████████████                                                | 5922/16025 [52:38<1:17:18,  2.18it/s]"
     ]
    },
    {
     "name": "stdout",
     "output_type": "stream",
     "text": [
      "Redirected:  5921 https://www.domain.com.au/107c-11-shamrock-street-abbotsford-vic-3067-16046712\n",
      "'listingSummary'\n"
     ]
    },
    {
     "name": "stderr",
     "output_type": "stream",
     "text": [
      " 37%|████████████████████████████▏                                               | 5935/16025 [52:44<1:01:09,  2.75it/s]"
     ]
    },
    {
     "name": "stdout",
     "output_type": "stream",
     "text": [
      "Redirected:  5934 https://www.domain.com.au/4-molbray-street-wendouree-vic-3355-16046628\n",
      "'props'\n"
     ]
    },
    {
     "name": "stderr",
     "output_type": "stream",
     "text": [
      " 37%|████████████████████████████▉                                                 | 5937/16025 [52:44<51:45,  3.25it/s]"
     ]
    },
    {
     "name": "stdout",
     "output_type": "stream",
     "text": [
      "Redirected:  5936 https://www.domain.com.au/4413-560-lonsdale-street-melbourne-vic-3000-16046622\n",
      "'props'\n"
     ]
    },
    {
     "name": "stderr",
     "output_type": "stream",
     "text": [
      " 37%|████████████████████████████▏                                               | 5942/16025 [52:46<1:09:39,  2.41it/s]"
     ]
    },
    {
     "name": "stdout",
     "output_type": "stream",
     "text": [
      "Redirected:  5942 https://www.domain.com.au/21-14-campus-gate-chirnside-park-vic-3116-16046603\n"
     ]
    },
    {
     "name": "stderr",
     "output_type": "stream",
     "text": [
      "\r\n",
      " 37%|████████████████████████████▏                                               | 5943/16025 [52:47<1:11:46,  2.34it/s]"
     ]
    },
    {
     "name": "stdout",
     "output_type": "stream",
     "text": [
      "'listingSummary'\n"
     ]
    },
    {
     "name": "stderr",
     "output_type": "stream",
     "text": [
      " 37%|████████████████████████████▏                                               | 5947/16025 [52:49<1:22:42,  2.03it/s]"
     ]
    },
    {
     "name": "stdout",
     "output_type": "stream",
     "text": [
      "Redirected:  5947 https://www.domain.com.au/a-14-gunyah-road-blackburn-north-vic-3130-16046580\n"
     ]
    },
    {
     "name": "stderr",
     "output_type": "stream",
     "text": [
      " 37%|████████████████████████████▏                                               | 5951/16025 [52:51<1:16:00,  2.21it/s]"
     ]
    },
    {
     "name": "stdout",
     "output_type": "stream",
     "text": [
      "Redirected:  5950 https://www.domain.com.au/402-rodier-street-canadian-vic-3350-16046560\n",
      "'props'\n"
     ]
    },
    {
     "name": "stderr",
     "output_type": "stream",
     "text": [
      " 37%|████████████████████████████▏                                               | 5953/16025 [52:52<1:12:45,  2.31it/s]"
     ]
    },
    {
     "name": "stdout",
     "output_type": "stream",
     "text": [
      "Redirected:  5953 https://www.domain.com.au/8-st-finbars-crescent-brighton-vic-3186-16046548\n"
     ]
    },
    {
     "name": "stderr",
     "output_type": "stream",
     "text": [
      " 37%|████████████████████████████▎                                               | 5966/16025 [52:59<1:23:03,  2.02it/s]"
     ]
    },
    {
     "name": "stdout",
     "output_type": "stream",
     "text": [
      "Redirected:  5966 https://www.domain.com.au/82-bryant-street-kensington-vic-3031-16046484\n"
     ]
    },
    {
     "name": "stderr",
     "output_type": "stream",
     "text": [
      " 37%|████████████████████████████▎                                               | 5981/16025 [53:08<1:26:18,  1.94it/s]"
     ]
    },
    {
     "name": "stdout",
     "output_type": "stream",
     "text": [
      "Redirected:  5981 https://www.domain.com.au/130-moore-road-sunbury-vic-3429-16046423\n",
      "'props'\n"
     ]
    },
    {
     "name": "stderr",
     "output_type": "stream",
     "text": [
      " 37%|████████████████████████████▍                                               | 6002/16025 [53:20<1:39:41,  1.68it/s]"
     ]
    },
    {
     "name": "stdout",
     "output_type": "stream",
     "text": [
      "Redirected:  6001 https://www.domain.com.au/91-settlement-road-belmont-vic-3216-16046367\n",
      "'props'\n"
     ]
    },
    {
     "name": "stderr",
     "output_type": "stream",
     "text": [
      " 38%|█████████████████████████████▎                                                | 6019/16025 [53:28<56:02,  2.98it/s]"
     ]
    },
    {
     "name": "stdout",
     "output_type": "stream",
     "text": [
      "Redirected:  6017 https://www.domain.com.au/2865-princes-highway-garfield-vic-3814-16046315\n",
      "'props'\n",
      "Redirected:  6018 https://www.domain.com.au/409-127-leicester-street-carlton-vic-3053-8647794\n",
      "'props'\n"
     ]
    },
    {
     "name": "stderr",
     "output_type": "stream",
     "text": [
      " 38%|████████████████████████████▌                                               | 6025/16025 [53:31<1:18:35,  2.12it/s]"
     ]
    },
    {
     "name": "stdout",
     "output_type": "stream",
     "text": [
      "Redirected:  6025 https://www.domain.com.au/3-211-esplanade-west-port-melbourne-vic-3207-16046297\n"
     ]
    },
    {
     "name": "stderr",
     "output_type": "stream",
     "text": [
      " 38%|████████████████████████████▋                                               | 6044/16025 [53:40<1:07:33,  2.46it/s]"
     ]
    },
    {
     "name": "stdout",
     "output_type": "stream",
     "text": [
      "Redirected:  6043 https://www.domain.com.au/7-8-10-martin-street-thornbury-vic-3071-16046250\n",
      "'props'\n"
     ]
    },
    {
     "name": "stderr",
     "output_type": "stream",
     "text": [
      " 38%|████████████████████████████▊                                               | 6066/16025 [53:54<1:57:45,  1.41it/s]"
     ]
    },
    {
     "name": "stdout",
     "output_type": "stream",
     "text": [
      "Redirected:  6066 https://www.domain.com.au/12-belle-vue-balwyn-north-vic-3104-16046183\n"
     ]
    },
    {
     "name": "stderr",
     "output_type": "stream",
     "text": [
      " 38%|████████████████████████████▊                                               | 6088/16025 [54:06<1:34:34,  1.75it/s]"
     ]
    },
    {
     "name": "stdout",
     "output_type": "stream",
     "text": [
      "Redirected:  6087 https://www.domain.com.au/2413-220-spencer-street-melbourne-vic-3000-16046123\n",
      "'props'\n"
     ]
    },
    {
     "name": "stderr",
     "output_type": "stream",
     "text": [
      " 38%|████████████████████████████▉                                               | 6091/16025 [54:07<1:23:28,  1.98it/s]"
     ]
    },
    {
     "name": "stdout",
     "output_type": "stream",
     "text": [
      "Redirected:  6090 https://www.domain.com.au/215b-9-village-ave-brunswick-east-vic-3057-15843331\n",
      "'listingSummary'\n"
     ]
    },
    {
     "name": "stderr",
     "output_type": "stream",
     "text": [
      " 38%|█████████████████████████████▋                                                | 6100/16025 [54:11<57:57,  2.85it/s]"
     ]
    },
    {
     "name": "stdout",
     "output_type": "stream",
     "text": [
      "Redirected:  6099 https://www.domain.com.au/85-chatsworth-road-prahran-vic-3181-16046097\n",
      "'props'\n"
     ]
    },
    {
     "name": "stderr",
     "output_type": "stream",
     "text": [
      " 38%|█████████████████████████████                                               | 6135/16025 [54:27<1:14:13,  2.22it/s]"
     ]
    },
    {
     "name": "stdout",
     "output_type": "stream",
     "text": [
      "Redirected:  6135 https://www.domain.com.au/330a-young-street-fitzroy-vic-3065-16046005\n"
     ]
    },
    {
     "name": "stderr",
     "output_type": "stream",
     "text": [
      " 38%|█████████████████████████████                                               | 6140/16025 [54:30<1:38:03,  1.68it/s]"
     ]
    },
    {
     "name": "stdout",
     "output_type": "stream",
     "text": [
      "Redirected:  6139 https://www.domain.com.au/211-255-cardigan-street-carlton-vic-3053-8648094\n",
      "'props'\n"
     ]
    },
    {
     "name": "stderr",
     "output_type": "stream",
     "text": [
      "\r\n",
      " 38%|█████████████████████████████                                               | 6141/16025 [54:31<1:22:07,  2.01it/s]"
     ]
    },
    {
     "name": "stdout",
     "output_type": "stream",
     "text": [
      "Redirected:  6140 https://www.domain.com.au/126-holden-street-fitzroy-north-vic-3068-16045993\n",
      "'props'\n"
     ]
    },
    {
     "name": "stderr",
     "output_type": "stream",
     "text": [
      " 38%|█████████████████████████████▎                                              | 6169/16025 [54:45<1:04:23,  2.55it/s]"
     ]
    },
    {
     "name": "stdout",
     "output_type": "stream",
     "text": [
      "Redirected:  6168 https://www.domain.com.au/21-hermitage-parade-derrimut-vic-3026-16045904\n",
      "'props'\n"
     ]
    },
    {
     "name": "stderr",
     "output_type": "stream",
     "text": [
      " 39%|██████████████████████████████                                                | 6178/16025 [54:49<54:44,  3.00it/s]"
     ]
    },
    {
     "name": "stdout",
     "output_type": "stream",
     "text": [
      "Redirected:  6177 https://www.domain.com.au/3-15-peter-street-box-hill-north-vic-3129-16045882\n",
      "'props'\n"
     ]
    },
    {
     "name": "stderr",
     "output_type": "stream",
     "text": [
      " 39%|█████████████████████████████▍                                              | 6216/16025 [55:08<1:26:03,  1.90it/s]"
     ]
    },
    {
     "name": "stdout",
     "output_type": "stream",
     "text": [
      "Redirected:  6216 https://www.domain.com.au/90-nickson-street-bundoora-vic-3083-14593787\n"
     ]
    },
    {
     "name": "stderr",
     "output_type": "stream",
     "text": [
      " 39%|█████████████████████████████▌                                              | 6222/16025 [55:11<1:20:15,  2.04it/s]"
     ]
    },
    {
     "name": "stdout",
     "output_type": "stream",
     "text": [
      "Redirected:  6222 https://www.domain.com.au/2-30-nariel-road-st-albans-vic-3021-16045731\n"
     ]
    },
    {
     "name": "stderr",
     "output_type": "stream",
     "text": [
      " 39%|█████████████████████████████▌                                              | 6243/16025 [55:22<1:09:31,  2.34it/s]"
     ]
    },
    {
     "name": "stdout",
     "output_type": "stream",
     "text": [
      "Redirected:  6242 https://www.domain.com.au/202-15-bond-street-caulfield-north-vic-3161-16045675\n",
      "'props'\n"
     ]
    },
    {
     "name": "stderr",
     "output_type": "stream",
     "text": [
      " 39%|█████████████████████████████▋                                              | 6252/16025 [55:30<2:18:45,  1.17it/s]"
     ]
    },
    {
     "name": "stdout",
     "output_type": "stream",
     "text": [
      "Redirected:  6251 https://www.domain.com.au/1-29-hopwood-street-echuca-vic-3564-15801627\n",
      "'props'\n"
     ]
    },
    {
     "name": "stderr",
     "output_type": "stream",
     "text": [
      " 39%|█████████████████████████████▋                                              | 6263/16025 [55:37<1:25:44,  1.90it/s]"
     ]
    },
    {
     "name": "stdout",
     "output_type": "stream",
     "text": [
      "Redirected:  6262 https://www.domain.com.au/3-queen-st-cobram-vic-3644-16045613\n",
      "'listingSummary'\n"
     ]
    },
    {
     "name": "stderr",
     "output_type": "stream",
     "text": [
      " 39%|█████████████████████████████▊                                              | 6274/16025 [55:46<1:44:29,  1.56it/s]"
     ]
    },
    {
     "name": "stdout",
     "output_type": "stream",
     "text": [
      "Redirected:  6274 https://www.domain.com.au/4-morey-street-wonthaggi-vic-3995-16045570\n"
     ]
    },
    {
     "name": "stderr",
     "output_type": "stream",
     "text": [
      " 39%|█████████████████████████████▉                                              | 6310/16025 [56:03<1:10:25,  2.30it/s]"
     ]
    },
    {
     "name": "stdout",
     "output_type": "stream",
     "text": [
      "Redirected:  6310 https://www.domain.com.au/brunswick-vic-3056-16045460\n"
     ]
    },
    {
     "name": "stderr",
     "output_type": "stream",
     "text": [
      " 40%|██████████████████████████████▊                                               | 6334/16025 [56:16<57:09,  2.83it/s]"
     ]
    },
    {
     "name": "stdout",
     "output_type": "stream",
     "text": [
      "Redirected:  6333 https://www.domain.com.au/14-railway-avenue-donnybrook-vic-3064-15363560\n",
      "'props'\n"
     ]
    },
    {
     "name": "stderr",
     "output_type": "stream",
     "text": [
      " 40%|██████████████████████████████                                              | 6340/16025 [56:18<1:04:44,  2.49it/s]"
     ]
    },
    {
     "name": "stdout",
     "output_type": "stream",
     "text": [
      "Redirected:  6339 https://www.domain.com.au/1110-12-queens-road-melbourne-vic-3004-16045352\n",
      "'props'\n"
     ]
    },
    {
     "name": "stderr",
     "output_type": "stream",
     "text": [
      " 40%|██████████████████████████████▉                                               | 6350/16025 [56:22<55:13,  2.92it/s]"
     ]
    },
    {
     "name": "stdout",
     "output_type": "stream",
     "text": [
      "Redirected:  6349 https://www.domain.com.au/708-1-almeida-crescent-south-yarra-vic-3141-13259916\n",
      "'props'\n"
     ]
    },
    {
     "name": "stderr",
     "output_type": "stream",
     "text": [
      " 40%|███████████████████████████████                                               | 6383/16025 [56:38<59:22,  2.71it/s]"
     ]
    },
    {
     "name": "stdout",
     "output_type": "stream",
     "text": [
      "Redirected:  6382 https://www.domain.com.au/1-356-maroondah-highway-ringwood-vic-3134-16045216\n",
      "'props'\n"
     ]
    },
    {
     "name": "stderr",
     "output_type": "stream",
     "text": [
      " 40%|██████████████████████████████▍                                             | 6415/16025 [56:55<1:21:28,  1.97it/s]"
     ]
    },
    {
     "name": "stdout",
     "output_type": "stream",
     "text": [
      "Redirected:  6414 https://www.domain.com.au/20-macquarie-court-cranbourne-north-vic-3977-16045126\n",
      "'props'\n"
     ]
    },
    {
     "name": "stderr",
     "output_type": "stream",
     "text": [
      " 40%|██████████████████████████████▍                                             | 6422/16025 [56:58<1:00:44,  2.64it/s]"
     ]
    },
    {
     "name": "stdout",
     "output_type": "stream",
     "text": [
      "Redirected:  6421 https://www.domain.com.au/11-120-sturt-st-southbank-vic-3006-16045115\n",
      "'props'\n"
     ]
    },
    {
     "name": "stderr",
     "output_type": "stream",
     "text": [
      " 40%|██████████████████████████████▋                                             | 6466/16025 [57:24<2:00:06,  1.33it/s]"
     ]
    },
    {
     "name": "stdout",
     "output_type": "stream",
     "text": [
      "Redirected:  6466 https://www.domain.com.au/5-499-high-street-kew-vic-3101-16044814\n"
     ]
    },
    {
     "name": "stderr",
     "output_type": "stream",
     "text": [
      " 40%|██████████████████████████████▋                                             | 6475/16025 [57:30<1:24:55,  1.87it/s]"
     ]
    },
    {
     "name": "stdout",
     "output_type": "stream",
     "text": [
      "Redirected:  6475 https://www.domain.com.au/41-43-dublin-road-ringwood-east-vic-3135-16044720\n"
     ]
    },
    {
     "name": "stderr",
     "output_type": "stream",
     "text": [
      " 40%|██████████████████████████████▋                                             | 6481/16025 [57:33<1:16:34,  2.08it/s]"
     ]
    },
    {
     "name": "stdout",
     "output_type": "stream",
     "text": [
      "Redirected:  6481 https://www.domain.com.au/6-65-71-clarence-street-elsternwick-vic-3185-16039179\n"
     ]
    },
    {
     "name": "stderr",
     "output_type": "stream",
     "text": [
      " 41%|██████████████████████████████▊                                             | 6499/16025 [57:43<1:13:18,  2.17it/s]"
     ]
    },
    {
     "name": "stdout",
     "output_type": "stream",
     "text": [
      "Redirected:  6498 https://www.domain.com.au/267-inkerman-street-st-kilda-east-vic-3183-16044635\n",
      "'props'\n"
     ]
    },
    {
     "name": "stderr",
     "output_type": "stream",
     "text": [
      " 41%|██████████████████████████████▊                                             | 6503/16025 [57:44<1:10:25,  2.25it/s]"
     ]
    },
    {
     "name": "stdout",
     "output_type": "stream",
     "text": [
      "Redirected:  6503 https://www.domain.com.au/902-199-william-st-west-melbourne-vic-3003-16044565\n"
     ]
    },
    {
     "name": "stderr",
     "output_type": "stream",
     "text": [
      " 41%|██████████████████████████████▉                                             | 6524/16025 [57:57<1:15:18,  2.10it/s]"
     ]
    },
    {
     "name": "stdout",
     "output_type": "stream",
     "text": [
      "Redirected:  6523 https://www.domain.com.au/2-58-miranda-road-reservoir-vic-3073-14229962\n",
      "'props'\n"
     ]
    },
    {
     "name": "stderr",
     "output_type": "stream",
     "text": [
      " 41%|███████████████████████████████                                             | 6543/16025 [58:07<2:04:12,  1.27it/s]"
     ]
    },
    {
     "name": "stdout",
     "output_type": "stream",
     "text": [
      "Redirected:  6542 https://www.domain.com.au/73-whiteleaf-drive-mickleham-vic-3064-16044419\n",
      "'props'\n"
     ]
    },
    {
     "name": "stderr",
     "output_type": "stream",
     "text": [
      " 41%|███████████████████████████████                                             | 6557/16025 [58:14<1:19:13,  1.99it/s]"
     ]
    },
    {
     "name": "stdout",
     "output_type": "stream",
     "text": [
      "Redirected:  6556 https://www.domain.com.au/301-21-collins-street-chadstone-vic-3148-16044379\n",
      "'props'\n"
     ]
    },
    {
     "name": "stderr",
     "output_type": "stream",
     "text": [
      " 41%|███████████████████████████████▏                                            | 6567/16025 [58:18<1:07:19,  2.34it/s]"
     ]
    },
    {
     "name": "stdout",
     "output_type": "stream",
     "text": [
      "Redirected:  6567 https://www.domain.com.au/level-31-3101-31-abeckett-street-melbourne-vic-3000-16044335\n"
     ]
    },
    {
     "name": "stderr",
     "output_type": "stream",
     "text": [
      " 41%|███████████████████████████████▏                                            | 6570/16025 [58:21<1:55:32,  1.36it/s]"
     ]
    },
    {
     "name": "stdout",
     "output_type": "stream",
     "text": [
      "Redirected:  6570 https://www.domain.com.au/25-1072-whitehorse-road-box-hill-vic-3128-16044326\n"
     ]
    },
    {
     "name": "stderr",
     "output_type": "stream",
     "text": [
      " 41%|███████████████████████████████▏                                            | 6577/16025 [58:24<1:05:25,  2.41it/s]"
     ]
    },
    {
     "name": "stdout",
     "output_type": "stream",
     "text": [
      "Redirected:  6576 https://www.domain.com.au/28-laura-st-brunswick-vic-3056-16044304\n",
      "'props'\n"
     ]
    },
    {
     "name": "stderr",
     "output_type": "stream",
     "text": [
      " 41%|███████████████████████████████▎                                            | 6598/16025 [58:34<1:01:50,  2.54it/s]"
     ]
    },
    {
     "name": "stdout",
     "output_type": "stream",
     "text": [
      "Redirected:  6597 https://www.domain.com.au/36-collett-street-kensington-vic-3031-16018079\n",
      "'props'\n"
     ]
    },
    {
     "name": "stderr",
     "output_type": "stream",
     "text": [
      " 41%|███████████████████████████████▎                                            | 6601/16025 [58:35<1:00:42,  2.59it/s]"
     ]
    },
    {
     "name": "stdout",
     "output_type": "stream",
     "text": [
      "Redirected:  6600 https://www.domain.com.au/10-faulkner-court-eastwood-vic-3875-16044240\n",
      "'props'\n"
     ]
    },
    {
     "name": "stderr",
     "output_type": "stream",
     "text": [
      " 41%|███████████████████████████████▎                                            | 6613/16025 [58:40<1:00:18,  2.60it/s]"
     ]
    },
    {
     "name": "stdout",
     "output_type": "stream",
     "text": [
      "Redirected:  6612 https://www.domain.com.au/20-lexington-square-sandhurst-vic-3977-8822236\n",
      "'listingSummary'\n"
     ]
    },
    {
     "name": "stderr",
     "output_type": "stream",
     "text": [
      " 41%|████████████████████████████████▎                                             | 6626/16025 [58:46<59:00,  2.65it/s]"
     ]
    },
    {
     "name": "stdout",
     "output_type": "stream",
     "text": [
      "Redirected:  6625 https://www.domain.com.au/209-500-flinders-street-melbourne-vic-3000-16044137\n",
      "'props'\n"
     ]
    },
    {
     "name": "stderr",
     "output_type": "stream",
     "text": [
      " 41%|████████████████████████████████▎                                             | 6633/16025 [58:49<50:02,  3.13it/s]"
     ]
    },
    {
     "name": "stdout",
     "output_type": "stream",
     "text": [
      "Redirected:  6632 https://www.domain.com.au/90-ballantyne-street-thornbury-vic-3071-16044133\n",
      "'props'\n"
     ]
    },
    {
     "name": "stderr",
     "output_type": "stream",
     "text": [
      " 41%|███████████████████████████████▌                                            | 6643/16025 [58:54<1:23:04,  1.88it/s]"
     ]
    },
    {
     "name": "stdout",
     "output_type": "stream",
     "text": [
      "Redirected:  6642 https://www.domain.com.au/806-250-city-road-southbank-vic-3006-16044097\n",
      "'props'\n"
     ]
    },
    {
     "name": "stderr",
     "output_type": "stream",
     "text": [
      " 41%|███████████████████████████████▌                                            | 6649/16025 [58:57<1:20:28,  1.94it/s]"
     ]
    },
    {
     "name": "stdout",
     "output_type": "stream",
     "text": [
      "Redirected:  6649 https://www.domain.com.au/5-6-rockley-road-south-yarra-vic-3141-16044091\n"
     ]
    },
    {
     "name": "stderr",
     "output_type": "stream",
     "text": [
      "\r\n",
      " 41%|███████████████████████████████▌                                            | 6650/16025 [58:58<1:20:40,  1.94it/s]"
     ]
    },
    {
     "name": "stdout",
     "output_type": "stream",
     "text": [
      "'props'\n"
     ]
    },
    {
     "name": "stderr",
     "output_type": "stream",
     "text": [
      " 42%|███████████████████████████████▌                                            | 6661/16025 [59:03<1:06:37,  2.34it/s]"
     ]
    },
    {
     "name": "stdout",
     "output_type": "stream",
     "text": [
      "Redirected:  6660 https://www.domain.com.au/36-156-beaconsfield-parade-albert-park-vic-3206-16044055\n",
      "'props'\n"
     ]
    },
    {
     "name": "stderr",
     "output_type": "stream",
     "text": [
      " 42%|███████████████████████████████▊                                            | 6697/16025 [59:22<1:06:53,  2.32it/s]"
     ]
    },
    {
     "name": "stdout",
     "output_type": "stream",
     "text": [
      "Redirected:  6696 https://www.domain.com.au/516-551-swanston-street-carlton-vic-3053-16043931\n",
      "'listingSummary'\n"
     ]
    },
    {
     "name": "stderr",
     "output_type": "stream",
     "text": [
      "\r\n",
      " 42%|████████████████████████████████▌                                             | 6698/16025 [59:22<57:10,  2.72it/s]"
     ]
    },
    {
     "name": "stdout",
     "output_type": "stream",
     "text": [
      "Redirected:  6697 https://www.domain.com.au/7406-70-southbank-boulevard-southbank-vic-3006-16043930\n",
      "'props'\n"
     ]
    },
    {
     "name": "stderr",
     "output_type": "stream",
     "text": [
      " 42%|███████████████████████████████▊                                            | 6710/16025 [59:28<1:24:48,  1.83it/s]"
     ]
    },
    {
     "name": "stdout",
     "output_type": "stream",
     "text": [
      "Redirected:  6709 https://www.domain.com.au/97-diamond-parade-skye-vic-3977-12217973\n",
      "'props'\n"
     ]
    },
    {
     "name": "stderr",
     "output_type": "stream",
     "text": [
      "\r\n",
      " 42%|███████████████████████████████▊                                            | 6711/16025 [59:29<1:19:02,  1.96it/s]"
     ]
    },
    {
     "name": "stdout",
     "output_type": "stream",
     "text": [
      "Redirected:  6711 https://www.domain.com.au/706-593-elizabeth-street-melbourne-vic-3000-8640714\n"
     ]
    },
    {
     "name": "stderr",
     "output_type": "stream",
     "text": [
      "\r\n",
      " 42%|███████████████████████████████▊                                            | 6712/16025 [59:29<1:20:11,  1.94it/s]"
     ]
    },
    {
     "name": "stdout",
     "output_type": "stream",
     "text": [
      "'listingSummary'\n"
     ]
    },
    {
     "name": "stderr",
     "output_type": "stream",
     "text": [
      " 42%|███████████████████████████████▊                                            | 6720/16025 [59:34<1:12:24,  2.14it/s]"
     ]
    },
    {
     "name": "stdout",
     "output_type": "stream",
     "text": [
      "Redirected:  6719 https://www.domain.com.au/5-437-flemington-road-north-melbourne-vic-3051-16043843\n",
      "'props'\n"
     ]
    },
    {
     "name": "stderr",
     "output_type": "stream",
     "text": [
      " 42%|███████████████████████████████▉                                            | 6728/16025 [59:39<1:43:59,  1.49it/s]"
     ]
    },
    {
     "name": "stdout",
     "output_type": "stream",
     "text": [
      "Redirected:  6728 https://www.domain.com.au/3-16-compton-st-reservoir-vic-3073-15990033\n",
      "'props'\n"
     ]
    },
    {
     "name": "stderr",
     "output_type": "stream",
     "text": [
      " 42%|████████████████████████████████                                            | 6763/16025 [59:56<1:12:29,  2.13it/s]"
     ]
    },
    {
     "name": "stdout",
     "output_type": "stream",
     "text": [
      "Redirected:  6763 https://www.domain.com.au/3-3-sea-parade-mentone-vic-3194-16043737\n"
     ]
    },
    {
     "name": "stderr",
     "output_type": "stream",
     "text": [
      " 42%|███████████████████████████████▎                                          | 6777/16025 [1:00:05<1:14:33,  2.07it/s]"
     ]
    },
    {
     "name": "stdout",
     "output_type": "stream",
     "text": [
      "Redirected:  6776 https://www.domain.com.au/7-wallara-waters-boulevard-wallan-vic-3756-16043669\n",
      "'props'\n"
     ]
    },
    {
     "name": "stderr",
     "output_type": "stream",
     "text": [
      " 42%|███████████████████████████████▎                                          | 6780/16025 [1:00:07<1:08:28,  2.25it/s]"
     ]
    },
    {
     "name": "stdout",
     "output_type": "stream",
     "text": [
      "Redirected:  6779 https://www.domain.com.au/2-16-nicholas-street-newtown-vic-3220-16043657\n",
      "'props'\n"
     ]
    },
    {
     "name": "stderr",
     "output_type": "stream",
     "text": [
      " 42%|████████████████████████████████▏                                           | 6793/16025 [1:00:13<59:14,  2.60it/s]"
     ]
    },
    {
     "name": "stdout",
     "output_type": "stream",
     "text": [
      "Redirected:  6792 https://www.domain.com.au/286-melbourne-road-newport-vic-3015-16043618\n",
      "'props'\n"
     ]
    },
    {
     "name": "stderr",
     "output_type": "stream",
     "text": [
      " 42%|███████████████████████████████▍                                          | 6807/16025 [1:00:19<1:02:02,  2.48it/s]"
     ]
    },
    {
     "name": "stdout",
     "output_type": "stream",
     "text": [
      "Redirected:  6806 https://www.domain.com.au/25-narambi-crescent-frankston-vic-3199-16043570\n",
      "'props'\n"
     ]
    },
    {
     "name": "stderr",
     "output_type": "stream",
     "text": [
      " 43%|███████████████████████████████▌                                          | 6842/16025 [1:00:39<2:52:15,  1.13s/it]"
     ]
    },
    {
     "name": "stdout",
     "output_type": "stream",
     "text": [
      "Redirected:  6842 https://www.domain.com.au/5-61-di-palma-place-bundoora-vic-3083-16043443\n"
     ]
    },
    {
     "name": "stderr",
     "output_type": "stream",
     "text": [
      " 43%|███████████████████████████████▋                                          | 6863/16025 [1:00:51<1:31:39,  1.67it/s]"
     ]
    },
    {
     "name": "stdout",
     "output_type": "stream",
     "text": [
      "Redirected:  6863 https://www.domain.com.au/2-6-harrier-street-werribee-vic-3030-16043372\n"
     ]
    },
    {
     "name": "stderr",
     "output_type": "stream",
     "text": [
      " 43%|███████████████████████████████▊                                          | 6892/16025 [1:01:09<3:00:45,  1.19s/it]"
     ]
    },
    {
     "name": "stdout",
     "output_type": "stream",
     "text": [
      "Redirected:  6892 https://www.domain.com.au/4-cowper-street-sandringham-vic-3191-16043282\n"
     ]
    },
    {
     "name": "stderr",
     "output_type": "stream",
     "text": [
      " 43%|███████████████████████████████▉                                          | 6915/16025 [1:01:21<1:02:37,  2.42it/s]"
     ]
    },
    {
     "name": "stdout",
     "output_type": "stream",
     "text": [
      "Redirected:  6914 https://www.domain.com.au/4-lord-place-braybrook-vic-3019-16043198\n",
      "'props'\n"
     ]
    },
    {
     "name": "stderr",
     "output_type": "stream",
     "text": [
      " 43%|████████████████████████████████                                          | 6937/16025 [1:01:32<1:02:02,  2.44it/s]"
     ]
    },
    {
     "name": "stdout",
     "output_type": "stream",
     "text": [
      "Redirected:  6936 https://www.domain.com.au/3-bona-street-ringwood-east-vic-3135-16043144\n",
      "'props'\n"
     ]
    },
    {
     "name": "stderr",
     "output_type": "stream",
     "text": [
      " 43%|████████████████████████████████▏                                         | 6964/16025 [1:01:45<1:03:13,  2.39it/s]"
     ]
    },
    {
     "name": "stdout",
     "output_type": "stream",
     "text": [
      "Redirected:  6963 https://www.domain.com.au/108-490-elgar-road-box-hill-vic-3128-8640107\n",
      "'props'\n"
     ]
    },
    {
     "name": "stderr",
     "output_type": "stream",
     "text": [
      " 44%|█████████████████████████████████▏                                          | 7010/16025 [1:02:08<48:57,  3.07it/s]"
     ]
    },
    {
     "name": "stdout",
     "output_type": "stream",
     "text": [
      "Redirected:  7009 https://www.domain.com.au/28-howard-place-deer-park-vic-3023-15927446\n",
      "'props'\n"
     ]
    },
    {
     "name": "stderr",
     "output_type": "stream",
     "text": [
      " 44%|████████████████████████████████▍                                         | 7035/16025 [1:02:19<1:11:54,  2.08it/s]"
     ]
    },
    {
     "name": "stdout",
     "output_type": "stream",
     "text": [
      "Redirected:  7035 https://www.domain.com.au/11-2-freeman-street-hawthorn-east-vic-3123-16042863\n"
     ]
    },
    {
     "name": "stderr",
     "output_type": "stream",
     "text": [
      " 44%|████████████████████████████████▌                                         | 7058/16025 [1:02:30<1:09:18,  2.16it/s]"
     ]
    },
    {
     "name": "stdout",
     "output_type": "stream",
     "text": [
      "Redirected:  7057 https://www.domain.com.au/5-kinross-avenue-caulfield-north-vic-3161-16042796\n",
      "'props'\n"
     ]
    },
    {
     "name": "stderr",
     "output_type": "stream",
     "text": [
      " 44%|████████████████████████████████▋                                         | 7066/16025 [1:02:34<1:10:07,  2.13it/s]"
     ]
    },
    {
     "name": "stdout",
     "output_type": "stream",
     "text": [
      "Redirected:  7066 https://www.domain.com.au/14-clays-court-doncaster-vic-3108-16042773\n"
     ]
    },
    {
     "name": "stderr",
     "output_type": "stream",
     "text": [
      " 44%|████████████████████████████████▋                                         | 7070/16025 [1:02:36<1:13:51,  2.02it/s]"
     ]
    },
    {
     "name": "stdout",
     "output_type": "stream",
     "text": [
      "Redirected:  7070 https://www.domain.com.au/18-46-48-eucalyptus-drive-maidstone-vic-3012-16042755\n"
     ]
    },
    {
     "name": "stderr",
     "output_type": "stream",
     "text": [
      " 44%|████████████████████████████████▋                                         | 7084/16025 [1:02:42<1:13:03,  2.04it/s]"
     ]
    },
    {
     "name": "stdout",
     "output_type": "stream",
     "text": [
      "Redirected:  7083 https://www.domain.com.au/312-23-market-street-nunawading-vic-3131-16042710\n",
      "'listingSummary'\n"
     ]
    },
    {
     "name": "stderr",
     "output_type": "stream",
     "text": [
      " 44%|████████████████████████████████▊                                         | 7102/16025 [1:02:51<1:05:08,  2.28it/s]"
     ]
    },
    {
     "name": "stdout",
     "output_type": "stream",
     "text": [
      "Redirected:  7101 https://www.domain.com.au/3-3-king-street-bayswater-vic-3153-15323542\n",
      "'props'\n"
     ]
    },
    {
     "name": "stderr",
     "output_type": "stream",
     "text": [
      " 44%|████████████████████████████████▊                                         | 7112/16025 [1:02:58<1:41:39,  1.46it/s]"
     ]
    },
    {
     "name": "stdout",
     "output_type": "stream",
     "text": [
      "Redirected:  7111 https://www.domain.com.au/2211-181-abeckett-street-melbourne-vic-3000-16042638\n",
      "'props'\n"
     ]
    },
    {
     "name": "stderr",
     "output_type": "stream",
     "text": [
      " 44%|████████████████████████████████▉                                         | 7122/16025 [1:03:03<1:06:46,  2.22it/s]"
     ]
    },
    {
     "name": "stdout",
     "output_type": "stream",
     "text": [
      "Redirected:  7122 https://www.domain.com.au/18-17-ellesmere-road-windsor-vic-3181-11615591\n"
     ]
    },
    {
     "name": "stderr",
     "output_type": "stream",
     "text": [
      "\r\n",
      " 44%|████████████████████████████████▉                                         | 7123/16025 [1:03:03<1:07:02,  2.21it/s]"
     ]
    },
    {
     "name": "stdout",
     "output_type": "stream",
     "text": [
      "'listingSummary'\n"
     ]
    },
    {
     "name": "stderr",
     "output_type": "stream",
     "text": [
      " 45%|█████████████████████████████████                                         | 7155/16025 [1:03:23<1:02:04,  2.38it/s]"
     ]
    },
    {
     "name": "stdout",
     "output_type": "stream",
     "text": [
      "Redirected:  7154 https://www.domain.com.au/5-77-elgar-road-burwood-vic-3125-13341741\n",
      "'props'\n"
     ]
    },
    {
     "name": "stderr",
     "output_type": "stream",
     "text": [
      " 45%|█████████████████████████████████▉                                          | 7158/16025 [1:03:24<42:23,  3.49it/s]"
     ]
    },
    {
     "name": "stdout",
     "output_type": "stream",
     "text": [
      "Redirected:  7156 https://www.domain.com.au/2-young-street-horsham-vic-3400-16042522\n",
      "'props'\n",
      "Redirected:  7157 https://www.domain.com.au/2-natimuk-road-horsham-vic-3400-16042521\n",
      "'props'\n"
     ]
    },
    {
     "name": "stderr",
     "output_type": "stream",
     "text": [
      " 45%|█████████████████████████████████                                         | 7161/16025 [1:03:25<1:09:14,  2.13it/s]"
     ]
    },
    {
     "name": "stdout",
     "output_type": "stream",
     "text": [
      "Redirected:  7160 https://www.domain.com.au/2603-60-kavanagh-street-southbank-vic-3006-16042514\n",
      "'props'\n"
     ]
    },
    {
     "name": "stderr",
     "output_type": "stream",
     "text": [
      " 45%|█████████████████████████████████                                         | 7163/16025 [1:03:27<1:16:25,  1.93it/s]"
     ]
    },
    {
     "name": "stdout",
     "output_type": "stream",
     "text": [
      "Redirected:  7162 https://www.domain.com.au/906-668-bourke-street-melbourne-vic-3000-16042513\n",
      "'props'\n"
     ]
    },
    {
     "name": "stderr",
     "output_type": "stream",
     "text": [
      "\r\n",
      " 45%|█████████████████████████████████                                         | 7164/16025 [1:03:27<1:03:20,  2.33it/s]"
     ]
    },
    {
     "name": "stdout",
     "output_type": "stream",
     "text": [
      "Redirected:  7163 https://www.domain.com.au/313-68-wests-road-maribyrnong-vic-3032-16042512\n",
      "'props'\n"
     ]
    },
    {
     "name": "stderr",
     "output_type": "stream",
     "text": [
      " 45%|█████████████████████████████████                                         | 7172/16025 [1:03:31<1:08:37,  2.15it/s]"
     ]
    },
    {
     "name": "stdout",
     "output_type": "stream",
     "text": [
      "Redirected:  7171 https://www.domain.com.au/2-29-kelp-street-warrnambool-vic-3280-16042495\n",
      "'props'\n"
     ]
    },
    {
     "name": "stderr",
     "output_type": "stream",
     "text": [
      " 45%|█████████████████████████████████▎                                        | 7206/16025 [1:03:48<1:08:28,  2.15it/s]"
     ]
    },
    {
     "name": "stdout",
     "output_type": "stream",
     "text": [
      "Redirected:  7205 https://www.domain.com.au/28-grattan-cove-craigieburn-vic-3064-10768644\n",
      "'props'\n"
     ]
    },
    {
     "name": "stderr",
     "output_type": "stream",
     "text": [
      " 45%|█████████████████████████████████▎                                        | 7221/16025 [1:03:59<1:36:12,  1.53it/s]"
     ]
    },
    {
     "name": "stdout",
     "output_type": "stream",
     "text": [
      "Redirected:  7221 https://www.domain.com.au/48-victoria-street-brunswick-east-vic-3057-16042322\n"
     ]
    },
    {
     "name": "stderr",
     "output_type": "stream",
     "text": [
      " 45%|██████████████████████████████████▎                                         | 7231/16025 [1:04:03<54:49,  2.67it/s]"
     ]
    },
    {
     "name": "stdout",
     "output_type": "stream",
     "text": [
      "Redirected:  7230 https://www.domain.com.au/249-civic-parade-altona-vic-3018-14617397\n",
      "'props'\n"
     ]
    },
    {
     "name": "stderr",
     "output_type": "stream",
     "text": [
      " 45%|█████████████████████████████████▍                                        | 7234/16025 [1:04:05<1:09:46,  2.10it/s]"
     ]
    },
    {
     "name": "stdout",
     "output_type": "stream",
     "text": [
      "Redirected:  7234 https://www.domain.com.au/101-569-whitehorse-road-mitcham-vic-3132-16042264\n"
     ]
    },
    {
     "name": "stderr",
     "output_type": "stream",
     "text": [
      " 45%|██████████████████████████████████▍                                         | 7273/16025 [1:04:24<54:19,  2.68it/s]"
     ]
    },
    {
     "name": "stdout",
     "output_type": "stream",
     "text": [
      "Redirected:  7272 https://www.domain.com.au/10-lansdowne-parade-tarneit-vic-3029-16042119\n",
      "'props'\n"
     ]
    },
    {
     "name": "stderr",
     "output_type": "stream",
     "text": [
      " 45%|██████████████████████████████████▌                                         | 7282/16025 [1:04:29<55:49,  2.61it/s]"
     ]
    },
    {
     "name": "stdout",
     "output_type": "stream",
     "text": [
      "Redirected:  7281 https://www.domain.com.au/6-brownlow-crescent-epping-vic-3076-16042081\n",
      "'props'\n"
     ]
    },
    {
     "name": "stderr",
     "output_type": "stream",
     "text": [
      " 46%|█████████████████████████████████▋                                        | 7293/16025 [1:04:38<2:11:11,  1.11it/s]"
     ]
    },
    {
     "name": "stdout",
     "output_type": "stream",
     "text": [
      "Redirected:  7293 https://www.domain.com.au/5-3-carder-avenue-seaford-seaford-vic-3198-15269758\n"
     ]
    },
    {
     "name": "stderr",
     "output_type": "stream",
     "text": [
      " 46%|█████████████████████████████████▋                                        | 7299/16025 [1:04:41<1:20:14,  1.81it/s]"
     ]
    },
    {
     "name": "stdout",
     "output_type": "stream",
     "text": [
      "Redirected:  7298 https://www.domain.com.au/3-1091-whitehorse-road-box-hill-vic-3128-16042031\n",
      "'props'\n"
     ]
    },
    {
     "name": "stderr",
     "output_type": "stream",
     "text": [
      " 46%|█████████████████████████████████▋                                        | 7305/16025 [1:04:45<1:11:46,  2.02it/s]"
     ]
    },
    {
     "name": "stdout",
     "output_type": "stream",
     "text": [
      "Redirected:  7305 https://www.domain.com.au/2009-889-collins-street-docklands-vic-3008-16042012\n"
     ]
    },
    {
     "name": "stderr",
     "output_type": "stream",
     "text": [
      " 46%|█████████████████████████████████▉                                        | 7351/16025 [1:05:12<1:49:33,  1.32it/s]"
     ]
    },
    {
     "name": "stdout",
     "output_type": "stream",
     "text": [
      "Redirected:  7350 https://www.domain.com.au/507-101-bay-street-port-melbourne-vic-3207-16041867\n",
      "'props'\n"
     ]
    },
    {
     "name": "stderr",
     "output_type": "stream",
     "text": [
      " 46%|█████████████████████████████████▉                                        | 7360/16025 [1:05:19<2:16:14,  1.06it/s]"
     ]
    },
    {
     "name": "stdout",
     "output_type": "stream",
     "text": [
      "Redirected:  7359 https://www.domain.com.au/12-walpole-ave-indented-head-vic-3223-15937035\n",
      "'props'\n"
     ]
    },
    {
     "name": "stderr",
     "output_type": "stream",
     "text": [
      " 46%|██████████████████████████████████                                        | 7376/16025 [1:05:28<1:38:26,  1.46it/s]"
     ]
    },
    {
     "name": "stdout",
     "output_type": "stream",
     "text": [
      "'NoneType' object is not subscriptable\n"
     ]
    },
    {
     "name": "stderr",
     "output_type": "stream",
     "text": [
      " 46%|██████████████████████████████████                                        | 7379/16025 [1:05:30<1:22:21,  1.75it/s]"
     ]
    },
    {
     "name": "stdout",
     "output_type": "stream",
     "text": [
      "Redirected:  7379 https://www.domain.com.au/3-153-buckley-street-morwell-vic-3840-16041739\n"
     ]
    },
    {
     "name": "stderr",
     "output_type": "stream",
     "text": [
      "\r\n",
      " 46%|██████████████████████████████████                                        | 7380/16025 [1:05:30<1:14:30,  1.93it/s]"
     ]
    },
    {
     "name": "stdout",
     "output_type": "stream",
     "text": [
      "'props'\n"
     ]
    },
    {
     "name": "stderr",
     "output_type": "stream",
     "text": [
      " 46%|██████████████████████████████████▏                                       | 7405/16025 [1:05:49<2:05:44,  1.14it/s]"
     ]
    },
    {
     "name": "stdout",
     "output_type": "stream",
     "text": [
      "Redirected:  7405 https://www.domain.com.au/9-dickins-street-strathtulloh-vic-3338-16041661\n"
     ]
    },
    {
     "name": "stderr",
     "output_type": "stream",
     "text": [
      " 46%|██████████████████████████████████▏                                       | 7411/16025 [1:05:53<1:21:31,  1.76it/s]"
     ]
    },
    {
     "name": "stdout",
     "output_type": "stream",
     "text": [
      "Redirected:  7410 https://www.domain.com.au/3-66-kionga-street-clayton-vic-3168-16041649\n",
      "'props'\n"
     ]
    },
    {
     "name": "stderr",
     "output_type": "stream",
     "text": [
      " 46%|██████████████████████████████████▎                                       | 7425/16025 [1:06:01<1:03:16,  2.27it/s]"
     ]
    },
    {
     "name": "stdout",
     "output_type": "stream",
     "text": [
      "Redirected:  7424 https://www.domain.com.au/7-peacock-avenue-wodonga-vic-3690-11261190\n",
      "'props'\n"
     ]
    },
    {
     "name": "stderr",
     "output_type": "stream",
     "text": [
      " 47%|██████████████████████████████████▌                                       | 7472/16025 [1:06:29<1:35:33,  1.49it/s]"
     ]
    },
    {
     "name": "stdout",
     "output_type": "stream",
     "text": [
      "Redirected:  7472 https://www.domain.com.au/503-princes-highway-port-fairy-vic-3284-16041463\n"
     ]
    },
    {
     "name": "stderr",
     "output_type": "stream",
     "text": [
      " 47%|██████████████████████████████████▌                                       | 7498/16025 [1:06:46<1:13:41,  1.93it/s]"
     ]
    },
    {
     "name": "stdout",
     "output_type": "stream",
     "text": [
      "Redirected:  7497 https://www.domain.com.au/85-allison-rd-elsternwick-vic-3185-15898454\n",
      "'props'\n"
     ]
    },
    {
     "name": "stderr",
     "output_type": "stream",
     "text": [
      " 47%|██████████████████████████████████▋                                       | 7503/16025 [1:06:49<1:11:19,  1.99it/s]"
     ]
    },
    {
     "name": "stdout",
     "output_type": "stream",
     "text": [
      "Redirected:  7502 https://www.domain.com.au/8-pelion-avenue-clyde-vic-3978-16041365\n",
      "'props'\n"
     ]
    },
    {
     "name": "stderr",
     "output_type": "stream",
     "text": [
      " 47%|███████████████████████████████████▌                                        | 7507/16025 [1:06:50<54:21,  2.61it/s]"
     ]
    },
    {
     "name": "stdout",
     "output_type": "stream",
     "text": [
      "Redirected:  7506 https://www.domain.com.au/26-53-balaclava-rd-st-kilda-east-vic-3183-15972850\n",
      "'props'\n"
     ]
    },
    {
     "name": "stderr",
     "output_type": "stream",
     "text": [
      " 47%|██████████████████████████████████▋                                       | 7512/16025 [1:06:53<1:11:53,  1.97it/s]"
     ]
    },
    {
     "name": "stdout",
     "output_type": "stream",
     "text": [
      "Redirected:  7512 https://www.domain.com.au/601-118-kavanagh-street-southbank-vic-3006-16040952\n"
     ]
    },
    {
     "name": "stderr",
     "output_type": "stream",
     "text": [
      " 47%|██████████████████████████████████▊                                       | 7526/16025 [1:07:01<1:10:56,  2.00it/s]"
     ]
    },
    {
     "name": "stdout",
     "output_type": "stream",
     "text": [
      "Redirected:  7525 https://www.domain.com.au/701-118-russell-street-melbourne-vic-3000-16041278\n",
      "'props'\n"
     ]
    },
    {
     "name": "stderr",
     "output_type": "stream",
     "text": [
      " 47%|██████████████████████████████████▊                                       | 7537/16025 [1:07:09<1:15:04,  1.88it/s]"
     ]
    },
    {
     "name": "stdout",
     "output_type": "stream",
     "text": [
      "Redirected:  7536 https://www.domain.com.au/71-vincent-street-oak-park-vic-3046-16041253\n",
      "'props'\n"
     ]
    },
    {
     "name": "stderr",
     "output_type": "stream",
     "text": [
      " 47%|██████████████████████████████████▉                                       | 7568/16025 [1:07:25<1:16:53,  1.83it/s]"
     ]
    },
    {
     "name": "stdout",
     "output_type": "stream",
     "text": [
      "Redirected:  7567 https://www.domain.com.au/39-clairwood-avenue-pakenham-vic-3810-16041143\n",
      "'props'\n"
     ]
    },
    {
     "name": "stderr",
     "output_type": "stream",
     "text": [
      " 47%|██████████████████████████████████▉                                       | 7579/16025 [1:07:32<1:31:41,  1.54it/s]"
     ]
    },
    {
     "name": "stdout",
     "output_type": "stream",
     "text": [
      "Redirected:  7579 https://www.domain.com.au/28-beatrix-avenue-point-cook-vic-3030-16041102\n"
     ]
    },
    {
     "name": "stderr",
     "output_type": "stream",
     "text": [
      " 47%|███████████████████████████████████                                       | 7593/16025 [1:07:43<2:01:45,  1.15it/s]"
     ]
    },
    {
     "name": "stdout",
     "output_type": "stream",
     "text": [
      "Redirected:  7593 https://www.domain.com.au/36-bridge-street-sandringham-vic-3191-16041065\n"
     ]
    },
    {
     "name": "stderr",
     "output_type": "stream",
     "text": [
      " 47%|███████████████████████████████████▏                                      | 7611/16025 [1:07:57<1:27:57,  1.59it/s]"
     ]
    },
    {
     "name": "stdout",
     "output_type": "stream",
     "text": [
      "Redirected:  7610 https://www.domain.com.au/1109-1-balston-street-southbank-vic-3006-16041019\n",
      "'props'\n"
     ]
    },
    {
     "name": "stderr",
     "output_type": "stream",
     "text": [
      " 48%|███████████████████████████████████▏                                      | 7614/16025 [1:07:59<1:14:54,  1.87it/s]"
     ]
    },
    {
     "name": "stdout",
     "output_type": "stream",
     "text": [
      "Redirected:  7614 https://www.domain.com.au/206-126-carlisle-street-st-kilda-east-vic-3183-16041005\n"
     ]
    },
    {
     "name": "stderr",
     "output_type": "stream",
     "text": [
      " 48%|███████████████████████████████████▏                                      | 7630/16025 [1:08:08<1:27:29,  1.60it/s]"
     ]
    },
    {
     "name": "stdout",
     "output_type": "stream",
     "text": [
      "Redirected:  7629 https://www.domain.com.au/345-173-city-road-southbank-vic-3006-16040951\n",
      "'props'\n"
     ]
    },
    {
     "name": "stderr",
     "output_type": "stream",
     "text": [
      " 48%|████████████████████████████████████▏                                       | 7636/16025 [1:08:10<56:30,  2.47it/s]"
     ]
    },
    {
     "name": "stdout",
     "output_type": "stream",
     "text": [
      "Redirected:  7635 https://www.domain.com.au/11-glenbourne-road-cranbourne-vic-3977-16040938\n",
      "'props'\n"
     ]
    },
    {
     "name": "stderr",
     "output_type": "stream",
     "text": [
      " 48%|███████████████████████████████████▎                                      | 7638/16025 [1:08:11<1:06:29,  2.10it/s]"
     ]
    },
    {
     "name": "stdout",
     "output_type": "stream",
     "text": [
      "Redirected:  7638 https://www.domain.com.au/7-lynn-street-seaford-vic-3198-16040934\n"
     ]
    },
    {
     "name": "stderr",
     "output_type": "stream",
     "text": [
      " 48%|███████████████████████████████████▎                                      | 7660/16025 [1:08:25<1:37:46,  1.43it/s]"
     ]
    },
    {
     "name": "stdout",
     "output_type": "stream",
     "text": [
      "Redirected:  7660 https://www.domain.com.au/3-coolomon-close-wantirna-vic-3152-16040830\n"
     ]
    },
    {
     "name": "stderr",
     "output_type": "stream",
     "text": [
      " 48%|███████████████████████████████████▍                                      | 7681/16025 [1:08:42<1:45:54,  1.31it/s]"
     ]
    },
    {
     "name": "stdout",
     "output_type": "stream",
     "text": [
      "Redirected:  7680 https://www.domain.com.au/229-shaws-road-werribee-vic-3030-16040769\n",
      "'props'\n"
     ]
    },
    {
     "name": "stderr",
     "output_type": "stream",
     "text": [
      " 48%|███████████████████████████████████▌                                      | 7705/16025 [1:08:57<1:30:19,  1.54it/s]"
     ]
    },
    {
     "name": "stdout",
     "output_type": "stream",
     "text": [
      "Redirected:  7705 https://www.domain.com.au/g05-58-douglas-street-noble-park-vic-3174-13568242\n"
     ]
    },
    {
     "name": "stderr",
     "output_type": "stream",
     "text": [
      "\r\n",
      " 48%|███████████████████████████████████▌                                      | 7706/16025 [1:08:58<1:22:35,  1.68it/s]"
     ]
    },
    {
     "name": "stdout",
     "output_type": "stream",
     "text": [
      "'listingSummary'\n"
     ]
    },
    {
     "name": "stderr",
     "output_type": "stream",
     "text": [
      " 48%|███████████████████████████████████▌                                      | 7712/16025 [1:09:02<1:30:54,  1.52it/s]"
     ]
    },
    {
     "name": "stdout",
     "output_type": "stream",
     "text": [
      "Redirected:  7712 https://www.domain.com.au/7-nadar-close-redan-vic-3350-16040675\n"
     ]
    },
    {
     "name": "stderr",
     "output_type": "stream",
     "text": [
      " 48%|████████████████████████████████████▋                                       | 7735/16025 [1:09:15<59:44,  2.31it/s]"
     ]
    },
    {
     "name": "stdout",
     "output_type": "stream",
     "text": [
      "Redirected:  7734 https://www.domain.com.au/3-727-tarneit-road-tarneit-vic-3029-12877836\n",
      "'props'\n"
     ]
    },
    {
     "name": "stderr",
     "output_type": "stream",
     "text": [
      "\r\n",
      " 48%|███████████████████████████████████▋                                      | 7736/16025 [1:09:15<1:11:47,  1.92it/s]"
     ]
    },
    {
     "name": "stdout",
     "output_type": "stream",
     "text": [
      "Redirected:  7736 https://www.domain.com.au/62-108-union-street-brunswick-vic-3056-15728743\n"
     ]
    },
    {
     "name": "stderr",
     "output_type": "stream",
     "text": [
      " 48%|███████████████████████████████████▊                                      | 7767/16025 [1:09:34<1:18:15,  1.76it/s]"
     ]
    },
    {
     "name": "stdout",
     "output_type": "stream",
     "text": [
      "Redirected:  7766 https://www.domain.com.au/19-camargue-circuit-clyde-north-vic-3978-16040542\n",
      "'props'\n"
     ]
    },
    {
     "name": "stderr",
     "output_type": "stream",
     "text": [
      " 49%|███████████████████████████████████▉                                      | 7782/16025 [1:09:45<2:08:41,  1.07it/s]"
     ]
    },
    {
     "name": "stdout",
     "output_type": "stream",
     "text": [
      "Redirected:  7782 https://www.domain.com.au/1907-118-kavanagh-street-southbank-vic-3006-16040472\n"
     ]
    },
    {
     "name": "stderr",
     "output_type": "stream",
     "text": [
      " 49%|███████████████████████████████████▉                                      | 7784/16025 [1:09:46<1:38:04,  1.40it/s]"
     ]
    },
    {
     "name": "stdout",
     "output_type": "stream",
     "text": [
      "Redirected:  7783 https://www.domain.com.au/4104-601-little-lonsdale-street-melbourne-vic-3000-16040471\n",
      "'props'\n"
     ]
    },
    {
     "name": "stderr",
     "output_type": "stream",
     "text": [
      " 49%|███████████████████████████████████▉                                      | 7786/16025 [1:09:48<1:55:24,  1.19it/s]"
     ]
    },
    {
     "name": "stdout",
     "output_type": "stream",
     "text": [
      "Redirected:  7785 https://www.domain.com.au/2-6-mccoll-court-brunswick-west-vic-3055-16040469\n",
      "'props'\n"
     ]
    },
    {
     "name": "stderr",
     "output_type": "stream",
     "text": [
      " 49%|████████████████████████████████████▉                                       | 7796/16025 [1:09:53<59:54,  2.29it/s]"
     ]
    },
    {
     "name": "stdout",
     "output_type": "stream",
     "text": [
      "Redirected:  7795 https://www.domain.com.au/22-peacedale-grove-blackburn-vic-3130-16040433\n",
      "'props'\n"
     ]
    },
    {
     "name": "stderr",
     "output_type": "stream",
     "text": [
      " 49%|████████████████████████████████████                                      | 7809/16025 [1:09:59<1:08:40,  1.99it/s]"
     ]
    },
    {
     "name": "stdout",
     "output_type": "stream",
     "text": [
      "Redirected:  7809 https://www.domain.com.au/armstrong-creek-vic-3217-16040407\n"
     ]
    },
    {
     "name": "stderr",
     "output_type": "stream",
     "text": [
      " 49%|████████████████████████████████████                                      | 7816/16025 [1:10:03<1:07:49,  2.02it/s]"
     ]
    },
    {
     "name": "stdout",
     "output_type": "stream",
     "text": [
      "Redirected:  7815 https://www.domain.com.au/16-78-auburn-road-hawthorn-vic-3122-14257358\n",
      "'listingSummary'\n"
     ]
    },
    {
     "name": "stderr",
     "output_type": "stream",
     "text": [
      " 49%|████████████████████████████████████                                      | 7820/16025 [1:10:05<1:11:34,  1.91it/s]"
     ]
    },
    {
     "name": "stdout",
     "output_type": "stream",
     "text": [
      "Redirected:  7819 https://www.domain.com.au/1914-601-little-lonsdale-melbourne-vic-3000-16040381\n",
      "'props'\n"
     ]
    },
    {
     "name": "stderr",
     "output_type": "stream",
     "text": [
      " 49%|█████████████████████████████████████▏                                      | 7850/16025 [1:10:20<49:37,  2.75it/s]"
     ]
    },
    {
     "name": "stdout",
     "output_type": "stream",
     "text": [
      "Redirected:  7849 https://www.domain.com.au/162-79-whiteman-street-southbank-vic-3006-16040298\n",
      "'props'\n"
     ]
    },
    {
     "name": "stderr",
     "output_type": "stream",
     "text": [
      " 49%|█████████████████████████████████████▏                                      | 7853/16025 [1:10:21<54:17,  2.51it/s]"
     ]
    },
    {
     "name": "stdout",
     "output_type": "stream",
     "text": [
      "Redirected:  7852 https://www.domain.com.au/1602-163-city-road-southbank-vic-3006-16040294\n",
      "'props'\n"
     ]
    },
    {
     "name": "stderr",
     "output_type": "stream",
     "text": [
      " 49%|████████████████████████████████████▍                                     | 7889/16025 [1:10:41<1:51:37,  1.21it/s]"
     ]
    },
    {
     "name": "stdout",
     "output_type": "stream",
     "text": [
      "Redirected:  7889 https://www.domain.com.au/10-elm-st-elsternwick-vic-3185-15942205\n"
     ]
    },
    {
     "name": "stderr",
     "output_type": "stream",
     "text": [
      " 49%|████████████████████████████████████▍                                     | 7894/16025 [1:10:43<1:02:03,  2.18it/s]"
     ]
    },
    {
     "name": "stdout",
     "output_type": "stream",
     "text": [
      "Redirected:  7893 https://www.domain.com.au/24-haines-street-mitcham-vic-3132-16040188\n",
      "'props'\n"
     ]
    },
    {
     "name": "stderr",
     "output_type": "stream",
     "text": [
      " 50%|████████████████████████████████████▋                                     | 7933/16025 [1:11:02<1:04:56,  2.08it/s]"
     ]
    },
    {
     "name": "stdout",
     "output_type": "stream",
     "text": [
      "Redirected:  7933 https://www.domain.com.au/3-2-dubbo-street-albion-vic-3020-16040037\n"
     ]
    },
    {
     "name": "stderr",
     "output_type": "stream",
     "text": [
      " 50%|████████████████████████████████████▋                                     | 7940/16025 [1:11:06<1:10:23,  1.91it/s]"
     ]
    },
    {
     "name": "stdout",
     "output_type": "stream",
     "text": [
      "Redirected:  7940 https://www.domain.com.au/4-4-balfe-crescent-brunswick-west-vic-3055-16039989\n"
     ]
    },
    {
     "name": "stderr",
     "output_type": "stream",
     "text": [
      " 50%|█████████████████████████████████████▋                                      | 7946/16025 [1:11:09<56:30,  2.38it/s]"
     ]
    },
    {
     "name": "stdout",
     "output_type": "stream",
     "text": [
      "Redirected:  7945 https://www.domain.com.au/18-mckean-street-fitzroy-north-vic-3068-15862250\n",
      "'props'\n"
     ]
    },
    {
     "name": "stderr",
     "output_type": "stream",
     "text": [
      " 50%|████████████████████████████████████▊                                     | 7979/16025 [1:11:25<1:03:34,  2.11it/s]"
     ]
    },
    {
     "name": "stdout",
     "output_type": "stream",
     "text": [
      "Redirected:  7979 https://www.domain.com.au/princess-highway-springvale-vic-3171-16039857\n"
     ]
    },
    {
     "name": "stderr",
     "output_type": "stream",
     "text": [
      " 50%|████████████████████████████████████▉                                     | 8009/16025 [1:11:43<1:01:55,  2.16it/s]"
     ]
    },
    {
     "name": "stdout",
     "output_type": "stream",
     "text": [
      "Redirected:  8009 https://www.domain.com.au/66-seventh-avenue-altona-north-vic-3025-16039764\n"
     ]
    },
    {
     "name": "stderr",
     "output_type": "stream",
     "text": [
      " 50%|█████████████████████████████████████▏                                    | 8044/16025 [1:12:00<1:02:37,  2.12it/s]"
     ]
    },
    {
     "name": "stdout",
     "output_type": "stream",
     "text": [
      "Redirected:  8043 https://www.domain.com.au/3704-151-city-road-southbank-vic-3006-16039664\n",
      "'props'\n"
     ]
    },
    {
     "name": "stderr",
     "output_type": "stream",
     "text": [
      " 50%|██████████████████████████████████████▏                                     | 8047/16025 [1:12:01<49:20,  2.69it/s]"
     ]
    },
    {
     "name": "stdout",
     "output_type": "stream",
     "text": [
      "Redirected:  8046 https://www.domain.com.au/1914-601-little-lonsdale-melbourne-vic-3000-16039661\n",
      "'props'\n",
      "Redirected:  8047 https://www.domain.com.au/502-1-balston-street-southbank-vic-3006-16039660\n"
     ]
    },
    {
     "name": "stderr",
     "output_type": "stream",
     "text": [
      "\r\n",
      " 50%|██████████████████████████████████████▏                                     | 8048/16025 [1:12:02<40:52,  3.25it/s]"
     ]
    },
    {
     "name": "stdout",
     "output_type": "stream",
     "text": [
      "'props'\n"
     ]
    },
    {
     "name": "stderr",
     "output_type": "stream",
     "text": [
      " 50%|█████████████████████████████████████▏                                    | 8065/16025 [1:12:11<1:56:54,  1.13it/s]"
     ]
    },
    {
     "name": "stdout",
     "output_type": "stream",
     "text": [
      "Redirected:  8064 https://www.domain.com.au/501a-6-clinch-avenue-preston-vic-3072-16039614\n",
      "'props'\n",
      "Redirected:  8065 https://www.domain.com.au/28-b-mcneil-avenue-east-geelong-vic-3219-16039609\n"
     ]
    },
    {
     "name": "stderr",
     "output_type": "stream",
     "text": [
      "\r\n",
      " 50%|█████████████████████████████████████▏                                    | 8066/16025 [1:12:12<1:42:19,  1.30it/s]"
     ]
    },
    {
     "name": "stdout",
     "output_type": "stream",
     "text": [
      "Redirected:  8066 https://www.domain.com.au/29a-melalueca-drive-hoppers-crossing-vic-3029-16039605\n"
     ]
    },
    {
     "name": "stderr",
     "output_type": "stream",
     "text": [
      " 50%|█████████████████████████████████████▎                                    | 8086/16025 [1:12:23<1:19:16,  1.67it/s]"
     ]
    },
    {
     "name": "stdout",
     "output_type": "stream",
     "text": [
      "'NoneType' object is not subscriptable\n"
     ]
    },
    {
     "name": "stderr",
     "output_type": "stream",
     "text": [
      " 50%|█████████████████████████████████████▎                                    | 8088/16025 [1:12:24<1:08:22,  1.93it/s]"
     ]
    },
    {
     "name": "stdout",
     "output_type": "stream",
     "text": [
      "Redirected:  8088 https://www.domain.com.au/s1501-231-harbour-esp-docklands-vic-3008-16039501\n"
     ]
    },
    {
     "name": "stderr",
     "output_type": "stream",
     "text": [
      " 51%|█████████████████████████████████████▌                                    | 8126/16025 [1:12:46<1:43:20,  1.27it/s]"
     ]
    },
    {
     "name": "stdout",
     "output_type": "stream",
     "text": [
      "Redirected:  8126 https://www.domain.com.au/73-king-street-dandenong-north-vic-3175-16039344\n"
     ]
    },
    {
     "name": "stderr",
     "output_type": "stream",
     "text": [
      " 51%|█████████████████████████████████████▌                                    | 8141/16025 [1:12:55<1:05:16,  2.01it/s]"
     ]
    },
    {
     "name": "stdout",
     "output_type": "stream",
     "text": [
      "Redirected:  8140 https://www.domain.com.au/12-foxdale-place-cairnlea-vic-3023-16039296\n",
      "'props'\n"
     ]
    },
    {
     "name": "stderr",
     "output_type": "stream",
     "text": [
      " 51%|█████████████████████████████████████▋                                    | 8169/16025 [1:13:13<1:14:15,  1.76it/s]"
     ]
    },
    {
     "name": "stdout",
     "output_type": "stream",
     "text": [
      "Redirected:  8168 https://www.domain.com.au/1605-1-balston-street-southbank-vic-3006-16039193\n",
      "'props'\n",
      "Redirected:  8169 https://www.domain.com.au/city173-275-city-road-southbank-vic-3006-16039192\n"
     ]
    },
    {
     "name": "stderr",
     "output_type": "stream",
     "text": [
      " 51%|██████████████████████████████████████▊                                     | 8190/16025 [1:13:25<59:41,  2.19it/s]"
     ]
    },
    {
     "name": "stdout",
     "output_type": "stream",
     "text": [
      "Redirected:  8190 https://www.domain.com.au/16-island-drive-point-cook-vic-3030-16039146\n"
     ]
    },
    {
     "name": "stderr",
     "output_type": "stream",
     "text": [
      " 51%|██████████████████████████████████████▊                                     | 8193/16025 [1:13:27<56:56,  2.29it/s]"
     ]
    },
    {
     "name": "stdout",
     "output_type": "stream",
     "text": [
      "Redirected:  8193 https://www.domain.com.au/1-9-bennet-street-drysdale-vic-3222-16039135\n"
     ]
    },
    {
     "name": "stderr",
     "output_type": "stream",
     "text": [
      " 51%|█████████████████████████████████████▊                                    | 8198/16025 [1:13:30<1:07:00,  1.95it/s]"
     ]
    },
    {
     "name": "stdout",
     "output_type": "stream",
     "text": [
      "Redirected:  8197 https://www.domain.com.au/5-105-107-dublin-road-ringwood-east-vic-3135-16039123\n",
      "'props'\n"
     ]
    },
    {
     "name": "stderr",
     "output_type": "stream",
     "text": [
      " 51%|██████████████████████████████████████▉                                     | 8215/16025 [1:13:38<47:44,  2.73it/s]"
     ]
    },
    {
     "name": "stdout",
     "output_type": "stream",
     "text": [
      "Redirected:  8214 https://www.domain.com.au/143-spensley-street-clifton-hill-vic-3068-16039076\n",
      "'props'\n"
     ]
    },
    {
     "name": "stderr",
     "output_type": "stream",
     "text": [
      " 51%|███████████████████████████████████████                                     | 8229/16025 [1:13:44<47:39,  2.73it/s]"
     ]
    },
    {
     "name": "stdout",
     "output_type": "stream",
     "text": [
      "Redirected:  8228 https://www.domain.com.au/3-10-muir-street-hawthorn-vic-3122-9766628\n",
      "'props'\n"
     ]
    },
    {
     "name": "stderr",
     "output_type": "stream",
     "text": [
      " 51%|███████████████████████████████████████                                     | 8231/16025 [1:13:45<56:35,  2.30it/s]"
     ]
    },
    {
     "name": "stdout",
     "output_type": "stream",
     "text": [
      "Redirected:  8231 https://www.domain.com.au/30-bardini-road-point-cook-vic-3030-16039014\n"
     ]
    },
    {
     "name": "stderr",
     "output_type": "stream",
     "text": [
      " 52%|███████████████████████████████████████▏                                    | 8254/16025 [1:13:59<56:39,  2.29it/s]"
     ]
    },
    {
     "name": "stdout",
     "output_type": "stream",
     "text": [
      "Redirected:  8253 https://www.domain.com.au/89-broadbeach-circuit-sanctuary-lakes-vic-3030-9570753\n",
      "'props'\n"
     ]
    },
    {
     "name": "stderr",
     "output_type": "stream",
     "text": [
      " 52%|███████████████████████████████████████▏                                    | 8261/16025 [1:14:02<53:49,  2.40it/s]"
     ]
    },
    {
     "name": "stdout",
     "output_type": "stream",
     "text": [
      "Redirected:  8260 https://www.domain.com.au/31-777-bell-street-preston-vic-3072-16038878\n",
      "'props'\n",
      "Redirected:  8261 https://www.domain.com.au/q-1134-dandenong-road-carnegie-vic-3163-16038868\n"
     ]
    },
    {
     "name": "stderr",
     "output_type": "stream",
     "text": [
      " 52%|██████████████████████████████████████▎                                   | 8307/16025 [1:14:31<1:09:34,  1.85it/s]"
     ]
    },
    {
     "name": "stdout",
     "output_type": "stream",
     "text": [
      "Redirected:  8306 https://www.domain.com.au/2604-245-city-road-southbank-vic-3006-15190633\n",
      "'props'\n"
     ]
    },
    {
     "name": "stderr",
     "output_type": "stream",
     "text": [
      " 52%|██████████████████████████████████████▎                                   | 8309/16025 [1:14:32<1:08:18,  1.88it/s]"
     ]
    },
    {
     "name": "stdout",
     "output_type": "stream",
     "text": [
      "Redirected:  8308 https://www.domain.com.au/2-15-anderson-st-caulfield-vic-3162-15967087\n",
      "'props'\n"
     ]
    },
    {
     "name": "stderr",
     "output_type": "stream",
     "text": [
      " 52%|███████████████████████████████████████▍                                    | 8312/16025 [1:14:33<40:02,  3.21it/s]"
     ]
    },
    {
     "name": "stdout",
     "output_type": "stream",
     "text": [
      "Redirected:  8310 https://www.domain.com.au/17-777-bell-street-preston-vic-3072-16038724\n",
      "'props'\n",
      "Redirected:  8311 https://www.domain.com.au/10-58-lantana-road-gardenvale-vic-3185-15830286\n",
      "'props'\n"
     ]
    },
    {
     "name": "stderr",
     "output_type": "stream",
     "text": [
      "\r\n",
      " 52%|███████████████████████████████████████▍                                    | 8313/16025 [1:14:33<33:16,  3.86it/s]"
     ]
    },
    {
     "name": "stdout",
     "output_type": "stream",
     "text": [
      "Redirected:  8312 https://www.domain.com.au/5-45-gladwyn-avenue-bentleigh-east-vic-3165-15954383\n",
      "'props'\n"
     ]
    },
    {
     "name": "stderr",
     "output_type": "stream",
     "text": [
      " 52%|██████████████████████████████████████▍                                   | 8322/16025 [1:14:39<1:35:32,  1.34it/s]"
     ]
    },
    {
     "name": "stdout",
     "output_type": "stream",
     "text": [
      "Redirected:  8322 https://www.domain.com.au/6710-138-spencer-street-melbourne-vic-3000-16033018\n"
     ]
    },
    {
     "name": "stderr",
     "output_type": "stream",
     "text": [
      " 52%|██████████████████████████████████████▌                                   | 8345/16025 [1:14:52<1:06:59,  1.91it/s]"
     ]
    },
    {
     "name": "stdout",
     "output_type": "stream",
     "text": [
      "Redirected:  8345 https://www.domain.com.au/1-146-blyth-st-brunswick-vic-3056-16038620\n"
     ]
    },
    {
     "name": "stderr",
     "output_type": "stream",
     "text": [
      " 52%|██████████████████████████████████████▋                                   | 8382/16025 [1:15:16<1:01:48,  2.06it/s]"
     ]
    },
    {
     "name": "stdout",
     "output_type": "stream",
     "text": [
      "Redirected:  8381 https://www.domain.com.au/12-dorr-court-belmont-vic-3216-14931504\n",
      "'props'\n"
     ]
    },
    {
     "name": "stderr",
     "output_type": "stream",
     "text": [
      " 52%|███████████████████████████████████████▊                                    | 8386/16025 [1:15:18<49:36,  2.57it/s]"
     ]
    },
    {
     "name": "stdout",
     "output_type": "stream",
     "text": [
      "Redirected:  8385 https://www.domain.com.au/3-69-kirkwood-avenue-seaford-vic-3198-16038493\n",
      "'props'\n"
     ]
    },
    {
     "name": "stderr",
     "output_type": "stream",
     "text": [
      " 52%|██████████████████████████████████████▋                                   | 8389/16025 [1:15:21<1:55:30,  1.10it/s]"
     ]
    },
    {
     "name": "stdout",
     "output_type": "stream",
     "text": [
      "Redirected:  8388 https://www.domain.com.au/3-626-whitehorse-road-mitcham-vic-3132-16038490\n",
      "'props'\n"
     ]
    },
    {
     "name": "stderr",
     "output_type": "stream",
     "text": [
      " 52%|██████████████████████████████████████▊                                   | 8407/16025 [1:15:32<1:13:48,  1.72it/s]"
     ]
    },
    {
     "name": "stdout",
     "output_type": "stream",
     "text": [
      "Redirected:  8407 https://www.domain.com.au/910-675-la-trobe-street-docklands-vic-3008-16038423\n"
     ]
    },
    {
     "name": "stderr",
     "output_type": "stream",
     "text": [
      " 53%|███████████████████████████████████████▉                                    | 8418/16025 [1:15:37<58:49,  2.16it/s]"
     ]
    },
    {
     "name": "stdout",
     "output_type": "stream",
     "text": [
      "Redirected:  8417 https://www.domain.com.au/1-9-parker-street-springvale-south-vic-3172-16023530\n",
      "'props'\n"
     ]
    },
    {
     "name": "stderr",
     "output_type": "stream",
     "text": [
      " 53%|██████████████████████████████████████▉                                   | 8421/16025 [1:15:40<1:21:26,  1.56it/s]"
     ]
    },
    {
     "name": "stdout",
     "output_type": "stream",
     "text": [
      "Redirected:  8421 https://www.domain.com.au/level-2304e-888-collins-street-docklands-vic-3008-16038389\n"
     ]
    },
    {
     "name": "stderr",
     "output_type": "stream",
     "text": [
      " 53%|███████████████████████████████████████                                   | 8460/16025 [1:16:04<1:19:31,  1.59it/s]"
     ]
    },
    {
     "name": "stdout",
     "output_type": "stream",
     "text": [
      "Redirected:  8460 https://www.domain.com.au/h64-bowen-crescent-carlton-north-vic-3054-15958932\n"
     ]
    },
    {
     "name": "stderr",
     "output_type": "stream",
     "text": [
      " 53%|███████████████████████████████████████▏                                  | 8487/16025 [1:16:19<1:17:27,  1.62it/s]"
     ]
    },
    {
     "name": "stdout",
     "output_type": "stream",
     "text": [
      "Redirected:  8487 https://www.domain.com.au/20-20-mccormack-road-maddingley-vic-3340-16038178\n"
     ]
    },
    {
     "name": "stderr",
     "output_type": "stream",
     "text": [
      " 53%|████████████████████████████████████████▎                                   | 8490/16025 [1:16:20<49:37,  2.53it/s]"
     ]
    },
    {
     "name": "stdout",
     "output_type": "stream",
     "text": [
      "Redirected:  8489 https://www.domain.com.au/189-kilgour-street-geelong-vic-3220-16038174\n",
      "'props'\n"
     ]
    },
    {
     "name": "stderr",
     "output_type": "stream",
     "text": [
      " 53%|████████████████████████████████████████▎                                   | 8513/16025 [1:16:32<51:54,  2.41it/s]"
     ]
    },
    {
     "name": "stdout",
     "output_type": "stream",
     "text": [
      "Redirected:  8512 https://www.domain.com.au/3602-151-city-road-southbank-vic-3006-16038122\n",
      "'props'\n"
     ]
    },
    {
     "name": "stderr",
     "output_type": "stream",
     "text": [
      " 53%|████████████████████████████████████████▍                                   | 8516/16025 [1:16:34<52:38,  2.38it/s]"
     ]
    },
    {
     "name": "stdout",
     "output_type": "stream",
     "text": [
      "Redirected:  8515 https://www.domain.com.au/whit79-22-whiteman-street-southbank-vic-3006-16038118\n",
      "'props'\n"
     ]
    },
    {
     "name": "stderr",
     "output_type": "stream",
     "text": [
      "\r\n",
      " 53%|████████████████████████████████████████▍                                   | 8517/16025 [1:16:34<55:46,  2.24it/s]"
     ]
    },
    {
     "name": "stdout",
     "output_type": "stream",
     "text": [
      "Redirected:  8516 https://www.domain.com.au/99-79-whiteman-street-southbank-vic-3006-16038115\n",
      "'props'\n"
     ]
    },
    {
     "name": "stderr",
     "output_type": "stream",
     "text": [
      " 53%|████████████████████████████████████████▍                                   | 8521/16025 [1:16:37<58:29,  2.14it/s]"
     ]
    },
    {
     "name": "stdout",
     "output_type": "stream",
     "text": [
      "Redirected:  8520 https://www.domain.com.au/2103-181-abeckett-street-melbourne-vic-3000-16038110\n",
      "'props'\n"
     ]
    },
    {
     "name": "stderr",
     "output_type": "stream",
     "text": [
      " 53%|████████████████████████████████████████▍                                   | 8536/16025 [1:16:44<49:06,  2.54it/s]"
     ]
    },
    {
     "name": "stdout",
     "output_type": "stream",
     "text": [
      "Redirected:  8535 https://www.domain.com.au/5-6-portsmouth-place-epping-vic-3076-16038079\n",
      "'props'\n"
     ]
    },
    {
     "name": "stderr",
     "output_type": "stream",
     "text": [
      " 53%|███████████████████████████████████████▌                                  | 8559/16025 [1:17:00<1:06:29,  1.87it/s]"
     ]
    },
    {
     "name": "stdout",
     "output_type": "stream",
     "text": [
      "Redirected:  8559 https://www.domain.com.au/2-84-the-esplanade-torquay-vic-3228-16038006\n"
     ]
    },
    {
     "name": "stderr",
     "output_type": "stream",
     "text": [
      " 53%|████████████████████████████████████████▌                                   | 8562/16025 [1:17:01<51:35,  2.41it/s]"
     ]
    },
    {
     "name": "stdout",
     "output_type": "stream",
     "text": [
      "Redirected:  8561 https://www.domain.com.au/2-63-bradman-boulevard-traralgon-vic-3844-10242593\n",
      "'props'\n"
     ]
    },
    {
     "name": "stderr",
     "output_type": "stream",
     "text": [
      " 53%|███████████████████████████████████████▌                                  | 8569/16025 [1:17:05<1:00:11,  2.06it/s]"
     ]
    },
    {
     "name": "stdout",
     "output_type": "stream",
     "text": [
      "Redirected:  8569 https://www.domain.com.au/26-11-15-cochrane-street-brighton-vic-3186-16037984\n"
     ]
    },
    {
     "name": "stderr",
     "output_type": "stream",
     "text": [
      " 54%|████████████████████████████████████████▋                                   | 8574/16025 [1:17:08<59:17,  2.09it/s]"
     ]
    },
    {
     "name": "stdout",
     "output_type": "stream",
     "text": [
      "Redirected:  8574 https://www.domain.com.au/27-70-church-street-hawthorn-vic-3122-16037973\n"
     ]
    },
    {
     "name": "stderr",
     "output_type": "stream",
     "text": [
      " 54%|███████████████████████████████████████▋                                  | 8591/16025 [1:17:19<1:11:53,  1.72it/s]"
     ]
    },
    {
     "name": "stdout",
     "output_type": "stream",
     "text": [
      "Redirected:  8589 https://www.domain.com.au/8-callus-street-killara-vic-3691-16037933\n",
      "'props'\n",
      "Redirected:  8590 https://www.domain.com.au/150-ingleman-road-buln-buln-east-vic-3821-15167812\n",
      "'props'\n"
     ]
    },
    {
     "name": "stderr",
     "output_type": "stream",
     "text": [
      " 54%|███████████████████████████████████████▋                                  | 8597/16025 [1:17:23<1:37:06,  1.27it/s]"
     ]
    },
    {
     "name": "stdout",
     "output_type": "stream",
     "text": [
      "Redirected:  8596 https://www.domain.com.au/7-777-bell-street-preston-vic-3072-16037905\n",
      "'props'\n"
     ]
    },
    {
     "name": "stderr",
     "output_type": "stream",
     "text": [
      " 54%|████████████████████████████████████████▊                                   | 8602/16025 [1:17:26<59:09,  2.09it/s]"
     ]
    },
    {
     "name": "stdout",
     "output_type": "stream",
     "text": [
      "Redirected:  8601 https://www.domain.com.au/5-139-endeavour-drive-cranbourne-north-vic-3977-10858174\n",
      "'props'\n"
     ]
    },
    {
     "name": "stderr",
     "output_type": "stream",
     "text": [
      " 54%|████████████████████████████████████████▊                                   | 8604/16025 [1:17:26<52:14,  2.37it/s]"
     ]
    },
    {
     "name": "stdout",
     "output_type": "stream",
     "text": [
      "Redirected:  8603 https://www.domain.com.au/78-larch-cres-mount-waverley-vic-3149-10321161\n",
      "'props'\n"
     ]
    },
    {
     "name": "stderr",
     "output_type": "stream",
     "text": [
      " 54%|████████████████████████████████████████▊                                   | 8616/16025 [1:17:33<55:39,  2.22it/s]"
     ]
    },
    {
     "name": "stdout",
     "output_type": "stream",
     "text": [
      "Redirected:  8615 https://www.domain.com.au/18-777-bell-street-preston-vic-3072-16037856\n",
      "'props'\n"
     ]
    },
    {
     "name": "stderr",
     "output_type": "stream",
     "text": [
      " 54%|███████████████████████████████████████▊                                  | 8620/16025 [1:17:36<1:04:13,  1.92it/s]"
     ]
    },
    {
     "name": "stdout",
     "output_type": "stream",
     "text": [
      "Redirected:  8619 https://www.domain.com.au/1-ross-pincott-drive-mooroolbark-vic-3138-16037841\n",
      "'props'\n"
     ]
    },
    {
     "name": "stderr",
     "output_type": "stream",
     "text": [
      " 54%|████████████████████████████████████████▉                                   | 8635/16025 [1:17:43<55:36,  2.21it/s]"
     ]
    },
    {
     "name": "stdout",
     "output_type": "stream",
     "text": [
      "Redirected:  8635 https://www.domain.com.au/204-9-high-st-north-melbourne-vic-3051-16011405\n"
     ]
    },
    {
     "name": "stderr",
     "output_type": "stream",
     "text": [
      " 54%|█████████████████████████████████████████                                   | 8647/16025 [1:17:48<41:21,  2.97it/s]"
     ]
    },
    {
     "name": "stdout",
     "output_type": "stream",
     "text": [
      "Redirected:  8646 https://www.domain.com.au/3-12-federal-road-ringwood-east-vic-3135-16037755\n",
      "'props'\n"
     ]
    },
    {
     "name": "stderr",
     "output_type": "stream",
     "text": [
      " 54%|█████████████████████████████████████████                                   | 8651/16025 [1:17:50<45:43,  2.69it/s]"
     ]
    },
    {
     "name": "stdout",
     "output_type": "stream",
     "text": [
      "Redirected:  8650 https://www.domain.com.au/4007-60-kavanagh-street-southbank-vic-3006-16037746\n",
      "'props'\n"
     ]
    },
    {
     "name": "stderr",
     "output_type": "stream",
     "text": [
      " 54%|█████████████████████████████████████████                                   | 8653/16025 [1:17:51<51:11,  2.40it/s]"
     ]
    },
    {
     "name": "stdout",
     "output_type": "stream",
     "text": [
      "Redirected:  8652 https://www.domain.com.au/42-140-flinders-street-melbourne-vic-3000-16037712\n",
      "'props'\n"
     ]
    },
    {
     "name": "stderr",
     "output_type": "stream",
     "text": [
      " 54%|█████████████████████████████████████████▏                                  | 8677/16025 [1:18:04<43:45,  2.80it/s]"
     ]
    },
    {
     "name": "stdout",
     "output_type": "stream",
     "text": [
      "Redirected:  8676 https://www.domain.com.au/unit-1-75-morley-street-glenroy-vic-3046-16037660\n",
      "'props'\n"
     ]
    },
    {
     "name": "stderr",
     "output_type": "stream",
     "text": [
      " 54%|████████████████████████████████████████▏                                 | 8694/16025 [1:18:15<1:06:59,  1.82it/s]"
     ]
    },
    {
     "name": "stdout",
     "output_type": "stream",
     "text": [
      "Redirected:  8694 https://www.domain.com.au/11-40-edgevale-road-kew-vic-3101-11102471\n"
     ]
    },
    {
     "name": "stderr",
     "output_type": "stream",
     "text": [
      " 54%|█████████████████████████████████████████▎                                  | 8708/16025 [1:18:24<57:27,  2.12it/s]"
     ]
    },
    {
     "name": "stdout",
     "output_type": "stream",
     "text": [
      "Redirected:  8707 https://www.domain.com.au/5-1a-boondara-grove-st-kilda-vic-3182-5199117\n",
      "'props'\n"
     ]
    },
    {
     "name": "stderr",
     "output_type": "stream",
     "text": [
      " 54%|█████████████████████████████████████████▎                                  | 8719/16025 [1:18:29<53:21,  2.28it/s]"
     ]
    },
    {
     "name": "stdout",
     "output_type": "stream",
     "text": [
      "Redirected:  8718 https://www.domain.com.au/unit-12-28-tivoli-road-south-yarra-vic-3141-16037487\n",
      "'props'\n"
     ]
    },
    {
     "name": "stderr",
     "output_type": "stream",
     "text": [
      " 55%|████████████████████████████████████████▍                                 | 8750/16025 [1:18:47<1:37:31,  1.24it/s]"
     ]
    },
    {
     "name": "stdout",
     "output_type": "stream",
     "text": [
      "Redirected:  8749 https://www.domain.com.au/123-83-whiteman-street-southbank-vic-3006-16037340\n",
      "'props'\n"
     ]
    },
    {
     "name": "stderr",
     "output_type": "stream",
     "text": [
      " 55%|████████████████████████████████████████▍                                 | 8763/16025 [1:18:55<1:27:51,  1.38it/s]"
     ]
    },
    {
     "name": "stdout",
     "output_type": "stream",
     "text": [
      "Redirected:  8763 https://www.domain.com.au/425-hawthorn-road-caulfield-south-vic-3162-16037273\n"
     ]
    },
    {
     "name": "stderr",
     "output_type": "stream",
     "text": [
      " 55%|█████████████████████████████████████████▌                                  | 8770/16025 [1:18:58<42:16,  2.86it/s]"
     ]
    },
    {
     "name": "stdout",
     "output_type": "stream",
     "text": [
      "Redirected:  8769 https://www.domain.com.au/4-58-john-street-glenroy-vic-3046-16037253\n",
      "'props'\n",
      "Redirected:  8770 https://www.domain.com.au/3-29-volga-street-hadfield-vic-3046-16037252\n"
     ]
    },
    {
     "name": "stderr",
     "output_type": "stream",
     "text": [
      " 55%|█████████████████████████████████████████▌                                  | 8774/16025 [1:18:59<38:08,  3.17it/s]"
     ]
    },
    {
     "name": "stdout",
     "output_type": "stream",
     "text": [
      "Redirected:  8773 https://www.domain.com.au/2706-245-city-road-southbank-vic-3006-16037240\n",
      "'props'\n"
     ]
    },
    {
     "name": "stderr",
     "output_type": "stream",
     "text": [
      " 55%|█████████████████████████████████████████▋                                  | 8777/16025 [1:19:00<48:23,  2.50it/s]"
     ]
    },
    {
     "name": "stdout",
     "output_type": "stream",
     "text": [
      "Redirected:  8777 https://www.domain.com.au/29-edmund-drive-bonshaw-vic-3352-16037229\n"
     ]
    },
    {
     "name": "stderr",
     "output_type": "stream",
     "text": [
      " 55%|████████████████████████████████████████▌                                 | 8793/16025 [1:19:09<1:01:47,  1.95it/s]"
     ]
    },
    {
     "name": "stdout",
     "output_type": "stream",
     "text": [
      "Redirected:  8792 https://www.domain.com.au/109-newmarket-rd-werribee-vic-3030-15986002\n",
      "'props'\n"
     ]
    },
    {
     "name": "stderr",
     "output_type": "stream",
     "text": [
      " 55%|████████████████████████████████████████▌                                 | 8795/16025 [1:19:10<1:02:19,  1.93it/s]"
     ]
    },
    {
     "name": "stdout",
     "output_type": "stream",
     "text": [
      "Redirected:  8795 https://www.domain.com.au/1-townsend-street-kennington-bendigo-vic-3550-16037195\n"
     ]
    },
    {
     "name": "stderr",
     "output_type": "stream",
     "text": [
      " 55%|█████████████████████████████████████████▋                                  | 8798/16025 [1:19:12<48:48,  2.47it/s]"
     ]
    },
    {
     "name": "stdout",
     "output_type": "stream",
     "text": [
      "Redirected:  8797 https://www.domain.com.au/113-park-street-south-melbourne-vic-3205-16037161\n",
      "'listingSummary'\n"
     ]
    },
    {
     "name": "stderr",
     "output_type": "stream",
     "text": [
      " 55%|█████████████████████████████████████████▊                                  | 8804/16025 [1:19:15<52:53,  2.28it/s]"
     ]
    },
    {
     "name": "stdout",
     "output_type": "stream",
     "text": [
      "Redirected:  8803 https://www.domain.com.au/1-30-westbourne-grove-northcote-vic-3070-16037162\n",
      "'props'\n"
     ]
    },
    {
     "name": "stderr",
     "output_type": "stream",
     "text": [
      " 55%|█████████████████████████████████████████▊                                  | 8811/16025 [1:19:18<47:38,  2.52it/s]"
     ]
    },
    {
     "name": "stdout",
     "output_type": "stream",
     "text": [
      "Redirected:  8810 https://www.domain.com.au/6-westbury-street-cairnlea-vic-3023-16037122\n",
      "'props'\n",
      "Redirected:  8811 https://www.domain.com.au/3-harry-street-cranbourne-cranbourne-vic-3977-16037118\n"
     ]
    },
    {
     "name": "stderr",
     "output_type": "stream",
     "text": [
      " 55%|█████████████████████████████████████████▉                                  | 8836/16025 [1:19:31<49:12,  2.44it/s]"
     ]
    },
    {
     "name": "stdout",
     "output_type": "stream",
     "text": [
      "Redirected:  8835 https://www.domain.com.au/1613-151-city-road-southbank-vic-3006-16037025\n",
      "'props'\n"
     ]
    },
    {
     "name": "stderr",
     "output_type": "stream",
     "text": [
      " 55%|██████████████████████████████████████████                                  | 8864/16025 [1:19:45<52:23,  2.28it/s]"
     ]
    },
    {
     "name": "stdout",
     "output_type": "stream",
     "text": [
      "Redirected:  8863 https://www.domain.com.au/108-bindi-street-glenroy-vic-3046-16036929\n",
      "'props'\n"
     ]
    },
    {
     "name": "stderr",
     "output_type": "stream",
     "text": [
      " 55%|████████████████████████████████████████▉                                 | 8872/16025 [1:19:49<1:06:16,  1.80it/s]"
     ]
    },
    {
     "name": "stdout",
     "output_type": "stream",
     "text": [
      "Redirected:  8872 https://www.domain.com.au/11-wood-st-avondale-heights-vic-3034-16036895\n"
     ]
    },
    {
     "name": "stderr",
     "output_type": "stream",
     "text": [
      " 55%|██████████████████████████████████████████                                  | 8879/16025 [1:19:53<38:13,  3.12it/s]"
     ]
    },
    {
     "name": "stdout",
     "output_type": "stream",
     "text": [
      "Redirected:  8877 https://www.domain.com.au/204-26-queens-road-melbourne-vic-3004-16036884\n",
      "'props'\n",
      "Redirected:  8878 https://www.domain.com.au/216-183-city-road-southbank-vic-3006-16036883\n",
      "'props'\n"
     ]
    },
    {
     "name": "stderr",
     "output_type": "stream",
     "text": [
      " 56%|█████████████████████████████████████████                                 | 8897/16025 [1:20:05<1:54:28,  1.04it/s]"
     ]
    },
    {
     "name": "stdout",
     "output_type": "stream",
     "text": [
      "Redirected:  8896 https://www.domain.com.au/21-alma-road-camberwell-vic-3124-16036826\n",
      "'props'\n"
     ]
    },
    {
     "name": "stderr",
     "output_type": "stream",
     "text": [
      " 56%|█████████████████████████████████████████▏                                | 8911/16025 [1:20:13<1:01:22,  1.93it/s]"
     ]
    },
    {
     "name": "stdout",
     "output_type": "stream",
     "text": [
      "Redirected:  8910 https://www.domain.com.au/44-agnes-street-noble-park-vic-3174-12758582\n",
      "'props'\n"
     ]
    },
    {
     "name": "stderr",
     "output_type": "stream",
     "text": [
      " 56%|██████████████████████████████████████████▎                                 | 8914/16025 [1:20:14<42:16,  2.80it/s]"
     ]
    },
    {
     "name": "stdout",
     "output_type": "stream",
     "text": [
      "Redirected:  8913 https://www.domain.com.au/53-nicholson-street-coburg-vic-3058-16036763\n",
      "'props'\n"
     ]
    },
    {
     "name": "stderr",
     "output_type": "stream",
     "text": [
      " 56%|█████████████████████████████████████████▏                                | 8921/16025 [1:20:18<1:05:38,  1.80it/s]"
     ]
    },
    {
     "name": "stdout",
     "output_type": "stream",
     "text": [
      "Redirected:  8921 https://www.domain.com.au/1-7-como-parade-mentone-vic-3194-16036729\n"
     ]
    },
    {
     "name": "stderr",
     "output_type": "stream",
     "text": [
      " 56%|██████████████████████████████████████████▍                                 | 8956/16025 [1:20:35<42:54,  2.75it/s]"
     ]
    },
    {
     "name": "stdout",
     "output_type": "stream",
     "text": [
      "Redirected:  8955 https://www.domain.com.au/53-gray-street-swan-hill-vic-3585-16036637\n",
      "'props'\n"
     ]
    },
    {
     "name": "stderr",
     "output_type": "stream",
     "text": [
      " 56%|██████████████████████████████████████████▍                                 | 8960/16025 [1:20:37<57:26,  2.05it/s]"
     ]
    },
    {
     "name": "stdout",
     "output_type": "stream",
     "text": [
      "Redirected:  8960 https://www.domain.com.au/215-345-high-street-preston-vic-3072-16036625\n"
     ]
    },
    {
     "name": "stderr",
     "output_type": "stream",
     "text": [
      " 56%|██████████████████████████████████████████▌                                 | 8962/16025 [1:20:38<44:32,  2.64it/s]"
     ]
    },
    {
     "name": "stdout",
     "output_type": "stream",
     "text": [
      "Redirected:  8961 https://www.domain.com.au/1018-39-coventry-st-southbank-vic-3006-15235217\n",
      "'props'\n"
     ]
    },
    {
     "name": "stderr",
     "output_type": "stream",
     "text": [
      " 56%|██████████████████████████████████████████▌                                 | 8973/16025 [1:20:45<59:46,  1.97it/s]"
     ]
    },
    {
     "name": "stdout",
     "output_type": "stream",
     "text": [
      "Redirected:  8973 https://www.domain.com.au/4-28-olive-grove-mentone-vic-3194-16036605\n"
     ]
    },
    {
     "name": "stderr",
     "output_type": "stream",
     "text": [
      " 56%|██████████████████████████████████████████▌                                 | 8987/16025 [1:20:53<44:05,  2.66it/s]"
     ]
    },
    {
     "name": "stdout",
     "output_type": "stream",
     "text": [
      "Redirected:  8986 https://www.domain.com.au/20-colorado-street-truganina-vic-3029-16036559\n",
      "'props'\n"
     ]
    },
    {
     "name": "stderr",
     "output_type": "stream",
     "text": [
      " 56%|██████████████████████████████████████████▋                                 | 8990/16025 [1:20:54<39:02,  3.00it/s]"
     ]
    },
    {
     "name": "stdout",
     "output_type": "stream",
     "text": [
      "Redirected:  8989 https://www.domain.com.au/3809-81-a-beckett-street-melbourne-vic-3000-16036549\n",
      "'props'\n"
     ]
    },
    {
     "name": "stderr",
     "output_type": "stream",
     "text": [
      " 56%|██████████████████████████████████████████▋                                 | 9011/16025 [1:21:06<52:08,  2.24it/s]"
     ]
    },
    {
     "name": "stdout",
     "output_type": "stream",
     "text": [
      "Redirected:  9011 https://www.domain.com.au/11-fischer-street-torquay-vic-3228-16036492\n"
     ]
    },
    {
     "name": "stderr",
     "output_type": "stream",
     "text": [
      " 56%|██████████████████████████████████████████▋                                 | 9013/16025 [1:21:07<38:13,  3.06it/s]"
     ]
    },
    {
     "name": "stdout",
     "output_type": "stream",
     "text": [
      "'listingSummary'\n",
      "Redirected:  9012 https://www.domain.com.au/912-100-harbour-esplanade-docklands-vic-3008-16036491\n",
      "'props'\n"
     ]
    },
    {
     "name": "stderr",
     "output_type": "stream",
     "text": [
      " 56%|██████████████████████████████████████████▊                                 | 9030/16025 [1:21:16<58:52,  1.98it/s]"
     ]
    },
    {
     "name": "stdout",
     "output_type": "stream",
     "text": [
      "Redirected:  9030 https://www.domain.com.au/6a-sica-court-sydenham-vic-3037-16036421\n"
     ]
    },
    {
     "name": "stderr",
     "output_type": "stream",
     "text": [
      " 56%|██████████████████████████████████████████▊                                 | 9035/16025 [1:21:18<49:05,  2.37it/s]"
     ]
    },
    {
     "name": "stdout",
     "output_type": "stream",
     "text": [
      "Redirected:  9034 https://www.domain.com.au/703-4-6-station-street-moorabbin-vic-3189-13956216\n",
      "'props'\n"
     ]
    },
    {
     "name": "stderr",
     "output_type": "stream",
     "text": [
      "\r\n",
      " 56%|██████████████████████████████████████████▊                                 | 9036/16025 [1:21:19<53:28,  2.18it/s]"
     ]
    },
    {
     "name": "stdout",
     "output_type": "stream",
     "text": [
      "Redirected:  9036 https://www.domain.com.au/2a-flinders-street-thornbury-vic-3071-16036424\n"
     ]
    },
    {
     "name": "stderr",
     "output_type": "stream",
     "text": [
      " 56%|██████████████████████████████████████████▉                                 | 9045/16025 [1:21:24<44:23,  2.62it/s]"
     ]
    },
    {
     "name": "stdout",
     "output_type": "stream",
     "text": [
      "Redirected:  9044 https://www.domain.com.au/2612-288-spencer-street-melbourne-vic-3000-16036407\n",
      "'props'\n"
     ]
    },
    {
     "name": "stderr",
     "output_type": "stream",
     "text": [
      " 56%|██████████████████████████████████████████▉                                 | 9049/16025 [1:21:25<40:26,  2.88it/s]"
     ]
    },
    {
     "name": "stdout",
     "output_type": "stream",
     "text": [
      "Redirected:  9048 https://www.domain.com.au/5-bushwalk-grove-epsom-vic-3551-16036396\n",
      "'props'\n"
     ]
    },
    {
     "name": "stderr",
     "output_type": "stream",
     "text": [
      " 56%|██████████████████████████████████████████▉                                 | 9051/16025 [1:21:26<35:06,  3.31it/s]"
     ]
    },
    {
     "name": "stdout",
     "output_type": "stream",
     "text": [
      "Redirected:  9050 https://www.domain.com.au/32-gracedale-avenue-ringwood-east-vic-3135-16036385\n",
      "'props'\n"
     ]
    },
    {
     "name": "stderr",
     "output_type": "stream",
     "text": [
      " 57%|██████████████████████████████████████████▉                                 | 9057/16025 [1:21:29<51:38,  2.25it/s]"
     ]
    },
    {
     "name": "stdout",
     "output_type": "stream",
     "text": [
      "Redirected:  9056 https://www.domain.com.au/20-cannes-avenue-avondale-heights-vic-3034-16036360\n",
      "'props'\n"
     ]
    },
    {
     "name": "stderr",
     "output_type": "stream",
     "text": [
      " 57%|██████████████████████████████████████████▉                                 | 9059/16025 [1:21:30<50:11,  2.31it/s]"
     ]
    },
    {
     "name": "stdout",
     "output_type": "stream",
     "text": [
      "Redirected:  9058 https://www.domain.com.au/1-96-wallace-street-bairnsdale-vic-3875-15790494\n",
      "'props'\n"
     ]
    },
    {
     "name": "stderr",
     "output_type": "stream",
     "text": [
      " 57%|█████████████████████████████████████████▊                                | 9065/16025 [1:21:34<1:05:21,  1.77it/s]"
     ]
    },
    {
     "name": "stdout",
     "output_type": "stream",
     "text": [
      "Redirected:  9064 https://www.domain.com.au/14-23-avoca-street-south-yarra-vic-3141-10435681\n",
      "'props'\n"
     ]
    },
    {
     "name": "stderr",
     "output_type": "stream",
     "text": [
      " 57%|█████████████████████████████████████████▊                                | 9068/16025 [1:21:36<1:11:27,  1.62it/s]"
     ]
    },
    {
     "name": "stdout",
     "output_type": "stream",
     "text": [
      "Redirected:  9067 https://www.domain.com.au/9-rene-street-waurn-ponds-vic-3216-15969266\n",
      "'props'\n"
     ]
    },
    {
     "name": "stderr",
     "output_type": "stream",
     "text": [
      " 57%|██████████████████████████████████████████                                | 9111/16025 [1:22:06<2:08:33,  1.12s/it]"
     ]
    },
    {
     "name": "stdout",
     "output_type": "stream",
     "text": [
      "'NoneType' object is not subscriptable\n"
     ]
    },
    {
     "name": "stderr",
     "output_type": "stream",
     "text": [
      " 57%|███████████████████████████████████████████▏                                | 9118/16025 [1:22:09<56:38,  2.03it/s]"
     ]
    },
    {
     "name": "stdout",
     "output_type": "stream",
     "text": [
      "Redirected:  9117 https://www.domain.com.au/1112-601-little-collins-st-melbourne-vic-3000-15994372\n",
      "'props'\n"
     ]
    },
    {
     "name": "stderr",
     "output_type": "stream",
     "text": [
      " 57%|███████████████████████████████████████████▎                                | 9121/16025 [1:22:10<51:12,  2.25it/s]"
     ]
    },
    {
     "name": "stdout",
     "output_type": "stream",
     "text": [
      "Redirected:  9121 https://www.domain.com.au/2-61-david-street-knoxfield-vic-3180-16036189\n"
     ]
    },
    {
     "name": "stderr",
     "output_type": "stream",
     "text": [
      " 57%|███████████████████████████████████████████▎                                | 9127/16025 [1:22:13<51:53,  2.22it/s]"
     ]
    },
    {
     "name": "stdout",
     "output_type": "stream",
     "text": [
      "Redirected:  9127 https://www.domain.com.au/108-106-108-queensberry-street-carlton-vic-3053-16036162\n"
     ]
    },
    {
     "name": "stderr",
     "output_type": "stream",
     "text": [
      "\r\n",
      " 57%|███████████████████████████████████████████▎                                | 9128/16025 [1:22:13<48:48,  2.36it/s]"
     ]
    },
    {
     "name": "stdout",
     "output_type": "stream",
     "text": [
      "'listingSummary'\n"
     ]
    },
    {
     "name": "stderr",
     "output_type": "stream",
     "text": [
      " 57%|██████████████████████████████████████████▏                               | 9132/16025 [1:22:16<1:14:12,  1.55it/s]"
     ]
    },
    {
     "name": "stdout",
     "output_type": "stream",
     "text": [
      "'NoneType' object is not subscriptable\n"
     ]
    },
    {
     "name": "stderr",
     "output_type": "stream",
     "text": [
      " 57%|██████████████████████████████████████████▏                               | 9135/16025 [1:22:18<1:09:09,  1.66it/s]"
     ]
    },
    {
     "name": "stdout",
     "output_type": "stream",
     "text": [
      "Redirected:  9134 https://www.domain.com.au/1-9-van-ness-avenue-mornington-vic-3931-16036139\n",
      "'props'\n",
      "Redirected:  9135 https://www.domain.com.au/6-59-belgrave-hallam-road-hallam-vic-3803-16036136\n"
     ]
    },
    {
     "name": "stderr",
     "output_type": "stream",
     "text": [
      "\r\n",
      " 57%|██████████████████████████████████████████▏                               | 9136/16025 [1:22:18<1:02:39,  1.83it/s]"
     ]
    },
    {
     "name": "stdout",
     "output_type": "stream",
     "text": [
      "'listingSummary'\n"
     ]
    },
    {
     "name": "stderr",
     "output_type": "stream",
     "text": [
      " 57%|███████████████████████████████████████████▍                                | 9158/16025 [1:22:30<44:59,  2.54it/s]"
     ]
    },
    {
     "name": "stdout",
     "output_type": "stream",
     "text": [
      "Redirected:  9157 https://www.domain.com.au/231-173-city-road-southbank-vic-3006-16036063\n",
      "'props'\n"
     ]
    },
    {
     "name": "stderr",
     "output_type": "stream",
     "text": [
      " 57%|███████████████████████████████████████████▍                                | 9162/16025 [1:22:31<52:49,  2.17it/s]"
     ]
    },
    {
     "name": "stdout",
     "output_type": "stream",
     "text": [
      "Redirected:  9162 https://www.domain.com.au/dg06-8-olive-york-way-brunswick-east-vic-3057-16036047\n"
     ]
    },
    {
     "name": "stderr",
     "output_type": "stream",
     "text": [
      " 57%|███████████████████████████████████████████▌                                | 9179/16025 [1:22:39<37:26,  3.05it/s]"
     ]
    },
    {
     "name": "stdout",
     "output_type": "stream",
     "text": [
      "Redirected:  9178 https://www.domain.com.au/308-112-ireland-street-west-melbourne-vic-3003-16035998\n",
      "'props'\n"
     ]
    },
    {
     "name": "stderr",
     "output_type": "stream",
     "text": [
      " 57%|███████████████████████████████████████████▌                                | 9183/16025 [1:22:40<34:44,  3.28it/s]"
     ]
    },
    {
     "name": "stdout",
     "output_type": "stream",
     "text": [
      "Redirected:  9182 https://www.domain.com.au/3514-601-little-lonsdale-street-melbourne-vic-3000-16035989\n",
      "'props'\n"
     ]
    },
    {
     "name": "stderr",
     "output_type": "stream",
     "text": [
      " 57%|███████████████████████████████████████████▌                                | 9191/16025 [1:22:43<38:21,  2.97it/s]"
     ]
    },
    {
     "name": "stdout",
     "output_type": "stream",
     "text": [
      "Redirected:  9190 https://www.domain.com.au/25-olivia-way-hastings-vic-3915-16035967\n",
      "'props'\n"
     ]
    },
    {
     "name": "stderr",
     "output_type": "stream",
     "text": [
      " 58%|██████████████████████████████████████████▌                               | 9222/16025 [1:22:59<1:28:54,  1.28it/s]"
     ]
    },
    {
     "name": "stdout",
     "output_type": "stream",
     "text": [
      "Redirected:  9221 https://www.domain.com.au/611-2-claremont-street-south-yarra-vic-3141-16035882\n",
      "'props'\n"
     ]
    },
    {
     "name": "stderr",
     "output_type": "stream",
     "text": [
      " 58%|███████████████████████████████████████████▊                                | 9244/16025 [1:23:10<45:29,  2.48it/s]"
     ]
    },
    {
     "name": "stdout",
     "output_type": "stream",
     "text": [
      "Redirected:  9243 https://www.domain.com.au/2-4-assumption-close-truganina-vic-3029-16035814\n",
      "'props'\n"
     ]
    },
    {
     "name": "stderr",
     "output_type": "stream",
     "text": [
      " 58%|███████████████████████████████████████████▉                                | 9252/16025 [1:23:13<39:56,  2.83it/s]"
     ]
    },
    {
     "name": "stdout",
     "output_type": "stream",
     "text": [
      "Redirected:  9251 https://www.domain.com.au/52a-campbell-street-coburg-vic-3058-16035800\n",
      "'props'\n"
     ]
    },
    {
     "name": "stderr",
     "output_type": "stream",
     "text": [
      " 58%|██████████████████████████████████████████▊                               | 9275/16025 [1:23:27<1:21:38,  1.38it/s]"
     ]
    },
    {
     "name": "stdout",
     "output_type": "stream",
     "text": [
      "Redirected:  9275 https://www.domain.com.au/51-riley-street-clayton-vic-3168-16035733\n"
     ]
    },
    {
     "name": "stderr",
     "output_type": "stream",
     "text": [
      " 58%|████████████████████████████████████████████                                | 9293/16025 [1:23:35<43:19,  2.59it/s]"
     ]
    },
    {
     "name": "stdout",
     "output_type": "stream",
     "text": [
      "Redirected:  9292 https://www.domain.com.au/9-491-nicholson-street-carlton-north-vic-3054-16035692\n",
      "'listingSummary'\n",
      "Redirected:  9293 https://www.domain.com.au/10-song-street-mambourin-vic-3024-15981941\n",
      "'props'\n"
     ]
    },
    {
     "name": "stderr",
     "output_type": "stream",
     "text": [
      " 58%|███████████████████████████████████████████                               | 9317/16025 [1:23:47<1:01:27,  1.82it/s]"
     ]
    },
    {
     "name": "stdout",
     "output_type": "stream",
     "text": [
      "Redirected:  9316 https://www.domain.com.au/27-69-dorcas-street-south-melbourne-vic-3205-16035633\n",
      "'props'\n",
      "Redirected:  9317 https://www.domain.com.au/1107-241-city-road-southbank-vic-3006-16034249\n"
     ]
    },
    {
     "name": "stderr",
     "output_type": "stream",
     "text": [
      "\r\n",
      " 58%|████████████████████████████████████████████▏                               | 9318/16025 [1:23:47<48:55,  2.28it/s]"
     ]
    },
    {
     "name": "stdout",
     "output_type": "stream",
     "text": [
      "'props'\n"
     ]
    },
    {
     "name": "stderr",
     "output_type": "stream",
     "text": [
      " 58%|████████████████████████████████████████████▏                               | 9320/16025 [1:23:47<38:00,  2.94it/s]"
     ]
    },
    {
     "name": "stdout",
     "output_type": "stream",
     "text": [
      "Redirected:  9319 https://www.domain.com.au/4906-560-lonsdale-street-melbourne-vic-3000-16035629\n",
      "'props'\n"
     ]
    },
    {
     "name": "stderr",
     "output_type": "stream",
     "text": [
      " 58%|████████████████████████████████████████████▏                               | 9324/16025 [1:23:49<50:23,  2.22it/s]"
     ]
    },
    {
     "name": "stdout",
     "output_type": "stream",
     "text": [
      "Redirected:  9324 https://www.domain.com.au/3-5-rosella-place-yarrawonga-vic-3730-16035603\n"
     ]
    },
    {
     "name": "stderr",
     "output_type": "stream",
     "text": [
      " 58%|████████████████████████████████████████████▎                               | 9337/16025 [1:23:55<38:45,  2.88it/s]"
     ]
    },
    {
     "name": "stdout",
     "output_type": "stream",
     "text": [
      "Redirected:  9336 https://www.domain.com.au/6-13-hopetoun-avenue-brunswick-west-vic-3055-16035563\n",
      "'props'\n",
      "Redirected:  9337 https://www.domain.com.au/3-34-elstone-avenue-airport-west-vic-3042-16035562\n"
     ]
    },
    {
     "name": "stderr",
     "output_type": "stream",
     "text": [
      "\r\n",
      " 58%|████████████████████████████████████████████▎                               | 9338/16025 [1:23:55<32:49,  3.40it/s]"
     ]
    },
    {
     "name": "stdout",
     "output_type": "stream",
     "text": [
      "'props'\n"
     ]
    },
    {
     "name": "stderr",
     "output_type": "stream",
     "text": [
      "\r\n",
      " 58%|████████████████████████████████████████████▎                               | 9339/16025 [1:23:56<38:30,  2.89it/s]"
     ]
    },
    {
     "name": "stdout",
     "output_type": "stream",
     "text": [
      "Redirected:  9339 https://www.domain.com.au/1310-238-flinders-street-melbourne-vic-3000-16035559\n",
      "'props'\n"
     ]
    },
    {
     "name": "stderr",
     "output_type": "stream",
     "text": [
      " 58%|████████████████████████████████████████████▎                               | 9350/16025 [1:24:00<39:56,  2.79it/s]"
     ]
    },
    {
     "name": "stdout",
     "output_type": "stream",
     "text": [
      "Redirected:  9349 https://www.domain.com.au/38-gordon-street-traralgon-vic-3844-16035513\n",
      "'props'\n"
     ]
    },
    {
     "name": "stderr",
     "output_type": "stream",
     "text": [
      " 58%|████████████████████████████████████████████▍                               | 9359/16025 [1:24:04<39:21,  2.82it/s]"
     ]
    },
    {
     "name": "stdout",
     "output_type": "stream",
     "text": [
      "Redirected:  9358 https://www.domain.com.au/3505-601-little-lonsdale-street-melbourne-vic-3000-16035491\n",
      "'props'\n"
     ]
    },
    {
     "name": "stderr",
     "output_type": "stream",
     "text": [
      " 59%|████████████████████████████████████████████▌                               | 9388/16025 [1:24:17<34:38,  3.19it/s]"
     ]
    },
    {
     "name": "stdout",
     "output_type": "stream",
     "text": [
      "Redirected:  9387 https://www.domain.com.au/1307-601-little-lonsdale-street-melbourne-vic-3000-16035333\n",
      "'props'\n"
     ]
    },
    {
     "name": "stderr",
     "output_type": "stream",
     "text": [
      " 59%|████████████████████████████████████████████▌                               | 9403/16025 [1:24:23<43:19,  2.55it/s]"
     ]
    },
    {
     "name": "stdout",
     "output_type": "stream",
     "text": [
      "Redirected:  9402 https://www.domain.com.au/812-300-swanston-st-melbourne-vic-3000-16035293\n",
      "'props'\n"
     ]
    },
    {
     "name": "stderr",
     "output_type": "stream",
     "text": [
      " 59%|████████████████████████████████████████████▌                               | 9405/16025 [1:24:25<51:34,  2.14it/s]"
     ]
    },
    {
     "name": "stdout",
     "output_type": "stream",
     "text": [
      "Redirected:  9404 https://www.domain.com.au/2-2-flowerdale-road-hampton-east-vic-3188-16035286\n",
      "'props'\n"
     ]
    },
    {
     "name": "stderr",
     "output_type": "stream",
     "text": [
      " 59%|████████████████████████████████████████████▌                               | 9408/16025 [1:24:26<43:48,  2.52it/s]"
     ]
    },
    {
     "name": "stdout",
     "output_type": "stream",
     "text": [
      "Redirected:  9407 https://www.domain.com.au/1-82-bindi-street-glenroy-vic-3046-16035282\n",
      "'props'\n",
      "Redirected:  9408 https://www.domain.com.au/307-499-st-kilda-road-melbourne-vic-3004-14203000\n",
      "'props'\n"
     ]
    },
    {
     "name": "stderr",
     "output_type": "stream",
     "text": [
      " 59%|████████████████████████████████████████████▋                               | 9417/16025 [1:24:29<33:46,  3.26it/s]"
     ]
    },
    {
     "name": "stdout",
     "output_type": "stream",
     "text": [
      "Redirected:  9416 https://www.domain.com.au/46-steven-street-dandenong-vic-3175-16035252\n",
      "'props'\n"
     ]
    },
    {
     "name": "stderr",
     "output_type": "stream",
     "text": [
      " 59%|████████████████████████████████████████████▋                               | 9433/16025 [1:24:39<50:21,  2.18it/s]"
     ]
    },
    {
     "name": "stdout",
     "output_type": "stream",
     "text": [
      "Redirected:  9432 https://www.domain.com.au/20-chase-boulevard-berwick-vic-3806-16035185\n",
      "'listingSummary'\n"
     ]
    },
    {
     "name": "stderr",
     "output_type": "stream",
     "text": [
      " 59%|███████████████████████████████████████████▌                              | 9437/16025 [1:24:41<1:05:46,  1.67it/s]"
     ]
    },
    {
     "name": "stdout",
     "output_type": "stream",
     "text": [
      "Redirected:  9437 https://www.domain.com.au/burwood-east-vic-3151-16035159\n"
     ]
    },
    {
     "name": "stderr",
     "output_type": "stream",
     "text": [
      " 59%|████████████████████████████████████████████▊                               | 9444/16025 [1:24:46<52:33,  2.09it/s]"
     ]
    },
    {
     "name": "stdout",
     "output_type": "stream",
     "text": [
      "Redirected:  9443 https://www.domain.com.au/1807-245-city-road-southbank-vic-3006-16035124\n",
      "'props'\n"
     ]
    },
    {
     "name": "stderr",
     "output_type": "stream",
     "text": [
      " 59%|████████████████████████████████████████████▊                               | 9450/16025 [1:24:49<53:10,  2.06it/s]"
     ]
    },
    {
     "name": "stdout",
     "output_type": "stream",
     "text": [
      "Redirected:  9449 https://www.domain.com.au/149-police-road-mulgrave-vic-3170-16035111\n",
      "'props'\n"
     ]
    },
    {
     "name": "stderr",
     "output_type": "stream",
     "text": [
      " 59%|████████████████████████████████████████████▉                               | 9471/16025 [1:24:58<36:40,  2.98it/s]"
     ]
    },
    {
     "name": "stdout",
     "output_type": "stream",
     "text": [
      "Redirected:  9470 https://www.domain.com.au/15-evergreen-boulevard-jackass-flat-vic-3556-16035026\n",
      "'props'\n"
     ]
    },
    {
     "name": "stderr",
     "output_type": "stream",
     "text": [
      " 59%|████████████████████████████████████████████▉                               | 9473/16025 [1:25:00<57:57,  1.88it/s]"
     ]
    },
    {
     "name": "stdout",
     "output_type": "stream",
     "text": [
      "Redirected:  9472 https://www.domain.com.au/1407-50-albert-road-south-melbourne-vic-3205-15238547\n",
      "'props'\n"
     ]
    },
    {
     "name": "stderr",
     "output_type": "stream",
     "text": [
      " 59%|████████████████████████████████████████████▉                               | 9478/16025 [1:25:02<56:45,  1.92it/s]"
     ]
    },
    {
     "name": "stdout",
     "output_type": "stream",
     "text": [
      "Redirected:  9478 https://www.domain.com.au/8a-maralinga-terrace-mooroolbark-vic-3138-16035009\n"
     ]
    },
    {
     "name": "stderr",
     "output_type": "stream",
     "text": [
      "\r\n",
      " 59%|████████████████████████████████████████████▉                               | 9479/16025 [1:25:03<59:08,  1.84it/s]"
     ]
    },
    {
     "name": "stdout",
     "output_type": "stream",
     "text": [
      "'listingSummary'\n"
     ]
    },
    {
     "name": "stderr",
     "output_type": "stream",
     "text": [
      " 59%|█████████████████████████████████████████████                               | 9496/16025 [1:25:11<47:11,  2.31it/s]"
     ]
    },
    {
     "name": "stdout",
     "output_type": "stream",
     "text": [
      "Redirected:  9495 https://www.domain.com.au/2-300-springfield-road-nunawading-vic-3131-16034947\n",
      "'props'\n"
     ]
    },
    {
     "name": "stderr",
     "output_type": "stream",
     "text": [
      " 59%|█████████████████████████████████████████████                               | 9505/16025 [1:25:15<44:34,  2.44it/s]"
     ]
    },
    {
     "name": "stdout",
     "output_type": "stream",
     "text": [
      "Redirected:  9504 https://www.domain.com.au/110-nada-way-carrum-downs-vic-3201-15956375\n",
      "'listingSummary'\n"
     ]
    },
    {
     "name": "stderr",
     "output_type": "stream",
     "text": [
      "\r\n",
      " 59%|█████████████████████████████████████████████                               | 9506/16025 [1:25:15<35:30,  3.06it/s]"
     ]
    },
    {
     "name": "stdout",
     "output_type": "stream",
     "text": [
      "Redirected:  9505 https://www.domain.com.au/4-meredith-street-mount-waverley-vic-3149-16034912\n",
      "'props'\n"
     ]
    },
    {
     "name": "stderr",
     "output_type": "stream",
     "text": [
      " 59%|█████████████████████████████████████████████▏                              | 9520/16025 [1:25:22<49:15,  2.20it/s]"
     ]
    },
    {
     "name": "stdout",
     "output_type": "stream",
     "text": [
      "Redirected:  9519 https://www.domain.com.au/18-rollins-road-bell-post-hill-vic-3215-15936515\n",
      "'props'\n"
     ]
    },
    {
     "name": "stderr",
     "output_type": "stream",
     "text": [
      " 60%|████████████████████████████████████████████                              | 9543/16025 [1:25:37<1:08:49,  1.57it/s]"
     ]
    },
    {
     "name": "stdout",
     "output_type": "stream",
     "text": [
      "Redirected:  9543 https://www.domain.com.au/8a-gavin-street-jacana-vic-3047-16034801\n"
     ]
    },
    {
     "name": "stderr",
     "output_type": "stream",
     "text": [
      "\r\n",
      " 60%|████████████████████████████████████████████                              | 9544/16025 [1:25:37<1:11:54,  1.50it/s]"
     ]
    },
    {
     "name": "stdout",
     "output_type": "stream",
     "text": [
      "'listingSummary'\n"
     ]
    },
    {
     "name": "stderr",
     "output_type": "stream",
     "text": [
      " 60%|████████████████████████████████████████████                              | 9552/16025 [1:25:44<1:28:19,  1.22it/s]"
     ]
    },
    {
     "name": "stdout",
     "output_type": "stream",
     "text": [
      "Redirected:  9552 https://www.domain.com.au/103-616-618-warrigal-road-malvern-east-vic-3145-16034773\n"
     ]
    },
    {
     "name": "stderr",
     "output_type": "stream",
     "text": [
      " 60%|█████████████████████████████████████████████▎                              | 9562/16025 [1:25:49<44:30,  2.42it/s]"
     ]
    },
    {
     "name": "stdout",
     "output_type": "stream",
     "text": [
      "Redirected:  9561 https://www.domain.com.au/302-200-toorak-road-south-yarra-vic-3141-16034745\n",
      "'props'\n"
     ]
    },
    {
     "name": "stderr",
     "output_type": "stream",
     "text": [
      " 60%|█████████████████████████████████████████████▍                              | 9578/16025 [1:25:58<53:08,  2.02it/s]"
     ]
    },
    {
     "name": "stdout",
     "output_type": "stream",
     "text": [
      "Redirected:  9577 https://www.domain.com.au/25-burke-street-mortlake-vic-3272-16034689\n",
      "'props'\n"
     ]
    },
    {
     "name": "stderr",
     "output_type": "stream",
     "text": [
      " 60%|████████████████████████████████████████████▎                             | 9586/16025 [1:26:04<1:55:25,  1.08s/it]"
     ]
    },
    {
     "name": "stdout",
     "output_type": "stream",
     "text": [
      "Redirected:  9586 https://www.domain.com.au/1-7-9-ormsby-avenue-toorak-vic-3142-16034652\n"
     ]
    },
    {
     "name": "stderr",
     "output_type": "stream",
     "text": [
      " 60%|█████████████████████████████████████████████▌                              | 9608/16025 [1:26:15<38:28,  2.78it/s]"
     ]
    },
    {
     "name": "stdout",
     "output_type": "stream",
     "text": [
      "Redirected:  9607 https://www.domain.com.au/42-ferrars-place-south-melbourne-vic-3205-16034598\n",
      "'props'\n"
     ]
    },
    {
     "name": "stderr",
     "output_type": "stream",
     "text": [
      " 60%|█████████████████████████████████████████████▋                              | 9626/16025 [1:26:24<48:12,  2.21it/s]"
     ]
    },
    {
     "name": "stdout",
     "output_type": "stream",
     "text": [
      "Redirected:  9625 https://www.domain.com.au/7-mulberry-grove-keysborough-vic-3173-16034512\n",
      "'props'\n"
     ]
    },
    {
     "name": "stderr",
     "output_type": "stream",
     "text": [
      " 60%|█████████████████████████████████████████████▋                              | 9637/16025 [1:26:30<47:52,  2.22it/s]"
     ]
    },
    {
     "name": "stdout",
     "output_type": "stream",
     "text": [
      "Redirected:  9636 https://www.domain.com.au/2-318-blackburn-road-glen-waverley-vic-3150-16034472\n",
      "'props'\n"
     ]
    },
    {
     "name": "stderr",
     "output_type": "stream",
     "text": [
      " 60%|█████████████████████████████████████████████▊                              | 9650/16025 [1:26:36<39:14,  2.71it/s]"
     ]
    },
    {
     "name": "stdout",
     "output_type": "stream",
     "text": [
      "Redirected:  9649 https://www.domain.com.au/1307-151-city-road-southbank-vic-3006-16034427\n",
      "'props'\n",
      "Redirected:  9650 https://www.domain.com.au/307-112-adderley-street-west-melbourne-vic-3003-16034423\n"
     ]
    },
    {
     "name": "stderr",
     "output_type": "stream",
     "text": [
      "\r\n",
      " 60%|█████████████████████████████████████████████▊                              | 9651/16025 [1:26:36<33:06,  3.21it/s]"
     ]
    },
    {
     "name": "stdout",
     "output_type": "stream",
     "text": [
      "'props'\n"
     ]
    },
    {
     "name": "stderr",
     "output_type": "stream",
     "text": [
      " 60%|█████████████████████████████████████████████▊                              | 9663/16025 [1:26:41<36:33,  2.90it/s]"
     ]
    },
    {
     "name": "stdout",
     "output_type": "stream",
     "text": [
      "Redirected:  9662 https://www.domain.com.au/6-11-15-mimosa-court-maryborough-vic-3465-16034377\n",
      "'props'\n"
     ]
    },
    {
     "name": "stderr",
     "output_type": "stream",
     "text": [
      " 60%|█████████████████████████████████████████████▉                              | 9682/16025 [1:26:50<44:26,  2.38it/s]"
     ]
    },
    {
     "name": "stdout",
     "output_type": "stream",
     "text": [
      "Redirected:  9682 https://www.domain.com.au/lalor-vic-3075-16034291\n"
     ]
    },
    {
     "name": "stderr",
     "output_type": "stream",
     "text": [
      " 60%|█████████████████████████████████████████████▉                              | 9685/16025 [1:26:51<39:41,  2.66it/s]"
     ]
    },
    {
     "name": "stdout",
     "output_type": "stream",
     "text": [
      "Redirected:  9684 https://www.domain.com.au/2-power-street-croydon-north-vic-3136-16034266\n",
      "'props'\n"
     ]
    },
    {
     "name": "stderr",
     "output_type": "stream",
     "text": [
      " 60%|█████████████████████████████████████████████▉                              | 9690/16025 [1:26:53<38:26,  2.75it/s]"
     ]
    },
    {
     "name": "stdout",
     "output_type": "stream",
     "text": [
      "Redirected:  9689 https://www.domain.com.au/308-187-boundary-road-north-melbourne-vic-3051-16034252\n",
      "'props'\n"
     ]
    },
    {
     "name": "stderr",
     "output_type": "stream",
     "text": [
      " 61%|██████████████████████████████████████████████                              | 9701/16025 [1:26:58<47:13,  2.23it/s]"
     ]
    },
    {
     "name": "stdout",
     "output_type": "stream",
     "text": [
      "Redirected:  9700 https://www.domain.com.au/25-wilkinson-road-sunshine-vic-3020-16034224\n",
      "'props'\n"
     ]
    },
    {
     "name": "stderr",
     "output_type": "stream",
     "text": [
      " 61%|██████████████████████████████████████████████                              | 9709/16025 [1:27:02<36:43,  2.87it/s]"
     ]
    },
    {
     "name": "stdout",
     "output_type": "stream",
     "text": [
      "Redirected:  9708 https://www.domain.com.au/51-atheldene-drive-glen-waverley-vic-3150-12712971\n",
      "'props'\n"
     ]
    },
    {
     "name": "stderr",
     "output_type": "stream",
     "text": [
      "\r\n",
      " 61%|██████████████████████████████████████████████                              | 9710/16025 [1:27:02<32:44,  3.21it/s]"
     ]
    },
    {
     "name": "stdout",
     "output_type": "stream",
     "text": [
      "Redirected:  9709 https://www.domain.com.au/14-moss-street-prahran-vic-3181-16034206\n",
      "'props'\n"
     ]
    },
    {
     "name": "stderr",
     "output_type": "stream",
     "text": [
      " 61%|██████████████████████████████████████████████                              | 9722/16025 [1:27:07<45:32,  2.31it/s]"
     ]
    },
    {
     "name": "stdout",
     "output_type": "stream",
     "text": [
      "Redirected:  9722 https://www.domain.com.au/253-normanby-road-south-melbourne-vic-3205-16034152\n"
     ]
    },
    {
     "name": "stderr",
     "output_type": "stream",
     "text": [
      " 61%|██████████████████████████████████████████████▏                             | 9729/16025 [1:27:11<42:04,  2.49it/s]"
     ]
    },
    {
     "name": "stdout",
     "output_type": "stream",
     "text": [
      "Redirected:  9728 https://www.domain.com.au/11-43-caroline-street-south-yarra-vic-3141-16034147\n",
      "'props'\n"
     ]
    },
    {
     "name": "stderr",
     "output_type": "stream",
     "text": [
      " 61%|██████████████████████████████████████████████▏                             | 9732/16025 [1:27:12<46:02,  2.28it/s]"
     ]
    },
    {
     "name": "stdout",
     "output_type": "stream",
     "text": [
      "Redirected:  9732 https://www.domain.com.au/253-normanby-road-south-melbourne-vic-3205-16034120\n"
     ]
    },
    {
     "name": "stderr",
     "output_type": "stream",
     "text": [
      " 61%|██████████████████████████████████████████████▎                             | 9753/16025 [1:27:24<43:55,  2.38it/s]"
     ]
    },
    {
     "name": "stdout",
     "output_type": "stream",
     "text": [
      "Redirected:  9753 https://www.domain.com.au/401-839-dandenong-road-malvern-east-vic-3145-11446712\n"
     ]
    },
    {
     "name": "stderr",
     "output_type": "stream",
     "text": [
      " 61%|██████████████████████████████████████████████▎                             | 9755/16025 [1:27:25<48:16,  2.17it/s]"
     ]
    },
    {
     "name": "stdout",
     "output_type": "stream",
     "text": [
      "Redirected:  9755 https://www.domain.com.au/22-epsom-avenue-mill-park-vic-3082-16034050\n"
     ]
    },
    {
     "name": "stderr",
     "output_type": "stream",
     "text": [
      " 61%|██████████████████████████████████████████████▎                             | 9771/16025 [1:27:33<39:26,  2.64it/s]"
     ]
    },
    {
     "name": "stdout",
     "output_type": "stream",
     "text": [
      "Redirected:  9770 https://www.domain.com.au/38-pakenham-street-blackburn-vic-3130-16033983\n",
      "'props'\n"
     ]
    },
    {
     "name": "stderr",
     "output_type": "stream",
     "text": [
      " 61%|██████████████████████████████████████████████▍                             | 9783/16025 [1:27:40<39:23,  2.64it/s]"
     ]
    },
    {
     "name": "stdout",
     "output_type": "stream",
     "text": [
      "Redirected:  9782 https://www.domain.com.au/389-napier-street-fitzroy-vic-3065-16033938\n",
      "'props'\n"
     ]
    },
    {
     "name": "stderr",
     "output_type": "stream",
     "text": [
      " 61%|██████████████████████████████████████████████▍                             | 9799/16025 [1:27:47<42:25,  2.45it/s]"
     ]
    },
    {
     "name": "stdout",
     "output_type": "stream",
     "text": [
      "Redirected:  9799 https://www.domain.com.au/53-adelong-bvd-cobblebank-vic-3338-16033906\n"
     ]
    },
    {
     "name": "stderr",
     "output_type": "stream",
     "text": [
      " 61%|██████████████████████████████████████████████▍                             | 9801/16025 [1:27:48<47:23,  2.19it/s]"
     ]
    },
    {
     "name": "stdout",
     "output_type": "stream",
     "text": [
      "Redirected:  9801 https://www.domain.com.au/15-alcock-reservoir-vic-3073-16033893\n"
     ]
    },
    {
     "name": "stderr",
     "output_type": "stream",
     "text": [
      " 61%|██████████████████████████████████████████████▌                             | 9812/16025 [1:27:53<37:09,  2.79it/s]"
     ]
    },
    {
     "name": "stdout",
     "output_type": "stream",
     "text": [
      "Redirected:  9811 https://www.domain.com.au/6-1-3-barkly-avenue-armadale-vic-3143-9516759\n",
      "'props'\n"
     ]
    },
    {
     "name": "stderr",
     "output_type": "stream",
     "text": [
      " 61%|██████████████████████████████████████████████▌                             | 9815/16025 [1:27:55<58:44,  1.76it/s]"
     ]
    },
    {
     "name": "stdout",
     "output_type": "stream",
     "text": [
      "Redirected:  9814 https://www.domain.com.au/303-2-pine-avenue-elwood-vic-3184-15568042\n",
      "'props'\n"
     ]
    },
    {
     "name": "stderr",
     "output_type": "stream",
     "text": [
      " 61%|██████████████████████████████████████████████▌                             | 9826/16025 [1:28:00<45:36,  2.27it/s]"
     ]
    },
    {
     "name": "stdout",
     "output_type": "stream",
     "text": [
      "Redirected:  9826 https://www.domain.com.au/5-neptune-ave-n-portland-north-vic-3305-16033823\n"
     ]
    },
    {
     "name": "stderr",
     "output_type": "stream",
     "text": [
      " 61%|██████████████████████████████████████████████▋                             | 9855/16025 [1:28:15<49:06,  2.09it/s]"
     ]
    },
    {
     "name": "stdout",
     "output_type": "stream",
     "text": [
      "Redirected:  9854 https://www.domain.com.au/5-glenisla-way-berwick-vic-3806-15305505\n",
      "'props'\n"
     ]
    },
    {
     "name": "stderr",
     "output_type": "stream",
     "text": [
      " 62%|█████████████████████████████████████████████▌                            | 9857/16025 [1:28:16<1:02:31,  1.64it/s]"
     ]
    },
    {
     "name": "stdout",
     "output_type": "stream",
     "text": [
      "Redirected:  9857 https://www.domain.com.au/43-madden-boulevard-tarneit-vic-3029-16033724\n"
     ]
    },
    {
     "name": "stderr",
     "output_type": "stream",
     "text": [
      " 62%|██████████████████████████████████████████████▊                             | 9881/16025 [1:28:31<44:39,  2.29it/s]"
     ]
    },
    {
     "name": "stdout",
     "output_type": "stream",
     "text": [
      "Redirected:  9880 https://www.domain.com.au/601-277-279-centre-road-bentleigh-vic-3204-16033654\n",
      "'listingSummary'\n"
     ]
    },
    {
     "name": "stderr",
     "output_type": "stream",
     "text": [
      " 62%|██████████████████████████████████████████████▉                             | 9893/16025 [1:28:39<50:29,  2.02it/s]"
     ]
    },
    {
     "name": "stdout",
     "output_type": "stream",
     "text": [
      "Redirected:  9892 https://www.domain.com.au/5-moss-street-melton-south-vic-3338-15980372\n",
      "'props'\n"
     ]
    },
    {
     "name": "stderr",
     "output_type": "stream",
     "text": [
      " 62%|███████████████████████████████████████████████                             | 9920/16025 [1:28:54<53:39,  1.90it/s]"
     ]
    },
    {
     "name": "stdout",
     "output_type": "stream",
     "text": [
      "Redirected:  9919 https://www.domain.com.au/2310-3-yarra-street-south-yarra-vic-3141-11220968\n",
      "'props'\n"
     ]
    },
    {
     "name": "stderr",
     "output_type": "stream",
     "text": [
      " 62%|███████████████████████████████████████████████                             | 9926/16025 [1:28:56<38:13,  2.66it/s]"
     ]
    },
    {
     "name": "stdout",
     "output_type": "stream",
     "text": [
      "Redirected:  9925 https://www.domain.com.au/1-40-durham-road-surrey-hills-vic-3127-11695529\n",
      "'props'\n"
     ]
    },
    {
     "name": "stderr",
     "output_type": "stream",
     "text": [
      " 62%|███████████████████████████████████████████████                             | 9928/16025 [1:28:58<51:33,  1.97it/s]"
     ]
    },
    {
     "name": "stdout",
     "output_type": "stream",
     "text": [
      "Redirected:  9928 https://www.domain.com.au/1b-ireland-street-ringwood-vic-3134-16033514\n"
     ]
    },
    {
     "name": "stderr",
     "output_type": "stream",
     "text": [
      " 62%|███████████████████████████████████████████████▏                            | 9961/16025 [1:29:16<39:37,  2.55it/s]"
     ]
    },
    {
     "name": "stdout",
     "output_type": "stream",
     "text": [
      "Redirected:  9960 https://www.domain.com.au/5-3-5-carlisle-crescent-hughesdale-vic-3166-16033405\n",
      "'props'\n"
     ]
    },
    {
     "name": "stderr",
     "output_type": "stream",
     "text": [
      " 62%|███████████████████████████████████████████████▎                            | 9972/16025 [1:29:21<28:27,  3.55it/s]"
     ]
    },
    {
     "name": "stdout",
     "output_type": "stream",
     "text": [
      "Redirected:  9970 https://www.domain.com.au/535-walnut-avenue-mildura-vic-3500-16033385\n",
      "'props'\n",
      "Redirected:  9971 https://www.domain.com.au/14-milton-drive-wyndham-vale-vic-3024-13677817\n",
      "'props'\n"
     ]
    },
    {
     "name": "stderr",
     "output_type": "stream",
     "text": [
      " 62%|███████████████████████████████████████████████▎                            | 9975/16025 [1:29:22<40:33,  2.49it/s]"
     ]
    },
    {
     "name": "stdout",
     "output_type": "stream",
     "text": [
      "Redirected:  9974 https://www.domain.com.au/1-christopher-crescent-tullamarine-vic-3043-15990410\n",
      "'props'\n"
     ]
    },
    {
     "name": "stderr",
     "output_type": "stream",
     "text": [
      " 62%|███████████████████████████████████████████████▎                            | 9977/16025 [1:29:23<33:05,  3.05it/s]"
     ]
    },
    {
     "name": "stdout",
     "output_type": "stream",
     "text": [
      "Redirected:  9976 https://www.domain.com.au/14-westgarth-street-northcote-vic-3070-16033374\n",
      "'props'\n"
     ]
    },
    {
     "name": "stderr",
     "output_type": "stream",
     "text": [
      " 62%|███████████████████████████████████████████████▎                            | 9979/16025 [1:29:23<31:19,  3.22it/s]"
     ]
    },
    {
     "name": "stdout",
     "output_type": "stream",
     "text": [
      "Redirected:  9978 https://www.domain.com.au/4-74-dundas-street-thornbury-vic-3071-15820197\n",
      "'props'\n"
     ]
    },
    {
     "name": "stderr",
     "output_type": "stream",
     "text": [
      " 62%|███████████████████████████████████████████████▎                            | 9983/16025 [1:29:25<35:08,  2.87it/s]"
     ]
    },
    {
     "name": "stdout",
     "output_type": "stream",
     "text": [
      "Redirected:  9982 https://www.domain.com.au/1410-181-abeckett-street-melbourne-vic-3000-16033368\n",
      "'props'\n"
     ]
    },
    {
     "name": "stderr",
     "output_type": "stream",
     "text": [
      " 62%|███████████████████████████████████████████████▎                            | 9988/16025 [1:29:27<34:50,  2.89it/s]"
     ]
    },
    {
     "name": "stdout",
     "output_type": "stream",
     "text": [
      "Redirected:  9987 https://www.domain.com.au/5-199-auburn-road-hawthorn-vic-3122-16033351\n",
      "'props'\n"
     ]
    },
    {
     "name": "stderr",
     "output_type": "stream",
     "text": [
      " 62%|███████████████████████████████████████████████▍                            | 9991/16025 [1:29:28<31:42,  3.17it/s]"
     ]
    },
    {
     "name": "stdout",
     "output_type": "stream",
     "text": [
      "Redirected:  9990 https://www.domain.com.au/115-magnolia-ave-mildura-vic-3500-15979985\n",
      "'props'\n"
     ]
    },
    {
     "name": "stderr",
     "output_type": "stream",
     "text": [
      " 62%|██████████████████████████████████████████████▊                            | 10003/16025 [1:29:33<50:40,  1.98it/s]"
     ]
    },
    {
     "name": "stdout",
     "output_type": "stream",
     "text": [
      "Redirected:  10003 https://www.domain.com.au/46-view-street-st-albans-east-vic-3021-16033278\n"
     ]
    },
    {
     "name": "stderr",
     "output_type": "stream",
     "text": [
      " 62%|█████████████████████████████████████████████▌                           | 10008/16025 [1:29:37<1:02:19,  1.61it/s]"
     ]
    },
    {
     "name": "stdout",
     "output_type": "stream",
     "text": [
      "Redirected:  10007 https://www.domain.com.au/150-moores-road-clyde-vic-3978-16033261\n",
      "'props'\n"
     ]
    },
    {
     "name": "stderr",
     "output_type": "stream",
     "text": [
      " 63%|█████████████████████████████████████████████▋                           | 10027/16025 [1:29:50<1:20:41,  1.24it/s]"
     ]
    },
    {
     "name": "stdout",
     "output_type": "stream",
     "text": [
      "Redirected:  10027 https://www.domain.com.au/hawthorn-vic-3122-16033192\n"
     ]
    },
    {
     "name": "stderr",
     "output_type": "stream",
     "text": [
      " 63%|██████████████████████████████████████████████▉                            | 10038/16025 [1:29:56<53:19,  1.87it/s]"
     ]
    },
    {
     "name": "stdout",
     "output_type": "stream",
     "text": [
      "Redirected:  10038 https://www.domain.com.au/44-beauty-gully-road-warrandyte-vic-3113-16033139\n"
     ]
    },
    {
     "name": "stderr",
     "output_type": "stream",
     "text": [
      " 63%|███████████████████████████████████████████████                            | 10045/16025 [1:29:59<47:04,  2.12it/s]"
     ]
    },
    {
     "name": "stdout",
     "output_type": "stream",
     "text": [
      "Redirected:  10045 https://www.domain.com.au/509-121-rosslyn-street-west-melbourne-vic-3003-14662967\n"
     ]
    },
    {
     "name": "stderr",
     "output_type": "stream",
     "text": [
      " 63%|███████████████████████████████████████████████                            | 10052/16025 [1:30:03<46:36,  2.14it/s]"
     ]
    },
    {
     "name": "stdout",
     "output_type": "stream",
     "text": [
      "Redirected:  10052 https://www.domain.com.au/802-478-st-kilda-road-melbourne-vic-3004-13068501\n"
     ]
    },
    {
     "name": "stderr",
     "output_type": "stream",
     "text": [
      " 63%|███████████████████████████████████████████████                            | 10061/16025 [1:30:08<48:33,  2.05it/s]"
     ]
    },
    {
     "name": "stdout",
     "output_type": "stream",
     "text": [
      "Redirected:  10061 https://www.domain.com.au/35-st-georges-road-fitzroy-vic-3065-16033026\n"
     ]
    },
    {
     "name": "stderr",
     "output_type": "stream",
     "text": [
      " 63%|███████████████████████████████████████████████                            | 10065/16025 [1:30:10<47:03,  2.11it/s]"
     ]
    },
    {
     "name": "stdout",
     "output_type": "stream",
     "text": [
      "Redirected:  10065 https://www.domain.com.au/2-4-sydeney-street-clayton-south-vic-3169-16033012\n"
     ]
    },
    {
     "name": "stderr",
     "output_type": "stream",
     "text": [
      " 63%|███████████████████████████████████████████████▏                           | 10089/16025 [1:30:21<29:49,  3.32it/s]"
     ]
    },
    {
     "name": "stdout",
     "output_type": "stream",
     "text": [
      "Redirected:  10087 https://www.domain.com.au/2003-245-city-road-southbank-vic-3006-16032948\n",
      "'props'\n",
      "Redirected:  10088 https://www.domain.com.au/3813-160-victoria-st-carlton-vic-3053-15268098\n",
      "'props'\n"
     ]
    },
    {
     "name": "stderr",
     "output_type": "stream",
     "text": [
      " 63%|███████████████████████████████████████████████▎                           | 10097/16025 [1:30:26<49:31,  1.99it/s]"
     ]
    },
    {
     "name": "stdout",
     "output_type": "stream",
     "text": [
      "Redirected:  10097 https://www.domain.com.au/5-325-o-hea-street-pascoe-vale-south-vic-3044-16032912\n"
     ]
    },
    {
     "name": "stderr",
     "output_type": "stream",
     "text": [
      "\r\n",
      " 63%|███████████████████████████████████████████████▎                           | 10098/16025 [1:30:26<43:39,  2.26it/s]"
     ]
    },
    {
     "name": "stdout",
     "output_type": "stream",
     "text": [
      "'listingSummary'\n"
     ]
    },
    {
     "name": "stderr",
     "output_type": "stream",
     "text": [
      " 63%|███████████████████████████████████████████████▎                           | 10102/16025 [1:30:28<46:44,  2.11it/s]"
     ]
    },
    {
     "name": "stdout",
     "output_type": "stream",
     "text": [
      "Redirected:  10102 https://www.domain.com.au/516-551-swanston-street-carlton-vic-3053-16032885\n"
     ]
    },
    {
     "name": "stderr",
     "output_type": "stream",
     "text": [
      "\r\n",
      " 63%|███████████████████████████████████████████████▎                           | 10103/16025 [1:30:29<52:56,  1.86it/s]"
     ]
    },
    {
     "name": "stdout",
     "output_type": "stream",
     "text": [
      "'listingSummary'\n"
     ]
    },
    {
     "name": "stderr",
     "output_type": "stream",
     "text": [
      "\r\n",
      " 63%|███████████████████████████████████████████████▎                           | 10104/16025 [1:30:29<48:25,  2.04it/s]"
     ]
    },
    {
     "name": "stdout",
     "output_type": "stream",
     "text": [
      "Redirected:  10104 https://www.domain.com.au/1-595-tarneit-street-tarneit-vic-3029-16032880\n"
     ]
    },
    {
     "name": "stderr",
     "output_type": "stream",
     "text": [
      " 63%|███████████████████████████████████████████████▎                           | 10111/16025 [1:30:32<45:08,  2.18it/s]"
     ]
    },
    {
     "name": "stdout",
     "output_type": "stream",
     "text": [
      "Redirected:  10111 https://www.domain.com.au/14-village-way-pakenham-vic-3810-16032860\n"
     ]
    },
    {
     "name": "stderr",
     "output_type": "stream",
     "text": [
      " 63%|███████████████████████████████████████████████▍                           | 10123/16025 [1:30:38<48:01,  2.05it/s]"
     ]
    },
    {
     "name": "stdout",
     "output_type": "stream",
     "text": [
      "Redirected:  10123 https://www.domain.com.au/6-semillon-grove-mount-clear-vic-3350-16032820\n"
     ]
    },
    {
     "name": "stderr",
     "output_type": "stream",
     "text": [
      " 63%|██████████████████████████████████████████████▏                          | 10131/16025 [1:30:44<1:03:28,  1.55it/s]"
     ]
    },
    {
     "name": "stdout",
     "output_type": "stream",
     "text": [
      "Redirected:  10130 https://www.domain.com.au/45-thunderbolt-drive-cranbourne-east-vic-3977-14450073\n",
      "'props'\n"
     ]
    },
    {
     "name": "stderr",
     "output_type": "stream",
     "text": [
      " 63%|███████████████████████████████████████████████▍                           | 10137/16025 [1:30:47<55:11,  1.78it/s]"
     ]
    },
    {
     "name": "stdout",
     "output_type": "stream",
     "text": [
      "Redirected:  10137 https://www.domain.com.au/508-33-plenty-road-preston-vic-3072-16020998\n"
     ]
    },
    {
     "name": "stderr",
     "output_type": "stream",
     "text": [
      "\r\n",
      " 63%|███████████████████████████████████████████████▍                           | 10138/16025 [1:30:48<56:15,  1.74it/s]"
     ]
    },
    {
     "name": "stdout",
     "output_type": "stream",
     "text": [
      "'listingSummary'\n"
     ]
    },
    {
     "name": "stderr",
     "output_type": "stream",
     "text": [
      " 64%|██████████████████████████████████████████████▍                          | 10186/16025 [1:31:16<1:54:54,  1.18s/it]"
     ]
    },
    {
     "name": "stdout",
     "output_type": "stream",
     "text": [
      "Redirected:  10186 https://www.domain.com.au/63a-purtell-street-bentleigh-east-vic-3165-16032628\n"
     ]
    },
    {
     "name": "stderr",
     "output_type": "stream",
     "text": [
      " 64%|███████████████████████████████████████████████▊                           | 10206/16025 [1:31:27<42:42,  2.27it/s]"
     ]
    },
    {
     "name": "stdout",
     "output_type": "stream",
     "text": [
      "Redirected:  10205 https://www.domain.com.au/11-115-oxford-street-collingwood-vic-3066-16032574\n",
      "'props'\n"
     ]
    },
    {
     "name": "stderr",
     "output_type": "stream",
     "text": [
      " 64%|███████████████████████████████████████████████▊                           | 10224/16025 [1:31:36<49:21,  1.96it/s]"
     ]
    },
    {
     "name": "stdout",
     "output_type": "stream",
     "text": [
      "Redirected:  10223 https://www.domain.com.au/12-92-wellington-street-collingwood-vic-3066-16032536\n",
      "'props'\n"
     ]
    },
    {
     "name": "stderr",
     "output_type": "stream",
     "text": [
      " 64%|███████████████████████████████████████████████▊                           | 10227/16025 [1:31:37<41:11,  2.35it/s]"
     ]
    },
    {
     "name": "stdout",
     "output_type": "stream",
     "text": [
      "Redirected:  10226 https://www.domain.com.au/41-mercury-road-cranbourne-east-vic-3977-15105644\n",
      "'props'\n"
     ]
    },
    {
     "name": "stderr",
     "output_type": "stream",
     "text": [
      " 64%|██████████████████████████████████████████████▌                          | 10232/16025 [1:31:43<1:42:41,  1.06s/it]"
     ]
    },
    {
     "name": "stdout",
     "output_type": "stream",
     "text": [
      "Redirected:  10231 https://www.domain.com.au/30-garrard-crescent-clyde-vic-3978-16032507\n",
      "'props'\n"
     ]
    },
    {
     "name": "stderr",
     "output_type": "stream",
     "text": [
      " 64%|██████████████████████████████████████████████▌                          | 10234/16025 [1:31:46<1:49:22,  1.13s/it]"
     ]
    },
    {
     "name": "stdout",
     "output_type": "stream",
     "text": [
      "Redirected:  10233 https://www.domain.com.au/35a-hutchinson-street-albion-vic-3020-16032505\n",
      "'props'\n"
     ]
    },
    {
     "name": "stderr",
     "output_type": "stream",
     "text": [
      " 64%|██████████████████████████████████████████████▋                          | 10238/16025 [1:31:49<1:09:46,  1.38it/s]"
     ]
    },
    {
     "name": "stdout",
     "output_type": "stream",
     "text": [
      "Redirected:  10237 https://www.domain.com.au/207-100-kavanagh-street-southbank-vic-3006-15872170\n",
      "'props'\n"
     ]
    },
    {
     "name": "stderr",
     "output_type": "stream",
     "text": [
      "\r\n",
      " 64%|███████████████████████████████████████████████▉                           | 10239/16025 [1:31:49<58:05,  1.66it/s]"
     ]
    },
    {
     "name": "stdout",
     "output_type": "stream",
     "text": [
      "Redirected:  10238 https://www.domain.com.au/108-288-albert-street-brunswick-vic-3056-12218295\n",
      "'props'\n"
     ]
    },
    {
     "name": "stderr",
     "output_type": "stream",
     "text": [
      " 64%|███████████████████████████████████████████████▉                           | 10241/16025 [1:31:51<58:13,  1.66it/s]"
     ]
    },
    {
     "name": "stdout",
     "output_type": "stream",
     "text": [
      "Redirected:  10240 https://www.domain.com.au/20-longwarry-road-drouin-vic-3818-16032489\n",
      "'props'\n"
     ]
    },
    {
     "name": "stderr",
     "output_type": "stream",
     "text": [
      " 64%|███████████████████████████████████████████████▉                           | 10243/16025 [1:31:52<51:28,  1.87it/s]"
     ]
    },
    {
     "name": "stdout",
     "output_type": "stream",
     "text": [
      "Redirected:  10242 https://www.domain.com.au/8-chevron-street-tarneit-vic-3029-16032487\n",
      "'props'\n"
     ]
    },
    {
     "name": "stderr",
     "output_type": "stream",
     "text": [
      " 64%|████████████████████████████████████████████████                           | 10268/16025 [1:32:07<48:01,  2.00it/s]"
     ]
    },
    {
     "name": "stdout",
     "output_type": "stream",
     "text": [
      "Redirected:  10268 https://www.domain.com.au/3-412-drummond-street-south-ballarat-central-vic-3350-16032403\n"
     ]
    },
    {
     "name": "stderr",
     "output_type": "stream",
     "text": [
      " 64%|████████████████████████████████████████████████▏                          | 10297/16025 [1:32:23<37:32,  2.54it/s]"
     ]
    },
    {
     "name": "stdout",
     "output_type": "stream",
     "text": [
      "Redirected:  10296 https://www.domain.com.au/g02-555-saint-kilda-road-melbourne-vic-3004-15961237\n",
      "'listingSummary'\n"
     ]
    },
    {
     "name": "stderr",
     "output_type": "stream",
     "text": [
      "\r\n",
      " 64%|████████████████████████████████████████████████▏                          | 10298/16025 [1:32:23<30:59,  3.08it/s]"
     ]
    },
    {
     "name": "stdout",
     "output_type": "stream",
     "text": [
      "Redirected:  10297 https://www.domain.com.au/41-jefferson-road-garfield-vic-3814-15545932\n",
      "'props'\n"
     ]
    },
    {
     "name": "stderr",
     "output_type": "stream",
     "text": [
      " 64%|████████████████████████████████████████████████▎                          | 10314/16025 [1:32:31<45:55,  2.07it/s]"
     ]
    },
    {
     "name": "stdout",
     "output_type": "stream",
     "text": [
      "Redirected:  10313 https://www.domain.com.au/305-1200-high-street-malvern-vic-3144-15192944\n",
      "'listingSummary'\n"
     ]
    },
    {
     "name": "stderr",
     "output_type": "stream",
     "text": [
      " 64%|████████████████████████████████████████████████▎                          | 10321/16025 [1:32:35<48:02,  1.98it/s]"
     ]
    },
    {
     "name": "stdout",
     "output_type": "stream",
     "text": [
      "Redirected:  10321 https://www.domain.com.au/5-5-lilac-street-horsham-vic-3400-16032238\n"
     ]
    },
    {
     "name": "stderr",
     "output_type": "stream",
     "text": [
      " 64%|████████████████████████████████████████████████▎                          | 10323/16025 [1:32:36<45:14,  2.10it/s]"
     ]
    },
    {
     "name": "stdout",
     "output_type": "stream",
     "text": [
      "Redirected:  10323 https://www.domain.com.au/unit-3-4-apple-court-doveton-vic-3177-16032230\n"
     ]
    },
    {
     "name": "stderr",
     "output_type": "stream",
     "text": [
      " 64%|████████████████████████████████████████████████▎                          | 10325/16025 [1:32:37<42:46,  2.22it/s]"
     ]
    },
    {
     "name": "stdout",
     "output_type": "stream",
     "text": [
      "Redirected:  10325 https://www.domain.com.au/207-157-park-road-cheltenham-vic-3192-16032225\n"
     ]
    },
    {
     "name": "stderr",
     "output_type": "stream",
     "text": [
      " 64%|████████████████████████████████████████████████▎                          | 10332/16025 [1:32:40<42:28,  2.23it/s]"
     ]
    },
    {
     "name": "stdout",
     "output_type": "stream",
     "text": [
      "Redirected:  10330 https://www.domain.com.au/11-manderston-avenue-derrimut-vic-3026-16032212\n",
      "'props'\n",
      "Redirected:  10331 https://www.domain.com.au/275-saint-germain-boulevard-clyde-north-vic-3978-16032205\n",
      "'props'\n"
     ]
    },
    {
     "name": "stderr",
     "output_type": "stream",
     "text": [
      " 65%|████████████████████████████████████████████████▌                          | 10388/16025 [1:33:10<37:56,  2.48it/s]"
     ]
    },
    {
     "name": "stdout",
     "output_type": "stream",
     "text": [
      "Redirected:  10387 https://www.domain.com.au/10-sanctuary-ct-lilydale-vic-3140-15962629\n",
      "'props'\n"
     ]
    },
    {
     "name": "stderr",
     "output_type": "stream",
     "text": [
      " 65%|███████████████████████████████████████████████▍                         | 10402/16025 [1:33:21<1:31:42,  1.02it/s]"
     ]
    },
    {
     "name": "stdout",
     "output_type": "stream",
     "text": [
      "Redirected:  10402 https://www.domain.com.au/1a-boston-street-fawkner-vic-3060-16032050\n"
     ]
    },
    {
     "name": "stderr",
     "output_type": "stream",
     "text": [
      " 65%|████████████████████████████████████████████████▋                          | 10415/16025 [1:33:29<44:51,  2.08it/s]"
     ]
    },
    {
     "name": "stdout",
     "output_type": "stream",
     "text": [
      "Redirected:  10414 https://www.domain.com.au/2-124-breed-street-traralgon-vic-3844-14360450\n",
      "'props'\n"
     ]
    },
    {
     "name": "stderr",
     "output_type": "stream",
     "text": [
      " 65%|████████████████████████████████████████████████▉                          | 10446/16025 [1:33:47<44:46,  2.08it/s]"
     ]
    },
    {
     "name": "stdout",
     "output_type": "stream",
     "text": [
      "Redirected:  10445 https://www.domain.com.au/202-8-porter-street-prahran-vic-3181-16031928\n",
      "'props'\n"
     ]
    },
    {
     "name": "stderr",
     "output_type": "stream",
     "text": [
      " 65%|████████████████████████████████████████████████▉                          | 10463/16025 [1:33:55<31:16,  2.96it/s]"
     ]
    },
    {
     "name": "stdout",
     "output_type": "stream",
     "text": [
      "Redirected:  10462 https://www.domain.com.au/161-22-kavanagh-street-southbank-vic-3006-16031873\n",
      "'props'\n"
     ]
    },
    {
     "name": "stderr",
     "output_type": "stream",
     "text": [
      " 65%|████████████████████████████████████████████████▉                          | 10466/16025 [1:33:57<42:42,  2.17it/s]"
     ]
    },
    {
     "name": "stdout",
     "output_type": "stream",
     "text": [
      "Redirected:  10466 https://www.domain.com.au/219-collins-street-thornbury-vic-3071-16031864\n"
     ]
    },
    {
     "name": "stderr",
     "output_type": "stream",
     "text": [
      " 65%|█████████████████████████████████████████████████                          | 10489/16025 [1:34:10<49:59,  1.85it/s]"
     ]
    },
    {
     "name": "stdout",
     "output_type": "stream",
     "text": [
      "Redirected:  10489 https://www.domain.com.au/1-3-13-erskine-avenue-reservoir-vic-3073-16031814\n"
     ]
    },
    {
     "name": "stderr",
     "output_type": "stream",
     "text": [
      " 65%|█████████████████████████████████████████████████                          | 10492/16025 [1:34:11<43:16,  2.13it/s]"
     ]
    },
    {
     "name": "stdout",
     "output_type": "stream",
     "text": [
      "Redirected:  10492 https://www.domain.com.au/2-12-padula-court-hillside-vic-3037-15606225\n"
     ]
    },
    {
     "name": "stderr",
     "output_type": "stream",
     "text": [
      " 66%|█████████████████████████████████████████████████▏                         | 10502/16025 [1:34:16<35:16,  2.61it/s]"
     ]
    },
    {
     "name": "stdout",
     "output_type": "stream",
     "text": [
      "Redirected:  10501 https://www.domain.com.au/1209-233-collins-st-melbourne-vic-3000-16031764\n",
      "'props'\n"
     ]
    },
    {
     "name": "stderr",
     "output_type": "stream",
     "text": [
      " 66%|█████████████████████████████████████████████████▎                         | 10528/16025 [1:34:28<47:34,  1.93it/s]"
     ]
    },
    {
     "name": "stdout",
     "output_type": "stream",
     "text": [
      "Redirected:  10528 https://www.domain.com.au/2-290-hawthorn-road-caulfield-vic-3162-16031676\n",
      "'props'\n"
     ]
    },
    {
     "name": "stderr",
     "output_type": "stream",
     "text": [
      " 66%|█████████████████████████████████████████████████▎                         | 10538/16025 [1:34:32<46:14,  1.98it/s]"
     ]
    },
    {
     "name": "stdout",
     "output_type": "stream",
     "text": [
      "Redirected:  10538 https://www.domain.com.au/1-27-ewart-street-malvern-vic-3144-16031650\n"
     ]
    },
    {
     "name": "stderr",
     "output_type": "stream",
     "text": [
      " 66%|█████████████████████████████████████████████████▎                         | 10541/16025 [1:34:34<43:32,  2.10it/s]"
     ]
    },
    {
     "name": "stdout",
     "output_type": "stream",
     "text": [
      "Redirected:  10540 https://www.domain.com.au/18-barwise-street-laverton-vic-3028-16031644\n",
      "'props'\n"
     ]
    },
    {
     "name": "stderr",
     "output_type": "stream",
     "text": [
      " 66%|█████████████████████████████████████████████████▎                         | 10545/16025 [1:34:36<41:03,  2.22it/s]"
     ]
    },
    {
     "name": "stdout",
     "output_type": "stream",
     "text": [
      "Redirected:  10545 https://www.domain.com.au/603-231-harbour-esp-docklands-vic-3008-16031629\n"
     ]
    },
    {
     "name": "stderr",
     "output_type": "stream",
     "text": [
      " 66%|█████████████████████████████████████████████████▍                         | 10566/16025 [1:34:46<41:08,  2.21it/s]"
     ]
    },
    {
     "name": "stdout",
     "output_type": "stream",
     "text": [
      "Redirected:  10565 https://www.domain.com.au/87-blossom-drive-greenvale-vic-3059-16031573\n",
      "'props'\n"
     ]
    },
    {
     "name": "stderr",
     "output_type": "stream",
     "text": [
      " 66%|█████████████████████████████████████████████████▍                         | 10568/16025 [1:34:47<31:00,  2.93it/s]"
     ]
    },
    {
     "name": "stdout",
     "output_type": "stream",
     "text": [
      "Redirected:  10567 https://www.domain.com.au/6-6-smith-street-moonee-ponds-vic-3039-16031564\n",
      "'props'\n"
     ]
    },
    {
     "name": "stderr",
     "output_type": "stream",
     "text": [
      " 66%|█████████████████████████████████████████████████▋                         | 10619/16025 [1:35:12<36:04,  2.50it/s]"
     ]
    },
    {
     "name": "stdout",
     "output_type": "stream",
     "text": [
      "Redirected:  10618 https://www.domain.com.au/25-3-kooyongkoot-road-hawthorn-vic-3122-9902098\n",
      "'props'\n"
     ]
    },
    {
     "name": "stderr",
     "output_type": "stream",
     "text": [
      " 66%|█████████████████████████████████████████████████▋                         | 10625/16025 [1:35:15<37:30,  2.40it/s]"
     ]
    },
    {
     "name": "stdout",
     "output_type": "stream",
     "text": [
      "Redirected:  10624 https://www.domain.com.au/g05-5-rodgerson-road-box-hill-vic-3128-16031394\n",
      "'listingSummary'\n"
     ]
    },
    {
     "name": "stderr",
     "output_type": "stream",
     "text": [
      " 66%|████████████████████████████████████████████████▍                        | 10635/16025 [1:35:25<1:08:39,  1.31it/s]"
     ]
    },
    {
     "name": "stdout",
     "output_type": "stream",
     "text": [
      "Redirected:  10634 https://www.domain.com.au/120-100-plenty-road-preston-vic-3072-16031359\n",
      "'props'\n"
     ]
    },
    {
     "name": "stderr",
     "output_type": "stream",
     "text": [
      " 66%|█████████████████████████████████████████████████▊                         | 10647/16025 [1:35:32<43:07,  2.08it/s]"
     ]
    },
    {
     "name": "stdout",
     "output_type": "stream",
     "text": [
      "Redirected:  10646 https://www.domain.com.au/63-berkeley-street-huntingdale-vic-3166-12963242\n",
      "'props'\n"
     ]
    },
    {
     "name": "stderr",
     "output_type": "stream",
     "text": [
      " 66%|█████████████████████████████████████████████████▊                         | 10651/16025 [1:35:33<33:02,  2.71it/s]"
     ]
    },
    {
     "name": "stdout",
     "output_type": "stream",
     "text": [
      "Redirected:  10650 https://www.domain.com.au/410-8-breavington-way-northcote-vic-3070-16031323\n",
      "'props'\n"
     ]
    },
    {
     "name": "stderr",
     "output_type": "stream",
     "text": [
      " 67%|█████████████████████████████████████████████████▉                         | 10678/16025 [1:35:49<41:07,  2.17it/s]"
     ]
    },
    {
     "name": "stdout",
     "output_type": "stream",
     "text": [
      "Redirected:  10677 https://www.domain.com.au/1807-181-abeckett-street-melbourne-vic-3000-16031252\n",
      "'props'\n"
     ]
    },
    {
     "name": "stderr",
     "output_type": "stream",
     "text": [
      " 67%|██████████████████████████████████████████████████                         | 10695/16025 [1:35:57<45:30,  1.95it/s]"
     ]
    },
    {
     "name": "stdout",
     "output_type": "stream",
     "text": [
      "Redirected:  10695 https://www.domain.com.au/202-23-31-small-hampton-vic-3188-16031209\n"
     ]
    },
    {
     "name": "stderr",
     "output_type": "stream",
     "text": [
      "\r\n",
      " 67%|██████████████████████████████████████████████████                         | 10696/16025 [1:35:58<45:01,  1.97it/s]"
     ]
    },
    {
     "name": "stdout",
     "output_type": "stream",
     "text": [
      "Redirected:  10696 https://www.domain.com.au/17-liebig-street-avoca-vic-3467-15995873\n"
     ]
    },
    {
     "name": "stderr",
     "output_type": "stream",
     "text": [
      "\r\n",
      " 67%|██████████████████████████████████████████████████                         | 10697/16025 [1:35:58<41:04,  2.16it/s]"
     ]
    },
    {
     "name": "stdout",
     "output_type": "stream",
     "text": [
      "'listingSummary'\n"
     ]
    },
    {
     "name": "stderr",
     "output_type": "stream",
     "text": [
      " 67%|██████████████████████████████████████████████████                         | 10703/16025 [1:36:00<31:07,  2.85it/s]"
     ]
    },
    {
     "name": "stdout",
     "output_type": "stream",
     "text": [
      "Redirected:  10702 https://www.domain.com.au/2201-80-a-beckett-street-melbourne-vic-3000-16031185\n",
      "'props'\n"
     ]
    },
    {
     "name": "stderr",
     "output_type": "stream",
     "text": [
      " 67%|██████████████████████████████████████████████████                         | 10710/16025 [1:36:03<31:50,  2.78it/s]"
     ]
    },
    {
     "name": "stdout",
     "output_type": "stream",
     "text": [
      "Redirected:  10709 https://www.domain.com.au/55-lodge-crescent-berwick-vic-3806-16031168\n",
      "'props'\n"
     ]
    },
    {
     "name": "stderr",
     "output_type": "stream",
     "text": [
      " 67%|██████████████████████████████████████████████████▏                        | 10717/16025 [1:36:06<35:26,  2.50it/s]"
     ]
    },
    {
     "name": "stdout",
     "output_type": "stream",
     "text": [
      "Redirected:  10716 https://www.domain.com.au/41a-caroline-street-ringwood-vic-3134-16031147\n",
      "'props'\n"
     ]
    },
    {
     "name": "stderr",
     "output_type": "stream",
     "text": [
      " 67%|██████████████████████████████████████████████████▏                        | 10719/16025 [1:36:07<27:53,  3.17it/s]"
     ]
    },
    {
     "name": "stdout",
     "output_type": "stream",
     "text": [
      "Redirected:  10718 https://www.domain.com.au/5-174-peel-street-windsor-vic-3181-16031140\n",
      "'props'\n"
     ]
    },
    {
     "name": "stderr",
     "output_type": "stream",
     "text": [
      " 67%|██████████████████████████████████████████████████▏                        | 10727/16025 [1:36:10<35:38,  2.48it/s]"
     ]
    },
    {
     "name": "stdout",
     "output_type": "stream",
     "text": [
      "Redirected:  10727 https://www.domain.com.au/1-331-inkerman-street-balaclava-vic-3183-16031110\n"
     ]
    },
    {
     "name": "stderr",
     "output_type": "stream",
     "text": [
      " 67%|██████████████████████████████████████████████████▏                        | 10730/16025 [1:36:12<37:33,  2.35it/s]"
     ]
    },
    {
     "name": "stdout",
     "output_type": "stream",
     "text": [
      "Redirected:  10730 https://www.domain.com.au/1-22-kalonga-road-balwyn-north-vic-3104-16031103\n"
     ]
    },
    {
     "name": "stderr",
     "output_type": "stream",
     "text": [
      " 67%|██████████████████████████████████████████████████▏                        | 10732/16025 [1:36:13<39:06,  2.26it/s]"
     ]
    },
    {
     "name": "stdout",
     "output_type": "stream",
     "text": [
      "Redirected:  10732 https://www.domain.com.au/6-331-inkerman-st-balaclava-vic-3183-15014867\n"
     ]
    },
    {
     "name": "stderr",
     "output_type": "stream",
     "text": [
      " 67%|██████████████████████████████████████████████████▏                        | 10735/16025 [1:36:14<37:27,  2.35it/s]"
     ]
    },
    {
     "name": "stdout",
     "output_type": "stream",
     "text": [
      "Redirected:  10734 https://www.domain.com.au/409-33-racecourse-road-north-melbourne-vic-3051-16031095\n",
      "'props'\n"
     ]
    },
    {
     "name": "stderr",
     "output_type": "stream",
     "text": [
      " 67%|████████████████████████████████████████████████▉                        | 10744/16025 [1:36:20<1:22:07,  1.07it/s]"
     ]
    },
    {
     "name": "stdout",
     "output_type": "stream",
     "text": [
      "Redirected:  10743 https://www.domain.com.au/9-7-empire-street-footscray-vic-3011-14985486\n",
      "'props'\n"
     ]
    },
    {
     "name": "stderr",
     "output_type": "stream",
     "text": [
      " 67%|██████████████████████████████████████████████████▎                        | 10751/16025 [1:36:22<39:57,  2.20it/s]"
     ]
    },
    {
     "name": "stdout",
     "output_type": "stream",
     "text": [
      "Redirected:  10751 https://www.domain.com.au/2-331-inkerman-street-st-kilda-vic-3182-15288842\n"
     ]
    },
    {
     "name": "stderr",
     "output_type": "stream",
     "text": [
      "\r\n",
      " 67%|██████████████████████████████████████████████████▎                        | 10752/16025 [1:36:23<41:18,  2.13it/s]"
     ]
    },
    {
     "name": "stdout",
     "output_type": "stream",
     "text": [
      "Redirected:  10752 https://www.domain.com.au/g01-3-new-street-ringwood-vic-3134-15952089\n"
     ]
    },
    {
     "name": "stderr",
     "output_type": "stream",
     "text": [
      " 67%|██████████████████████████████████████████████████▎                        | 10757/16025 [1:36:25<31:45,  2.76it/s]"
     ]
    },
    {
     "name": "stdout",
     "output_type": "stream",
     "text": [
      "Redirected:  10756 https://www.domain.com.au/2-alan-court-noble-park-north-vic-3174-16031028\n",
      "'props'\n"
     ]
    },
    {
     "name": "stderr",
     "output_type": "stream",
     "text": [
      " 67%|██████████████████████████████████████████████████▍                        | 10785/16025 [1:36:39<37:13,  2.35it/s]"
     ]
    },
    {
     "name": "stdout",
     "output_type": "stream",
     "text": [
      "Redirected:  10785 https://www.domain.com.au/62-the-esplanade-null-clifton-hill-vic-3068-16030931\n"
     ]
    },
    {
     "name": "stderr",
     "output_type": "stream",
     "text": [
      " 67%|██████████████████████████████████████████████████▌                        | 10804/16025 [1:36:52<44:53,  1.94it/s]"
     ]
    },
    {
     "name": "stdout",
     "output_type": "stream",
     "text": [
      "Redirected:  10803 https://www.domain.com.au/122-283-spring-street-melbourne-vic-3000-16030845\n",
      "'props'\n"
     ]
    },
    {
     "name": "stderr",
     "output_type": "stream",
     "text": [
      "\r\n",
      " 67%|██████████████████████████████████████████████████▌                        | 10805/16025 [1:36:53<47:14,  1.84it/s]"
     ]
    },
    {
     "name": "stdout",
     "output_type": "stream",
     "text": [
      "Redirected:  10805 https://www.domain.com.au/21-dargy-amble-tarneit-vic-3029-16030840\n"
     ]
    },
    {
     "name": "stderr",
     "output_type": "stream",
     "text": [
      " 68%|██████████████████████████████████████████████████▋                        | 10834/16025 [1:37:07<29:29,  2.93it/s]"
     ]
    },
    {
     "name": "stdout",
     "output_type": "stream",
     "text": [
      "Redirected:  10833 https://www.domain.com.au/3-5-7-newham-way-altona-meadows-vic-3028-16030745\n",
      "'props'\n"
     ]
    },
    {
     "name": "stderr",
     "output_type": "stream",
     "text": [
      " 68%|██████████████████████████████████████████████████▋                        | 10841/16025 [1:37:12<52:45,  1.64it/s]"
     ]
    },
    {
     "name": "stdout",
     "output_type": "stream",
     "text": [
      "Redirected:  10840 https://www.domain.com.au/2-229-dow-street-port-melbourne-vic-3207-16030718\n",
      "'props'\n"
     ]
    },
    {
     "name": "stderr",
     "output_type": "stream",
     "text": [
      " 68%|█████████████████████████████████████████████████▍                       | 10847/16025 [1:37:16<1:05:56,  1.31it/s]"
     ]
    },
    {
     "name": "stdout",
     "output_type": "stream",
     "text": [
      "Redirected:  10847 https://www.domain.com.au/14-yarramundi-street-clifton-springs-vic-3222-16030694\n"
     ]
    },
    {
     "name": "stderr",
     "output_type": "stream",
     "text": [
      " 68%|██████████████████████████████████████████████████▊                        | 10854/16025 [1:37:20<39:55,  2.16it/s]"
     ]
    },
    {
     "name": "stdout",
     "output_type": "stream",
     "text": [
      "Redirected:  10853 https://www.domain.com.au/32-grattan-cove-craigieburn-vic-3064-12271976\n",
      "'props'\n"
     ]
    },
    {
     "name": "stderr",
     "output_type": "stream",
     "text": [
      " 68%|██████████████████████████████████████████████████▊                        | 10859/16025 [1:37:23<38:36,  2.23it/s]"
     ]
    },
    {
     "name": "stdout",
     "output_type": "stream",
     "text": [
      "Redirected:  10859 https://www.domain.com.au/1-3-ashdale-court-springvale-vic-3171-16030659\n"
     ]
    },
    {
     "name": "stderr",
     "output_type": "stream",
     "text": [
      " 68%|██████████████████████████████████████████████████▊                        | 10867/16025 [1:37:27<51:39,  1.66it/s]"
     ]
    },
    {
     "name": "stdout",
     "output_type": "stream",
     "text": [
      "'NoneType' object is not subscriptable\n"
     ]
    },
    {
     "name": "stderr",
     "output_type": "stream",
     "text": [
      " 68%|██████████████████████████████████████████████████▉                        | 10880/16025 [1:37:34<37:56,  2.26it/s]"
     ]
    },
    {
     "name": "stdout",
     "output_type": "stream",
     "text": [
      "Redirected:  10879 https://www.domain.com.au/2-250-beaconsfield-parade-middle-park-vic-3206-16030618\n",
      "'props'\n"
     ]
    },
    {
     "name": "stderr",
     "output_type": "stream",
     "text": [
      "\r\n",
      " 68%|██████████████████████████████████████████████████▉                        | 10881/16025 [1:37:36<56:08,  1.53it/s]"
     ]
    },
    {
     "name": "stdout",
     "output_type": "stream",
     "text": [
      "Redirected:  10880 https://www.domain.com.au/3-107-109-anderson-road-fawkner-vic-3060-16030616\n",
      "'props'\n"
     ]
    },
    {
     "name": "stderr",
     "output_type": "stream",
     "text": [
      " 68%|██████████████████████████████████████████████████▉                        | 10887/16025 [1:37:38<37:43,  2.27it/s]"
     ]
    },
    {
     "name": "stdout",
     "output_type": "stream",
     "text": [
      "Redirected:  10886 https://www.domain.com.au/3304w-42-48-balston-street-southbank-vic-3006-16030595\n",
      "'listingSummary'\n"
     ]
    },
    {
     "name": "stderr",
     "output_type": "stream",
     "text": [
      " 68%|██████████████████████████████████████████████████▉                        | 10889/16025 [1:37:39<33:48,  2.53it/s]"
     ]
    },
    {
     "name": "stdout",
     "output_type": "stream",
     "text": [
      "Redirected:  10888 https://www.domain.com.au/1804w-42-48-balston-street-southbank-vic-3006-16030593\n",
      "'listingSummary'\n"
     ]
    },
    {
     "name": "stderr",
     "output_type": "stream",
     "text": [
      " 68%|██████████████████████████████████████████████████▉                        | 10894/16025 [1:37:41<33:08,  2.58it/s]"
     ]
    },
    {
     "name": "stdout",
     "output_type": "stream",
     "text": [
      "Redirected:  10893 https://www.domain.com.au/510-318-little-lonsdale-street-melbourne-vic-3000-16030574\n",
      "'props'\n"
     ]
    },
    {
     "name": "stderr",
     "output_type": "stream",
     "text": [
      " 68%|███████████████████████████████████████████████████                        | 10915/16025 [1:37:52<47:16,  1.80it/s]"
     ]
    },
    {
     "name": "stdout",
     "output_type": "stream",
     "text": [
      "Redirected:  10915 https://www.domain.com.au/6-129-melville-road-brunswick-vic-3056-16030501\n"
     ]
    },
    {
     "name": "stderr",
     "output_type": "stream",
     "text": [
      " 68%|███████████████████████████████████████████████████                        | 10917/16025 [1:37:53<39:53,  2.13it/s]"
     ]
    },
    {
     "name": "stdout",
     "output_type": "stream",
     "text": [
      "Redirected:  10916 https://www.domain.com.au/1105-65-coventry-street-southbank-vic-3006-16030499\n",
      "'props'\n"
     ]
    },
    {
     "name": "stderr",
     "output_type": "stream",
     "text": [
      " 68%|███████████████████████████████████████████████████▏                       | 10929/16025 [1:37:58<37:31,  2.26it/s]"
     ]
    },
    {
     "name": "stdout",
     "output_type": "stream",
     "text": [
      "Redirected:  10929 https://www.domain.com.au/7-99-neerim-road-carnegie-vic-3163-11936047\n"
     ]
    },
    {
     "name": "stderr",
     "output_type": "stream",
     "text": [
      " 68%|███████████████████████████████████████████████████▏                       | 10943/16025 [1:38:06<41:46,  2.03it/s]"
     ]
    },
    {
     "name": "stdout",
     "output_type": "stream",
     "text": [
      "Redirected:  10943 https://www.domain.com.au/7-99-neerim-road-glen-huntly-vic-3163-11935961\n"
     ]
    },
    {
     "name": "stderr",
     "output_type": "stream",
     "text": [
      " 68%|███████████████████████████████████████████████████▎                       | 10967/16025 [1:38:17<32:34,  2.59it/s]"
     ]
    },
    {
     "name": "stdout",
     "output_type": "stream",
     "text": [
      "Redirected:  10966 https://www.domain.com.au/2-6-redan-street-st-kilda-vic-3182-16030336\n",
      "'props'\n"
     ]
    },
    {
     "name": "stderr",
     "output_type": "stream",
     "text": [
      " 68%|███████████████████████████████████████████████████▎                       | 10975/16025 [1:38:21<52:38,  1.60it/s]"
     ]
    },
    {
     "name": "stdout",
     "output_type": "stream",
     "text": [
      "Redirected:  10975 https://www.domain.com.au/101-1240-1248-glenhutly-road-carnegie-vic-3163-16030311\n"
     ]
    },
    {
     "name": "stderr",
     "output_type": "stream",
     "text": [
      "\r\n",
      " 68%|███████████████████████████████████████████████████▎                       | 10976/16025 [1:38:22<50:13,  1.68it/s]"
     ]
    },
    {
     "name": "stdout",
     "output_type": "stream",
     "text": [
      "'listingSummary'\n"
     ]
    },
    {
     "name": "stderr",
     "output_type": "stream",
     "text": [
      " 69%|███████████████████████████████████████████████████▍                       | 10987/16025 [1:38:28<51:10,  1.64it/s]"
     ]
    },
    {
     "name": "stdout",
     "output_type": "stream",
     "text": [
      "Redirected:  10986 https://www.domain.com.au/406-canterbury-road-ringwood-east-vic-3135-16030274\n",
      "'props'\n"
     ]
    },
    {
     "name": "stderr",
     "output_type": "stream",
     "text": [
      " 69%|███████████████████████████████████████████████████▍                       | 10993/16025 [1:38:30<30:16,  2.77it/s]"
     ]
    },
    {
     "name": "stdout",
     "output_type": "stream",
     "text": [
      "Redirected:  10992 https://www.domain.com.au/9-119-wellington-street-st-kilda-vic-3182-16030252\n",
      "'props'\n"
     ]
    },
    {
     "name": "stderr",
     "output_type": "stream",
     "text": [
      " 69%|███████████████████████████████████████████████████▌                       | 11011/16025 [1:38:38<29:46,  2.81it/s]"
     ]
    },
    {
     "name": "stdout",
     "output_type": "stream",
     "text": [
      "Redirected:  11010 https://www.domain.com.au/4-7-white-avenue-kew-east-vic-3102-16030197\n",
      "'props'\n"
     ]
    },
    {
     "name": "stderr",
     "output_type": "stream",
     "text": [
      " 69%|██████████████████████████████████████████████████▌                      | 11099/16025 [1:39:25<1:33:35,  1.14s/it]"
     ]
    },
    {
     "name": "stdout",
     "output_type": "stream",
     "text": [
      "'NoneType' object is not subscriptable\n"
     ]
    },
    {
     "name": "stderr",
     "output_type": "stream",
     "text": [
      " 69%|███████████████████████████████████████████████████▉                       | 11105/16025 [1:39:28<48:26,  1.69it/s]"
     ]
    },
    {
     "name": "stdout",
     "output_type": "stream",
     "text": [
      "Redirected:  11104 https://www.domain.com.au/6-23-shoobra-rd-elsternwick-vic-3185-15783818\n",
      "'listingSummary'\n"
     ]
    },
    {
     "name": "stderr",
     "output_type": "stream",
     "text": [
      " 69%|████████████████████████████████████████████████████                       | 11111/16025 [1:39:31<36:42,  2.23it/s]"
     ]
    },
    {
     "name": "stdout",
     "output_type": "stream",
     "text": [
      "Redirected:  11111 https://www.domain.com.au/unit-7-382-deakin-avenue-mildura-vic-3500-16029915\n"
     ]
    },
    {
     "name": "stderr",
     "output_type": "stream",
     "text": [
      " 69%|████████████████████████████████████████████████████                       | 11116/16025 [1:39:33<38:55,  2.10it/s]"
     ]
    },
    {
     "name": "stdout",
     "output_type": "stream",
     "text": [
      "Redirected:  11116 https://www.domain.com.au/1209-14-queens-road-melbourne-vic-3004-16029900\n"
     ]
    },
    {
     "name": "stderr",
     "output_type": "stream",
     "text": [
      " 70%|████████████████████████████████████████████████████▏                      | 11140/16025 [1:39:49<47:48,  1.70it/s]"
     ]
    },
    {
     "name": "stdout",
     "output_type": "stream",
     "text": [
      "Redirected:  11140 https://www.domain.com.au/315-101-bay-street-street-port-melbourne-vic-3207-16029813\n"
     ]
    },
    {
     "name": "stderr",
     "output_type": "stream",
     "text": [
      " 70%|████████████████████████████████████████████████████▏                      | 11153/16025 [1:39:56<38:04,  2.13it/s]"
     ]
    },
    {
     "name": "stdout",
     "output_type": "stream",
     "text": [
      "Redirected:  11153 https://www.domain.com.au/1-37-grange-road-fairfield-vic-3078-16029765\n"
     ]
    },
    {
     "name": "stderr",
     "output_type": "stream",
     "text": [
      " 70%|████████████████████████████████████████████████████▏                      | 11155/16025 [1:39:57<36:15,  2.24it/s]"
     ]
    },
    {
     "name": "stdout",
     "output_type": "stream",
     "text": [
      "Redirected:  11155 https://www.domain.com.au/55-worthing-road-devon-meadows-vic-3977-16029758\n"
     ]
    },
    {
     "name": "stderr",
     "output_type": "stream",
     "text": [
      " 70%|████████████████████████████████████████████████████▎                      | 11175/16025 [1:40:10<43:35,  1.85it/s]"
     ]
    },
    {
     "name": "stdout",
     "output_type": "stream",
     "text": [
      "Redirected:  11175 https://www.domain.com.au/2-mala-street-truganina-vic-3029-16029697\n"
     ]
    },
    {
     "name": "stderr",
     "output_type": "stream",
     "text": [
      " 70%|████████████████████████████████████████████████████▎                      | 11177/16025 [1:40:10<36:42,  2.20it/s]"
     ]
    },
    {
     "name": "stdout",
     "output_type": "stream",
     "text": [
      "Redirected:  11176 https://www.domain.com.au/2-3-hume-street-cobram-vic-3644-16029685\n",
      "'props'\n"
     ]
    },
    {
     "name": "stderr",
     "output_type": "stream",
     "text": [
      " 70%|████████████████████████████████████████████████████▎                      | 11182/16025 [1:40:13<35:22,  2.28it/s]"
     ]
    },
    {
     "name": "stdout",
     "output_type": "stream",
     "text": [
      "Redirected:  11182 https://www.domain.com.au/610-40-hall-street-moonee-ponds-vic-3039-16029668\n"
     ]
    },
    {
     "name": "stderr",
     "output_type": "stream",
     "text": [
      " 70%|████████████████████████████████████████████████████▍                      | 11191/16025 [1:40:18<42:43,  1.89it/s]"
     ]
    },
    {
     "name": "stdout",
     "output_type": "stream",
     "text": [
      "Redirected:  11191 https://www.domain.com.au/2-31-stockwell-crescent-keilor-downs-vic-3038-16029642\n"
     ]
    },
    {
     "name": "stderr",
     "output_type": "stream",
     "text": [
      "\r\n",
      " 70%|████████████████████████████████████████████████████▍                      | 11192/16025 [1:40:18<47:46,  1.69it/s]"
     ]
    },
    {
     "name": "stdout",
     "output_type": "stream",
     "text": [
      "Redirected:  11192 https://www.domain.com.au/19-erinbank-crescent-westmeadows-vic-3049-15116161\n"
     ]
    },
    {
     "name": "stderr",
     "output_type": "stream",
     "text": [
      " 70%|████████████████████████████████████████████████████▍                      | 11216/16025 [1:40:31<29:53,  2.68it/s]"
     ]
    },
    {
     "name": "stdout",
     "output_type": "stream",
     "text": [
      "Redirected:  11215 https://www.domain.com.au/3-10-12-manoon-road-clayton-south-vic-3169-16029579\n",
      "'listingSummary'\n"
     ]
    },
    {
     "name": "stderr",
     "output_type": "stream",
     "text": [
      " 70%|████████████████████████████████████████████████████▌                      | 11218/16025 [1:40:32<33:53,  2.36it/s]"
     ]
    },
    {
     "name": "stdout",
     "output_type": "stream",
     "text": [
      "Redirected:  11218 https://www.domain.com.au/house46-bruce-street-toorak-vic-3142-16029568\n"
     ]
    },
    {
     "name": "stderr",
     "output_type": "stream",
     "text": [
      " 70%|████████████████████████████████████████████████████▋                      | 11248/16025 [1:40:45<31:24,  2.54it/s]"
     ]
    },
    {
     "name": "stdout",
     "output_type": "stream",
     "text": [
      "Redirected:  11247 https://www.domain.com.au/d806-615-victoria-street-abbotsford-vic-3067-15080775\n",
      "'listingSummary'\n"
     ]
    },
    {
     "name": "stderr",
     "output_type": "stream",
     "text": [
      " 70%|████████████████████████████████████████████████████▋                      | 11251/16025 [1:40:46<26:49,  2.97it/s]"
     ]
    },
    {
     "name": "stdout",
     "output_type": "stream",
     "text": [
      "Redirected:  11250 https://www.domain.com.au/rear-14-estelle-street-sunshine-west-vic-3020-16029475\n",
      "'listingSummary'\n"
     ]
    },
    {
     "name": "stderr",
     "output_type": "stream",
     "text": [
      "\r\n",
      " 70%|████████████████████████████████████████████████████▋                      | 11252/16025 [1:40:46<22:35,  3.52it/s]"
     ]
    },
    {
     "name": "stdout",
     "output_type": "stream",
     "text": [
      "Redirected:  11251 https://www.domain.com.au/75-chute-street-mordialloc-vic-3195-16029468\n",
      "'props'\n"
     ]
    },
    {
     "name": "stderr",
     "output_type": "stream",
     "text": [
      " 70%|████████████████████████████████████████████████████▊                      | 11273/16025 [1:40:57<55:52,  1.42it/s]"
     ]
    },
    {
     "name": "stdout",
     "output_type": "stream",
     "text": [
      "Redirected:  11273 https://www.domain.com.au/11-21-chusan-street-balaclava-vic-3183-15916112\n"
     ]
    },
    {
     "name": "stderr",
     "output_type": "stream",
     "text": [
      " 70%|████████████████████████████████████████████████████▊                      | 11280/16025 [1:41:01<32:46,  2.41it/s]"
     ]
    },
    {
     "name": "stdout",
     "output_type": "stream",
     "text": [
      "Redirected:  11279 https://www.domain.com.au/1a-pellew-street-reservoir-vic-3073-16029379\n",
      "'props'\n"
     ]
    },
    {
     "name": "stderr",
     "output_type": "stream",
     "text": [
      " 70%|████████████████████████████████████████████████████▊                      | 11285/16025 [1:41:04<38:26,  2.06it/s]"
     ]
    },
    {
     "name": "stdout",
     "output_type": "stream",
     "text": [
      "Redirected:  11285 https://www.domain.com.au/n2610-570-lygon-street-carlton-vic-3053-16029340\n"
     ]
    },
    {
     "name": "stderr",
     "output_type": "stream",
     "text": [
      "\r\n",
      " 70%|████████████████████████████████████████████████████▊                      | 11286/16025 [1:41:04<37:10,  2.12it/s]"
     ]
    },
    {
     "name": "stdout",
     "output_type": "stream",
     "text": [
      "'listingSummary'\n"
     ]
    },
    {
     "name": "stderr",
     "output_type": "stream",
     "text": [
      " 71%|████████████████████████████████████████████████████▉                      | 11305/16025 [1:41:12<33:00,  2.38it/s]"
     ]
    },
    {
     "name": "stdout",
     "output_type": "stream",
     "text": [
      "Redirected:  11304 https://www.domain.com.au/16-cranham-street-caulfield-vic-3162-16029186\n",
      "'props'\n"
     ]
    },
    {
     "name": "stderr",
     "output_type": "stream",
     "text": [
      " 71%|█████████████████████████████████████████████████████                      | 11326/16025 [1:41:23<30:27,  2.57it/s]"
     ]
    },
    {
     "name": "stdout",
     "output_type": "stream",
     "text": [
      "Redirected:  11325 https://www.domain.com.au/612-12-queens-road-melbourne-vic-3004-16029198\n",
      "'props'\n"
     ]
    },
    {
     "name": "stderr",
     "output_type": "stream",
     "text": [
      " 71%|█████████████████████████████████████████████████████                      | 11342/16025 [1:41:33<39:53,  1.96it/s]"
     ]
    },
    {
     "name": "stdout",
     "output_type": "stream",
     "text": [
      "Redirected:  11341 https://www.domain.com.au/4-136-kitchener-street-broadmeadows-vic-3047-16029137\n",
      "'props'\n"
     ]
    },
    {
     "name": "stderr",
     "output_type": "stream",
     "text": [
      " 71%|█████████████████████████████████████████████████████▏                     | 11354/16025 [1:41:38<36:33,  2.13it/s]"
     ]
    },
    {
     "name": "stdout",
     "output_type": "stream",
     "text": [
      "Redirected:  11354 https://www.domain.com.au/15-ida-street-niddrie-vic-3042-16029093\n"
     ]
    },
    {
     "name": "stderr",
     "output_type": "stream",
     "text": [
      " 71%|█████████████████████████████████████████████████████▏                     | 11356/16025 [1:41:39<40:00,  1.94it/s]"
     ]
    },
    {
     "name": "stdout",
     "output_type": "stream",
     "text": [
      "Redirected:  11356 https://www.domain.com.au/6-8-thomas-street-parkdale-vic-3195-16029088\n"
     ]
    },
    {
     "name": "stderr",
     "output_type": "stream",
     "text": [
      " 71%|█████████████████████████████████████████████████████▏                     | 11360/16025 [1:41:41<30:05,  2.58it/s]"
     ]
    },
    {
     "name": "stdout",
     "output_type": "stream",
     "text": [
      "Redirected:  11359 https://www.domain.com.au/15-marot-way-mernda-vic-3754-16029080\n",
      "'props'\n"
     ]
    },
    {
     "name": "stderr",
     "output_type": "stream",
     "text": [
      " 71%|█████████████████████████████████████████████████████▏                     | 11363/16025 [1:41:42<28:03,  2.77it/s]"
     ]
    },
    {
     "name": "stdout",
     "output_type": "stream",
     "text": [
      "Redirected:  11362 https://www.domain.com.au/1010-601-little-lonsdale-street-melbourne-vic-3000-16028870\n",
      "'props'\n"
     ]
    },
    {
     "name": "stderr",
     "output_type": "stream",
     "text": [
      " 71%|█████████████████████████████████████████████████████▏                     | 11365/16025 [1:41:43<32:53,  2.36it/s]"
     ]
    },
    {
     "name": "stdout",
     "output_type": "stream",
     "text": [
      "Redirected:  11364 https://www.domain.com.au/4-117-119-auburn-rd-hawthorn-vic-3122-9864287\n",
      "'props'\n"
     ]
    },
    {
     "name": "stderr",
     "output_type": "stream",
     "text": [
      " 71%|█████████████████████████████████████████████████████▏                     | 11368/16025 [1:41:45<38:21,  2.02it/s]"
     ]
    },
    {
     "name": "stdout",
     "output_type": "stream",
     "text": [
      "Redirected:  11367 https://www.domain.com.au/3-hopkins-court-werribee-vic-3030-16029062\n",
      "'props'\n"
     ]
    },
    {
     "name": "stderr",
     "output_type": "stream",
     "text": [
      " 71%|█████████████████████████████████████████████████████▏                     | 11371/16025 [1:41:47<42:24,  1.83it/s]"
     ]
    },
    {
     "name": "stdout",
     "output_type": "stream",
     "text": [
      "Redirected:  11370 https://www.domain.com.au/88-justin-avenue-glenroy-vic-3046-16029050\n",
      "'props'\n"
     ]
    },
    {
     "name": "stderr",
     "output_type": "stream",
     "text": [
      " 71%|█████████████████████████████████████████████████████▎                     | 11387/16025 [1:41:55<48:53,  1.58it/s]"
     ]
    },
    {
     "name": "stdout",
     "output_type": "stream",
     "text": [
      "Redirected:  11386 https://www.domain.com.au/3-52-balaclava-road-st-kilda-east-vic-3183-16028988\n",
      "'props'\n"
     ]
    },
    {
     "name": "stderr",
     "output_type": "stream",
     "text": [
      " 71%|█████████████████████████████████████████████████████▎                     | 11401/16025 [1:42:01<30:38,  2.52it/s]"
     ]
    },
    {
     "name": "stdout",
     "output_type": "stream",
     "text": [
      "Redirected:  11400 https://www.domain.com.au/15-yellow-gum-drive-pakenham-vic-3810-16028947\n",
      "'props'\n"
     ]
    },
    {
     "name": "stderr",
     "output_type": "stream",
     "text": [
      " 71%|█████████████████████████████████████████████████████▍                     | 11415/16025 [1:42:09<31:11,  2.46it/s]"
     ]
    },
    {
     "name": "stdout",
     "output_type": "stream",
     "text": [
      "Redirected:  11414 https://www.domain.com.au/17-basingstoke-road-mitcham-vic-3132-16028915\n",
      "'props'\n"
     ]
    },
    {
     "name": "stderr",
     "output_type": "stream",
     "text": [
      " 72%|█████████████████████████████████████████████████████▊                     | 11504/16025 [1:42:57<47:37,  1.58it/s]"
     ]
    },
    {
     "name": "stdout",
     "output_type": "stream",
     "text": [
      "'NoneType' object is not subscriptable\n"
     ]
    },
    {
     "name": "stderr",
     "output_type": "stream",
     "text": [
      " 72%|█████████████████████████████████████████████████████▉                     | 11516/16025 [1:43:03<32:54,  2.28it/s]"
     ]
    },
    {
     "name": "stdout",
     "output_type": "stream",
     "text": [
      "Redirected:  11516 https://www.domain.com.au/3-5-bembridge-avenue-frankston-south-vic-3199-16028169\n"
     ]
    },
    {
     "name": "stderr",
     "output_type": "stream",
     "text": [
      " 72%|██████████████████████████████████████████████████████                     | 11540/16025 [1:43:16<45:50,  1.63it/s]"
     ]
    },
    {
     "name": "stdout",
     "output_type": "stream",
     "text": [
      "Redirected:  11539 https://www.domain.com.au/9-10-stringybark-close-forest-hill-vic-3131-16028038\n",
      "'props'\n"
     ]
    },
    {
     "name": "stderr",
     "output_type": "stream",
     "text": [
      " 72%|██████████████████████████████████████████████████████                     | 11564/16025 [1:43:27<37:00,  2.01it/s]"
     ]
    },
    {
     "name": "stdout",
     "output_type": "stream",
     "text": [
      "Redirected:  11564 https://www.domain.com.au/24-gloria-avenue-dandenong-vic-3175-16027853\n"
     ]
    },
    {
     "name": "stderr",
     "output_type": "stream",
     "text": [
      " 73%|██████████████████████████████████████████████████████▍                    | 11620/16025 [1:43:57<44:16,  1.66it/s]"
     ]
    },
    {
     "name": "stdout",
     "output_type": "stream",
     "text": [
      "Redirected:  11620 https://www.domain.com.au/8-40-42-chapman-street-glenroy-vic-3046-16027502\n"
     ]
    },
    {
     "name": "stderr",
     "output_type": "stream",
     "text": [
      " 73%|██████████████████████████████████████████████████████▍                    | 11642/16025 [1:44:09<28:13,  2.59it/s]"
     ]
    },
    {
     "name": "stdout",
     "output_type": "stream",
     "text": [
      "Redirected:  11641 https://www.domain.com.au/3401-118-kavanagh-street-southbank-vic-3006-16027270\n",
      "'props'\n"
     ]
    },
    {
     "name": "stderr",
     "output_type": "stream",
     "text": [
      " 73%|██████████████████████████████████████████████████████▊                    | 11715/16025 [1:44:51<47:41,  1.51it/s]"
     ]
    },
    {
     "name": "stdout",
     "output_type": "stream",
     "text": [
      "Redirected:  11715 https://www.domain.com.au/4-26-clarke-prahran-vic-3181-16026759\n"
     ]
    },
    {
     "name": "stderr",
     "output_type": "stream",
     "text": [
      " 73%|██████████████████████████████████████████████████████▉                    | 11735/16025 [1:45:04<39:43,  1.80it/s]"
     ]
    },
    {
     "name": "stdout",
     "output_type": "stream",
     "text": [
      "Redirected:  11735 https://www.domain.com.au/36-lesney-street-richmond-vic-3121-13533466\n"
     ]
    },
    {
     "name": "stderr",
     "output_type": "stream",
     "text": [
      " 74%|███████████████████████████████████████████████████████▎                   | 11822/16025 [1:45:52<30:44,  2.28it/s]"
     ]
    },
    {
     "name": "stdout",
     "output_type": "stream",
     "text": [
      "Redirected:  11822 https://www.domain.com.au/mulgrave-vic-3170-16025973\n"
     ]
    },
    {
     "name": "stderr",
     "output_type": "stream",
     "text": [
      " 74%|███████████████████████████████████████████████████████▍                   | 11846/16025 [1:46:02<30:34,  2.28it/s]"
     ]
    },
    {
     "name": "stdout",
     "output_type": "stream",
     "text": [
      "Redirected:  11846 https://www.domain.com.au/295-gilbert-road-preston-vic-3072-16025754\n"
     ]
    },
    {
     "name": "stderr",
     "output_type": "stream",
     "text": [
      " 74%|███████████████████████████████████████████████████████▊                   | 11914/16025 [1:46:46<27:54,  2.45it/s]"
     ]
    },
    {
     "name": "stdout",
     "output_type": "stream",
     "text": [
      "Redirected:  11913 https://www.domain.com.au/24-little-ogrady-street-albert-park-vic-3206-16025228\n",
      "'props'\n"
     ]
    },
    {
     "name": "stderr",
     "output_type": "stream",
     "text": [
      " 74%|███████████████████████████████████████████████████████▊                   | 11921/16025 [1:46:50<34:05,  2.01it/s]"
     ]
    },
    {
     "name": "stdout",
     "output_type": "stream",
     "text": [
      "Redirected:  11921 https://www.domain.com.au/4-21-gladstone-street-kew-vic-3101-15613484\n"
     ]
    },
    {
     "name": "stderr",
     "output_type": "stream",
     "text": [
      " 75%|███████████████████████████████████████████████████████▉                   | 11958/16025 [1:47:12<39:32,  1.71it/s]"
     ]
    },
    {
     "name": "stdout",
     "output_type": "stream",
     "text": [
      "Redirected:  11958 https://www.domain.com.au/3811-628-flinders-street-docklands-vic-3008-16024892\n"
     ]
    },
    {
     "name": "stderr",
     "output_type": "stream",
     "text": [
      " 75%|████████████████████████████████████████████████████████                   | 11971/16025 [1:47:17<25:57,  2.60it/s]"
     ]
    },
    {
     "name": "stdout",
     "output_type": "stream",
     "text": [
      "Redirected:  11970 https://www.domain.com.au/44-racecourse-road-werribee-vic-3030-14564493\n",
      "'listingSummary'\n"
     ]
    },
    {
     "name": "stderr",
     "output_type": "stream",
     "text": [
      " 75%|████████████████████████████████████████████████████████▏                  | 12009/16025 [1:47:38<28:31,  2.35it/s]"
     ]
    },
    {
     "name": "stdout",
     "output_type": "stream",
     "text": [
      "Redirected:  12009 https://www.domain.com.au/2-cole-street-chadstone-vic-3148-16024503\n"
     ]
    },
    {
     "name": "stderr",
     "output_type": "stream",
     "text": [
      " 75%|████████████████████████████████████████████████████████▍                  | 12054/16025 [1:48:06<32:32,  2.03it/s]"
     ]
    },
    {
     "name": "stdout",
     "output_type": "stream",
     "text": [
      "Redirected:  12054 https://www.domain.com.au/st-kilda-vic-3182-16024155\n"
     ]
    },
    {
     "name": "stderr",
     "output_type": "stream",
     "text": [
      " 75%|████████████████████████████████████████████████████████▌                  | 12092/16025 [1:48:30<43:57,  1.49it/s]"
     ]
    },
    {
     "name": "stdout",
     "output_type": "stream",
     "text": [
      "Redirected:  12092 https://www.domain.com.au/unit-1-500-station-street-carrum-vic-3197-16023841\n"
     ]
    },
    {
     "name": "stderr",
     "output_type": "stream",
     "text": [
      " 76%|████████████████████████████████████████████████████████▋                  | 12102/16025 [1:48:38<47:07,  1.39it/s]"
     ]
    },
    {
     "name": "stdout",
     "output_type": "stream",
     "text": [
      "Redirected:  12102 https://www.domain.com.au/1-128-alma-avenue-laverton-vic-3028-16023690\n"
     ]
    },
    {
     "name": "stderr",
     "output_type": "stream",
     "text": [
      " 76%|███████████████████████████████████████████████████████▏                 | 12104/16025 [1:48:40<1:03:06,  1.04it/s]"
     ]
    },
    {
     "name": "stdout",
     "output_type": "stream",
     "text": [
      "Redirected:  12104 https://www.domain.com.au/1-83-main-street-gembrook-vic-3783-12413574\n"
     ]
    },
    {
     "name": "stderr",
     "output_type": "stream",
     "text": [
      " 76%|█████████████████████████████████████████████████████████                  | 12193/16025 [1:49:26<27:09,  2.35it/s]"
     ]
    },
    {
     "name": "stdout",
     "output_type": "stream",
     "text": [
      "Redirected:  12193 https://www.domain.com.au/b-24-orchid-avenue-capel-sound-vic-3940-16022792\n"
     ]
    },
    {
     "name": "stderr",
     "output_type": "stream",
     "text": [
      " 76%|█████████████████████████████████████████████████████████▏                 | 12212/16025 [1:49:35<27:14,  2.33it/s]"
     ]
    },
    {
     "name": "stdout",
     "output_type": "stream",
     "text": [
      "Redirected:  12212 https://www.domain.com.au/5-aurisch-avenue-glen-waverley-vic-3150-16022679\n"
     ]
    },
    {
     "name": "stderr",
     "output_type": "stream",
     "text": [
      " 76%|█████████████████████████████████████████████████████████▏                 | 12232/16025 [1:49:44<25:40,  2.46it/s]"
     ]
    },
    {
     "name": "stdout",
     "output_type": "stream",
     "text": [
      "Redirected:  12231 https://www.domain.com.au/3-197-separation-street-northcote-vic-3070-16022522\n",
      "'props'\n"
     ]
    },
    {
     "name": "stderr",
     "output_type": "stream",
     "text": [
      " 76%|█████████████████████████████████████████████████████████▎                 | 12238/16025 [1:49:47<28:13,  2.24it/s]"
     ]
    },
    {
     "name": "stdout",
     "output_type": "stream",
     "text": [
      "Redirected:  12238 https://www.domain.com.au/37-400-little-collins-street-melbourne-vic-3000-16022489\n"
     ]
    },
    {
     "name": "stderr",
     "output_type": "stream",
     "text": [
      " 76%|█████████████████████████████████████████████████████████▎                 | 12247/16025 [1:49:52<28:54,  2.18it/s]"
     ]
    },
    {
     "name": "stdout",
     "output_type": "stream",
     "text": [
      "Redirected:  12247 https://www.domain.com.au/1-1153-main-road-eltham-vic-3095-16022398\n"
     ]
    },
    {
     "name": "stderr",
     "output_type": "stream",
     "text": [
      " 76%|█████████████████████████████████████████████████████████▎                 | 12249/16025 [1:49:53<27:26,  2.29it/s]"
     ]
    },
    {
     "name": "stdout",
     "output_type": "stream",
     "text": [
      "Redirected:  12249 https://www.domain.com.au/selby-vic-3159-16022395\n"
     ]
    },
    {
     "name": "stderr",
     "output_type": "stream",
     "text": [
      " 77%|█████████████████████████████████████████████████████████▌                 | 12292/16025 [1:50:15<29:13,  2.13it/s]"
     ]
    },
    {
     "name": "stdout",
     "output_type": "stream",
     "text": [
      "Redirected:  12292 https://www.domain.com.au/2-seam-street-north-wonthaggi-vic-3995-16022026\n"
     ]
    },
    {
     "name": "stderr",
     "output_type": "stream",
     "text": [
      " 77%|█████████████████████████████████████████████████████████▌                 | 12298/16025 [1:50:18<26:22,  2.36it/s]"
     ]
    },
    {
     "name": "stdout",
     "output_type": "stream",
     "text": [
      "Redirected:  12297 https://www.domain.com.au/3-14-estella-street-glen-iris-vic-3146-16021964\n",
      "'props'\n"
     ]
    },
    {
     "name": "stderr",
     "output_type": "stream",
     "text": [
      " 77%|█████████████████████████████████████████████████████████▉                 | 12376/16025 [1:51:00<21:49,  2.79it/s]"
     ]
    },
    {
     "name": "stdout",
     "output_type": "stream",
     "text": [
      "Redirected:  12375 https://www.domain.com.au/3510-241-city-road-southbank-vic-3006-16020644\n",
      "'props'\n"
     ]
    },
    {
     "name": "stderr",
     "output_type": "stream",
     "text": [
      " 78%|██████████████████████████████████████████████████████████▎                | 12465/16025 [1:52:00<47:02,  1.26it/s]"
     ]
    },
    {
     "name": "stdout",
     "output_type": "stream",
     "text": [
      "Redirected:  12465 https://www.domain.com.au/16-3-kooyong-rd-hawthorn-vic-3122-16019817\n"
     ]
    },
    {
     "name": "stderr",
     "output_type": "stream",
     "text": [
      " 78%|██████████████████████████████████████████████████████████▍                | 12489/16025 [1:52:17<28:12,  2.09it/s]"
     ]
    },
    {
     "name": "stdout",
     "output_type": "stream",
     "text": [
      "Redirected:  12488 https://www.domain.com.au/20-tower-street-inverloch-vic-3996-16019635\n",
      "'props'\n"
     ]
    },
    {
     "name": "stderr",
     "output_type": "stream",
     "text": [
      " 78%|██████████████████████████████████████████████████████████▌                | 12510/16025 [1:52:31<35:34,  1.65it/s]"
     ]
    },
    {
     "name": "stdout",
     "output_type": "stream",
     "text": [
      "Redirected:  12510 https://www.domain.com.au/9-kinsfolk-circuit-doveton-vic-3177-15179134\n"
     ]
    },
    {
     "name": "stderr",
     "output_type": "stream",
     "text": [
      " 78%|██████████████████████████████████████████████████████████▌                | 12516/16025 [1:52:36<32:36,  1.79it/s]"
     ]
    },
    {
     "name": "stdout",
     "output_type": "stream",
     "text": [
      "Redirected:  12515 https://www.domain.com.au/204-30-clark-street-williams-landing-vic-3027-13279231\n",
      "'props'\n"
     ]
    },
    {
     "name": "stderr",
     "output_type": "stream",
     "text": [
      " 78%|██████████████████████████████████████████████████████████▋                | 12529/16025 [1:52:45<41:05,  1.42it/s]"
     ]
    },
    {
     "name": "stdout",
     "output_type": "stream",
     "text": [
      "Redirected:  12528 https://www.domain.com.au/608-243-toorak-road-south-yarra-vic-3141-15764798\n",
      "'props'\n"
     ]
    },
    {
     "name": "stderr",
     "output_type": "stream",
     "text": [
      " 79%|██████████████████████████████████████████████████████████▉                | 12581/16025 [1:53:19<27:46,  2.07it/s]"
     ]
    },
    {
     "name": "stdout",
     "output_type": "stream",
     "text": [
      "Redirected:  12581 https://www.domain.com.au/2-63-boldrewood-pde-reservoir-vic-3073-16018846\n"
     ]
    },
    {
     "name": "stderr",
     "output_type": "stream",
     "text": [
      " 79%|██████████████████████████████████████████████████████████▉                | 12591/16025 [1:53:24<32:42,  1.75it/s]"
     ]
    },
    {
     "name": "stdout",
     "output_type": "stream",
     "text": [
      "Redirected:  12591 https://www.domain.com.au/2-149-grange-road-glen-huntly-vic-3163-16018696\n"
     ]
    },
    {
     "name": "stderr",
     "output_type": "stream",
     "text": [
      " 79%|███████████████████████████████████████████████████████████                | 12620/16025 [1:53:39<20:22,  2.79it/s]"
     ]
    },
    {
     "name": "stdout",
     "output_type": "stream",
     "text": [
      "Redirected:  12619 https://www.domain.com.au/34-60-cradle-mountain-drive-craigieburn-vic-3064-16018418\n",
      "'props'\n"
     ]
    },
    {
     "name": "stderr",
     "output_type": "stream",
     "text": [
      " 79%|███████████████████████████████████████████████████████████▏               | 12645/16025 [1:53:51<25:00,  2.25it/s]"
     ]
    },
    {
     "name": "stdout",
     "output_type": "stream",
     "text": [
      "Redirected:  12645 https://www.domain.com.au/21-stanley-grove-canterbury-vic-3126-16017880\n"
     ]
    },
    {
     "name": "stderr",
     "output_type": "stream",
     "text": [
      " 79%|███████████████████████████████████████████████████████████▏               | 12659/16025 [1:54:00<33:20,  1.68it/s]"
     ]
    },
    {
     "name": "stdout",
     "output_type": "stream",
     "text": [
      "Redirected:  12658 https://www.domain.com.au/2-1707-point-nepean-road-capel-sound-vic-3940-16018161\n",
      "'props'\n"
     ]
    },
    {
     "name": "stderr",
     "output_type": "stream",
     "text": [
      " 79%|███████████████████████████████████████████████████████████▍               | 12701/16025 [1:54:23<25:34,  2.17it/s]"
     ]
    },
    {
     "name": "stdout",
     "output_type": "stream",
     "text": [
      "Redirected:  12701 https://www.domain.com.au/5-77a-clow-street-dandenong-vic-3175-16017763\n"
     ]
    },
    {
     "name": "stderr",
     "output_type": "stream",
     "text": [
      " 80%|██████████████████████████████████████████████████████████               | 12756/16025 [1:54:54<1:03:33,  1.17s/it]"
     ]
    },
    {
     "name": "stdout",
     "output_type": "stream",
     "text": [
      "Redirected:  12756 https://www.domain.com.au/105-200-lygon-street-brunswick-east-vic-3057-14343881\n"
     ]
    },
    {
     "name": "stderr",
     "output_type": "stream",
     "text": [
      " 80%|███████████████████████████████████████████████████████████▊               | 12785/16025 [1:55:12<42:43,  1.26it/s]"
     ]
    },
    {
     "name": "stdout",
     "output_type": "stream",
     "text": [
      "Redirected:  12784 https://www.domain.com.au/1404-63-haig-st-southbank-vic-3006-16017023\n",
      "'props'\n"
     ]
    },
    {
     "name": "stderr",
     "output_type": "stream",
     "text": [
      " 80%|████████████████████████████████████████████████████████████               | 12825/16025 [1:55:32<25:39,  2.08it/s]"
     ]
    },
    {
     "name": "stdout",
     "output_type": "stream",
     "text": [
      "Redirected:  12825 https://www.domain.com.au/3908-60-kavanagh-street-southbank-vic-3006-16016582\n"
     ]
    },
    {
     "name": "stderr",
     "output_type": "stream",
     "text": [
      "\r\n",
      " 80%|████████████████████████████████████████████████████████████               | 12826/16025 [1:55:33<28:55,  1.84it/s]"
     ]
    },
    {
     "name": "stdout",
     "output_type": "stream",
     "text": [
      "'listingSummary'\n"
     ]
    },
    {
     "name": "stderr",
     "output_type": "stream",
     "text": [
      " 80%|████████████████████████████████████████████████████████████               | 12832/16025 [1:55:36<28:35,  1.86it/s]"
     ]
    },
    {
     "name": "stdout",
     "output_type": "stream",
     "text": [
      "Redirected:  12832 https://www.domain.com.au/274-warrigal-r0ad-glen-iris-vic-3146-16016537\n"
     ]
    },
    {
     "name": "stderr",
     "output_type": "stream",
     "text": [
      " 80%|████████████████████████████████████████████████████████████▏              | 12869/16025 [1:55:54<22:42,  2.32it/s]"
     ]
    },
    {
     "name": "stdout",
     "output_type": "stream",
     "text": [
      "Redirected:  12869 https://www.domain.com.au/level-1-70-victoria-street-carlton-vic-3053-15614959\n"
     ]
    },
    {
     "name": "stderr",
     "output_type": "stream",
     "text": [
      " 80%|████████████████████████████████████████████████████████████▏              | 12871/16025 [1:55:55<24:11,  2.17it/s]"
     ]
    },
    {
     "name": "stdout",
     "output_type": "stream",
     "text": [
      "Redirected:  12871 https://www.domain.com.au/a-55-chlorinda-road-tarneit-vic-3029-16016066\n"
     ]
    },
    {
     "name": "stderr",
     "output_type": "stream",
     "text": [
      " 80%|████████████████████████████████████████████████████████████▎              | 12882/16025 [1:56:00<22:36,  2.32it/s]"
     ]
    },
    {
     "name": "stdout",
     "output_type": "stream",
     "text": [
      "Redirected:  12882 https://www.domain.com.au/4117-160-victoria-street-melbourne-vic-3000-16015936\n"
     ]
    },
    {
     "name": "stderr",
     "output_type": "stream",
     "text": [
      " 81%|████████████████████████████████████████████████████████████▌              | 12941/16025 [1:56:32<36:45,  1.40it/s]"
     ]
    },
    {
     "name": "stdout",
     "output_type": "stream",
     "text": [
      "'NoneType' object is not subscriptable\n"
     ]
    },
    {
     "name": "stderr",
     "output_type": "stream",
     "text": [
      " 81%|████████████████████████████████████████████████████████████▋              | 12961/16025 [1:56:48<45:24,  1.12it/s]"
     ]
    },
    {
     "name": "stdout",
     "output_type": "stream",
     "text": [
      "Redirected:  12961 https://www.domain.com.au/1-3-35-pine-crescent-boronia-vic-3155-16015212\n"
     ]
    },
    {
     "name": "stderr",
     "output_type": "stream",
     "text": [
      " 81%|████████████████████████████████████████████████████████████▋              | 12967/16025 [1:56:52<40:49,  1.25it/s]"
     ]
    },
    {
     "name": "stdout",
     "output_type": "stream",
     "text": [
      "Redirected:  12967 https://www.domain.com.au/5-swiss-way-wyndham-vale-vic-3024-16015120\n"
     ]
    },
    {
     "name": "stderr",
     "output_type": "stream",
     "text": [
      " 81%|████████████████████████████████████████████████████████████▋              | 12969/16025 [1:56:53<33:25,  1.52it/s]"
     ]
    },
    {
     "name": "stdout",
     "output_type": "stream",
     "text": [
      "Redirected:  12969 https://www.domain.com.au/1-5-7-wakool-avenue-avenue-mentone-vic-3194-16015109\n"
     ]
    },
    {
     "name": "stderr",
     "output_type": "stream",
     "text": [
      " 81%|████████████████████████████████████████████████████████████▋              | 12975/16025 [1:56:57<29:13,  1.74it/s]"
     ]
    },
    {
     "name": "stdout",
     "output_type": "stream",
     "text": [
      "Redirected:  12975 https://www.domain.com.au/4-dower-st-camberwell-vic-3124-16015061\n"
     ]
    },
    {
     "name": "stderr",
     "output_type": "stream",
     "text": [
      " 81%|████████████████████████████████████████████████████████████▊              | 12985/16025 [1:57:03<26:31,  1.91it/s]"
     ]
    },
    {
     "name": "stdout",
     "output_type": "stream",
     "text": [
      "Redirected:  12985 https://www.domain.com.au/8-simmonds-pl-roxburgh-park-vic-3064-16014951\n"
     ]
    },
    {
     "name": "stderr",
     "output_type": "stream",
     "text": [
      " 81%|█████████████████████████████████████████████████████████████              | 13058/16025 [1:57:48<29:18,  1.69it/s]"
     ]
    },
    {
     "name": "stdout",
     "output_type": "stream",
     "text": [
      "Redirected:  13058 https://www.domain.com.au/2-102-albert-road-warragul-vic-3820-16014159\n"
     ]
    },
    {
     "name": "stderr",
     "output_type": "stream",
     "text": [
      " 82%|█████████████████████████████████████████████████████████████▎             | 13092/16025 [1:58:05<26:16,  1.86it/s]"
     ]
    },
    {
     "name": "stdout",
     "output_type": "stream",
     "text": [
      "Redirected:  13092 https://www.domain.com.au/1-102-albert-road-warragul-vic-3820-16013602\n"
     ]
    },
    {
     "name": "stderr",
     "output_type": "stream",
     "text": [
      " 82%|█████████████████████████████████████████████████████████████▎             | 13097/16025 [1:58:09<39:06,  1.25it/s]"
     ]
    },
    {
     "name": "stdout",
     "output_type": "stream",
     "text": [
      "Redirected:  13097 https://www.domain.com.au/36-473-475-princes-hwy-noble-park-vic-3174-16013556\n"
     ]
    },
    {
     "name": "stderr",
     "output_type": "stream",
     "text": [
      "\r\n",
      " 82%|█████████████████████████████████████████████████████████████▎             | 13098/16025 [1:58:09<34:20,  1.42it/s]"
     ]
    },
    {
     "name": "stdout",
     "output_type": "stream",
     "text": [
      "Redirected:  13098 https://www.domain.com.au/65-springvale-road-mulgrave-vic-3170-16013542\n"
     ]
    },
    {
     "name": "stderr",
     "output_type": "stream",
     "text": [
      " 82%|█████████████████████████████████████████████████████████████▎             | 13107/16025 [1:58:15<30:50,  1.58it/s]"
     ]
    },
    {
     "name": "stdout",
     "output_type": "stream",
     "text": [
      "Redirected:  13107 https://www.domain.com.au/4-5-marion-street-dandenong-vic-3175-16013449\n"
     ]
    },
    {
     "name": "stderr",
     "output_type": "stream",
     "text": [
      " 82%|█████████████████████████████████████████████████████████████▎             | 13111/16025 [1:58:17<27:35,  1.76it/s]"
     ]
    },
    {
     "name": "stdout",
     "output_type": "stream",
     "text": [
      "Redirected:  13111 https://www.domain.com.au/336-burwood-highway-burwood-vic-3125-16013368\n"
     ]
    },
    {
     "name": "stderr",
     "output_type": "stream",
     "text": [
      " 82%|█████████████████████████████████████████████████████████████▍             | 13116/16025 [1:58:19<23:09,  2.09it/s]"
     ]
    },
    {
     "name": "stdout",
     "output_type": "stream",
     "text": [
      "Redirected:  13116 https://www.domain.com.au/2514-250e-elizabeth-street-melbourne-vic-3000-16013303\n"
     ]
    },
    {
     "name": "stderr",
     "output_type": "stream",
     "text": [
      " 82%|█████████████████████████████████████████████████████████████▍             | 13120/16025 [1:58:22<23:34,  2.05it/s]"
     ]
    },
    {
     "name": "stdout",
     "output_type": "stream",
     "text": [
      "Redirected:  13120 https://www.domain.com.au/101-972-glenhuntly-road-caulfield-south-vic-3162-16013270\n"
     ]
    },
    {
     "name": "stderr",
     "output_type": "stream",
     "text": [
      " 82%|█████████████████████████████████████████████████████████████▌             | 13148/16025 [1:58:41<34:21,  1.40it/s]"
     ]
    },
    {
     "name": "stdout",
     "output_type": "stream",
     "text": [
      "Redirected:  13148 https://www.domain.com.au/1-7-oaklands-avenue-ferntree-gully-vic-3156-16013031\n"
     ]
    },
    {
     "name": "stderr",
     "output_type": "stream",
     "text": [
      " 82%|█████████████████████████████████████████████████████████████▋             | 13184/16025 [1:59:02<23:53,  1.98it/s]"
     ]
    },
    {
     "name": "stdout",
     "output_type": "stream",
     "text": [
      "Redirected:  13184 https://www.domain.com.au/unit-1-23-koonalda-grove-dandenong-north-vic-3175-16012605\n"
     ]
    },
    {
     "name": "stderr",
     "output_type": "stream",
     "text": [
      " 82%|█████████████████████████████████████████████████████████████▊             | 13194/16025 [1:59:08<28:57,  1.63it/s]"
     ]
    },
    {
     "name": "stdout",
     "output_type": "stream",
     "text": [
      "Redirected:  13194 https://www.domain.com.au/18a-hampton-road-essendon-west-vic-3040-16012457\n"
     ]
    },
    {
     "name": "stderr",
     "output_type": "stream",
     "text": [
      " 83%|█████████████████████████████████████████████████████████████▉             | 13226/16025 [1:59:25<27:54,  1.67it/s]"
     ]
    },
    {
     "name": "stdout",
     "output_type": "stream",
     "text": [
      "Redirected:  13226 https://www.domain.com.au/47-angliss-street-yarraville-vic-3013-16011999\n"
     ]
    },
    {
     "name": "stderr",
     "output_type": "stream",
     "text": [
      " 83%|██████████████████████████████████████████████████████████████             | 13261/16025 [1:59:42<23:29,  1.96it/s]"
     ]
    },
    {
     "name": "stdout",
     "output_type": "stream",
     "text": [
      "Redirected:  13261 https://www.domain.com.au/oasis-crescent-yarrawonga-vic-3730-16011493\n"
     ]
    },
    {
     "name": "stderr",
     "output_type": "stream",
     "text": [
      " 83%|██████████████████████████████████████████████████████████████▍            | 13329/16025 [2:00:17<34:10,  1.31it/s]"
     ]
    },
    {
     "name": "stdout",
     "output_type": "stream",
     "text": [
      "Redirected:  13329 https://www.domain.com.au/234-bridport-street-west-street-albert-park-vic-3206-16010656\n"
     ]
    },
    {
     "name": "stderr",
     "output_type": "stream",
     "text": [
      " 83%|██████████████████████████████████████████████████████████████▍            | 13333/16025 [2:00:19<25:53,  1.73it/s]"
     ]
    },
    {
     "name": "stdout",
     "output_type": "stream",
     "text": [
      "Redirected:  13333 https://www.domain.com.au/9-6-poplar-grove-carnegie-vic-3163-16010598\n"
     ]
    },
    {
     "name": "stderr",
     "output_type": "stream",
     "text": [
      "\r\n",
      " 83%|██████████████████████████████████████████████████████████████▍            | 13334/16025 [2:00:20<24:29,  1.83it/s]"
     ]
    },
    {
     "name": "stdout",
     "output_type": "stream",
     "text": [
      "Redirected:  13334 https://www.domain.com.au/13-6-poplar-grove-carnegie-vic-3163-16010587\n"
     ]
    },
    {
     "name": "stderr",
     "output_type": "stream",
     "text": [
      " 83%|██████████████████████████████████████████████████████████████▍            | 13350/16025 [2:00:29<16:45,  2.66it/s]"
     ]
    },
    {
     "name": "stdout",
     "output_type": "stream",
     "text": [
      "Redirected:  13349 https://www.domain.com.au/139-prospect-hill-road-canterbury-vic-3126-16010461\n",
      "'props'\n"
     ]
    },
    {
     "name": "stderr",
     "output_type": "stream",
     "text": [
      " 83%|██████████████████████████████████████████████████████████████▌            | 13372/16025 [2:00:40<19:21,  2.28it/s]"
     ]
    },
    {
     "name": "stdout",
     "output_type": "stream",
     "text": [
      "Redirected:  13372 https://www.domain.com.au/carspace-610-st-kilda-road-melbourne-vic-3004-16010221\n"
     ]
    },
    {
     "name": "stderr",
     "output_type": "stream",
     "text": [
      " 84%|██████████████████████████████████████████████████████████████▋            | 13381/16025 [2:00:46<31:23,  1.40it/s]"
     ]
    },
    {
     "name": "stdout",
     "output_type": "stream",
     "text": [
      "Redirected:  13380 https://www.domain.com.au/17-brazilia-avenue-kealba-vic-3021-16010113\n",
      "'props'\n"
     ]
    },
    {
     "name": "stderr",
     "output_type": "stream",
     "text": [
      " 84%|██████████████████████████████████████████████████████████████▋            | 13383/16025 [2:00:49<47:34,  1.08s/it]"
     ]
    },
    {
     "name": "stdout",
     "output_type": "stream",
     "text": [
      "Redirected:  13382 https://www.domain.com.au/161-albion-street-brunswick-vic-3056-14426632\n",
      "'props'\n"
     ]
    },
    {
     "name": "stderr",
     "output_type": "stream",
     "text": [
      " 84%|██████████████████████████████████████████████████████████████▉            | 13444/16025 [2:01:21<19:51,  2.17it/s]"
     ]
    },
    {
     "name": "stdout",
     "output_type": "stream",
     "text": [
      "Redirected:  13444 https://www.domain.com.au/16-penzance-avenue-sydenham-vic-3037-16009285\n"
     ]
    },
    {
     "name": "stderr",
     "output_type": "stream",
     "text": [
      " 84%|██████████████████████████████████████████████████████████████▉            | 13450/16025 [2:01:23<16:42,  2.57it/s]"
     ]
    },
    {
     "name": "stdout",
     "output_type": "stream",
     "text": [
      "Redirected:  13449 https://www.domain.com.au/809-53-batman-street-west-melbourne-vic-3003-16009246\n",
      "'props'\n"
     ]
    },
    {
     "name": "stderr",
     "output_type": "stream",
     "text": [
      "\r\n",
      " 84%|██████████████████████████████████████████████████████████████▉            | 13451/16025 [2:01:24<16:40,  2.57it/s]"
     ]
    },
    {
     "name": "stdout",
     "output_type": "stream",
     "text": [
      "Redirected:  13451 https://www.domain.com.au/7-544-gilbert-road-preston-vic-3072-16009214\n"
     ]
    },
    {
     "name": "stderr",
     "output_type": "stream",
     "text": [
      "\r\n",
      " 84%|██████████████████████████████████████████████████████████████▉            | 13452/16025 [2:01:24<20:18,  2.11it/s]"
     ]
    },
    {
     "name": "stdout",
     "output_type": "stream",
     "text": [
      "Redirected:  13452 https://www.domain.com.au/125-gower-preston-vic-3072-16009213\n"
     ]
    },
    {
     "name": "stderr",
     "output_type": "stream",
     "text": [
      "\r\n",
      " 84%|██████████████████████████████████████████████████████████████▉            | 13453/16025 [2:01:25<23:03,  1.86it/s]"
     ]
    },
    {
     "name": "stdout",
     "output_type": "stream",
     "text": [
      "Redirected:  13453 https://www.domain.com.au/7-544-gilbert-road-preston-vic-3072-16009211\n"
     ]
    },
    {
     "name": "stderr",
     "output_type": "stream",
     "text": [
      "\r\n",
      " 84%|██████████████████████████████████████████████████████████████▉            | 13454/16025 [2:01:25<22:57,  1.87it/s]"
     ]
    },
    {
     "name": "stdout",
     "output_type": "stream",
     "text": [
      "Redirected:  13454 https://www.domain.com.au/125-gower-preston-vic-3072-16009209\n"
     ]
    },
    {
     "name": "stderr",
     "output_type": "stream",
     "text": [
      " 84%|███████████████████████████████████████████████████████████████▏           | 13494/16025 [2:01:47<20:21,  2.07it/s]"
     ]
    },
    {
     "name": "stdout",
     "output_type": "stream",
     "text": [
      "Redirected:  13494 https://www.domain.com.au/3-35-paxton-street-malvern-east-vic-3145-16008619\n"
     ]
    },
    {
     "name": "stderr",
     "output_type": "stream",
     "text": [
      " 84%|███████████████████████████████████████████████████████████████▎           | 13520/16025 [2:02:07<20:39,  2.02it/s]"
     ]
    },
    {
     "name": "stdout",
     "output_type": "stream",
     "text": [
      "list index out of range\n"
     ]
    },
    {
     "name": "stderr",
     "output_type": "stream",
     "text": [
      " 84%|███████████████████████████████████████████████████████████████▎           | 13534/16025 [2:02:16<17:10,  2.42it/s]"
     ]
    },
    {
     "name": "stdout",
     "output_type": "stream",
     "text": [
      "Redirected:  13533 https://www.domain.com.au/2-8a-braeside-drive-junortoun-vic-3551-16008216\n",
      "'props'\n"
     ]
    },
    {
     "name": "stderr",
     "output_type": "stream",
     "text": [
      " 84%|███████████████████████████████████████████████████████████████▎           | 13538/16025 [2:02:18<25:02,  1.65it/s]"
     ]
    },
    {
     "name": "stdout",
     "output_type": "stream",
     "text": [
      "Redirected:  13538 https://www.domain.com.au/1017-heatherton-road-springvale-south-vic-3172-16008183\n"
     ]
    },
    {
     "name": "stderr",
     "output_type": "stream",
     "text": [
      " 85%|███████████████████████████████████████████████████████████████▍           | 13561/16025 [2:02:34<20:39,  1.99it/s]"
     ]
    },
    {
     "name": "stdout",
     "output_type": "stream",
     "text": [
      "Redirected:  13561 https://www.domain.com.au/2-47-hillside-drive-dandenong-north-vic-3175-16007922\n"
     ]
    },
    {
     "name": "stderr",
     "output_type": "stream",
     "text": [
      " 85%|███████████████████████████████████████████████████████████████▌           | 13569/16025 [2:02:38<22:52,  1.79it/s]"
     ]
    },
    {
     "name": "stdout",
     "output_type": "stream",
     "text": [
      "Redirected:  13568 https://www.domain.com.au/2-5-park-street-moonee-ponds-vic-3039-16007879\n",
      "'props'\n",
      "Redirected:  13569 https://www.domain.com.au/1-5-bainbridge-avenue-seaford-vic-3198-16007860\n"
     ]
    },
    {
     "name": "stderr",
     "output_type": "stream",
     "text": [
      " 85%|███████████████████████████████████████████████████████████████▌           | 13584/16025 [2:02:47<39:19,  1.03it/s]"
     ]
    },
    {
     "name": "stdout",
     "output_type": "stream",
     "text": [
      "'NoneType' object is not subscriptable\n"
     ]
    },
    {
     "name": "stderr",
     "output_type": "stream",
     "text": [
      " 85%|███████████████████████████████████████████████████████████████▌           | 13594/16025 [2:02:52<24:08,  1.68it/s]"
     ]
    },
    {
     "name": "stdout",
     "output_type": "stream",
     "text": [
      "Redirected:  13593 https://www.domain.com.au/32-decourcy-way-armstrong-creek-vic-3217-16007595\n",
      "'props'\n"
     ]
    },
    {
     "name": "stderr",
     "output_type": "stream",
     "text": [
      " 85%|███████████████████████████████████████████████████████████████▋           | 13607/16025 [2:02:59<19:05,  2.11it/s]"
     ]
    },
    {
     "name": "stdout",
     "output_type": "stream",
     "text": [
      "Redirected:  13607 https://www.domain.com.au/3-140-warrigal-road-camberwell-vic-3124-16007377\n"
     ]
    },
    {
     "name": "stderr",
     "output_type": "stream",
     "text": [
      " 85%|███████████████████████████████████████████████████████████████▊           | 13622/16025 [2:03:06<20:15,  1.98it/s]"
     ]
    },
    {
     "name": "stdout",
     "output_type": "stream",
     "text": [
      "Redirected:  13622 https://www.domain.com.au/24-tedecso-circuit-williamstown-vic-3016-16007152\n"
     ]
    },
    {
     "name": "stderr",
     "output_type": "stream",
     "text": [
      " 85%|███████████████████████████████████████████████████████████████▊           | 13645/16025 [2:03:19<19:25,  2.04it/s]"
     ]
    },
    {
     "name": "stdout",
     "output_type": "stream",
     "text": [
      "Redirected:  13645 https://www.domain.com.au/402-261-centre-road-bentleigh-vic-3204-14859377\n"
     ]
    },
    {
     "name": "stderr",
     "output_type": "stream",
     "text": [
      " 85%|███████████████████████████████████████████████████████████████▉           | 13664/16025 [2:03:31<25:34,  1.54it/s]"
     ]
    },
    {
     "name": "stdout",
     "output_type": "stream",
     "text": [
      "Redirected:  13664 https://www.domain.com.au/2-de-feu-street-north-melbourne-vic-3051-16006686\n"
     ]
    },
    {
     "name": "stderr",
     "output_type": "stream",
     "text": [
      " 85%|████████████████████████████████████████████████████████████████           | 13680/16025 [2:03:40<14:57,  2.61it/s]"
     ]
    },
    {
     "name": "stdout",
     "output_type": "stream",
     "text": [
      "Redirected:  13679 https://www.domain.com.au/14-grace-avenue-dandenong-vic-3175-16006496\n",
      "'props'\n"
     ]
    },
    {
     "name": "stderr",
     "output_type": "stream",
     "text": [
      " 85%|████████████████████████████████████████████████████████████████           | 13683/16025 [2:03:42<18:46,  2.08it/s]"
     ]
    },
    {
     "name": "stdout",
     "output_type": "stream",
     "text": [
      "Redirected:  13683 https://www.domain.com.au/3-613-pascoe-vale-road-glenroy-vic-3046-16006478\n"
     ]
    },
    {
     "name": "stderr",
     "output_type": "stream",
     "text": [
      "\r\n",
      " 85%|████████████████████████████████████████████████████████████████           | 13684/16025 [2:03:42<18:34,  2.10it/s]"
     ]
    },
    {
     "name": "stdout",
     "output_type": "stream",
     "text": [
      "'listingSummary'\n"
     ]
    },
    {
     "name": "stderr",
     "output_type": "stream",
     "text": [
      " 86%|████████████████████████████████████████████████████████████████▏          | 13719/16025 [2:04:02<16:59,  2.26it/s]"
     ]
    },
    {
     "name": "stdout",
     "output_type": "stream",
     "text": [
      "Redirected:  13719 https://www.domain.com.au/1-101-great-ryrie-street-ringwood-vic-3134-16006002\n"
     ]
    },
    {
     "name": "stderr",
     "output_type": "stream",
     "text": [
      " 86%|████████████████████████████████████████████████████████████████▏          | 13721/16025 [2:04:03<18:08,  2.12it/s]"
     ]
    },
    {
     "name": "stdout",
     "output_type": "stream",
     "text": [
      "Redirected:  13720 https://www.domain.com.au/78-wood-street-templestowe-vic-3106-16006000\n",
      "'props'\n"
     ]
    },
    {
     "name": "stderr",
     "output_type": "stream",
     "text": [
      " 86%|████████████████████████████████████████████████████████████████▎          | 13738/16025 [2:04:11<17:57,  2.12it/s]"
     ]
    },
    {
     "name": "stdout",
     "output_type": "stream",
     "text": [
      "Redirected:  13738 https://www.domain.com.au/10-50-leura-grove-hawthorn-vic-3122-16005616\n"
     ]
    },
    {
     "name": "stderr",
     "output_type": "stream",
     "text": [
      " 86%|████████████████████████████████████████████████████████████████▍          | 13766/16025 [2:04:25<15:36,  2.41it/s]"
     ]
    },
    {
     "name": "stdout",
     "output_type": "stream",
     "text": [
      "Redirected:  13766 https://www.domain.com.au/4-mesarati-way-cranbourne-east-vic-3977-16005231\n"
     ]
    },
    {
     "name": "stderr",
     "output_type": "stream",
     "text": [
      " 86%|████████████████████████████████████████████████████████████████▌          | 13783/16025 [2:04:33<16:53,  2.21it/s]"
     ]
    },
    {
     "name": "stdout",
     "output_type": "stream",
     "text": [
      "Redirected:  13783 https://www.domain.com.au/1404c-260-spencer-st-melbourne-vic-3000-16004965\n"
     ]
    },
    {
     "name": "stderr",
     "output_type": "stream",
     "text": [
      " 86%|████████████████████████████████████████████████████████████████▋          | 13830/16025 [2:04:58<32:40,  1.12it/s]"
     ]
    },
    {
     "name": "stdout",
     "output_type": "stream",
     "text": [
      "'NoneType' object is not subscriptable\n"
     ]
    },
    {
     "name": "stderr",
     "output_type": "stream",
     "text": [
      " 87%|████████████████████████████████████████████████████████████████▉          | 13866/16025 [2:05:18<18:39,  1.93it/s]"
     ]
    },
    {
     "name": "stdout",
     "output_type": "stream",
     "text": [
      "Redirected:  13866 https://www.domain.com.au/330a-canterbury-rd-surrey-hills-vic-3127-12135798\n"
     ]
    },
    {
     "name": "stderr",
     "output_type": "stream",
     "text": [
      " 87%|█████████████████████████████████████████████████████████████████          | 13889/16025 [2:05:30<16:21,  2.18it/s]"
     ]
    },
    {
     "name": "stdout",
     "output_type": "stream",
     "text": [
      "list index out of range\n"
     ]
    },
    {
     "name": "stderr",
     "output_type": "stream",
     "text": [
      " 87%|█████████████████████████████████████████████████████████████████          | 13891/16025 [2:05:31<16:59,  2.09it/s]"
     ]
    },
    {
     "name": "stdout",
     "output_type": "stream",
     "text": [
      "Redirected:  13891 https://www.domain.com.au/3119-488-swanston-street-carlton-vic-3053-16002815\n"
     ]
    },
    {
     "name": "stderr",
     "output_type": "stream",
     "text": [
      " 87%|█████████████████████████████████████████████████████████████████▏         | 13925/16025 [2:05:50<15:57,  2.19it/s]"
     ]
    },
    {
     "name": "stdout",
     "output_type": "stream",
     "text": [
      "Redirected:  13924 https://www.domain.com.au/1-80-campbell-road-hawthorn-east-vic-3123-16002291\n",
      "'props'\n"
     ]
    },
    {
     "name": "stderr",
     "output_type": "stream",
     "text": [
      " 87%|█████████████████████████████████████████████████████████████████▎         | 13942/16025 [2:05:58<14:18,  2.43it/s]"
     ]
    },
    {
     "name": "stdout",
     "output_type": "stream",
     "text": [
      "Redirected:  13941 https://www.domain.com.au/611-33-judd-street-richmond-vic-3121-16002081\n",
      "'props'\n"
     ]
    },
    {
     "name": "stderr",
     "output_type": "stream",
     "text": [
      " 87%|█████████████████████████████████████████████████████████████████▎         | 13961/16025 [2:06:07<14:41,  2.34it/s]"
     ]
    },
    {
     "name": "stdout",
     "output_type": "stream",
     "text": [
      "Redirected:  13961 https://www.domain.com.au/601-15-doepel-way-docklands-vic-3008-16001822\n"
     ]
    },
    {
     "name": "stderr",
     "output_type": "stream",
     "text": [
      " 87%|█████████████████████████████████████████████████████████████████▎         | 13966/16025 [2:06:10<18:40,  1.84it/s]"
     ]
    },
    {
     "name": "stdout",
     "output_type": "stream",
     "text": [
      "Redirected:  13966 https://www.domain.com.au/4716-70-southbank-boulevard-southbank-vic-3006-16001775\n"
     ]
    },
    {
     "name": "stderr",
     "output_type": "stream",
     "text": [
      " 87%|█████████████████████████████████████████████████████████████████▍         | 13977/16025 [2:06:14<15:16,  2.23it/s]"
     ]
    },
    {
     "name": "stdout",
     "output_type": "stream",
     "text": [
      "Redirected:  13977 https://www.domain.com.au/lot-a-2-83-hotham-road-niddrie-vic-3042-16001629\n"
     ]
    },
    {
     "name": "stderr",
     "output_type": "stream",
     "text": [
      " 88%|█████████████████████████████████████████████████████████████████▋         | 14047/16025 [2:06:50<20:16,  1.63it/s]"
     ]
    },
    {
     "name": "stdout",
     "output_type": "stream",
     "text": [
      "Redirected:  14046 https://www.domain.com.au/2001-31-abeckett-street-melbourne-vic-3000-16000551\n",
      "'props'\n"
     ]
    },
    {
     "name": "stderr",
     "output_type": "stream",
     "text": [
      " 88%|█████████████████████████████████████████████████████████████████▊         | 14050/16025 [2:06:51<17:43,  1.86it/s]"
     ]
    },
    {
     "name": "stdout",
     "output_type": "stream",
     "text": [
      "Redirected:  14050 https://www.domain.com.au/18-james-street-templestowe-vic-3106-16000492\n"
     ]
    },
    {
     "name": "stderr",
     "output_type": "stream",
     "text": [
      " 88%|█████████████████████████████████████████████████████████████████▊         | 14058/16025 [2:06:56<16:31,  1.98it/s]"
     ]
    },
    {
     "name": "stdout",
     "output_type": "stream",
     "text": [
      "Redirected:  14058 https://www.domain.com.au/95-street-seddon-vic-3011-16000330\n"
     ]
    },
    {
     "name": "stderr",
     "output_type": "stream",
     "text": [
      " 88%|█████████████████████████████████████████████████████████████████▊         | 14060/16025 [2:06:57<20:29,  1.60it/s]"
     ]
    },
    {
     "name": "stdout",
     "output_type": "stream",
     "text": [
      "Redirected:  14059 https://www.domain.com.au/4-4-parring-road-balwyn-vic-3103-16000312\n",
      "'props'\n"
     ]
    },
    {
     "name": "stderr",
     "output_type": "stream",
     "text": [
      " 88%|██████████████████████████████████████████████████████████████████▏        | 14130/16025 [2:07:42<30:10,  1.05it/s]"
     ]
    },
    {
     "name": "stdout",
     "output_type": "stream",
     "text": [
      "Redirected:  14130 https://www.domain.com.au/2902-828-whitehorse-road-box-hill-vic-3128-15999360\n"
     ]
    },
    {
     "name": "stderr",
     "output_type": "stream",
     "text": [
      " 88%|██████████████████████████████████████████████████████████████████▎        | 14162/16025 [2:07:57<13:31,  2.30it/s]"
     ]
    },
    {
     "name": "stdout",
     "output_type": "stream",
     "text": [
      "Redirected:  14162 https://www.domain.com.au/pedro-street-clyde-north-vic-3978-15998586\n"
     ]
    },
    {
     "name": "stderr",
     "output_type": "stream",
     "text": [
      " 89%|██████████████████████████████████████████████████████████████████▍        | 14201/16025 [2:08:19<13:40,  2.22it/s]"
     ]
    },
    {
     "name": "stdout",
     "output_type": "stream",
     "text": [
      "Redirected:  14201 https://www.domain.com.au/4-pippen-loop-fraser-rise-vic-3336-15997822\n"
     ]
    },
    {
     "name": "stderr",
     "output_type": "stream",
     "text": [
      " 89%|██████████████████████████████████████████████████████████████████▌        | 14225/16025 [2:08:31<20:37,  1.45it/s]"
     ]
    },
    {
     "name": "stdout",
     "output_type": "stream",
     "text": [
      "'NoneType' object is not subscriptable\n"
     ]
    },
    {
     "name": "stderr",
     "output_type": "stream",
     "text": [
      " 89%|██████████████████████████████████████████████████████████████████▋        | 14236/16025 [2:08:40<35:14,  1.18s/it]"
     ]
    },
    {
     "name": "stdout",
     "output_type": "stream",
     "text": [
      "'NoneType' object is not subscriptable\n"
     ]
    },
    {
     "name": "stderr",
     "output_type": "stream",
     "text": [
      " 89%|██████████████████████████████████████████████████████████████████▋        | 14256/16025 [2:08:51<14:59,  1.97it/s]"
     ]
    },
    {
     "name": "stdout",
     "output_type": "stream",
     "text": [
      "Redirected:  14256 https://www.domain.com.au/505-200-lygon-street-brunswick-vic-3056-15996680\n"
     ]
    },
    {
     "name": "stderr",
     "output_type": "stream",
     "text": [
      " 89%|██████████████████████████████████████████████████████████████████▊        | 14267/16025 [2:08:56<12:56,  2.26it/s]"
     ]
    },
    {
     "name": "stdout",
     "output_type": "stream",
     "text": [
      "Redirected:  14267 https://www.domain.com.au/76-toolong-north-road-toolong-vic-3285-15996413\n"
     ]
    },
    {
     "name": "stderr",
     "output_type": "stream",
     "text": [
      " 89%|██████████████████████████████████████████████████████████████████▉        | 14314/16025 [2:09:21<14:20,  1.99it/s]"
     ]
    },
    {
     "name": "stdout",
     "output_type": "stream",
     "text": [
      "Redirected:  14314 https://www.domain.com.au/330-55-villiers-street-north-melbourne-vic-3051-14883515\n"
     ]
    },
    {
     "name": "stderr",
     "output_type": "stream",
     "text": [
      " 90%|███████████████████████████████████████████████████████████████████▏       | 14359/16025 [2:09:54<17:52,  1.55it/s]"
     ]
    },
    {
     "name": "stdout",
     "output_type": "stream",
     "text": [
      "Redirected:  14358 https://www.domain.com.au/3-34-harrow-street-box-hill-vic-3128-15995108\n",
      "'props'\n"
     ]
    },
    {
     "name": "stderr",
     "output_type": "stream",
     "text": [
      " 90%|███████████████████████████████████████████████████████████████████▍       | 14401/16025 [2:10:28<11:14,  2.41it/s]"
     ]
    },
    {
     "name": "stdout",
     "output_type": "stream",
     "text": [
      "Redirected:  14401 https://www.domain.com.au/2-207-balaclava-road-caulfield-north-vic-3161-15950067\n"
     ]
    },
    {
     "name": "stderr",
     "output_type": "stream",
     "text": [
      " 90%|███████████████████████████████████████████████████████████████████▌       | 14434/16025 [2:10:45<12:21,  2.15it/s]"
     ]
    },
    {
     "name": "stdout",
     "output_type": "stream",
     "text": [
      "Redirected:  14434 https://www.domain.com.au/20-reuben-street-cheltenham-vic-3192-15993985\n"
     ]
    },
    {
     "name": "stderr",
     "output_type": "stream",
     "text": [
      "\r\n",
      " 90%|███████████████████████████████████████████████████████████████████▌       | 14435/16025 [2:10:46<13:35,  1.95it/s]"
     ]
    },
    {
     "name": "stdout",
     "output_type": "stream",
     "text": [
      "'listingSummary'\n"
     ]
    },
    {
     "name": "stderr",
     "output_type": "stream",
     "text": [
      " 90%|███████████████████████████████████████████████████████████████████▌       | 14449/16025 [2:10:55<12:51,  2.04it/s]"
     ]
    },
    {
     "name": "stdout",
     "output_type": "stream",
     "text": [
      "Redirected:  14449 https://www.domain.com.au/1-winglillie-street-mildura-vic-3500-15993769\n"
     ]
    },
    {
     "name": "stderr",
     "output_type": "stream",
     "text": [
      " 90%|███████████████████████████████████████████████████████████████████▋       | 14464/16025 [2:11:04<12:46,  2.04it/s]"
     ]
    },
    {
     "name": "stdout",
     "output_type": "stream",
     "text": [
      "Redirected:  14464 https://www.domain.com.au/213-17-arnold-street-box-hill-vic-3128-15993457\n"
     ]
    },
    {
     "name": "stderr",
     "output_type": "stream",
     "text": [
      " 90%|███████████████████████████████████████████████████████████████████▊       | 14482/16025 [2:11:13<10:34,  2.43it/s]"
     ]
    },
    {
     "name": "stdout",
     "output_type": "stream",
     "text": [
      "Redirected:  14481 https://www.domain.com.au/22-forbes-court-north-bendigo-vic-3550-15993112\n",
      "'props'\n"
     ]
    },
    {
     "name": "stderr",
     "output_type": "stream",
     "text": [
      " 90%|███████████████████████████████████████████████████████████████████▊       | 14486/16025 [2:11:14<10:06,  2.54it/s]"
     ]
    },
    {
     "name": "stdout",
     "output_type": "stream",
     "text": [
      "Redirected:  14485 https://www.domain.com.au/1-27-hodgkinson-street-clifton-hill-vic-3068-12174522\n",
      "'props'\n"
     ]
    },
    {
     "name": "stderr",
     "output_type": "stream",
     "text": [
      " 90%|███████████████████████████████████████████████████████████████████▊       | 14501/16025 [2:11:23<14:54,  1.70it/s]"
     ]
    },
    {
     "name": "stdout",
     "output_type": "stream",
     "text": [
      "Redirected:  14501 https://www.domain.com.au/1604-250-st-kilda-road-melbourne-vic-3000-15992873\n"
     ]
    },
    {
     "name": "stderr",
     "output_type": "stream",
     "text": [
      "\r\n",
      " 90%|███████████████████████████████████████████████████████████████████▊       | 14502/16025 [2:11:23<16:01,  1.58it/s]"
     ]
    },
    {
     "name": "stdout",
     "output_type": "stream",
     "text": [
      "Redirected:  14502 https://www.domain.com.au/4-kirrak-street-wonthaggi-vic-3995-15992847\n"
     ]
    },
    {
     "name": "stderr",
     "output_type": "stream",
     "text": [
      " 91%|███████████████████████████████████████████████████████████████████▉       | 14505/16025 [2:11:26<14:54,  1.70it/s]"
     ]
    },
    {
     "name": "stdout",
     "output_type": "stream",
     "text": [
      "Redirected:  14504 https://www.domain.com.au/55-mathoura-road-toorak-vic-3142-15992791\n",
      "'props'\n"
     ]
    },
    {
     "name": "stderr",
     "output_type": "stream",
     "text": [
      " 91%|████████████████████████████████████████████████████████████████████       | 14532/16025 [2:11:38<11:05,  2.24it/s]"
     ]
    },
    {
     "name": "stdout",
     "output_type": "stream",
     "text": [
      "Redirected:  14532 https://www.domain.com.au/10-ranfurlie-avenue-point-cook-vic-3030-15992281\n"
     ]
    },
    {
     "name": "stderr",
     "output_type": "stream",
     "text": [
      " 91%|████████████████████████████████████████████████████████████████████       | 14547/16025 [2:11:45<10:17,  2.40it/s]"
     ]
    },
    {
     "name": "stdout",
     "output_type": "stream",
     "text": [
      "Redirected:  14547 https://www.domain.com.au/unit-1-40-44-edgevale-road-kew-vic-3101-15992046\n"
     ]
    },
    {
     "name": "stderr",
     "output_type": "stream",
     "text": [
      " 91%|████████████████████████████████████████████████████████████████████▎      | 14586/16025 [2:12:04<10:47,  2.22it/s]"
     ]
    },
    {
     "name": "stdout",
     "output_type": "stream",
     "text": [
      "Redirected:  14586 https://www.domain.com.au/4-4-hamliton-street-bentleigh-vic-3204-15991234\n"
     ]
    },
    {
     "name": "stderr",
     "output_type": "stream",
     "text": [
      " 92%|████████████████████████████████████████████████████████████████████▋      | 14664/16025 [2:12:46<09:58,  2.27it/s]"
     ]
    },
    {
     "name": "stdout",
     "output_type": "stream",
     "text": [
      "Redirected:  14664 https://www.domain.com.au/61-masada-boulevard-winter-valley-vic-3358-15990144\n"
     ]
    },
    {
     "name": "stderr",
     "output_type": "stream",
     "text": [
      " 92%|████████████████████████████████████████████████████████████████████▋      | 14675/16025 [2:12:52<08:49,  2.55it/s]"
     ]
    },
    {
     "name": "stdout",
     "output_type": "stream",
     "text": [
      "Redirected:  14674 https://www.domain.com.au/18-wolomina-crescent-werribee-vic-3030-15989945\n",
      "'props'\n"
     ]
    },
    {
     "name": "stderr",
     "output_type": "stream",
     "text": [
      " 92%|████████████████████████████████████████████████████████████████████▊      | 14710/16025 [2:13:12<14:44,  1.49it/s]"
     ]
    },
    {
     "name": "stdout",
     "output_type": "stream",
     "text": [
      "Redirected:  14710 https://www.domain.com.au/burwood-vic-3125-15989035\n"
     ]
    },
    {
     "name": "stderr",
     "output_type": "stream",
     "text": [
      " 92%|█████████████████████████████████████████████████████████████████████▏     | 14779/16025 [2:13:49<08:28,  2.45it/s]"
     ]
    },
    {
     "name": "stdout",
     "output_type": "stream",
     "text": [
      "Redirected:  14778 https://www.domain.com.au/1901-368-st-kilda-road-melbourne-vic-3000-15987815\n",
      "'props'\n"
     ]
    },
    {
     "name": "stderr",
     "output_type": "stream",
     "text": [
      " 92%|█████████████████████████████████████████████████████████████████████▏     | 14785/16025 [2:13:52<08:41,  2.38it/s]"
     ]
    },
    {
     "name": "stdout",
     "output_type": "stream",
     "text": [
      "Redirected:  14785 https://www.domain.com.au/9-susman-court-altona-meadows-vic-3028-15987606\n"
     ]
    },
    {
     "name": "stderr",
     "output_type": "stream",
     "text": [
      " 92%|█████████████████████████████████████████████████████████████████████▏     | 14789/16025 [2:13:54<09:37,  2.14it/s]"
     ]
    },
    {
     "name": "stdout",
     "output_type": "stream",
     "text": [
      "Redirected:  14789 https://www.domain.com.au/1-3-4-5-6-20-hemmings-street-dandenong-vic-3175-15987514\n"
     ]
    },
    {
     "name": "stderr",
     "output_type": "stream",
     "text": [
      " 92%|█████████████████████████████████████████████████████████████████████▏     | 14795/16025 [2:13:56<08:16,  2.48it/s]"
     ]
    },
    {
     "name": "stdout",
     "output_type": "stream",
     "text": [
      "Redirected:  14794 https://www.domain.com.au/20-23-king-edward-avenue-sunshine-vic-3020-15731113\n",
      "'props'\n"
     ]
    },
    {
     "name": "stderr",
     "output_type": "stream",
     "text": [
      " 92%|█████████████████████████████████████████████████████████████████████▎     | 14799/16025 [2:13:59<10:07,  2.02it/s]"
     ]
    },
    {
     "name": "stdout",
     "output_type": "stream",
     "text": [
      "Redirected:  14799 https://www.domain.com.au/balwyn-north-vic-3104-15987333\n"
     ]
    },
    {
     "name": "stderr",
     "output_type": "stream",
     "text": [
      " 92%|█████████████████████████████████████████████████████████████████████▎     | 14812/16025 [2:14:08<10:03,  2.01it/s]"
     ]
    },
    {
     "name": "stdout",
     "output_type": "stream",
     "text": [
      "Redirected:  14812 https://www.domain.com.au/36-cooloongatta-rd-camberwell-vic-3124-15987027\n"
     ]
    },
    {
     "name": "stderr",
     "output_type": "stream",
     "text": [
      " 93%|█████████████████████████████████████████████████████████████████████▍     | 14824/16025 [2:14:14<09:31,  2.10it/s]"
     ]
    },
    {
     "name": "stdout",
     "output_type": "stream",
     "text": [
      "Redirected:  14824 https://www.domain.com.au/3194-45-railway-avenue-oakleigh-vic-3166-15986822\n"
     ]
    },
    {
     "name": "stderr",
     "output_type": "stream",
     "text": [
      " 93%|█████████████████████████████████████████████████████████████████████▍     | 14830/16025 [2:14:17<10:38,  1.87it/s]"
     ]
    },
    {
     "name": "stdout",
     "output_type": "stream",
     "text": [
      "Redirected:  14830 https://www.domain.com.au/3-230-princes-hwy-beaconsfield-vic-3807-15986775\n"
     ]
    },
    {
     "name": "stderr",
     "output_type": "stream",
     "text": [
      " 93%|█████████████████████████████████████████████████████████████████████▍     | 14839/16025 [2:14:24<20:14,  1.02s/it]"
     ]
    },
    {
     "name": "stdout",
     "output_type": "stream",
     "text": [
      "'NoneType' object is not subscriptable\n"
     ]
    },
    {
     "name": "stderr",
     "output_type": "stream",
     "text": [
      " 93%|█████████████████████████████████████████████████████████████████████▌     | 14871/16025 [2:14:41<11:01,  1.75it/s]"
     ]
    },
    {
     "name": "stdout",
     "output_type": "stream",
     "text": [
      "Redirected:  14871 https://www.domain.com.au/3-49-tennyson-street-elwood-vic-3184-15985762\n"
     ]
    },
    {
     "name": "stderr",
     "output_type": "stream",
     "text": [
      " 93%|█████████████████████████████████████████████████████████████████████▋     | 14880/16025 [2:14:46<10:32,  1.81it/s]"
     ]
    },
    {
     "name": "stdout",
     "output_type": "stream",
     "text": [
      "Redirected:  14880 https://www.domain.com.au/2-66-banksia-street-heidelberg-vic-3084-15985525\n"
     ]
    },
    {
     "name": "stderr",
     "output_type": "stream",
     "text": [
      " 93%|█████████████████████████████████████████████████████████████████████▋     | 14902/16025 [2:14:59<13:38,  1.37it/s]"
     ]
    },
    {
     "name": "stdout",
     "output_type": "stream",
     "text": [
      "Redirected:  14902 https://www.domain.com.au/47a-madden-street-maidstone-vic-3012-15984780\n"
     ]
    },
    {
     "name": "stderr",
     "output_type": "stream",
     "text": [
      " 93%|██████████████████████████████████████████████████████████████████████     | 14979/16025 [2:15:47<16:59,  1.03it/s]"
     ]
    },
    {
     "name": "stdout",
     "output_type": "stream",
     "text": [
      "Redirected:  14979 https://www.domain.com.au/8-everlasting-terrace-armstrong-creek-vic-3217-15983183\n"
     ]
    },
    {
     "name": "stderr",
     "output_type": "stream",
     "text": [
      " 93%|██████████████████████████████████████████████████████████████████████     | 14983/16025 [2:15:50<11:11,  1.55it/s]"
     ]
    },
    {
     "name": "stdout",
     "output_type": "stream",
     "text": [
      "Redirected:  14983 https://www.domain.com.au/1804-327-la-trobe-st-melbourne-vic-3000-15113606\n"
     ]
    },
    {
     "name": "stderr",
     "output_type": "stream",
     "text": [
      " 94%|██████████████████████████████████████████████████████████████████████▏    | 14991/16025 [2:15:54<08:12,  2.10it/s]"
     ]
    },
    {
     "name": "stdout",
     "output_type": "stream",
     "text": [
      "Redirected:  14990 https://www.domain.com.au/unit-19-1-canberra-street-patterson-lakes-vic-3197-15938160\n",
      "'props'\n"
     ]
    },
    {
     "name": "stderr",
     "output_type": "stream",
     "text": [
      " 94%|██████████████████████████████████████████████████████████████████████▏    | 14999/16025 [2:15:58<08:05,  2.11it/s]"
     ]
    },
    {
     "name": "stdout",
     "output_type": "stream",
     "text": [
      "Redirected:  14999 https://www.domain.com.au/10-12-14-quinns-road-bentleigh-east-vic-3165-15937557\n"
     ]
    },
    {
     "name": "stderr",
     "output_type": "stream",
     "text": [
      " 94%|██████████████████████████████████████████████████████████████████████▎    | 15013/16025 [2:16:06<09:54,  1.70it/s]"
     ]
    },
    {
     "name": "stdout",
     "output_type": "stream",
     "text": [
      "Redirected:  15013 https://www.domain.com.au/40-watts-road-nyora-vic-3987-15936521\n"
     ]
    },
    {
     "name": "stderr",
     "output_type": "stream",
     "text": [
      " 94%|██████████████████████████████████████████████████████████████████████▍    | 15058/16025 [2:16:32<09:32,  1.69it/s]"
     ]
    },
    {
     "name": "stdout",
     "output_type": "stream",
     "text": [
      "Redirected:  15058 https://www.domain.com.au/8-62-foam-street-elwood-vic-3184-15934222\n"
     ]
    },
    {
     "name": "stderr",
     "output_type": "stream",
     "text": [
      " 94%|██████████████████████████████████████████████████████████████████████▌    | 15068/16025 [2:16:36<05:42,  2.80it/s]"
     ]
    },
    {
     "name": "stdout",
     "output_type": "stream",
     "text": [
      "Redirected:  15067 https://www.domain.com.au/12-eagle-avenue-kingsbury-vic-3083-15933699\n",
      "'props'\n"
     ]
    },
    {
     "name": "stderr",
     "output_type": "stream",
     "text": [
      " 94%|██████████████████████████████████████████████████████████████████████▋    | 15092/16025 [2:16:52<16:42,  1.07s/it]"
     ]
    },
    {
     "name": "stdout",
     "output_type": "stream",
     "text": [
      "Redirected:  15092 https://www.domain.com.au/room-8-125-arthur-street-bundoora-vic-3083-15932021\n"
     ]
    },
    {
     "name": "stderr",
     "output_type": "stream",
     "text": [
      " 94%|██████████████████████████████████████████████████████████████████████▋    | 15096/16025 [2:16:54<11:18,  1.37it/s]"
     ]
    },
    {
     "name": "stdout",
     "output_type": "stream",
     "text": [
      "Redirected:  15096 https://www.domain.com.au/88-strathmerton-street-reservoir-vic-3073-15931220\n"
     ]
    },
    {
     "name": "stderr",
     "output_type": "stream",
     "text": [
      " 94%|██████████████████████████████████████████████████████████████████████▋    | 15105/16025 [2:17:00<10:03,  1.52it/s]"
     ]
    },
    {
     "name": "stdout",
     "output_type": "stream",
     "text": [
      "Redirected:  15104 https://www.domain.com.au/1-13-latham-street-bentleigh-east-vic-3165-9893866\n",
      "'props'\n"
     ]
    },
    {
     "name": "stderr",
     "output_type": "stream",
     "text": [
      " 94%|██████████████████████████████████████████████████████████████████████▋    | 15112/16025 [2:17:03<06:37,  2.30it/s]"
     ]
    },
    {
     "name": "stdout",
     "output_type": "stream",
     "text": [
      "Redirected:  15112 https://www.domain.com.au/7-9-gordon-footscray-vic-3011-15929504\n"
     ]
    },
    {
     "name": "stderr",
     "output_type": "stream",
     "text": [
      " 95%|██████████████████████████████████████████████████████████████████████▉    | 15157/16025 [2:17:31<17:15,  1.19s/it]"
     ]
    },
    {
     "name": "stdout",
     "output_type": "stream",
     "text": [
      "Redirected:  15156 https://www.domain.com.au/1-anderson-parade-bundoora-vic-3083-15927099\n",
      "'props'\n"
     ]
    },
    {
     "name": "stderr",
     "output_type": "stream",
     "text": [
      " 95%|██████████████████████████████████████████████████████████████████████▉    | 15160/16025 [2:17:34<14:45,  1.02s/it]"
     ]
    },
    {
     "name": "stdout",
     "output_type": "stream",
     "text": [
      "'NoneType' object is not subscriptable\n"
     ]
    },
    {
     "name": "stderr",
     "output_type": "stream",
     "text": [
      " 95%|██████████████████████████████████████████████████████████████████████▉    | 15167/16025 [2:17:38<08:00,  1.78it/s]"
     ]
    },
    {
     "name": "stdout",
     "output_type": "stream",
     "text": [
      "Redirected:  15167 https://www.domain.com.au/8-daly-street-south-yarra-vic-3141-15926135\n"
     ]
    },
    {
     "name": "stderr",
     "output_type": "stream",
     "text": [
      " 95%|███████████████████████████████████████████████████████████████████████    | 15171/16025 [2:17:39<06:30,  2.19it/s]"
     ]
    },
    {
     "name": "stdout",
     "output_type": "stream",
     "text": [
      "Redirected:  15171 https://www.domain.com.au/469-riversdale-road-hawthorn-east-vic-3123-15925871\n"
     ]
    },
    {
     "name": "stderr",
     "output_type": "stream",
     "text": [
      " 95%|███████████████████████████████████████████████████████████████████████    | 15177/16025 [2:17:42<06:05,  2.32it/s]"
     ]
    },
    {
     "name": "stdout",
     "output_type": "stream",
     "text": [
      "Redirected:  15177 https://www.domain.com.au/12-6-westbury-st-st-kilda-east-vic-3183-15925389\n"
     ]
    },
    {
     "name": "stderr",
     "output_type": "stream",
     "text": [
      " 95%|███████████████████████████████████████████████████████████████████████    | 15182/16025 [2:17:45<06:54,  2.03it/s]"
     ]
    },
    {
     "name": "stdout",
     "output_type": "stream",
     "text": [
      "Redirected:  15181 https://www.domain.com.au/6-39-martin-street-thornbury-vic-3071-10590726\n",
      "'props'\n"
     ]
    },
    {
     "name": "stderr",
     "output_type": "stream",
     "text": [
      " 95%|███████████████████████████████████████████████████████████████████████▏   | 15208/16025 [2:18:00<11:08,  1.22it/s]"
     ]
    },
    {
     "name": "stdout",
     "output_type": "stream",
     "text": [
      "Redirected:  15208 https://www.domain.com.au/42-hunter-street-richmond-richmond-vic-3121-15922605\n"
     ]
    },
    {
     "name": "stderr",
     "output_type": "stream",
     "text": [
      "\r\n",
      " 95%|███████████████████████████████████████████████████████████████████████▏   | 15209/16025 [2:18:01<14:10,  1.04s/it]"
     ]
    },
    {
     "name": "stdout",
     "output_type": "stream",
     "text": [
      "Redirected:  15209 https://www.domain.com.au/68-171-flemington-road-north-melbourne-vic-3051-15922594\n"
     ]
    },
    {
     "name": "stderr",
     "output_type": "stream",
     "text": [
      " 95%|███████████████████████████████████████████████████████████████████████▏   | 15211/16025 [2:18:02<10:16,  1.32it/s]"
     ]
    },
    {
     "name": "stdout",
     "output_type": "stream",
     "text": [
      "Redirected:  15211 https://www.domain.com.au/210-60-kavanagh-street-southbank-vic-3006-15922561\n"
     ]
    },
    {
     "name": "stderr",
     "output_type": "stream",
     "text": [
      " 95%|███████████████████████████████████████████████████████████████████████▎   | 15228/16025 [2:18:10<05:45,  2.30it/s]"
     ]
    },
    {
     "name": "stdout",
     "output_type": "stream",
     "text": [
      "Redirected:  15228 https://www.domain.com.au/5-167-169-oshanassy-street-sunbury-vic-3429-15921480\n"
     ]
    },
    {
     "name": "stderr",
     "output_type": "stream",
     "text": [
      " 95%|███████████████████████████████████████████████████████████████████████▎   | 15235/16025 [2:18:14<07:16,  1.81it/s]"
     ]
    },
    {
     "name": "stdout",
     "output_type": "stream",
     "text": [
      "Redirected:  15235 https://www.domain.com.au/47-frederick-street-caulfield-north-vic-3161-15921064\n"
     ]
    },
    {
     "name": "stderr",
     "output_type": "stream",
     "text": [
      "\r\n",
      " 95%|███████████████████████████████████████████████████████████████████████▎   | 15236/16025 [2:18:15<07:30,  1.75it/s]"
     ]
    },
    {
     "name": "stdout",
     "output_type": "stream",
     "text": [
      "Redirected:  15236 https://www.domain.com.au/33-roberts-avenue-mulgrave-vic-3170-15920980\n"
     ]
    },
    {
     "name": "stderr",
     "output_type": "stream",
     "text": [
      " 95%|███████████████████████████████████████████████████████████████████████▎   | 15240/16025 [2:18:19<15:15,  1.17s/it]"
     ]
    },
    {
     "name": "stdout",
     "output_type": "stream",
     "text": [
      "Redirected:  15240 https://www.domain.com.au/201-22-nicholson-street-fitzroy-north-vic-3068-13065176\n"
     ]
    },
    {
     "name": "stderr",
     "output_type": "stream",
     "text": [
      " 95%|███████████████████████████████████████████████████████████████████████▎   | 15244/16025 [2:18:22<08:34,  1.52it/s]"
     ]
    },
    {
     "name": "stdout",
     "output_type": "stream",
     "text": [
      "Redirected:  15244 https://www.domain.com.au/9-151-hall-road-carrum-downs-vic-3201-15920493\n"
     ]
    },
    {
     "name": "stderr",
     "output_type": "stream",
     "text": [
      " 95%|███████████████████████████████████████████████████████████████████████▍   | 15262/16025 [2:18:31<05:48,  2.19it/s]"
     ]
    },
    {
     "name": "stdout",
     "output_type": "stream",
     "text": [
      "Redirected:  15262 https://www.domain.com.au/moonee-ponds-vic-3039-15919119\n"
     ]
    },
    {
     "name": "stderr",
     "output_type": "stream",
     "text": [
      " 95%|███████████████████████████████████████████████████████████████████████▌   | 15303/16025 [2:18:52<05:21,  2.24it/s]"
     ]
    },
    {
     "name": "stdout",
     "output_type": "stream",
     "text": [
      "Redirected:  15303 https://www.domain.com.au/2-3-and-4-5-hillview-drive-carrum-downs-vic-3201-15915118\n"
     ]
    },
    {
     "name": "stderr",
     "output_type": "stream",
     "text": [
      " 96%|███████████████████████████████████████████████████████████████████████▋   | 15321/16025 [2:19:02<05:42,  2.06it/s]"
     ]
    },
    {
     "name": "stdout",
     "output_type": "stream",
     "text": [
      "Redirected:  15321 https://www.domain.com.au/830a-high-street-prahran-vic-3181-15914247\n"
     ]
    },
    {
     "name": "stderr",
     "output_type": "stream",
     "text": [
      " 96%|███████████████████████████████████████████████████████████████████████▊   | 15333/16025 [2:19:09<08:08,  1.42it/s]"
     ]
    },
    {
     "name": "stdout",
     "output_type": "stream",
     "text": [
      "Redirected:  15333 https://www.domain.com.au/16-1-kooyong-road-armadale-road-armadale-vic-3143-15913121\n"
     ]
    },
    {
     "name": "stderr",
     "output_type": "stream",
     "text": [
      " 96%|███████████████████████████████████████████████████████████████████████▊   | 15347/16025 [2:19:16<05:45,  1.96it/s]"
     ]
    },
    {
     "name": "stdout",
     "output_type": "stream",
     "text": [
      "Redirected:  15347 https://www.domain.com.au/7-33-osborne-avenue-malvern-vic-3144-15911408\n"
     ]
    },
    {
     "name": "stderr",
     "output_type": "stream",
     "text": [
      " 96%|███████████████████████████████████████████████████████████████████████▉   | 15367/16025 [2:19:29<07:38,  1.44it/s]"
     ]
    },
    {
     "name": "stdout",
     "output_type": "stream",
     "text": [
      "Redirected:  15367 https://www.domain.com.au/54-54-betula-terrace-sunbury-vic-3429-15910254\n"
     ]
    },
    {
     "name": "stderr",
     "output_type": "stream",
     "text": [
      " 96%|███████████████████████████████████████████████████████████████████████▉   | 15369/16025 [2:19:30<06:04,  1.80it/s]"
     ]
    },
    {
     "name": "stdout",
     "output_type": "stream",
     "text": [
      "Redirected:  15369 https://www.domain.com.au/hampton-vic-3188-15910160\n"
     ]
    },
    {
     "name": "stderr",
     "output_type": "stream",
     "text": [
      " 96%|████████████████████████████████████████████████████████████████████████   | 15392/16025 [2:19:44<05:04,  2.08it/s]"
     ]
    },
    {
     "name": "stdout",
     "output_type": "stream",
     "text": [
      "Redirected:  15392 https://www.domain.com.au/1006f-138-ferrars-street-south-melbourne-vic-3205-15429644\n"
     ]
    },
    {
     "name": "stderr",
     "output_type": "stream",
     "text": [
      " 96%|████████████████████████████████████████████████████████████████████████   | 15405/16025 [2:19:51<06:05,  1.69it/s]"
     ]
    },
    {
     "name": "stdout",
     "output_type": "stream",
     "text": [
      "Redirected:  15405 https://www.domain.com.au/8-to-11-harvest-home-road-wollert-vic-3750-15906803\n"
     ]
    },
    {
     "name": "stderr",
     "output_type": "stream",
     "text": [
      " 96%|████████████████████████████████████████████████████████████████████████▏  | 15421/16025 [2:20:03<05:56,  1.69it/s]"
     ]
    },
    {
     "name": "stdout",
     "output_type": "stream",
     "text": [
      "Redirected:  15420 https://www.domain.com.au/80a-royal-terrace-craigieburn-vic-3064-15904858\n",
      "'listingSummary'\n"
     ]
    },
    {
     "name": "stderr",
     "output_type": "stream",
     "text": [
      " 96%|████████████████████████████████████████████████████████████████████████▏  | 15428/16025 [2:20:07<06:10,  1.61it/s]"
     ]
    },
    {
     "name": "stdout",
     "output_type": "stream",
     "text": [
      "Redirected:  15428 https://www.domain.com.au/227-elgar-road-surrey-hills-vic-3127-15904203\n"
     ]
    },
    {
     "name": "stderr",
     "output_type": "stream",
     "text": [
      " 96%|████████████████████████████████████████████████████████████████████████▎  | 15440/16025 [2:20:15<06:56,  1.41it/s]"
     ]
    },
    {
     "name": "stdout",
     "output_type": "stream",
     "text": [
      "Redirected:  15439 https://www.domain.com.au/2108b-100-harbour-esplanade-docklands-vic-3008-15902958\n",
      "'props'\n"
     ]
    },
    {
     "name": "stderr",
     "output_type": "stream",
     "text": [
      " 97%|████████████████████████████████████████████████████████████████████████▋  | 15526/16025 [2:21:04<03:59,  2.08it/s]"
     ]
    },
    {
     "name": "stdout",
     "output_type": "stream",
     "text": [
      "Redirected:  15526 https://www.domain.com.au/8-103-stanhope-street-west-footscray-vic-3012-15842636\n"
     ]
    },
    {
     "name": "stderr",
     "output_type": "stream",
     "text": [
      " 97%|████████████████████████████████████████████████████████████████████████▋  | 15534/16025 [2:21:08<04:18,  1.90it/s]"
     ]
    },
    {
     "name": "stdout",
     "output_type": "stream",
     "text": [
      "Redirected:  15534 https://www.domain.com.au/craigieburn-vic-3064-15622567\n"
     ]
    },
    {
     "name": "stderr",
     "output_type": "stream",
     "text": [
      " 97%|████████████████████████████████████████████████████████████████████████▋  | 15539/16025 [2:21:11<03:58,  2.03it/s]"
     ]
    },
    {
     "name": "stdout",
     "output_type": "stream",
     "text": [
      "Redirected:  15539 https://www.domain.com.au/6-myrnong-crescent-ascot-vale-vic-3032-15839587\n"
     ]
    },
    {
     "name": "stderr",
     "output_type": "stream",
     "text": [
      " 97%|████████████████████████████████████████████████████████████████████████▊  | 15545/16025 [2:21:13<03:22,  2.37it/s]"
     ]
    },
    {
     "name": "stdout",
     "output_type": "stream",
     "text": [
      "Redirected:  15544 https://www.domain.com.au/7-alfred-street-balaclava-vic-3183-15386833\n",
      "'props'\n",
      "Redirected:  15545 https://www.domain.com.au/1c-96-grey-street-st-kilda-vic-3182-15230100\n"
     ]
    },
    {
     "name": "stderr",
     "output_type": "stream",
     "text": [
      "\r\n",
      " 97%|████████████████████████████████████████████████████████████████████████▊  | 15546/16025 [2:21:15<05:49,  1.37it/s]"
     ]
    },
    {
     "name": "stdout",
     "output_type": "stream",
     "text": [
      "'listingSummary'\n"
     ]
    },
    {
     "name": "stderr",
     "output_type": "stream",
     "text": [
      " 97%|████████████████████████████████████████████████████████████████████████▊  | 15557/16025 [2:21:22<04:15,  1.83it/s]"
     ]
    },
    {
     "name": "stdout",
     "output_type": "stream",
     "text": [
      "Redirected:  15557 https://www.domain.com.au/9-14-a-beckett-street-prahran-vic-3181-15834798\n"
     ]
    },
    {
     "name": "stderr",
     "output_type": "stream",
     "text": [
      " 97%|████████████████████████████████████████████████████████████████████████▊  | 15562/16025 [2:21:25<03:42,  2.08it/s]"
     ]
    },
    {
     "name": "stdout",
     "output_type": "stream",
     "text": [
      "Redirected:  15562 https://www.domain.com.au/2-60-trafalgar-ave-altona-meadows-vic-3028-15833832\n"
     ]
    },
    {
     "name": "stderr",
     "output_type": "stream",
     "text": [
      " 97%|████████████████████████████████████████████████████████████████████████▊  | 15570/16025 [2:21:29<03:32,  2.14it/s]"
     ]
    },
    {
     "name": "stdout",
     "output_type": "stream",
     "text": [
      "Redirected:  15570 https://www.domain.com.au/504-18-russell-place-melbourne-vic-3000-15831769\n"
     ]
    },
    {
     "name": "stderr",
     "output_type": "stream",
     "text": [
      " 97%|████████████████████████████████████████████████████████████████████████▉  | 15578/16025 [2:21:33<04:18,  1.73it/s]"
     ]
    },
    {
     "name": "stdout",
     "output_type": "stream",
     "text": [
      "Redirected:  15578 https://www.domain.com.au/4-tannery-walk-footscray-vic-3011-15829820\n"
     ]
    },
    {
     "name": "stderr",
     "output_type": "stream",
     "text": [
      " 97%|████████████████████████████████████████████████████████████████████████▉  | 15580/16025 [2:21:34<04:09,  1.79it/s]"
     ]
    },
    {
     "name": "stdout",
     "output_type": "stream",
     "text": [
      "Redirected:  15580 https://www.domain.com.au/g05-150-dudley-st-west-melbourne-vic-3003-15829775\n"
     ]
    },
    {
     "name": "stderr",
     "output_type": "stream",
     "text": [
      "\r\n",
      " 97%|████████████████████████████████████████████████████████████████████████▉  | 15581/16025 [2:21:34<04:08,  1.79it/s]"
     ]
    },
    {
     "name": "stdout",
     "output_type": "stream",
     "text": [
      "Redirected:  15581 https://www.domain.com.au/g07-150-dudley-st-west-melbourne-vic-3003-15829689\n"
     ]
    },
    {
     "name": "stderr",
     "output_type": "stream",
     "text": [
      "\r\n",
      " 97%|████████████████████████████████████████████████████████████████████████▉  | 15582/16025 [2:21:35<03:59,  1.85it/s]"
     ]
    },
    {
     "name": "stdout",
     "output_type": "stream",
     "text": [
      "Redirected:  15582 https://www.domain.com.au/37-wotonga-drive-horsham-vic-3400-15829544\n"
     ]
    },
    {
     "name": "stderr",
     "output_type": "stream",
     "text": [
      "\r\n",
      " 97%|████████████████████████████████████████████████████████████████████████▉  | 15583/16025 [2:21:36<03:59,  1.84it/s]"
     ]
    },
    {
     "name": "stdout",
     "output_type": "stream",
     "text": [
      "Redirected:  15583 https://www.domain.com.au/1-hallenstein-street-footscray-vic-3011-15829355\n"
     ]
    },
    {
     "name": "stderr",
     "output_type": "stream",
     "text": [
      " 97%|████████████████████████████████████████████████████████████████████████▉  | 15587/16025 [2:21:38<03:45,  1.94it/s]"
     ]
    },
    {
     "name": "stdout",
     "output_type": "stream",
     "text": [
      "Redirected:  15587 https://www.domain.com.au/3-253-darebin-road-thornbury-vic-3071-15828844\n"
     ]
    },
    {
     "name": "stderr",
     "output_type": "stream",
     "text": [
      "\r\n",
      " 97%|████████████████████████████████████████████████████████████████████████▉  | 15588/16025 [2:21:38<03:58,  1.83it/s]"
     ]
    },
    {
     "name": "stdout",
     "output_type": "stream",
     "text": [
      "Redirected:  15588 https://www.domain.com.au/20-road-carrum-downs-vic-3201-15828739\n"
     ]
    },
    {
     "name": "stderr",
     "output_type": "stream",
     "text": [
      " 98%|█████████████████████████████████████████████████████████████████████████▏ | 15627/16025 [2:21:59<03:41,  1.80it/s]"
     ]
    },
    {
     "name": "stdout",
     "output_type": "stream",
     "text": [
      "Redirected:  15627 https://www.domain.com.au/1-106-asbury-street-west-ocean-grove-vic-3226-15819815\n"
     ]
    },
    {
     "name": "stderr",
     "output_type": "stream",
     "text": [
      " 98%|█████████████████████████████████████████████████████████████████████████▏ | 15631/16025 [2:22:03<06:09,  1.07it/s]"
     ]
    },
    {
     "name": "stdout",
     "output_type": "stream",
     "text": [
      "Redirected:  15631 https://www.domain.com.au/8-marong-terrace-forest-hill-vic-3131-15816213\n"
     ]
    },
    {
     "name": "stderr",
     "output_type": "stream",
     "text": [
      " 98%|█████████████████████████████████████████████████████████████████████████▏ | 15634/16025 [2:22:05<04:14,  1.54it/s]"
     ]
    },
    {
     "name": "stdout",
     "output_type": "stream",
     "text": [
      "Redirected:  15634 https://www.domain.com.au/203-528-swanston-street-carlton-vic-3053-14399584\n"
     ]
    },
    {
     "name": "stderr",
     "output_type": "stream",
     "text": [
      " 98%|█████████████████████████████████████████████████████████████████████████▏ | 15644/16025 [2:22:11<03:51,  1.64it/s]"
     ]
    },
    {
     "name": "stdout",
     "output_type": "stream",
     "text": [
      "'NoneType' object is not subscriptable\n"
     ]
    },
    {
     "name": "stderr",
     "output_type": "stream",
     "text": [
      " 98%|█████████████████████████████████████████████████████████████████████████▏ | 15648/16025 [2:22:13<03:28,  1.81it/s]"
     ]
    },
    {
     "name": "stdout",
     "output_type": "stream",
     "text": [
      "Redirected:  15648 https://www.domain.com.au/brighton-east-vic-3187-15813396\n"
     ]
    },
    {
     "name": "stderr",
     "output_type": "stream",
     "text": [
      "\r\n",
      " 98%|█████████████████████████████████████████████████████████████████████████▏ | 15649/16025 [2:22:14<03:35,  1.75it/s]"
     ]
    },
    {
     "name": "stdout",
     "output_type": "stream",
     "text": [
      "Redirected:  15649 https://www.domain.com.au/203-205-waiora-road-heidelberg-heights-vic-3081-15813368\n"
     ]
    },
    {
     "name": "stderr",
     "output_type": "stream",
     "text": [
      " 98%|█████████████████████████████████████████████████████████████████████████▎ | 15656/16025 [2:22:20<03:47,  1.62it/s]"
     ]
    },
    {
     "name": "stdout",
     "output_type": "stream",
     "text": [
      "Redirected:  15656 https://www.domain.com.au/307e-16-moreland-street-footscray-vic-3011-15811849\n"
     ]
    },
    {
     "name": "stderr",
     "output_type": "stream",
     "text": [
      " 98%|█████████████████████████████████████████████████████████████████████████▎ | 15665/16025 [2:22:24<02:11,  2.73it/s]"
     ]
    },
    {
     "name": "stdout",
     "output_type": "stream",
     "text": [
      "Redirected:  15664 https://www.domain.com.au/21-iona-avenue-toorak-vic-3142-15808965\n",
      "'props'\n"
     ]
    },
    {
     "name": "stderr",
     "output_type": "stream",
     "text": [
      " 98%|█████████████████████████████████████████████████████████████████████████▎ | 15676/16025 [2:22:29<03:14,  1.79it/s]"
     ]
    },
    {
     "name": "stdout",
     "output_type": "stream",
     "text": [
      "Redirected:  15676 https://www.domain.com.au/9-608-bell-street-preston-vic-3072-15805725\n"
     ]
    },
    {
     "name": "stderr",
     "output_type": "stream",
     "text": [
      "\r\n",
      " 98%|█████████████████████████████████████████████████████████████████████████▎ | 15677/16025 [2:22:30<03:45,  1.54it/s]"
     ]
    },
    {
     "name": "stdout",
     "output_type": "stream",
     "text": [
      "Redirected:  15677 https://www.domain.com.au/townhouse-5-597-burke-rd-camberwell-vic-3124-15804619\n"
     ]
    },
    {
     "name": "stderr",
     "output_type": "stream",
     "text": [
      " 98%|█████████████████████████████████████████████████████████████████████████▍ | 15680/16025 [2:22:32<02:57,  1.95it/s]"
     ]
    },
    {
     "name": "stdout",
     "output_type": "stream",
     "text": [
      "Redirected:  15680 https://www.domain.com.au/barwon-heads-vic-3227-15804294\n"
     ]
    },
    {
     "name": "stderr",
     "output_type": "stream",
     "text": [
      " 98%|█████████████████████████████████████████████████████████████████████████▍ | 15700/16025 [2:22:43<02:43,  1.99it/s]"
     ]
    },
    {
     "name": "stdout",
     "output_type": "stream",
     "text": [
      "Redirected:  15700 https://www.domain.com.au/4-13-hopetoun-street-dandenong-vic-3175-15798591\n"
     ]
    },
    {
     "name": "stderr",
     "output_type": "stream",
     "text": [
      " 98%|█████████████████████████████████████████████████████████████████████████▌ | 15708/16025 [2:22:47<01:58,  2.68it/s]"
     ]
    },
    {
     "name": "stdout",
     "output_type": "stream",
     "text": [
      "Redirected:  15707 https://www.domain.com.au/1-30-chippewa-avenue-donvale-vic-3111-12965374\n",
      "'props'\n"
     ]
    },
    {
     "name": "stderr",
     "output_type": "stream",
     "text": [
      " 98%|█████████████████████████████████████████████████████████████████████████▌ | 15729/16025 [2:22:59<03:24,  1.44it/s]"
     ]
    },
    {
     "name": "stdout",
     "output_type": "stream",
     "text": [
      "Redirected:  15729 https://www.domain.com.au/3-5-morris-court-dandenong-north-vic-3175-15787735\n"
     ]
    },
    {
     "name": "stderr",
     "output_type": "stream",
     "text": [
      " 98%|█████████████████████████████████████████████████████████████████████████▋ | 15744/16025 [2:23:08<03:10,  1.47it/s]"
     ]
    },
    {
     "name": "stdout",
     "output_type": "stream",
     "text": [
      "Redirected:  15744 https://www.domain.com.au/7-243-flemington-road-north-melbourne-vic-3051-15783896\n"
     ]
    },
    {
     "name": "stderr",
     "output_type": "stream",
     "text": [
      " 98%|█████████████████████████████████████████████████████████████████████████▋ | 15756/16025 [2:23:18<03:09,  1.42it/s]"
     ]
    },
    {
     "name": "stdout",
     "output_type": "stream",
     "text": [
      "Redirected:  15756 https://www.domain.com.au/101-118-pier-street-altona-vic-3018-15778075\n"
     ]
    },
    {
     "name": "stderr",
     "output_type": "stream",
     "text": [
      " 98%|█████████████████████████████████████████████████████████████████████████▊ | 15762/16025 [2:23:21<01:56,  2.25it/s]"
     ]
    },
    {
     "name": "stdout",
     "output_type": "stream",
     "text": [
      "Redirected:  15762 https://www.domain.com.au/1906-12-queens-road-melbourne-vic-3004-15776880\n"
     ]
    },
    {
     "name": "stderr",
     "output_type": "stream",
     "text": [
      " 98%|█████████████████████████████████████████████████████████████████████████▊ | 15764/16025 [2:23:22<01:59,  2.18it/s]"
     ]
    },
    {
     "name": "stdout",
     "output_type": "stream",
     "text": [
      "Redirected:  15764 https://www.domain.com.au/1201e-6-tannery-walk-footscray-vic-3011-15775198\n"
     ]
    },
    {
     "name": "stderr",
     "output_type": "stream",
     "text": [
      " 98%|█████████████████████████████████████████████████████████████████████████▊ | 15770/16025 [2:23:25<02:12,  1.92it/s]"
     ]
    },
    {
     "name": "stdout",
     "output_type": "stream",
     "text": [
      "Redirected:  15770 https://www.domain.com.au/2-myora-court-chadstone-vic-3148-15647832\n"
     ]
    },
    {
     "name": "stderr",
     "output_type": "stream",
     "text": [
      " 98%|█████████████████████████████████████████████████████████████████████████▊ | 15776/16025 [2:23:29<02:59,  1.38it/s]"
     ]
    },
    {
     "name": "stdout",
     "output_type": "stream",
     "text": [
      "Redirected:  15776 https://www.domain.com.au/level-4-143-high-street-preston-vic-3072-15767907\n"
     ]
    },
    {
     "name": "stderr",
     "output_type": "stream",
     "text": [
      " 98%|█████████████████████████████████████████████████████████████████████████▊ | 15778/16025 [2:23:30<02:28,  1.66it/s]"
     ]
    },
    {
     "name": "stdout",
     "output_type": "stream",
     "text": [
      "Redirected:  15778 https://www.domain.com.au/kew-vic-3101-15766536\n"
     ]
    },
    {
     "name": "stderr",
     "output_type": "stream",
     "text": [
      "\r\n",
      " 98%|█████████████████████████████████████████████████████████████████████████▊ | 15779/16025 [2:23:31<02:48,  1.46it/s]"
     ]
    },
    {
     "name": "stdout",
     "output_type": "stream",
     "text": [
      "Redirected:  15779 https://www.domain.com.au/2-637-malvern-rd-toorak-vic-3142-15766201\n"
     ]
    },
    {
     "name": "stderr",
     "output_type": "stream",
     "text": [
      " 99%|█████████████████████████████████████████████████████████████████████████▉ | 15787/16025 [2:23:34<01:49,  2.18it/s]"
     ]
    },
    {
     "name": "stdout",
     "output_type": "stream",
     "text": [
      "Redirected:  15787 https://www.domain.com.au/shed-1-116-pasley-st-bundalong-south-vic-3730-15763229\n"
     ]
    },
    {
     "name": "stderr",
     "output_type": "stream",
     "text": [
      " 99%|█████████████████████████████████████████████████████████████████████████▉ | 15792/16025 [2:23:37<01:56,  2.00it/s]"
     ]
    },
    {
     "name": "stdout",
     "output_type": "stream",
     "text": [
      "Redirected:  15792 https://www.domain.com.au/ssc-22-protea-street-carrum-downs-vic-3201-15760960\n"
     ]
    },
    {
     "name": "stderr",
     "output_type": "stream",
     "text": [
      " 99%|█████████████████████████████████████████████████████████████████████████▉ | 15798/16025 [2:23:40<02:00,  1.89it/s]"
     ]
    },
    {
     "name": "stdout",
     "output_type": "stream",
     "text": [
      "Redirected:  15798 https://www.domain.com.au/7-36-nepean-avenue-hampton-east-vic-3188-15757092\n"
     ]
    },
    {
     "name": "stderr",
     "output_type": "stream",
     "text": [
      " 99%|█████████████████████████████████████████████████████████████████████████▉ | 15800/16025 [2:23:41<01:56,  1.93it/s]"
     ]
    },
    {
     "name": "stdout",
     "output_type": "stream",
     "text": [
      "Redirected:  15800 https://www.domain.com.au/6-148-melville-road-pascoe-vale-south-vic-3044-12848096\n"
     ]
    },
    {
     "name": "stderr",
     "output_type": "stream",
     "text": [
      " 99%|██████████████████████████████████████████████████████████████████████████ | 15812/16025 [2:23:49<01:51,  1.91it/s]"
     ]
    },
    {
     "name": "stdout",
     "output_type": "stream",
     "text": [
      "Redirected:  15812 https://www.domain.com.au/3-4-7-13-2-2-4-irwin-street-clayton-vic-3168-15748890\n"
     ]
    },
    {
     "name": "stderr",
     "output_type": "stream",
     "text": [
      " 99%|██████████████████████████████████████████████████████████████████████████▏| 15842/16025 [2:24:07<01:44,  1.75it/s]"
     ]
    },
    {
     "name": "stdout",
     "output_type": "stream",
     "text": [
      "Redirected:  15842 https://www.domain.com.au/x02-560-flinders-street-melbourne-vic-3000-15732108\n"
     ]
    },
    {
     "name": "stderr",
     "output_type": "stream",
     "text": [
      " 99%|██████████████████████████████████████████████████████████████████████████▏| 15848/16025 [2:24:10<01:28,  1.99it/s]"
     ]
    },
    {
     "name": "stdout",
     "output_type": "stream",
     "text": [
      "Redirected:  15848 https://www.domain.com.au/7-31-erskine-street-frankston-vic-3199-15728834\n"
     ]
    },
    {
     "name": "stderr",
     "output_type": "stream",
     "text": [
      " 99%|██████████████████████████████████████████████████████████████████████████▏| 15851/16025 [2:24:12<01:35,  1.82it/s]"
     ]
    },
    {
     "name": "stdout",
     "output_type": "stream",
     "text": [
      "Redirected:  15851 https://www.domain.com.au/2-29-browns-road-clayton-vic-3168-15726310\n"
     ]
    },
    {
     "name": "stderr",
     "output_type": "stream",
     "text": [
      "\r\n",
      " 99%|██████████████████████████████████████████████████████████████████████████▏| 15852/16025 [2:24:12<01:44,  1.65it/s]"
     ]
    },
    {
     "name": "stdout",
     "output_type": "stream",
     "text": [
      "Redirected:  15852 https://www.domain.com.au/1-29-browns-road-clayton-vic-3168-15726278\n"
     ]
    },
    {
     "name": "stderr",
     "output_type": "stream",
     "text": [
      " 99%|██████████████████████████████████████████████████████████████████████████▏| 15854/16025 [2:24:14<02:04,  1.37it/s]"
     ]
    },
    {
     "name": "stdout",
     "output_type": "stream",
     "text": [
      "Redirected:  15854 https://www.domain.com.au/29-browns-road-clayton-vic-3168-15725907\n"
     ]
    },
    {
     "name": "stderr",
     "output_type": "stream",
     "text": [
      " 99%|██████████████████████████████████████████████████████████████████████████▏| 15863/16025 [2:24:19<01:19,  2.04it/s]"
     ]
    },
    {
     "name": "stdout",
     "output_type": "stream",
     "text": [
      "Redirected:  15863 https://www.domain.com.au/2-112-merrijig-drive-torquay-vic-3228-15721074\n"
     ]
    },
    {
     "name": "stderr",
     "output_type": "stream",
     "text": [
      "\r\n",
      " 99%|██████████████████████████████████████████████████████████████████████████▏| 15864/16025 [2:24:19<01:18,  2.05it/s]"
     ]
    },
    {
     "name": "stdout",
     "output_type": "stream",
     "text": [
      "Redirected:  15864 https://www.domain.com.au/19-850-pascoe-vale-rd-glenroy-vic-3046-15719964\n"
     ]
    },
    {
     "name": "stderr",
     "output_type": "stream",
     "text": [
      "\r\n",
      " 99%|██████████████████████████████████████████████████████████████████████████▎| 15865/16025 [2:24:20<01:26,  1.84it/s]"
     ]
    },
    {
     "name": "stdout",
     "output_type": "stream",
     "text": [
      "Redirected:  15865 https://www.domain.com.au/1-52-langton-street-glenroy-vic-3046-15719961\n"
     ]
    },
    {
     "name": "stderr",
     "output_type": "stream",
     "text": [
      "\r\n",
      " 99%|██████████████████████████████████████████████████████████████████████████▎| 15866/16025 [2:24:21<01:24,  1.89it/s]"
     ]
    },
    {
     "name": "stdout",
     "output_type": "stream",
     "text": [
      "Redirected:  15866 https://www.domain.com.au/119-view-street-glenroy-vic-3046-15719955\n"
     ]
    },
    {
     "name": "stderr",
     "output_type": "stream",
     "text": [
      "\r\n",
      " 99%|██████████████████████████████████████████████████████████████████████████▎| 15867/16025 [2:24:21<01:20,  1.97it/s]"
     ]
    },
    {
     "name": "stdout",
     "output_type": "stream",
     "text": [
      "Redirected:  15867 https://www.domain.com.au/3-wilby-court-broadmeadows-vic-3047-15719952\n"
     ]
    },
    {
     "name": "stderr",
     "output_type": "stream",
     "text": [
      " 99%|██████████████████████████████████████████████████████████████████████████▎| 15871/16025 [2:24:23<01:08,  2.25it/s]"
     ]
    },
    {
     "name": "stdout",
     "output_type": "stream",
     "text": [
      "Redirected:  15871 https://www.domain.com.au/9-william-oakleigh-vic-3166-15647934\n"
     ]
    },
    {
     "name": "stderr",
     "output_type": "stream",
     "text": [
      " 99%|██████████████████████████████████████████████████████████████████████████▎| 15890/16025 [2:24:33<01:34,  1.43it/s]"
     ]
    },
    {
     "name": "stdout",
     "output_type": "stream",
     "text": [
      "Redirected:  15890 https://www.domain.com.au/9-william-oakleigh-vic-3166-15647934\n"
     ]
    },
    {
     "name": "stderr",
     "output_type": "stream",
     "text": [
      " 99%|██████████████████████████████████████████████████████████████████████████▍| 15899/16025 [2:24:40<01:44,  1.21it/s]"
     ]
    },
    {
     "name": "stdout",
     "output_type": "stream",
     "text": [
      "Redirected:  15899 https://www.domain.com.au/14-70-canterbury-rd-toorak-vic-3142-15632839\n"
     ]
    },
    {
     "name": "stderr",
     "output_type": "stream",
     "text": [
      " 99%|██████████████████████████████████████████████████████████████████████████▍| 15902/16025 [2:24:42<01:22,  1.48it/s]"
     ]
    },
    {
     "name": "stdout",
     "output_type": "stream",
     "text": [
      "Redirected:  15902 https://www.domain.com.au/1203-57-city-rd-southbank-vic-3006-15631603\n"
     ]
    },
    {
     "name": "stderr",
     "output_type": "stream",
     "text": [
      "\r\n",
      " 99%|██████████████████████████████████████████████████████████████████████████▍| 15903/16025 [2:24:43<01:32,  1.31it/s]"
     ]
    },
    {
     "name": "stdout",
     "output_type": "stream",
     "text": [
      "Redirected:  15903 https://www.domain.com.au/2803-63-haig-st-southbank-vic-3006-15631602\n"
     ]
    },
    {
     "name": "stderr",
     "output_type": "stream",
     "text": [
      "\r\n",
      " 99%|██████████████████████████████████████████████████████████████████████████▍| 15904/16025 [2:24:44<01:33,  1.30it/s]"
     ]
    },
    {
     "name": "stdout",
     "output_type": "stream",
     "text": [
      "Redirected:  15904 https://www.domain.com.au/2702-89-gladstone-st-south-melbourne-vic-3205-15631589\n"
     ]
    },
    {
     "name": "stderr",
     "output_type": "stream",
     "text": [
      " 99%|██████████████████████████████████████████████████████████████████████████▍| 15909/16025 [2:24:46<01:01,  1.88it/s]"
     ]
    },
    {
     "name": "stdout",
     "output_type": "stream",
     "text": [
      "Redirected:  15909 https://www.domain.com.au/1008-77-89-a-beckett-southbank-vic-3006-15622026\n"
     ]
    },
    {
     "name": "stderr",
     "output_type": "stream",
     "text": [
      "\r\n",
      " 99%|██████████████████████████████████████████████████████████████████████████▍| 15910/16025 [2:24:48<01:46,  1.08it/s]"
     ]
    },
    {
     "name": "stdout",
     "output_type": "stream",
     "text": [
      "Redirected:  15910 https://www.domain.com.au/8-2b-hawsleigh-ave-balaclava-vic-3183-15619644\n"
     ]
    },
    {
     "name": "stderr",
     "output_type": "stream",
     "text": [
      " 99%|██████████████████████████████████████████████████████████████████████████▌| 15938/16025 [2:25:06<01:12,  1.20it/s]"
     ]
    },
    {
     "name": "stdout",
     "output_type": "stream",
     "text": [
      "Redirected:  15938 https://www.domain.com.au/room-1-5-35-bradshaw-street-kingsbury-vic-3083-15478269\n"
     ]
    },
    {
     "name": "stderr",
     "output_type": "stream",
     "text": [
      " 99%|██████████████████████████████████████████████████████████████████████████▌| 15941/16025 [2:25:08<01:03,  1.33it/s]"
     ]
    },
    {
     "name": "stdout",
     "output_type": "stream",
     "text": [
      "Redirected:  15941 https://www.domain.com.au/2-14-percy-street-fawkner-vic-3060-15470783\n"
     ]
    },
    {
     "name": "stderr",
     "output_type": "stream",
     "text": [
      "100%|██████████████████████████████████████████████████████████████████████████▋| 15956/16025 [2:25:16<00:30,  2.25it/s]"
     ]
    },
    {
     "name": "stdout",
     "output_type": "stream",
     "text": [
      "Redirected:  15956 https://www.domain.com.au/4-14-westbury-street-st-kilda-east-vic-3183-15449726\n"
     ]
    },
    {
     "name": "stderr",
     "output_type": "stream",
     "text": [
      "100%|██████████████████████████████████████████████████████████████████████████▋| 15958/16025 [2:25:17<00:30,  2.17it/s]"
     ]
    },
    {
     "name": "stdout",
     "output_type": "stream",
     "text": [
      "Redirected:  15958 https://www.domain.com.au/7-715-pascoe-vale-rd-glenroy-vic-3046-15443774\n"
     ]
    },
    {
     "name": "stderr",
     "output_type": "stream",
     "text": [
      "100%|██████████████████████████████████████████████████████████████████████████▋| 15960/16025 [2:25:18<00:29,  2.22it/s]"
     ]
    },
    {
     "name": "stdout",
     "output_type": "stream",
     "text": [
      "Redirected:  15960 https://www.domain.com.au/fluent-lane-greenvale-vic-3059-15442916\n"
     ]
    },
    {
     "name": "stderr",
     "output_type": "stream",
     "text": [
      "100%|██████████████████████████████████████████████████████████████████████████▋| 15966/16025 [2:25:21<00:26,  2.24it/s]"
     ]
    },
    {
     "name": "stdout",
     "output_type": "stream",
     "text": [
      "Redirected:  15966 https://www.domain.com.au/606-394-collins-street-melbourne-vic-3000-15437445\n"
     ]
    },
    {
     "name": "stderr",
     "output_type": "stream",
     "text": [
      "\r\n",
      "100%|██████████████████████████████████████████████████████████████████████████▋| 15967/16025 [2:25:22<00:30,  1.89it/s]"
     ]
    },
    {
     "name": "stdout",
     "output_type": "stream",
     "text": [
      "Redirected:  15967 https://www.domain.com.au/23-johnson-street-roxburgh-park-vic-3064-15435116\n"
     ]
    },
    {
     "name": "stderr",
     "output_type": "stream",
     "text": [
      "\r\n",
      "100%|██████████████████████████████████████████████████████████████████████████▋| 15968/16025 [2:25:22<00:30,  1.89it/s]"
     ]
    },
    {
     "name": "stdout",
     "output_type": "stream",
     "text": [
      "Redirected:  15968 https://www.domain.com.au/1-1-widford-street-glenroy-vic-3046-15435103\n"
     ]
    },
    {
     "name": "stderr",
     "output_type": "stream",
     "text": [
      "100%|██████████████████████████████████████████████████████████████████████████▊| 15982/16025 [2:25:30<00:23,  1.80it/s]"
     ]
    },
    {
     "name": "stdout",
     "output_type": "stream",
     "text": [
      "Redirected:  15982 https://www.domain.com.au/6-rye-street-dallas-vic-3047-15415466\n"
     ]
    },
    {
     "name": "stderr",
     "output_type": "stream",
     "text": [
      "100%|██████████████████████████████████████████████████████████████████████████▊| 15987/16025 [2:25:33<00:21,  1.78it/s]"
     ]
    },
    {
     "name": "stdout",
     "output_type": "stream",
     "text": [
      "Redirected:  15987 https://www.domain.com.au/2-243-flemington-road-north-melbourne-vic-3051-15406854\n"
     ]
    },
    {
     "name": "stderr",
     "output_type": "stream",
     "text": [
      "100%|██████████████████████████████████████████████████████████████████████████▊| 15990/16025 [2:25:34<00:17,  2.03it/s]"
     ]
    },
    {
     "name": "stdout",
     "output_type": "stream",
     "text": [
      "Redirected:  15990 https://www.domain.com.au/16-515-bridge-inn-road-mernda-vic-3754-15403154\n"
     ]
    },
    {
     "name": "stderr",
     "output_type": "stream",
     "text": [
      "100%|██████████████████████████████████████████████████████████████████████████▉| 16000/16025 [2:25:41<00:18,  1.35it/s]"
     ]
    },
    {
     "name": "stdout",
     "output_type": "stream",
     "text": [
      "Redirected:  16000 https://www.domain.com.au/1-10-sylvan-gr-pascoe-vale-vic-3044-14794992\n"
     ]
    },
    {
     "name": "stderr",
     "output_type": "stream",
     "text": [
      "\r\n",
      "100%|██████████████████████████████████████████████████████████████████████████▉| 16001/16025 [2:25:41<00:16,  1.47it/s]"
     ]
    },
    {
     "name": "stdout",
     "output_type": "stream",
     "text": [
      "Redirected:  16001 https://www.domain.com.au/2-168-waterloo-road-pascoe-vale-vic-3044-13947175\n"
     ]
    },
    {
     "name": "stderr",
     "output_type": "stream",
     "text": [
      "\r\n",
      "100%|██████████████████████████████████████████████████████████████████████████▉| 16002/16025 [2:25:42<00:14,  1.63it/s]"
     ]
    },
    {
     "name": "stdout",
     "output_type": "stream",
     "text": [
      "Redirected:  16002 https://www.domain.com.au/2-686-pascoe-vale-rd-pascoe-vale-vic-3044-14029242\n"
     ]
    },
    {
     "name": "stderr",
     "output_type": "stream",
     "text": [
      "100%|██████████████████████████████████████████████████████████████████████████▉| 16006/16025 [2:25:44<00:12,  1.56it/s]"
     ]
    },
    {
     "name": "stdout",
     "output_type": "stream",
     "text": [
      "Redirected:  16006 https://www.domain.com.au/13-12-surrey-street-glenroy-vic-3046-14731953\n"
     ]
    },
    {
     "name": "stderr",
     "output_type": "stream",
     "text": [
      "\r\n",
      "100%|██████████████████████████████████████████████████████████████████████████▉| 16007/16025 [2:25:45<00:11,  1.59it/s]"
     ]
    },
    {
     "name": "stdout",
     "output_type": "stream",
     "text": [
      "Redirected:  16007 https://www.domain.com.au/2-686-pascoe-vale-rd-glenroy-vic-3046-14815033\n"
     ]
    },
    {
     "name": "stderr",
     "output_type": "stream",
     "text": [
      "\r\n",
      "100%|██████████████████████████████████████████████████████████████████████████▉| 16008/16025 [2:25:45<00:09,  1.73it/s]"
     ]
    },
    {
     "name": "stdout",
     "output_type": "stream",
     "text": [
      "Redirected:  16008 https://www.domain.com.au/1-47-chapman-ave-glenroy-vic-3046-14058379\n"
     ]
    },
    {
     "name": "stderr",
     "output_type": "stream",
     "text": [
      "100%|██████████████████████████████████████████████████████████████████████████▉| 16010/16025 [2:25:46<00:07,  1.91it/s]"
     ]
    },
    {
     "name": "stdout",
     "output_type": "stream",
     "text": [
      "Redirected:  16010 https://www.domain.com.au/12-556-moreland-rd-brunswick-vic-3056-13480274\n"
     ]
    },
    {
     "name": "stderr",
     "output_type": "stream",
     "text": [
      "\r\n",
      "100%|██████████████████████████████████████████████████████████████████████████▉| 16011/16025 [2:25:47<00:08,  1.70it/s]"
     ]
    },
    {
     "name": "stdout",
     "output_type": "stream",
     "text": [
      "Redirected:  16011 https://www.domain.com.au/12-556-moreland-rd-brunswick-vic-3056-14209165\n"
     ]
    },
    {
     "name": "stderr",
     "output_type": "stream",
     "text": [
      "100%|██████████████████████████████████████████████████████████████████████████▉| 16014/16025 [2:25:48<00:05,  2.03it/s]"
     ]
    },
    {
     "name": "stdout",
     "output_type": "stream",
     "text": [
      "Redirected:  16014 https://www.domain.com.au/6-admiration-dr-craigieburn-vic-3064-14734948\n"
     ]
    },
    {
     "name": "stderr",
     "output_type": "stream",
     "text": [
      "\r\n",
      "100%|██████████████████████████████████████████████████████████████████████████▉| 16015/16025 [2:25:49<00:05,  1.93it/s]"
     ]
    },
    {
     "name": "stdout",
     "output_type": "stream",
     "text": [
      "Redirected:  16015 https://www.domain.com.au/1701-483-swanston-street-melbourne-vic-3000-15386502\n"
     ]
    },
    {
     "name": "stderr",
     "output_type": "stream",
     "text": [
      "100%|██████████████████████████████████████████████████████████████████████████▉| 16022/16025 [2:25:52<00:01,  2.03it/s]"
     ]
    },
    {
     "name": "stdout",
     "output_type": "stream",
     "text": [
      "Redirected:  16022 https://www.domain.com.au/14-8-clyde-street-essendon-vic-3040-14529998\n"
     ]
    },
    {
     "name": "stderr",
     "output_type": "stream",
     "text": [
      "100%|██████████████████████████████████████████████████████████████████████████▉| 16024/16025 [2:25:54<00:00,  1.80it/s]"
     ]
    },
    {
     "name": "stdout",
     "output_type": "stream",
     "text": [
      "Redirected:  16024 https://www.domain.com.au/2-19-eastgate-street-pascoe-vale-vic-3044-15376920\n"
     ]
    },
    {
     "name": "stderr",
     "output_type": "stream",
     "text": [
      "100%|███████████████████████████████████████████████████████████████████████████| 16025/16025 [2:25:55<00:00,  1.83it/s]\n"
     ]
    }
   ],
   "source": [
    "prop_list = []\n",
    "sub_list = []\n",
    "neigh_list = []\n",
    "school_list = []\n",
    "for i in tqdm(range(0, len(listings))):\n",
    "    try:\n",
    "        response = session.get(listings['links'][i], headers=HEADERS)\n",
    "        listing_data = response.json()\n",
    "        \n",
    "        if ('redirect' in listing_data.keys()):\n",
    "            print(\"Redirected: \", i, listings['links'][i])\n",
    "            response = session.get(\"https://www.domain.com.au/\" + listing_data['redirect']['destination'], headers=HEADERS)\n",
    "            listing_data = response.json()\n",
    "        elif ('props' not in listing_data.keys()):\n",
    "            print(\"No props at index: \", i, listings['links'][i])\n",
    "            \n",
    "        \n",
    "\n",
    "        # create property dataset\n",
    "        prop_data = listing_data['props']['listingSummary']\n",
    "        prop_data.pop(\"stats\", None)\n",
    "        prop_data.pop(\"showDefaultFeatures\", None)\n",
    "        prop_data.pop(\"tag\", None)\n",
    "        prop_data['id'] = listing_data['props']['id']\n",
    "        prop_list.append(prop_data)\n",
    "\n",
    "\n",
    "        # create suburb dataset\n",
    "        # edit this to add or remove suburb features\n",
    "        suburb_keys = [\"suburb\", \"medianRentPrice\"]\n",
    "\n",
    "\n",
    "        suburb_data = {key: listing_data['props']['suburbInsights'][key] for key in suburb_keys}\n",
    "        suburb_data.update(listing_data['props']['suburbInsights'][\"demographics\"])\n",
    "        suburb_data.pop(\"clarification\", None)\n",
    "        suburb_data['id'] = listing_data['props']['id']\n",
    "        sub_list.append(suburb_data)\n",
    "    #     suburb_df = pd.DataFrame(suburb_data, index = [i])\n",
    "    #     suburb_df\n",
    "\n",
    "\n",
    "        # create neighbourhood dataset\n",
    "        neighbourhood_data = listing_data['props']['neighbourhoodInsights']\n",
    "        neighbourhood_data.pop('map', None)\n",
    "        neighbourhood_data.pop('showIncomeAndExpenses', None)\n",
    "        neighbourhood_data['id'] = listing_data['props']['id']\n",
    "        neigh_list.append(neighbourhood_data)\n",
    "    #     neighbourhood_df = pd.DataFrame(neighbourhood_data, index = [i])\n",
    "    #     neighbourhood_df\n",
    "\n",
    "\n",
    "        # create closest school dataset\n",
    "        closest_schools = listing_data['props']['schoolCatchment']['schools']\n",
    "        top = closest_schools[0]\n",
    "        top['id'] = listing_data['props']['id']\n",
    "        top.pop(\"domainSeoUrlSlug\", None)\n",
    "        top.pop(\"isRadiusResult\", None)\n",
    "        school_list.append(top)\n",
    "        time.sleep(0.3)\n",
    "    except Exception as e:\n",
    "        print(e)\n",
    "        \n",
    "    \n",
    "prop_list = pd.DataFrame(prop_list)\n",
    "sub_list = pd.DataFrame(sub_list)\n",
    "neigh_list = pd.DataFrame(neigh_list)\n",
    "school_list = pd.DataFrame(school_list)"
   ]
  },
  {
   "cell_type": "code",
   "execution_count": 28,
   "metadata": {},
   "outputs": [],
   "source": [
    "\n",
    "response = session.get(\"https://www.domain.com.au/14-8-clyde-street-essendon-vic-3040-14529998\", headers=HEADERS)\n",
    "listing_data = response.json()"
   ]
  },
  {
   "cell_type": "code",
   "execution_count": null,
   "metadata": {},
   "outputs": [],
   "source": [
    "https://www.domain.com.au/413-40-hall-st-essendon-vic-3040-14529998"
   ]
  },
  {
   "cell_type": "code",
   "execution_count": 29,
   "metadata": {},
   "outputs": [
    {
     "data": {
      "text/plain": [
       "{'redirect': {'destination': '413-40-hall-st-essendon-vic-3040-14529998',\n",
       "  'statusCode': 301}}"
      ]
     },
     "execution_count": 29,
     "metadata": {},
     "output_type": "execute_result"
    }
   ],
   "source": [
    "listing_data"
   ]
  },
  {
   "cell_type": "code",
   "execution_count": 31,
   "metadata": {},
   "outputs": [
    {
     "data": {
      "text/html": [
       "<div>\n",
       "<style scoped>\n",
       "    .dataframe tbody tr th:only-of-type {\n",
       "        vertical-align: middle;\n",
       "    }\n",
       "\n",
       "    .dataframe tbody tr th {\n",
       "        vertical-align: top;\n",
       "    }\n",
       "\n",
       "    .dataframe thead th {\n",
       "        text-align: right;\n",
       "    }\n",
       "</style>\n",
       "<table border=\"1\" class=\"dataframe\">\n",
       "  <thead>\n",
       "    <tr style=\"text-align: right;\">\n",
       "      <th></th>\n",
       "      <th>beds</th>\n",
       "      <th>baths</th>\n",
       "      <th>parking</th>\n",
       "      <th>title</th>\n",
       "      <th>price</th>\n",
       "      <th>address</th>\n",
       "      <th>promoType</th>\n",
       "      <th>listingType</th>\n",
       "      <th>propertyType</th>\n",
       "      <th>status</th>\n",
       "      <th>mode</th>\n",
       "      <th>isRural</th>\n",
       "      <th>houses</th>\n",
       "      <th>id</th>\n",
       "      <th>method</th>\n",
       "    </tr>\n",
       "  </thead>\n",
       "  <tbody>\n",
       "    <tr>\n",
       "      <th>0</th>\n",
       "      <td>4</td>\n",
       "      <td>3</td>\n",
       "      <td>2</td>\n",
       "      <td>$950</td>\n",
       "      <td>$950</td>\n",
       "      <td>1 Sanctuary Way, Ascot Vale VIC 3032</td>\n",
       "      <td>platinum</td>\n",
       "      <td>rent</td>\n",
       "      <td>House</td>\n",
       "      <td>new</td>\n",
       "      <td>rent</td>\n",
       "      <td>False</td>\n",
       "      <td>0</td>\n",
       "      <td>16065444</td>\n",
       "      <td>NaN</td>\n",
       "    </tr>\n",
       "    <tr>\n",
       "      <th>1</th>\n",
       "      <td>1</td>\n",
       "      <td>1</td>\n",
       "      <td>0</td>\n",
       "      <td>$550 per week</td>\n",
       "      <td>$550 per week</td>\n",
       "      <td>1206/639 Little Lonsdale Street, Melbourne VIC...</td>\n",
       "      <td>branded</td>\n",
       "      <td>rent</td>\n",
       "      <td>Apartment / Unit / Flat</td>\n",
       "      <td>new</td>\n",
       "      <td>rent</td>\n",
       "      <td>False</td>\n",
       "      <td>0</td>\n",
       "      <td>16065443</td>\n",
       "      <td>NaN</td>\n",
       "    </tr>\n",
       "    <tr>\n",
       "      <th>2</th>\n",
       "      <td>1</td>\n",
       "      <td>1</td>\n",
       "      <td>1</td>\n",
       "      <td>$475 per week</td>\n",
       "      <td>$475 per week</td>\n",
       "      <td>13/86 Hotham Street, East Melbourne VIC 3002</td>\n",
       "      <td>platinum</td>\n",
       "      <td>rent</td>\n",
       "      <td>Apartment / Unit / Flat</td>\n",
       "      <td>new</td>\n",
       "      <td>rent</td>\n",
       "      <td>False</td>\n",
       "      <td>0</td>\n",
       "      <td>16065438</td>\n",
       "      <td>NaN</td>\n",
       "    </tr>\n",
       "    <tr>\n",
       "      <th>3</th>\n",
       "      <td>2</td>\n",
       "      <td>1</td>\n",
       "      <td>1</td>\n",
       "      <td>$450 per week</td>\n",
       "      <td>$450 per week</td>\n",
       "      <td>60/777 Whitehorse Road, Mont Albert VIC 3127</td>\n",
       "      <td>branded</td>\n",
       "      <td>rent</td>\n",
       "      <td>Apartment / Unit / Flat</td>\n",
       "      <td>new</td>\n",
       "      <td>rent</td>\n",
       "      <td>False</td>\n",
       "      <td>0</td>\n",
       "      <td>16065435</td>\n",
       "      <td>NaN</td>\n",
       "    </tr>\n",
       "    <tr>\n",
       "      <th>4</th>\n",
       "      <td>3</td>\n",
       "      <td>1</td>\n",
       "      <td>4</td>\n",
       "      <td>$370 per week</td>\n",
       "      <td>$370 per week</td>\n",
       "      <td>15 Vincent Avenue, St Albans VIC 3021</td>\n",
       "      <td>basic</td>\n",
       "      <td>rent</td>\n",
       "      <td>House</td>\n",
       "      <td>new</td>\n",
       "      <td>rent</td>\n",
       "      <td>False</td>\n",
       "      <td>0</td>\n",
       "      <td>16065436</td>\n",
       "      <td>NaN</td>\n",
       "    </tr>\n",
       "    <tr>\n",
       "      <th>...</th>\n",
       "      <td>...</td>\n",
       "      <td>...</td>\n",
       "      <td>...</td>\n",
       "      <td>...</td>\n",
       "      <td>...</td>\n",
       "      <td>...</td>\n",
       "      <td>...</td>\n",
       "      <td>...</td>\n",
       "      <td>...</td>\n",
       "      <td>...</td>\n",
       "      <td>...</td>\n",
       "      <td>...</td>\n",
       "      <td>...</td>\n",
       "      <td>...</td>\n",
       "      <td>...</td>\n",
       "    </tr>\n",
       "    <tr>\n",
       "      <th>15535</th>\n",
       "      <td>3</td>\n",
       "      <td>2</td>\n",
       "      <td>2</td>\n",
       "      <td>from $400 per night off peak</td>\n",
       "      <td>from $400 per night off peak</td>\n",
       "      <td>4/181 Great Ocean Road, Apollo Bay VIC 3233</td>\n",
       "      <td>basic</td>\n",
       "      <td>rent</td>\n",
       "      <td>Townhouse</td>\n",
       "      <td>live</td>\n",
       "      <td>rent</td>\n",
       "      <td>False</td>\n",
       "      <td>0</td>\n",
       "      <td>13210984</td>\n",
       "      <td>NaN</td>\n",
       "    </tr>\n",
       "    <tr>\n",
       "      <th>15536</th>\n",
       "      <td>0</td>\n",
       "      <td>1</td>\n",
       "      <td>0</td>\n",
       "      <td>$200 including bills pw</td>\n",
       "      <td>$200 including bills pw</td>\n",
       "      <td>53 McEwan Road, Heidelberg Heights VIC 3081</td>\n",
       "      <td>branded</td>\n",
       "      <td>rent</td>\n",
       "      <td>Apartment / Unit / Flat</td>\n",
       "      <td>live</td>\n",
       "      <td>rent</td>\n",
       "      <td>False</td>\n",
       "      <td>0</td>\n",
       "      <td>15381771</td>\n",
       "      <td>NaN</td>\n",
       "    </tr>\n",
       "    <tr>\n",
       "      <th>15537</th>\n",
       "      <td>1</td>\n",
       "      <td>1</td>\n",
       "      <td>1</td>\n",
       "      <td>$450</td>\n",
       "      <td>$450</td>\n",
       "      <td>413/40 Hall St, Essendon VIC 3040</td>\n",
       "      <td>basic</td>\n",
       "      <td>rent</td>\n",
       "      <td>Apartment / Unit / Flat</td>\n",
       "      <td>live</td>\n",
       "      <td>rent</td>\n",
       "      <td>False</td>\n",
       "      <td>0</td>\n",
       "      <td>14529998</td>\n",
       "      <td>NaN</td>\n",
       "    </tr>\n",
       "    <tr>\n",
       "      <th>15538</th>\n",
       "      <td>3</td>\n",
       "      <td>1</td>\n",
       "      <td>1</td>\n",
       "      <td>$780 weekly</td>\n",
       "      <td>$780 weekly</td>\n",
       "      <td>52/121 Rathdowne St, Carlton VIC 3053</td>\n",
       "      <td>branded</td>\n",
       "      <td>rent</td>\n",
       "      <td>Apartment / Unit / Flat</td>\n",
       "      <td>live</td>\n",
       "      <td>rent</td>\n",
       "      <td>False</td>\n",
       "      <td>0</td>\n",
       "      <td>15378664</td>\n",
       "      <td>NaN</td>\n",
       "    </tr>\n",
       "    <tr>\n",
       "      <th>15539</th>\n",
       "      <td>2</td>\n",
       "      <td>2</td>\n",
       "      <td>2</td>\n",
       "      <td>$450</td>\n",
       "      <td>$450</td>\n",
       "      <td>2/30 Snell Grove, Pascoe Vale VIC 3044</td>\n",
       "      <td>basic</td>\n",
       "      <td>rent</td>\n",
       "      <td>Apartment / Unit / Flat</td>\n",
       "      <td>live</td>\n",
       "      <td>rent</td>\n",
       "      <td>False</td>\n",
       "      <td>0</td>\n",
       "      <td>15376920</td>\n",
       "      <td>NaN</td>\n",
       "    </tr>\n",
       "  </tbody>\n",
       "</table>\n",
       "<p>15540 rows × 15 columns</p>\n",
       "</div>"
      ],
      "text/plain": [
       "       beds  baths  parking                         title  \\\n",
       "0         4      3        2                          $950   \n",
       "1         1      1        0                 $550 per week   \n",
       "2         1      1        1                 $475 per week   \n",
       "3         2      1        1                 $450 per week   \n",
       "4         3      1        4                 $370 per week   \n",
       "...     ...    ...      ...                           ...   \n",
       "15535     3      2        2  from $400 per night off peak   \n",
       "15536     0      1        0       $200 including bills pw   \n",
       "15537     1      1        1                          $450   \n",
       "15538     3      1        1                   $780 weekly   \n",
       "15539     2      2        2                          $450   \n",
       "\n",
       "                              price  \\\n",
       "0                              $950   \n",
       "1                     $550 per week   \n",
       "2                     $475 per week   \n",
       "3                     $450 per week   \n",
       "4                     $370 per week   \n",
       "...                             ...   \n",
       "15535  from $400 per night off peak   \n",
       "15536       $200 including bills pw   \n",
       "15537                          $450   \n",
       "15538                   $780 weekly   \n",
       "15539                          $450   \n",
       "\n",
       "                                                 address promoType  \\\n",
       "0                   1 Sanctuary Way, Ascot Vale VIC 3032  platinum   \n",
       "1      1206/639 Little Lonsdale Street, Melbourne VIC...   branded   \n",
       "2           13/86 Hotham Street, East Melbourne VIC 3002  platinum   \n",
       "3           60/777 Whitehorse Road, Mont Albert VIC 3127   branded   \n",
       "4                  15 Vincent Avenue, St Albans VIC 3021     basic   \n",
       "...                                                  ...       ...   \n",
       "15535        4/181 Great Ocean Road, Apollo Bay VIC 3233     basic   \n",
       "15536        53 McEwan Road, Heidelberg Heights VIC 3081   branded   \n",
       "15537                  413/40 Hall St, Essendon VIC 3040     basic   \n",
       "15538              52/121 Rathdowne St, Carlton VIC 3053   branded   \n",
       "15539             2/30 Snell Grove, Pascoe Vale VIC 3044     basic   \n",
       "\n",
       "      listingType             propertyType status  mode  isRural  houses  \\\n",
       "0            rent                    House    new  rent    False       0   \n",
       "1            rent  Apartment / Unit / Flat    new  rent    False       0   \n",
       "2            rent  Apartment / Unit / Flat    new  rent    False       0   \n",
       "3            rent  Apartment / Unit / Flat    new  rent    False       0   \n",
       "4            rent                    House    new  rent    False       0   \n",
       "...           ...                      ...    ...   ...      ...     ...   \n",
       "15535        rent                Townhouse   live  rent    False       0   \n",
       "15536        rent  Apartment / Unit / Flat   live  rent    False       0   \n",
       "15537        rent  Apartment / Unit / Flat   live  rent    False       0   \n",
       "15538        rent  Apartment / Unit / Flat   live  rent    False       0   \n",
       "15539        rent  Apartment / Unit / Flat   live  rent    False       0   \n",
       "\n",
       "             id method  \n",
       "0      16065444    NaN  \n",
       "1      16065443    NaN  \n",
       "2      16065438    NaN  \n",
       "3      16065435    NaN  \n",
       "4      16065436    NaN  \n",
       "...         ...    ...  \n",
       "15535  13210984    NaN  \n",
       "15536  15381771    NaN  \n",
       "15537  14529998    NaN  \n",
       "15538  15378664    NaN  \n",
       "15539  15376920    NaN  \n",
       "\n",
       "[15540 rows x 15 columns]"
      ]
     },
     "execution_count": 31,
     "metadata": {},
     "output_type": "execute_result"
    }
   ],
   "source": [
    "prop_list"
   ]
  },
  {
   "cell_type": "code",
   "execution_count": 32,
   "metadata": {},
   "outputs": [
    {
     "data": {
      "text/html": [
       "<div>\n",
       "<style scoped>\n",
       "    .dataframe tbody tr th:only-of-type {\n",
       "        vertical-align: middle;\n",
       "    }\n",
       "\n",
       "    .dataframe tbody tr th {\n",
       "        vertical-align: top;\n",
       "    }\n",
       "\n",
       "    .dataframe thead th {\n",
       "        text-align: right;\n",
       "    }\n",
       "</style>\n",
       "<table border=\"1\" class=\"dataframe\">\n",
       "  <thead>\n",
       "    <tr style=\"text-align: right;\">\n",
       "      <th></th>\n",
       "      <th>suburb</th>\n",
       "      <th>medianRentPrice</th>\n",
       "      <th>population</th>\n",
       "      <th>avgAge</th>\n",
       "      <th>owners</th>\n",
       "      <th>renters</th>\n",
       "      <th>families</th>\n",
       "      <th>singles</th>\n",
       "      <th>id</th>\n",
       "    </tr>\n",
       "  </thead>\n",
       "  <tbody>\n",
       "    <tr>\n",
       "      <th>0</th>\n",
       "      <td>Ascot Vale</td>\n",
       "      <td>790</td>\n",
       "      <td>14758</td>\n",
       "      <td>20 to 39</td>\n",
       "      <td>0.573788</td>\n",
       "      <td>0.426212</td>\n",
       "      <td>0.418693</td>\n",
       "      <td>0.581307</td>\n",
       "      <td>16065444</td>\n",
       "    </tr>\n",
       "    <tr>\n",
       "      <th>1</th>\n",
       "      <td>Melbourne</td>\n",
       "      <td>340</td>\n",
       "      <td>47279</td>\n",
       "      <td>20 to 39</td>\n",
       "      <td>0.302987</td>\n",
       "      <td>0.697013</td>\n",
       "      <td>0.237154</td>\n",
       "      <td>0.762846</td>\n",
       "      <td>16065443</td>\n",
       "    </tr>\n",
       "    <tr>\n",
       "      <th>2</th>\n",
       "      <td>East Melbourne</td>\n",
       "      <td>395</td>\n",
       "      <td>4963</td>\n",
       "      <td>20 to 39</td>\n",
       "      <td>0.445647</td>\n",
       "      <td>0.554353</td>\n",
       "      <td>0.361296</td>\n",
       "      <td>0.638704</td>\n",
       "      <td>16065438</td>\n",
       "    </tr>\n",
       "    <tr>\n",
       "      <th>3</th>\n",
       "      <td>Mont Albert</td>\n",
       "      <td>420</td>\n",
       "      <td>4847</td>\n",
       "      <td>40 to 59</td>\n",
       "      <td>0.717633</td>\n",
       "      <td>0.282367</td>\n",
       "      <td>0.526342</td>\n",
       "      <td>0.473658</td>\n",
       "      <td>16065435</td>\n",
       "    </tr>\n",
       "    <tr>\n",
       "      <th>4</th>\n",
       "      <td>St Albans</td>\n",
       "      <td>360</td>\n",
       "      <td>37322</td>\n",
       "      <td>20 to 39</td>\n",
       "      <td>0.639986</td>\n",
       "      <td>0.360014</td>\n",
       "      <td>0.461730</td>\n",
       "      <td>0.538270</td>\n",
       "      <td>16065436</td>\n",
       "    </tr>\n",
       "    <tr>\n",
       "      <th>...</th>\n",
       "      <td>...</td>\n",
       "      <td>...</td>\n",
       "      <td>...</td>\n",
       "      <td>...</td>\n",
       "      <td>...</td>\n",
       "      <td>...</td>\n",
       "      <td>...</td>\n",
       "      <td>...</td>\n",
       "      <td>...</td>\n",
       "    </tr>\n",
       "    <tr>\n",
       "      <th>15511</th>\n",
       "      <td>Apollo Bay</td>\n",
       "      <td>0</td>\n",
       "      <td>1594</td>\n",
       "      <td>60+</td>\n",
       "      <td>0.660473</td>\n",
       "      <td>0.339527</td>\n",
       "      <td>0.462044</td>\n",
       "      <td>0.537956</td>\n",
       "      <td>13210984</td>\n",
       "    </tr>\n",
       "    <tr>\n",
       "      <th>15512</th>\n",
       "      <td>Heidelberg Heights</td>\n",
       "      <td>0</td>\n",
       "      <td>6063</td>\n",
       "      <td>20 to 39</td>\n",
       "      <td>0.592479</td>\n",
       "      <td>0.407521</td>\n",
       "      <td>0.380590</td>\n",
       "      <td>0.619410</td>\n",
       "      <td>15381771</td>\n",
       "    </tr>\n",
       "    <tr>\n",
       "      <th>15513</th>\n",
       "      <td>Essendon</td>\n",
       "      <td>300</td>\n",
       "      <td>20590</td>\n",
       "      <td>20 to 39</td>\n",
       "      <td>0.621521</td>\n",
       "      <td>0.378479</td>\n",
       "      <td>0.478467</td>\n",
       "      <td>0.521533</td>\n",
       "      <td>14529998</td>\n",
       "    </tr>\n",
       "    <tr>\n",
       "      <th>15514</th>\n",
       "      <td>Carlton</td>\n",
       "      <td>625</td>\n",
       "      <td>18536</td>\n",
       "      <td>20 to 39</td>\n",
       "      <td>0.194165</td>\n",
       "      <td>0.805835</td>\n",
       "      <td>0.149739</td>\n",
       "      <td>0.850261</td>\n",
       "      <td>15378664</td>\n",
       "    </tr>\n",
       "    <tr>\n",
       "      <th>15515</th>\n",
       "      <td>Pascoe Vale</td>\n",
       "      <td>370</td>\n",
       "      <td>17054</td>\n",
       "      <td>20 to 39</td>\n",
       "      <td>0.650104</td>\n",
       "      <td>0.349896</td>\n",
       "      <td>0.462525</td>\n",
       "      <td>0.537475</td>\n",
       "      <td>15376920</td>\n",
       "    </tr>\n",
       "  </tbody>\n",
       "</table>\n",
       "<p>15516 rows × 9 columns</p>\n",
       "</div>"
      ],
      "text/plain": [
       "                   suburb  medianRentPrice  population    avgAge    owners  \\\n",
       "0              Ascot Vale              790       14758  20 to 39  0.573788   \n",
       "1               Melbourne              340       47279  20 to 39  0.302987   \n",
       "2          East Melbourne              395        4963  20 to 39  0.445647   \n",
       "3             Mont Albert              420        4847  40 to 59  0.717633   \n",
       "4               St Albans              360       37322  20 to 39  0.639986   \n",
       "...                   ...              ...         ...       ...       ...   \n",
       "15511          Apollo Bay                0        1594       60+  0.660473   \n",
       "15512  Heidelberg Heights                0        6063  20 to 39  0.592479   \n",
       "15513            Essendon              300       20590  20 to 39  0.621521   \n",
       "15514             Carlton              625       18536  20 to 39  0.194165   \n",
       "15515         Pascoe Vale              370       17054  20 to 39  0.650104   \n",
       "\n",
       "        renters  families   singles        id  \n",
       "0      0.426212  0.418693  0.581307  16065444  \n",
       "1      0.697013  0.237154  0.762846  16065443  \n",
       "2      0.554353  0.361296  0.638704  16065438  \n",
       "3      0.282367  0.526342  0.473658  16065435  \n",
       "4      0.360014  0.461730  0.538270  16065436  \n",
       "...         ...       ...       ...       ...  \n",
       "15511  0.339527  0.462044  0.537956  13210984  \n",
       "15512  0.407521  0.380590  0.619410  15381771  \n",
       "15513  0.378479  0.478467  0.521533  14529998  \n",
       "15514  0.805835  0.149739  0.850261  15378664  \n",
       "15515  0.349896  0.462525  0.537475  15376920  \n",
       "\n",
       "[15516 rows x 9 columns]"
      ]
     },
     "execution_count": 32,
     "metadata": {},
     "output_type": "execute_result"
    }
   ],
   "source": [
    "sub_list"
   ]
  },
  {
   "cell_type": "code",
   "execution_count": 33,
   "metadata": {},
   "outputs": [
    {
     "data": {
      "text/html": [
       "<div>\n",
       "<style scoped>\n",
       "    .dataframe tbody tr th:only-of-type {\n",
       "        vertical-align: middle;\n",
       "    }\n",
       "\n",
       "    .dataframe tbody tr th {\n",
       "        vertical-align: top;\n",
       "    }\n",
       "\n",
       "    .dataframe thead th {\n",
       "        text-align: right;\n",
       "    }\n",
       "</style>\n",
       "<table border=\"1\" class=\"dataframe\">\n",
       "  <thead>\n",
       "    <tr style=\"text-align: right;\">\n",
       "      <th></th>\n",
       "      <th>age0To19</th>\n",
       "      <th>age20To39</th>\n",
       "      <th>age40To59</th>\n",
       "      <th>age60Plus</th>\n",
       "      <th>longTermResident</th>\n",
       "      <th>owner</th>\n",
       "      <th>renter</th>\n",
       "      <th>family</th>\n",
       "      <th>single</th>\n",
       "      <th>id</th>\n",
       "    </tr>\n",
       "  </thead>\n",
       "  <tbody>\n",
       "    <tr>\n",
       "      <th>0</th>\n",
       "      <td>0.291534</td>\n",
       "      <td>0.281150</td>\n",
       "      <td>0.313099</td>\n",
       "      <td>0.114217</td>\n",
       "      <td>0.398422</td>\n",
       "      <td>0.698876</td>\n",
       "      <td>0.301124</td>\n",
       "      <td>0.672790</td>\n",
       "      <td>0.327210</td>\n",
       "      <td>16065444</td>\n",
       "    </tr>\n",
       "    <tr>\n",
       "      <th>1</th>\n",
       "      <td>0.058780</td>\n",
       "      <td>0.775900</td>\n",
       "      <td>0.138868</td>\n",
       "      <td>0.026451</td>\n",
       "      <td>0.120690</td>\n",
       "      <td>0.199686</td>\n",
       "      <td>0.800315</td>\n",
       "      <td>0.340070</td>\n",
       "      <td>0.659930</td>\n",
       "      <td>16065443</td>\n",
       "    </tr>\n",
       "    <tr>\n",
       "      <th>2</th>\n",
       "      <td>0.156915</td>\n",
       "      <td>0.345745</td>\n",
       "      <td>0.252660</td>\n",
       "      <td>0.244681</td>\n",
       "      <td>0.477941</td>\n",
       "      <td>0.515337</td>\n",
       "      <td>0.484663</td>\n",
       "      <td>0.570946</td>\n",
       "      <td>0.429054</td>\n",
       "      <td>16065438</td>\n",
       "    </tr>\n",
       "    <tr>\n",
       "      <th>3</th>\n",
       "      <td>0.284697</td>\n",
       "      <td>0.261566</td>\n",
       "      <td>0.286477</td>\n",
       "      <td>0.167260</td>\n",
       "      <td>0.447316</td>\n",
       "      <td>0.619718</td>\n",
       "      <td>0.380282</td>\n",
       "      <td>0.606796</td>\n",
       "      <td>0.393204</td>\n",
       "      <td>16065435</td>\n",
       "    </tr>\n",
       "    <tr>\n",
       "      <th>4</th>\n",
       "      <td>0.204176</td>\n",
       "      <td>0.371230</td>\n",
       "      <td>0.229698</td>\n",
       "      <td>0.194896</td>\n",
       "      <td>0.534031</td>\n",
       "      <td>0.554622</td>\n",
       "      <td>0.445378</td>\n",
       "      <td>0.433022</td>\n",
       "      <td>0.566978</td>\n",
       "      <td>16065436</td>\n",
       "    </tr>\n",
       "    <tr>\n",
       "      <th>...</th>\n",
       "      <td>...</td>\n",
       "      <td>...</td>\n",
       "      <td>...</td>\n",
       "      <td>...</td>\n",
       "      <td>...</td>\n",
       "      <td>...</td>\n",
       "      <td>...</td>\n",
       "      <td>...</td>\n",
       "      <td>...</td>\n",
       "      <td>...</td>\n",
       "    </tr>\n",
       "    <tr>\n",
       "      <th>15511</th>\n",
       "      <td>0.185321</td>\n",
       "      <td>0.188991</td>\n",
       "      <td>0.260550</td>\n",
       "      <td>0.365138</td>\n",
       "      <td>0.587601</td>\n",
       "      <td>0.540909</td>\n",
       "      <td>0.459091</td>\n",
       "      <td>0.530120</td>\n",
       "      <td>0.469880</td>\n",
       "      <td>13210984</td>\n",
       "    </tr>\n",
       "    <tr>\n",
       "      <th>15512</th>\n",
       "      <td>0.200608</td>\n",
       "      <td>0.386018</td>\n",
       "      <td>0.255319</td>\n",
       "      <td>0.158055</td>\n",
       "      <td>0.649254</td>\n",
       "      <td>0.614173</td>\n",
       "      <td>0.385827</td>\n",
       "      <td>0.446154</td>\n",
       "      <td>0.553846</td>\n",
       "      <td>15381771</td>\n",
       "    </tr>\n",
       "    <tr>\n",
       "      <th>15513</th>\n",
       "      <td>0.167059</td>\n",
       "      <td>0.357647</td>\n",
       "      <td>0.263529</td>\n",
       "      <td>0.211765</td>\n",
       "      <td>0.443299</td>\n",
       "      <td>0.535912</td>\n",
       "      <td>0.464088</td>\n",
       "      <td>0.497041</td>\n",
       "      <td>0.502959</td>\n",
       "      <td>14529998</td>\n",
       "    </tr>\n",
       "    <tr>\n",
       "      <th>15514</th>\n",
       "      <td>0.078680</td>\n",
       "      <td>0.573604</td>\n",
       "      <td>0.208122</td>\n",
       "      <td>0.139594</td>\n",
       "      <td>0.201835</td>\n",
       "      <td>0.335404</td>\n",
       "      <td>0.664596</td>\n",
       "      <td>0.462500</td>\n",
       "      <td>0.537500</td>\n",
       "      <td>15378664</td>\n",
       "    </tr>\n",
       "    <tr>\n",
       "      <th>15515</th>\n",
       "      <td>0.223048</td>\n",
       "      <td>0.368030</td>\n",
       "      <td>0.280669</td>\n",
       "      <td>0.128253</td>\n",
       "      <td>0.540761</td>\n",
       "      <td>0.608911</td>\n",
       "      <td>0.391089</td>\n",
       "      <td>0.500000</td>\n",
       "      <td>0.500000</td>\n",
       "      <td>15376920</td>\n",
       "    </tr>\n",
       "  </tbody>\n",
       "</table>\n",
       "<p>15516 rows × 10 columns</p>\n",
       "</div>"
      ],
      "text/plain": [
       "       age0To19  age20To39  age40To59  age60Plus  longTermResident     owner  \\\n",
       "0      0.291534   0.281150   0.313099   0.114217          0.398422  0.698876   \n",
       "1      0.058780   0.775900   0.138868   0.026451          0.120690  0.199686   \n",
       "2      0.156915   0.345745   0.252660   0.244681          0.477941  0.515337   \n",
       "3      0.284697   0.261566   0.286477   0.167260          0.447316  0.619718   \n",
       "4      0.204176   0.371230   0.229698   0.194896          0.534031  0.554622   \n",
       "...         ...        ...        ...        ...               ...       ...   \n",
       "15511  0.185321   0.188991   0.260550   0.365138          0.587601  0.540909   \n",
       "15512  0.200608   0.386018   0.255319   0.158055          0.649254  0.614173   \n",
       "15513  0.167059   0.357647   0.263529   0.211765          0.443299  0.535912   \n",
       "15514  0.078680   0.573604   0.208122   0.139594          0.201835  0.335404   \n",
       "15515  0.223048   0.368030   0.280669   0.128253          0.540761  0.608911   \n",
       "\n",
       "         renter    family    single        id  \n",
       "0      0.301124  0.672790  0.327210  16065444  \n",
       "1      0.800315  0.340070  0.659930  16065443  \n",
       "2      0.484663  0.570946  0.429054  16065438  \n",
       "3      0.380282  0.606796  0.393204  16065435  \n",
       "4      0.445378  0.433022  0.566978  16065436  \n",
       "...         ...       ...       ...       ...  \n",
       "15511  0.459091  0.530120  0.469880  13210984  \n",
       "15512  0.385827  0.446154  0.553846  15381771  \n",
       "15513  0.464088  0.497041  0.502959  14529998  \n",
       "15514  0.664596  0.462500  0.537500  15378664  \n",
       "15515  0.391089  0.500000  0.500000  15376920  \n",
       "\n",
       "[15516 rows x 10 columns]"
      ]
     },
     "execution_count": 33,
     "metadata": {},
     "output_type": "execute_result"
    }
   ],
   "source": [
    "neigh_list"
   ]
  },
  {
   "cell_type": "code",
   "execution_count": 34,
   "metadata": {},
   "outputs": [
    {
     "data": {
      "text/html": [
       "<div>\n",
       "<style scoped>\n",
       "    .dataframe tbody tr th:only-of-type {\n",
       "        vertical-align: middle;\n",
       "    }\n",
       "\n",
       "    .dataframe tbody tr th {\n",
       "        vertical-align: top;\n",
       "    }\n",
       "\n",
       "    .dataframe thead th {\n",
       "        text-align: right;\n",
       "    }\n",
       "</style>\n",
       "<table border=\"1\" class=\"dataframe\">\n",
       "  <thead>\n",
       "    <tr style=\"text-align: right;\">\n",
       "      <th></th>\n",
       "      <th>id</th>\n",
       "      <th>educationLevel</th>\n",
       "      <th>name</th>\n",
       "      <th>distance</th>\n",
       "      <th>state</th>\n",
       "      <th>postCode</th>\n",
       "      <th>year</th>\n",
       "      <th>gender</th>\n",
       "      <th>type</th>\n",
       "      <th>address</th>\n",
       "      <th>url</th>\n",
       "    </tr>\n",
       "  </thead>\n",
       "  <tbody>\n",
       "    <tr>\n",
       "      <th>0</th>\n",
       "      <td>16065444</td>\n",
       "      <td>secondary</td>\n",
       "      <td>SEDA College (Victoria) - Netball Ascot Vale</td>\n",
       "      <td>407.034957</td>\n",
       "      <td>VIC</td>\n",
       "      <td>3032</td>\n",
       "      <td></td>\n",
       "      <td></td>\n",
       "      <td>Private</td>\n",
       "      <td>Ascot Vale, VIC 3032</td>\n",
       "      <td></td>\n",
       "    </tr>\n",
       "    <tr>\n",
       "      <th>1</th>\n",
       "      <td>16065443</td>\n",
       "      <td>secondary</td>\n",
       "      <td>Ozford College - Ozford College Campus</td>\n",
       "      <td>259.550835</td>\n",
       "      <td>VIC</td>\n",
       "      <td>3000</td>\n",
       "      <td></td>\n",
       "      <td></td>\n",
       "      <td>Private</td>\n",
       "      <td>Melbourne, VIC 3000</td>\n",
       "      <td></td>\n",
       "    </tr>\n",
       "    <tr>\n",
       "      <th>2</th>\n",
       "      <td>16065438</td>\n",
       "      <td>primary</td>\n",
       "      <td>Richmond West Primary School</td>\n",
       "      <td>729.249072</td>\n",
       "      <td>VIC</td>\n",
       "      <td>3121</td>\n",
       "      <td>Prep-6</td>\n",
       "      <td>CoEd</td>\n",
       "      <td>Government</td>\n",
       "      <td>Richmond, VIC 3121</td>\n",
       "      <td>http://www.richmondwestps.vic.edu.au</td>\n",
       "    </tr>\n",
       "    <tr>\n",
       "      <th>3</th>\n",
       "      <td>16065435</td>\n",
       "      <td>primary</td>\n",
       "      <td>Mont Albert Primary School</td>\n",
       "      <td>671.793634</td>\n",
       "      <td>VIC</td>\n",
       "      <td>3127</td>\n",
       "      <td>Prep-6</td>\n",
       "      <td>CoEd</td>\n",
       "      <td>Government</td>\n",
       "      <td>Mont Albert, VIC 3127</td>\n",
       "      <td>http://www.maps.vic.edu.au</td>\n",
       "    </tr>\n",
       "    <tr>\n",
       "      <th>4</th>\n",
       "      <td>16065436</td>\n",
       "      <td>primary</td>\n",
       "      <td>St Albans East Primary School</td>\n",
       "      <td>206.943539</td>\n",
       "      <td>VIC</td>\n",
       "      <td>3021</td>\n",
       "      <td>Prep-6</td>\n",
       "      <td>CoEd</td>\n",
       "      <td>Government</td>\n",
       "      <td>St Albans, VIC 3021</td>\n",
       "      <td>http://www.saeps.vic.edu.au</td>\n",
       "    </tr>\n",
       "    <tr>\n",
       "      <th>...</th>\n",
       "      <td>...</td>\n",
       "      <td>...</td>\n",
       "      <td>...</td>\n",
       "      <td>...</td>\n",
       "      <td>...</td>\n",
       "      <td>...</td>\n",
       "      <td>...</td>\n",
       "      <td>...</td>\n",
       "      <td>...</td>\n",
       "      <td>...</td>\n",
       "      <td>...</td>\n",
       "    </tr>\n",
       "    <tr>\n",
       "      <th>15509</th>\n",
       "      <td>13210984</td>\n",
       "      <td>combined</td>\n",
       "      <td>Apollo Bay P-12 College</td>\n",
       "      <td>720.992925</td>\n",
       "      <td>VIC</td>\n",
       "      <td>3233</td>\n",
       "      <td>Prep-12</td>\n",
       "      <td>CoEd</td>\n",
       "      <td>Government</td>\n",
       "      <td>Apollo Bay, VIC 3233</td>\n",
       "      <td>http://external.apollobayp12.vic.edu.au/</td>\n",
       "    </tr>\n",
       "    <tr>\n",
       "      <th>15510</th>\n",
       "      <td>15381771</td>\n",
       "      <td>primary</td>\n",
       "      <td>Rosanna Primary School</td>\n",
       "      <td>898.177717</td>\n",
       "      <td>VIC</td>\n",
       "      <td>3084</td>\n",
       "      <td>Prep-6</td>\n",
       "      <td>CoEd</td>\n",
       "      <td>Government</td>\n",
       "      <td>Rosanna, VIC 3084</td>\n",
       "      <td>http://www.rosannaps.vic.edu.au</td>\n",
       "    </tr>\n",
       "    <tr>\n",
       "      <th>15511</th>\n",
       "      <td>14529998</td>\n",
       "      <td>primary</td>\n",
       "      <td>St Monica's Primary School</td>\n",
       "      <td>705.284820</td>\n",
       "      <td>VIC</td>\n",
       "      <td>3039</td>\n",
       "      <td>Prep-6</td>\n",
       "      <td>CoEd</td>\n",
       "      <td>Catholic</td>\n",
       "      <td>Moonee Ponds, VIC 3039</td>\n",
       "      <td>http://www.stmonicasmp.catholic.edu.au</td>\n",
       "    </tr>\n",
       "    <tr>\n",
       "      <th>15512</th>\n",
       "      <td>15378664</td>\n",
       "      <td>primary</td>\n",
       "      <td>Carlton Gardens Primary School</td>\n",
       "      <td>244.869231</td>\n",
       "      <td>VIC</td>\n",
       "      <td>3053</td>\n",
       "      <td>Prep-6</td>\n",
       "      <td>CoEd</td>\n",
       "      <td>Government</td>\n",
       "      <td>Carlton, VIC 3053</td>\n",
       "      <td>http://www.carltongardens.vic.edu.au</td>\n",
       "    </tr>\n",
       "    <tr>\n",
       "      <th>15513</th>\n",
       "      <td>15376920</td>\n",
       "      <td>secondary</td>\n",
       "      <td>Pascoe Vale Girls Secondary College</td>\n",
       "      <td>305.881220</td>\n",
       "      <td>VIC</td>\n",
       "      <td>3044</td>\n",
       "      <td>7-12</td>\n",
       "      <td>Girls</td>\n",
       "      <td>Government</td>\n",
       "      <td>Pascoe Vale, VIC 3044</td>\n",
       "      <td>http://www.pvgc.vic.edu.au</td>\n",
       "    </tr>\n",
       "  </tbody>\n",
       "</table>\n",
       "<p>15514 rows × 11 columns</p>\n",
       "</div>"
      ],
      "text/plain": [
       "             id educationLevel                                          name  \\\n",
       "0      16065444      secondary  SEDA College (Victoria) - Netball Ascot Vale   \n",
       "1      16065443      secondary        Ozford College - Ozford College Campus   \n",
       "2      16065438        primary                  Richmond West Primary School   \n",
       "3      16065435        primary                    Mont Albert Primary School   \n",
       "4      16065436        primary                 St Albans East Primary School   \n",
       "...         ...            ...                                           ...   \n",
       "15509  13210984       combined                       Apollo Bay P-12 College   \n",
       "15510  15381771        primary                        Rosanna Primary School   \n",
       "15511  14529998        primary                    St Monica's Primary School   \n",
       "15512  15378664        primary                Carlton Gardens Primary School   \n",
       "15513  15376920      secondary           Pascoe Vale Girls Secondary College   \n",
       "\n",
       "         distance state postCode     year gender        type  \\\n",
       "0      407.034957   VIC     3032                     Private   \n",
       "1      259.550835   VIC     3000                     Private   \n",
       "2      729.249072   VIC     3121   Prep-6   CoEd  Government   \n",
       "3      671.793634   VIC     3127   Prep-6   CoEd  Government   \n",
       "4      206.943539   VIC     3021   Prep-6   CoEd  Government   \n",
       "...           ...   ...      ...      ...    ...         ...   \n",
       "15509  720.992925   VIC     3233  Prep-12   CoEd  Government   \n",
       "15510  898.177717   VIC     3084   Prep-6   CoEd  Government   \n",
       "15511  705.284820   VIC     3039   Prep-6   CoEd    Catholic   \n",
       "15512  244.869231   VIC     3053   Prep-6   CoEd  Government   \n",
       "15513  305.881220   VIC     3044     7-12  Girls  Government   \n",
       "\n",
       "                      address                                       url  \n",
       "0        Ascot Vale, VIC 3032                                            \n",
       "1         Melbourne, VIC 3000                                            \n",
       "2          Richmond, VIC 3121      http://www.richmondwestps.vic.edu.au  \n",
       "3       Mont Albert, VIC 3127                http://www.maps.vic.edu.au  \n",
       "4         St Albans, VIC 3021               http://www.saeps.vic.edu.au  \n",
       "...                       ...                                       ...  \n",
       "15509    Apollo Bay, VIC 3233  http://external.apollobayp12.vic.edu.au/  \n",
       "15510       Rosanna, VIC 3084           http://www.rosannaps.vic.edu.au  \n",
       "15511  Moonee Ponds, VIC 3039    http://www.stmonicasmp.catholic.edu.au  \n",
       "15512       Carlton, VIC 3053      http://www.carltongardens.vic.edu.au  \n",
       "15513   Pascoe Vale, VIC 3044                http://www.pvgc.vic.edu.au  \n",
       "\n",
       "[15514 rows x 11 columns]"
      ]
     },
     "execution_count": 34,
     "metadata": {},
     "output_type": "execute_result"
    }
   ],
   "source": [
    "school_list"
   ]
  },
  {
   "cell_type": "code",
   "execution_count": 35,
   "metadata": {},
   "outputs": [],
   "source": [
    "prop_list.to_csv('../data/raw/listing_properties.csv')\n",
    "sub_list.to_csv('../data/raw/suburb_stat.csv')\n",
    "neigh_list.to_csv('../data/raw/neigh_stat.csv')\n",
    "school_list.to_csv('../data/raw/closest_school.csv')"
   ]
  },
  {
   "cell_type": "code",
   "execution_count": 222,
   "metadata": {},
   "outputs": [
    {
     "data": {
      "text/plain": [
       "{'profiles': [{'type': 'street',\n",
       "   'profileUrl': 'https://www.domain.com.au/street-profile/sanctuary-walk-ascot-vale-vic-3032',\n",
       "   'onMarketType': 'rent',\n",
       "   'address': {'streetName': 'Sanctuary',\n",
       "    'streetType': 'Wk',\n",
       "    'streetTypeLong': 'Walk',\n",
       "    'suburb': 'Ascot Vale',\n",
       "    'postcode': '3032',\n",
       "    'state': 'VIC'},\n",
       "   'statistics': {'owners': 7,\n",
       "    'tenants': 4,\n",
       "    'propertyTypes': [{'type': 'Unit',\n",
       "      'total': 2,\n",
       "      'forSale': 0,\n",
       "      'forRent': 0,\n",
       "      'soldLast12Months': 0,\n",
       "      'rentedLast12Months': 0},\n",
       "     {'type': 'Townhouse',\n",
       "      'total': 1,\n",
       "      'forSale': 0,\n",
       "      'forRent': 0,\n",
       "      'soldLast12Months': 0,\n",
       "      'rentedLast12Months': 0},\n",
       "     {'type': 'House',\n",
       "      'total': 9,\n",
       "      'forSale': 0,\n",
       "      'forRent': 1,\n",
       "      'soldLast12Months': 1,\n",
       "      'rentedLast12Months': 1},\n",
       "     {'type': 'Other',\n",
       "      'total': 5,\n",
       "      'forSale': 0,\n",
       "      'forRent': 0,\n",
       "      'soldLast12Months': 0,\n",
       "      'rentedLast12Months': 0}],\n",
       "    'averageOwnerOccupierTenureMonths': 0},\n",
       "   'similarListingHistory': {'bedrooms': 4,\n",
       "    'bathrooms': 3,\n",
       "    'carspaces': 2,\n",
       "    'propertyType': 'House',\n",
       "    'address': {'flatNumber': '', 'streetNumber': '23'},\n",
       "    'profileUrl': 'https://www.domain.com.au/property-profile/23-sanctuary-walk-ascot-vale-vic-3032',\n",
       "    'date': '2021-12-21T00:00:00',\n",
       "    'price': 900},\n",
       "   'propertyDetails': {'bedrooms': 4,\n",
       "    'bathrooms': 3,\n",
       "    'carspaces': 2,\n",
       "    'propertyType': 'House'}}]}"
      ]
     },
     "execution_count": 222,
     "metadata": {},
     "output_type": "execute_result"
    }
   ],
   "source": [
    "listing_data['props']['locationProfileCards']"
   ]
  }
 ],
 "metadata": {
  "kernelspec": {
   "display_name": "Python 3.8.10 ('adsenv')",
   "language": "python",
   "name": "python3"
  },
  "language_info": {
   "codemirror_mode": {
    "name": "ipython",
    "version": 3
   },
   "file_extension": ".py",
   "mimetype": "text/x-python",
   "name": "python",
   "nbconvert_exporter": "python",
   "pygments_lexer": "ipython3",
   "version": "3.8.10"
  },
  "vscode": {
   "interpreter": {
    "hash": "f0224c05727885fec999e6ecccbb3a73f7a41ae998e258d763262ca99124f03f"
   }
  }
 },
 "nbformat": 4,
 "nbformat_minor": 2
}
