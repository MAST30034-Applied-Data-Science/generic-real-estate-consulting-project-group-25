{
 "cells": [
  {
   "cell_type": "code",
   "execution_count": null,
   "metadata": {},
   "outputs": [],
   "source": [
    "%cd ../scripts\n",
    "from backwardselim import back_ward_elim\n",
    "import pandas as pd\n",
    "import seaborn as sns\n",
    "import matplotlib.pyplot as plt\n",
    "from statsmodels.formula.api import ols, glm\n",
    "import statsmodels.api as sm\n",
    "import re"
   ]
  },
  {
   "cell_type": "markdown",
   "metadata": {},
   "source": [
    "# Preparing data"
   ]
  },
  {
   "cell_type": "markdown",
   "metadata": {},
   "source": [
    "Reading + Merging"
   ]
  },
  {
   "cell_type": "code",
   "execution_count": null,
   "metadata": {},
   "outputs": [],
   "source": [
    "data = pd.read_csv(\"../data/curated/listings_with_distances.csv\")\n",
    "school = pd.read_csv(\"../data/curated/Closest_and_average_dist_school.csv\")\n",
    "neighbour = pd.read_csv(\"../data/curated/neigh_stat.csv\")"
   ]
  },
  {
   "cell_type": "code",
   "execution_count": null,
   "metadata": {},
   "outputs": [],
   "source": [
    "data = pd.merge(data, school, left_on='id', right_on='listing_id')\n",
    "data = pd.merge(data, neighbour, left_on='id', right_on='id')"
   ]
  },
  {
   "cell_type": "markdown",
   "metadata": {},
   "source": [
    "Extracting suburb from the address"
   ]
  },
  {
   "cell_type": "code",
   "execution_count": null,
   "metadata": {},
   "outputs": [],
   "source": [
    "def get_Suburb(x:str):\n",
    "    try:\n",
    "        suburb = re.findall(\", [A-Za-z ]+ VIC\", x)[0]\n",
    "        suburb = re.sub(\", || VIC\", \"\", suburb)\n",
    "    except IndexError:\n",
    "        suburb = None\n",
    "    return suburb\n",
    "data[\"Suburb\"] = data[\"address\"].apply(lambda x: get_Suburb(x))"
   ]
  },
  {
   "cell_type": "code",
   "execution_count": null,
   "metadata": {},
   "outputs": [],
   "source": [
    "data.to_csv(\"../data/curated/listings_with_distances.csv\", index = False)"
   ]
  },
  {
   "cell_type": "markdown",
   "metadata": {},
   "source": [
    "# Visualisation the relationships/correlations between each features and rental prices"
   ]
  },
  {
   "cell_type": "code",
   "execution_count": null,
   "metadata": {},
   "outputs": [],
   "source": [
    "COLS = [\"price\", \"Suburb\", \"beds\",\"propertyType\", \"closest_school\", \"dist_closest_school\",\"ave_dist_3_schools\", \"ClosestDstToShoppingCentre\", \"DstToCBD\", \"ClosestShop\", \"ClosestDstToStation\", \"ClosestStation\", \"ClosestDstToUni\", \"ClosestUni\", \"age0To19\", \"age20To39\", \"age40To59\",\"age60Plus\",\"longTermResident\",\"owner\",\"renter\",\"family\",\"single\"]\n",
    "CORR_COLS = [\"price\", \"ClosestDstToShoppingCentre\", \"DstToCBD\", \"ClosestDstToStation\", \"ClosestDstToUni\", \"dist_closest_school\",\"ave_dist_3_schools\", \"age0To19\", \"age20To39\", \"age40To59\",\"age60Plus\",\"longTermResident\",\"owner\",\"renter\",\"family\",\"single\"]\n",
    "DISCRETE_COLS = [\"Suburb\", \"closest_school\", \"ClosestShop\", \"ClosestStation\", \"ClosestUni\"]\n",
    "data = data[COLS]"
   ]
  },
  {
   "cell_type": "markdown",
   "metadata": {},
   "source": [
    "Making sure to omit data where the distance was found to be too far, as it is not feasible to assume that the residents will utilise these facilities, and hence is considered irrelevant to determine the rental prices "
   ]
  },
  {
   "cell_type": "code",
   "execution_count": null,
   "metadata": {},
   "outputs": [],
   "source": [
    "data = data[data['ClosestDstToShoppingCentre'] < 100000]\n",
    "data = data[data['ClosestDstToStation'] < 100000]\n",
    "data = data[data['DstToCBD'] < 100000] \n",
    "data = data[data['ClosestDstToUni'] < 100000]\n"
   ]
  },
  {
   "cell_type": "code",
   "execution_count": null,
   "metadata": {},
   "outputs": [],
   "source": [
    "bed_4_house = data[(data[\"beds\"] == 4) & (data[\"propertyType\"] == \"House\")]\n",
    "bed_3_house = data[(data[\"beds\"] == 3) & (data[\"propertyType\"] == \"House\")]\n",
    "bed_2_house = data[(data[\"beds\"] == 2) & (data[\"propertyType\"] == \"House\")]\n",
    "bed_3_flat = data[(data[\"beds\"] == 3) & (data[\"propertyType\"] == \"Apartment / Unit / Flat\")]\n",
    "bed_2_flat = data[(data[\"beds\"] == 2) & (data[\"propertyType\"] == \"Apartment / Unit / Flat\")]\n",
    "bed_1_flat = data[(data[\"beds\"] == 1) & (data[\"propertyType\"] == \"Apartment / Unit / Flat\")]"
   ]
  },
  {
   "cell_type": "markdown",
   "metadata": {},
   "source": [
    "Starting off with examining the correlations"
   ]
  },
  {
   "cell_type": "code",
   "execution_count": null,
   "metadata": {},
   "outputs": [],
   "source": [
    "bed_2_house[CORR_COLS].corr()"
   ]
  },
  {
   "cell_type": "code",
   "execution_count": null,
   "metadata": {},
   "outputs": [],
   "source": [
    "bed_1_flat[CORR_COLS].corr()"
   ]
  },
  {
   "cell_type": "code",
   "execution_count": null,
   "metadata": {},
   "outputs": [],
   "source": [
    "bed_2_flat[CORR_COLS].corr()"
   ]
  },
  {
   "cell_type": "markdown",
   "metadata": {},
   "source": [
    "Followed by plotting to examine the details fo the relationship"
   ]
  },
  {
   "cell_type": "code",
   "execution_count": null,
   "metadata": {},
   "outputs": [],
   "source": [
    "fig, ax = plt.subplots(figsize=(12, 6))\n",
    "sns.regplot(\"ClosestDstToShoppingCentre\", \"price\", color=\"blue\", data=bed_2_house)\n",
    "sns.regplot(\"ClosestDstToShoppingCentre\", \"price\", color=\"red\", data=bed_2_flat)\n",
    "sns.regplot(\"ClosestDstToShoppingCentre\", \"price\", color=\"orange\", data=bed_1_flat)\n",
    "plt.xlim(0, 6000)\n",
    "plt.ylim(0, 1000)"
   ]
  },
  {
   "cell_type": "code",
   "execution_count": null,
   "metadata": {},
   "outputs": [],
   "source": [
    "fig, ax = plt.subplots(figsize=(12, 6))\n",
    "sns.regplot(\"ClosestDstToStation\", \"price\", color=\"blue\", data=bed_2_house)\n",
    "sns.regplot(\"ClosestDstToStation\", \"price\", color=\"red\", data=bed_2_flat)\n",
    "sns.regplot(\"ClosestDstToStation\", \"price\", color=\"orange\", data=bed_1_flat)\n",
    "plt.xlim(0, 6000)\n",
    "plt.ylim(0, 1000)"
   ]
  },
  {
   "cell_type": "markdown",
   "metadata": {},
   "source": [
    "## ANOVAS"
   ]
  },
  {
   "cell_type": "markdown",
   "metadata": {},
   "source": [
    "Removing outliers for each suburb"
   ]
  },
  {
   "cell_type": "code",
   "execution_count": null,
   "metadata": {},
   "outputs": [],
   "source": [
    "import math\n",
    "def remove_outlier(dataframe):\n",
    "    \"\"\"\n",
    "    Removes outlier in a dataframe\n",
    "    Outliers are identified as any records outside of [mean-2*standard dev, mean+2*standard dev] of the data\n",
    "    \"\"\"\n",
    "    df = pd.DataFrame()\n",
    "    for suburb in dataframe[\"Suburb\"].unique():\n",
    "        prices = dataframe[dataframe[\"Suburb\"] == suburb][\"price\"]\n",
    "        if len(prices) > 0:\n",
    "            mean = prices.sum()/len(prices)\n",
    "            sd = math.sqrt(((prices-mean)*(prices-mean)).sum()/(len(prices)))\n",
    "            df = pd.concat([df, dataframe[(dataframe.Suburb == suburb) & (dataframe.price < mean + 2*sd) & (dataframe.price > mean - 2*sd)]])\n",
    "    return df\n"
   ]
  },
  {
   "cell_type": "code",
   "execution_count": null,
   "metadata": {},
   "outputs": [],
   "source": [
    "bed_1_flat_clean = remove_outlier(bed_1_flat)\n",
    "bed_2_flat_clean = remove_outlier(bed_2_flat)\n",
    "bed_2_house_clean = remove_outlier(bed_2_house)"
   ]
  },
  {
   "cell_type": "markdown",
   "metadata": {},
   "source": [
    "### Backward elimination"
   ]
  },
  {
   "cell_type": "markdown",
   "metadata": {},
   "source": [
    "To test which features are the most significant in determining the price of the listing at instance level, and see how much of the variance in rental prices can be explained by these features"
   ]
  },
  {
   "cell_type": "code",
   "execution_count": null,
   "metadata": {},
   "outputs": [],
   "source": [
    "bed_1_flat_anova, bed_1_flat_model = back_ward_elim(bed_1_flat_clean)\n",
    "bed_2_flat_anova, bed_2_flat_model = back_ward_elim(bed_2_flat_clean)\n",
    "bed_2_house_anova, bed_2_house_model = back_ward_elim(bed_2_house_clean)"
   ]
  },
  {
   "cell_type": "code",
   "execution_count": null,
   "metadata": {},
   "outputs": [],
   "source": [
    "bed_1_flat_anova"
   ]
  },
  {
   "cell_type": "code",
   "execution_count": null,
   "metadata": {},
   "outputs": [],
   "source": [
    "bed_2_flat_anova"
   ]
  },
  {
   "cell_type": "code",
   "execution_count": null,
   "metadata": {},
   "outputs": [],
   "source": [
    "bed_2_house_anova"
   ]
  },
  {
   "cell_type": "code",
   "execution_count": null,
   "metadata": {},
   "outputs": [],
   "source": [
    "bed_1_flat_model.summary()"
   ]
  },
  {
   "cell_type": "code",
   "execution_count": null,
   "metadata": {},
   "outputs": [],
   "source": [
    "bed_2_flat_model.summary()"
   ]
  },
  {
   "cell_type": "code",
   "execution_count": null,
   "metadata": {},
   "outputs": [],
   "source": [
    "bed_2_house_model.summary()"
   ]
  }
 ],
 "metadata": {
  "kernelspec": {
   "display_name": "Python 3.10.5 64-bit",
   "language": "python",
   "name": "python3"
  },
  "language_info": {
   "codemirror_mode": {
    "name": "ipython",
    "version": 3
   },
   "file_extension": ".py",
   "mimetype": "text/x-python",
   "name": "python",
   "nbconvert_exporter": "python",
   "pygments_lexer": "ipython3",
   "version": "3.10.5"
  },
  "orig_nbformat": 4,
  "vscode": {
   "interpreter": {
    "hash": "b9af7b4efe902259f093e5a81853f1934b192867f93a14bfcc6783e18a0ce382"
   }
  }
 },
 "nbformat": 4,
 "nbformat_minor": 2
}
