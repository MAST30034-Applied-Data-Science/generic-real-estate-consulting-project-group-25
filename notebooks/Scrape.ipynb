{
 "cells": [
  {
   "cell_type": "code",
   "execution_count": 1,
   "id": "a536342d",
   "metadata": {},
   "outputs": [
    {
     "name": "stdout",
     "output_type": "stream",
     "text": [
      "/mnt/c/Users/User/OneDrive/Desktop/Uni - 2022/sem2/Applied Data Science/Proj2/generic-real-estate-consulting-project-group-25/scripts\n"
     ]
    },
    {
     "name": "stderr",
     "output_type": "stream",
     "text": [
      "/home/sousf/.local/lib/python3.10/site-packages/bs4/builder/__init__.py:545: XMLParsedAsHTMLWarning: It looks like you're parsing an XML document using an HTML parser. If this really is an HTML document (maybe it's XHTML?), you can ignore or filter this warning. If it's XML, you should know that using an XML parser will be more reliable. To parse this document as XML, make sure you have the lxml package installed, and pass the keyword argument `features=\"xml\"` into the BeautifulSoup constructor.\n",
      "  warnings.warn(\n",
      "/home/sousf/.local/lib/python3.10/site-packages/bs4/builder/__init__.py:545: XMLParsedAsHTMLWarning: It looks like you're parsing an XML document using an HTML parser. If this really is an HTML document (maybe it's XHTML?), you can ignore or filter this warning. If it's XML, you should know that using an XML parser will be more reliable. To parse this document as XML, make sure you have the lxml package installed, and pass the keyword argument `features=\"xml\"` into the BeautifulSoup constructor.\n",
      "  warnings.warn(\n",
      "  0%|▍                                                                             | 67/13846 [00:33<1:59:06,  1.93it/s]"
     ]
    },
    {
     "name": "stdout",
     "output_type": "stream",
     "text": [
      "Redirected:  67 https://www.domain.com.au/73a-castlewood-street-bentleigh-vic-3204-16089696\n"
     ]
    },
    {
     "name": "stderr",
     "output_type": "stream",
     "text": [
      "  1%|▍                                                                             | 84/13846 [00:41<1:15:27,  3.04it/s]"
     ]
    },
    {
     "name": "stdout",
     "output_type": "stream",
     "text": [
      "Redirected:  83 https://www.domain.com.au/45-coop-drive-gisborne-vic-3437-16089650\n",
      "'props'\n"
     ]
    },
    {
     "name": "stderr",
     "output_type": "stream",
     "text": [
      "  1%|▋                                                                            | 131/13846 [01:07<1:31:04,  2.51it/s]"
     ]
    },
    {
     "name": "stdout",
     "output_type": "stream",
     "text": [
      "Redirected:  130 https://www.domain.com.au/42-sanderson-st-yarraville-vic-3013-15845965\n",
      "'props'\n"
     ]
    },
    {
     "name": "stderr",
     "output_type": "stream",
     "text": [
      "  2%|█▏                                                                           | 220/13846 [01:54<2:36:54,  1.45it/s]"
     ]
    },
    {
     "name": "stdout",
     "output_type": "stream",
     "text": [
      "Redirected:  220 https://www.domain.com.au/2308-888-collins-street-docklands-vic-3008-16089214\n"
     ]
    },
    {
     "name": "stderr",
     "output_type": "stream",
     "text": [
      "  2%|█▎                                                                           | 226/13846 [01:59<2:52:42,  1.31it/s]"
     ]
    },
    {
     "name": "stdout",
     "output_type": "stream",
     "text": [
      "Redirected:  225 https://www.domain.com.au/127-173-city-road-southbank-vic-3006-16089195\n",
      "'props'\n"
     ]
    },
    {
     "name": "stderr",
     "output_type": "stream",
     "text": [
      "  2%|█▍                                                                           | 257/13846 [02:15<2:17:41,  1.64it/s]"
     ]
    },
    {
     "name": "stdout",
     "output_type": "stream",
     "text": [
      "'NoneType' object is not subscriptable\n"
     ]
    },
    {
     "name": "stderr",
     "output_type": "stream",
     "text": [
      "  2%|█▌                                                                           | 289/13846 [02:31<1:57:57,  1.92it/s]"
     ]
    },
    {
     "name": "stdout",
     "output_type": "stream",
     "text": [
      "Redirected:  289 https://www.domain.com.au/121-5-beavers-road-northcote-vic-3070-16088994\n"
     ]
    },
    {
     "name": "stderr",
     "output_type": "stream",
     "text": [
      "  2%|█▋                                                                           | 301/13846 [02:37<1:34:57,  2.38it/s]"
     ]
    },
    {
     "name": "stdout",
     "output_type": "stream",
     "text": [
      "Redirected:  301 https://www.domain.com.au/1-164-leila-road-carnegie-vic-3163-16088947\n"
     ]
    },
    {
     "name": "stderr",
     "output_type": "stream",
     "text": [
      "  3%|██▎                                                                          | 414/13846 [03:34<1:45:15,  2.13it/s]"
     ]
    },
    {
     "name": "stdout",
     "output_type": "stream",
     "text": [
      "Redirected:  414 https://www.domain.com.au/1002-macarthur-street-lake-wendouree-vic-3350-16088559\n"
     ]
    },
    {
     "name": "stderr",
     "output_type": "stream",
     "text": [
      "  4%|███                                                                          | 561/13846 [04:53<2:20:10,  1.58it/s]"
     ]
    },
    {
     "name": "stdout",
     "output_type": "stream",
     "text": [
      "Redirected:  561 https://www.domain.com.au/39-manifold-street-colac-vic-3250-16088169\n"
     ]
    },
    {
     "name": "stderr",
     "output_type": "stream",
     "text": [
      "  4%|███▎                                                                         | 591/13846 [05:12<2:26:22,  1.51it/s]"
     ]
    },
    {
     "name": "stdout",
     "output_type": "stream",
     "text": [
      "'NoneType' object is not subscriptable\n"
     ]
    },
    {
     "name": "stderr",
     "output_type": "stream",
     "text": [
      "  5%|███▋                                                                         | 654/13846 [05:44<1:35:40,  2.30it/s]"
     ]
    },
    {
     "name": "stdout",
     "output_type": "stream",
     "text": [
      "Redirected:  653 https://www.domain.com.au/1-48-boronia-grove-doncaster-east-vic-3109-15659560\n",
      "'props'\n"
     ]
    },
    {
     "name": "stderr",
     "output_type": "stream",
     "text": [
      "  5%|███▋                                                                         | 663/13846 [05:48<1:23:30,  2.63it/s]"
     ]
    },
    {
     "name": "stdout",
     "output_type": "stream",
     "text": [
      "Redirected:  662 https://www.domain.com.au/11-70-lyndhurst-street-richmond-vic-3121-16087861\n",
      "'props'\n"
     ]
    },
    {
     "name": "stderr",
     "output_type": "stream",
     "text": [
      "  5%|███▉                                                                         | 707/13846 [06:12<1:40:37,  2.18it/s]"
     ]
    },
    {
     "name": "stdout",
     "output_type": "stream",
     "text": [
      "Redirected:  707 https://www.domain.com.au/224-135-inkerman-road-st-kilda-vic-3182-16087729\n"
     ]
    },
    {
     "name": "stderr",
     "output_type": "stream",
     "text": [
      "  6%|████▋                                                                        | 832/13846 [07:20<1:51:17,  1.95it/s]"
     ]
    },
    {
     "name": "stdout",
     "output_type": "stream",
     "text": [
      "Redirected:  832 https://www.domain.com.au/a-40-austin-street-werribee-vic-3030-16087327\n"
     ]
    },
    {
     "name": "stderr",
     "output_type": "stream",
     "text": [
      "  6%|████▋                                                                        | 852/13846 [07:33<3:02:52,  1.18it/s]"
     ]
    },
    {
     "name": "stdout",
     "output_type": "stream",
     "text": [
      "'NoneType' object is not subscriptable\n"
     ]
    },
    {
     "name": "stderr",
     "output_type": "stream",
     "text": [
      "  7%|█████▎                                                                       | 951/13846 [08:28<1:40:01,  2.15it/s]"
     ]
    },
    {
     "name": "stdout",
     "output_type": "stream",
     "text": [
      "Redirected:  951 https://www.domain.com.au/5-1a-lansdowne-street-st-kilda-east-vic-3183-16086953\n"
     ]
    },
    {
     "name": "stderr",
     "output_type": "stream",
     "text": [
      "  7%|█████▎                                                                       | 962/13846 [08:34<1:36:30,  2.22it/s]"
     ]
    },
    {
     "name": "stdout",
     "output_type": "stream",
     "text": [
      "Redirected:  962 https://www.domain.com.au/5-topaz-street-wantirna-south-vic-3152-16086909\n"
     ]
    },
    {
     "name": "stderr",
     "output_type": "stream",
     "text": [
      "  7%|█████▍                                                                       | 979/13846 [08:46<2:48:03,  1.28it/s]"
     ]
    },
    {
     "name": "stdout",
     "output_type": "stream",
     "text": [
      "Redirected:  979 https://www.domain.com.au/5-kirby-canadian-vic-3350-16086853\n"
     ]
    },
    {
     "name": "stderr",
     "output_type": "stream",
     "text": [
      "  8%|█████▊                                                                      | 1048/13846 [09:22<1:35:03,  2.24it/s]"
     ]
    },
    {
     "name": "stdout",
     "output_type": "stream",
     "text": [
      "Redirected:  1047 https://www.domain.com.au/3-milbanke-street-portland-vic-3305-13365354\n",
      "'props'\n"
     ]
    },
    {
     "name": "stderr",
     "output_type": "stream",
     "text": [
      "  8%|█████▊                                                                      | 1052/13846 [09:24<1:30:37,  2.35it/s]"
     ]
    },
    {
     "name": "stdout",
     "output_type": "stream",
     "text": [
      "Redirected:  1051 https://www.domain.com.au/6-1a-sandown-road-ascot-vale-vic-3032-16029593\n",
      "'props'\n"
     ]
    },
    {
     "name": "stderr",
     "output_type": "stream",
     "text": [
      "  8%|█████▊                                                                      | 1055/13846 [09:26<1:48:00,  1.97it/s]"
     ]
    },
    {
     "name": "stdout",
     "output_type": "stream",
     "text": [
      "Redirected:  1055 https://www.domain.com.au/canterbury-rd-surrey-hills-vic-3127-12135798\n"
     ]
    },
    {
     "name": "stderr",
     "output_type": "stream",
     "text": [
      "\r",
      "  8%|█████▊                                                                      | 1056/13846 [09:27<2:24:21,  1.48it/s]"
     ]
    },
    {
     "name": "stdout",
     "output_type": "stream",
     "text": [
      "'listingSummary'\n"
     ]
    },
    {
     "name": "stderr",
     "output_type": "stream",
     "text": [
      "  8%|█████▉                                                                      | 1078/13846 [09:39<2:41:48,  1.32it/s]"
     ]
    },
    {
     "name": "stdout",
     "output_type": "stream",
     "text": [
      "Redirected:  1078 https://www.domain.com.au/10-515-bridge-inn-road-doreen-vic-3754-16086528\n"
     ]
    },
    {
     "name": "stderr",
     "output_type": "stream",
     "text": [
      "  8%|█████▉                                                                      | 1088/13846 [09:45<1:57:15,  1.81it/s]"
     ]
    },
    {
     "name": "stdout",
     "output_type": "stream",
     "text": [
      "Redirected:  1088 https://www.domain.com.au/4-12-puli-street-werribee-vic-3030-16086494\n"
     ]
    },
    {
     "name": "stderr",
     "output_type": "stream",
     "text": [
      "  9%|██████▍                                                                     | 1181/13846 [10:40<1:28:18,  2.39it/s]"
     ]
    },
    {
     "name": "stdout",
     "output_type": "stream",
     "text": [
      "Redirected:  1180 https://www.domain.com.au/7-longview-road-warragul-vic-3820-16086258\n",
      "'props'\n"
     ]
    },
    {
     "name": "stderr",
     "output_type": "stream",
     "text": [
      "  9%|██████▉                                                                     | 1266/13846 [11:28<2:02:57,  1.71it/s]"
     ]
    },
    {
     "name": "stdout",
     "output_type": "stream",
     "text": [
      "'NoneType' object is not subscriptable\n"
     ]
    },
    {
     "name": "stderr",
     "output_type": "stream",
     "text": [
      "  9%|███████▏                                                                    | 1311/13846 [11:51<1:45:24,  1.98it/s]"
     ]
    },
    {
     "name": "stdout",
     "output_type": "stream",
     "text": [
      "Redirected:  1311 https://www.domain.com.au/1609-224-la-trobe-street-melbourne-vic-3000-16085944\n"
     ]
    },
    {
     "name": "stderr",
     "output_type": "stream",
     "text": [
      " 10%|███████▌                                                                    | 1372/13846 [12:25<1:41:19,  2.05it/s]"
     ]
    },
    {
     "name": "stdout",
     "output_type": "stream",
     "text": [
      "Redirected:  1372 https://www.domain.com.au/1414-218-228-a-beckett-street-melbourne-vic-3000-16085721\n"
     ]
    },
    {
     "name": "stderr",
     "output_type": "stream",
     "text": [
      "\r",
      " 10%|███████▌                                                                    | 1373/13846 [12:26<1:56:43,  1.78it/s]"
     ]
    },
    {
     "name": "stdout",
     "output_type": "stream",
     "text": [
      "'listingSummary'\n"
     ]
    },
    {
     "name": "stderr",
     "output_type": "stream",
     "text": [
      " 10%|███████▌                                                                    | 1380/13846 [12:28<1:28:23,  2.35it/s]"
     ]
    },
    {
     "name": "stdout",
     "output_type": "stream",
     "text": [
      "Redirected:  1380 https://www.domain.com.au/213-9-dow-street-port-melbourne-vic-3207-16085690\n"
     ]
    },
    {
     "name": "stderr",
     "output_type": "stream",
     "text": [
      " 10%|███████▌                                                                    | 1383/13846 [12:31<2:26:44,  1.42it/s]"
     ]
    },
    {
     "name": "stdout",
     "output_type": "stream",
     "text": [
      "Redirected:  1382 https://www.domain.com.au/g09-5-claire-street-mckinnon-vic-3204-16069389\n",
      "'listingSummary'\n"
     ]
    },
    {
     "name": "stderr",
     "output_type": "stream",
     "text": [
      "\r",
      " 10%|███████▌                                                                    | 1384/13846 [12:31<1:55:21,  1.80it/s]"
     ]
    },
    {
     "name": "stdout",
     "output_type": "stream",
     "text": [
      "Redirected:  1383 https://www.domain.com.au/77-waterford-drive-miners-rest-vic-3352-16085678\n",
      "'props'\n"
     ]
    },
    {
     "name": "stderr",
     "output_type": "stream",
     "text": [
      " 10%|███████▌                                                                    | 1389/13846 [12:34<1:21:34,  2.55it/s]"
     ]
    },
    {
     "name": "stdout",
     "output_type": "stream",
     "text": [
      "Redirected:  1388 https://www.domain.com.au/4-14-trevatt-ct-mildura-vic-3500-16053312\n",
      "'props'\n"
     ]
    },
    {
     "name": "stderr",
     "output_type": "stream",
     "text": [
      " 10%|███████▊                                                                    | 1429/13846 [12:55<2:07:12,  1.63it/s]"
     ]
    },
    {
     "name": "stdout",
     "output_type": "stream",
     "text": [
      "Redirected:  1429 https://www.domain.com.au/15-fields-street-aintree-vic-3336-16085537\n"
     ]
    },
    {
     "name": "stderr",
     "output_type": "stream",
     "text": [
      " 10%|███████▊                                                                    | 1434/13846 [12:58<2:19:02,  1.49it/s]"
     ]
    },
    {
     "name": "stdout",
     "output_type": "stream",
     "text": [
      "Redirected:  1434 https://www.domain.com.au/10-663-inkerman-road-caulfield-north-vic-3161-16085522\n"
     ]
    },
    {
     "name": "stderr",
     "output_type": "stream",
     "text": [
      " 11%|████████▏                                                                   | 1483/13846 [13:25<1:30:46,  2.27it/s]"
     ]
    },
    {
     "name": "stdout",
     "output_type": "stream",
     "text": [
      "Redirected:  1483 https://www.domain.com.au/32-32-james-lillis-drive-yarrawonga-vic-3730-16085366\n"
     ]
    },
    {
     "name": "stderr",
     "output_type": "stream",
     "text": [
      " 11%|████████▍                                                                   | 1535/13846 [13:53<1:58:30,  1.73it/s]"
     ]
    },
    {
     "name": "stdout",
     "output_type": "stream",
     "text": [
      "Redirected:  1534 https://www.domain.com.au/205-95-ormond-road-elwood-vic-3184-16085196\n",
      "'props'\n"
     ]
    },
    {
     "name": "stderr",
     "output_type": "stream",
     "text": [
      " 12%|████████▉                                                                   | 1617/13846 [14:37<2:27:17,  1.38it/s]"
     ]
    },
    {
     "name": "stdout",
     "output_type": "stream",
     "text": [
      "Redirected:  1617 https://www.domain.com.au/9-38-princes-highway-noble-park-vic-3174-16084981\n"
     ]
    },
    {
     "name": "stderr",
     "output_type": "stream",
     "text": [
      " 12%|████████▉                                                                   | 1627/13846 [14:41<1:40:55,  2.02it/s]"
     ]
    },
    {
     "name": "stdout",
     "output_type": "stream",
     "text": [
      "Redirected:  1627 https://www.domain.com.au/33-babele-road-street-tarneit-vic-3029-16084954\n"
     ]
    },
    {
     "name": "stderr",
     "output_type": "stream",
     "text": [
      " 12%|█████████▎                                                                  | 1706/13846 [15:21<1:39:14,  2.04it/s]"
     ]
    },
    {
     "name": "stdout",
     "output_type": "stream",
     "text": [
      "Redirected:  1706 https://www.domain.com.au/1-22-high-street-preston-vic-3072-16084705\n"
     ]
    },
    {
     "name": "stderr",
     "output_type": "stream",
     "text": [
      " 12%|█████████▍                                                                  | 1718/13846 [15:26<1:11:00,  2.85it/s]"
     ]
    },
    {
     "name": "stdout",
     "output_type": "stream",
     "text": [
      "Redirected:  1717 https://www.domain.com.au/3-23-auburn-grove-hawthorn-vic-3122-16084664\n",
      "'props'\n"
     ]
    },
    {
     "name": "stderr",
     "output_type": "stream",
     "text": [
      " 12%|█████████▍                                                                  | 1721/13846 [15:27<1:05:59,  3.06it/s]"
     ]
    },
    {
     "name": "stdout",
     "output_type": "stream",
     "text": [
      "Redirected:  1720 https://www.domain.com.au/3-23-auburn-grove-hawthorn-vic-3122-16084647\n",
      "'props'\n",
      "Redirected:  1721 https://www.domain.com.au/dodd79-6-dodds-street-southbank-vic-3006-16084645\n"
     ]
    },
    {
     "name": "stderr",
     "output_type": "stream",
     "text": [
      " 13%|█████████▌                                                                  | 1752/13846 [15:44<1:25:13,  2.36it/s]"
     ]
    },
    {
     "name": "stdout",
     "output_type": "stream",
     "text": [
      "Redirected:  1751 https://www.domain.com.au/2205-89-gladstone-street-south-melbourne-vic-3205-12521496\n",
      "'props'\n"
     ]
    },
    {
     "name": "stderr",
     "output_type": "stream",
     "text": [
      " 13%|█████████▉                                                                  | 1820/13846 [16:17<2:02:27,  1.64it/s]"
     ]
    },
    {
     "name": "stdout",
     "output_type": "stream",
     "text": [
      "Redirected:  1820 https://www.domain.com.au/foster-vic-3960-15844428\n"
     ]
    },
    {
     "name": "stderr",
     "output_type": "stream",
     "text": [
      " 13%|██████████                                                                  | 1822/13846 [16:19<2:13:01,  1.51it/s]"
     ]
    },
    {
     "name": "stdout",
     "output_type": "stream",
     "text": [
      "Redirected:  1822 https://www.domain.com.au/120-truemans-road-rye-vic-3941-16084327\n"
     ]
    },
    {
     "name": "stderr",
     "output_type": "stream",
     "text": [
      " 13%|██████████                                                                  | 1834/13846 [16:25<1:34:11,  2.13it/s]"
     ]
    },
    {
     "name": "stdout",
     "output_type": "stream",
     "text": [
      "Redirected:  1834 https://www.domain.com.au/213-40-pakington-st-st-kilda-vic-3182-16084276\n"
     ]
    },
    {
     "name": "stderr",
     "output_type": "stream",
     "text": [
      " 14%|██████████▍                                                                 | 1899/13846 [16:58<2:31:41,  1.31it/s]"
     ]
    },
    {
     "name": "stdout",
     "output_type": "stream",
     "text": [
      "Redirected:  1898 https://www.domain.com.au/9-79-dodds-street-southbank-vic-3006-16084068\n",
      "'props'\n"
     ]
    },
    {
     "name": "stderr",
     "output_type": "stream",
     "text": [
      " 15%|███████████▎                                                                | 2055/13846 [18:18<1:41:02,  1.94it/s]"
     ]
    },
    {
     "name": "stdout",
     "output_type": "stream",
     "text": [
      "Redirected:  2055 https://www.domain.com.au/213-50-barry-street-carlton-vic-3053-8516703\n"
     ]
    },
    {
     "name": "stderr",
     "output_type": "stream",
     "text": [
      " 15%|███████████▍                                                                | 2076/13846 [18:29<1:37:18,  2.02it/s]"
     ]
    },
    {
     "name": "stdout",
     "output_type": "stream",
     "text": [
      "Redirected:  2076 https://www.domain.com.au/46-princes-korumburra-vic-3950-16083615\n"
     ]
    },
    {
     "name": "stderr",
     "output_type": "stream",
     "text": [
      " 15%|███████████▌                                                                | 2107/13846 [18:45<2:41:59,  1.21it/s]"
     ]
    },
    {
     "name": "stdout",
     "output_type": "stream",
     "text": [
      "'NoneType' object is not subscriptable\n"
     ]
    },
    {
     "name": "stderr",
     "output_type": "stream",
     "text": [
      " 15%|███████████▋                                                                | 2123/13846 [18:56<2:22:18,  1.37it/s]"
     ]
    },
    {
     "name": "stdout",
     "output_type": "stream",
     "text": [
      "Redirected:  2123 https://www.domain.com.au/point-cook-vic-3030-16083476\n"
     ]
    },
    {
     "name": "stderr",
     "output_type": "stream",
     "text": [
      " 16%|███████████▊                                                                | 2154/13846 [19:10<1:23:50,  2.32it/s]"
     ]
    },
    {
     "name": "stdout",
     "output_type": "stream",
     "text": [
      "Redirected:  2154 https://www.domain.com.au/21-street-martins-boulevard-truganina-vic-3029-16083391\n"
     ]
    },
    {
     "name": "stderr",
     "output_type": "stream",
     "text": [
      " 16%|████████████▏                                                               | 2209/13846 [19:45<1:14:53,  2.59it/s]"
     ]
    },
    {
     "name": "stdout",
     "output_type": "stream",
     "text": [
      "Redirected:  2208 https://www.domain.com.au/2-610-neerim-road-hughesdale-vic-3166-15940344\n",
      "'props'\n"
     ]
    },
    {
     "name": "stderr",
     "output_type": "stream",
     "text": [
      " 16%|████████████▏                                                               | 2220/13846 [19:51<1:44:33,  1.85it/s]"
     ]
    },
    {
     "name": "stdout",
     "output_type": "stream",
     "text": [
      "Redirected:  2219 https://www.domain.com.au/503-2-10-plenty-road-preston-vic-3072-14849029\n",
      "'listingSummary'\n"
     ]
    },
    {
     "name": "stderr",
     "output_type": "stream",
     "text": [
      " 16%|████████████▏                                                               | 2226/13846 [19:54<1:33:42,  2.07it/s]"
     ]
    },
    {
     "name": "stdout",
     "output_type": "stream",
     "text": [
      "Redirected:  2226 https://www.domain.com.au/1709-6-leicester-street-carlton-vic-3053-9036103\n"
     ]
    },
    {
     "name": "stderr",
     "output_type": "stream",
     "text": [
      " 16%|████████████▏                                                               | 2228/13846 [19:55<1:24:36,  2.29it/s]"
     ]
    },
    {
     "name": "stdout",
     "output_type": "stream",
     "text": [
      "Redirected:  2227 https://www.domain.com.au/8-porter-street-prahran-vic-3181-16014923\n",
      "'listingSummary'\n"
     ]
    },
    {
     "name": "stderr",
     "output_type": "stream",
     "text": [
      " 16%|████████████▌                                                               | 2282/13846 [20:25<1:35:37,  2.02it/s]"
     ]
    },
    {
     "name": "stdout",
     "output_type": "stream",
     "text": [
      "Redirected:  2282 https://www.domain.com.au/105-603-st-kilda-road-melbourne-vic-3004-14250343\n"
     ]
    },
    {
     "name": "stderr",
     "output_type": "stream",
     "text": [
      " 17%|████████████▌                                                               | 2294/13846 [20:32<2:03:24,  1.56it/s]"
     ]
    },
    {
     "name": "stdout",
     "output_type": "stream",
     "text": [
      "Redirected:  2294 https://www.domain.com.au/1-42-roseberry-street-ascot-vale-vic-3032-16082861\n"
     ]
    },
    {
     "name": "stderr",
     "output_type": "stream",
     "text": [
      " 17%|████████████▋                                                               | 2306/13846 [20:38<1:35:42,  2.01it/s]"
     ]
    },
    {
     "name": "stdout",
     "output_type": "stream",
     "text": [
      "Redirected:  2306 https://www.domain.com.au/10-18-lowe-kangaroo-flat-vic-3555-16082836\n"
     ]
    },
    {
     "name": "stderr",
     "output_type": "stream",
     "text": [
      " 17%|████████████▉                                                               | 2354/13846 [21:03<2:22:00,  1.35it/s]"
     ]
    },
    {
     "name": "stdout",
     "output_type": "stream",
     "text": [
      "Redirected:  2354 https://www.domain.com.au/1102-b2-wests-road-maribyrnong-vic-3032-16082685\n"
     ]
    },
    {
     "name": "stderr",
     "output_type": "stream",
     "text": [
      " 17%|████████████▉                                                               | 2367/13846 [21:11<1:45:45,  1.81it/s]"
     ]
    },
    {
     "name": "stdout",
     "output_type": "stream",
     "text": [
      "Redirected:  2367 https://www.domain.com.au/23-thomas-street-croydon-vic-3136-16082649\n"
     ]
    },
    {
     "name": "stderr",
     "output_type": "stream",
     "text": [
      "\r",
      " 17%|████████████▉                                                               | 2368/13846 [21:12<1:50:33,  1.73it/s]"
     ]
    },
    {
     "name": "stdout",
     "output_type": "stream",
     "text": [
      "Redirected:  2368 https://www.domain.com.au/5-maroa-st-tarneit-vic-3029-16082644\n"
     ]
    },
    {
     "name": "stderr",
     "output_type": "stream",
     "text": [
      " 17%|█████████████                                                               | 2387/13846 [21:23<2:08:26,  1.49it/s]"
     ]
    },
    {
     "name": "stdout",
     "output_type": "stream",
     "text": [
      "Redirected:  2387 https://www.domain.com.au/2-40-ernest-st-bell-post-hill-vic-3215-16082565\n"
     ]
    },
    {
     "name": "stderr",
     "output_type": "stream",
     "text": [
      " 17%|█████████████▎                                                              | 2419/13846 [21:40<1:24:43,  2.25it/s]"
     ]
    },
    {
     "name": "stdout",
     "output_type": "stream",
     "text": [
      "Redirected:  2418 https://www.domain.com.au/8-3-market-street-dandenong-vic-3175-16082461\n",
      "'props'\n"
     ]
    },
    {
     "name": "stderr",
     "output_type": "stream",
     "text": [
      " 18%|█████████████▉                                                              | 2533/13846 [22:40<1:46:02,  1.78it/s]"
     ]
    },
    {
     "name": "stdout",
     "output_type": "stream",
     "text": [
      "Redirected:  2533 https://www.domain.com.au/11-craigielea-avenue-st-albans-east-vic-3021-16082076\n"
     ]
    },
    {
     "name": "stderr",
     "output_type": "stream",
     "text": [
      " 19%|██████████████▌                                                             | 2642/13846 [23:41<1:07:52,  2.75it/s]"
     ]
    },
    {
     "name": "stdout",
     "output_type": "stream",
     "text": [
      "Redirected:  2641 https://www.domain.com.au/601-8-exploration-lane-melbourne-vic-3000-16081723\n",
      "'props'\n"
     ]
    },
    {
     "name": "stderr",
     "output_type": "stream",
     "text": [
      " 19%|██████████████▋                                                             | 2674/13846 [23:57<1:20:06,  2.32it/s]"
     ]
    },
    {
     "name": "stdout",
     "output_type": "stream",
     "text": [
      "Redirected:  2673 https://www.domain.com.au/3013-618-lonsdale-street-melbourne-vic-3000-16081640\n",
      "'props'\n"
     ]
    },
    {
     "name": "stderr",
     "output_type": "stream",
     "text": [
      " 19%|██████████████▊                                                             | 2697/13846 [24:10<1:34:35,  1.96it/s]"
     ]
    },
    {
     "name": "stdout",
     "output_type": "stream",
     "text": [
      "Redirected:  2697 https://www.domain.com.au/23-beachview-parade-point-cook-vic-3030-16081552\n"
     ]
    },
    {
     "name": "stderr",
     "output_type": "stream",
     "text": [
      " 20%|██████████████▉                                                             | 2722/13846 [24:22<1:23:34,  2.22it/s]"
     ]
    },
    {
     "name": "stdout",
     "output_type": "stream",
     "text": [
      "Redirected:  2722 https://www.domain.com.au/1-belle-vue-avenue-ringwood-north-vic-3134-16081453\n"
     ]
    },
    {
     "name": "stderr",
     "output_type": "stream",
     "text": [
      " 20%|███████████████                                                             | 2751/13846 [24:38<1:37:02,  1.91it/s]"
     ]
    },
    {
     "name": "stdout",
     "output_type": "stream",
     "text": [
      "Redirected:  2751 https://www.domain.com.au/408bb-609-victoria-street-abbotsford-vic-3067-16081346\n"
     ]
    },
    {
     "name": "stderr",
     "output_type": "stream",
     "text": [
      " 20%|███████████████                                                             | 2755/13846 [24:41<2:25:13,  1.27it/s]"
     ]
    },
    {
     "name": "stdout",
     "output_type": "stream",
     "text": [
      "'NoneType' object is not subscriptable\n"
     ]
    },
    {
     "name": "stderr",
     "output_type": "stream",
     "text": [
      " 20%|███████████████▏                                                            | 2773/13846 [24:49<1:27:34,  2.11it/s]"
     ]
    },
    {
     "name": "stdout",
     "output_type": "stream",
     "text": [
      "Redirected:  2773 https://www.domain.com.au/509-whiltshire-lane-delacombe-vic-3356-16081295\n"
     ]
    },
    {
     "name": "stderr",
     "output_type": "stream",
     "text": [
      " 20%|███████████████▍                                                            | 2812/13846 [25:10<1:26:41,  2.12it/s]"
     ]
    },
    {
     "name": "stdout",
     "output_type": "stream",
     "text": [
      "Redirected:  2811 https://www.domain.com.au/3401-245-city-road-southbank-vic-3006-16068153\n",
      "'props'\n"
     ]
    },
    {
     "name": "stderr",
     "output_type": "stream",
     "text": [
      " 20%|███████████████▌                                                            | 2826/13846 [25:18<1:30:29,  2.03it/s]"
     ]
    },
    {
     "name": "stdout",
     "output_type": "stream",
     "text": [
      "Redirected:  2825 https://www.domain.com.au/5-5-high-street-moe-vic-3825-16081156\n",
      "'props'\n"
     ]
    },
    {
     "name": "stderr",
     "output_type": "stream",
     "text": [
      " 20%|███████████████▌                                                            | 2838/13846 [25:25<2:54:44,  1.05it/s]"
     ]
    },
    {
     "name": "stdout",
     "output_type": "stream",
     "text": [
      "Redirected:  2838 https://www.domain.com.au/53-keira-avenue-werribee-vic-3030-16081095\n"
     ]
    },
    {
     "name": "stderr",
     "output_type": "stream",
     "text": [
      " 21%|████████████████▏                                                           | 2959/13846 [26:33<1:48:48,  1.67it/s]"
     ]
    },
    {
     "name": "stdout",
     "output_type": "stream",
     "text": [
      "'NoneType' object is not subscriptable\n"
     ]
    },
    {
     "name": "stderr",
     "output_type": "stream",
     "text": [
      " 22%|████████████████▎                                                           | 2981/13846 [26:46<1:31:53,  1.97it/s]"
     ]
    },
    {
     "name": "stdout",
     "output_type": "stream",
     "text": [
      "Redirected:  2981 https://www.domain.com.au/9-330-johnston-street-abbotsford-vic-3067-16080546\n"
     ]
    },
    {
     "name": "stderr",
     "output_type": "stream",
     "text": [
      " 22%|████████████████▍                                                           | 3006/13846 [26:57<1:20:56,  2.23it/s]"
     ]
    },
    {
     "name": "stdout",
     "output_type": "stream",
     "text": [
      "Redirected:  3006 https://www.domain.com.au/1-49-mason-street-altona-north-vic-3025-16080468\n"
     ]
    },
    {
     "name": "stderr",
     "output_type": "stream",
     "text": [
      " 22%|████████████████▉                                                           | 3088/13846 [27:40<1:18:18,  2.29it/s]"
     ]
    },
    {
     "name": "stdout",
     "output_type": "stream",
     "text": [
      "Redirected:  3088 https://www.domain.com.au/west-melbourne-vic-3003-16080195\n"
     ]
    },
    {
     "name": "stderr",
     "output_type": "stream",
     "text": [
      " 23%|█████████████████▏                                                          | 3134/13846 [28:06<2:01:20,  1.47it/s]"
     ]
    },
    {
     "name": "stdout",
     "output_type": "stream",
     "text": [
      "Redirected:  3133 https://www.domain.com.au/unit-2308-3-yarra-street-south-yarra-vic-3141-16080062\n",
      "'props'\n"
     ]
    },
    {
     "name": "stderr",
     "output_type": "stream",
     "text": [
      " 23%|█████████████████▎                                                          | 3156/13846 [28:18<1:14:33,  2.39it/s]"
     ]
    },
    {
     "name": "stdout",
     "output_type": "stream",
     "text": [
      "Redirected:  3156 https://www.domain.com.au/25b-grovelands-mulgrave-vic-3170-16079965\n"
     ]
    },
    {
     "name": "stderr",
     "output_type": "stream",
     "text": [
      " 23%|█████████████████▎                                                          | 3158/13846 [28:21<2:05:39,  1.42it/s]"
     ]
    },
    {
     "name": "stdout",
     "output_type": "stream",
     "text": [
      "Redirected:  3158 https://www.domain.com.au/12-topaz-grove-south-melbourne-vic-3205-16079961\n"
     ]
    },
    {
     "name": "stderr",
     "output_type": "stream",
     "text": [
      " 23%|█████████████████▎                                                          | 3160/13846 [28:22<1:47:57,  1.65it/s]"
     ]
    },
    {
     "name": "stdout",
     "output_type": "stream",
     "text": [
      "Redirected:  3160 https://www.domain.com.au/83-morang-road-hawthorn-vic-3122-16079959\n"
     ]
    },
    {
     "name": "stderr",
     "output_type": "stream",
     "text": [
      " 23%|█████████████████▍                                                          | 3168/13846 [28:27<1:26:24,  2.06it/s]"
     ]
    },
    {
     "name": "stdout",
     "output_type": "stream",
     "text": [
      "Redirected:  3168 https://www.domain.com.au/mount-eliza-vic-3930-16079935\n"
     ]
    },
    {
     "name": "stderr",
     "output_type": "stream",
     "text": [
      " 23%|█████████████████▍                                                          | 3176/13846 [28:32<1:44:54,  1.70it/s]"
     ]
    },
    {
     "name": "stdout",
     "output_type": "stream",
     "text": [
      "Redirected:  3175 https://www.domain.com.au/62a-union-street-windsor-vic-3181-16079897\n",
      "'props'\n"
     ]
    },
    {
     "name": "stderr",
     "output_type": "stream",
     "text": [
      " 23%|█████████████████▊                                                          | 3241/13846 [29:07<1:32:15,  1.92it/s]"
     ]
    },
    {
     "name": "stdout",
     "output_type": "stream",
     "text": [
      "Redirected:  3240 https://www.domain.com.au/2513-288-spencer-street-melbourne-vic-3000-16079698\n",
      "'props'\n"
     ]
    },
    {
     "name": "stderr",
     "output_type": "stream",
     "text": [
      " 23%|█████████████████▊                                                          | 3246/13846 [29:09<1:21:19,  2.17it/s]"
     ]
    },
    {
     "name": "stdout",
     "output_type": "stream",
     "text": [
      "Redirected:  3245 https://www.domain.com.au/203-333-ferrars-street-south-melbourne-vic-3205-16079686\n",
      "'props'\n"
     ]
    },
    {
     "name": "stderr",
     "output_type": "stream",
     "text": [
      " 24%|██████████████████▏                                                         | 3304/13846 [29:42<1:46:58,  1.64it/s]"
     ]
    },
    {
     "name": "stdout",
     "output_type": "stream",
     "text": [
      "Redirected:  3304 https://www.domain.com.au/level-2-208-16-leake-street-essendon-vic-3040-10710274\n"
     ]
    },
    {
     "name": "stderr",
     "output_type": "stream",
     "text": [
      "\r",
      " 24%|██████████████████▏                                                         | 3305/13846 [29:42<1:29:29,  1.96it/s]"
     ]
    },
    {
     "name": "stdout",
     "output_type": "stream",
     "text": [
      "'listingSummary'\n"
     ]
    },
    {
     "name": "stderr",
     "output_type": "stream",
     "text": [
      " 24%|██████████████████▏                                                         | 3315/13846 [29:47<1:21:30,  2.15it/s]"
     ]
    },
    {
     "name": "stdout",
     "output_type": "stream",
     "text": [
      "Redirected:  3315 https://www.domain.com.au/4-5-132-mitcham-road-donvale-vic-3111-16079428\n"
     ]
    },
    {
     "name": "stderr",
     "output_type": "stream",
     "text": [
      " 24%|██████████████████▍                                                         | 3360/13846 [30:11<1:05:57,  2.65it/s]"
     ]
    },
    {
     "name": "stdout",
     "output_type": "stream",
     "text": [
      "Redirected:  3359 https://www.domain.com.au/1-haddington-crescent-greenvale-vic-3059-16057128\n",
      "'props'\n"
     ]
    },
    {
     "name": "stderr",
     "output_type": "stream",
     "text": [
      " 24%|██████████████████▉                                                           | 3364/13846 [30:12<57:57,  3.01it/s]"
     ]
    },
    {
     "name": "stdout",
     "output_type": "stream",
     "text": [
      "Redirected:  3363 https://www.domain.com.au/86-hambleton-street-middle-park-vic-3206-16079300\n",
      "'props'\n"
     ]
    },
    {
     "name": "stderr",
     "output_type": "stream",
     "text": [
      " 25%|██████████████████▋                                                         | 3401/13846 [30:32<1:22:22,  2.11it/s]"
     ]
    },
    {
     "name": "stdout",
     "output_type": "stream",
     "text": [
      "Redirected:  3400 https://www.domain.com.au/13-midway-street-mount-waverley-vic-3149-16079188\n",
      "'props'\n"
     ]
    },
    {
     "name": "stderr",
     "output_type": "stream",
     "text": [
      " 25%|██████████████████▋                                                         | 3406/13846 [30:35<1:40:04,  1.74it/s]"
     ]
    },
    {
     "name": "stdout",
     "output_type": "stream",
     "text": [
      "Redirected:  3406 https://www.domain.com.au/2-saronvale-crescent-hillside-vic-3037-16079169\n"
     ]
    },
    {
     "name": "stderr",
     "output_type": "stream",
     "text": [
      " 25%|███████████████████                                                         | 3474/13846 [31:11<1:29:16,  1.94it/s]"
     ]
    },
    {
     "name": "stdout",
     "output_type": "stream",
     "text": [
      "Redirected:  3474 https://www.domain.com.au/2616-9-23-mackenzie-street-melbourne-vic-3000-16078847\n"
     ]
    },
    {
     "name": "stderr",
     "output_type": "stream",
     "text": [
      " 25%|███████████████████▏                                                        | 3485/13846 [31:16<1:22:14,  2.10it/s]"
     ]
    },
    {
     "name": "stdout",
     "output_type": "stream",
     "text": [
      "Redirected:  3484 https://www.domain.com.au/920-65-coventry-st-southbank-vic-3006-16078804\n",
      "'props'\n"
     ]
    },
    {
     "name": "stderr",
     "output_type": "stream",
     "text": [
      " 25%|███████████████████▎                                                        | 3517/13846 [31:32<1:29:30,  1.92it/s]"
     ]
    },
    {
     "name": "stdout",
     "output_type": "stream",
     "text": [
      "Redirected:  3517 https://www.domain.com.au/4-churchill-court-noble-park-vic-3174-16078691\n"
     ]
    },
    {
     "name": "stderr",
     "output_type": "stream",
     "text": [
      " 25%|███████████████████▎                                                        | 3519/13846 [31:33<1:33:10,  1.85it/s]"
     ]
    },
    {
     "name": "stdout",
     "output_type": "stream",
     "text": [
      "Expecting value: line 1 column 1 (char 0)\n"
     ]
    },
    {
     "name": "stderr",
     "output_type": "stream",
     "text": [
      " 26%|███████████████████▌                                                        | 3555/13846 [31:50<1:05:10,  2.63it/s]"
     ]
    },
    {
     "name": "stdout",
     "output_type": "stream",
     "text": [
      "Redirected:  3554 https://www.domain.com.au/223-dandelion-drive-rowville-vic-3178-16078559\n",
      "'props'\n"
     ]
    },
    {
     "name": "stderr",
     "output_type": "stream",
     "text": [
      " 26%|███████████████████▌                                                        | 3571/13846 [31:57<1:19:27,  2.16it/s]"
     ]
    },
    {
     "name": "stdout",
     "output_type": "stream",
     "text": [
      "Redirected:  3570 https://www.domain.com.au/3-princes-avenue-drouin-vic-3818-16078520\n",
      "'props'\n"
     ]
    },
    {
     "name": "stderr",
     "output_type": "stream",
     "text": [
      " 26%|███████████████████▋                                                        | 3584/13846 [32:03<1:13:33,  2.33it/s]"
     ]
    },
    {
     "name": "stdout",
     "output_type": "stream",
     "text": [
      "Redirected:  3584 https://www.domain.com.au/2-62-unitt-street-melton-vic-3337-16078480\n"
     ]
    },
    {
     "name": "stderr",
     "output_type": "stream",
     "text": [
      " 26%|███████████████████▋                                                        | 3592/13846 [32:07<1:29:24,  1.91it/s]"
     ]
    },
    {
     "name": "stdout",
     "output_type": "stream",
     "text": [
      "Redirected:  3592 https://www.domain.com.au/35-drummond-street-carlton-north-vic-3054-16078456\n"
     ]
    },
    {
     "name": "stderr",
     "output_type": "stream",
     "text": [
      " 26%|███████████████████▊                                                        | 3606/13846 [32:14<1:13:25,  2.32it/s]"
     ]
    },
    {
     "name": "stdout",
     "output_type": "stream",
     "text": [
      "Redirected:  3605 https://www.domain.com.au/4804-7-riverside-quay-southbank-vic-3006-16078416\n",
      "'props'\n"
     ]
    },
    {
     "name": "stderr",
     "output_type": "stream",
     "text": [
      " 26%|███████████████████▊                                                        | 3609/13846 [32:16<1:14:40,  2.28it/s]"
     ]
    },
    {
     "name": "stdout",
     "output_type": "stream",
     "text": [
      "Redirected:  3609 https://www.domain.com.au/room-1-1-5-madeleine-road-clayton-vic-3168-16078406\n"
     ]
    },
    {
     "name": "stderr",
     "output_type": "stream",
     "text": [
      " 26%|███████████████████▊                                                        | 3615/13846 [32:20<1:38:57,  1.72it/s]"
     ]
    },
    {
     "name": "stdout",
     "output_type": "stream",
     "text": [
      "Redirected:  3615 https://www.domain.com.au/2-saronvale-crescent-hillside-vic-3037-16078386\n"
     ]
    },
    {
     "name": "stderr",
     "output_type": "stream",
     "text": [
      " 26%|███████████████████▊                                                        | 3618/13846 [32:22<1:56:38,  1.46it/s]"
     ]
    },
    {
     "name": "stdout",
     "output_type": "stream",
     "text": [
      "Redirected:  3618 https://www.domain.com.au/10-bernard-drive-melton-south-vic-3338-16078364\n"
     ]
    },
    {
     "name": "stderr",
     "output_type": "stream",
     "text": [
      " 26%|███████████████████▉                                                        | 3629/13846 [32:30<1:57:39,  1.45it/s]"
     ]
    },
    {
     "name": "stdout",
     "output_type": "stream",
     "text": [
      "Redirected:  3629 https://www.domain.com.au/49-sutherland-avenue-avenue-kew-vic-3101-16077343\n"
     ]
    },
    {
     "name": "stderr",
     "output_type": "stream",
     "text": [
      " 26%|███████████████████▉                                                        | 3635/13846 [32:34<1:33:57,  1.81it/s]"
     ]
    },
    {
     "name": "stdout",
     "output_type": "stream",
     "text": [
      "Redirected:  3635 https://www.domain.com.au/2-saronvale-crescent-hillside-vic-3037-16078329\n"
     ]
    },
    {
     "name": "stderr",
     "output_type": "stream",
     "text": [
      " 26%|████████████████████                                                        | 3649/13846 [32:42<1:32:50,  1.83it/s]"
     ]
    },
    {
     "name": "stdout",
     "output_type": "stream",
     "text": [
      "Redirected:  3648 https://www.domain.com.au/10-honeybrook-lane-clyde-vic-3978-15726619\n",
      "'props'\n"
     ]
    },
    {
     "name": "stderr",
     "output_type": "stream",
     "text": [
      " 27%|████████████████████▏                                                       | 3673/13846 [33:00<2:30:48,  1.12it/s]"
     ]
    },
    {
     "name": "stdout",
     "output_type": "stream",
     "text": [
      "'NoneType' object is not subscriptable\n"
     ]
    },
    {
     "name": "stderr",
     "output_type": "stream",
     "text": [
      " 27%|████████████████████▋                                                       | 3768/13846 [33:55<1:12:40,  2.31it/s]"
     ]
    },
    {
     "name": "stdout",
     "output_type": "stream",
     "text": [
      "Redirected:  3768 https://www.domain.com.au/4-10-hazel-drive-pascoe-vale-vic-3044-16077900\n"
     ]
    },
    {
     "name": "stderr",
     "output_type": "stream",
     "text": [
      " 27%|████████████████████▊                                                       | 3784/13846 [34:03<1:15:31,  2.22it/s]"
     ]
    },
    {
     "name": "stdout",
     "output_type": "stream",
     "text": [
      "Redirected:  3784 https://www.domain.com.au/2-76-78-marshall-st-ivanhoe-vic-3079-16077850\n"
     ]
    },
    {
     "name": "stderr",
     "output_type": "stream",
     "text": [
      " 27%|████████████████████▊                                                       | 3800/13846 [34:11<1:16:51,  2.18it/s]"
     ]
    },
    {
     "name": "stdout",
     "output_type": "stream",
     "text": [
      "Redirected:  3800 https://www.domain.com.au/n410-241-harbour-esplanade-docklands-vic-3008-16077806\n"
     ]
    },
    {
     "name": "stderr",
     "output_type": "stream",
     "text": [
      "\r",
      " 27%|████████████████████▊                                                       | 3801/13846 [34:11<1:18:22,  2.14it/s]"
     ]
    },
    {
     "name": "stdout",
     "output_type": "stream",
     "text": [
      "'listingSummary'\n"
     ]
    },
    {
     "name": "stderr",
     "output_type": "stream",
     "text": [
      " 28%|█████████████████████                                                       | 3833/13846 [34:29<1:17:48,  2.14it/s]"
     ]
    },
    {
     "name": "stdout",
     "output_type": "stream",
     "text": [
      "Redirected:  3832 https://www.domain.com.au/2-pinios-place-roxburgh-park-vic-3064-16077721\n",
      "'props'\n"
     ]
    },
    {
     "name": "stderr",
     "output_type": "stream",
     "text": [
      " 28%|█████████████████████                                                       | 3835/13846 [34:30<1:19:27,  2.10it/s]"
     ]
    },
    {
     "name": "stdout",
     "output_type": "stream",
     "text": [
      "Redirected:  3834 https://www.domain.com.au/1-86-high-street-kangaroo-flat-vic-3555-16077719\n",
      "'props'\n"
     ]
    },
    {
     "name": "stderr",
     "output_type": "stream",
     "text": [
      " 28%|█████████████████████                                                       | 3848/13846 [34:36<1:01:39,  2.70it/s]"
     ]
    },
    {
     "name": "stdout",
     "output_type": "stream",
     "text": [
      "Redirected:  3846 https://www.domain.com.au/64-380-toorak-road-south-yarra-vic-3141-16077683\n",
      "'props'\n",
      "Redirected:  3847 https://www.domain.com.au/2112-39-lonsdale-st-melbourne-vic-3000-15830185\n",
      "'props'\n"
     ]
    },
    {
     "name": "stderr",
     "output_type": "stream",
     "text": [
      " 28%|█████████████████████▎                                                      | 3886/13846 [34:57<1:25:40,  1.94it/s]"
     ]
    },
    {
     "name": "stdout",
     "output_type": "stream",
     "text": [
      "Redirected:  3886 https://www.domain.com.au/6-146-riversdale-hawthorn-vic-3122-16077570\n"
     ]
    },
    {
     "name": "stderr",
     "output_type": "stream",
     "text": [
      " 28%|█████████████████████▍                                                      | 3912/13846 [35:11<2:07:24,  1.30it/s]"
     ]
    },
    {
     "name": "stdout",
     "output_type": "stream",
     "text": [
      "Redirected:  3912 https://www.domain.com.au/202-593-elizabeth-street-melbourne-vic-3000-9433574\n"
     ]
    },
    {
     "name": "stderr",
     "output_type": "stream",
     "text": [
      "\r",
      " 28%|█████████████████████▍                                                      | 3913/13846 [35:11<1:44:54,  1.58it/s]"
     ]
    },
    {
     "name": "stdout",
     "output_type": "stream",
     "text": [
      "'listingSummary'\n"
     ]
    },
    {
     "name": "stderr",
     "output_type": "stream",
     "text": [
      " 28%|█████████████████████▋                                                      | 3944/13846 [35:29<1:06:53,  2.47it/s]"
     ]
    },
    {
     "name": "stdout",
     "output_type": "stream",
     "text": [
      "Redirected:  3943 https://www.domain.com.au/12-74-78-doncaster-east-road-mitcham-vic-3132-16077439\n",
      "'props'\n"
     ]
    },
    {
     "name": "stderr",
     "output_type": "stream",
     "text": [
      " 29%|█████████████████████▊                                                      | 3977/13846 [35:46<1:04:52,  2.54it/s]"
     ]
    },
    {
     "name": "stdout",
     "output_type": "stream",
     "text": [
      "Redirected:  3976 https://www.domain.com.au/4-158-separation-street-northcote-vic-3070-16077336\n",
      "'props'\n",
      "Redirected:  3977 https://www.domain.com.au/61-campbell-street-wonthaggi-vic-3995-15995689\n"
     ]
    },
    {
     "name": "stderr",
     "output_type": "stream",
     "text": [
      " 29%|█████████████████████▉                                                      | 3997/13846 [35:58<1:33:35,  1.75it/s]"
     ]
    },
    {
     "name": "stdout",
     "output_type": "stream",
     "text": [
      "Redirected:  3997 https://www.domain.com.au/24-bradman-drive-tarneit-gardens-vic-3029-16077297\n"
     ]
    },
    {
     "name": "stderr",
     "output_type": "stream",
     "text": [
      " 29%|██████████████████████                                                      | 4021/13846 [36:11<1:06:52,  2.45it/s]"
     ]
    },
    {
     "name": "stdout",
     "output_type": "stream",
     "text": [
      "Redirected:  4020 https://www.domain.com.au/1504-151-city-road-southbank-vic-3006-16077223\n",
      "'props'\n"
     ]
    },
    {
     "name": "stderr",
     "output_type": "stream",
     "text": [
      " 29%|██████████████████████▏                                                     | 4033/13846 [36:18<2:04:36,  1.31it/s]"
     ]
    },
    {
     "name": "stdout",
     "output_type": "stream",
     "text": [
      "Redirected:  4032 https://www.domain.com.au/id-3890438-58-queens-parade-fitzroy-north-vic-3068-12756362\n",
      "'listingSummary'\n"
     ]
    },
    {
     "name": "stderr",
     "output_type": "stream",
     "text": [
      " 29%|██████████████████████▏                                                     | 4039/13846 [36:21<1:32:37,  1.76it/s]"
     ]
    },
    {
     "name": "stdout",
     "output_type": "stream",
     "text": [
      "Redirected:  4039 https://www.domain.com.au/2gm-50-stanley-street-collingwood-vic-3066-16077174\n"
     ]
    },
    {
     "name": "stderr",
     "output_type": "stream",
     "text": [
      " 29%|██████████████████████▏                                                     | 4053/13846 [36:28<1:18:52,  2.07it/s]"
     ]
    },
    {
     "name": "stdout",
     "output_type": "stream",
     "text": [
      "Redirected:  4053 https://www.domain.com.au/id-21076933-60-kitchener-street-broadmeadows-vic-3047-15222778\n"
     ]
    },
    {
     "name": "stderr",
     "output_type": "stream",
     "text": [
      "\r",
      " 29%|██████████████████████▎                                                     | 4054/13846 [36:29<1:40:57,  1.62it/s]"
     ]
    },
    {
     "name": "stdout",
     "output_type": "stream",
     "text": [
      "'listingSummary'\n"
     ]
    },
    {
     "name": "stderr",
     "output_type": "stream",
     "text": [
      "\r",
      " 29%|██████████████████████▎                                                     | 4055/13846 [36:29<1:32:15,  1.77it/s]"
     ]
    },
    {
     "name": "stdout",
     "output_type": "stream",
     "text": [
      "Redirected:  4054 https://www.domain.com.au/114-5-dudley-street-caulfield-east-vic-3145-11592901\n",
      "'props'\n"
     ]
    },
    {
     "name": "stderr",
     "output_type": "stream",
     "text": [
      " 29%|██████████████████████▉                                                       | 4066/13846 [36:34<56:02,  2.91it/s]"
     ]
    },
    {
     "name": "stdout",
     "output_type": "stream",
     "text": [
      "Redirected:  4065 https://www.domain.com.au/505-2-eastern-place-hawthorn-east-vic-3123-8676187\n",
      "'props'\n"
     ]
    },
    {
     "name": "stderr",
     "output_type": "stream",
     "text": [
      " 30%|██████████████████████▍                                                     | 4094/13846 [36:49<1:03:04,  2.58it/s]"
     ]
    },
    {
     "name": "stdout",
     "output_type": "stream",
     "text": [
      "Redirected:  4093 https://www.domain.com.au/24-dante-lane-elwood-vic-3184-16024608\n",
      "'props'\n"
     ]
    },
    {
     "name": "stderr",
     "output_type": "stream",
     "text": [
      " 30%|██████████████████████▉                                                     | 4180/13846 [37:38<1:15:27,  2.14it/s]"
     ]
    },
    {
     "name": "stdout",
     "output_type": "stream",
     "text": [
      "Redirected:  4180 https://www.domain.com.au/1-24-border-drive-mill-park-vic-3082-16076695\n"
     ]
    },
    {
     "name": "stderr",
     "output_type": "stream",
     "text": [
      " 30%|███████████████████████                                                     | 4197/13846 [37:46<1:13:20,  2.19it/s]"
     ]
    },
    {
     "name": "stdout",
     "output_type": "stream",
     "text": [
      "Redirected:  4197 https://www.domain.com.au/level-g-12-12-14-dickens-street-elwood-vic-3184-16076658\n"
     ]
    },
    {
     "name": "stderr",
     "output_type": "stream",
     "text": [
      " 31%|███████████████████████▎                                                    | 4236/13846 [38:08<1:10:39,  2.27it/s]"
     ]
    },
    {
     "name": "stdout",
     "output_type": "stream",
     "text": [
      "Redirected:  4235 https://www.domain.com.au/213-don-street-bendigo-vic-3550-16076530\n",
      "'props'\n"
     ]
    },
    {
     "name": "stderr",
     "output_type": "stream",
     "text": [
      " 31%|███████████████████████▎                                                    | 4254/13846 [38:18<1:10:27,  2.27it/s]"
     ]
    },
    {
     "name": "stdout",
     "output_type": "stream",
     "text": [
      "Redirected:  4253 https://www.domain.com.au/29-brock-street-moe-vic-3825-16076490\n",
      "'props'\n"
     ]
    },
    {
     "name": "stderr",
     "output_type": "stream",
     "text": [
      " 31%|███████████████████████▋                                                    | 4313/13846 [38:53<1:13:05,  2.17it/s]"
     ]
    },
    {
     "name": "stdout",
     "output_type": "stream",
     "text": [
      "Redirected:  4313 https://www.domain.com.au/7-iskander-court-chadstone-vic-3148-16076298\n"
     ]
    },
    {
     "name": "stderr",
     "output_type": "stream",
     "text": [
      " 31%|███████████████████████▊                                                    | 4329/13846 [39:03<1:58:37,  1.34it/s]"
     ]
    },
    {
     "name": "stdout",
     "output_type": "stream",
     "text": [
      "Redirected:  4329 https://www.domain.com.au/28-linton-lane-highton-vic-3216-16076238\n"
     ]
    },
    {
     "name": "stderr",
     "output_type": "stream",
     "text": [
      "\r",
      " 31%|███████████████████████▊                                                    | 4330/13846 [39:04<1:53:09,  1.40it/s]"
     ]
    },
    {
     "name": "stdout",
     "output_type": "stream",
     "text": [
      "'listingSummary'\n"
     ]
    },
    {
     "name": "stderr",
     "output_type": "stream",
     "text": [
      " 31%|███████████████████████▊                                                    | 4341/13846 [39:09<1:09:03,  2.29it/s]"
     ]
    },
    {
     "name": "stdout",
     "output_type": "stream",
     "text": [
      "Redirected:  4340 https://www.domain.com.au/6-32-empire-street-footscray-vic-3011-16076205\n",
      "'props'\n"
     ]
    },
    {
     "name": "stderr",
     "output_type": "stream",
     "text": [
      " 32%|████████████████████████▎                                                   | 4428/13846 [39:57<1:29:29,  1.75it/s]"
     ]
    },
    {
     "name": "stdout",
     "output_type": "stream",
     "text": [
      "Redirected:  4428 https://www.domain.com.au/2-70-power-street-hawthorn-vic-3122-16075969\n"
     ]
    },
    {
     "name": "stderr",
     "output_type": "stream",
     "text": [
      "\r",
      " 32%|████████████████████████▎                                                   | 4429/13846 [39:58<1:26:53,  1.81it/s]"
     ]
    },
    {
     "name": "stdout",
     "output_type": "stream",
     "text": [
      "Redirected:  4429 https://www.domain.com.au/2-70-power-street-hawthorn-vic-3122-16075968\n"
     ]
    },
    {
     "name": "stderr",
     "output_type": "stream",
     "text": [
      " 32%|████████████████████████▍                                                   | 4448/13846 [40:09<1:38:58,  1.58it/s]"
     ]
    },
    {
     "name": "stdout",
     "output_type": "stream",
     "text": [
      "Redirected:  4448 https://www.domain.com.au/10-cineria-street-ferntree-gully-vic-3156-16075894\n"
     ]
    },
    {
     "name": "stderr",
     "output_type": "stream",
     "text": [
      " 32%|████████████████████████▌                                                   | 4484/13846 [40:29<1:27:46,  1.78it/s]"
     ]
    },
    {
     "name": "stdout",
     "output_type": "stream",
     "text": [
      "Redirected:  4484 https://www.domain.com.au/44-fitzroy-kilmore-vic-3764-16075810\n"
     ]
    },
    {
     "name": "stderr",
     "output_type": "stream",
     "text": [
      " 32%|████████████████████████▋                                                   | 4487/13846 [40:30<1:05:25,  2.38it/s]"
     ]
    },
    {
     "name": "stdout",
     "output_type": "stream",
     "text": [
      "Redirected:  4486 https://www.domain.com.au/11-blair-st-golden-point-vic-3350-16049941\n",
      "'props'\n"
     ]
    },
    {
     "name": "stderr",
     "output_type": "stream",
     "text": [
      " 32%|████████████████████████▋                                                   | 4494/13846 [40:34<1:39:11,  1.57it/s]"
     ]
    },
    {
     "name": "stdout",
     "output_type": "stream",
     "text": [
      "Redirected:  4494 https://www.domain.com.au/2-368-deakin-avenue-mildura-vic-3500-16075782\n"
     ]
    },
    {
     "name": "stderr",
     "output_type": "stream",
     "text": [
      " 33%|████████████████████████▊                                                   | 4514/13846 [40:47<1:47:48,  1.44it/s]"
     ]
    },
    {
     "name": "stdout",
     "output_type": "stream",
     "text": [
      "Redirected:  4513 https://www.domain.com.au/6-annie-borat-close-brunswick-vic-3056-16075712\n",
      "'props'\n"
     ]
    },
    {
     "name": "stderr",
     "output_type": "stream",
     "text": [
      " 33%|████████████████████████▊                                                   | 4519/13846 [40:51<1:47:38,  1.44it/s]"
     ]
    },
    {
     "name": "stdout",
     "output_type": "stream",
     "text": [
      "Redirected:  4519 https://www.domain.com.au/11-balcombe-ct-narre-warren-vic-3805-16075689\n"
     ]
    },
    {
     "name": "stderr",
     "output_type": "stream",
     "text": [
      " 33%|████████████████████████▊                                                   | 4526/13846 [40:53<1:01:35,  2.52it/s]"
     ]
    },
    {
     "name": "stdout",
     "output_type": "stream",
     "text": [
      "Redirected:  4525 https://www.domain.com.au/3-16-18-bacchus-road-mount-clear-vic-3350-16075670\n",
      "'props'\n"
     ]
    },
    {
     "name": "stderr",
     "output_type": "stream",
     "text": [
      " 33%|████████████████████████▊                                                   | 4530/13846 [40:55<1:03:48,  2.43it/s]"
     ]
    },
    {
     "name": "stdout",
     "output_type": "stream",
     "text": [
      "Redirected:  4529 https://www.domain.com.au/10-12-schofield-street-essendon-vic-3040-13463250\n",
      "'props'\n"
     ]
    },
    {
     "name": "stderr",
     "output_type": "stream",
     "text": [
      " 33%|████████████████████████▉                                                   | 4543/13846 [41:02<1:05:26,  2.37it/s]"
     ]
    },
    {
     "name": "stdout",
     "output_type": "stream",
     "text": [
      "Redirected:  4542 https://www.domain.com.au/14-ann-crescent-pakenham-vic-3810-16075639\n",
      "'props'\n"
     ]
    },
    {
     "name": "stderr",
     "output_type": "stream",
     "text": [
      "\r",
      " 33%|████████████████████████▉                                                   | 4544/13846 [41:02<1:17:42,  2.00it/s]"
     ]
    },
    {
     "name": "stdout",
     "output_type": "stream",
     "text": [
      "Redirected:  4543 https://www.domain.com.au/707-330-lygon-street-brunswick-east-vic-3057-16075638\n",
      "'props'\n"
     ]
    },
    {
     "name": "stderr",
     "output_type": "stream",
     "text": [
      " 33%|█████████████████████████                                                   | 4567/13846 [41:15<2:02:44,  1.26it/s]"
     ]
    },
    {
     "name": "stdout",
     "output_type": "stream",
     "text": [
      "Redirected:  4566 https://www.domain.com.au/503-27-macquarie-st-prahran-vic-3181-16075561\n",
      "'props'\n"
     ]
    },
    {
     "name": "stderr",
     "output_type": "stream",
     "text": [
      " 33%|█████████████████████████                                                   | 4573/13846 [41:20<2:45:28,  1.07s/it]"
     ]
    },
    {
     "name": "stdout",
     "output_type": "stream",
     "text": [
      "Redirected:  4573 https://www.domain.com.au/4-500-glen-huntly-road-elsternwick-vic-3185-16075542\n"
     ]
    },
    {
     "name": "stderr",
     "output_type": "stream",
     "text": [
      " 33%|██████████████████████████                                                    | 4631/13846 [41:52<59:53,  2.56it/s]"
     ]
    },
    {
     "name": "stdout",
     "output_type": "stream",
     "text": [
      "Redirected:  4630 https://www.domain.com.au/4411-1-balston-street-southbank-vic-3006-16075399\n",
      "'props'\n"
     ]
    },
    {
     "name": "stderr",
     "output_type": "stream",
     "text": [
      " 34%|█████████████████████████▍                                                  | 4643/13846 [41:59<1:18:08,  1.96it/s]"
     ]
    },
    {
     "name": "stdout",
     "output_type": "stream",
     "text": [
      "Redirected:  4643 https://www.domain.com.au/1xx1n-889-collins-st-docklands-vic-3008-16075348\n"
     ]
    },
    {
     "name": "stderr",
     "output_type": "stream",
     "text": [
      " 34%|██████████████████████████▎                                                   | 4676/13846 [42:17<59:17,  2.58it/s]"
     ]
    },
    {
     "name": "stdout",
     "output_type": "stream",
     "text": [
      "Redirected:  4675 https://www.domain.com.au/4209-1-balston-street-southbank-vic-3006-16075236\n",
      "'props'\n"
     ]
    },
    {
     "name": "stderr",
     "output_type": "stream",
     "text": [
      " 34%|█████████████████████████▊                                                  | 4695/13846 [42:27<1:05:26,  2.33it/s]"
     ]
    },
    {
     "name": "stdout",
     "output_type": "stream",
     "text": [
      "Redirected:  4694 https://www.domain.com.au/3-69-shirley-street-st-albans-vic-3021-14968395\n",
      "'props'\n"
     ]
    },
    {
     "name": "stderr",
     "output_type": "stream",
     "text": [
      " 34%|██████████████████████████▌                                                   | 4726/13846 [42:41<55:24,  2.74it/s]"
     ]
    },
    {
     "name": "stdout",
     "output_type": "stream",
     "text": [
      "Redirected:  4725 https://www.domain.com.au/8-197-bayswater-road-bayswater-north-vic-3153-16075084\n",
      "'props'\n"
     ]
    },
    {
     "name": "stderr",
     "output_type": "stream",
     "text": [
      " 34%|██████████████████████████                                                  | 4737/13846 [42:46<1:07:21,  2.25it/s]"
     ]
    },
    {
     "name": "stdout",
     "output_type": "stream",
     "text": [
      "Redirected:  4737 https://www.domain.com.au/170-sparrowvale-road-charlemont-vic-3217-16075040\n"
     ]
    },
    {
     "name": "stderr",
     "output_type": "stream",
     "text": [
      " 35%|██████████████████████████▎                                                 | 4784/13846 [43:11<1:07:43,  2.23it/s]"
     ]
    },
    {
     "name": "stdout",
     "output_type": "stream",
     "text": [
      "Redirected:  4784 https://www.domain.com.au/3-37-oakleigh-road-oakleigh-vic-3166-16074913\n"
     ]
    },
    {
     "name": "stderr",
     "output_type": "stream",
     "text": [
      " 35%|██████████████████████████▎                                                 | 4802/13846 [43:21<1:29:04,  1.69it/s]"
     ]
    },
    {
     "name": "stdout",
     "output_type": "stream",
     "text": [
      "Redirected:  4802 https://www.domain.com.au/204-627-victoria-st-richmond-vic-3121-16074857\n"
     ]
    },
    {
     "name": "stderr",
     "output_type": "stream",
     "text": [
      " 35%|██████████████████████████▍                                                 | 4812/13846 [43:27<1:09:57,  2.15it/s]"
     ]
    },
    {
     "name": "stdout",
     "output_type": "stream",
     "text": [
      "Redirected:  4811 https://www.domain.com.au/4-467-new-street-brighton-vic-3186-16074846\n",
      "'props'\n"
     ]
    },
    {
     "name": "stderr",
     "output_type": "stream",
     "text": [
      " 35%|██████████████████████████▊                                                 | 4893/13846 [44:12<1:27:32,  1.70it/s]"
     ]
    },
    {
     "name": "stdout",
     "output_type": "stream",
     "text": [
      "Redirected:  4893 https://www.domain.com.au/38-grandview-road-preston-vic-3072-16074202\n"
     ]
    },
    {
     "name": "stderr",
     "output_type": "stream",
     "text": [
      " 35%|███████████████████████████▋                                                  | 4909/13846 [44:20<55:16,  2.69it/s]"
     ]
    },
    {
     "name": "stdout",
     "output_type": "stream",
     "text": [
      "Redirected:  4908 https://www.domain.com.au/4-kent-court-irymple-vic-3498-16053323\n",
      "'props'\n"
     ]
    },
    {
     "name": "stderr",
     "output_type": "stream",
     "text": [
      " 36%|███████████████████████████▏                                                | 4957/13846 [44:49<2:21:34,  1.05it/s]"
     ]
    },
    {
     "name": "stdout",
     "output_type": "stream",
     "text": [
      "Redirected:  4956 https://www.domain.com.au/27-exhibition-drive-mulgrave-vic-3170-16065685\n",
      "'props'\n"
     ]
    },
    {
     "name": "stderr",
     "output_type": "stream",
     "text": [
      " 36%|███████████████████████████▋                                                | 5043/13846 [45:41<1:05:17,  2.25it/s]"
     ]
    },
    {
     "name": "stdout",
     "output_type": "stream",
     "text": [
      "Redirected:  5042 https://www.domain.com.au/4-443-warrigal-rd-burwood-vic-3125-9990579\n",
      "'props'\n"
     ]
    },
    {
     "name": "stderr",
     "output_type": "stream",
     "text": [
      " 37%|███████████████████████████▊                                                | 5057/13846 [45:48<1:05:27,  2.24it/s]"
     ]
    },
    {
     "name": "stdout",
     "output_type": "stream",
     "text": [
      "Redirected:  5057 https://www.domain.com.au/191-main-road-st-albans-vic-3021-16073664\n"
     ]
    },
    {
     "name": "stderr",
     "output_type": "stream",
     "text": [
      " 37%|███████████████████████████▊                                                | 5070/13846 [45:57<1:12:17,  2.02it/s]"
     ]
    },
    {
     "name": "stdout",
     "output_type": "stream",
     "text": [
      "Redirected:  5070 https://www.domain.com.au/243-franklin-st-melbourne-vic-3000-15825574\n"
     ]
    },
    {
     "name": "stderr",
     "output_type": "stream",
     "text": [
      "\r",
      " 37%|███████████████████████████▊                                                | 5071/13846 [45:57<1:03:34,  2.30it/s]"
     ]
    },
    {
     "name": "stdout",
     "output_type": "stream",
     "text": [
      "'listingSummary'\n"
     ]
    },
    {
     "name": "stderr",
     "output_type": "stream",
     "text": [
      " 37%|███████████████████████████▊                                                | 5075/13846 [45:59<1:01:20,  2.38it/s]"
     ]
    },
    {
     "name": "stdout",
     "output_type": "stream",
     "text": [
      "Redirected:  5074 https://www.domain.com.au/4-56-beresford-road-lilydale-vic-3140-16073618\n",
      "'props'\n"
     ]
    },
    {
     "name": "stderr",
     "output_type": "stream",
     "text": [
      " 37%|████████████████████████████                                                | 5113/13846 [46:18<1:16:11,  1.91it/s]"
     ]
    },
    {
     "name": "stdout",
     "output_type": "stream",
     "text": [
      "Redirected:  5112 https://www.domain.com.au/2-15-ellis-road-glen-iris-vic-3146-16073465\n",
      "'props'\n"
     ]
    },
    {
     "name": "stderr",
     "output_type": "stream",
     "text": [
      " 37%|████████████████████████████▏                                               | 5145/13846 [46:35<1:14:45,  1.94it/s]"
     ]
    },
    {
     "name": "stdout",
     "output_type": "stream",
     "text": [
      "Redirected:  5145 https://www.domain.com.au/windsor-vic-3181-16073330\n"
     ]
    },
    {
     "name": "stderr",
     "output_type": "stream",
     "text": [
      " 37%|████████████████████████████▎                                               | 5147/13846 [46:37<1:42:51,  1.41it/s]"
     ]
    },
    {
     "name": "stdout",
     "output_type": "stream",
     "text": [
      "'NoneType' object is not subscriptable\n"
     ]
    },
    {
     "name": "stderr",
     "output_type": "stream",
     "text": [
      " 38%|████████████████████████████▌                                               | 5196/13846 [47:05<2:00:57,  1.19it/s]"
     ]
    },
    {
     "name": "stdout",
     "output_type": "stream",
     "text": [
      "'NoneType' object is not subscriptable\n"
     ]
    },
    {
     "name": "stderr",
     "output_type": "stream",
     "text": [
      " 38%|████████████████████████████▊                                               | 5260/13846 [47:40<1:19:51,  1.79it/s]"
     ]
    },
    {
     "name": "stdout",
     "output_type": "stream",
     "text": [
      "'NoneType' object is not subscriptable\n"
     ]
    },
    {
     "name": "stderr",
     "output_type": "stream",
     "text": [
      " 38%|████████████████████████████▉                                               | 5262/13846 [47:42<1:47:19,  1.33it/s]"
     ]
    },
    {
     "name": "stdout",
     "output_type": "stream",
     "text": [
      "'NoneType' object is not subscriptable\n",
      "Redirected:  5262 https://www.domain.com.au/66-evans-street-brunswick-vic-3056-16072894\n"
     ]
    },
    {
     "name": "stderr",
     "output_type": "stream",
     "text": [
      " 38%|█████████████████████████████▏                                              | 5318/13846 [48:09<1:14:02,  1.92it/s]"
     ]
    },
    {
     "name": "stdout",
     "output_type": "stream",
     "text": [
      "Redirected:  5318 https://www.domain.com.au/374-ballarat-road-sunshine-vic-3020-16072714\n"
     ]
    },
    {
     "name": "stderr",
     "output_type": "stream",
     "text": [
      " 39%|█████████████████████████████▎                                              | 5333/13846 [48:17<1:43:48,  1.37it/s]"
     ]
    },
    {
     "name": "stdout",
     "output_type": "stream",
     "text": [
      "Redirected:  5333 https://www.domain.com.au/1-19-belle-crescent-mordialloc-vic-3195-16072661\n"
     ]
    },
    {
     "name": "stderr",
     "output_type": "stream",
     "text": [
      " 39%|█████████████████████████████▎                                              | 5349/13846 [48:25<1:06:05,  2.14it/s]"
     ]
    },
    {
     "name": "stdout",
     "output_type": "stream",
     "text": [
      "Redirected:  5349 https://www.domain.com.au/401-83-queensbridge-southbank-vic-3006-16072613\n"
     ]
    },
    {
     "name": "stderr",
     "output_type": "stream",
     "text": [
      " 39%|██████████████████████████████▍                                               | 5397/13846 [48:50<59:56,  2.35it/s]"
     ]
    },
    {
     "name": "stdout",
     "output_type": "stream",
     "text": [
      "Redirected:  5397 https://www.domain.com.au/52-childs-road-melton-south-vic-3338-16072446\n"
     ]
    },
    {
     "name": "stderr",
     "output_type": "stream",
     "text": [
      " 39%|█████████████████████████████▊                                              | 5431/13846 [49:10<1:54:08,  1.23it/s]"
     ]
    },
    {
     "name": "stdout",
     "output_type": "stream",
     "text": [
      "'NoneType' object is not subscriptable\n"
     ]
    },
    {
     "name": "stderr",
     "output_type": "stream",
     "text": [
      " 39%|█████████████████████████████▊                                              | 5436/13846 [49:14<1:34:54,  1.48it/s]"
     ]
    },
    {
     "name": "stdout",
     "output_type": "stream",
     "text": [
      "Redirected:  5436 https://www.domain.com.au/well102-306-wells-street-southbank-vic-3006-16072331\n"
     ]
    },
    {
     "name": "stderr",
     "output_type": "stream",
     "text": [
      " 40%|██████████████████████████████▍                                             | 5544/13846 [50:14<1:20:58,  1.71it/s]"
     ]
    },
    {
     "name": "stdout",
     "output_type": "stream",
     "text": [
      "Redirected:  5544 https://www.domain.com.au/warrnambool-vic-3280-16057008\n"
     ]
    },
    {
     "name": "stderr",
     "output_type": "stream",
     "text": [
      " 40%|██████████████████████████████▋                                             | 5594/13846 [50:41<1:15:13,  1.83it/s]"
     ]
    },
    {
     "name": "stdout",
     "output_type": "stream",
     "text": [
      "Redirected:  5594 https://www.domain.com.au/65-morrie-crescent-blackburn-vic-3130-16071724\n"
     ]
    },
    {
     "name": "stderr",
     "output_type": "stream",
     "text": [
      " 42%|███████████████████████████████▉                                            | 5808/13846 [52:41<1:04:14,  2.09it/s]"
     ]
    },
    {
     "name": "stdout",
     "output_type": "stream",
     "text": [
      "Redirected:  5808 https://www.domain.com.au/109-orbis-avenue-plumpton-vic-3335-16070713\n"
     ]
    },
    {
     "name": "stderr",
     "output_type": "stream",
     "text": [
      " 42%|████████████████████████████████▏                                           | 5853/13846 [53:05<1:19:37,  1.67it/s]"
     ]
    },
    {
     "name": "stdout",
     "output_type": "stream",
     "text": [
      "Redirected:  5853 https://www.domain.com.au/1-307-309-bay-road-brighton-vic-3186-16070516\n"
     ]
    },
    {
     "name": "stderr",
     "output_type": "stream",
     "text": [
      " 43%|████████████████████████████████▉                                           | 5992/13846 [54:24<1:05:07,  2.01it/s]"
     ]
    },
    {
     "name": "stdout",
     "output_type": "stream",
     "text": [
      "Redirected:  5992 https://www.domain.com.au/70-barbar-drive-officer-vic-3809-16069772\n"
     ]
    },
    {
     "name": "stderr",
     "output_type": "stream",
     "text": [
      " 44%|█████████████████████████████████▏                                          | 6057/13846 [55:03<1:55:46,  1.12it/s]"
     ]
    },
    {
     "name": "stdout",
     "output_type": "stream",
     "text": [
      "'NoneType' object is not subscriptable\n"
     ]
    },
    {
     "name": "stderr",
     "output_type": "stream",
     "text": [
      " 44%|█████████████████████████████████▎                                          | 6079/13846 [55:15<1:05:37,  1.97it/s]"
     ]
    },
    {
     "name": "stdout",
     "output_type": "stream",
     "text": [
      "Redirected:  6079 https://www.domain.com.au/morwell-vic-3840-16069439\n"
     ]
    },
    {
     "name": "stderr",
     "output_type": "stream",
     "text": [
      " 44%|██████████████████████████████████▎                                           | 6082/13846 [55:17<57:11,  2.26it/s]"
     ]
    },
    {
     "name": "stdout",
     "output_type": "stream",
     "text": [
      "Redirected:  6081 https://www.domain.com.au/139c-barrow-street-coburg-vic-3058-16069421\n",
      "'props'\n"
     ]
    },
    {
     "name": "stderr",
     "output_type": "stream",
     "text": [
      " 44%|█████████████████████████████████▌                                          | 6110/13846 [55:32<1:43:49,  1.24it/s]"
     ]
    },
    {
     "name": "stdout",
     "output_type": "stream",
     "text": [
      "'NoneType' object is not subscriptable\n"
     ]
    },
    {
     "name": "stderr",
     "output_type": "stream",
     "text": [
      " 44%|█████████████████████████████████▋                                          | 6130/13846 [55:44<1:34:50,  1.36it/s]"
     ]
    },
    {
     "name": "stdout",
     "output_type": "stream",
     "text": [
      "'NoneType' object is not subscriptable\n"
     ]
    },
    {
     "name": "stderr",
     "output_type": "stream",
     "text": [
      " 45%|██████████████████████████████████                                          | 6217/13846 [56:32<1:04:56,  1.96it/s]"
     ]
    },
    {
     "name": "stdout",
     "output_type": "stream",
     "text": [
      "Redirected:  6217 https://www.domain.com.au/6-28-aubrey-grove-boronia-vic-3155-16068742\n"
     ]
    },
    {
     "name": "stderr",
     "output_type": "stream",
     "text": [
      " 45%|███████████████████████████████████▏                                          | 6239/13846 [56:43<56:43,  2.23it/s]"
     ]
    },
    {
     "name": "stdout",
     "output_type": "stream",
     "text": [
      "Redirected:  6239 https://www.domain.com.au/11-51-middle-street-hadfield-vic-3046-16068642\n"
     ]
    },
    {
     "name": "stderr",
     "output_type": "stream",
     "text": [
      " 45%|██████████████████████████████████▍                                         | 6276/13846 [57:03<1:04:59,  1.94it/s]"
     ]
    },
    {
     "name": "stdout",
     "output_type": "stream",
     "text": [
      "Redirected:  6276 https://www.domain.com.au/5-farrier-wyndham-vale-vic-3024-16068488\n"
     ]
    },
    {
     "name": "stderr",
     "output_type": "stream",
     "text": [
      " 46%|██████████████████████████████████▋                                         | 6314/13846 [57:24<1:39:45,  1.26it/s]"
     ]
    },
    {
     "name": "stdout",
     "output_type": "stream",
     "text": [
      "Redirected:  6314 https://www.domain.com.au/1-65-rathmines-street-fairfield-vic-3078-16068343\n"
     ]
    },
    {
     "name": "stderr",
     "output_type": "stream",
     "text": [
      " 46%|██████████████████████████████████▊                                         | 6346/13846 [57:40<1:04:27,  1.94it/s]"
     ]
    },
    {
     "name": "stdout",
     "output_type": "stream",
     "text": [
      "Redirected:  6346 https://www.domain.com.au/3-beswick-street-street-clayton-south-vic-3169-16068239\n"
     ]
    },
    {
     "name": "stderr",
     "output_type": "stream",
     "text": [
      " 46%|███████████████████████████████████                                         | 6387/13846 [58:03<1:26:22,  1.44it/s]"
     ]
    },
    {
     "name": "stdout",
     "output_type": "stream",
     "text": [
      "Redirected:  6387 https://www.domain.com.au/12-namatjira-boulevard-bagshot-vic-3551-16068062\n"
     ]
    },
    {
     "name": "stderr",
     "output_type": "stream",
     "text": [
      " 46%|███████████████████████████████████                                         | 6393/13846 [58:06<1:10:15,  1.77it/s]"
     ]
    },
    {
     "name": "stdout",
     "output_type": "stream",
     "text": [
      "Redirected:  6393 https://www.domain.com.au/3-47-mcdonalds-road-epping-vic-3076-16068042\n"
     ]
    },
    {
     "name": "stderr",
     "output_type": "stream",
     "text": [
      " 46%|███████████████████████████████████                                         | 6399/13846 [58:11<1:12:28,  1.71it/s]"
     ]
    },
    {
     "name": "stdout",
     "output_type": "stream",
     "text": [
      "Redirected:  6398 https://www.domain.com.au/5-36-fairway-street-frankston-vic-3199-16068030\n",
      "'props'\n"
     ]
    },
    {
     "name": "stderr",
     "output_type": "stream",
     "text": [
      " 47%|███████████████████████████████████▍                                        | 6452/13846 [58:41<1:19:03,  1.56it/s]"
     ]
    },
    {
     "name": "stdout",
     "output_type": "stream",
     "text": [
      "'NoneType' object is not subscriptable\n"
     ]
    },
    {
     "name": "stderr",
     "output_type": "stream",
     "text": [
      " 47%|███████████████████████████████████▌                                        | 6469/13846 [58:52<1:24:28,  1.46it/s]"
     ]
    },
    {
     "name": "stdout",
     "output_type": "stream",
     "text": [
      "Redirected:  6469 https://www.domain.com.au/4-23-25-baggot-drive-hoppers-crossing-vic-3029-16067763\n"
     ]
    },
    {
     "name": "stderr",
     "output_type": "stream",
     "text": [
      " 47%|████████████████████████████████████▋                                         | 6520/13846 [59:22<58:16,  2.10it/s]"
     ]
    },
    {
     "name": "stdout",
     "output_type": "stream",
     "text": [
      "Redirected:  6520 https://www.domain.com.au/1-16-sweetladn-road-box-hill-north-vic-3129-16067570\n"
     ]
    },
    {
     "name": "stderr",
     "output_type": "stream",
     "text": [
      " 47%|███████████████████████████████████▊                                        | 6524/13846 [59:27<2:14:24,  1.10s/it]"
     ]
    },
    {
     "name": "stdout",
     "output_type": "stream",
     "text": [
      "'NoneType' object is not subscriptable\n"
     ]
    },
    {
     "name": "stderr",
     "output_type": "stream",
     "text": [
      " 47%|███████████████████████████████████▉                                        | 6556/13846 [59:44<1:09:44,  1.74it/s]"
     ]
    },
    {
     "name": "stdout",
     "output_type": "stream",
     "text": [
      "Redirected:  6556 https://www.domain.com.au/13-ballard-rd-strathtulloh-vic-3338-16067431\n"
     ]
    },
    {
     "name": "stderr",
     "output_type": "stream",
     "text": [
      " 47%|████████████████████████████████████                                        | 6565/13846 [59:50<1:13:11,  1.66it/s]"
     ]
    },
    {
     "name": "stdout",
     "output_type": "stream",
     "text": [
      "Redirected:  6565 https://www.domain.com.au/5206-318-russell-melbourne-vic-3000-16067395\n"
     ]
    },
    {
     "name": "stderr",
     "output_type": "stream",
     "text": [
      " 48%|████████████████████████████████████▎                                       | 6617/13846 [1:00:19<54:21,  2.22it/s]"
     ]
    },
    {
     "name": "stdout",
     "output_type": "stream",
     "text": [
      "Redirected:  6617 https://www.domain.com.au/101-103-orrong-crescent-caulfield-north-vic-3161-16067152\n"
     ]
    },
    {
     "name": "stderr",
     "output_type": "stream",
     "text": [
      " 48%|████████████████████████████████████▎                                       | 6622/13846 [1:00:21<58:58,  2.04it/s]"
     ]
    },
    {
     "name": "stdout",
     "output_type": "stream",
     "text": [
      "Redirected:  6622 https://www.domain.com.au/35-chromite-circuit-weir-views-vic-3338-15379751\n"
     ]
    },
    {
     "name": "stderr",
     "output_type": "stream",
     "text": [
      " 48%|███████████████████████████████████▌                                      | 6655/13846 [1:00:42<1:32:39,  1.29it/s]"
     ]
    },
    {
     "name": "stdout",
     "output_type": "stream",
     "text": [
      "'NoneType' object is not subscriptable\n"
     ]
    },
    {
     "name": "stderr",
     "output_type": "stream",
     "text": [
      " 48%|███████████████████████████████████▌                                      | 6662/13846 [1:00:46<1:01:50,  1.94it/s]"
     ]
    },
    {
     "name": "stdout",
     "output_type": "stream",
     "text": [
      "Redirected:  6662 https://www.domain.com.au/1415-803-dadenong-road-malvern-east-vic-3145-16066917\n"
     ]
    },
    {
     "name": "stderr",
     "output_type": "stream",
     "text": [
      " 49%|███████████████████████████████████▉                                      | 6726/13846 [1:01:23<1:09:38,  1.70it/s]"
     ]
    },
    {
     "name": "stdout",
     "output_type": "stream",
     "text": [
      "Redirected:  6726 https://www.domain.com.au/4-520-melton-highway-sydenham-vic-3037-10881344\n"
     ]
    },
    {
     "name": "stderr",
     "output_type": "stream",
     "text": [
      " 49%|████████████████████████████████████▎                                     | 6786/13846 [1:01:58<1:01:59,  1.90it/s]"
     ]
    },
    {
     "name": "stdout",
     "output_type": "stream",
     "text": [
      "Redirected:  6786 https://www.domain.com.au/26-thomas-street-windsor-vic-3181-16066356\n"
     ]
    },
    {
     "name": "stderr",
     "output_type": "stream",
     "text": [
      " 49%|████████████████████████████████████▎                                     | 6796/13846 [1:02:03<1:02:46,  1.87it/s]"
     ]
    },
    {
     "name": "stdout",
     "output_type": "stream",
     "text": [
      "Redirected:  6796 https://www.domain.com.au/16-manley-traralgon-vic-3844-16066312\n"
     ]
    },
    {
     "name": "stderr",
     "output_type": "stream",
     "text": [
      " 49%|████████████████████████████████████▍                                     | 6825/13846 [1:02:18<1:04:38,  1.81it/s]"
     ]
    },
    {
     "name": "stdout",
     "output_type": "stream",
     "text": [
      "Redirected:  6825 https://www.domain.com.au/2-104-colac-road-highton-vic-3216-15970231\n"
     ]
    },
    {
     "name": "stderr",
     "output_type": "stream",
     "text": [
      " 49%|█████████████████████████████████████▌                                      | 6845/13846 [1:02:28<57:00,  2.05it/s]"
     ]
    },
    {
     "name": "stdout",
     "output_type": "stream",
     "text": [
      "Redirected:  6845 https://www.domain.com.au/11-olive-st-hampton-vic-3188-16066090\n"
     ]
    },
    {
     "name": "stderr",
     "output_type": "stream",
     "text": [
      " 50%|█████████████████████████████████████▌                                      | 6854/13846 [1:02:33<51:47,  2.25it/s]"
     ]
    },
    {
     "name": "stdout",
     "output_type": "stream",
     "text": [
      "Redirected:  6854 https://www.domain.com.au/20-loch-hawthorn-east-vic-3123-16066043\n"
     ]
    },
    {
     "name": "stderr",
     "output_type": "stream",
     "text": [
      " 50%|████████████████████████████████████▋                                     | 6867/13846 [1:02:40<1:10:26,  1.65it/s]"
     ]
    },
    {
     "name": "stdout",
     "output_type": "stream",
     "text": [
      "Redirected:  6867 https://www.domain.com.au/313-140-little-collins-street-melbourne-vic-3004-16065982\n"
     ]
    },
    {
     "name": "stderr",
     "output_type": "stream",
     "text": [
      " 51%|█████████████████████████████████████▊                                    | 7070/13846 [1:04:34<1:07:14,  1.68it/s]"
     ]
    },
    {
     "name": "stdout",
     "output_type": "stream",
     "text": [
      "Redirected:  7070 https://www.domain.com.au/1506b-250-spencer-street-melbourne-vic-3000-14620499\n"
     ]
    },
    {
     "name": "stderr",
     "output_type": "stream",
     "text": [
      " 52%|███████████████████████████████████████▎                                    | 7153/13846 [1:05:18<54:40,  2.04it/s]"
     ]
    },
    {
     "name": "stdout",
     "output_type": "stream",
     "text": [
      "Redirected:  7153 https://www.domain.com.au/7-wentworth-place-melton-south-vic-3338-16064683\n"
     ]
    },
    {
     "name": "stderr",
     "output_type": "stream",
     "text": [
      " 52%|███████████████████████████████████████▍                                    | 7182/13846 [1:05:34<58:59,  1.88it/s]"
     ]
    },
    {
     "name": "stdout",
     "output_type": "stream",
     "text": [
      "Redirected:  7182 https://www.domain.com.au/93-fogarty-avenue-highton-vic-3216-16064560\n"
     ]
    },
    {
     "name": "stderr",
     "output_type": "stream",
     "text": [
      " 52%|███████████████████████████████████████▌                                    | 7197/13846 [1:05:43<57:10,  1.94it/s]"
     ]
    },
    {
     "name": "stdout",
     "output_type": "stream",
     "text": [
      "Redirected:  7197 https://www.domain.com.au/8-9-12-may-street-elwood-vic-3184-16064495\n"
     ]
    },
    {
     "name": "stderr",
     "output_type": "stream",
     "text": [
      " 52%|███████████████████████████████████████▌                                    | 7208/13846 [1:05:49<58:24,  1.89it/s]"
     ]
    },
    {
     "name": "stdout",
     "output_type": "stream",
     "text": [
      "Redirected:  7208 https://www.domain.com.au/tarneit-vic-3029-16064437\n"
     ]
    },
    {
     "name": "stderr",
     "output_type": "stream",
     "text": [
      " 53%|██████████████████████████████████████▉                                   | 7289/13846 [1:06:36<1:29:35,  1.22it/s]"
     ]
    },
    {
     "name": "stdout",
     "output_type": "stream",
     "text": [
      "'NoneType' object is not subscriptable\n"
     ]
    },
    {
     "name": "stderr",
     "output_type": "stream",
     "text": [
      " 53%|████████████████████████████████████████▍                                   | 7375/13846 [1:07:24<59:00,  1.83it/s]"
     ]
    },
    {
     "name": "stdout",
     "output_type": "stream",
     "text": [
      "Redirected:  7375 https://www.domain.com.au/3-bonview-circuit-truganina-vic-3029-16063573\n"
     ]
    },
    {
     "name": "stderr",
     "output_type": "stream",
     "text": [
      " 54%|████████████████████████████████████████                                  | 7489/13846 [1:08:31<1:38:56,  1.07it/s]"
     ]
    },
    {
     "name": "stdout",
     "output_type": "stream",
     "text": [
      "Redirected:  7489 https://www.domain.com.au/24-keskadale-way-clyde-vic-3978-16063062\n"
     ]
    },
    {
     "name": "stderr",
     "output_type": "stream",
     "text": [
      " 54%|█████████████████████████████████████████▏                                  | 7515/13846 [1:08:45<54:48,  1.93it/s]"
     ]
    },
    {
     "name": "stdout",
     "output_type": "stream",
     "text": [
      "Redirected:  7515 https://www.domain.com.au/3-raymond-grove-caulfield-south-vic-3162-16062955\n"
     ]
    },
    {
     "name": "stderr",
     "output_type": "stream",
     "text": [
      " 54%|████████████████████████████████████████▎                                 | 7535/13846 [1:08:55<1:03:02,  1.67it/s]"
     ]
    },
    {
     "name": "stdout",
     "output_type": "stream",
     "text": [
      "Redirected:  7535 https://www.domain.com.au/15-winmalee-road-balwyn-vic-3103-16062825\n"
     ]
    },
    {
     "name": "stderr",
     "output_type": "stream",
     "text": [
      " 55%|█████████████████████████████████████████▍                                  | 7559/13846 [1:09:09<46:19,  2.26it/s]"
     ]
    },
    {
     "name": "stdout",
     "output_type": "stream",
     "text": [
      "Redirected:  7559 https://www.domain.com.au/15-80-epping-road-epping-vic-3076-16062635\n"
     ]
    },
    {
     "name": "stderr",
     "output_type": "stream",
     "text": [
      " 55%|████████████████████████████████████████▊                                 | 7637/13846 [1:09:54<1:10:29,  1.47it/s]"
     ]
    },
    {
     "name": "stdout",
     "output_type": "stream",
     "text": [
      "Redirected:  7637 https://www.domain.com.au/617-laurie-street-golden-point-vic-3451-16062167\n"
     ]
    },
    {
     "name": "stderr",
     "output_type": "stream",
     "text": [
      " 56%|██████████████████████████████████████████▏                                 | 7685/13846 [1:10:21<48:09,  2.13it/s]"
     ]
    },
    {
     "name": "stdout",
     "output_type": "stream",
     "text": [
      "Redirected:  7685 https://www.domain.com.au/3705-452-elizabeth-street-melbourne-vic-3000-13900308\n"
     ]
    },
    {
     "name": "stderr",
     "output_type": "stream",
     "text": [
      " 56%|██████████████████████████████████████████▎                                 | 7717/13846 [1:10:37<48:55,  2.09it/s]"
     ]
    },
    {
     "name": "stdout",
     "output_type": "stream",
     "text": [
      "Redirected:  7717 https://www.domain.com.au/31b-tweed-st-highett-vic-3190-16061681\n"
     ]
    },
    {
     "name": "stderr",
     "output_type": "stream",
     "text": [
      " 56%|██████████████████████████████████████████▍                                 | 7731/13846 [1:10:44<55:35,  1.83it/s]"
     ]
    },
    {
     "name": "stdout",
     "output_type": "stream",
     "text": [
      "Redirected:  7731 https://www.domain.com.au/7-2-floriston-outlook-boronia-vic-3155-15356653\n"
     ]
    },
    {
     "name": "stderr",
     "output_type": "stream",
     "text": [
      " 56%|██████████████████████████████████████████▌                                 | 7752/13846 [1:10:54<47:02,  2.16it/s]"
     ]
    },
    {
     "name": "stdout",
     "output_type": "stream",
     "text": [
      "Redirected:  7752 https://www.domain.com.au/laverton-vic-3028-16061505\n"
     ]
    },
    {
     "name": "stderr",
     "output_type": "stream",
     "text": [
      " 57%|███████████████████████████████████████████                                 | 7853/13846 [1:11:46<46:42,  2.14it/s]"
     ]
    },
    {
     "name": "stdout",
     "output_type": "stream",
     "text": [
      "Redirected:  7853 https://www.domain.com.au/4-29-ellendale-road-glen-waverley-vic-3150-16060982\n"
     ]
    },
    {
     "name": "stderr",
     "output_type": "stream",
     "text": [
      " 57%|███████████████████████████████████████████▍                                | 7921/13846 [1:12:24<44:11,  2.23it/s]"
     ]
    },
    {
     "name": "stdout",
     "output_type": "stream",
     "text": [
      "Redirected:  7921 https://www.domain.com.au/4-03-228-la-trobe-street-melbourne-vic-3000-16060646\n"
     ]
    },
    {
     "name": "stderr",
     "output_type": "stream",
     "text": [
      " 57%|███████████████████████████████████████████▌                                | 7931/13846 [1:12:30<57:43,  1.71it/s]"
     ]
    },
    {
     "name": "stdout",
     "output_type": "stream",
     "text": [
      "Redirected:  7931 https://www.domain.com.au/3301-245-city-road-south-melbourne-vic-3205-16060520\n"
     ]
    },
    {
     "name": "stderr",
     "output_type": "stream",
     "text": [
      " 58%|████████████████████████████████████████████▏                               | 8042/13846 [1:13:30<41:07,  2.35it/s]"
     ]
    },
    {
     "name": "stdout",
     "output_type": "stream",
     "text": [
      "Redirected:  8042 https://www.domain.com.au/109-golf-view-drive-craigieburn-vic-3064-16059796\n"
     ]
    },
    {
     "name": "stderr",
     "output_type": "stream",
     "text": [
      " 58%|████████████████████████████████████████████▍                               | 8099/13846 [1:14:00<40:53,  2.34it/s]"
     ]
    },
    {
     "name": "stdout",
     "output_type": "stream",
     "text": [
      "Redirected:  8099 https://www.domain.com.au/5211-18-hoff-boulevard-southbank-vic-3006-16059380\n"
     ]
    },
    {
     "name": "stderr",
     "output_type": "stream",
     "text": [
      " 59%|████████████████████████████████████████████▋                               | 8143/13846 [1:14:22<42:03,  2.26it/s]"
     ]
    },
    {
     "name": "stdout",
     "output_type": "stream",
     "text": [
      "Redirected:  8143 https://www.domain.com.au/level-35-3501-7-riverside-quay-southbank-vic-3006-16059042\n"
     ]
    },
    {
     "name": "stderr",
     "output_type": "stream",
     "text": [
      " 59%|████████████████████████████████████████████▉                               | 8197/13846 [1:14:51<42:49,  2.20it/s]"
     ]
    },
    {
     "name": "stdout",
     "output_type": "stream",
     "text": [
      "Redirected:  8197 https://www.domain.com.au/18a-toxteth-park-street-coburg-north-vic-3058-16058727\n"
     ]
    },
    {
     "name": "stderr",
     "output_type": "stream",
     "text": [
      " 60%|█████████████████████████████████████████████▍                              | 8276/13846 [1:15:31<50:07,  1.85it/s]"
     ]
    },
    {
     "name": "stdout",
     "output_type": "stream",
     "text": [
      "Redirected:  8276 https://www.domain.com.au/51-mitchell-street-meadow-heights-vic-3048-16058070\n"
     ]
    },
    {
     "name": "stderr",
     "output_type": "stream",
     "text": [
      " 60%|█████████████████████████████████████████████▋                              | 8334/13846 [1:16:05<45:35,  2.01it/s]"
     ]
    },
    {
     "name": "stdout",
     "output_type": "stream",
     "text": [
      "Redirected:  8334 https://www.domain.com.au/1-leila-street-essendon-vic-3040-16057691\n"
     ]
    },
    {
     "name": "stderr",
     "output_type": "stream",
     "text": [
      " 60%|█████████████████████████████████████████████▊                              | 8336/13846 [1:16:06<42:33,  2.16it/s]"
     ]
    },
    {
     "name": "stdout",
     "output_type": "stream",
     "text": [
      "Redirected:  8336 https://www.domain.com.au/12-meadow-deepdene-vic-3103-16057687\n"
     ]
    },
    {
     "name": "stderr",
     "output_type": "stream",
     "text": [
      " 60%|█████████████████████████████████████████████▊                              | 8341/13846 [1:16:09<52:01,  1.76it/s]"
     ]
    },
    {
     "name": "stdout",
     "output_type": "stream",
     "text": [
      "Redirected:  8341 https://www.domain.com.au/10-echidna-beveridge-vic-3753-16057622\n"
     ]
    },
    {
     "name": "stderr",
     "output_type": "stream",
     "text": [
      " 61%|██████████████████████████████████████████████▍                             | 8454/13846 [1:17:07<40:47,  2.20it/s]"
     ]
    },
    {
     "name": "stdout",
     "output_type": "stream",
     "text": [
      "Redirected:  8454 https://www.domain.com.au/71b-orlando-street-hampton-vic-3188-16056805\n"
     ]
    },
    {
     "name": "stderr",
     "output_type": "stream",
     "text": [
      " 61%|██████████████████████████████████████████████▌                             | 8481/13846 [1:17:21<44:41,  2.00it/s]"
     ]
    },
    {
     "name": "stdout",
     "output_type": "stream",
     "text": [
      "Redirected:  8481 https://www.domain.com.au/address-available-on-request-collingwood-vic-3066-16054467\n"
     ]
    },
    {
     "name": "stderr",
     "output_type": "stream",
     "text": [
      " 61%|██████████████████████████████████████████████▋                             | 8498/13846 [1:17:30<38:33,  2.31it/s]"
     ]
    },
    {
     "name": "stdout",
     "output_type": "stream",
     "text": [
      "Redirected:  8498 https://www.domain.com.au/3407-245-city-road-south-melbourne-vic-3205-16056474\n"
     ]
    },
    {
     "name": "stderr",
     "output_type": "stream",
     "text": [
      " 61%|██████████████████████████████████████████████▋                             | 8500/13846 [1:17:31<38:21,  2.32it/s]"
     ]
    },
    {
     "name": "stdout",
     "output_type": "stream",
     "text": [
      "Redirected:  8500 https://www.domain.com.au/80-first-ave-altona-north-vic-3025-16056452\n"
     ]
    },
    {
     "name": "stderr",
     "output_type": "stream",
     "text": [
      " 61%|██████████████████████████████████████████████▋                             | 8505/13846 [1:17:33<45:08,  1.97it/s]"
     ]
    },
    {
     "name": "stdout",
     "output_type": "stream",
     "text": [
      "Redirected:  8505 https://www.domain.com.au/11-lando-street-plumpton-vic-3335-15178706\n"
     ]
    },
    {
     "name": "stderr",
     "output_type": "stream",
     "text": [
      " 61%|██████████████████████████████████████████████▋                             | 8508/13846 [1:17:35<47:21,  1.88it/s]"
     ]
    },
    {
     "name": "stdout",
     "output_type": "stream",
     "text": [
      "Redirected:  8508 https://www.domain.com.au/1-crepe-myrtle-close-harkness-vic-3337-16056368\n"
     ]
    },
    {
     "name": "stderr",
     "output_type": "stream",
     "text": [
      " 62%|██████████████████████████████████████████████▉                             | 8549/13846 [1:17:58<55:17,  1.60it/s]"
     ]
    },
    {
     "name": "stdout",
     "output_type": "stream",
     "text": [
      "Redirected:  8549 https://www.domain.com.au/15-addicott-street-frankston-vic-3199-16056081\n"
     ]
    },
    {
     "name": "stderr",
     "output_type": "stream",
     "text": [
      " 62%|███████████████████████████████████████████████▏                            | 8593/13846 [1:18:23<54:14,  1.61it/s]"
     ]
    },
    {
     "name": "stdout",
     "output_type": "stream",
     "text": [
      "'NoneType' object is not subscriptable\n"
     ]
    },
    {
     "name": "stderr",
     "output_type": "stream",
     "text": [
      " 62%|██████████████████████████████████████████████                            | 8618/13846 [1:18:36<1:06:31,  1.31it/s]"
     ]
    },
    {
     "name": "stdout",
     "output_type": "stream",
     "text": [
      "Redirected:  8618 https://www.domain.com.au/devenish-wy-st-leonards-vic-3223-16055609\n"
     ]
    },
    {
     "name": "stderr",
     "output_type": "stream",
     "text": [
      " 62%|██████████████████████████████████████████████                            | 8620/13846 [1:18:38<1:21:49,  1.06it/s]"
     ]
    },
    {
     "name": "stdout",
     "output_type": "stream",
     "text": [
      "Redirected:  8620 https://www.domain.com.au/3909-33-rose-lane-melbourne-vic-3000-16055604\n"
     ]
    },
    {
     "name": "stderr",
     "output_type": "stream",
     "text": [
      " 63%|███████████████████████████████████████████████▉                            | 8729/13846 [1:19:36<55:46,  1.53it/s]"
     ]
    },
    {
     "name": "stdout",
     "output_type": "stream",
     "text": [
      "Redirected:  8729 https://www.domain.com.au/607-9-high-st-north-melbourne-vic-3051-16054721\n"
     ]
    },
    {
     "name": "stderr",
     "output_type": "stream",
     "text": [
      " 64%|████████████████████████████████████████████████▍                           | 8825/13846 [1:20:35<38:59,  2.15it/s]"
     ]
    },
    {
     "name": "stdout",
     "output_type": "stream",
     "text": [
      "Redirected:  8825 https://www.domain.com.au/160-gordons-road-south-morang-vic-3752-16054060\n"
     ]
    },
    {
     "name": "stderr",
     "output_type": "stream",
     "text": [
      " 64%|████████████████████████████████████████████████▋                           | 8860/13846 [1:20:57<46:48,  1.78it/s]"
     ]
    },
    {
     "name": "stdout",
     "output_type": "stream",
     "text": [
      "Redirected:  8860 https://www.domain.com.au/apartment304-59-63-warrigal-road-hughesdale-vic-3166-16053774\n"
     ]
    },
    {
     "name": "stderr",
     "output_type": "stream",
     "text": [
      " 64%|████████████████████████████████████████████████▋                           | 8865/13846 [1:20:59<40:18,  2.06it/s]"
     ]
    },
    {
     "name": "stdout",
     "output_type": "stream",
     "text": [
      "Redirected:  8865 https://www.domain.com.au/2-63-rhodes-parade-glenroy-vic-3046-16053756\n"
     ]
    },
    {
     "name": "stderr",
     "output_type": "stream",
     "text": [
      " 64%|███████████████████████████████████████████████▍                          | 8872/13846 [1:21:05<1:13:21,  1.13it/s]"
     ]
    },
    {
     "name": "stdout",
     "output_type": "stream",
     "text": [
      "Redirected:  8872 https://www.domain.com.au/103-2-dalgety-street-oakleigh-vic-3166-16053723\n"
     ]
    },
    {
     "name": "stderr",
     "output_type": "stream",
     "text": [
      " 65%|█████████████████████████████████████████████████▏                          | 8956/13846 [1:21:51<40:44,  2.00it/s]"
     ]
    },
    {
     "name": "stdout",
     "output_type": "stream",
     "text": [
      "Redirected:  8956 https://www.domain.com.au/1-3-5-17-19-hazeldene-court-berwick-vic-3806-14611396\n"
     ]
    },
    {
     "name": "stderr",
     "output_type": "stream",
     "text": [
      " 65%|█████████████████████████████████████████████████▎                          | 8981/13846 [1:22:04<46:05,  1.76it/s]"
     ]
    },
    {
     "name": "stdout",
     "output_type": "stream",
     "text": [
      "Redirected:  8981 https://www.domain.com.au/u21-117-bouverie-street-carlton-vic-3053-16053125\n"
     ]
    },
    {
     "name": "stderr",
     "output_type": "stream",
     "text": [
      " 65%|█████████████████████████████████████████████████▎                          | 8984/13846 [1:22:06<46:15,  1.75it/s]"
     ]
    },
    {
     "name": "stdout",
     "output_type": "stream",
     "text": [
      "Redirected:  8984 https://www.domain.com.au/u5-237-glenlyon-road-brunswick-east-vic-3057-16053115\n"
     ]
    },
    {
     "name": "stderr",
     "output_type": "stream",
     "text": [
      " 65%|█████████████████████████████████████████████████▍                          | 9001/13846 [1:22:15<38:42,  2.09it/s]"
     ]
    },
    {
     "name": "stdout",
     "output_type": "stream",
     "text": [
      "Redirected:  9001 https://www.domain.com.au/bacchus-marsh-vic-3340-16053048\n"
     ]
    },
    {
     "name": "stderr",
     "output_type": "stream",
     "text": [
      " 65%|█████████████████████████████████████████████████▍                          | 9015/13846 [1:22:25<41:40,  1.93it/s]"
     ]
    },
    {
     "name": "stdout",
     "output_type": "stream",
     "text": [
      "Redirected:  9015 https://www.domain.com.au/378-390-saint-georges-road-fitzroy-north-vic-3068-16052965\n"
     ]
    },
    {
     "name": "stderr",
     "output_type": "stream",
     "text": [
      " 65%|████████████████████████████████████████████████▏                         | 9025/13846 [1:22:31<1:06:35,  1.21it/s]"
     ]
    },
    {
     "name": "stdout",
     "output_type": "stream",
     "text": [
      "Redirected:  9025 https://www.domain.com.au/20-tanner-breakwater-vic-3219-16052915\n"
     ]
    },
    {
     "name": "stderr",
     "output_type": "stream",
     "text": [
      "\r",
      " 65%|████████████████████████████████████████████████▏                         | 9026/13846 [1:22:33<1:29:36,  1.12s/it]"
     ]
    },
    {
     "name": "stdout",
     "output_type": "stream",
     "text": [
      "'NoneType' object is not subscriptable\n"
     ]
    },
    {
     "name": "stderr",
     "output_type": "stream",
     "text": [
      " 65%|█████████████████████████████████████████████████▌                          | 9031/13846 [1:22:37<57:58,  1.38it/s]"
     ]
    },
    {
     "name": "stdout",
     "output_type": "stream",
     "text": [
      "Redirected:  9031 https://www.domain.com.au/1-7-13-laburnam-street-blackburn-vic-3130-16052877\n"
     ]
    },
    {
     "name": "stderr",
     "output_type": "stream",
     "text": [
      " 66%|██████████████████████████████████████████████████▏                         | 9132/13846 [1:23:34<32:46,  2.40it/s]"
     ]
    },
    {
     "name": "stdout",
     "output_type": "stream",
     "text": [
      "Redirected:  9131 https://www.domain.com.au/3202-618-lonsdale-street-melbourne-vic-3000-16052153\n",
      "'props'\n"
     ]
    },
    {
     "name": "stderr",
     "output_type": "stream",
     "text": [
      " 66%|██████████████████████████████████████████████████▎                         | 9156/13846 [1:23:48<34:55,  2.24it/s]"
     ]
    },
    {
     "name": "stdout",
     "output_type": "stream",
     "text": [
      "Redirected:  9156 https://www.domain.com.au/303-33-harrow-street-box-hill-vic-3128-16051804\n"
     ]
    },
    {
     "name": "stderr",
     "output_type": "stream",
     "text": [
      " 67%|██████████████████████████████████████████████████▋                         | 9227/13846 [1:24:30<35:23,  2.17it/s]"
     ]
    },
    {
     "name": "stdout",
     "output_type": "stream",
     "text": [
      "Redirected:  9227 https://www.domain.com.au/3-14-viewpoint-street-ararat-vic-3377-16051340\n"
     ]
    },
    {
     "name": "stderr",
     "output_type": "stream",
     "text": [
      " 67%|██████████████████████████████████████████████████▋                         | 9238/13846 [1:24:38<40:12,  1.91it/s]"
     ]
    },
    {
     "name": "stdout",
     "output_type": "stream",
     "text": [
      "Redirected:  9238 https://www.domain.com.au/5008-639-lonsdale-street-melbourne-vic-3000-16051266\n"
     ]
    },
    {
     "name": "stderr",
     "output_type": "stream",
     "text": [
      " 67%|█████████████████████████████████████████████████▍                        | 9247/13846 [1:24:47<1:09:40,  1.10it/s]"
     ]
    },
    {
     "name": "stdout",
     "output_type": "stream",
     "text": [
      "Redirected:  9247 https://www.domain.com.au/19-amerli-street-deanside-vic-3336-15176030\n"
     ]
    },
    {
     "name": "stderr",
     "output_type": "stream",
     "text": [
      " 67%|███████████████████████████████████████████████████▎                        | 9337/13846 [1:25:39<38:57,  1.93it/s]"
     ]
    },
    {
     "name": "stdout",
     "output_type": "stream",
     "text": [
      "Redirected:  9337 https://www.domain.com.au/10-49-59-coonans-road-pascoe-vale-south-vic-3044-16050532\n"
     ]
    },
    {
     "name": "stderr",
     "output_type": "stream",
     "text": [
      " 68%|███████████████████████████████████████████████████▍                        | 9371/13846 [1:25:58<34:56,  2.13it/s]"
     ]
    },
    {
     "name": "stdout",
     "output_type": "stream",
     "text": [
      "Redirected:  9371 https://www.domain.com.au/docklands-vic-3008-16050281\n"
     ]
    },
    {
     "name": "stderr",
     "output_type": "stream",
     "text": [
      " 68%|███████████████████████████████████████████████████▌                        | 9386/13846 [1:26:07<37:53,  1.96it/s]"
     ]
    },
    {
     "name": "stdout",
     "output_type": "stream",
     "text": [
      "Redirected:  9386 https://www.domain.com.au/108-foot-street-frankston-vic-3199-16050212\n"
     ]
    },
    {
     "name": "stderr",
     "output_type": "stream",
     "text": [
      " 68%|███████████████████████████████████████████████████▌                        | 9394/13846 [1:26:10<28:28,  2.61it/s]"
     ]
    },
    {
     "name": "stdout",
     "output_type": "stream",
     "text": [
      "Redirected:  9393 https://www.domain.com.au/4-207-centre-road-bentleigh-vic-3204-16050150\n",
      "'props'\n"
     ]
    },
    {
     "name": "stderr",
     "output_type": "stream",
     "text": [
      " 68%|███████████████████████████████████████████████████▋                        | 9420/13846 [1:26:23<42:08,  1.75it/s]"
     ]
    },
    {
     "name": "stdout",
     "output_type": "stream",
     "text": [
      "Redirected:  9420 https://www.domain.com.au/64-wombat-dr-eltham-vic-3095-16049957\n"
     ]
    },
    {
     "name": "stderr",
     "output_type": "stream",
     "text": [
      " 68%|███████████████████████████████████████████████████▊                        | 9441/13846 [1:26:38<55:07,  1.33it/s]"
     ]
    },
    {
     "name": "stdout",
     "output_type": "stream",
     "text": [
      "Redirected:  9441 https://www.domain.com.au/7-pippin-court-bacchus-marsh-vic-3340-16049781\n"
     ]
    },
    {
     "name": "stderr",
     "output_type": "stream",
     "text": [
      " 69%|████████████████████████████████████████████████████                        | 9492/13846 [1:27:07<30:49,  2.35it/s]"
     ]
    },
    {
     "name": "stdout",
     "output_type": "stream",
     "text": [
      "Redirected:  9491 https://www.domain.com.au/112-harold-st-middle-park-vic-3206-16049514\n",
      "'props'\n"
     ]
    },
    {
     "name": "stderr",
     "output_type": "stream",
     "text": [
      " 69%|████████████████████████████████████████████████████▎                       | 9521/13846 [1:27:25<54:15,  1.33it/s]"
     ]
    },
    {
     "name": "stdout",
     "output_type": "stream",
     "text": [
      "'NoneType' object is not subscriptable\n"
     ]
    },
    {
     "name": "stderr",
     "output_type": "stream",
     "text": [
      " 70%|████████████████████████████████████████████████████▉                       | 9641/13846 [1:28:39<35:39,  1.97it/s]"
     ]
    },
    {
     "name": "stdout",
     "output_type": "stream",
     "text": [
      "Redirected:  9641 https://www.domain.com.au/2-3-10-roseberry-grove-glen-huntly-vic-3163-16048201\n"
     ]
    },
    {
     "name": "stderr",
     "output_type": "stream",
     "text": [
      " 70%|█████████████████████████████████████████████████████▎                      | 9708/13846 [1:29:16<31:00,  2.22it/s]"
     ]
    },
    {
     "name": "stdout",
     "output_type": "stream",
     "text": [
      "Redirected:  9708 https://www.domain.com.au/2206-75-89-a-beckett-street-melbourne-vic-3000-16047531\n"
     ]
    },
    {
     "name": "stderr",
     "output_type": "stream",
     "text": [
      " 70%|█████████████████████████████████████████████████████▍                      | 9745/13846 [1:29:38<31:27,  2.17it/s]"
     ]
    },
    {
     "name": "stdout",
     "output_type": "stream",
     "text": [
      "Redirected:  9745 https://www.domain.com.au/238a-were-street-brighton-east-vic-3187-16047072\n"
     ]
    },
    {
     "name": "stderr",
     "output_type": "stream",
     "text": [
      " 71%|█████████████████████████████████████████████████████▌                      | 9767/13846 [1:29:51<35:15,  1.93it/s]"
     ]
    },
    {
     "name": "stdout",
     "output_type": "stream",
     "text": [
      "Redirected:  9767 https://www.domain.com.au/2-22-albert-street-brunswick-east-vic-3057-16046766\n"
     ]
    },
    {
     "name": "stderr",
     "output_type": "stream",
     "text": [
      " 71%|█████████████████████████████████████████████████████▊                      | 9808/13846 [1:30:14<42:51,  1.57it/s]"
     ]
    },
    {
     "name": "stdout",
     "output_type": "stream",
     "text": [
      "Redirected:  9808 https://www.domain.com.au/3-211-esplanade-west-port-melbourne-vic-3207-16046297\n"
     ]
    },
    {
     "name": "stderr",
     "output_type": "stream",
     "text": [
      " 71%|█████████████████████████████████████████████████████▊                      | 9813/13846 [1:30:17<46:17,  1.45it/s]"
     ]
    },
    {
     "name": "stdout",
     "output_type": "stream",
     "text": [
      "'NoneType' object is not subscriptable\n"
     ]
    },
    {
     "name": "stderr",
     "output_type": "stream",
     "text": [
      " 71%|██████████████████████████████████████████████████████▏                     | 9874/13846 [1:30:47<38:05,  1.74it/s]"
     ]
    },
    {
     "name": "stdout",
     "output_type": "stream",
     "text": [
      "Redirected:  9874 https://www.domain.com.au/90-nickson-street-bundoora-vic-3083-14593787\n"
     ]
    },
    {
     "name": "stderr",
     "output_type": "stream",
     "text": [
      " 71%|██████████████████████████████████████████████████████▏                     | 9877/13846 [1:30:49<37:20,  1.77it/s]"
     ]
    },
    {
     "name": "stdout",
     "output_type": "stream",
     "text": [
      "Redirected:  9877 https://www.domain.com.au/2-30-nariel-road-st-albans-vic-3021-16045731\n"
     ]
    },
    {
     "name": "stderr",
     "output_type": "stream",
     "text": [
      " 72%|██████████████████████████████████████████████████████▍                     | 9922/13846 [1:31:18<39:07,  1.67it/s]"
     ]
    },
    {
     "name": "stdout",
     "output_type": "stream",
     "text": [
      "Redirected:  9922 https://www.domain.com.au/41-joey-street-deanside-vic-3336-16045357\n"
     ]
    },
    {
     "name": "stderr",
     "output_type": "stream",
     "text": [
      " 72%|██████████████████████████████████████████████████████▍                     | 9924/13846 [1:31:19<37:24,  1.75it/s]"
     ]
    },
    {
     "name": "stdout",
     "output_type": "stream",
     "text": [
      "Redirected:  9923 https://www.domain.com.au/53-33-latrobe-street-melbourne-vic-3000-16045348\n",
      "'props'\n",
      "Redirected:  9924 https://www.domain.com.au/6-813-princes-highway-springvale-vic-3171-16045320\n"
     ]
    },
    {
     "name": "stderr",
     "output_type": "stream",
     "text": [
      " 72%|██████████████████████████████████████████████████████▌                     | 9940/13846 [1:31:28<30:16,  2.15it/s]"
     ]
    },
    {
     "name": "stdout",
     "output_type": "stream",
     "text": [
      "Redirected:  9939 https://www.domain.com.au/8-bodega-st-waurn-ponds-vic-3216-16045152\n",
      "'props'\n"
     ]
    },
    {
     "name": "stderr",
     "output_type": "stream",
     "text": [
      " 72%|██████████████████████████████████████████████████████▋                     | 9964/13846 [1:31:39<31:32,  2.05it/s]"
     ]
    },
    {
     "name": "stdout",
     "output_type": "stream",
     "text": [
      "Redirected:  9964 https://www.domain.com.au/6-65-71-clarence-street-elsternwick-vic-3185-16039179\n"
     ]
    },
    {
     "name": "stderr",
     "output_type": "stream",
     "text": [
      " 72%|██████████████████████████████████████████████████████▊                     | 9990/13846 [1:31:52<31:27,  2.04it/s]"
     ]
    },
    {
     "name": "stdout",
     "output_type": "stream",
     "text": [
      "Redirected:  9990 https://www.domain.com.au/level-31-3101-31-abeckett-street-melbourne-vic-3000-16044335\n"
     ]
    },
    {
     "name": "stderr",
     "output_type": "stream",
     "text": [
      " 72%|██████████████████████████████████████████████████████▏                    | 10004/13846 [1:32:00<39:00,  1.64it/s]"
     ]
    },
    {
     "name": "stdout",
     "output_type": "stream",
     "text": [
      "'NoneType' object is not subscriptable\n"
     ]
    },
    {
     "name": "stderr",
     "output_type": "stream",
     "text": [
      " 73%|██████████████████████████████████████████████████████▌                    | 10080/13846 [1:32:42<37:41,  1.66it/s]"
     ]
    },
    {
     "name": "stdout",
     "output_type": "stream",
     "text": [
      "Redirected:  10079 https://www.domain.com.au/1-68-westbury-street-st-kilda-east-vic-3183-9915549\n",
      "'props'\n"
     ]
    },
    {
     "name": "stderr",
     "output_type": "stream",
     "text": [
      " 73%|██████████████████████████████████████████████████████▌                    | 10084/13846 [1:32:44<39:30,  1.59it/s]"
     ]
    },
    {
     "name": "stdout",
     "output_type": "stream",
     "text": [
      "Redirected:  10084 https://www.domain.com.au/5-61-di-palma-place-bundoora-vic-3083-16043443\n"
     ]
    },
    {
     "name": "stderr",
     "output_type": "stream",
     "text": [
      " 73%|██████████████████████████████████████████████████████▉                    | 10152/13846 [1:33:23<29:41,  2.07it/s]"
     ]
    },
    {
     "name": "stdout",
     "output_type": "stream",
     "text": [
      "Redirected:  10152 https://www.domain.com.au/8-k3-union-street-windsor-vic-3181-16042862\n"
     ]
    },
    {
     "name": "stderr",
     "output_type": "stream",
     "text": [
      " 74%|█████████████████████████████████████████████████████▋                   | 10190/13846 [1:33:50<1:02:47,  1.03s/it]"
     ]
    },
    {
     "name": "stdout",
     "output_type": "stream",
     "text": [
      "'NoneType' object is not subscriptable\n"
     ]
    },
    {
     "name": "stderr",
     "output_type": "stream",
     "text": [
      " 74%|███████████████████████████████████████████████████████▋                   | 10272/13846 [1:34:34<24:35,  2.42it/s]"
     ]
    },
    {
     "name": "stdout",
     "output_type": "stream",
     "text": [
      "Redirected:  10272 https://www.domain.com.au/53-hotham-street-cranbourne-vic-3977-16041776\n"
     ]
    },
    {
     "name": "stderr",
     "output_type": "stream",
     "text": [
      " 74%|███████████████████████████████████████████████████████▋                   | 10284/13846 [1:34:40<28:13,  2.10it/s]"
     ]
    },
    {
     "name": "stdout",
     "output_type": "stream",
     "text": [
      "Redirected:  10284 https://www.domain.com.au/9-dickins-street-strathtulloh-vic-3338-16041661\n"
     ]
    },
    {
     "name": "stderr",
     "output_type": "stream",
     "text": [
      " 75%|███████████████████████████████████████████████████████▉                   | 10331/13846 [1:35:05<34:34,  1.69it/s]"
     ]
    },
    {
     "name": "stdout",
     "output_type": "stream",
     "text": [
      "Redirected:  10331 https://www.domain.com.au/28-beatrix-avenue-point-cook-vic-3030-16041102\n"
     ]
    },
    {
     "name": "stderr",
     "output_type": "stream",
     "text": [
      "\r",
      " 75%|███████████████████████████████████████████████████████▉                   | 10332/13846 [1:35:05<35:00,  1.67it/s]"
     ]
    },
    {
     "name": "stdout",
     "output_type": "stream",
     "text": [
      "Redirected:  10332 https://www.domain.com.au/145-cranbourne-frankston-road-frankston-vic-3199-16041093\n"
     ]
    },
    {
     "name": "stderr",
     "output_type": "stream",
     "text": [
      " 75%|████████████████████████████████████████████████████████                   | 10347/13846 [1:35:13<28:53,  2.02it/s]"
     ]
    },
    {
     "name": "stdout",
     "output_type": "stream",
     "text": [
      "Redirected:  10347 https://www.domain.com.au/206-126-carlisle-street-st-kilda-east-vic-3183-16041005\n"
     ]
    },
    {
     "name": "stderr",
     "output_type": "stream",
     "text": [
      " 75%|████████████████████████████████████████████████████████                   | 10353/13846 [1:35:18<42:48,  1.36it/s]"
     ]
    },
    {
     "name": "stdout",
     "output_type": "stream",
     "text": [
      "Redirected:  10353 https://www.domain.com.au/7-lynn-street-seaford-vic-3198-16040934\n"
     ]
    },
    {
     "name": "stderr",
     "output_type": "stream",
     "text": [
      " 75%|████████████████████████████████████████████████████████▏                  | 10365/13846 [1:35:24<30:43,  1.89it/s]"
     ]
    },
    {
     "name": "stdout",
     "output_type": "stream",
     "text": [
      "Redirected:  10365 https://www.domain.com.au/1005-58-jeffcott-street-west-melbourne-vic-3003-16040805\n",
      "'props'\n"
     ]
    },
    {
     "name": "stderr",
     "output_type": "stream",
     "text": [
      " 75%|████████████████████████████████████████████████████████▏                  | 10380/13846 [1:35:32<28:38,  2.02it/s]"
     ]
    },
    {
     "name": "stdout",
     "output_type": "stream",
     "text": [
      "Redirected:  10380 https://www.domain.com.au/1401-889-collins-st-docklands-vic-3008-16040642\n"
     ]
    },
    {
     "name": "stderr",
     "output_type": "stream",
     "text": [
      " 75%|████████████████████████████████████████████████████████▌                  | 10442/13846 [1:36:06<40:44,  1.39it/s]"
     ]
    },
    {
     "name": "stdout",
     "output_type": "stream",
     "text": [
      "Redirected:  10441 https://www.domain.com.au/1205-443-upper-heidelberg-road-ivanhoe-vic-3079-15786129\n",
      "'props'\n"
     ]
    },
    {
     "name": "stderr",
     "output_type": "stream",
     "text": [
      " 75%|████████████████████████████████████████████████████████▌                  | 10447/13846 [1:36:09<33:50,  1.67it/s]"
     ]
    },
    {
     "name": "stdout",
     "output_type": "stream",
     "text": [
      "Redirected:  10447 https://www.domain.com.au/4-4-balfe-crescent-brunswick-west-vic-3055-16039989\n"
     ]
    },
    {
     "name": "stderr",
     "output_type": "stream",
     "text": [
      " 76%|████████████████████████████████████████████████████████▋                  | 10466/13846 [1:36:20<52:22,  1.08it/s]"
     ]
    },
    {
     "name": "stdout",
     "output_type": "stream",
     "text": [
      "Redirected:  10466 https://www.domain.com.au/princess-highway-springvale-vic-3171-16039857\n"
     ]
    },
    {
     "name": "stderr",
     "output_type": "stream",
     "text": [
      " 76%|█████████████████████████████████████████████████████████                  | 10543/13846 [1:37:03<31:57,  1.72it/s]"
     ]
    },
    {
     "name": "stdout",
     "output_type": "stream",
     "text": [
      "Redirected:  10543 https://www.domain.com.au/q-1134-dandenong-road-carnegie-vic-3163-16038868\n"
     ]
    },
    {
     "name": "stderr",
     "output_type": "stream",
     "text": [
      " 76%|█████████████████████████████████████████████████████████▏                 | 10557/13846 [1:37:10<24:14,  2.26it/s]"
     ]
    },
    {
     "name": "stdout",
     "output_type": "stream",
     "text": [
      "Redirected:  10557 https://www.domain.com.au/6710-138-spencer-street-melbourne-vic-3000-16033018\n"
     ]
    },
    {
     "name": "stderr",
     "output_type": "stream",
     "text": [
      " 76%|█████████████████████████████████████████████████████████▎                 | 10584/13846 [1:37:24<23:02,  2.36it/s]"
     ]
    },
    {
     "name": "stdout",
     "output_type": "stream",
     "text": [
      "Redirected:  10584 https://www.domain.com.au/910-675-la-trobe-street-docklands-vic-3008-16038423\n"
     ]
    },
    {
     "name": "stderr",
     "output_type": "stream",
     "text": [
      " 77%|█████████████████████████████████████████████████████████▉                 | 10694/13846 [1:38:27<24:38,  2.13it/s]"
     ]
    },
    {
     "name": "stdout",
     "output_type": "stream",
     "text": [
      "Redirected:  10694 https://www.domain.com.au/5308-18-hoff-boulevard-southbank-vic-3006-16037347\n"
     ]
    },
    {
     "name": "stderr",
     "output_type": "stream",
     "text": [
      " 77%|█████████████████████████████████████████████████████████▉                 | 10701/13846 [1:38:30<23:40,  2.21it/s]"
     ]
    },
    {
     "name": "stdout",
     "output_type": "stream",
     "text": [
      "Redirected:  10701 https://www.domain.com.au/3-29-volga-street-hadfield-vic-3046-16037252\n"
     ]
    },
    {
     "name": "stderr",
     "output_type": "stream",
     "text": [
      " 78%|██████████████████████████████████████████████████████████▏                | 10733/13846 [1:38:49<28:42,  1.81it/s]"
     ]
    },
    {
     "name": "stdout",
     "output_type": "stream",
     "text": [
      "Redirected:  10733 https://www.domain.com.au/11-wood-st-avondale-heights-vic-3034-16036895\n"
     ]
    },
    {
     "name": "stderr",
     "output_type": "stream",
     "text": [
      " 78%|██████████████████████████████████████████████████████████▏                | 10746/13846 [1:38:57<26:47,  1.93it/s]"
     ]
    },
    {
     "name": "stdout",
     "output_type": "stream",
     "text": [
      "Redirected:  10746 https://www.domain.com.au/1-7-como-parade-mentone-vic-3194-16036729\n"
     ]
    },
    {
     "name": "stderr",
     "output_type": "stream",
     "text": [
      " 78%|██████████████████████████████████████████████████████████▎                | 10763/13846 [1:39:07<26:38,  1.93it/s]"
     ]
    },
    {
     "name": "stdout",
     "output_type": "stream",
     "text": [
      "Redirected:  10763 https://www.domain.com.au/1-29-samada-street-notting-hill-vic-3168-16036572\n"
     ]
    },
    {
     "name": "stderr",
     "output_type": "stream",
     "text": [
      " 78%|██████████████████████████████████████████████████████████▌                | 10817/13846 [1:39:37<26:47,  1.88it/s]"
     ]
    },
    {
     "name": "stdout",
     "output_type": "stream",
     "text": [
      "Redirected:  10816 https://www.domain.com.au/6-9-eildon-road-st-kilda-vic-3182-16035949\n",
      "'props'\n"
     ]
    },
    {
     "name": "stderr",
     "output_type": "stream",
     "text": [
      " 78%|██████████████████████████████████████████████████████████▋                | 10834/13846 [1:39:46<23:18,  2.15it/s]"
     ]
    },
    {
     "name": "stdout",
     "output_type": "stream",
     "text": [
      "Redirected:  10834 https://www.domain.com.au/51-riley-street-clayton-vic-3168-16035733\n"
     ]
    },
    {
     "name": "stderr",
     "output_type": "stream",
     "text": [
      " 78%|██████████████████████████████████████████████████████████▋                | 10840/13846 [1:39:48<23:09,  2.16it/s]"
     ]
    },
    {
     "name": "stdout",
     "output_type": "stream",
     "text": [
      "Redirected:  10840 https://www.domain.com.au/8-72-williams-street-prahran-vic-3181-16035722\n"
     ]
    },
    {
     "name": "stderr",
     "output_type": "stream",
     "text": [
      " 79%|██████████████████████████████████████████████████████████▉                | 10873/13846 [1:40:05<20:57,  2.36it/s]"
     ]
    },
    {
     "name": "stdout",
     "output_type": "stream",
     "text": [
      "Redirected:  10873 https://www.domain.com.au/50-darling-moonee-ponds-vic-3039-16035202\n"
     ]
    },
    {
     "name": "stderr",
     "output_type": "stream",
     "text": [
      " 79%|██████████████████████████████████████████████████████████▉                | 10875/13846 [1:40:06<26:12,  1.89it/s]"
     ]
    },
    {
     "name": "stdout",
     "output_type": "stream",
     "text": [
      "Redirected:  10875 https://www.domain.com.au/burwood-east-vic-3151-16035159\n"
     ]
    },
    {
     "name": "stderr",
     "output_type": "stream",
     "text": [
      " 79%|███████████████████████████████████████████████████████████                | 10894/13846 [1:40:18<31:53,  1.54it/s]"
     ]
    },
    {
     "name": "stdout",
     "output_type": "stream",
     "text": [
      "Redirected:  10894 https://www.domain.com.au/101-616-618-warrigal-road-malvern-east-vic-3145-16034891\n"
     ]
    },
    {
     "name": "stderr",
     "output_type": "stream",
     "text": [
      " 79%|███████████████████████████████████████████████████████████                | 10902/13846 [1:40:23<25:37,  1.92it/s]"
     ]
    },
    {
     "name": "stdout",
     "output_type": "stream",
     "text": [
      "Redirected:  10902 https://www.domain.com.au/103-616-618-warrigal-road-malvern-east-vic-3145-16034773\n"
     ]
    },
    {
     "name": "stderr",
     "output_type": "stream",
     "text": [
      " 79%|███████████████████████████████████████████████████████████▏               | 10928/13846 [1:40:38<24:48,  1.96it/s]"
     ]
    },
    {
     "name": "stdout",
     "output_type": "stream",
     "text": [
      "Redirected:  10928 https://www.domain.com.au/9-farnborough-street-hoppers-crossing-vic-3029-16034326\n"
     ]
    },
    {
     "name": "stderr",
     "output_type": "stream",
     "text": [
      " 79%|███████████████████████████████████████████████████████████▎               | 10940/13846 [1:40:44<22:29,  2.15it/s]"
     ]
    },
    {
     "name": "stdout",
     "output_type": "stream",
     "text": [
      "Redirected:  10940 https://www.domain.com.au/253-normanby-road-south-melbourne-vic-3205-16034152\n"
     ]
    },
    {
     "name": "stderr",
     "output_type": "stream",
     "text": [
      " 79%|███████████████████████████████████████████████████████████▎               | 10944/13846 [1:40:47<23:23,  2.07it/s]"
     ]
    },
    {
     "name": "stdout",
     "output_type": "stream",
     "text": [
      "Redirected:  10944 https://www.domain.com.au/253-normanby-road-south-melbourne-vic-3205-16034120\n"
     ]
    },
    {
     "name": "stderr",
     "output_type": "stream",
     "text": [
      " 79%|███████████████████████████████████████████████████████████▎               | 10951/13846 [1:40:50<21:19,  2.26it/s]"
     ]
    },
    {
     "name": "stdout",
     "output_type": "stream",
     "text": [
      "Redirected:  10951 https://www.domain.com.au/22-epsom-avenue-mill-park-vic-3082-16034050\n"
     ]
    },
    {
     "name": "stderr",
     "output_type": "stream",
     "text": [
      " 79%|███████████████████████████████████████████████████████████▍               | 10966/13846 [1:40:57<26:31,  1.81it/s]"
     ]
    },
    {
     "name": "stdout",
     "output_type": "stream",
     "text": [
      "Redirected:  10966 https://www.domain.com.au/53-adelong-bvd-cobblebank-vic-3338-16033906\n"
     ]
    },
    {
     "name": "stderr",
     "output_type": "stream",
     "text": [
      " 80%|███████████████████████████████████████████████████████████▋               | 11018/13846 [1:41:30<24:41,  1.91it/s]"
     ]
    },
    {
     "name": "stdout",
     "output_type": "stream",
     "text": [
      "Redirected:  11018 https://www.domain.com.au/44-beauty-gully-road-warrandyte-vic-3113-16033139\n"
     ]
    },
    {
     "name": "stderr",
     "output_type": "stream",
     "text": [
      " 80%|███████████████████████████████████████████████████████████▋               | 11022/13846 [1:41:33<27:17,  1.72it/s]"
     ]
    },
    {
     "name": "stdout",
     "output_type": "stream",
     "text": [
      "Redirected:  11022 https://www.domain.com.au/802-478-st-kilda-road-melbourne-vic-3004-13068501\n"
     ]
    },
    {
     "name": "stderr",
     "output_type": "stream",
     "text": [
      " 80%|███████████████████████████████████████████████████████████▋               | 11026/13846 [1:41:34<22:21,  2.10it/s]"
     ]
    },
    {
     "name": "stdout",
     "output_type": "stream",
     "text": [
      "Redirected:  11026 https://www.domain.com.au/2-4-sydeney-street-clayton-south-vic-3169-16033012\n"
     ]
    },
    {
     "name": "stderr",
     "output_type": "stream",
     "text": [
      " 80%|███████████████████████████████████████████████████████████▊               | 11052/13846 [1:41:50<24:08,  1.93it/s]"
     ]
    },
    {
     "name": "stdout",
     "output_type": "stream",
     "text": [
      "Redirected:  11052 https://www.domain.com.au/63a-purtell-street-bentleigh-east-vic-3165-16032628\n"
     ]
    },
    {
     "name": "stderr",
     "output_type": "stream",
     "text": [
      " 80%|████████████████████████████████████████████████████████████▏              | 11104/13846 [1:42:22<24:29,  1.87it/s]"
     ]
    },
    {
     "name": "stdout",
     "output_type": "stream",
     "text": [
      "Redirected:  11104 https://www.domain.com.au/201-342-melbourne-road-williamstown-vic-3016-16032109\n"
     ]
    },
    {
     "name": "stderr",
     "output_type": "stream",
     "text": [
      " 80%|████████████████████████████████████████████████████████████▎              | 11138/13846 [1:42:41<23:38,  1.91it/s]"
     ]
    },
    {
     "name": "stdout",
     "output_type": "stream",
     "text": [
      "Redirected:  11138 https://www.domain.com.au/1-3-13-erskine-avenue-reservoir-vic-3073-16031814\n"
     ]
    },
    {
     "name": "stderr",
     "output_type": "stream",
     "text": [
      " 80%|████████████████████████████████████████████████████████████▎              | 11143/13846 [1:42:43<22:18,  2.02it/s]"
     ]
    },
    {
     "name": "stdout",
     "output_type": "stream",
     "text": [
      "'NoneType' object is not subscriptable\n"
     ]
    },
    {
     "name": "stderr",
     "output_type": "stream",
     "text": [
      " 81%|████████████████████████████████████████████████████████████▍              | 11150/13846 [1:42:46<15:46,  2.85it/s]"
     ]
    },
    {
     "name": "stdout",
     "output_type": "stream",
     "text": [
      "Redirected:  11149 https://www.domain.com.au/8-22-leopold-st-glen-iris-vic-3146-13566011\n",
      "'props'\n"
     ]
    },
    {
     "name": "stderr",
     "output_type": "stream",
     "text": [
      " 81%|████████████████████████████████████████████████████████████▍              | 11167/13846 [1:42:55<23:16,  1.92it/s]"
     ]
    },
    {
     "name": "stdout",
     "output_type": "stream",
     "text": [
      "Redirected:  11167 https://www.domain.com.au/618-360-st-kilda-road-melbourne-vic-3000-16031351\n"
     ]
    },
    {
     "name": "stderr",
     "output_type": "stream",
     "text": [
      " 81%|████████████████████████████████████████████████████████████▌              | 11189/13846 [1:43:08<22:41,  1.95it/s]"
     ]
    },
    {
     "name": "stdout",
     "output_type": "stream",
     "text": [
      "Redirected:  11189 https://www.domain.com.au/2-331-inkerman-street-st-kilda-vic-3182-15288842\n"
     ]
    },
    {
     "name": "stderr",
     "output_type": "stream",
     "text": [
      " 81%|████████████████████████████████████████████████████████████▋              | 11197/13846 [1:43:11<20:52,  2.12it/s]"
     ]
    },
    {
     "name": "stdout",
     "output_type": "stream",
     "text": [
      "Redirected:  11197 https://www.domain.com.au/62-the-esplanade-null-clifton-hill-vic-3068-16030931\n"
     ]
    },
    {
     "name": "stderr",
     "output_type": "stream",
     "text": [
      " 81%|████████████████████████████████████████████████████████████▊              | 11221/13846 [1:43:27<20:59,  2.08it/s]"
     ]
    },
    {
     "name": "stdout",
     "output_type": "stream",
     "text": [
      "Redirected:  11221 https://www.domain.com.au/6-129-melville-road-brunswick-vic-3056-16030501\n"
     ]
    },
    {
     "name": "stderr",
     "output_type": "stream",
     "text": [
      " 81%|████████████████████████████████████████████████████████████▊              | 11224/13846 [1:43:28<20:51,  2.09it/s]"
     ]
    },
    {
     "name": "stdout",
     "output_type": "stream",
     "text": [
      "Redirected:  11224 https://www.domain.com.au/7-99-neerim-road-carnegie-vic-3163-11936047\n"
     ]
    },
    {
     "name": "stderr",
     "output_type": "stream",
     "text": [
      " 81%|████████████████████████████████████████████████████████████▊              | 11229/13846 [1:43:31<22:56,  1.90it/s]"
     ]
    },
    {
     "name": "stdout",
     "output_type": "stream",
     "text": [
      "Redirected:  11229 https://www.domain.com.au/7-99-neerim-road-glen-huntly-vic-3163-11935961\n"
     ]
    },
    {
     "name": "stderr",
     "output_type": "stream",
     "text": [
      " 81%|████████████████████████████████████████████████████████████▉              | 11257/13846 [1:43:47<36:50,  1.17it/s]"
     ]
    },
    {
     "name": "stdout",
     "output_type": "stream",
     "text": [
      "'NoneType' object is not subscriptable\n"
     ]
    },
    {
     "name": "stderr",
     "output_type": "stream",
     "text": [
      " 81%|█████████████████████████████████████████████████████████████              | 11279/13846 [1:44:14<25:34,  1.67it/s]"
     ]
    },
    {
     "name": "stdout",
     "output_type": "stream",
     "text": [
      "Redirected:  11279 https://www.domain.com.au/1-37-grange-road-fairfield-vic-3078-16029765\n"
     ]
    },
    {
     "name": "stderr",
     "output_type": "stream",
     "text": [
      " 82%|█████████████████████████████████████████████████████████████▏             | 11291/13846 [1:44:23<19:11,  2.22it/s]"
     ]
    },
    {
     "name": "stdout",
     "output_type": "stream",
     "text": [
      "Redirected:  11290 https://www.domain.com.au/9-leicester-square-seaholme-vic-3018-16029595\n",
      "'props'\n"
     ]
    },
    {
     "name": "stderr",
     "output_type": "stream",
     "text": [
      " 82%|█████████████████████████████████████████████████████████████▏             | 11295/13846 [1:44:25<18:33,  2.29it/s]"
     ]
    },
    {
     "name": "stdout",
     "output_type": "stream",
     "text": [
      "Redirected:  11295 https://www.domain.com.au/house46-bruce-street-toorak-vic-3142-16029568\n"
     ]
    },
    {
     "name": "stderr",
     "output_type": "stream",
     "text": [
      " 82%|█████████████████████████████████████████████████████████████▌             | 11372/13846 [1:45:10<35:47,  1.15it/s]"
     ]
    },
    {
     "name": "stdout",
     "output_type": "stream",
     "text": [
      "'NoneType' object is not subscriptable\n"
     ]
    },
    {
     "name": "stderr",
     "output_type": "stream",
     "text": [
      " 82%|█████████████████████████████████████████████████████████████▋             | 11391/13846 [1:45:20<25:55,  1.58it/s]"
     ]
    },
    {
     "name": "stdout",
     "output_type": "stream",
     "text": [
      "Redirected:  11391 https://www.domain.com.au/3-5-bembridge-avenue-frankston-south-vic-3199-16028169\n"
     ]
    },
    {
     "name": "stderr",
     "output_type": "stream",
     "text": [
      " 82%|█████████████████████████████████████████████████████████████▋             | 11398/13846 [1:45:24<30:04,  1.36it/s]"
     ]
    },
    {
     "name": "stdout",
     "output_type": "stream",
     "text": [
      "'NoneType' object is not subscriptable\n"
     ]
    },
    {
     "name": "stderr",
     "output_type": "stream",
     "text": [
      " 83%|█████████████████████████████████████████████████████████████▉             | 11442/13846 [1:45:48<24:03,  1.67it/s]"
     ]
    },
    {
     "name": "stdout",
     "output_type": "stream",
     "text": [
      "Redirected:  11442 https://www.domain.com.au/8-40-42-chapman-street-glenroy-vic-3046-16027502\n"
     ]
    },
    {
     "name": "stderr",
     "output_type": "stream",
     "text": [
      " 83%|██████████████████████████████████████████████████████████████▎            | 11506/13846 [1:46:25<31:46,  1.23it/s]"
     ]
    },
    {
     "name": "stdout",
     "output_type": "stream",
     "text": [
      "Redirected:  11506 https://www.domain.com.au/36-lesney-street-richmond-vic-3121-13533466\n"
     ]
    },
    {
     "name": "stderr",
     "output_type": "stream",
     "text": [
      " 83%|██████████████████████████████████████████████████████████████▎            | 11514/13846 [1:46:31<28:13,  1.38it/s]"
     ]
    },
    {
     "name": "stdout",
     "output_type": "stream",
     "text": [
      "'NoneType' object is not subscriptable\n"
     ]
    },
    {
     "name": "stderr",
     "output_type": "stream",
     "text": [
      " 83%|██████████████████████████████████████████████████████████████▌            | 11549/13846 [1:46:49<20:21,  1.88it/s]"
     ]
    },
    {
     "name": "stdout",
     "output_type": "stream",
     "text": [
      "Redirected:  11549 https://www.domain.com.au/906-455-elizabeth-street-melbourne-vic-3004-16026030\n"
     ]
    },
    {
     "name": "stderr",
     "output_type": "stream",
     "text": [
      "\r",
      " 83%|██████████████████████████████████████████████████████████████▌            | 11550/13846 [1:46:50<20:00,  1.91it/s]"
     ]
    },
    {
     "name": "stdout",
     "output_type": "stream",
     "text": [
      "Redirected:  11550 https://www.domain.com.au/205-835-high-street-armadale-vic-3143-16026024\n"
     ]
    },
    {
     "name": "stderr",
     "output_type": "stream",
     "text": [
      "\r",
      " 83%|██████████████████████████████████████████████████████████████▌            | 11551/13846 [1:46:50<20:24,  1.87it/s]"
     ]
    },
    {
     "name": "stdout",
     "output_type": "stream",
     "text": [
      "'listingSummary'\n"
     ]
    },
    {
     "name": "stderr",
     "output_type": "stream",
     "text": [
      " 84%|██████████████████████████████████████████████████████████████▋            | 11562/13846 [1:46:56<23:01,  1.65it/s]"
     ]
    },
    {
     "name": "stdout",
     "output_type": "stream",
     "text": [
      "Redirected:  11562 https://www.domain.com.au/295-gilbert-road-preston-vic-3072-16025754\n"
     ]
    },
    {
     "name": "stderr",
     "output_type": "stream",
     "text": [
      " 84%|██████████████████████████████████████████████████████████████▋            | 11582/13846 [1:47:06<18:01,  2.09it/s]"
     ]
    },
    {
     "name": "stdout",
     "output_type": "stream",
     "text": [
      "Redirected:  11582 https://www.domain.com.au/57-rayhur-st-clayton-south-vic-3169-16025356\n"
     ]
    },
    {
     "name": "stderr",
     "output_type": "stream",
     "text": [
      " 84%|██████████████████████████████████████████████████████████████▊            | 11596/13846 [1:47:13<19:20,  1.94it/s]"
     ]
    },
    {
     "name": "stdout",
     "output_type": "stream",
     "text": [
      "Redirected:  11596 https://www.domain.com.au/4-21-gladstone-street-kew-vic-3101-15613484\n"
     ]
    },
    {
     "name": "stderr",
     "output_type": "stream",
     "text": [
      " 84%|██████████████████████████████████████████████████████████████▉            | 11609/13846 [1:47:19<17:37,  2.11it/s]"
     ]
    },
    {
     "name": "stdout",
     "output_type": "stream",
     "text": [
      "Redirected:  11609 https://www.domain.com.au/3811-628-flinders-street-docklands-vic-3008-16024892\n"
     ]
    },
    {
     "name": "stderr",
     "output_type": "stream",
     "text": [
      " 84%|███████████████████████████████████████████████████████████████            | 11633/13846 [1:47:31<20:39,  1.79it/s]"
     ]
    },
    {
     "name": "stdout",
     "output_type": "stream",
     "text": [
      "Redirected:  11633 https://www.domain.com.au/2-cole-street-chadstone-vic-3148-16024503\n"
     ]
    },
    {
     "name": "stderr",
     "output_type": "stream",
     "text": [
      " 84%|███████████████████████████████████████████████████████████████▏           | 11675/13846 [1:47:54<16:30,  2.19it/s]"
     ]
    },
    {
     "name": "stdout",
     "output_type": "stream",
     "text": [
      "Redirected:  11675 https://www.domain.com.au/unit-1-500-station-street-carrum-vic-3197-16023841\n"
     ]
    },
    {
     "name": "stderr",
     "output_type": "stream",
     "text": [
      " 84%|███████████████████████████████████████████████████████████████▎           | 11683/13846 [1:47:59<21:06,  1.71it/s]"
     ]
    },
    {
     "name": "stdout",
     "output_type": "stream",
     "text": [
      "Redirected:  11683 https://www.domain.com.au/1-83-main-street-gembrook-vic-3783-12413574\n"
     ]
    },
    {
     "name": "stderr",
     "output_type": "stream",
     "text": [
      " 85%|███████████████████████████████████████████████████████████████▌           | 11741/13846 [1:48:34<27:18,  1.28it/s]"
     ]
    },
    {
     "name": "stdout",
     "output_type": "stream",
     "text": [
      "'NoneType' object is not subscriptable\n"
     ]
    },
    {
     "name": "stderr",
     "output_type": "stream",
     "text": [
      " 85%|███████████████████████████████████████████████████████████████▋           | 11750/13846 [1:48:41<26:01,  1.34it/s]"
     ]
    },
    {
     "name": "stdout",
     "output_type": "stream",
     "text": [
      "Redirected:  11750 https://www.domain.com.au/1-1153-main-road-eltham-vic-3095-16022398\n"
     ]
    },
    {
     "name": "stderr",
     "output_type": "stream",
     "text": [
      " 85%|███████████████████████████████████████████████████████████████▊           | 11771/13846 [1:48:51<15:22,  2.25it/s]"
     ]
    },
    {
     "name": "stdout",
     "output_type": "stream",
     "text": [
      "Redirected:  11771 https://www.domain.com.au/2-seam-street-north-wonthaggi-vic-3995-16022026\n"
     ]
    },
    {
     "name": "stderr",
     "output_type": "stream",
     "text": [
      " 85%|███████████████████████████████████████████████████████████████▊           | 11786/13846 [1:48:59<15:57,  2.15it/s]"
     ]
    },
    {
     "name": "stdout",
     "output_type": "stream",
     "text": [
      "Redirected:  11785 https://www.domain.com.au/1507-1-balston-street-southbank-vic-3006-16021700\n",
      "'props'\n"
     ]
    },
    {
     "name": "stderr",
     "output_type": "stream",
     "text": [
      " 86%|████████████████████████████████████████████████████████████████▏          | 11859/13846 [1:49:39<16:13,  2.04it/s]"
     ]
    },
    {
     "name": "stdout",
     "output_type": "stream",
     "text": [
      "Redirected:  11859 https://www.domain.com.au/16-3-kooyong-rd-hawthorn-vic-3122-16019817\n"
     ]
    },
    {
     "name": "stderr",
     "output_type": "stream",
     "text": [
      " 86%|████████████████████████████████████████████████████████████████▌          | 11912/13846 [1:50:07<19:09,  1.68it/s]"
     ]
    },
    {
     "name": "stdout",
     "output_type": "stream",
     "text": [
      "Redirected:  11912 https://www.domain.com.au/2-63-boldrewood-pde-reservoir-vic-3073-16018846\n"
     ]
    },
    {
     "name": "stderr",
     "output_type": "stream",
     "text": [
      " 86%|████████████████████████████████████████████████████████████████▋          | 11937/13846 [1:50:21<17:55,  1.78it/s]"
     ]
    },
    {
     "name": "stdout",
     "output_type": "stream",
     "text": [
      "Redirected:  11937 https://www.domain.com.au/21-stanley-grove-canterbury-vic-3126-16017880\n"
     ]
    },
    {
     "name": "stderr",
     "output_type": "stream",
     "text": [
      " 86%|████████████████████████████████████████████████████████████████▋          | 11944/13846 [1:50:25<17:18,  1.83it/s]"
     ]
    },
    {
     "name": "stdout",
     "output_type": "stream",
     "text": [
      "'NoneType' object is not subscriptable\n"
     ]
    },
    {
     "name": "stderr",
     "output_type": "stream",
     "text": [
      " 86%|████████████████████████████████████████████████████████████████▊          | 11967/13846 [1:50:38<15:33,  2.01it/s]"
     ]
    },
    {
     "name": "stdout",
     "output_type": "stream",
     "text": [
      "Redirected:  11967 https://www.domain.com.au/5-77a-clow-street-dandenong-vic-3175-16017763\n"
     ]
    },
    {
     "name": "stderr",
     "output_type": "stream",
     "text": [
      " 87%|█████████████████████████████████████████████████████████████████▏         | 12032/13846 [1:51:11<15:59,  1.89it/s]"
     ]
    },
    {
     "name": "stdout",
     "output_type": "stream",
     "text": [
      "Redirected:  12032 https://www.domain.com.au/274-warrigal-r0ad-glen-iris-vic-3146-16016537\n"
     ]
    },
    {
     "name": "stderr",
     "output_type": "stream",
     "text": [
      " 87%|█████████████████████████████████████████████████████████████████▌         | 12093/13846 [1:51:45<11:45,  2.48it/s]"
     ]
    },
    {
     "name": "stdout",
     "output_type": "stream",
     "text": [
      "Redirected:  12092 https://www.domain.com.au/393-mitcham-road-mitcham-vic-3132-16015270\n",
      "'props'\n"
     ]
    },
    {
     "name": "stderr",
     "output_type": "stream",
     "text": [
      " 87%|█████████████████████████████████████████████████████████████████▌         | 12106/13846 [1:51:51<12:38,  2.29it/s]"
     ]
    },
    {
     "name": "stdout",
     "output_type": "stream",
     "text": [
      "Redirected:  12106 https://www.domain.com.au/8-simmonds-pl-roxburgh-park-vic-3064-16014951\n"
     ]
    },
    {
     "name": "stderr",
     "output_type": "stream",
     "text": [
      " 88%|█████████████████████████████████████████████████████████████████▉         | 12167/13846 [1:52:25<14:36,  1.92it/s]"
     ]
    },
    {
     "name": "stdout",
     "output_type": "stream",
     "text": [
      "Redirected:  12167 https://www.domain.com.au/65-springvale-road-mulgrave-vic-3170-16013542\n"
     ]
    },
    {
     "name": "stderr",
     "output_type": "stream",
     "text": [
      " 88%|█████████████████████████████████████████████████████████████████▉         | 12172/13846 [1:52:30<19:24,  1.44it/s]"
     ]
    },
    {
     "name": "stdout",
     "output_type": "stream",
     "text": [
      "Redirected:  12172 https://www.domain.com.au/4-5-marion-street-dandenong-vic-3175-16013449\n"
     ]
    },
    {
     "name": "stderr",
     "output_type": "stream",
     "text": [
      " 88%|█████████████████████████████████████████████████████████████████▉         | 12174/13846 [1:52:31<18:11,  1.53it/s]"
     ]
    },
    {
     "name": "stdout",
     "output_type": "stream",
     "text": [
      "Redirected:  12174 https://www.domain.com.au/336-burwood-highway-burwood-vic-3125-16013368\n"
     ]
    },
    {
     "name": "stderr",
     "output_type": "stream",
     "text": [
      " 88%|██████████████████████████████████████████████████████████████████         | 12204/13846 [1:52:47<15:07,  1.81it/s]"
     ]
    },
    {
     "name": "stdout",
     "output_type": "stream",
     "text": [
      "Redirected:  12204 https://www.domain.com.au/unit-1-23-koonalda-grove-dandenong-north-vic-3175-16012605\n"
     ]
    },
    {
     "name": "stderr",
     "output_type": "stream",
     "text": [
      " 88%|██████████████████████████████████████████████████████████████████▏        | 12210/13846 [1:52:50<13:50,  1.97it/s]"
     ]
    },
    {
     "name": "stdout",
     "output_type": "stream",
     "text": [
      "Redirected:  12210 https://www.domain.com.au/18a-hampton-road-essendon-west-vic-3040-16012457\n"
     ]
    },
    {
     "name": "stderr",
     "output_type": "stream",
     "text": [
      " 88%|██████████████████████████████████████████████████████████████████▏        | 12230/13846 [1:53:00<13:50,  1.95it/s]"
     ]
    },
    {
     "name": "stdout",
     "output_type": "stream",
     "text": [
      "Redirected:  12230 https://www.domain.com.au/47-angliss-street-yarraville-vic-3013-16011999\n"
     ]
    },
    {
     "name": "stderr",
     "output_type": "stream",
     "text": [
      " 89%|██████████████████████████████████████████████████████████████████▍        | 12271/13846 [1:53:20<12:02,  2.18it/s]"
     ]
    },
    {
     "name": "stdout",
     "output_type": "stream",
     "text": [
      "Redirected:  12270 https://www.domain.com.au/53-millar-st-daylesford-vic-3460-16011066\n",
      "'props'\n"
     ]
    },
    {
     "name": "stderr",
     "output_type": "stream",
     "text": [
      " 89%|██████████████████████████████████████████████████████████████████▌        | 12286/13846 [1:53:28<14:03,  1.85it/s]"
     ]
    },
    {
     "name": "stdout",
     "output_type": "stream",
     "text": [
      "'NoneType' object is not subscriptable\n",
      "Redirected:  12286 https://www.domain.com.au/234-bridport-street-west-street-albert-park-vic-3206-16010656\n"
     ]
    },
    {
     "name": "stderr",
     "output_type": "stream",
     "text": [
      "\r",
      " 89%|██████████████████████████████████████████████████████████████████▌        | 12287/13846 [1:53:28<16:32,  1.57it/s]"
     ]
    },
    {
     "name": "stdout",
     "output_type": "stream",
     "text": [
      "Redirected:  12287 https://www.domain.com.au/9-6-poplar-grove-carnegie-vic-3163-16010598\n"
     ]
    },
    {
     "name": "stderr",
     "output_type": "stream",
     "text": [
      "\r",
      " 89%|██████████████████████████████████████████████████████████████████▌        | 12288/13846 [1:53:31<34:04,  1.31s/it]"
     ]
    },
    {
     "name": "stdout",
     "output_type": "stream",
     "text": [
      "Redirected:  12288 https://www.domain.com.au/13-6-poplar-grove-carnegie-vic-3163-16010587\n"
     ]
    },
    {
     "name": "stderr",
     "output_type": "stream",
     "text": [
      " 89%|██████████████████████████████████████████████████████████████████▋        | 12304/13846 [1:53:40<13:36,  1.89it/s]"
     ]
    },
    {
     "name": "stdout",
     "output_type": "stream",
     "text": [
      "Redirected:  12304 https://www.domain.com.au/carspace-610-st-kilda-road-melbourne-vic-3004-16010221\n"
     ]
    },
    {
     "name": "stderr",
     "output_type": "stream",
     "text": [
      " 89%|██████████████████████████████████████████████████████████████████▉        | 12348/13846 [1:54:02<11:48,  2.11it/s]"
     ]
    },
    {
     "name": "stdout",
     "output_type": "stream",
     "text": [
      "Redirected:  12348 https://www.domain.com.au/7-544-gilbert-road-preston-vic-3072-16009214\n"
     ]
    },
    {
     "name": "stderr",
     "output_type": "stream",
     "text": [
      "\r",
      " 89%|██████████████████████████████████████████████████████████████████▉        | 12349/13846 [1:54:03<12:54,  1.93it/s]"
     ]
    },
    {
     "name": "stdout",
     "output_type": "stream",
     "text": [
      "Redirected:  12349 https://www.domain.com.au/7-544-gilbert-road-preston-vic-3072-16009211\n"
     ]
    },
    {
     "name": "stderr",
     "output_type": "stream",
     "text": [
      " 89%|██████████████████████████████████████████████████████████████████▉        | 12361/13846 [1:54:09<17:40,  1.40it/s]"
     ]
    },
    {
     "name": "stdout",
     "output_type": "stream",
     "text": [
      "'NoneType' object is not subscriptable\n"
     ]
    },
    {
     "name": "stderr",
     "output_type": "stream",
     "text": [
      " 89%|██████████████████████████████████████████████████████████████████▉        | 12366/13846 [1:54:12<12:46,  1.93it/s]"
     ]
    },
    {
     "name": "stdout",
     "output_type": "stream",
     "text": [
      "Redirected:  12366 https://www.domain.com.au/3-35-paxton-street-malvern-east-vic-3145-16008619\n"
     ]
    },
    {
     "name": "stderr",
     "output_type": "stream",
     "text": [
      " 89%|███████████████████████████████████████████████████████████████████        | 12392/13846 [1:54:23<10:22,  2.34it/s]"
     ]
    },
    {
     "name": "stdout",
     "output_type": "stream",
     "text": [
      "Redirected:  12392 https://www.domain.com.au/1017-heatherton-road-springvale-south-vic-3172-16008183\n"
     ]
    },
    {
     "name": "stderr",
     "output_type": "stream",
     "text": [
      " 90%|███████████████████████████████████████████████████████████████████▏       | 12404/13846 [1:54:29<11:22,  2.11it/s]"
     ]
    },
    {
     "name": "stdout",
     "output_type": "stream",
     "text": [
      "Redirected:  12404 https://www.domain.com.au/1-5-bainbridge-avenue-seaford-vic-3198-16007860\n"
     ]
    },
    {
     "name": "stderr",
     "output_type": "stream",
     "text": [
      " 90%|███████████████████████████████████████████████████████████████████▎       | 12431/13846 [1:54:41<11:23,  2.07it/s]"
     ]
    },
    {
     "name": "stdout",
     "output_type": "stream",
     "text": [
      "Redirected:  12431 https://www.domain.com.au/24-tedecso-circuit-williamstown-vic-3016-16007152\n"
     ]
    },
    {
     "name": "stderr",
     "output_type": "stream",
     "text": [
      " 90%|███████████████████████████████████████████████████████████████████▍       | 12440/13846 [1:54:46<11:29,  2.04it/s]"
     ]
    },
    {
     "name": "stdout",
     "output_type": "stream",
     "text": [
      "Redirected:  12440 https://www.domain.com.au/402-261-centre-road-bentleigh-vic-3204-14859377\n"
     ]
    },
    {
     "name": "stderr",
     "output_type": "stream",
     "text": [
      " 90%|███████████████████████████████████████████████████████████████████▍       | 12454/13846 [1:54:52<11:15,  2.06it/s]"
     ]
    },
    {
     "name": "stdout",
     "output_type": "stream",
     "text": [
      "Redirected:  12454 https://www.domain.com.au/2-de-feu-street-north-melbourne-vic-3051-16006686\n"
     ]
    },
    {
     "name": "stderr",
     "output_type": "stream",
     "text": [
      " 90%|███████████████████████████████████████████████████████████████████▌       | 12477/13846 [1:55:04<12:14,  1.86it/s]"
     ]
    },
    {
     "name": "stdout",
     "output_type": "stream",
     "text": [
      "Redirected:  12477 https://www.domain.com.au/1-101-great-ryrie-street-ringwood-vic-3134-16006002\n"
     ]
    },
    {
     "name": "stderr",
     "output_type": "stream",
     "text": [
      " 90%|███████████████████████████████████████████████████████████████████▋       | 12490/13846 [1:55:12<13:49,  1.63it/s]"
     ]
    },
    {
     "name": "stdout",
     "output_type": "stream",
     "text": [
      "Redirected:  12490 https://www.domain.com.au/25-melville-road-brunswick-vic-3056-15938975\n"
     ]
    },
    {
     "name": "stderr",
     "output_type": "stream",
     "text": [
      " 90%|███████████████████████████████████████████████████████████████████▊       | 12510/13846 [1:55:22<09:47,  2.28it/s]"
     ]
    },
    {
     "name": "stdout",
     "output_type": "stream",
     "text": [
      "Redirected:  12510 https://www.domain.com.au/1404c-260-spencer-st-melbourne-vic-3000-16004965\n"
     ]
    },
    {
     "name": "stderr",
     "output_type": "stream",
     "text": [
      " 90%|███████████████████████████████████████████████████████████████████▊       | 12512/13846 [1:55:24<17:15,  1.29it/s]"
     ]
    },
    {
     "name": "stdout",
     "output_type": "stream",
     "text": [
      "'NoneType' object is not subscriptable\n"
     ]
    },
    {
     "name": "stderr",
     "output_type": "stream",
     "text": [
      " 91%|████████████████████████████████████████████████████████████████████       | 12576/13846 [1:55:58<10:08,  2.09it/s]"
     ]
    },
    {
     "name": "stdout",
     "output_type": "stream",
     "text": [
      "Redirected:  12576 https://www.domain.com.au/3119-488-swanston-street-carlton-vic-3053-16002815\n"
     ]
    },
    {
     "name": "stderr",
     "output_type": "stream",
     "text": [
      " 91%|████████████████████████████████████████████████████████████████████▎      | 12616/13846 [1:56:18<10:59,  1.87it/s]"
     ]
    },
    {
     "name": "stdout",
     "output_type": "stream",
     "text": [
      "Redirected:  12616 https://www.domain.com.au/601-15-doepel-way-docklands-vic-3008-16001822\n"
     ]
    },
    {
     "name": "stderr",
     "output_type": "stream",
     "text": [
      " 91%|████████████████████████████████████████████████████████████████████▍      | 12623/13846 [1:56:21<08:56,  2.28it/s]"
     ]
    },
    {
     "name": "stdout",
     "output_type": "stream",
     "text": [
      "Redirected:  12623 https://www.domain.com.au/lot-a-2-83-hotham-road-niddrie-vic-3042-16001629\n"
     ]
    },
    {
     "name": "stderr",
     "output_type": "stream",
     "text": [
      " 91%|████████████████████████████████████████████████████████████████████▌      | 12664/13846 [1:56:43<08:48,  2.24it/s]"
     ]
    },
    {
     "name": "stdout",
     "output_type": "stream",
     "text": [
      "Redirected:  12664 https://www.domain.com.au/18-james-street-templestowe-vic-3106-16000492\n"
     ]
    },
    {
     "name": "stderr",
     "output_type": "stream",
     "text": [
      " 92%|████████████████████████████████████████████████████████████████████▋      | 12670/13846 [1:56:46<08:16,  2.37it/s]"
     ]
    },
    {
     "name": "stdout",
     "output_type": "stream",
     "text": [
      "Redirected:  12670 https://www.domain.com.au/95-street-seddon-vic-3011-16000330\n"
     ]
    },
    {
     "name": "stderr",
     "output_type": "stream",
     "text": [
      " 92%|████████████████████████████████████████████████████████████████████▊      | 12707/13846 [1:57:05<14:34,  1.30it/s]"
     ]
    },
    {
     "name": "stdout",
     "output_type": "stream",
     "text": [
      "Redirected:  12707 https://www.domain.com.au/2902-828-whitehorse-road-box-hill-vic-3128-15999360\n"
     ]
    },
    {
     "name": "stderr",
     "output_type": "stream",
     "text": [
      " 92%|████████████████████████████████████████████████████████████████████▉      | 12722/13846 [1:57:13<08:49,  2.12it/s]"
     ]
    },
    {
     "name": "stdout",
     "output_type": "stream",
     "text": [
      "Redirected:  12722 https://www.domain.com.au/pedro-street-clyde-north-vic-3978-15998586\n"
     ]
    },
    {
     "name": "stderr",
     "output_type": "stream",
     "text": [
      " 93%|█████████████████████████████████████████████████████████████████████▌     | 12842/13846 [1:58:17<07:30,  2.23it/s]"
     ]
    },
    {
     "name": "stdout",
     "output_type": "stream",
     "text": [
      "Redirected:  12842 https://www.domain.com.au/2-207-balaclava-road-caulfield-north-vic-3161-15950067\n"
     ]
    },
    {
     "name": "stderr",
     "output_type": "stream",
     "text": [
      " 93%|█████████████████████████████████████████████████████████████████████▋     | 12866/13846 [1:58:30<08:19,  1.96it/s]"
     ]
    },
    {
     "name": "stdout",
     "output_type": "stream",
     "text": [
      "Redirected:  12866 https://www.domain.com.au/1-winglillie-street-mildura-vic-3500-15993769\n"
     ]
    },
    {
     "name": "stderr",
     "output_type": "stream",
     "text": [
      " 93%|█████████████████████████████████████████████████████████████████████▋     | 12874/13846 [1:58:33<07:08,  2.27it/s]"
     ]
    },
    {
     "name": "stdout",
     "output_type": "stream",
     "text": [
      "Redirected:  12874 https://www.domain.com.au/213-17-arnold-street-box-hill-vic-3128-15993457\n"
     ]
    },
    {
     "name": "stderr",
     "output_type": "stream",
     "text": [
      " 93%|█████████████████████████████████████████████████████████████████████▋     | 12876/13846 [1:58:35<09:22,  1.73it/s]"
     ]
    },
    {
     "name": "stdout",
     "output_type": "stream",
     "text": [
      "Redirected:  12876 https://www.domain.com.au/106-132-hotham-street-st-kilda-east-vic-3183-15993384\n"
     ]
    },
    {
     "name": "stderr",
     "output_type": "stream",
     "text": [
      " 93%|█████████████████████████████████████████████████████████████████████▊     | 12890/13846 [1:58:43<07:20,  2.17it/s]"
     ]
    },
    {
     "name": "stdout",
     "output_type": "stream",
     "text": [
      "Redirected:  12890 https://www.domain.com.au/1604-250-st-kilda-road-melbourne-vic-3000-15992873\n"
     ]
    },
    {
     "name": "stderr",
     "output_type": "stream",
     "text": [
      "\r",
      " 93%|█████████████████████████████████████████████████████████████████████▊     | 12891/13846 [1:58:43<07:49,  2.03it/s]"
     ]
    },
    {
     "name": "stdout",
     "output_type": "stream",
     "text": [
      "Redirected:  12891 https://www.domain.com.au/4-kirrak-street-wonthaggi-vic-3995-15992847\n"
     ]
    },
    {
     "name": "stderr",
     "output_type": "stream",
     "text": [
      " 93%|█████████████████████████████████████████████████████████████████████▉     | 12908/13846 [1:58:53<08:17,  1.88it/s]"
     ]
    },
    {
     "name": "stdout",
     "output_type": "stream",
     "text": [
      "Redirected:  12908 https://www.domain.com.au/10-ranfurlie-avenue-point-cook-vic-3030-15992281\n"
     ]
    },
    {
     "name": "stderr",
     "output_type": "stream",
     "text": [
      " 93%|█████████████████████████████████████████████████████████████████████▉     | 12915/13846 [1:58:57<07:48,  1.99it/s]"
     ]
    },
    {
     "name": "stdout",
     "output_type": "stream",
     "text": [
      "Redirected:  12915 https://www.domain.com.au/unit-1-40-44-edgevale-road-kew-vic-3101-15992046\n"
     ]
    },
    {
     "name": "stderr",
     "output_type": "stream",
     "text": [
      " 93%|██████████████████████████████████████████████████████████████████████     | 12936/13846 [1:59:08<07:19,  2.07it/s]"
     ]
    },
    {
     "name": "stdout",
     "output_type": "stream",
     "text": [
      "Redirected:  12936 https://www.domain.com.au/4-4-hamliton-street-bentleigh-vic-3204-15991234\n"
     ]
    },
    {
     "name": "stderr",
     "output_type": "stream",
     "text": [
      " 94%|██████████████████████████████████████████████████████████████████████▎    | 12987/13846 [1:59:42<20:40,  1.44s/it]"
     ]
    },
    {
     "name": "stdout",
     "output_type": "stream",
     "text": [
      "Redirected:  12987 https://www.domain.com.au/burwood-vic-3125-15989035\n"
     ]
    },
    {
     "name": "stderr",
     "output_type": "stream",
     "text": [
      " 94%|██████████████████████████████████████████████████████████████████████▌    | 13028/13846 [2:00:04<07:56,  1.72it/s]"
     ]
    },
    {
     "name": "stdout",
     "output_type": "stream",
     "text": [
      "Redirected:  13028 https://www.domain.com.au/9-susman-court-altona-meadows-vic-3028-15987606\n"
     ]
    },
    {
     "name": "stderr",
     "output_type": "stream",
     "text": [
      " 94%|██████████████████████████████████████████████████████████████████████▋    | 13039/13846 [2:00:10<07:06,  1.89it/s]"
     ]
    },
    {
     "name": "stdout",
     "output_type": "stream",
     "text": [
      "Redirected:  13039 https://www.domain.com.au/36-cooloongatta-rd-camberwell-vic-3124-15987027\n"
     ]
    },
    {
     "name": "stderr",
     "output_type": "stream",
     "text": [
      " 94%|██████████████████████████████████████████████████████████████████████▋    | 13056/13846 [2:00:19<06:25,  2.05it/s]"
     ]
    },
    {
     "name": "stdout",
     "output_type": "stream",
     "text": [
      "Redirected:  13056 https://www.domain.com.au/4-248-moreland-road-brunswick-vic-3056-15986254\n"
     ]
    },
    {
     "name": "stderr",
     "output_type": "stream",
     "text": [
      " 94%|██████████████████████████████████████████████████████████████████████▊    | 13072/13846 [2:00:29<06:33,  1.97it/s]"
     ]
    },
    {
     "name": "stdout",
     "output_type": "stream",
     "text": [
      "Redirected:  13072 https://www.domain.com.au/2-66-banksia-street-heidelberg-vic-3084-15985525\n"
     ]
    },
    {
     "name": "stderr",
     "output_type": "stream",
     "text": [
      " 95%|███████████████████████████████████████████████████████████████████████    | 13121/13846 [2:00:58<06:08,  1.97it/s]"
     ]
    },
    {
     "name": "stdout",
     "output_type": "stream",
     "text": [
      "Redirected:  13121 https://www.domain.com.au/1804-327-la-trobe-st-melbourne-vic-3000-15113606\n"
     ]
    },
    {
     "name": "stderr",
     "output_type": "stream",
     "text": [
      " 95%|███████████████████████████████████████████████████████████████████████▏   | 13132/13846 [2:01:04<08:26,  1.41it/s]"
     ]
    },
    {
     "name": "stdout",
     "output_type": "stream",
     "text": [
      "Redirected:  13132 https://www.domain.com.au/10-12-14-quinns-road-bentleigh-east-vic-3165-15937557\n"
     ]
    },
    {
     "name": "stderr",
     "output_type": "stream",
     "text": [
      " 95%|███████████████████████████████████████████████████████████████████████▍   | 13196/13846 [2:01:39<09:59,  1.08it/s]"
     ]
    },
    {
     "name": "stdout",
     "output_type": "stream",
     "text": [
      "Redirected:  13196 https://www.domain.com.au/room-8-125-arthur-street-bundoora-vic-3083-15932021\n"
     ]
    },
    {
     "name": "stderr",
     "output_type": "stream",
     "text": [
      " 95%|███████████████████████████████████████████████████████████████████████▍   | 13199/13846 [2:01:41<06:34,  1.64it/s]"
     ]
    },
    {
     "name": "stdout",
     "output_type": "stream",
     "text": [
      "Redirected:  13199 https://www.domain.com.au/88-strathmerton-street-reservoir-vic-3073-15931220\n"
     ]
    },
    {
     "name": "stderr",
     "output_type": "stream",
     "text": [
      " 95%|███████████████████████████████████████████████████████████████████████▌   | 13211/13846 [2:01:46<04:31,  2.34it/s]"
     ]
    },
    {
     "name": "stdout",
     "output_type": "stream",
     "text": [
      "Redirected:  13211 https://www.domain.com.au/7-9-gordon-footscray-vic-3011-15929504\n"
     ]
    },
    {
     "name": "stderr",
     "output_type": "stream",
     "text": [
      " 96%|███████████████████████████████████████████████████████████████████████▋   | 13242/13846 [2:02:01<04:54,  2.05it/s]"
     ]
    },
    {
     "name": "stdout",
     "output_type": "stream",
     "text": [
      "Redirected:  13242 https://www.domain.com.au/8-daly-street-south-yarra-vic-3141-15926135\n"
     ]
    },
    {
     "name": "stderr",
     "output_type": "stream",
     "text": [
      " 96%|███████████████████████████████████████████████████████████████████████▋   | 13245/13846 [2:02:03<05:50,  1.72it/s]"
     ]
    },
    {
     "name": "stdout",
     "output_type": "stream",
     "text": [
      "Redirected:  13245 https://www.domain.com.au/469-riversdale-road-hawthorn-east-vic-3123-15925871\n"
     ]
    },
    {
     "name": "stderr",
     "output_type": "stream",
     "text": [
      " 96%|███████████████████████████████████████████████████████████████████████▊   | 13267/13846 [2:02:14<04:42,  2.05it/s]"
     ]
    },
    {
     "name": "stdout",
     "output_type": "stream",
     "text": [
      "Redirected:  13267 https://www.domain.com.au/42-hunter-street-richmond-richmond-vic-3121-15922605\n"
     ]
    },
    {
     "name": "stderr",
     "output_type": "stream",
     "text": [
      "\r",
      " 96%|███████████████████████████████████████████████████████████████████████▊   | 13268/13846 [2:02:15<05:03,  1.91it/s]"
     ]
    },
    {
     "name": "stdout",
     "output_type": "stream",
     "text": [
      "Redirected:  13268 https://www.domain.com.au/68-171-flemington-road-north-melbourne-vic-3051-15922594\n"
     ]
    },
    {
     "name": "stderr",
     "output_type": "stream",
     "text": [
      "\r",
      " 96%|███████████████████████████████████████████████████████████████████████▊   | 13269/13846 [2:02:15<04:53,  1.96it/s]"
     ]
    },
    {
     "name": "stdout",
     "output_type": "stream",
     "text": [
      "Redirected:  13269 https://www.domain.com.au/210-60-kavanagh-street-southbank-vic-3006-15922561\n"
     ]
    },
    {
     "name": "stderr",
     "output_type": "stream",
     "text": [
      " 96%|███████████████████████████████████████████████████████████████████████▉   | 13283/13846 [2:02:22<05:21,  1.75it/s]"
     ]
    },
    {
     "name": "stdout",
     "output_type": "stream",
     "text": [
      "Redirected:  13283 https://www.domain.com.au/5-167-169-oshanassy-street-sunbury-vic-3429-15921480\n"
     ]
    },
    {
     "name": "stderr",
     "output_type": "stream",
     "text": [
      " 96%|███████████████████████████████████████████████████████████████████████▉   | 13288/13846 [2:02:24<04:19,  2.15it/s]"
     ]
    },
    {
     "name": "stdout",
     "output_type": "stream",
     "text": [
      "Redirected:  13288 https://www.domain.com.au/33-roberts-avenue-mulgrave-vic-3170-15920980\n"
     ]
    },
    {
     "name": "stderr",
     "output_type": "stream",
     "text": [
      " 96%|███████████████████████████████████████████████████████████████████████▉   | 13290/13846 [2:02:26<06:13,  1.49it/s]"
     ]
    },
    {
     "name": "stdout",
     "output_type": "stream",
     "text": [
      "Redirected:  13290 https://www.domain.com.au/201-22-nicholson-street-fitzroy-north-vic-3068-13065176\n"
     ]
    },
    {
     "name": "stderr",
     "output_type": "stream",
     "text": [
      " 96%|████████████████████████████████████████████████████████████████████████   | 13294/13846 [2:02:28<04:33,  2.02it/s]"
     ]
    },
    {
     "name": "stdout",
     "output_type": "stream",
     "text": [
      "Redirected:  13294 https://www.domain.com.au/9-151-hall-road-carrum-downs-vic-3201-15920493\n"
     ]
    },
    {
     "name": "stderr",
     "output_type": "stream",
     "text": [
      " 96%|████████████████████████████████████████████████████████████████████████   | 13308/13846 [2:02:36<05:39,  1.59it/s]"
     ]
    },
    {
     "name": "stdout",
     "output_type": "stream",
     "text": [
      "Redirected:  13308 https://www.domain.com.au/moonee-ponds-vic-3039-15919119\n"
     ]
    },
    {
     "name": "stderr",
     "output_type": "stream",
     "text": [
      " 96%|████████████████████████████████████████████████████████████████████████▎  | 13344/13846 [2:02:58<05:30,  1.52it/s]"
     ]
    },
    {
     "name": "stdout",
     "output_type": "stream",
     "text": [
      "Redirected:  13344 https://www.domain.com.au/830a-high-street-prahran-vic-3181-15914247\n"
     ]
    },
    {
     "name": "stderr",
     "output_type": "stream",
     "text": [
      " 96%|████████████████████████████████████████████████████████████████████████▎  | 13350/13846 [2:03:01<05:07,  1.61it/s]"
     ]
    },
    {
     "name": "stdout",
     "output_type": "stream",
     "text": [
      "Redirected:  13350 https://www.domain.com.au/16-1-kooyong-road-armadale-road-armadale-vic-3143-15913121\n"
     ]
    },
    {
     "name": "stderr",
     "output_type": "stream",
     "text": [
      " 96%|████████████████████████████████████████████████████████████████████████▎  | 13358/13846 [2:03:05<03:46,  2.15it/s]"
     ]
    },
    {
     "name": "stdout",
     "output_type": "stream",
     "text": [
      "Redirected:  13358 https://www.domain.com.au/7-33-osborne-avenue-malvern-vic-3144-15911408\n"
     ]
    },
    {
     "name": "stderr",
     "output_type": "stream",
     "text": [
      " 97%|████████████████████████████████████████████████████████████████████████▍  | 13373/13846 [2:03:13<04:00,  1.96it/s]"
     ]
    },
    {
     "name": "stdout",
     "output_type": "stream",
     "text": [
      "Redirected:  13373 https://www.domain.com.au/54-54-betula-terrace-sunbury-vic-3429-15910254\n"
     ]
    },
    {
     "name": "stderr",
     "output_type": "stream",
     "text": [
      " 97%|████████████████████████████████████████████████████████████████████████▌  | 13397/13846 [2:03:27<03:36,  2.07it/s]"
     ]
    },
    {
     "name": "stdout",
     "output_type": "stream",
     "text": [
      "Redirected:  13397 https://www.domain.com.au/8-to-11-harvest-home-road-wollert-vic-3750-15906803\n"
     ]
    },
    {
     "name": "stderr",
     "output_type": "stream",
     "text": [
      " 97%|████████████████████████████████████████████████████████████████████████▋  | 13413/13846 [2:03:36<04:19,  1.67it/s]"
     ]
    },
    {
     "name": "stdout",
     "output_type": "stream",
     "text": [
      "Redirected:  13413 https://www.domain.com.au/227-elgar-road-surrey-hills-vic-3127-15904203\n"
     ]
    },
    {
     "name": "stderr",
     "output_type": "stream",
     "text": [
      " 97%|████████████████████████████████████████████████████████████████████████▋  | 13424/13846 [2:03:43<04:58,  1.41it/s]"
     ]
    },
    {
     "name": "stdout",
     "output_type": "stream",
     "text": [
      "'NoneType' object is not subscriptable\n"
     ]
    },
    {
     "name": "stderr",
     "output_type": "stream",
     "text": [
      " 97%|█████████████████████████████████████████████████████████████████████████  | 13477/13846 [2:04:15<03:26,  1.79it/s]"
     ]
    },
    {
     "name": "stdout",
     "output_type": "stream",
     "text": [
      "Redirected:  13477 https://www.domain.com.au/8-103-stanhope-street-west-footscray-vic-3012-15842636\n"
     ]
    },
    {
     "name": "stderr",
     "output_type": "stream",
     "text": [
      " 97%|█████████████████████████████████████████████████████████████████████████  | 13483/13846 [2:04:18<03:26,  1.76it/s]"
     ]
    },
    {
     "name": "stdout",
     "output_type": "stream",
     "text": [
      "Redirected:  13483 https://www.domain.com.au/craigieburn-vic-3064-15622567\n"
     ]
    },
    {
     "name": "stderr",
     "output_type": "stream",
     "text": [
      " 97%|█████████████████████████████████████████████████████████████████████████  | 13486/13846 [2:04:20<03:05,  1.94it/s]"
     ]
    },
    {
     "name": "stdout",
     "output_type": "stream",
     "text": [
      "Redirected:  13486 https://www.domain.com.au/3-33-william-street-glenroy-vic-3046-15839600\n"
     ]
    },
    {
     "name": "stderr",
     "output_type": "stream",
     "text": [
      "\r",
      " 97%|█████████████████████████████████████████████████████████████████████████  | 13487/13846 [2:04:21<03:24,  1.76it/s]"
     ]
    },
    {
     "name": "stdout",
     "output_type": "stream",
     "text": [
      "Redirected:  13487 https://www.domain.com.au/6-myrnong-crescent-ascot-vale-vic-3032-15839587\n"
     ]
    },
    {
     "name": "stderr",
     "output_type": "stream",
     "text": [
      " 97%|█████████████████████████████████████████████████████████████████████████  | 13498/13846 [2:04:26<02:43,  2.12it/s]"
     ]
    },
    {
     "name": "stdout",
     "output_type": "stream",
     "text": [
      "Redirected:  13498 https://www.domain.com.au/9-14-a-beckett-street-prahran-vic-3181-15834798\n"
     ]
    },
    {
     "name": "stderr",
     "output_type": "stream",
     "text": [
      " 98%|█████████████████████████████████████████████████████████████████████████▏ | 13502/13846 [2:04:28<02:49,  2.02it/s]"
     ]
    },
    {
     "name": "stdout",
     "output_type": "stream",
     "text": [
      "Redirected:  13502 https://www.domain.com.au/2-60-trafalgar-ave-altona-meadows-vic-3028-15833832\n"
     ]
    },
    {
     "name": "stderr",
     "output_type": "stream",
     "text": [
      " 98%|█████████████████████████████████████████████████████████████████████████▏ | 13508/13846 [2:04:33<04:03,  1.39it/s]"
     ]
    },
    {
     "name": "stdout",
     "output_type": "stream",
     "text": [
      "Redirected:  13508 https://www.domain.com.au/504-18-russell-place-melbourne-vic-3000-15831769\n"
     ]
    },
    {
     "name": "stderr",
     "output_type": "stream",
     "text": [
      " 98%|█████████████████████████████████████████████████████████████████████████▏ | 13515/13846 [2:04:36<02:38,  2.08it/s]"
     ]
    },
    {
     "name": "stdout",
     "output_type": "stream",
     "text": [
      "Redirected:  13515 https://www.domain.com.au/4-tannery-walk-footscray-vic-3011-15829820\n"
     ]
    },
    {
     "name": "stderr",
     "output_type": "stream",
     "text": [
      " 98%|█████████████████████████████████████████████████████████████████████████▏ | 13517/13846 [2:04:38<03:48,  1.44it/s]"
     ]
    },
    {
     "name": "stdout",
     "output_type": "stream",
     "text": [
      "Redirected:  13517 https://www.domain.com.au/g07-150-dudley-st-west-melbourne-vic-3003-15829689\n"
     ]
    },
    {
     "name": "stderr",
     "output_type": "stream",
     "text": [
      "\r",
      " 98%|█████████████████████████████████████████████████████████████████████████▏ | 13518/13846 [2:04:39<03:52,  1.41it/s]"
     ]
    },
    {
     "name": "stdout",
     "output_type": "stream",
     "text": [
      "Redirected:  13518 https://www.domain.com.au/37-wotonga-drive-horsham-vic-3400-15829544\n"
     ]
    },
    {
     "name": "stderr",
     "output_type": "stream",
     "text": [
      "\r",
      " 98%|█████████████████████████████████████████████████████████████████████████▏ | 13519/13846 [2:04:39<03:26,  1.58it/s]"
     ]
    },
    {
     "name": "stdout",
     "output_type": "stream",
     "text": [
      "Redirected:  13519 https://www.domain.com.au/1-hallenstein-street-footscray-vic-3011-15829355\n"
     ]
    },
    {
     "name": "stderr",
     "output_type": "stream",
     "text": [
      " 98%|█████████████████████████████████████████████████████████████████████████▎ | 13523/13846 [2:04:42<03:06,  1.73it/s]"
     ]
    },
    {
     "name": "stdout",
     "output_type": "stream",
     "text": [
      "Redirected:  13523 https://www.domain.com.au/3-253-darebin-road-thornbury-vic-3071-15828844\n"
     ]
    },
    {
     "name": "stderr",
     "output_type": "stream",
     "text": [
      "\r",
      " 98%|█████████████████████████████████████████████████████████████████████████▎ | 13524/13846 [2:04:44<05:11,  1.03it/s]"
     ]
    },
    {
     "name": "stdout",
     "output_type": "stream",
     "text": [
      "Redirected:  13524 https://www.domain.com.au/20-road-carrum-downs-vic-3201-15828739\n"
     ]
    },
    {
     "name": "stderr",
     "output_type": "stream",
     "text": [
      " 98%|█████████████████████████████████████████████████████████████████████████▍ | 13551/13846 [2:04:58<02:20,  2.10it/s]"
     ]
    },
    {
     "name": "stdout",
     "output_type": "stream",
     "text": [
      "Redirected:  13551 https://www.domain.com.au/1-106-asbury-street-west-ocean-grove-vic-3226-15819815\n"
     ]
    },
    {
     "name": "stderr",
     "output_type": "stream",
     "text": [
      " 98%|█████████████████████████████████████████████████████████████████████████▍ | 13554/13846 [2:05:01<03:07,  1.55it/s]"
     ]
    },
    {
     "name": "stdout",
     "output_type": "stream",
     "text": [
      "Redirected:  13554 https://www.domain.com.au/8-marong-terrace-forest-hill-vic-3131-15816213\n"
     ]
    },
    {
     "name": "stderr",
     "output_type": "stream",
     "text": [
      " 98%|█████████████████████████████████████████████████████████████████████████▍ | 13557/13846 [2:05:02<02:37,  1.84it/s]"
     ]
    },
    {
     "name": "stdout",
     "output_type": "stream",
     "text": [
      "Redirected:  13557 https://www.domain.com.au/203-528-swanston-street-carlton-vic-3053-14399584\n"
     ]
    },
    {
     "name": "stderr",
     "output_type": "stream",
     "text": [
      " 98%|█████████████████████████████████████████████████████████████████████████▌ | 13570/13846 [2:05:09<02:37,  1.75it/s]"
     ]
    },
    {
     "name": "stdout",
     "output_type": "stream",
     "text": [
      "Redirected:  13570 https://www.domain.com.au/brighton-east-vic-3187-15813396\n"
     ]
    },
    {
     "name": "stderr",
     "output_type": "stream",
     "text": [
      "\r",
      " 98%|█████████████████████████████████████████████████████████████████████████▌ | 13571/13846 [2:05:09<02:32,  1.80it/s]"
     ]
    },
    {
     "name": "stdout",
     "output_type": "stream",
     "text": [
      "Redirected:  13571 https://www.domain.com.au/203-205-waiora-road-heidelberg-heights-vic-3081-15813368\n"
     ]
    },
    {
     "name": "stderr",
     "output_type": "stream",
     "text": [
      " 98%|█████████████████████████████████████████████████████████████████████████▌ | 13578/13846 [2:05:13<01:59,  2.24it/s]"
     ]
    },
    {
     "name": "stdout",
     "output_type": "stream",
     "text": [
      "Redirected:  13578 https://www.domain.com.au/307e-16-moreland-street-footscray-vic-3011-15811849\n"
     ]
    },
    {
     "name": "stderr",
     "output_type": "stream",
     "text": [
      " 98%|█████████████████████████████████████████████████████████████████████████▋ | 13593/13846 [2:05:21<02:08,  1.97it/s]"
     ]
    },
    {
     "name": "stdout",
     "output_type": "stream",
     "text": [
      "Redirected:  13593 https://www.domain.com.au/townhouse-5-597-burke-rd-camberwell-vic-3124-15804619\n"
     ]
    },
    {
     "name": "stderr",
     "output_type": "stream",
     "text": [
      " 98%|█████████████████████████████████████████████████████████████████████████▋ | 13595/13846 [2:05:22<02:02,  2.06it/s]"
     ]
    },
    {
     "name": "stdout",
     "output_type": "stream",
     "text": [
      "Redirected:  13595 https://www.domain.com.au/barwon-heads-vic-3227-15804294\n"
     ]
    },
    {
     "name": "stderr",
     "output_type": "stream",
     "text": [
      " 98%|█████████████████████████████████████████████████████████████████████████▊ | 13635/13846 [2:05:43<01:45,  1.99it/s]"
     ]
    },
    {
     "name": "stdout",
     "output_type": "stream",
     "text": [
      "Redirected:  13635 https://www.domain.com.au/3-5-morris-court-dandenong-north-vic-3175-15787735\n"
     ]
    },
    {
     "name": "stderr",
     "output_type": "stream",
     "text": [
      " 98%|█████████████████████████████████████████████████████████████████████████▊ | 13638/13846 [2:05:45<02:47,  1.24it/s]"
     ]
    },
    {
     "name": "stdout",
     "output_type": "stream",
     "text": [
      "Redirected:  13638 https://www.domain.com.au/119-88-southbank-boulevard-melbourne-vic-3000-15786868\n"
     ]
    },
    {
     "name": "stderr",
     "output_type": "stream",
     "text": [
      " 99%|█████████████████████████████████████████████████████████████████████████▉ | 13649/13846 [2:05:54<02:59,  1.09it/s]"
     ]
    },
    {
     "name": "stdout",
     "output_type": "stream",
     "text": [
      "Redirected:  13649 https://www.domain.com.au/7-243-flemington-road-north-melbourne-vic-3051-15783896\n"
     ]
    },
    {
     "name": "stderr",
     "output_type": "stream",
     "text": [
      " 99%|█████████████████████████████████████████████████████████████████████████▉ | 13661/13846 [2:06:00<01:30,  2.04it/s]"
     ]
    },
    {
     "name": "stdout",
     "output_type": "stream",
     "text": [
      "Redirected:  13661 https://www.domain.com.au/101-118-pier-street-altona-vic-3018-15778075\n"
     ]
    },
    {
     "name": "stderr",
     "output_type": "stream",
     "text": [
      " 99%|██████████████████████████████████████████████████████████████████████████ | 13667/13846 [2:06:03<01:17,  2.31it/s]"
     ]
    },
    {
     "name": "stdout",
     "output_type": "stream",
     "text": [
      "Redirected:  13667 https://www.domain.com.au/1906-12-queens-road-melbourne-vic-3004-15776880\n"
     ]
    },
    {
     "name": "stderr",
     "output_type": "stream",
     "text": [
      " 99%|██████████████████████████████████████████████████████████████████████████ | 13669/13846 [2:06:04<01:17,  2.28it/s]"
     ]
    },
    {
     "name": "stdout",
     "output_type": "stream",
     "text": [
      "Redirected:  13669 https://www.domain.com.au/1201e-6-tannery-walk-footscray-vic-3011-15775198\n"
     ]
    },
    {
     "name": "stderr",
     "output_type": "stream",
     "text": [
      " 99%|██████████████████████████████████████████████████████████████████████████ | 13674/13846 [2:06:07<01:37,  1.76it/s]"
     ]
    },
    {
     "name": "stdout",
     "output_type": "stream",
     "text": [
      "Redirected:  13674 https://www.domain.com.au/2-myora-court-chadstone-vic-3148-15647832\n"
     ]
    },
    {
     "name": "stderr",
     "output_type": "stream",
     "text": [
      " 99%|██████████████████████████████████████████████████████████████████████████ | 13680/13846 [2:06:11<01:23,  1.99it/s]"
     ]
    },
    {
     "name": "stdout",
     "output_type": "stream",
     "text": [
      "Redirected:  13680 https://www.domain.com.au/kew-vic-3101-15766536\n"
     ]
    },
    {
     "name": "stderr",
     "output_type": "stream",
     "text": [
      "\r",
      " 99%|██████████████████████████████████████████████████████████████████████████ | 13681/13846 [2:06:11<01:22,  1.99it/s]"
     ]
    },
    {
     "name": "stdout",
     "output_type": "stream",
     "text": [
      "Redirected:  13681 https://www.domain.com.au/2-637-malvern-rd-toorak-vic-3142-15766201\n"
     ]
    },
    {
     "name": "stderr",
     "output_type": "stream",
     "text": [
      " 99%|██████████████████████████████████████████████████████████████████████████▏| 13688/13846 [2:06:15<01:17,  2.04it/s]"
     ]
    },
    {
     "name": "stdout",
     "output_type": "stream",
     "text": [
      "Redirected:  13688 https://www.domain.com.au/shed-1-116-pasley-st-bundalong-south-vic-3730-15763229\n"
     ]
    },
    {
     "name": "stderr",
     "output_type": "stream",
     "text": [
      " 99%|██████████████████████████████████████████████████████████████████████████▏| 13693/13846 [2:06:18<01:13,  2.09it/s]"
     ]
    },
    {
     "name": "stdout",
     "output_type": "stream",
     "text": [
      "Redirected:  13693 https://www.domain.com.au/ssc-22-protea-street-carrum-downs-vic-3201-15760960\n"
     ]
    },
    {
     "name": "stderr",
     "output_type": "stream",
     "text": [
      " 99%|██████████████████████████████████████████████████████████████████████████▏| 13698/13846 [2:06:20<01:07,  2.18it/s]"
     ]
    },
    {
     "name": "stdout",
     "output_type": "stream",
     "text": [
      "Redirected:  13698 https://www.domain.com.au/7-36-nepean-avenue-hampton-east-vic-3188-15757092\n"
     ]
    },
    {
     "name": "stderr",
     "output_type": "stream",
     "text": [
      " 99%|██████████████████████████████████████████████████████████████████████████▏| 13700/13846 [2:06:21<01:11,  2.04it/s]"
     ]
    },
    {
     "name": "stdout",
     "output_type": "stream",
     "text": [
      "Redirected:  13700 https://www.domain.com.au/6-148-melville-road-pascoe-vale-south-vic-3044-12848096\n"
     ]
    },
    {
     "name": "stderr",
     "output_type": "stream",
     "text": [
      " 99%|██████████████████████████████████████████████████████████████████████████▍| 13733/13846 [2:06:39<01:00,  1.88it/s]"
     ]
    },
    {
     "name": "stdout",
     "output_type": "stream",
     "text": [
      "Redirected:  13733 https://www.domain.com.au/x02-560-flinders-street-melbourne-vic-3000-15732108\n"
     ]
    },
    {
     "name": "stderr",
     "output_type": "stream",
     "text": [
      " 99%|██████████████████████████████████████████████████████████████████████████▍| 13740/13846 [2:06:43<01:16,  1.39it/s]"
     ]
    },
    {
     "name": "stdout",
     "output_type": "stream",
     "text": [
      "Redirected:  13740 https://www.domain.com.au/2-29-browns-road-clayton-vic-3168-15726310\n"
     ]
    },
    {
     "name": "stderr",
     "output_type": "stream",
     "text": [
      "\r",
      " 99%|██████████████████████████████████████████████████████████████████████████▍| 13741/13846 [2:06:43<01:09,  1.50it/s]"
     ]
    },
    {
     "name": "stdout",
     "output_type": "stream",
     "text": [
      "Redirected:  13741 https://www.domain.com.au/1-29-browns-road-clayton-vic-3168-15726278\n"
     ]
    },
    {
     "name": "stderr",
     "output_type": "stream",
     "text": [
      " 99%|██████████████████████████████████████████████████████████████████████████▍| 13743/13846 [2:06:45<01:03,  1.61it/s]"
     ]
    },
    {
     "name": "stdout",
     "output_type": "stream",
     "text": [
      "Redirected:  13743 https://www.domain.com.au/29-browns-road-clayton-vic-3168-15725907\n"
     ]
    },
    {
     "name": "stderr",
     "output_type": "stream",
     "text": [
      " 99%|██████████████████████████████████████████████████████████████████████████▍| 13750/13846 [2:06:49<00:52,  1.83it/s]"
     ]
    },
    {
     "name": "stdout",
     "output_type": "stream",
     "text": [
      "Redirected:  13750 https://www.domain.com.au/2-112-merrijig-drive-torquay-vic-3228-15721074\n"
     ]
    },
    {
     "name": "stderr",
     "output_type": "stream",
     "text": [
      "\r",
      " 99%|██████████████████████████████████████████████████████████████████████████▍| 13751/13846 [2:06:50<00:56,  1.69it/s]"
     ]
    },
    {
     "name": "stdout",
     "output_type": "stream",
     "text": [
      "Redirected:  13751 https://www.domain.com.au/19-850-pascoe-vale-rd-glenroy-vic-3046-15719964\n"
     ]
    },
    {
     "name": "stderr",
     "output_type": "stream",
     "text": [
      "\r",
      " 99%|██████████████████████████████████████████████████████████████████████████▍| 13752/13846 [2:06:51<00:51,  1.82it/s]"
     ]
    },
    {
     "name": "stdout",
     "output_type": "stream",
     "text": [
      "Redirected:  13752 https://www.domain.com.au/1-52-langton-street-glenroy-vic-3046-15719961\n"
     ]
    },
    {
     "name": "stderr",
     "output_type": "stream",
     "text": [
      "\r",
      " 99%|██████████████████████████████████████████████████████████████████████████▍| 13753/13846 [2:06:53<01:37,  1.04s/it]"
     ]
    },
    {
     "name": "stdout",
     "output_type": "stream",
     "text": [
      "Redirected:  13753 https://www.domain.com.au/119-view-street-glenroy-vic-3046-15719955\n"
     ]
    },
    {
     "name": "stderr",
     "output_type": "stream",
     "text": [
      "\r",
      " 99%|██████████████████████████████████████████████████████████████████████████▌| 13754/13846 [2:06:54<01:30,  1.02it/s]"
     ]
    },
    {
     "name": "stdout",
     "output_type": "stream",
     "text": [
      "Redirected:  13754 https://www.domain.com.au/3-wilby-court-broadmeadows-vic-3047-15719952\n"
     ]
    },
    {
     "name": "stderr",
     "output_type": "stream",
     "text": [
      "100%|██████████████████████████████████████████████████████████████████████████▋| 13777/13846 [2:07:05<00:36,  1.87it/s]"
     ]
    },
    {
     "name": "stdout",
     "output_type": "stream",
     "text": [
      "Redirected:  13777 https://www.domain.com.au/14-70-canterbury-rd-toorak-vic-3142-15632839\n"
     ]
    },
    {
     "name": "stderr",
     "output_type": "stream",
     "text": [
      "100%|██████████████████████████████████████████████████████████████████████████▋| 13780/13846 [2:07:10<01:16,  1.15s/it]"
     ]
    },
    {
     "name": "stdout",
     "output_type": "stream",
     "text": [
      "Redirected:  13780 https://www.domain.com.au/1203-57-city-rd-southbank-vic-3006-15631603\n"
     ]
    },
    {
     "name": "stderr",
     "output_type": "stream",
     "text": [
      "\r",
      "100%|██████████████████████████████████████████████████████████████████████████▋| 13781/13846 [2:07:10<01:00,  1.07it/s]"
     ]
    },
    {
     "name": "stdout",
     "output_type": "stream",
     "text": [
      "Redirected:  13781 https://www.domain.com.au/2803-63-haig-st-southbank-vic-3006-15631602\n"
     ]
    },
    {
     "name": "stderr",
     "output_type": "stream",
     "text": [
      "\r",
      "100%|██████████████████████████████████████████████████████████████████████████▋| 13782/13846 [2:07:11<00:51,  1.25it/s]"
     ]
    },
    {
     "name": "stdout",
     "output_type": "stream",
     "text": [
      "Redirected:  13782 https://www.domain.com.au/2702-89-gladstone-st-south-melbourne-vic-3205-15631589\n"
     ]
    },
    {
     "name": "stderr",
     "output_type": "stream",
     "text": [
      "100%|██████████████████████████████████████████████████████████████████████████▋| 13787/13846 [2:07:14<00:43,  1.36it/s]"
     ]
    },
    {
     "name": "stdout",
     "output_type": "stream",
     "text": [
      "Redirected:  13787 https://www.domain.com.au/1008-77-89-a-beckett-southbank-vic-3006-15622026\n"
     ]
    },
    {
     "name": "stderr",
     "output_type": "stream",
     "text": [
      "\r",
      "100%|██████████████████████████████████████████████████████████████████████████▋| 13788/13846 [2:07:15<00:39,  1.48it/s]"
     ]
    },
    {
     "name": "stdout",
     "output_type": "stream",
     "text": [
      "Redirected:  13788 https://www.domain.com.au/8-2b-hawsleigh-ave-balaclava-vic-3183-15619644\n"
     ]
    },
    {
     "name": "stderr",
     "output_type": "stream",
     "text": [
      "100%|██████████████████████████████████████████████████████████████████████████▊| 13811/13846 [2:07:28<00:31,  1.11it/s]"
     ]
    },
    {
     "name": "stdout",
     "output_type": "stream",
     "text": [
      "Redirected:  13811 https://www.domain.com.au/room-1-5-35-bradshaw-street-kingsbury-vic-3083-15478269\n"
     ]
    },
    {
     "name": "stderr",
     "output_type": "stream",
     "text": [
      "100%|██████████████████████████████████████████████████████████████████████████▊| 13813/13846 [2:07:29<00:30,  1.10it/s]"
     ]
    },
    {
     "name": "stdout",
     "output_type": "stream",
     "text": [
      "Redirected:  13813 https://www.domain.com.au/2-14-percy-street-fawkner-vic-3060-15470783\n"
     ]
    },
    {
     "name": "stderr",
     "output_type": "stream",
     "text": [
      "100%|██████████████████████████████████████████████████████████████████████████▉| 13828/13846 [2:07:36<00:08,  2.10it/s]"
     ]
    },
    {
     "name": "stdout",
     "output_type": "stream",
     "text": [
      "Redirected:  13828 https://www.domain.com.au/4-14-westbury-street-st-kilda-east-vic-3183-15449726\n"
     ]
    },
    {
     "name": "stderr",
     "output_type": "stream",
     "text": [
      "100%|██████████████████████████████████████████████████████████████████████████▉| 13830/13846 [2:07:37<00:07,  2.05it/s]"
     ]
    },
    {
     "name": "stdout",
     "output_type": "stream",
     "text": [
      "Redirected:  13830 https://www.domain.com.au/7-715-pascoe-vale-rd-glenroy-vic-3046-15443774\n"
     ]
    },
    {
     "name": "stderr",
     "output_type": "stream",
     "text": [
      "100%|██████████████████████████████████████████████████████████████████████████▉| 13832/13846 [2:07:38<00:06,  2.15it/s]"
     ]
    },
    {
     "name": "stdout",
     "output_type": "stream",
     "text": [
      "Redirected:  13832 https://www.domain.com.au/fluent-lane-greenvale-vic-3059-15442916\n"
     ]
    },
    {
     "name": "stderr",
     "output_type": "stream",
     "text": [
      "100%|██████████████████████████████████████████████████████████████████████████▉| 13837/13846 [2:07:41<00:04,  2.04it/s]"
     ]
    },
    {
     "name": "stdout",
     "output_type": "stream",
     "text": [
      "Redirected:  13837 https://www.domain.com.au/606-394-collins-street-melbourne-vic-3000-15437445\n"
     ]
    },
    {
     "name": "stderr",
     "output_type": "stream",
     "text": [
      "\r",
      "100%|██████████████████████████████████████████████████████████████████████████▉| 13838/13846 [2:07:41<00:03,  2.01it/s]"
     ]
    },
    {
     "name": "stdout",
     "output_type": "stream",
     "text": [
      "Redirected:  13838 https://www.domain.com.au/23-johnson-street-roxburgh-park-vic-3064-15435116\n"
     ]
    },
    {
     "name": "stderr",
     "output_type": "stream",
     "text": [
      "\r",
      "100%|██████████████████████████████████████████████████████████████████████████▉| 13839/13846 [2:07:42<00:03,  1.99it/s]"
     ]
    },
    {
     "name": "stdout",
     "output_type": "stream",
     "text": [
      "Redirected:  13839 https://www.domain.com.au/1-1-widford-street-glenroy-vic-3046-15435103\n"
     ]
    },
    {
     "name": "stderr",
     "output_type": "stream",
     "text": [
      "100%|███████████████████████████████████████████████████████████████████████████| 13846/13846 [2:07:46<00:00,  1.81it/s]\n"
     ]
    },
    {
     "name": "stdout",
     "output_type": "stream",
     "text": [
      "/mnt/c/Users/User/OneDrive/Desktop/Uni - 2022/sem2/Applied Data Science/Proj2/generic-real-estate-consulting-project-group-25/notebooks\n"
     ]
    }
   ],
   "source": [
    "%cd ../scripts\n",
    "from scrape import get_datasets\n",
    "prop_list, sub_list, neigh_list, school_list = get_datasets(write=True)\n",
    "%cd ../notebooks"
   ]
  },
  {
   "cell_type": "code",
   "execution_count": 2,
   "id": "4860d61f",
   "metadata": {},
   "outputs": [
    {
     "data": {
      "text/html": [
       "<div>\n",
       "<style scoped>\n",
       "    .dataframe tbody tr th:only-of-type {\n",
       "        vertical-align: middle;\n",
       "    }\n",
       "\n",
       "    .dataframe tbody tr th {\n",
       "        vertical-align: top;\n",
       "    }\n",
       "\n",
       "    .dataframe thead th {\n",
       "        text-align: right;\n",
       "    }\n",
       "</style>\n",
       "<table border=\"1\" class=\"dataframe\">\n",
       "  <thead>\n",
       "    <tr style=\"text-align: right;\">\n",
       "      <th></th>\n",
       "      <th>id</th>\n",
       "      <th>educationLevel</th>\n",
       "      <th>name</th>\n",
       "      <th>distance</th>\n",
       "      <th>state</th>\n",
       "      <th>postCode</th>\n",
       "      <th>year</th>\n",
       "      <th>gender</th>\n",
       "      <th>type</th>\n",
       "      <th>address</th>\n",
       "      <th>url</th>\n",
       "      <th>listing_id</th>\n",
       "    </tr>\n",
       "  </thead>\n",
       "  <tbody>\n",
       "    <tr>\n",
       "      <th>0</th>\n",
       "      <td></td>\n",
       "      <td>combined</td>\n",
       "      <td>Eltham College - King Street Campus</td>\n",
       "      <td>708.921822</td>\n",
       "      <td>VIC</td>\n",
       "      <td>3000</td>\n",
       "      <td></td>\n",
       "      <td></td>\n",
       "      <td>Private</td>\n",
       "      <td>Melbourne, VIC 3000</td>\n",
       "      <td></td>\n",
       "      <td>14303265</td>\n",
       "    </tr>\n",
       "    <tr>\n",
       "      <th>1</th>\n",
       "      <td></td>\n",
       "      <td>secondary</td>\n",
       "      <td>Hester Hornbrook Academy - City Campus</td>\n",
       "      <td>802.849893</td>\n",
       "      <td>VIC</td>\n",
       "      <td>3000</td>\n",
       "      <td></td>\n",
       "      <td></td>\n",
       "      <td>Private</td>\n",
       "      <td>Melbourne, VIC 3000</td>\n",
       "      <td></td>\n",
       "      <td>14303265</td>\n",
       "    </tr>\n",
       "    <tr>\n",
       "      <th>2</th>\n",
       "      <td></td>\n",
       "      <td>secondary</td>\n",
       "      <td>Ozford College - Ozford College Campus</td>\n",
       "      <td>899.683164</td>\n",
       "      <td>VIC</td>\n",
       "      <td>3000</td>\n",
       "      <td></td>\n",
       "      <td></td>\n",
       "      <td>Private</td>\n",
       "      <td>Melbourne, VIC 3000</td>\n",
       "      <td></td>\n",
       "      <td>14303265</td>\n",
       "    </tr>\n",
       "    <tr>\n",
       "      <th>3</th>\n",
       "      <td></td>\n",
       "      <td>secondary</td>\n",
       "      <td>Ozford College</td>\n",
       "      <td>900.734191</td>\n",
       "      <td>VIC</td>\n",
       "      <td>3000</td>\n",
       "      <td>11-12</td>\n",
       "      <td>CoEd</td>\n",
       "      <td>Private</td>\n",
       "      <td>Melbourne, VIC 3000</td>\n",
       "      <td>http://www.ozford.edu.au</td>\n",
       "      <td>14303265</td>\n",
       "    </tr>\n",
       "    <tr>\n",
       "      <th>4</th>\n",
       "      <td></td>\n",
       "      <td>primary</td>\n",
       "      <td>Docklands Primary School</td>\n",
       "      <td>916.135369</td>\n",
       "      <td>VIC</td>\n",
       "      <td>3008</td>\n",
       "      <td>Prep-6</td>\n",
       "      <td>CoEd</td>\n",
       "      <td>Government</td>\n",
       "      <td>Docklands, VIC 3008</td>\n",
       "      <td></td>\n",
       "      <td>14303265</td>\n",
       "    </tr>\n",
       "    <tr>\n",
       "      <th>...</th>\n",
       "      <td>...</td>\n",
       "      <td>...</td>\n",
       "      <td>...</td>\n",
       "      <td>...</td>\n",
       "      <td>...</td>\n",
       "      <td>...</td>\n",
       "      <td>...</td>\n",
       "      <td>...</td>\n",
       "      <td>...</td>\n",
       "      <td>...</td>\n",
       "      <td>...</td>\n",
       "      <td>...</td>\n",
       "    </tr>\n",
       "    <tr>\n",
       "      <th>167001</th>\n",
       "      <td>1999</td>\n",
       "      <td>secondary</td>\n",
       "      <td>Simonds Catholic College</td>\n",
       "      <td>942.720484</td>\n",
       "      <td>VIC</td>\n",
       "      <td>3003</td>\n",
       "      <td>7-12</td>\n",
       "      <td>Boys</td>\n",
       "      <td>Catholic</td>\n",
       "      <td>West Melbourne, VIC 3003</td>\n",
       "      <td>http://www.sccmelb.catholic.edu.au</td>\n",
       "      <td>15384018</td>\n",
       "    </tr>\n",
       "    <tr>\n",
       "      <th>167002</th>\n",
       "      <td></td>\n",
       "      <td>secondary</td>\n",
       "      <td>St Joseph's Flexible Learning Centre</td>\n",
       "      <td>969.075211</td>\n",
       "      <td>VIC</td>\n",
       "      <td>3051</td>\n",
       "      <td>7-12</td>\n",
       "      <td>CoEd</td>\n",
       "      <td>Catholic</td>\n",
       "      <td>North Melbourne, VIC 3051</td>\n",
       "      <td>http://www.youthplus.edu.au</td>\n",
       "      <td>15384018</td>\n",
       "    </tr>\n",
       "    <tr>\n",
       "      <th>167003</th>\n",
       "      <td></td>\n",
       "      <td>combined</td>\n",
       "      <td>Eltham College - King Street Campus</td>\n",
       "      <td>1012.666859</td>\n",
       "      <td>VIC</td>\n",
       "      <td>3000</td>\n",
       "      <td></td>\n",
       "      <td></td>\n",
       "      <td>Private</td>\n",
       "      <td>Melbourne, VIC 3000</td>\n",
       "      <td></td>\n",
       "      <td>15384018</td>\n",
       "    </tr>\n",
       "    <tr>\n",
       "      <th>167004</th>\n",
       "      <td>1266</td>\n",
       "      <td>primary</td>\n",
       "      <td>Carlton Gardens Primary School</td>\n",
       "      <td>1058.486337</td>\n",
       "      <td>VIC</td>\n",
       "      <td>3053</td>\n",
       "      <td>Prep-6</td>\n",
       "      <td>CoEd</td>\n",
       "      <td>Government</td>\n",
       "      <td>Carlton, VIC 3053</td>\n",
       "      <td>http://www.carltongardens.vic.edu.au</td>\n",
       "      <td>15384018</td>\n",
       "    </tr>\n",
       "    <tr>\n",
       "      <th>167005</th>\n",
       "      <td>3946</td>\n",
       "      <td>secondary</td>\n",
       "      <td>University High School</td>\n",
       "      <td>1537.463699</td>\n",
       "      <td>VIC</td>\n",
       "      <td>3052</td>\n",
       "      <td>7-12</td>\n",
       "      <td>CoEd</td>\n",
       "      <td>Government</td>\n",
       "      <td>Parkville, VIC 3052</td>\n",
       "      <td>http://www.unihigh.vic.edu.au</td>\n",
       "      <td>15384018</td>\n",
       "    </tr>\n",
       "  </tbody>\n",
       "</table>\n",
       "<p>167006 rows × 12 columns</p>\n",
       "</div>"
      ],
      "text/plain": [
       "          id educationLevel                                    name  \\\n",
       "0                  combined     Eltham College - King Street Campus   \n",
       "1                 secondary  Hester Hornbrook Academy - City Campus   \n",
       "2                 secondary  Ozford College - Ozford College Campus   \n",
       "3                 secondary                          Ozford College   \n",
       "4                   primary                Docklands Primary School   \n",
       "...      ...            ...                                     ...   \n",
       "167001  1999      secondary                Simonds Catholic College   \n",
       "167002            secondary    St Joseph's Flexible Learning Centre   \n",
       "167003             combined     Eltham College - King Street Campus   \n",
       "167004  1266        primary          Carlton Gardens Primary School   \n",
       "167005  3946      secondary                  University High School   \n",
       "\n",
       "           distance state postCode    year gender        type  \\\n",
       "0        708.921822   VIC     3000                    Private   \n",
       "1        802.849893   VIC     3000                    Private   \n",
       "2        899.683164   VIC     3000                    Private   \n",
       "3        900.734191   VIC     3000   11-12   CoEd     Private   \n",
       "4        916.135369   VIC     3008  Prep-6   CoEd  Government   \n",
       "...             ...   ...      ...     ...    ...         ...   \n",
       "167001   942.720484   VIC     3003    7-12   Boys    Catholic   \n",
       "167002   969.075211   VIC     3051    7-12   CoEd    Catholic   \n",
       "167003  1012.666859   VIC     3000                    Private   \n",
       "167004  1058.486337   VIC     3053  Prep-6   CoEd  Government   \n",
       "167005  1537.463699   VIC     3052    7-12   CoEd  Government   \n",
       "\n",
       "                          address                                   url  \\\n",
       "0             Melbourne, VIC 3000                                         \n",
       "1             Melbourne, VIC 3000                                         \n",
       "2             Melbourne, VIC 3000                                         \n",
       "3             Melbourne, VIC 3000              http://www.ozford.edu.au   \n",
       "4             Docklands, VIC 3008                                         \n",
       "...                           ...                                   ...   \n",
       "167001   West Melbourne, VIC 3003    http://www.sccmelb.catholic.edu.au   \n",
       "167002  North Melbourne, VIC 3051           http://www.youthplus.edu.au   \n",
       "167003        Melbourne, VIC 3000                                         \n",
       "167004          Carlton, VIC 3053  http://www.carltongardens.vic.edu.au   \n",
       "167005        Parkville, VIC 3052         http://www.unihigh.vic.edu.au   \n",
       "\n",
       "        listing_id  \n",
       "0         14303265  \n",
       "1         14303265  \n",
       "2         14303265  \n",
       "3         14303265  \n",
       "4         14303265  \n",
       "...            ...  \n",
       "167001    15384018  \n",
       "167002    15384018  \n",
       "167003    15384018  \n",
       "167004    15384018  \n",
       "167005    15384018  \n",
       "\n",
       "[167006 rows x 12 columns]"
      ]
     },
     "execution_count": 2,
     "metadata": {},
     "output_type": "execute_result"
    }
   ],
   "source": [
    "school_list"
   ]
  },
  {
   "cell_type": "code",
   "execution_count": 14,
   "id": "c17ce0e9",
   "metadata": {},
   "outputs": [
    {
     "data": {
      "text/html": [
       "<div>\n",
       "<style scoped>\n",
       "    .dataframe tbody tr th:only-of-type {\n",
       "        vertical-align: middle;\n",
       "    }\n",
       "\n",
       "    .dataframe tbody tr th {\n",
       "        vertical-align: top;\n",
       "    }\n",
       "\n",
       "    .dataframe thead th {\n",
       "        text-align: right;\n",
       "    }\n",
       "</style>\n",
       "<table border=\"1\" class=\"dataframe\">\n",
       "  <thead>\n",
       "    <tr style=\"text-align: right;\">\n",
       "      <th></th>\n",
       "      <th>suburb</th>\n",
       "      <th>medianRentPrice</th>\n",
       "      <th>population</th>\n",
       "      <th>avgAge</th>\n",
       "      <th>owners</th>\n",
       "      <th>renters</th>\n",
       "      <th>families</th>\n",
       "      <th>singles</th>\n",
       "      <th>id</th>\n",
       "    </tr>\n",
       "  </thead>\n",
       "  <tbody>\n",
       "    <tr>\n",
       "      <th>0</th>\n",
       "      <td>Docklands</td>\n",
       "      <td>380</td>\n",
       "      <td>10962</td>\n",
       "      <td>20 to 39</td>\n",
       "      <td>0.356243</td>\n",
       "      <td>0.643757</td>\n",
       "      <td>0.393689</td>\n",
       "      <td>0.606311</td>\n",
       "      <td>14303265</td>\n",
       "    </tr>\n",
       "    <tr>\n",
       "      <th>1</th>\n",
       "      <td>Patterson Lakes</td>\n",
       "      <td>430</td>\n",
       "      <td>7565</td>\n",
       "      <td>40 to 59</td>\n",
       "      <td>0.835075</td>\n",
       "      <td>0.164925</td>\n",
       "      <td>0.527570</td>\n",
       "      <td>0.472430</td>\n",
       "      <td>16089992</td>\n",
       "    </tr>\n",
       "    <tr>\n",
       "      <th>2</th>\n",
       "      <td>Craigieburn</td>\n",
       "      <td>450</td>\n",
       "      <td>50336</td>\n",
       "      <td>20 to 39</td>\n",
       "      <td>0.716903</td>\n",
       "      <td>0.283097</td>\n",
       "      <td>0.556267</td>\n",
       "      <td>0.443733</td>\n",
       "      <td>15279569</td>\n",
       "    </tr>\n",
       "    <tr>\n",
       "      <th>3</th>\n",
       "      <td>Caroline Springs</td>\n",
       "      <td>410</td>\n",
       "      <td>24200</td>\n",
       "      <td>20 to 39</td>\n",
       "      <td>0.766538</td>\n",
       "      <td>0.233462</td>\n",
       "      <td>0.571566</td>\n",
       "      <td>0.428434</td>\n",
       "      <td>16089977</td>\n",
       "    </tr>\n",
       "    <tr>\n",
       "      <th>4</th>\n",
       "      <td>Southbank</td>\n",
       "      <td>360</td>\n",
       "      <td>18706</td>\n",
       "      <td>20 to 39</td>\n",
       "      <td>0.347128</td>\n",
       "      <td>0.652872</td>\n",
       "      <td>0.312419</td>\n",
       "      <td>0.687581</td>\n",
       "      <td>16089972</td>\n",
       "    </tr>\n",
       "    <tr>\n",
       "      <th>...</th>\n",
       "      <td>...</td>\n",
       "      <td>...</td>\n",
       "      <td>...</td>\n",
       "      <td>...</td>\n",
       "      <td>...</td>\n",
       "      <td>...</td>\n",
       "      <td>...</td>\n",
       "      <td>...</td>\n",
       "      <td>...</td>\n",
       "    </tr>\n",
       "    <tr>\n",
       "      <th>13711</th>\n",
       "      <td>Tarneit</td>\n",
       "      <td>400</td>\n",
       "      <td>34556</td>\n",
       "      <td>20 to 39</td>\n",
       "      <td>0.699615</td>\n",
       "      <td>0.300385</td>\n",
       "      <td>0.611806</td>\n",
       "      <td>0.388194</td>\n",
       "      <td>15434092</td>\n",
       "    </tr>\n",
       "    <tr>\n",
       "      <th>13712</th>\n",
       "      <td>Melbourne</td>\n",
       "      <td>375</td>\n",
       "      <td>0</td>\n",
       "      <td>None</td>\n",
       "      <td>0.000000</td>\n",
       "      <td>0.000000</td>\n",
       "      <td>0.000000</td>\n",
       "      <td>0.000000</td>\n",
       "      <td>14409092</td>\n",
       "    </tr>\n",
       "    <tr>\n",
       "      <th>13713</th>\n",
       "      <td>Werribee</td>\n",
       "      <td>340</td>\n",
       "      <td>40348</td>\n",
       "      <td>20 to 39</td>\n",
       "      <td>0.679556</td>\n",
       "      <td>0.320444</td>\n",
       "      <td>0.463697</td>\n",
       "      <td>0.536303</td>\n",
       "      <td>15430756</td>\n",
       "    </tr>\n",
       "    <tr>\n",
       "      <th>13714</th>\n",
       "      <td>Preston</td>\n",
       "      <td>600</td>\n",
       "      <td>32856</td>\n",
       "      <td>20 to 39</td>\n",
       "      <td>0.588015</td>\n",
       "      <td>0.411985</td>\n",
       "      <td>0.399137</td>\n",
       "      <td>0.600863</td>\n",
       "      <td>15428527</td>\n",
       "    </tr>\n",
       "    <tr>\n",
       "      <th>13715</th>\n",
       "      <td>Melbourne</td>\n",
       "      <td>450</td>\n",
       "      <td>47279</td>\n",
       "      <td>20 to 39</td>\n",
       "      <td>0.302987</td>\n",
       "      <td>0.697013</td>\n",
       "      <td>0.237154</td>\n",
       "      <td>0.762846</td>\n",
       "      <td>15384018</td>\n",
       "    </tr>\n",
       "  </tbody>\n",
       "</table>\n",
       "<p>13716 rows × 9 columns</p>\n",
       "</div>"
      ],
      "text/plain": [
       "                 suburb  medianRentPrice  population    avgAge    owners  \\\n",
       "0             Docklands              380       10962  20 to 39  0.356243   \n",
       "1       Patterson Lakes              430        7565  40 to 59  0.835075   \n",
       "2           Craigieburn              450       50336  20 to 39  0.716903   \n",
       "3      Caroline Springs              410       24200  20 to 39  0.766538   \n",
       "4             Southbank              360       18706  20 to 39  0.347128   \n",
       "...                 ...              ...         ...       ...       ...   \n",
       "13711           Tarneit              400       34556  20 to 39  0.699615   \n",
       "13712         Melbourne              375           0      None  0.000000   \n",
       "13713          Werribee              340       40348  20 to 39  0.679556   \n",
       "13714           Preston              600       32856  20 to 39  0.588015   \n",
       "13715         Melbourne              450       47279  20 to 39  0.302987   \n",
       "\n",
       "        renters  families   singles        id  \n",
       "0      0.643757  0.393689  0.606311  14303265  \n",
       "1      0.164925  0.527570  0.472430  16089992  \n",
       "2      0.283097  0.556267  0.443733  15279569  \n",
       "3      0.233462  0.571566  0.428434  16089977  \n",
       "4      0.652872  0.312419  0.687581  16089972  \n",
       "...         ...       ...       ...       ...  \n",
       "13711  0.300385  0.611806  0.388194  15434092  \n",
       "13712  0.000000  0.000000  0.000000  14409092  \n",
       "13713  0.320444  0.463697  0.536303  15430756  \n",
       "13714  0.411985  0.399137  0.600863  15428527  \n",
       "13715  0.697013  0.237154  0.762846  15384018  \n",
       "\n",
       "[13716 rows x 9 columns]"
      ]
     },
     "execution_count": 14,
     "metadata": {},
     "output_type": "execute_result"
    }
   ],
   "source": [
    "sub_list"
   ]
  }
 ],
 "metadata": {
  "kernelspec": {
   "display_name": "Python 3 (ipykernel)",
   "language": "python",
   "name": "python3"
  },
  "language_info": {
   "codemirror_mode": {
    "name": "ipython",
    "version": 3
   },
   "file_extension": ".py",
   "mimetype": "text/x-python",
   "name": "python",
   "nbconvert_exporter": "python",
   "pygments_lexer": "ipython3",
   "version": "3.10.4"
  }
 },
 "nbformat": 4,
 "nbformat_minor": 5
}
