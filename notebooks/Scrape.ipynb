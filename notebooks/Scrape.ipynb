{
 "cells": [
  {
   "cell_type": "code",
   "execution_count": 1,
   "id": "a536342d",
   "metadata": {},
   "outputs": [
    {
     "name": "stdout",
     "output_type": "stream",
     "text": [
      "/mnt/c/Users/User/OneDrive/Desktop/Uni - 2022/sem2/Applied Data Science/Proj2/generic-real-estate-consulting-project-group-25/scripts\n"
     ]
    },
    {
     "name": "stderr",
     "output_type": "stream",
     "text": [
      "/home/sousf/.local/lib/python3.10/site-packages/bs4/builder/__init__.py:545: XMLParsedAsHTMLWarning: It looks like you're parsing an XML document using an HTML parser. If this really is an HTML document (maybe it's XHTML?), you can ignore or filter this warning. If it's XML, you should know that using an XML parser will be more reliable. To parse this document as XML, make sure you have the lxml package installed, and pass the keyword argument `features=\"xml\"` into the BeautifulSoup constructor.\n",
      "  warnings.warn(\n",
      "/home/sousf/.local/lib/python3.10/site-packages/bs4/builder/__init__.py:545: XMLParsedAsHTMLWarning: It looks like you're parsing an XML document using an HTML parser. If this really is an HTML document (maybe it's XHTML?), you can ignore or filter this warning. If it's XML, you should know that using an XML parser will be more reliable. To parse this document as XML, make sure you have the lxml package installed, and pass the keyword argument `features=\"xml\"` into the BeautifulSoup constructor.\n",
      "  warnings.warn(\n",
      "  0%|                                                                              | 25/16624 [00:10<1:51:27,  2.48it/s]"
     ]
    },
    {
     "name": "stdout",
     "output_type": "stream",
     "text": [
      "Redirected:  25 https://www.domain.com.au/3-47-mcdonalds-road-epping-vic-3076-16068042\n"
     ]
    },
    {
     "name": "stderr",
     "output_type": "stream",
     "text": [
      "  0%|▏                                                                             | 40/16624 [00:16<1:28:57,  3.11it/s]"
     ]
    },
    {
     "name": "stdout",
     "output_type": "stream",
     "text": [
      "Redirected:  39 https://www.domain.com.au/2-43-dover-street-kensington-vic-3031-16068012\n",
      "'props'\n"
     ]
    },
    {
     "name": "stderr",
     "output_type": "stream",
     "text": [
      "  1%|▌                                                                            | 129/16624 [00:54<2:08:14,  2.14it/s]"
     ]
    },
    {
     "name": "stdout",
     "output_type": "stream",
     "text": [
      "Redirected:  129 https://www.domain.com.au/4-23-25-baggot-drive-hoppers-crossing-vic-3029-16067763\n"
     ]
    },
    {
     "name": "stderr",
     "output_type": "stream",
     "text": [
      "  1%|▋                                                                            | 154/16624 [01:06<1:57:26,  2.34it/s]"
     ]
    },
    {
     "name": "stdout",
     "output_type": "stream",
     "text": [
      "Redirected:  154 https://www.domain.com.au/36-anslow-street-woodend-vic-3442-16067691\n"
     ]
    },
    {
     "name": "stderr",
     "output_type": "stream",
     "text": [
      "  1%|▊                                                                            | 165/16624 [01:10<1:31:10,  3.01it/s]"
     ]
    },
    {
     "name": "stdout",
     "output_type": "stream",
     "text": [
      "Redirected:  164 https://www.domain.com.au/206-627-victoria-street-abbotsford-vic-3067-15253039\n",
      "'props'\n"
     ]
    },
    {
     "name": "stderr",
     "output_type": "stream",
     "text": [
      "  1%|▉                                                                            | 210/16624 [01:30<1:49:32,  2.50it/s]"
     ]
    },
    {
     "name": "stdout",
     "output_type": "stream",
     "text": [
      "Redirected:  210 https://www.domain.com.au/1-16-sweetladn-road-box-hill-north-vic-3129-16067570\n"
     ]
    },
    {
     "name": "stderr",
     "output_type": "stream",
     "text": [
      "  1%|█                                                                            | 216/16624 [01:32<1:46:29,  2.57it/s]"
     ]
    },
    {
     "name": "stdout",
     "output_type": "stream",
     "text": [
      "Redirected:  216 https://www.domain.com.au/43-floret-drive-lara-vic-3212-16067559\n",
      "'props'\n"
     ]
    },
    {
     "name": "stderr",
     "output_type": "stream",
     "text": [
      "  2%|█▍                                                                           | 313/16624 [02:15<1:55:35,  2.35it/s]"
     ]
    },
    {
     "name": "stdout",
     "output_type": "stream",
     "text": [
      "Redirected:  313 https://www.domain.com.au/5-283-spring-street-melbourne-vic-3000-16052523\n",
      "'props'\n"
     ]
    },
    {
     "name": "stderr",
     "output_type": "stream",
     "text": [
      "  2%|█▌                                                                           | 340/16624 [02:26<1:43:31,  2.62it/s]"
     ]
    },
    {
     "name": "stdout",
     "output_type": "stream",
     "text": [
      "Redirected:  340 https://www.domain.com.au/101-32-mahvo-street-bentleigh-vic-3204-16067295\n"
     ]
    },
    {
     "name": "stderr",
     "output_type": "stream",
     "text": [
      "  2%|█▋                                                                           | 364/16624 [02:37<2:25:26,  1.86it/s]"
     ]
    },
    {
     "name": "stdout",
     "output_type": "stream",
     "text": [
      "'NoneType' object is not subscriptable\n"
     ]
    },
    {
     "name": "stderr",
     "output_type": "stream",
     "text": [
      "  2%|█▊                                                                           | 378/16624 [02:44<2:04:06,  2.18it/s]"
     ]
    },
    {
     "name": "stdout",
     "output_type": "stream",
     "text": [
      "Redirected:  378 https://www.domain.com.au/101-103-orrong-crescent-caulfield-north-vic-3161-16067152\n"
     ]
    },
    {
     "name": "stderr",
     "output_type": "stream",
     "text": [
      "  2%|█▊                                                                           | 383/16624 [02:46<1:53:14,  2.39it/s]"
     ]
    },
    {
     "name": "stdout",
     "output_type": "stream",
     "text": [
      "Redirected:  383 https://www.domain.com.au/35-chromite-circuit-weir-views-vic-3338-15379751\n"
     ]
    },
    {
     "name": "stderr",
     "output_type": "stream",
     "text": [
      "  2%|█▊                                                                           | 390/16624 [02:49<1:46:50,  2.53it/s]"
     ]
    },
    {
     "name": "stdout",
     "output_type": "stream",
     "text": [
      "Redirected:  390 https://www.domain.com.au/27-kingsley-drive-sunbury-vic-3429-15452744\n"
     ]
    },
    {
     "name": "stderr",
     "output_type": "stream",
     "text": [
      "  2%|█▊                                                                           | 393/16624 [02:50<1:32:45,  2.92it/s]"
     ]
    },
    {
     "name": "stdout",
     "output_type": "stream",
     "text": [
      "Redirected:  392 https://www.domain.com.au/212-500-flinders-street-melbourne-vic-3000-16067092\n",
      "'props'\n"
     ]
    },
    {
     "name": "stderr",
     "output_type": "stream",
     "text": [
      "  3%|██                                                                           | 445/16624 [03:14<1:59:00,  2.27it/s]"
     ]
    },
    {
     "name": "stdout",
     "output_type": "stream",
     "text": [
      "Redirected:  445 https://www.domain.com.au/1415-803-dadenong-road-malvern-east-vic-3145-16066917\n"
     ]
    },
    {
     "name": "stderr",
     "output_type": "stream",
     "text": [
      "  3%|██▏                                                                          | 463/16624 [03:23<1:39:55,  2.70it/s]"
     ]
    },
    {
     "name": "stdout",
     "output_type": "stream",
     "text": [
      "Redirected:  462 https://www.domain.com.au/3-jordan-st-clayton-south-vic-3169-15874684\n",
      "'props'\n"
     ]
    },
    {
     "name": "stderr",
     "output_type": "stream",
     "text": [
      "  3%|██▎                                                                          | 496/16624 [03:38<1:31:33,  2.94it/s]"
     ]
    },
    {
     "name": "stdout",
     "output_type": "stream",
     "text": [
      "Redirected:  495 https://www.domain.com.au/201-729-burwood-rd-hawthorn-vic-3122-15875126\n",
      "'props'\n"
     ]
    },
    {
     "name": "stderr",
     "output_type": "stream",
     "text": [
      "  3%|██▌                                                                          | 541/16624 [03:57<1:57:44,  2.28it/s]"
     ]
    },
    {
     "name": "stdout",
     "output_type": "stream",
     "text": [
      "Redirected:  541 https://www.domain.com.au/4-520-melton-highway-sydenham-vic-3037-10881344\n"
     ]
    },
    {
     "name": "stderr",
     "output_type": "stream",
     "text": [
      "  4%|██▊                                                                          | 604/16624 [04:27<2:09:58,  2.05it/s]"
     ]
    },
    {
     "name": "stdout",
     "output_type": "stream",
     "text": [
      "Redirected:  604 https://www.domain.com.au/1-953-high-street-reservoir-vic-3073-16000523\n",
      "'props'\n"
     ]
    },
    {
     "name": "stderr",
     "output_type": "stream",
     "text": [
      "  4%|██▉                                                                          | 622/16624 [04:34<2:05:44,  2.12it/s]"
     ]
    },
    {
     "name": "stdout",
     "output_type": "stream",
     "text": [
      "Redirected:  622 https://www.domain.com.au/26-thomas-street-windsor-vic-3181-16066356\n"
     ]
    },
    {
     "name": "stderr",
     "output_type": "stream",
     "text": [
      "  4%|██▉                                                                          | 637/16624 [04:41<1:51:34,  2.39it/s]"
     ]
    },
    {
     "name": "stdout",
     "output_type": "stream",
     "text": [
      "Redirected:  637 https://www.domain.com.au/16-manley-traralgon-vic-3844-16066312\n"
     ]
    },
    {
     "name": "stderr",
     "output_type": "stream",
     "text": [
      "  4%|███▏                                                                         | 681/16624 [05:01<1:54:26,  2.32it/s]"
     ]
    },
    {
     "name": "stdout",
     "output_type": "stream",
     "text": [
      "Redirected:  681 https://www.domain.com.au/2-104-colac-road-highton-vic-3216-15970231\n"
     ]
    },
    {
     "name": "stderr",
     "output_type": "stream",
     "text": [
      "  5%|████                                                                         | 878/16624 [06:36<1:59:28,  2.20it/s]"
     ]
    },
    {
     "name": "stdout",
     "output_type": "stream",
     "text": [
      "Redirected:  878 https://www.domain.com.au/house139-prospect-hill-road-canterbury-vic-3126-16065600\n"
     ]
    },
    {
     "name": "stderr",
     "output_type": "stream",
     "text": [
      "  6%|████▌                                                                        | 984/16624 [07:26<1:55:15,  2.26it/s]"
     ]
    },
    {
     "name": "stdout",
     "output_type": "stream",
     "text": [
      "Redirected:  984 https://www.domain.com.au/15-1-hatfeild-ct-west-footscray-vic-3012-16065321\n"
     ]
    },
    {
     "name": "stderr",
     "output_type": "stream",
     "text": [
      "  6%|████▊                                                                       | 1058/16624 [08:01<2:21:58,  1.83it/s]"
     ]
    },
    {
     "name": "stdout",
     "output_type": "stream",
     "text": [
      "Redirected:  1058 https://www.domain.com.au/1506b-250-spencer-street-melbourne-vic-3000-14620499\n"
     ]
    },
    {
     "name": "stderr",
     "output_type": "stream",
     "text": [
      "  7%|█████                                                                       | 1104/16624 [08:24<1:54:52,  2.25it/s]"
     ]
    },
    {
     "name": "stdout",
     "output_type": "stream",
     "text": [
      "Redirected:  1103 https://www.domain.com.au/1206-618-little-lonsdale-street-melbourne-vic-3000-16064916\n",
      "'listingSummary'\n"
     ]
    },
    {
     "name": "stderr",
     "output_type": "stream",
     "text": [
      "  7%|█████▍                                                                      | 1184/16624 [09:04<2:07:07,  2.02it/s]"
     ]
    },
    {
     "name": "stdout",
     "output_type": "stream",
     "text": [
      "Redirected:  1184 https://www.domain.com.au/7-wentworth-place-melton-south-vic-3338-16064683\n"
     ]
    },
    {
     "name": "stderr",
     "output_type": "stream",
     "text": [
      "  7%|█████▌                                                                      | 1230/16624 [09:26<1:46:34,  2.41it/s]"
     ]
    },
    {
     "name": "stdout",
     "output_type": "stream",
     "text": [
      "Redirected:  1230 https://www.domain.com.au/93-fogarty-avenue-highton-vic-3216-16064560\n"
     ]
    },
    {
     "name": "stderr",
     "output_type": "stream",
     "text": [
      "  8%|█████▊                                                                      | 1269/16624 [09:44<1:53:21,  2.26it/s]"
     ]
    },
    {
     "name": "stdout",
     "output_type": "stream",
     "text": [
      "Redirected:  1269 https://www.domain.com.au/tarneit-vic-3029-16064437\n"
     ]
    },
    {
     "name": "stderr",
     "output_type": "stream",
     "text": [
      "  9%|██████▌                                                                     | 1435/16624 [11:04<1:48:20,  2.34it/s]"
     ]
    },
    {
     "name": "stdout",
     "output_type": "stream",
     "text": [
      "Redirected:  1434 https://www.domain.com.au/52-whites-road-warrnambool-vic-3280-16063948\n",
      "'props'\n"
     ]
    },
    {
     "name": "stderr",
     "output_type": "stream",
     "text": [
      "  9%|███████                                                                     | 1533/16624 [11:52<2:35:51,  1.61it/s]"
     ]
    },
    {
     "name": "stdout",
     "output_type": "stream",
     "text": [
      "Redirected:  1533 https://www.domain.com.au/402-6-butler-camberwell-vic-3124-16063613\n"
     ]
    },
    {
     "name": "stderr",
     "output_type": "stream",
     "text": [
      "  9%|███████                                                                     | 1535/16624 [11:55<4:14:09,  1.01s/it]"
     ]
    },
    {
     "name": "stdout",
     "output_type": "stream",
     "text": [
      "'NoneType' object is not subscriptable\n"
     ]
    },
    {
     "name": "stderr",
     "output_type": "stream",
     "text": [
      "  9%|███████                                                                     | 1544/16624 [12:00<2:10:33,  1.92it/s]"
     ]
    },
    {
     "name": "stdout",
     "output_type": "stream",
     "text": [
      "Redirected:  1544 https://www.domain.com.au/3-bonview-circuit-truganina-vic-3029-16063573\n"
     ]
    },
    {
     "name": "stderr",
     "output_type": "stream",
     "text": [
      " 10%|███████▌                                                                    | 1663/16624 [12:58<2:25:19,  1.72it/s]"
     ]
    },
    {
     "name": "stdout",
     "output_type": "stream",
     "text": [
      "Redirected:  1662 https://www.domain.com.au/206-35-wilson-st-south-yarra-vic-3141-15268110\n",
      "'props'\n"
     ]
    },
    {
     "name": "stderr",
     "output_type": "stream",
     "text": [
      " 10%|███████▋                                                                    | 1686/16624 [13:09<1:33:39,  2.66it/s]"
     ]
    },
    {
     "name": "stdout",
     "output_type": "stream",
     "text": [
      "Redirected:  1685 https://www.domain.com.au/129-daley-st-glenroy-vic-3046-16063220\n",
      "'props'\n"
     ]
    },
    {
     "name": "stderr",
     "output_type": "stream",
     "text": [
      " 10%|███████▉                                                                    | 1728/16624 [13:29<1:49:55,  2.26it/s]"
     ]
    },
    {
     "name": "stdout",
     "output_type": "stream",
     "text": [
      "Redirected:  1728 https://www.domain.com.au/1-17-spring-gully-road-quarry-hill-vic-3550-10634295\n"
     ]
    },
    {
     "name": "stderr",
     "output_type": "stream",
     "text": [
      " 11%|████████                                                                    | 1750/16624 [13:39<1:46:33,  2.33it/s]"
     ]
    },
    {
     "name": "stdout",
     "output_type": "stream",
     "text": [
      "Redirected:  1750 https://www.domain.com.au/24-keskadale-way-clyde-vic-3978-16063062\n"
     ]
    },
    {
     "name": "stderr",
     "output_type": "stream",
     "text": [
      " 11%|████████▍                                                                   | 1833/16624 [14:19<1:46:13,  2.32it/s]"
     ]
    },
    {
     "name": "stdout",
     "output_type": "stream",
     "text": [
      "Redirected:  1833 https://www.domain.com.au/15-winmalee-road-balwyn-vic-3103-16062825\n"
     ]
    },
    {
     "name": "stderr",
     "output_type": "stream",
     "text": [
      " 11%|████████▍                                                                   | 1847/16624 [14:25<1:46:54,  2.30it/s]"
     ]
    },
    {
     "name": "stdout",
     "output_type": "stream",
     "text": [
      "Redirected:  1847 https://www.domain.com.au/531-1-shamrock-street-abbotsford-vic-3067-14750640\n"
     ]
    },
    {
     "name": "stderr",
     "output_type": "stream",
     "text": [
      " 11%|████████▍                                                                   | 1857/16624 [14:29<1:43:07,  2.39it/s]"
     ]
    },
    {
     "name": "stdout",
     "output_type": "stream",
     "text": [
      "Redirected:  1857 https://www.domain.com.au/24-2a-bates-street-malvern-east-vic-3145-16053602\n"
     ]
    },
    {
     "name": "stderr",
     "output_type": "stream",
     "text": [
      " 11%|████████▌                                                                   | 1882/16624 [14:40<1:44:33,  2.35it/s]"
     ]
    },
    {
     "name": "stdout",
     "output_type": "stream",
     "text": [
      "Redirected:  1882 https://www.domain.com.au/15-80-epping-road-epping-vic-3076-16062635\n"
     ]
    },
    {
     "name": "stderr",
     "output_type": "stream",
     "text": [
      "\r",
      " 11%|████████▌                                                                   | 1883/16624 [14:41<1:53:56,  2.16it/s]"
     ]
    },
    {
     "name": "stdout",
     "output_type": "stream",
     "text": [
      "Redirected:  1883 https://www.domain.com.au/10-athol-street-roxburgh-park-vic-3064-16062634\n"
     ]
    },
    {
     "name": "stderr",
     "output_type": "stream",
     "text": [
      " 11%|████████▋                                                                   | 1899/16624 [14:49<2:41:47,  1.52it/s]"
     ]
    },
    {
     "name": "stdout",
     "output_type": "stream",
     "text": [
      "'NoneType' object is not subscriptable\n"
     ]
    },
    {
     "name": "stderr",
     "output_type": "stream",
     "text": [
      " 11%|████████▋                                                                   | 1909/16624 [14:53<1:22:46,  2.96it/s]"
     ]
    },
    {
     "name": "stdout",
     "output_type": "stream",
     "text": [
      "Redirected:  1908 https://www.domain.com.au/213-3-duggan-street-brunswick-west-vic-3055-15607490\n",
      "'props'\n"
     ]
    },
    {
     "name": "stderr",
     "output_type": "stream",
     "text": [
      " 12%|████████▊                                                                   | 1919/16624 [14:59<3:01:47,  1.35it/s]"
     ]
    },
    {
     "name": "stdout",
     "output_type": "stream",
     "text": [
      "Redirected:  1918 https://www.domain.com.au/g01-130-errol-street-north-melbourne-vic-3051-16062504\n",
      "'listingSummary'\n"
     ]
    },
    {
     "name": "stderr",
     "output_type": "stream",
     "text": [
      " 12%|████████▉                                                                   | 1945/16624 [15:12<1:48:10,  2.26it/s]"
     ]
    },
    {
     "name": "stdout",
     "output_type": "stream",
     "text": [
      "Redirected:  1945 https://www.domain.com.au/807-600-600-doncaster-rd-doncaster-vic-3108-16062405\n"
     ]
    },
    {
     "name": "stderr",
     "output_type": "stream",
     "text": [
      " 12%|█████████▏                                                                  | 1998/16624 [15:39<2:00:49,  2.02it/s]"
     ]
    },
    {
     "name": "stdout",
     "output_type": "stream",
     "text": [
      "Redirected:  1998 https://www.domain.com.au/southbank-vic-3006-16062240\n"
     ]
    },
    {
     "name": "stderr",
     "output_type": "stream",
     "text": [
      " 12%|█████████▏                                                                  | 2017/16624 [15:49<1:50:25,  2.20it/s]"
     ]
    },
    {
     "name": "stdout",
     "output_type": "stream",
     "text": [
      "Redirected:  2017 https://www.domain.com.au/617-laurie-street-golden-point-vic-3451-16062167\n"
     ]
    },
    {
     "name": "stderr",
     "output_type": "stream",
     "text": [
      " 12%|█████████▍                                                                  | 2071/16624 [16:13<2:03:10,  1.97it/s]"
     ]
    },
    {
     "name": "stdout",
     "output_type": "stream",
     "text": [
      "Redirected:  2071 https://www.domain.com.au/esplanade-west-port-melbourne-vic-3207-16040691\n"
     ]
    },
    {
     "name": "stderr",
     "output_type": "stream",
     "text": [
      " 13%|█████████▋                                                                  | 2112/16624 [16:31<1:19:07,  3.06it/s]"
     ]
    },
    {
     "name": "stdout",
     "output_type": "stream",
     "text": [
      "Redirected:  2111 https://www.domain.com.au/2a-george-st-murrumbeena-vic-3163-16045733\n",
      "'props'\n"
     ]
    },
    {
     "name": "stderr",
     "output_type": "stream",
     "text": [
      " 13%|█████████▋                                                                  | 2114/16624 [16:32<1:40:03,  2.42it/s]"
     ]
    },
    {
     "name": "stdout",
     "output_type": "stream",
     "text": [
      "Redirected:  2114 https://www.domain.com.au/3705-452-elizabeth-street-melbourne-vic-3000-13900308\n"
     ]
    },
    {
     "name": "stderr",
     "output_type": "stream",
     "text": [
      " 13%|█████████▋                                                                  | 2121/16624 [16:35<1:23:42,  2.89it/s]"
     ]
    },
    {
     "name": "stdout",
     "output_type": "stream",
     "text": [
      "Redirected:  2120 https://www.domain.com.au/3-59-cawkwell-street-malvern-vic-3144-16061857\n",
      "'props'\n"
     ]
    },
    {
     "name": "stderr",
     "output_type": "stream",
     "text": [
      " 13%|█████████▊                                                                  | 2140/16624 [16:43<1:19:21,  3.04it/s]"
     ]
    },
    {
     "name": "stdout",
     "output_type": "stream",
     "text": [
      "Redirected:  2139 https://www.domain.com.au/145-orange-ave-mildura-vic-3500-16020332\n",
      "'props'\n"
     ]
    },
    {
     "name": "stderr",
     "output_type": "stream",
     "text": [
      " 13%|█████████▉                                                                  | 2175/16624 [17:00<1:46:52,  2.25it/s]"
     ]
    },
    {
     "name": "stdout",
     "output_type": "stream",
     "text": [
      "Redirected:  2175 https://www.domain.com.au/31b-tweed-st-highett-vic-3190-16061681\n"
     ]
    },
    {
     "name": "stderr",
     "output_type": "stream",
     "text": [
      " 13%|█████████▉                                                                  | 2178/16624 [17:01<1:49:20,  2.20it/s]"
     ]
    },
    {
     "name": "stdout",
     "output_type": "stream",
     "text": [
      "Redirected:  2177 https://www.domain.com.au/2a-poplar-street-newcomb-vic-3219-16029588\n",
      "'listingSummary'\n"
     ]
    },
    {
     "name": "stderr",
     "output_type": "stream",
     "text": [
      " 13%|█████████▉                                                                  | 2181/16624 [17:03<1:35:53,  2.51it/s]"
     ]
    },
    {
     "name": "stdout",
     "output_type": "stream",
     "text": [
      "Redirected:  2180 https://www.domain.com.au/20-clairmont-avenue-cranbourne-vic-3977-16061662\n",
      "'props'\n"
     ]
    },
    {
     "name": "stderr",
     "output_type": "stream",
     "text": [
      " 13%|█████████▉                                                                  | 2184/16624 [17:04<1:19:39,  3.02it/s]"
     ]
    },
    {
     "name": "stdout",
     "output_type": "stream",
     "text": [
      "Redirected:  2183 https://www.domain.com.au/29-florentino-street-wollert-vic-3750-13669407\n",
      "'props'\n",
      "Redirected:  2184 https://www.domain.com.au/2009b-250-spencer-street-melbourne-vic-3000-14555845\n"
     ]
    },
    {
     "name": "stderr",
     "output_type": "stream",
     "text": [
      " 13%|██████████                                                                  | 2189/16624 [17:06<1:38:20,  2.45it/s]"
     ]
    },
    {
     "name": "stdout",
     "output_type": "stream",
     "text": [
      "Redirected:  2189 https://www.domain.com.au/710b-250-spencer-street-melbourne-vic-3000-15228190\n"
     ]
    },
    {
     "name": "stderr",
     "output_type": "stream",
     "text": [
      " 13%|██████████                                                                  | 2211/16624 [17:17<2:19:44,  1.72it/s]"
     ]
    },
    {
     "name": "stdout",
     "output_type": "stream",
     "text": [
      "Redirected:  2211 https://www.domain.com.au/7-2-floriston-outlook-boronia-vic-3155-15356653\n"
     ]
    },
    {
     "name": "stderr",
     "output_type": "stream",
     "text": [
      " 13%|██████████▏                                                                 | 2218/16624 [17:21<1:44:14,  2.30it/s]"
     ]
    },
    {
     "name": "stdout",
     "output_type": "stream",
     "text": [
      "Redirected:  2217 https://www.domain.com.au/2-38-northcote-road-armadale-vic-3143-16061573\n",
      "'props'\n"
     ]
    },
    {
     "name": "stderr",
     "output_type": "stream",
     "text": [
      " 13%|██████████▏                                                                 | 2241/16624 [17:32<1:54:55,  2.09it/s]"
     ]
    },
    {
     "name": "stdout",
     "output_type": "stream",
     "text": [
      "Redirected:  2241 https://www.domain.com.au/laverton-vic-3028-16061505\n"
     ]
    },
    {
     "name": "stderr",
     "output_type": "stream",
     "text": [
      " 14%|██████████▎                                                                 | 2255/16624 [17:38<1:43:05,  2.32it/s]"
     ]
    },
    {
     "name": "stdout",
     "output_type": "stream",
     "text": [
      "Redirected:  2254 https://www.domain.com.au/614-100-harbour-esplanade-docklands-vic-3008-16061477\n",
      "'props'\n"
     ]
    },
    {
     "name": "stderr",
     "output_type": "stream",
     "text": [
      " 14%|██████████▍                                                                 | 2273/16624 [17:46<1:25:34,  2.80it/s]"
     ]
    },
    {
     "name": "stdout",
     "output_type": "stream",
     "text": [
      "Redirected:  2272 https://www.domain.com.au/23-attuna-crescent-capel-sound-vic-3940-16061436\n",
      "'props'\n"
     ]
    },
    {
     "name": "stderr",
     "output_type": "stream",
     "text": [
      " 14%|██████████▌                                                                 | 2304/16624 [17:59<1:22:55,  2.88it/s]"
     ]
    },
    {
     "name": "stdout",
     "output_type": "stream",
     "text": [
      "Redirected:  2303 https://www.domain.com.au/18-848-pascoe-vale-road-glenroy-vic-3046-16061322\n",
      "'props'\n"
     ]
    },
    {
     "name": "stderr",
     "output_type": "stream",
     "text": [
      " 14%|██████████▊                                                                 | 2355/16624 [18:22<1:31:43,  2.59it/s]"
     ]
    },
    {
     "name": "stdout",
     "output_type": "stream",
     "text": [
      "Redirected:  2354 https://www.domain.com.au/19-maywood-street-pakenham-vic-3810-16061158\n",
      "'props'\n"
     ]
    },
    {
     "name": "stderr",
     "output_type": "stream",
     "text": [
      " 15%|███████████                                                                 | 2416/16624 [18:49<1:53:25,  2.09it/s]"
     ]
    },
    {
     "name": "stdout",
     "output_type": "stream",
     "text": [
      "Redirected:  2416 https://www.domain.com.au/4-29-ellendale-road-glen-waverley-vic-3150-16060982\n"
     ]
    },
    {
     "name": "stderr",
     "output_type": "stream",
     "text": [
      " 15%|███████████▌                                                                | 2521/16624 [19:39<1:08:52,  3.41it/s]"
     ]
    },
    {
     "name": "stdout",
     "output_type": "stream",
     "text": [
      "Redirected:  2519 https://www.domain.com.au/12-46-alexandra-st-st-kilda-east-vic-3183-15723519\n",
      "'props'\n",
      "Redirected:  2520 https://www.domain.com.au/6-11-sydney-street-murrumbeena-vic-3163-15862536\n",
      "'props'\n"
     ]
    },
    {
     "name": "stderr",
     "output_type": "stream",
     "text": [
      " 15%|███████████▌                                                                | 2540/16624 [19:47<1:26:59,  2.70it/s]"
     ]
    },
    {
     "name": "stdout",
     "output_type": "stream",
     "text": [
      "Redirected:  2539 https://www.domain.com.au/balnarring-vic-3926-16060658\n",
      "'props'\n"
     ]
    },
    {
     "name": "stderr",
     "output_type": "stream",
     "text": [
      " 15%|███████████▋                                                                | 2544/16624 [19:50<2:08:23,  1.83it/s]"
     ]
    },
    {
     "name": "stdout",
     "output_type": "stream",
     "text": [
      "Redirected:  2544 https://www.domain.com.au/4-03-228-la-trobe-street-melbourne-vic-3000-16060646\n"
     ]
    },
    {
     "name": "stderr",
     "output_type": "stream",
     "text": [
      " 16%|███████████▊                                                                | 2594/16624 [20:13<1:22:41,  2.83it/s]"
     ]
    },
    {
     "name": "stdout",
     "output_type": "stream",
     "text": [
      "Redirected:  2593 https://www.domain.com.au/3-836-pascoe-vale-road-glenroy-vic-3046-15853721\n",
      "'props'\n"
     ]
    },
    {
     "name": "stderr",
     "output_type": "stream",
     "text": [
      " 16%|███████████▉                                                                | 2618/16624 [20:24<1:39:32,  2.35it/s]"
     ]
    },
    {
     "name": "stdout",
     "output_type": "stream",
     "text": [
      "Redirected:  2617 https://www.domain.com.au/1-1-gladstone-street-coburg-vic-3058-16060287\n",
      "'props'\n"
     ]
    },
    {
     "name": "stderr",
     "output_type": "stream",
     "text": [
      " 16%|███████████▉                                                                | 2621/16624 [20:26<1:29:09,  2.62it/s]"
     ]
    },
    {
     "name": "stdout",
     "output_type": "stream",
     "text": [
      "Redirected:  2620 https://www.domain.com.au/77-99-whiteman-street-southbank-vic-3006-16060281\n",
      "'props'\n"
     ]
    },
    {
     "name": "stderr",
     "output_type": "stream",
     "text": [
      " 16%|████████████▎                                                               | 2693/16624 [20:58<1:31:13,  2.55it/s]"
     ]
    },
    {
     "name": "stdout",
     "output_type": "stream",
     "text": [
      "Redirected:  2692 https://www.domain.com.au/483-brunswick-road-brunswick-west-vic-3055-16059619\n",
      "'props'\n"
     ]
    },
    {
     "name": "stderr",
     "output_type": "stream",
     "text": [
      " 16%|████████████▎                                                               | 2700/16624 [21:02<1:24:57,  2.73it/s]"
     ]
    },
    {
     "name": "stdout",
     "output_type": "stream",
     "text": [
      "Redirected:  2699 https://www.domain.com.au/108-lambert-street-ararat-vic-3377-16060045\n",
      "'props'\n"
     ]
    },
    {
     "name": "stderr",
     "output_type": "stream",
     "text": [
      " 16%|████████████▎                                                               | 2704/16624 [21:03<1:13:12,  3.17it/s]"
     ]
    },
    {
     "name": "stdout",
     "output_type": "stream",
     "text": [
      "Redirected:  2703 https://www.domain.com.au/63-station-road-melton-south-vic-3338-16060029\n",
      "'props'\n"
     ]
    },
    {
     "name": "stderr",
     "output_type": "stream",
     "text": [
      " 16%|████████████▍                                                               | 2724/16624 [21:12<1:30:11,  2.57it/s]"
     ]
    },
    {
     "name": "stdout",
     "output_type": "stream",
     "text": [
      "Redirected:  2723 https://www.domain.com.au/38-lorimer-drive-bairnsdale-vic-3875-16059974\n",
      "'props'\n"
     ]
    },
    {
     "name": "stderr",
     "output_type": "stream",
     "text": [
      " 16%|████████████▌                                                               | 2736/16624 [21:17<1:40:34,  2.30it/s]"
     ]
    },
    {
     "name": "stdout",
     "output_type": "stream",
     "text": [
      "Redirected:  2736 https://www.domain.com.au/63-stafford-street-footscray-vic-3011-16059943\n"
     ]
    },
    {
     "name": "stderr",
     "output_type": "stream",
     "text": [
      " 16%|████████████▌                                                               | 2739/16624 [21:19<1:56:48,  1.98it/s]"
     ]
    },
    {
     "name": "stdout",
     "output_type": "stream",
     "text": [
      "Redirected:  2738 https://www.domain.com.au/3-218-warrigal-road-oakleigh-south-vic-3167-15678005\n",
      "'props'\n"
     ]
    },
    {
     "name": "stderr",
     "output_type": "stream",
     "text": [
      " 17%|█████████████                                                               | 2850/16624 [22:09<1:30:31,  2.54it/s]"
     ]
    },
    {
     "name": "stdout",
     "output_type": "stream",
     "text": [
      "Redirected:  2849 https://www.domain.com.au/2a-edgar-street-brighton-vic-3186-16059591\n",
      "'props'\n"
     ]
    },
    {
     "name": "stderr",
     "output_type": "stream",
     "text": [
      " 17%|█████████████                                                               | 2858/16624 [22:13<2:05:13,  1.83it/s]"
     ]
    },
    {
     "name": "stdout",
     "output_type": "stream",
     "text": [
      "'NoneType' object is not subscriptable\n"
     ]
    },
    {
     "name": "stderr",
     "output_type": "stream",
     "text": [
      " 18%|█████████████▎                                                              | 2921/16624 [22:41<1:38:44,  2.31it/s]"
     ]
    },
    {
     "name": "stdout",
     "output_type": "stream",
     "text": [
      "Redirected:  2921 https://www.domain.com.au/406-evans-road-lovely-banks-vic-3213-16059365\n"
     ]
    },
    {
     "name": "stderr",
     "output_type": "stream",
     "text": [
      " 18%|█████████████▍                                                              | 2926/16624 [22:44<1:37:33,  2.34it/s]"
     ]
    },
    {
     "name": "stdout",
     "output_type": "stream",
     "text": [
      "Redirected:  2926 https://www.domain.com.au/998-gelliondale-road-gelliondale-vic-3971-16059350\n"
     ]
    },
    {
     "name": "stderr",
     "output_type": "stream",
     "text": [
      " 18%|█████████████▍                                                              | 2931/16624 [22:46<1:39:40,  2.29it/s]"
     ]
    },
    {
     "name": "stdout",
     "output_type": "stream",
     "text": [
      "Redirected:  2931 https://www.domain.com.au/3-gona-heidelberg-west-vic-3081-16059330\n"
     ]
    },
    {
     "name": "stderr",
     "output_type": "stream",
     "text": [
      " 18%|█████████████▍                                                              | 2936/16624 [22:48<1:48:04,  2.11it/s]"
     ]
    },
    {
     "name": "stdout",
     "output_type": "stream",
     "text": [
      "Redirected:  2936 https://www.domain.com.au/907-466-smith-street-collingwood-vic-3066-16059313\n"
     ]
    },
    {
     "name": "stderr",
     "output_type": "stream",
     "text": [
      " 18%|█████████████▍                                                              | 2947/16624 [22:53<1:21:10,  2.81it/s]"
     ]
    },
    {
     "name": "stdout",
     "output_type": "stream",
     "text": [
      "Redirected:  2946 https://www.domain.com.au/102-153-city-road-southbank-vic-3006-16059291\n",
      "'props'\n"
     ]
    },
    {
     "name": "stderr",
     "output_type": "stream",
     "text": [
      " 18%|█████████████▋                                                              | 2999/16624 [23:18<1:25:08,  2.67it/s]"
     ]
    },
    {
     "name": "stdout",
     "output_type": "stream",
     "text": [
      "Redirected:  2998 https://www.domain.com.au/1-12-lenore-street-springvale-vic-3171-16059099\n",
      "'props'\n"
     ]
    },
    {
     "name": "stderr",
     "output_type": "stream",
     "text": [
      " 18%|█████████████▊                                                              | 3015/16624 [23:25<1:27:32,  2.59it/s]"
     ]
    },
    {
     "name": "stdout",
     "output_type": "stream",
     "text": [
      "Redirected:  3014 https://www.domain.com.au/38-montmarte-drive-truganina-vic-3029-16059082\n",
      "'props'\n"
     ]
    },
    {
     "name": "stderr",
     "output_type": "stream",
     "text": [
      " 18%|█████████████▊                                                              | 3027/16624 [23:33<2:02:27,  1.85it/s]"
     ]
    },
    {
     "name": "stdout",
     "output_type": "stream",
     "text": [
      "Redirected:  3026 https://www.domain.com.au/2-oakwood-court-hillside-vic-3037-16059051\n",
      "'props'\n"
     ]
    },
    {
     "name": "stderr",
     "output_type": "stream",
     "text": [
      " 19%|██████████████                                                              | 3076/16624 [23:55<1:17:13,  2.92it/s]"
     ]
    },
    {
     "name": "stdout",
     "output_type": "stream",
     "text": [
      "Redirected:  3075 https://www.domain.com.au/38-beresford-road-wollert-vic-3750-16058903\n",
      "'props'\n"
     ]
    },
    {
     "name": "stderr",
     "output_type": "stream",
     "text": [
      " 19%|██████████████▏                                                             | 3101/16624 [24:06<1:44:32,  2.16it/s]"
     ]
    },
    {
     "name": "stdout",
     "output_type": "stream",
     "text": [
      "Redirected:  3101 https://www.domain.com.au/377-frankston-dandenong-road-frankston-north-vic-3200-16058816\n"
     ]
    },
    {
     "name": "stderr",
     "output_type": "stream",
     "text": [
      " 19%|██████████████▎                                                             | 3125/16624 [24:18<1:53:20,  1.98it/s]"
     ]
    },
    {
     "name": "stdout",
     "output_type": "stream",
     "text": [
      "Redirected:  3124 https://www.domain.com.au/305-18-kavanagh-street-southbank-vic-3006-16058733\n",
      "'props'\n"
     ]
    },
    {
     "name": "stderr",
     "output_type": "stream",
     "text": [
      " 19%|██████████████▌                                                             | 3172/16624 [24:38<1:14:35,  3.01it/s]"
     ]
    },
    {
     "name": "stdout",
     "output_type": "stream",
     "text": [
      "Redirected:  3171 https://www.domain.com.au/2703-433-collins-street-melbourne-vic-3000-16058572\n",
      "'props'\n"
     ]
    },
    {
     "name": "stderr",
     "output_type": "stream",
     "text": [
      " 20%|██████████████▊                                                             | 3250/16624 [25:14<1:19:16,  2.81it/s]"
     ]
    },
    {
     "name": "stdout",
     "output_type": "stream",
     "text": [
      "Redirected:  3249 https://www.domain.com.au/10-1-barnet-way-richmond-vic-3121-16058270\n",
      "'props'\n"
     ]
    },
    {
     "name": "stderr",
     "output_type": "stream",
     "text": [
      " 20%|██████████████▉                                                             | 3258/16624 [25:18<1:52:59,  1.97it/s]"
     ]
    },
    {
     "name": "stdout",
     "output_type": "stream",
     "text": [
      "Redirected:  3258 https://www.domain.com.au/308-182-191-fitzroy-street-st-kilda-vic-3182-16058244\n"
     ]
    },
    {
     "name": "stderr",
     "output_type": "stream",
     "text": [
      " 20%|██████████████▉                                                             | 3271/16624 [25:24<1:34:11,  2.36it/s]"
     ]
    },
    {
     "name": "stdout",
     "output_type": "stream",
     "text": [
      "Redirected:  3270 https://www.domain.com.au/50-barrier-avenue-dalyston-vic-3992-16058204\n",
      "'props'\n"
     ]
    },
    {
     "name": "stderr",
     "output_type": "stream",
     "text": [
      " 20%|██████████████▉                                                             | 3273/16624 [25:24<1:38:13,  2.27it/s]"
     ]
    },
    {
     "name": "stdout",
     "output_type": "stream",
     "text": [
      "Redirected:  3273 https://www.domain.com.au/54-antonio-road-tarneit-vic-3029-16058194\n"
     ]
    },
    {
     "name": "stderr",
     "output_type": "stream",
     "text": [
      " 20%|██████████████▉                                                             | 3281/16624 [25:28<1:05:31,  3.39it/s]"
     ]
    },
    {
     "name": "stdout",
     "output_type": "stream",
     "text": [
      "Redirected:  3279 https://www.domain.com.au/104-4-cromwell-road-south-yarra-vic-3141-16058177\n",
      "'props'\n",
      "Redirected:  3280 https://www.domain.com.au/3-33-clarke-street-elwood-vic-3184-16026638\n",
      "'props'\n"
     ]
    },
    {
     "name": "stderr",
     "output_type": "stream",
     "text": [
      " 20%|███████████████▏                                                            | 3309/16624 [25:42<1:35:55,  2.31it/s]"
     ]
    },
    {
     "name": "stdout",
     "output_type": "stream",
     "text": [
      "Redirected:  3309 https://www.domain.com.au/51-mitchell-street-meadow-heights-vic-3048-16058070\n"
     ]
    },
    {
     "name": "stderr",
     "output_type": "stream",
     "text": [
      " 20%|███████████████▏                                                            | 3325/16624 [25:49<1:27:31,  2.53it/s]"
     ]
    },
    {
     "name": "stdout",
     "output_type": "stream",
     "text": [
      "Redirected:  3324 https://www.domain.com.au/237-rippon-road-hamilton-vic-3300-16058022\n",
      "'props'\n"
     ]
    },
    {
     "name": "stderr",
     "output_type": "stream",
     "text": [
      " 20%|███████████████▍                                                            | 3387/16624 [26:21<1:33:59,  2.35it/s]"
     ]
    },
    {
     "name": "stdout",
     "output_type": "stream",
     "text": [
      "Redirected:  3386 https://www.domain.com.au/804-3-olive-york-way-brunswick-west-vic-3055-16057830\n",
      "'props'\n"
     ]
    },
    {
     "name": "stderr",
     "output_type": "stream",
     "text": [
      " 21%|███████████████▋                                                            | 3420/16624 [26:37<1:35:39,  2.30it/s]"
     ]
    },
    {
     "name": "stdout",
     "output_type": "stream",
     "text": [
      "Redirected:  3419 https://www.domain.com.au/703-181-abeckett-street-melbourne-vic-3000-16014262\n",
      "'props'\n"
     ]
    },
    {
     "name": "stderr",
     "output_type": "stream",
     "text": [
      " 21%|███████████████▋                                                            | 3435/16624 [26:44<1:40:42,  2.18it/s]"
     ]
    },
    {
     "name": "stdout",
     "output_type": "stream",
     "text": [
      "Redirected:  3435 https://www.domain.com.au/1-leila-street-essendon-vic-3040-16057691\n"
     ]
    },
    {
     "name": "stderr",
     "output_type": "stream",
     "text": [
      " 21%|███████████████▋                                                            | 3440/16624 [26:46<1:36:30,  2.28it/s]"
     ]
    },
    {
     "name": "stdout",
     "output_type": "stream",
     "text": [
      "Redirected:  3440 https://www.domain.com.au/12-meadow-deepdene-vic-3103-16057687\n"
     ]
    },
    {
     "name": "stderr",
     "output_type": "stream",
     "text": [
      " 21%|███████████████▊                                                            | 3454/16624 [26:52<1:37:25,  2.25it/s]"
     ]
    },
    {
     "name": "stdout",
     "output_type": "stream",
     "text": [
      "Redirected:  3454 https://www.domain.com.au/10-echidna-beveridge-vic-3753-16057622\n"
     ]
    },
    {
     "name": "stderr",
     "output_type": "stream",
     "text": [
      " 21%|███████████████▊                                                            | 3456/16624 [26:53<1:41:30,  2.16it/s]"
     ]
    },
    {
     "name": "stdout",
     "output_type": "stream",
     "text": [
      "Redirected:  3456 https://www.domain.com.au/16-4-wando-grove-st-kilda-east-vic-3183-14132051\n"
     ]
    },
    {
     "name": "stderr",
     "output_type": "stream",
     "text": [
      " 21%|████████████████                                                            | 3506/16624 [27:18<2:02:21,  1.79it/s]"
     ]
    },
    {
     "name": "stdout",
     "output_type": "stream",
     "text": [
      "Redirected:  3505 https://www.domain.com.au/367-station-street-carlton-north-vic-3054-15392968\n",
      "'props'\n"
     ]
    },
    {
     "name": "stderr",
     "output_type": "stream",
     "text": [
      " 22%|████████████████▍                                                           | 3583/16624 [27:55<1:38:40,  2.20it/s]"
     ]
    },
    {
     "name": "stdout",
     "output_type": "stream",
     "text": [
      "Redirected:  3582 https://www.domain.com.au/3011-118-kavanagh-street-southbank-vic-3006-16057172\n",
      "'props'\n"
     ]
    },
    {
     "name": "stderr",
     "output_type": "stream",
     "text": [
      " 22%|████████████████▌                                                           | 3626/16624 [28:16<1:11:33,  3.03it/s]"
     ]
    },
    {
     "name": "stdout",
     "output_type": "stream",
     "text": [
      "Redirected:  3625 https://www.domain.com.au/8-hammond-street-ringwood-vic-3134-16057042\n",
      "'props'\n"
     ]
    },
    {
     "name": "stderr",
     "output_type": "stream",
     "text": [
      " 22%|████████████████▋                                                           | 3648/16624 [28:26<1:29:14,  2.42it/s]"
     ]
    },
    {
     "name": "stdout",
     "output_type": "stream",
     "text": [
      "Redirected:  3647 https://www.domain.com.au/12-overlook-drive-inverloch-vic-3996-16056947\n",
      "'props'\n"
     ]
    },
    {
     "name": "stderr",
     "output_type": "stream",
     "text": [
      " 22%|████████████████▉                                                           | 3718/16624 [28:58<1:11:34,  3.01it/s]"
     ]
    },
    {
     "name": "stdout",
     "output_type": "stream",
     "text": [
      "Redirected:  3717 https://www.domain.com.au/260-moray-street-south-melbourne-vic-3205-16056645\n",
      "'props'\n"
     ]
    },
    {
     "name": "stderr",
     "output_type": "stream",
     "text": [
      "\r",
      " 22%|█████████████████                                                           | 3719/16624 [28:59<1:17:40,  2.77it/s]"
     ]
    },
    {
     "name": "stdout",
     "output_type": "stream",
     "text": [
      "Redirected:  3719 https://www.domain.com.au/2-4-hartington-street-kew-vic-3101-16056644\n"
     ]
    },
    {
     "name": "stderr",
     "output_type": "stream",
     "text": [
      " 22%|█████████████████                                                           | 3739/16624 [29:09<1:21:36,  2.63it/s]"
     ]
    },
    {
     "name": "stdout",
     "output_type": "stream",
     "text": [
      "Redirected:  3738 https://www.domain.com.au/camberwell-vic-3124-15911047\n",
      "'listingSummary'\n"
     ]
    },
    {
     "name": "stderr",
     "output_type": "stream",
     "text": [
      " 23%|█████████████████                                                           | 3741/16624 [29:09<1:23:50,  2.56it/s]"
     ]
    },
    {
     "name": "stdout",
     "output_type": "stream",
     "text": [
      "Redirected:  3741 https://www.domain.com.au/address-available-on-request-collingwood-vic-3066-16054467\n"
     ]
    },
    {
     "name": "stderr",
     "output_type": "stream",
     "text": [
      " 23%|█████████████████▏                                                          | 3752/16624 [29:15<1:28:06,  2.44it/s]"
     ]
    },
    {
     "name": "stdout",
     "output_type": "stream",
     "text": [
      "Redirected:  3751 https://www.domain.com.au/176-walnut-ave-mildura-vic-3500-16020186\n",
      "'props'\n"
     ]
    },
    {
     "name": "stderr",
     "output_type": "stream",
     "text": [
      " 23%|█████████████████▎                                                          | 3780/16624 [29:28<1:25:14,  2.51it/s]"
     ]
    },
    {
     "name": "stdout",
     "output_type": "stream",
     "text": [
      "Redirected:  3780 https://www.domain.com.au/80-first-ave-altona-north-vic-3025-16056452\n"
     ]
    },
    {
     "name": "stderr",
     "output_type": "stream",
     "text": [
      " 23%|█████████████████▎                                                          | 3798/16624 [29:38<2:04:40,  1.71it/s]"
     ]
    },
    {
     "name": "stdout",
     "output_type": "stream",
     "text": [
      "Redirected:  3798 https://www.domain.com.au/11-lando-street-plumpton-vic-3335-15178706\n"
     ]
    },
    {
     "name": "stderr",
     "output_type": "stream",
     "text": [
      " 23%|█████████████████▋                                                          | 3866/16624 [30:10<1:30:11,  2.36it/s]"
     ]
    },
    {
     "name": "stdout",
     "output_type": "stream",
     "text": [
      "Redirected:  3866 https://www.domain.com.au/level-g02-11-reid-street-fitzroy-north-vic-3068-16056151\n"
     ]
    },
    {
     "name": "stderr",
     "output_type": "stream",
     "text": [
      " 23%|█████████████████▋                                                          | 3881/16624 [30:18<1:47:26,  1.98it/s]"
     ]
    },
    {
     "name": "stdout",
     "output_type": "stream",
     "text": [
      "Redirected:  3881 https://www.domain.com.au/15-addicott-street-frankston-vic-3199-16056081\n"
     ]
    },
    {
     "name": "stderr",
     "output_type": "stream",
     "text": [
      " 23%|█████████████████▊                                                          | 3898/16624 [30:26<1:29:31,  2.37it/s]"
     ]
    },
    {
     "name": "stdout",
     "output_type": "stream",
     "text": [
      "Redirected:  3898 https://www.domain.com.au/3-langar-road-deanside-vic-3336-16056027\n"
     ]
    },
    {
     "name": "stderr",
     "output_type": "stream",
     "text": [
      " 24%|█████████████████▉                                                          | 3933/16624 [30:46<4:09:03,  1.18s/it]"
     ]
    },
    {
     "name": "stdout",
     "output_type": "stream",
     "text": [
      "'NoneType' object is not subscriptable\n"
     ]
    },
    {
     "name": "stderr",
     "output_type": "stream",
     "text": [
      " 24%|██████████████████▏                                                         | 3988/16624 [31:12<1:27:29,  2.41it/s]"
     ]
    },
    {
     "name": "stdout",
     "output_type": "stream",
     "text": [
      "Redirected:  3988 https://www.domain.com.au/gentle-road-tangambalanga-vic-3691-16055716\n"
     ]
    },
    {
     "name": "stderr",
     "output_type": "stream",
     "text": [
      " 24%|██████████████████▎                                                         | 4004/16624 [31:21<1:30:25,  2.33it/s]"
     ]
    },
    {
     "name": "stdout",
     "output_type": "stream",
     "text": [
      "Redirected:  4003 https://www.domain.com.au/34-280-sunshine-road-sunshine-vic-3020-16055681\n",
      "'props'\n"
     ]
    },
    {
     "name": "stderr",
     "output_type": "stream",
     "text": [
      " 24%|██████████████████▎                                                         | 4008/16624 [31:23<1:18:43,  2.67it/s]"
     ]
    },
    {
     "name": "stdout",
     "output_type": "stream",
     "text": [
      "Redirected:  4007 https://www.domain.com.au/401-594-st-kilda-road-melbourne-vic-3000-16055668\n",
      "'props'\n"
     ]
    },
    {
     "name": "stderr",
     "output_type": "stream",
     "text": [
      " 24%|██████████████████▍                                                         | 4027/16624 [31:31<1:36:08,  2.18it/s]"
     ]
    },
    {
     "name": "stdout",
     "output_type": "stream",
     "text": [
      "Redirected:  4027 https://www.domain.com.au/devenish-wy-st-leonards-vic-3223-16055609\n"
     ]
    },
    {
     "name": "stderr",
     "output_type": "stream",
     "text": [
      " 24%|██████████████████▍                                                         | 4031/16624 [31:33<1:35:08,  2.21it/s]"
     ]
    },
    {
     "name": "stdout",
     "output_type": "stream",
     "text": [
      "Redirected:  4031 https://www.domain.com.au/3909-33-rose-lane-melbourne-vic-3000-16055604\n"
     ]
    },
    {
     "name": "stderr",
     "output_type": "stream",
     "text": [
      " 24%|██████████████████▌                                                         | 4055/16624 [31:45<1:10:23,  2.98it/s]"
     ]
    },
    {
     "name": "stdout",
     "output_type": "stream",
     "text": [
      "Redirected:  4054 https://www.domain.com.au/2-130-widford-street-glenroy-vic-3046-16055535\n",
      "'props'\n"
     ]
    },
    {
     "name": "stderr",
     "output_type": "stream",
     "text": [
      " 25%|██████████████████▋                                                         | 4080/16624 [31:58<1:21:34,  2.56it/s]"
     ]
    },
    {
     "name": "stdout",
     "output_type": "stream",
     "text": [
      "Redirected:  4079 https://www.domain.com.au/2-11-addis-street-geelong-west-vic-3218-16055426\n",
      "'listingSummary'\n"
     ]
    },
    {
     "name": "stderr",
     "output_type": "stream",
     "text": [
      " 25%|██████████████████▊                                                         | 4104/16624 [32:11<1:49:21,  1.91it/s]"
     ]
    },
    {
     "name": "stdout",
     "output_type": "stream",
     "text": [
      "Redirected:  4104 https://www.domain.com.au/5101-466-collins-street-melbourne-vic-3004-14787180\n"
     ]
    },
    {
     "name": "stderr",
     "output_type": "stream",
     "text": [
      " 25%|██████████████████▊                                                         | 4109/16624 [32:14<1:42:02,  2.04it/s]"
     ]
    },
    {
     "name": "stdout",
     "output_type": "stream",
     "text": [
      "Redirected:  4108 https://www.domain.com.au/107-490-elgar-road-box-hill-vic-3128-11611880\n",
      "'props'\n"
     ]
    },
    {
     "name": "stderr",
     "output_type": "stream",
     "text": [
      " 25%|██████████████████▊                                                         | 4122/16624 [32:20<1:34:11,  2.21it/s]"
     ]
    },
    {
     "name": "stdout",
     "output_type": "stream",
     "text": [
      "Redirected:  4122 https://www.domain.com.au/37b-youngm-youngman-street-preston-vic-3072-16055307\n"
     ]
    },
    {
     "name": "stderr",
     "output_type": "stream",
     "text": [
      " 25%|██████████████████▉                                                         | 4131/16624 [32:24<1:26:41,  2.40it/s]"
     ]
    },
    {
     "name": "stdout",
     "output_type": "stream",
     "text": [
      "Redirected:  4130 https://www.domain.com.au/21-wavenhoe-ave-st-kilda-east-vic-3183-16055281\n",
      "'props'\n"
     ]
    },
    {
     "name": "stderr",
     "output_type": "stream",
     "text": [
      " 25%|██████████████████▉                                                         | 4147/16624 [32:32<1:37:57,  2.12it/s]"
     ]
    },
    {
     "name": "stdout",
     "output_type": "stream",
     "text": [
      "Redirected:  4147 https://www.domain.com.au/3-11-cecil-court-ballarat-east-vic-3350-16055239\n"
     ]
    },
    {
     "name": "stderr",
     "output_type": "stream",
     "text": [
      " 25%|███████████████████                                                         | 4182/16624 [32:52<1:34:17,  2.20it/s]"
     ]
    },
    {
     "name": "stdout",
     "output_type": "stream",
     "text": [
      "Redirected:  4182 https://www.domain.com.au/3-eliza-grove-wyndham-vale-vic-3024-16055125\n"
     ]
    },
    {
     "name": "stderr",
     "output_type": "stream",
     "text": [
      " 25%|███████████████████▏                                                        | 4187/16624 [32:53<1:22:46,  2.50it/s]"
     ]
    },
    {
     "name": "stdout",
     "output_type": "stream",
     "text": [
      "Redirected:  4187 https://www.domain.com.au/10-euorilie-street-balwyn-north-vic-3104-16055111\n"
     ]
    },
    {
     "name": "stderr",
     "output_type": "stream",
     "text": [
      " 26%|███████████████████▍                                                        | 4249/16624 [33:24<1:35:34,  2.16it/s]"
     ]
    },
    {
     "name": "stdout",
     "output_type": "stream",
     "text": [
      "Redirected:  4249 https://www.domain.com.au/west-melbourne-vic-3003-16054940\n"
     ]
    },
    {
     "name": "stderr",
     "output_type": "stream",
     "text": [
      " 26%|███████████████████▍                                                        | 4264/16624 [33:33<1:49:51,  1.88it/s]"
     ]
    },
    {
     "name": "stdout",
     "output_type": "stream",
     "text": [
      "Redirected:  4263 https://www.domain.com.au/2508-668-bourke-street-melbourne-vic-3000-16054902\n",
      "'props'\n"
     ]
    },
    {
     "name": "stderr",
     "output_type": "stream",
     "text": [
      " 26%|███████████████████▌                                                        | 4271/16624 [33:36<1:17:38,  2.65it/s]"
     ]
    },
    {
     "name": "stdout",
     "output_type": "stream",
     "text": [
      "Redirected:  4270 https://www.domain.com.au/12-debbie-street-mount-waverley-vic-3149-15250859\n",
      "'props'\n"
     ]
    },
    {
     "name": "stderr",
     "output_type": "stream",
     "text": [
      " 26%|███████████████████▊                                                        | 4340/16624 [34:09<1:14:15,  2.76it/s]"
     ]
    },
    {
     "name": "stdout",
     "output_type": "stream",
     "text": [
      "Redirected:  4339 https://www.domain.com.au/306-1-red-hill-doncaster-east-vic-3109-16054674\n",
      "'props'\n"
     ]
    },
    {
     "name": "stderr",
     "output_type": "stream",
     "text": [
      " 26%|███████████████████▉                                                        | 4362/16624 [34:20<1:34:26,  2.16it/s]"
     ]
    },
    {
     "name": "stdout",
     "output_type": "stream",
     "text": [
      "Redirected:  4362 https://www.domain.com.au/67-marshall-street-newtown-vic-3220-16054624\n"
     ]
    },
    {
     "name": "stderr",
     "output_type": "stream",
     "text": [
      " 26%|███████████████████▉                                                        | 4370/16624 [34:24<1:32:58,  2.20it/s]"
     ]
    },
    {
     "name": "stdout",
     "output_type": "stream",
     "text": [
      "Redirected:  4370 https://www.domain.com.au/2-10-melby-avenue-st-kilda-east-vic-3183-16054608\n"
     ]
    },
    {
     "name": "stderr",
     "output_type": "stream",
     "text": [
      " 26%|████████████████████                                                        | 4378/16624 [34:28<1:23:59,  2.43it/s]"
     ]
    },
    {
     "name": "stdout",
     "output_type": "stream",
     "text": [
      "Redirected:  4377 https://www.domain.com.au/38-park-street-seaford-vic-3198-16054575\n",
      "'props'\n"
     ]
    },
    {
     "name": "stderr",
     "output_type": "stream",
     "text": [
      " 26%|████████████████████                                                        | 4380/16624 [34:29<1:15:27,  2.70it/s]"
     ]
    },
    {
     "name": "stdout",
     "output_type": "stream",
     "text": [
      "Redirected:  4379 https://www.domain.com.au/1-437-flemington-rd-north-melbourne-vic-3051-15992054\n",
      "'props'\n"
     ]
    },
    {
     "name": "stderr",
     "output_type": "stream",
     "text": [
      " 27%|████████████████████▎                                                       | 4441/16624 [34:57<1:32:02,  2.21it/s]"
     ]
    },
    {
     "name": "stdout",
     "output_type": "stream",
     "text": [
      "Redirected:  4440 https://www.domain.com.au/2107-11-rose-ln-melbourne-vic-3000-15875625\n",
      "'props'\n"
     ]
    },
    {
     "name": "stderr",
     "output_type": "stream",
     "text": [
      " 27%|████████████████████▎                                                       | 4454/16624 [35:04<1:44:01,  1.95it/s]"
     ]
    },
    {
     "name": "stdout",
     "output_type": "stream",
     "text": [
      "Redirected:  4454 https://www.domain.com.au/712-188-road-footscray-vic-3011-16054365\n"
     ]
    },
    {
     "name": "stderr",
     "output_type": "stream",
     "text": [
      " 27%|████████████████████▍                                                       | 4467/16624 [35:11<1:38:54,  2.05it/s]"
     ]
    },
    {
     "name": "stdout",
     "output_type": "stream",
     "text": [
      "Redirected:  4467 https://www.domain.com.au/1-60-clowes-street-south-yarra-vic-3141-16054320\n"
     ]
    },
    {
     "name": "stderr",
     "output_type": "stream",
     "text": [
      "\r",
      " 27%|████████████████████▍                                                       | 4468/16624 [35:12<1:28:05,  2.30it/s]"
     ]
    },
    {
     "name": "stdout",
     "output_type": "stream",
     "text": [
      "'listingSummary'\n"
     ]
    },
    {
     "name": "stderr",
     "output_type": "stream",
     "text": [
      " 27%|████████████████████▊                                                       | 4551/16624 [35:53<1:13:56,  2.72it/s]"
     ]
    },
    {
     "name": "stdout",
     "output_type": "stream",
     "text": [
      "Redirected:  4550 https://www.domain.com.au/4a-lancaster-street-narre-warren-vic-3805-16054040\n",
      "'listingSummary'\n"
     ]
    },
    {
     "name": "stderr",
     "output_type": "stream",
     "text": [
      " 28%|████████████████████▉                                                       | 4574/16624 [36:03<1:13:36,  2.73it/s]"
     ]
    },
    {
     "name": "stdout",
     "output_type": "stream",
     "text": [
      "Redirected:  4573 https://www.domain.com.au/3a-3b-stockdale-stockdale-avenue-bentleigh-east-vic-3165-16053251\n",
      "'listingSummary'\n"
     ]
    },
    {
     "name": "stderr",
     "output_type": "stream",
     "text": [
      " 28%|█████████████████████▌                                                        | 4605/16624 [36:17<57:00,  3.51it/s]"
     ]
    },
    {
     "name": "stdout",
     "output_type": "stream",
     "text": [
      "Redirected:  4603 https://www.domain.com.au/302-160-little-lonsdale-street-melbourne-vic-3000-16053882\n",
      "'props'\n",
      "Redirected:  4604 https://www.domain.com.au/250a-stewart-street-brunswick-east-vic-3057-16053880\n",
      "'props'\n"
     ]
    },
    {
     "name": "stderr",
     "output_type": "stream",
     "text": [
      " 28%|█████████████████████▏                                                      | 4632/16624 [36:31<1:15:03,  2.66it/s]"
     ]
    },
    {
     "name": "stdout",
     "output_type": "stream",
     "text": [
      "Redirected:  4631 https://www.domain.com.au/14-straughan-st-glen-iris-vic-3146-16053776\n",
      "'listingSummary'\n"
     ]
    },
    {
     "name": "stderr",
     "output_type": "stream",
     "text": [
      "\r",
      " 28%|█████████████████████▏                                                      | 4633/16624 [36:32<1:17:07,  2.59it/s]"
     ]
    },
    {
     "name": "stdout",
     "output_type": "stream",
     "text": [
      "Redirected:  4633 https://www.domain.com.au/apartment304-59-63-warrigal-road-hughesdale-vic-3166-16053774\n"
     ]
    },
    {
     "name": "stderr",
     "output_type": "stream",
     "text": [
      " 28%|█████████████████████▏                                                      | 4635/16624 [36:33<1:05:04,  3.07it/s]"
     ]
    },
    {
     "name": "stdout",
     "output_type": "stream",
     "text": [
      "Redirected:  4634 https://www.domain.com.au/6-27-balmoral-avenue-brunswick-vic-3056-16053773\n",
      "'props'\n"
     ]
    },
    {
     "name": "stderr",
     "output_type": "stream",
     "text": [
      " 28%|█████████████████████▏                                                      | 4643/16624 [36:37<1:47:03,  1.87it/s]"
     ]
    },
    {
     "name": "stdout",
     "output_type": "stream",
     "text": [
      "Redirected:  4643 https://www.domain.com.au/2-63-rhodes-parade-glenroy-vic-3046-16053756\n"
     ]
    },
    {
     "name": "stderr",
     "output_type": "stream",
     "text": [
      " 29%|█████████████████████▊                                                      | 4781/16624 [37:48<1:53:32,  1.74it/s]"
     ]
    },
    {
     "name": "stdout",
     "output_type": "stream",
     "text": [
      "Redirected:  4780 https://www.domain.com.au/124-sandhurst-boulevard-sandhurst-vic-3977-14532808\n",
      "'props'\n"
     ]
    },
    {
     "name": "stderr",
     "output_type": "stream",
     "text": [
      " 29%|█████████████████████▉                                                      | 4788/16624 [37:54<2:39:50,  1.23it/s]"
     ]
    },
    {
     "name": "stdout",
     "output_type": "stream",
     "text": [
      "Redirected:  4787 https://www.domain.com.au/23-fault-crescent-north-wonthaggi-vic-3995-16053393\n",
      "'props'\n"
     ]
    },
    {
     "name": "stderr",
     "output_type": "stream",
     "text": [
      " 29%|█████████████████████▉                                                      | 4811/16624 [38:06<1:38:37,  2.00it/s]"
     ]
    },
    {
     "name": "stdout",
     "output_type": "stream",
     "text": [
      "Redirected:  4811 https://www.domain.com.au/101a-st-aidans-road-kennington-vic-3550-16053332\n"
     ]
    },
    {
     "name": "stderr",
     "output_type": "stream",
     "text": [
      "\r",
      " 29%|█████████████████████▉                                                      | 4812/16624 [38:06<1:27:37,  2.25it/s]"
     ]
    },
    {
     "name": "stdout",
     "output_type": "stream",
     "text": [
      "'listingSummary'\n"
     ]
    },
    {
     "name": "stderr",
     "output_type": "stream",
     "text": [
      " 29%|██████████████████████                                                      | 4820/16624 [38:09<1:09:38,  2.83it/s]"
     ]
    },
    {
     "name": "stdout",
     "output_type": "stream",
     "text": [
      "Redirected:  4819 https://www.domain.com.au/2808-118-kavanagh-street-southbank-vic-3006-13577031\n",
      "'props'\n"
     ]
    },
    {
     "name": "stderr",
     "output_type": "stream",
     "text": [
      " 29%|██████████████████████                                                      | 4831/16624 [38:15<1:47:18,  1.83it/s]"
     ]
    },
    {
     "name": "stdout",
     "output_type": "stream",
     "text": [
      "Redirected:  4831 https://www.domain.com.au/1-3-5-17-19-hazeldene-court-berwick-vic-3806-14611396\n"
     ]
    },
    {
     "name": "stderr",
     "output_type": "stream",
     "text": [
      " 29%|██████████████████████                                                      | 4837/16624 [38:18<1:34:32,  2.08it/s]"
     ]
    },
    {
     "name": "stdout",
     "output_type": "stream",
     "text": [
      "Redirected:  4837 https://www.domain.com.au/42-27-turva-ave-tarneit-vic-3029-15400122\n"
     ]
    },
    {
     "name": "stderr",
     "output_type": "stream",
     "text": [
      " 29%|██████████████████████▏                                                     | 4845/16624 [38:21<1:11:28,  2.75it/s]"
     ]
    },
    {
     "name": "stdout",
     "output_type": "stream",
     "text": [
      "Redirected:  4844 https://www.domain.com.au/3-allamanda-crescent-south-morang-vic-3752-16053239\n",
      "'props'\n"
     ]
    },
    {
     "name": "stderr",
     "output_type": "stream",
     "text": [
      " 29%|██████████████████████▏                                                     | 4863/16624 [38:31<1:47:55,  1.82it/s]"
     ]
    },
    {
     "name": "stdout",
     "output_type": "stream",
     "text": [
      "Redirected:  4862 https://www.domain.com.au/13-37-fitzgerald-street-south-yarra-vic-3141-16053199\n",
      "'props'\n"
     ]
    },
    {
     "name": "stderr",
     "output_type": "stream",
     "text": [
      " 29%|██████████████████████▏                                                     | 4865/16624 [38:31<1:33:41,  2.09it/s]"
     ]
    },
    {
     "name": "stdout",
     "output_type": "stream",
     "text": [
      "Redirected:  4865 https://www.domain.com.au/mooroopna-vic-3629-16053196\n"
     ]
    },
    {
     "name": "stderr",
     "output_type": "stream",
     "text": [
      " 29%|██████████████████████▎                                                     | 4874/16624 [38:36<1:26:03,  2.28it/s]"
     ]
    },
    {
     "name": "stdout",
     "output_type": "stream",
     "text": [
      "Redirected:  4874 https://www.domain.com.au/312-29-nicholson-street-brunswick-east-vic-3057-15006450\n"
     ]
    },
    {
     "name": "stderr",
     "output_type": "stream",
     "text": [
      "\r",
      " 29%|██████████████████████▎                                                     | 4875/16624 [38:36<1:36:01,  2.04it/s]"
     ]
    },
    {
     "name": "stdout",
     "output_type": "stream",
     "text": [
      "Redirected:  4875 https://www.domain.com.au/u2-427-brunswick-road-brunswick-west-vic-3055-16053147\n"
     ]
    },
    {
     "name": "stderr",
     "output_type": "stream",
     "text": [
      " 29%|██████████████████████▎                                                     | 4882/16624 [38:39<1:08:40,  2.85it/s]"
     ]
    },
    {
     "name": "stdout",
     "output_type": "stream",
     "text": [
      "Redirected:  4881 https://www.domain.com.au/5-329-orrong-road-st-kilda-east-vic-3183-15655672\n",
      "'props'\n"
     ]
    },
    {
     "name": "stderr",
     "output_type": "stream",
     "text": [
      " 29%|██████████████████████▎                                                     | 4885/16624 [38:40<1:15:10,  2.60it/s]"
     ]
    },
    {
     "name": "stdout",
     "output_type": "stream",
     "text": [
      "Redirected:  4885 https://www.domain.com.au/24a-goodenia-close-meadow-heights-vic-3048-16053128\n"
     ]
    },
    {
     "name": "stderr",
     "output_type": "stream",
     "text": [
      "\r",
      " 29%|██████████████████████▎                                                     | 4886/16624 [38:41<1:20:26,  2.43it/s]"
     ]
    },
    {
     "name": "stdout",
     "output_type": "stream",
     "text": [
      "'listingSummary'\n",
      "Redirected:  4886 https://www.domain.com.au/u21-117-bouverie-street-carlton-vic-3053-16053125\n"
     ]
    },
    {
     "name": "stderr",
     "output_type": "stream",
     "text": [
      " 29%|██████████████████████▎                                                     | 4892/16624 [38:44<1:21:11,  2.41it/s]"
     ]
    },
    {
     "name": "stdout",
     "output_type": "stream",
     "text": [
      "Redirected:  4891 https://www.domain.com.au/4-443-warrigal-rd-burwood-vic-3125-9990579\n",
      "'props'\n",
      "Redirected:  4892 https://www.domain.com.au/34-easey-way-beveridge-vic-3753-16053116\n"
     ]
    },
    {
     "name": "stderr",
     "output_type": "stream",
     "text": [
      "\r",
      " 29%|██████████████████████▎                                                     | 4893/16624 [38:44<1:29:12,  2.19it/s]"
     ]
    },
    {
     "name": "stdout",
     "output_type": "stream",
     "text": [
      "Redirected:  4893 https://www.domain.com.au/u5-237-glenlyon-road-brunswick-east-vic-3057-16053115\n"
     ]
    },
    {
     "name": "stderr",
     "output_type": "stream",
     "text": [
      " 29%|██████████████████████▍                                                     | 4898/16624 [38:46<1:10:52,  2.76it/s]"
     ]
    },
    {
     "name": "stdout",
     "output_type": "stream",
     "text": [
      "Redirected:  4897 https://www.domain.com.au/3a-stockdale-avenue-bentleigh-east-vic-3165-16053101\n",
      "'listingSummary'\n"
     ]
    },
    {
     "name": "stderr",
     "output_type": "stream",
     "text": [
      " 30%|██████████████████████▍                                                     | 4912/16624 [38:53<1:41:25,  1.92it/s]"
     ]
    },
    {
     "name": "stdout",
     "output_type": "stream",
     "text": [
      "Redirected:  4911 https://www.domain.com.au/307-148-wells-street-south-melbourne-vic-3205-16053069\n",
      "'props'\n"
     ]
    },
    {
     "name": "stderr",
     "output_type": "stream",
     "text": [
      " 30%|██████████████████████▍                                                     | 4918/16624 [38:56<1:25:54,  2.27it/s]"
     ]
    },
    {
     "name": "stdout",
     "output_type": "stream",
     "text": [
      "Redirected:  4918 https://www.domain.com.au/bacchus-marsh-vic-3340-16053048\n"
     ]
    },
    {
     "name": "stderr",
     "output_type": "stream",
     "text": [
      " 30%|██████████████████████▌                                                     | 4942/16624 [39:07<1:24:32,  2.30it/s]"
     ]
    },
    {
     "name": "stdout",
     "output_type": "stream",
     "text": [
      "Redirected:  4941 https://www.domain.com.au/12-kiers-avenue-mount-waverley-vic-3149-15449906\n",
      "'props'\n"
     ]
    },
    {
     "name": "stderr",
     "output_type": "stream",
     "text": [
      " 30%|██████████████████████▋                                                     | 4952/16624 [39:12<1:27:58,  2.21it/s]"
     ]
    },
    {
     "name": "stdout",
     "output_type": "stream",
     "text": [
      "Redirected:  4952 https://www.domain.com.au/378-390-saint-georges-road-fitzroy-north-vic-3068-16052965\n"
     ]
    },
    {
     "name": "stderr",
     "output_type": "stream",
     "text": [
      " 30%|██████████████████████▋                                                     | 4955/16624 [39:13<1:24:42,  2.30it/s]"
     ]
    },
    {
     "name": "stdout",
     "output_type": "stream",
     "text": [
      "Redirected:  4955 https://www.domain.com.au/altona-north-vic-3025-16052955\n"
     ]
    },
    {
     "name": "stderr",
     "output_type": "stream",
     "text": [
      " 30%|██████████████████████▋                                                     | 4970/16624 [39:20<1:27:28,  2.22it/s]"
     ]
    },
    {
     "name": "stdout",
     "output_type": "stream",
     "text": [
      "Redirected:  4970 https://www.domain.com.au/145a-roberts-street-essendon-north-vic-3041-16052922\n"
     ]
    },
    {
     "name": "stderr",
     "output_type": "stream",
     "text": [
      " 30%|██████████████████████▋                                                     | 4976/16624 [39:24<1:52:46,  1.72it/s]"
     ]
    },
    {
     "name": "stdout",
     "output_type": "stream",
     "text": [
      "Redirected:  4976 https://www.domain.com.au/20-tanner-breakwater-vic-3219-16052915\n"
     ]
    },
    {
     "name": "stderr",
     "output_type": "stream",
     "text": [
      " 30%|██████████████████████▊                                                     | 4991/16624 [39:33<1:49:41,  1.77it/s]"
     ]
    },
    {
     "name": "stdout",
     "output_type": "stream",
     "text": [
      "Redirected:  4991 https://www.domain.com.au/1-7-13-laburnam-street-blackburn-vic-3130-16052877\n"
     ]
    },
    {
     "name": "stderr",
     "output_type": "stream",
     "text": [
      " 30%|██████████████████████▉                                                     | 5014/16624 [39:44<1:29:29,  2.16it/s]"
     ]
    },
    {
     "name": "stdout",
     "output_type": "stream",
     "text": [
      "Redirected:  5014 https://www.domain.com.au/17-chamberlin-way-point-cook-vic-3030-16052816\n"
     ]
    },
    {
     "name": "stderr",
     "output_type": "stream",
     "text": [
      "\r",
      " 30%|██████████████████████▉                                                     | 5015/16624 [39:44<1:25:49,  2.25it/s]"
     ]
    },
    {
     "name": "stdout",
     "output_type": "stream",
     "text": [
      "'listingSummary'\n"
     ]
    },
    {
     "name": "stderr",
     "output_type": "stream",
     "text": [
      " 30%|██████████████████████▉                                                     | 5027/16624 [39:50<1:15:44,  2.55it/s]"
     ]
    },
    {
     "name": "stdout",
     "output_type": "stream",
     "text": [
      "Redirected:  5026 https://www.domain.com.au/115-thames-promenade-chelsea-vic-3196-16052779\n",
      "'props'\n"
     ]
    },
    {
     "name": "stderr",
     "output_type": "stream",
     "text": [
      " 30%|███████████████████████                                                     | 5035/16624 [39:56<3:14:29,  1.01s/it]"
     ]
    },
    {
     "name": "stdout",
     "output_type": "stream",
     "text": [
      "'NoneType' object is not subscriptable\n"
     ]
    },
    {
     "name": "stderr",
     "output_type": "stream",
     "text": [
      " 30%|███████████████████████                                                     | 5058/16624 [40:07<1:19:38,  2.42it/s]"
     ]
    },
    {
     "name": "stdout",
     "output_type": "stream",
     "text": [
      "Redirected:  5057 https://www.domain.com.au/2-18-the-crest-frankston-south-vic-3199-14340424\n",
      "'props'\n"
     ]
    },
    {
     "name": "stderr",
     "output_type": "stream",
     "text": [
      " 31%|███████████████████████▏                                                    | 5081/16624 [40:17<1:14:56,  2.57it/s]"
     ]
    },
    {
     "name": "stdout",
     "output_type": "stream",
     "text": [
      "Redirected:  5080 https://www.domain.com.au/1106-180-city-road-southbank-vic-3006-16052638\n",
      "'props'\n"
     ]
    },
    {
     "name": "stderr",
     "output_type": "stream",
     "text": [
      " 31%|███████████████████████▎                                                    | 5089/16624 [40:20<1:20:20,  2.39it/s]"
     ]
    },
    {
     "name": "stdout",
     "output_type": "stream",
     "text": [
      "Redirected:  5089 https://www.domain.com.au/313-250-gore-street-fitzroy-vic-3065-15239464\n"
     ]
    },
    {
     "name": "stderr",
     "output_type": "stream",
     "text": [
      " 31%|███████████████████████▎                                                    | 5092/16624 [40:21<1:11:24,  2.69it/s]"
     ]
    },
    {
     "name": "stdout",
     "output_type": "stream",
     "text": [
      "Redirected:  5091 https://www.domain.com.au/23-warrigal-road-oakleigh-vic-3166-16052605\n",
      "'listingSummary'\n"
     ]
    },
    {
     "name": "stderr",
     "output_type": "stream",
     "text": [
      " 31%|███████████████████████▎                                                    | 5111/16624 [40:30<1:12:17,  2.65it/s]"
     ]
    },
    {
     "name": "stdout",
     "output_type": "stream",
     "text": [
      "Redirected:  5110 https://www.domain.com.au/211-17-pottershill-road-san-remo-vic-3925-15384558\n",
      "'props'\n"
     ]
    },
    {
     "name": "stderr",
     "output_type": "stream",
     "text": [
      " 31%|███████████████████████▍                                                    | 5121/16624 [40:36<2:03:29,  1.55it/s]"
     ]
    },
    {
     "name": "stdout",
     "output_type": "stream",
     "text": [
      "Redirected:  5120 https://www.domain.com.au/9-wicklow-st-pascoe-vale-vic-3044-15898769\n",
      "'props'\n"
     ]
    },
    {
     "name": "stderr",
     "output_type": "stream",
     "text": [
      " 31%|███████████████████████▍                                                    | 5134/16624 [40:42<1:30:21,  2.12it/s]"
     ]
    },
    {
     "name": "stdout",
     "output_type": "stream",
     "text": [
      "Redirected:  5134 https://www.domain.com.au/10-148-glen-huntly-road-elwood-vic-3184-16052486\n"
     ]
    },
    {
     "name": "stderr",
     "output_type": "stream",
     "text": [
      " 31%|███████████████████████▌                                                    | 5148/16624 [40:49<1:12:55,  2.62it/s]"
     ]
    },
    {
     "name": "stdout",
     "output_type": "stream",
     "text": [
      "Redirected:  5147 https://www.domain.com.au/39-laurel-crescent-campbellfield-vic-3061-16052454\n",
      "'props'\n"
     ]
    },
    {
     "name": "stderr",
     "output_type": "stream",
     "text": [
      " 31%|███████████████████████▌                                                    | 5154/16624 [40:52<1:05:42,  2.91it/s]"
     ]
    },
    {
     "name": "stdout",
     "output_type": "stream",
     "text": [
      "Redirected:  5153 https://www.domain.com.au/4-woodlands-avenue-pascoe-vale-south-vic-3044-10369408\n",
      "'props'\n"
     ]
    },
    {
     "name": "stderr",
     "output_type": "stream",
     "text": [
      " 31%|████████████████████████▏                                                     | 5157/16624 [40:53<59:58,  3.19it/s]"
     ]
    },
    {
     "name": "stdout",
     "output_type": "stream",
     "text": [
      "Redirected:  5156 https://www.domain.com.au/54-sherrin-street-morwell-vic-3840-11645778\n",
      "'props'\n"
     ]
    },
    {
     "name": "stderr",
     "output_type": "stream",
     "text": [
      " 31%|███████████████████████▋                                                    | 5180/16624 [41:04<1:19:02,  2.41it/s]"
     ]
    },
    {
     "name": "stdout",
     "output_type": "stream",
     "text": [
      "Redirected:  5180 https://www.domain.com.au/7-4-17-19-hazeldene-court-berwick-vic-3806-16052329\n"
     ]
    },
    {
     "name": "stderr",
     "output_type": "stream",
     "text": [
      " 31%|███████████████████████▋                                                    | 5188/16624 [41:08<1:11:08,  2.68it/s]"
     ]
    },
    {
     "name": "stdout",
     "output_type": "stream",
     "text": [
      "Redirected:  5187 https://www.domain.com.au/1-85-devonshire-road-sunshine-vic-3020-16052312\n",
      "'props'\n"
     ]
    },
    {
     "name": "stderr",
     "output_type": "stream",
     "text": [
      " 31%|███████████████████████▉                                                    | 5228/16624 [41:28<1:30:44,  2.09it/s]"
     ]
    },
    {
     "name": "stdout",
     "output_type": "stream",
     "text": [
      "Redirected:  5227 https://www.domain.com.au/13-canvas-st-truganina-vic-3029-16051939\n",
      "'props'\n"
     ]
    },
    {
     "name": "stderr",
     "output_type": "stream",
     "text": [
      " 31%|███████████████████████▉                                                    | 5232/16624 [41:30<1:28:55,  2.13it/s]"
     ]
    },
    {
     "name": "stdout",
     "output_type": "stream",
     "text": [
      "Redirected:  5232 https://www.domain.com.au/id-21099121-14-maroona-road-carnegie-vic-3163-16051915\n"
     ]
    },
    {
     "name": "stderr",
     "output_type": "stream",
     "text": [
      "\r",
      " 31%|███████████████████████▉                                                    | 5233/16624 [41:30<1:33:03,  2.04it/s]"
     ]
    },
    {
     "name": "stdout",
     "output_type": "stream",
     "text": [
      "'listingSummary'\n"
     ]
    },
    {
     "name": "stderr",
     "output_type": "stream",
     "text": [
      " 31%|███████████████████████▉                                                    | 5235/16624 [41:31<1:33:56,  2.02it/s]"
     ]
    },
    {
     "name": "stdout",
     "output_type": "stream",
     "text": [
      "Redirected:  5235 https://www.domain.com.au/id-3890435-58-queens-parade-fitzroy-north-vic-3068-12756290\n"
     ]
    },
    {
     "name": "stderr",
     "output_type": "stream",
     "text": [
      "\r",
      " 31%|███████████████████████▉                                                    | 5236/16624 [41:32<1:32:04,  2.06it/s]"
     ]
    },
    {
     "name": "stdout",
     "output_type": "stream",
     "text": [
      "'listingSummary'\n"
     ]
    },
    {
     "name": "stderr",
     "output_type": "stream",
     "text": [
      " 32%|███████████████████████▉                                                    | 5241/16624 [41:34<1:30:59,  2.08it/s]"
     ]
    },
    {
     "name": "stdout",
     "output_type": "stream",
     "text": [
      "Redirected:  5241 https://www.domain.com.au/g08-2-albert-st-kilda-vic-3182-16051903\n"
     ]
    },
    {
     "name": "stderr",
     "output_type": "stream",
     "text": [
      " 32%|███████████████████████▉                                                    | 5244/16624 [41:36<1:24:55,  2.23it/s]"
     ]
    },
    {
     "name": "stdout",
     "output_type": "stream",
     "text": [
      "Redirected:  5244 https://www.domain.com.au/51-were-brighton-vic-3186-16051892\n"
     ]
    },
    {
     "name": "stderr",
     "output_type": "stream",
     "text": [
      " 32%|████████████████████████                                                    | 5254/16624 [41:40<1:09:03,  2.74it/s]"
     ]
    },
    {
     "name": "stdout",
     "output_type": "stream",
     "text": [
      "Redirected:  5253 https://www.domain.com.au/28-scott-street-seaford-vic-3198-16051871\n",
      "'props'\n"
     ]
    },
    {
     "name": "stderr",
     "output_type": "stream",
     "text": [
      " 32%|████████████████████████                                                    | 5270/16624 [41:48<1:22:15,  2.30it/s]"
     ]
    },
    {
     "name": "stdout",
     "output_type": "stream",
     "text": [
      "Redirected:  5270 https://www.domain.com.au/303-33-harrow-street-box-hill-vic-3128-16051804\n"
     ]
    },
    {
     "name": "stderr",
     "output_type": "stream",
     "text": [
      " 32%|████████████████████████▎                                                   | 5327/16624 [42:15<1:07:58,  2.77it/s]"
     ]
    },
    {
     "name": "stdout",
     "output_type": "stream",
     "text": [
      "Redirected:  5326 https://www.domain.com.au/111-whitelodge-road-woodend-north-vic-3442-16051629\n",
      "'props'\n"
     ]
    },
    {
     "name": "stderr",
     "output_type": "stream",
     "text": [
      " 32%|████████████████████████▍                                                   | 5341/16624 [42:21<1:02:52,  2.99it/s]"
     ]
    },
    {
     "name": "stdout",
     "output_type": "stream",
     "text": [
      "Redirected:  5340 https://www.domain.com.au/208-126-chapel-street-st-kilda-vic-3182-14544197\n",
      "'props'\n"
     ]
    },
    {
     "name": "stderr",
     "output_type": "stream",
     "text": [
      " 32%|████████████████████████▌                                                   | 5369/16624 [42:33<1:17:29,  2.42it/s]"
     ]
    },
    {
     "name": "stdout",
     "output_type": "stream",
     "text": [
      "Redirected:  5369 https://www.domain.com.au/54-513-nott-street-port-melbourne-vic-3207-16051478\n"
     ]
    },
    {
     "name": "stderr",
     "output_type": "stream",
     "text": [
      " 33%|████████████████████████▋                                                   | 5412/16624 [42:55<1:31:04,  2.05it/s]"
     ]
    },
    {
     "name": "stdout",
     "output_type": "stream",
     "text": [
      "Redirected:  5411 https://www.domain.com.au/21a-barry-street-tootgarook-vic-3941-16023725\n",
      "'listingSummary'\n"
     ]
    },
    {
     "name": "stderr",
     "output_type": "stream",
     "text": [
      "\r",
      " 33%|████████████████████████▋                                                   | 5413/16624 [42:55<1:11:00,  2.63it/s]"
     ]
    },
    {
     "name": "stdout",
     "output_type": "stream",
     "text": [
      "Redirected:  5412 https://www.domain.com.au/17-hakea-avenue-capel-sound-vic-3940-15979179\n",
      "'props'\n"
     ]
    },
    {
     "name": "stderr",
     "output_type": "stream",
     "text": [
      " 33%|█████████████████████████▍                                                    | 5415/16624 [42:55<57:13,  3.26it/s]"
     ]
    },
    {
     "name": "stdout",
     "output_type": "stream",
     "text": [
      "Redirected:  5414 https://www.domain.com.au/2-kestrel-court-baxter-vic-3911-15996139\n",
      "'props'\n"
     ]
    },
    {
     "name": "stderr",
     "output_type": "stream",
     "text": [
      "\r",
      " 33%|█████████████████████████▍                                                    | 5416/16624 [42:56<57:11,  3.27it/s]"
     ]
    },
    {
     "name": "stdout",
     "output_type": "stream",
     "text": [
      "Redirected:  5415 https://www.domain.com.au/14-grattan-way-pakenham-vic-3810-16051368\n",
      "'props'\n"
     ]
    },
    {
     "name": "stderr",
     "output_type": "stream",
     "text": [
      " 33%|████████████████████████▊                                                   | 5421/16624 [42:58<1:07:38,  2.76it/s]"
     ]
    },
    {
     "name": "stdout",
     "output_type": "stream",
     "text": [
      "Redirected:  5420 https://www.domain.com.au/120-avebury-drive-berwick-vic-3806-14576560\n",
      "'props'\n"
     ]
    },
    {
     "name": "stderr",
     "output_type": "stream",
     "text": [
      " 33%|████████████████████████▊                                                   | 5425/16624 [43:01<2:06:58,  1.47it/s]"
     ]
    },
    {
     "name": "stdout",
     "output_type": "stream",
     "text": [
      "Redirected:  5425 https://www.domain.com.au/3-14-viewpoint-street-ararat-vic-3377-16051340\n"
     ]
    },
    {
     "name": "stderr",
     "output_type": "stream",
     "text": [
      " 33%|████████████████████████▉                                                   | 5450/16624 [43:15<1:51:47,  1.67it/s]"
     ]
    },
    {
     "name": "stdout",
     "output_type": "stream",
     "text": [
      "Redirected:  5450 https://www.domain.com.au/5008-639-lonsdale-street-melbourne-vic-3000-16051266\n"
     ]
    },
    {
     "name": "stderr",
     "output_type": "stream",
     "text": [
      " 33%|████████████████████████▉                                                   | 5466/16624 [43:22<1:24:01,  2.21it/s]"
     ]
    },
    {
     "name": "stdout",
     "output_type": "stream",
     "text": [
      "Redirected:  5466 https://www.domain.com.au/19-amerli-street-deanside-vic-3336-15176030\n"
     ]
    },
    {
     "name": "stderr",
     "output_type": "stream",
     "text": [
      "\r",
      " 33%|████████████████████████▉                                                   | 5467/16624 [43:23<1:29:46,  2.07it/s]"
     ]
    },
    {
     "name": "stdout",
     "output_type": "stream",
     "text": [
      "Redirected:  5467 https://www.domain.com.au/2-kindilan-lane-delacombe-vic-3356-16051217\n"
     ]
    },
    {
     "name": "stderr",
     "output_type": "stream",
     "text": [
      " 33%|█████████████████████████                                                   | 5471/16624 [43:25<1:40:04,  1.86it/s]"
     ]
    },
    {
     "name": "stdout",
     "output_type": "stream",
     "text": [
      "Redirected:  5470 https://www.domain.com.au/142-173-city-road-southbank-vic-3006-16051214\n",
      "'props'\n"
     ]
    },
    {
     "name": "stderr",
     "output_type": "stream",
     "text": [
      " 33%|█████████████████████████                                                   | 5493/16624 [43:36<1:19:07,  2.34it/s]"
     ]
    },
    {
     "name": "stdout",
     "output_type": "stream",
     "text": [
      "Redirected:  5493 https://www.domain.com.au/2-4-margaret-street-parkdale-vic-3195-16051153\n"
     ]
    },
    {
     "name": "stderr",
     "output_type": "stream",
     "text": [
      " 33%|█████████████████████████▏                                                  | 5498/16624 [43:38<1:11:27,  2.59it/s]"
     ]
    },
    {
     "name": "stdout",
     "output_type": "stream",
     "text": [
      "Redirected:  5497 https://www.domain.com.au/16-boronia-avenue-capel-sound-vic-3940-16016548\n",
      "'props'\n"
     ]
    },
    {
     "name": "stderr",
     "output_type": "stream",
     "text": [
      " 33%|█████████████████████████▏                                                  | 5501/16624 [43:39<1:01:21,  3.02it/s]"
     ]
    },
    {
     "name": "stdout",
     "output_type": "stream",
     "text": [
      "Redirected:  5500 https://www.domain.com.au/201-97-flemington-road-north-melbourne-vic-3051-16051143\n",
      "'props'\n"
     ]
    },
    {
     "name": "stderr",
     "output_type": "stream",
     "text": [
      " 34%|█████████████████████████▌                                                  | 5580/16624 [44:19<1:14:20,  2.48it/s]"
     ]
    },
    {
     "name": "stdout",
     "output_type": "stream",
     "text": [
      "Redirected:  5579 https://www.domain.com.au/6-aniseed-avenue-aintree-vic-3336-16050910\n",
      "'props'\n"
     ]
    },
    {
     "name": "stderr",
     "output_type": "stream",
     "text": [
      " 34%|█████████████████████████▋                                                  | 5607/16624 [44:32<1:24:29,  2.17it/s]"
     ]
    },
    {
     "name": "stdout",
     "output_type": "stream",
     "text": [
      "Redirected:  5607 https://www.domain.com.au/2-pennell-avenue-st-albans-vic-3021-15633502\n"
     ]
    },
    {
     "name": "stderr",
     "output_type": "stream",
     "text": [
      " 34%|█████████████████████████▊                                                  | 5643/16624 [44:49<1:21:20,  2.25it/s]"
     ]
    },
    {
     "name": "stdout",
     "output_type": "stream",
     "text": [
      "Redirected:  5643 https://www.domain.com.au/11-3-holmes-street-brunswick-east-vic-3057-15668683\n"
     ]
    },
    {
     "name": "stderr",
     "output_type": "stream",
     "text": [
      " 34%|█████████████████████████▉                                                  | 5661/16624 [44:59<1:25:33,  2.14it/s]"
     ]
    },
    {
     "name": "stdout",
     "output_type": "stream",
     "text": [
      "Redirected:  5660 https://www.domain.com.au/2-80-napoleon-street-west-footscray-vic-3012-16050687\n",
      "'props'\n"
     ]
    },
    {
     "name": "stderr",
     "output_type": "stream",
     "text": [
      " 34%|█████████████████████████▉                                                  | 5663/16624 [45:00<1:50:27,  1.65it/s]"
     ]
    },
    {
     "name": "stdout",
     "output_type": "stream",
     "text": [
      "'NoneType' object is not subscriptable\n"
     ]
    },
    {
     "name": "stderr",
     "output_type": "stream",
     "text": [
      " 34%|██████████████████████████                                                  | 5699/16624 [45:17<1:02:04,  2.93it/s]"
     ]
    },
    {
     "name": "stdout",
     "output_type": "stream",
     "text": [
      "Redirected:  5698 https://www.domain.com.au/95-rippleside-terrace-tarneit-vic-3029-15975003\n",
      "'props'\n"
     ]
    },
    {
     "name": "stderr",
     "output_type": "stream",
     "text": [
      " 34%|██████████████████████████                                                  | 5708/16624 [45:21<1:33:19,  1.95it/s]"
     ]
    },
    {
     "name": "stdout",
     "output_type": "stream",
     "text": [
      "Redirected:  5707 https://www.domain.com.au/24-eastside-dr-mildura-vic-3500-16019031\n",
      "'props'\n"
     ]
    },
    {
     "name": "stderr",
     "output_type": "stream",
     "text": [
      " 34%|██████████████████████████▏                                                 | 5720/16624 [45:26<1:12:24,  2.51it/s]"
     ]
    },
    {
     "name": "stdout",
     "output_type": "stream",
     "text": [
      "Redirected:  5720 https://www.domain.com.au/10-49-59-coonans-road-pascoe-vale-south-vic-3044-16050532\n"
     ]
    },
    {
     "name": "stderr",
     "output_type": "stream",
     "text": [
      " 35%|██████████████████████████▎                                                 | 5748/16624 [45:39<1:18:56,  2.30it/s]"
     ]
    },
    {
     "name": "stdout",
     "output_type": "stream",
     "text": [
      "Redirected:  5748 https://www.domain.com.au/17c-wentworth-drive-taylors-lakes-vic-3038-14532713\n"
     ]
    },
    {
     "name": "stderr",
     "output_type": "stream",
     "text": [
      " 35%|██████████████████████████▎                                                 | 5762/16624 [45:46<1:19:09,  2.29it/s]"
     ]
    },
    {
     "name": "stdout",
     "output_type": "stream",
     "text": [
      "Redirected:  5762 https://www.domain.com.au/62-39-huon-park-road-cranbourne-north-vic-3977-16050430\n"
     ]
    },
    {
     "name": "stderr",
     "output_type": "stream",
     "text": [
      " 35%|██████████████████████████▍                                                 | 5774/16624 [45:51<1:18:05,  2.32it/s]"
     ]
    },
    {
     "name": "stdout",
     "output_type": "stream",
     "text": [
      "Redirected:  5774 https://www.domain.com.au/18-mayall-crescent-wyndham-vale-vic-3024-16050395\n"
     ]
    },
    {
     "name": "stderr",
     "output_type": "stream",
     "text": [
      " 35%|██████████████████████████▋                                                 | 5840/16624 [46:28<1:24:46,  2.12it/s]"
     ]
    },
    {
     "name": "stdout",
     "output_type": "stream",
     "text": [
      "Redirected:  5840 https://www.domain.com.au/108-foot-street-frankston-vic-3199-16050212\n"
     ]
    },
    {
     "name": "stderr",
     "output_type": "stream",
     "text": [
      " 35%|██████████████████████████▊                                                 | 5854/16624 [46:34<1:17:25,  2.32it/s]"
     ]
    },
    {
     "name": "stdout",
     "output_type": "stream",
     "text": [
      "Redirected:  5854 https://www.domain.com.au/7-composits-lane-doreen-vic-3754-16050182\n"
     ]
    },
    {
     "name": "stderr",
     "output_type": "stream",
     "text": [
      " 35%|██████████████████████████▊                                                 | 5872/16624 [46:43<1:37:45,  1.83it/s]"
     ]
    },
    {
     "name": "stdout",
     "output_type": "stream",
     "text": [
      "Redirected:  5872 https://www.domain.com.au/63-39-huon-park-road-cranbourne-north-vic-3977-16050121\n"
     ]
    },
    {
     "name": "stderr",
     "output_type": "stream",
     "text": [
      " 35%|██████████████████████████▉                                                 | 5899/16624 [46:58<1:24:32,  2.11it/s]"
     ]
    },
    {
     "name": "stdout",
     "output_type": "stream",
     "text": [
      "Redirected:  5899 https://www.domain.com.au/601-320-plummer-street-port-melbourne-vic-3207-16050068\n"
     ]
    },
    {
     "name": "stderr",
     "output_type": "stream",
     "text": [
      "\r",
      " 35%|██████████████████████████▉                                                 | 5900/16624 [46:58<1:26:56,  2.06it/s]"
     ]
    },
    {
     "name": "stdout",
     "output_type": "stream",
     "text": [
      "'listingSummary'\n"
     ]
    },
    {
     "name": "stderr",
     "output_type": "stream",
     "text": [
      " 36%|███████████████████████████                                                 | 5912/16624 [47:04<1:04:29,  2.77it/s]"
     ]
    },
    {
     "name": "stdout",
     "output_type": "stream",
     "text": [
      "Redirected:  5911 https://www.domain.com.au/12-lambourne-avenue-truganina-vic-3029-16050023\n",
      "'props'\n"
     ]
    },
    {
     "name": "stderr",
     "output_type": "stream",
     "text": [
      " 36%|███████████████████████████▏                                                | 5937/16624 [47:18<1:54:38,  1.55it/s]"
     ]
    },
    {
     "name": "stdout",
     "output_type": "stream",
     "text": [
      "Redirected:  5937 https://www.domain.com.au/64-wombat-dr-eltham-vic-3095-16049957\n"
     ]
    },
    {
     "name": "stderr",
     "output_type": "stream",
     "text": [
      " 36%|███████████████████████████▏                                                | 5955/16624 [47:25<1:00:35,  2.93it/s]"
     ]
    },
    {
     "name": "stdout",
     "output_type": "stream",
     "text": [
      "Redirected:  5954 https://www.domain.com.au/19-shani-road-wollert-vic-3750-16049908\n",
      "'props'\n"
     ]
    },
    {
     "name": "stderr",
     "output_type": "stream",
     "text": [
      " 36%|███████████████████████████▍                                                | 5999/16624 [47:45<1:19:46,  2.22it/s]"
     ]
    },
    {
     "name": "stdout",
     "output_type": "stream",
     "text": [
      "Redirected:  5999 https://www.domain.com.au/7-pippin-court-bacchus-marsh-vic-3340-16049781\n"
     ]
    },
    {
     "name": "stderr",
     "output_type": "stream",
     "text": [
      " 36%|███████████████████████████▍                                                | 6012/16624 [47:51<1:18:50,  2.24it/s]"
     ]
    },
    {
     "name": "stdout",
     "output_type": "stream",
     "text": [
      "Redirected:  6012 https://www.domain.com.au/lot-5-4-albert-avenue-oakleigh-vic-3166-16049756\n"
     ]
    },
    {
     "name": "stderr",
     "output_type": "stream",
     "text": [
      "\r",
      " 36%|███████████████████████████▍                                                | 6013/16624 [47:52<1:15:34,  2.34it/s]"
     ]
    },
    {
     "name": "stdout",
     "output_type": "stream",
     "text": [
      "'listingSummary'\n"
     ]
    },
    {
     "name": "stderr",
     "output_type": "stream",
     "text": [
      " 36%|███████████████████████████▌                                                | 6027/16624 [47:59<2:20:32,  1.26it/s]"
     ]
    },
    {
     "name": "stdout",
     "output_type": "stream",
     "text": [
      "'NoneType' object is not subscriptable\n"
     ]
    },
    {
     "name": "stderr",
     "output_type": "stream",
     "text": [
      " 37%|███████████████████████████▊                                                | 6086/16624 [48:29<1:15:35,  2.32it/s]"
     ]
    },
    {
     "name": "stdout",
     "output_type": "stream",
     "text": [
      "Redirected:  6086 https://www.domain.com.au/305-13-15-goodson-street-doncaster-vic-3108-16049535\n"
     ]
    },
    {
     "name": "stderr",
     "output_type": "stream",
     "text": [
      " 37%|███████████████████████████▉                                                | 6100/16624 [48:35<1:12:51,  2.41it/s]"
     ]
    },
    {
     "name": "stdout",
     "output_type": "stream",
     "text": [
      "Redirected:  6100 https://www.domain.com.au/112-harold-street-middle-park-vic-3206-15274766\n"
     ]
    },
    {
     "name": "stderr",
     "output_type": "stream",
     "text": [
      " 37%|████████████████████████████▊                                                 | 6146/16624 [48:55<58:44,  2.97it/s]"
     ]
    },
    {
     "name": "stdout",
     "output_type": "stream",
     "text": [
      "Redirected:  6145 https://www.domain.com.au/7-27-high-street-mont-albert-vic-3127-16049298\n",
      "'props'\n"
     ]
    },
    {
     "name": "stderr",
     "output_type": "stream",
     "text": [
      " 37%|████████████████████████████▏                                               | 6157/16624 [49:01<1:18:35,  2.22it/s]"
     ]
    },
    {
     "name": "stdout",
     "output_type": "stream",
     "text": [
      "Redirected:  6156 https://www.domain.com.au/1-1-linden-avenue-wendouree-vic-3355-16049215\n",
      "'props'\n"
     ]
    },
    {
     "name": "stderr",
     "output_type": "stream",
     "text": [
      " 37%|████████████████████████████▏                                               | 6163/16624 [49:04<1:18:17,  2.23it/s]"
     ]
    },
    {
     "name": "stdout",
     "output_type": "stream",
     "text": [
      "Redirected:  6163 https://www.domain.com.au/93-canterbury-road-montrose-vic-3765-16049180\n"
     ]
    },
    {
     "name": "stderr",
     "output_type": "stream",
     "text": [
      " 38%|████████████████████████████▌                                               | 6239/16624 [49:43<1:13:37,  2.35it/s]"
     ]
    },
    {
     "name": "stdout",
     "output_type": "stream",
     "text": [
      "Redirected:  6238 https://www.domain.com.au/55b-soudan-street-coburg-vic-3058-16048976\n",
      "'props'\n"
     ]
    },
    {
     "name": "stderr",
     "output_type": "stream",
     "text": [
      " 38%|████████████████████████████▌                                               | 6258/16624 [49:51<1:27:07,  1.98it/s]"
     ]
    },
    {
     "name": "stdout",
     "output_type": "stream",
     "text": [
      "Redirected:  6258 https://www.domain.com.au/2-durnham-court-epping-vic-3076-16048912\n"
     ]
    },
    {
     "name": "stderr",
     "output_type": "stream",
     "text": [
      " 38%|████████████████████████████▌                                               | 6260/16624 [49:52<1:20:11,  2.15it/s]"
     ]
    },
    {
     "name": "stdout",
     "output_type": "stream",
     "text": [
      "Redirected:  6260 https://www.domain.com.au/4-12-pattersons-ln-portland-vic-3305-16048904\n"
     ]
    },
    {
     "name": "stderr",
     "output_type": "stream",
     "text": [
      " 38%|████████████████████████████▋                                               | 6269/16624 [49:58<1:09:53,  2.47it/s]"
     ]
    },
    {
     "name": "stdout",
     "output_type": "stream",
     "text": [
      "Redirected:  6268 https://www.domain.com.au/1-198-aberdeen-street-geelong-west-vic-3218-16048866\n",
      "'props'\n"
     ]
    },
    {
     "name": "stderr",
     "output_type": "stream",
     "text": [
      " 38%|█████████████████████████████▍                                                | 6273/16624 [49:59<58:13,  2.96it/s]"
     ]
    },
    {
     "name": "stdout",
     "output_type": "stream",
     "text": [
      "Redirected:  6272 https://www.domain.com.au/52-hope-street-brunswick-vic-3056-16048861\n",
      "'props'\n"
     ]
    },
    {
     "name": "stderr",
     "output_type": "stream",
     "text": [
      " 38%|█████████████████████████████▍                                                | 6278/16624 [50:01<59:26,  2.90it/s]"
     ]
    },
    {
     "name": "stdout",
     "output_type": "stream",
     "text": [
      "Redirected:  6277 https://www.domain.com.au/96-hikari-crescent-cranbourne-south-vic-3977-16048838\n",
      "'props'\n"
     ]
    },
    {
     "name": "stderr",
     "output_type": "stream",
     "text": [
      " 38%|████████████████████████████▋                                               | 6281/16624 [50:03<1:03:06,  2.73it/s]"
     ]
    },
    {
     "name": "stdout",
     "output_type": "stream",
     "text": [
      "Redirected:  6280 https://www.domain.com.au/6-elizabeth-street-stawell-vic-3380-16048819\n",
      "'props'\n"
     ]
    },
    {
     "name": "stderr",
     "output_type": "stream",
     "text": [
      " 38%|████████████████████████████▊                                               | 6294/16624 [50:09<1:12:53,  2.36it/s]"
     ]
    },
    {
     "name": "stdout",
     "output_type": "stream",
     "text": [
      "Redirected:  6293 https://www.domain.com.au/108-227-st-georges-road-northcote-vic-3070-16048771\n",
      "'listingSummary'\n"
     ]
    },
    {
     "name": "stderr",
     "output_type": "stream",
     "text": [
      " 38%|█████████████████████████████▋                                                | 6321/16624 [50:22<57:55,  2.96it/s]"
     ]
    },
    {
     "name": "stdout",
     "output_type": "stream",
     "text": [
      "Redirected:  6320 https://www.domain.com.au/2215-70-southbank-boulevard-southbank-vic-3006-16048683\n",
      "'props'\n"
     ]
    },
    {
     "name": "stderr",
     "output_type": "stream",
     "text": [
      " 38%|█████████████████████████████▋                                                | 6323/16624 [50:22<49:48,  3.45it/s]"
     ]
    },
    {
     "name": "stdout",
     "output_type": "stream",
     "text": [
      "Redirected:  6322 https://www.domain.com.au/2012-63-whiteman-street-southbank-vic-3006-16048670\n",
      "'props'\n"
     ]
    },
    {
     "name": "stderr",
     "output_type": "stream",
     "text": [
      " 38%|█████████████████████████████                                               | 6354/16624 [50:37<1:42:27,  1.67it/s]"
     ]
    },
    {
     "name": "stdout",
     "output_type": "stream",
     "text": [
      "Redirected:  6354 https://www.domain.com.au/19-huntingdale-street-brighton-vic-3186-16048566\n"
     ]
    },
    {
     "name": "stderr",
     "output_type": "stream",
     "text": [
      "\r",
      " 38%|█████████████████████████████                                               | 6355/16624 [50:38<1:42:46,  1.67it/s]"
     ]
    },
    {
     "name": "stdout",
     "output_type": "stream",
     "text": [
      "Redirected:  6355 https://www.domain.com.au/box-hill-vic-3128-16048565\n"
     ]
    },
    {
     "name": "stderr",
     "output_type": "stream",
     "text": [
      " 38%|█████████████████████████████▏                                              | 6390/16624 [50:55<1:14:00,  2.30it/s]"
     ]
    },
    {
     "name": "stdout",
     "output_type": "stream",
     "text": [
      "Redirected:  6390 https://www.domain.com.au/11-71-barkly-st-mordialloc-vic-3195-16048478\n"
     ]
    },
    {
     "name": "stderr",
     "output_type": "stream",
     "text": [
      " 39%|█████████████████████████████▍                                              | 6451/16624 [51:24<1:25:43,  1.98it/s]"
     ]
    },
    {
     "name": "stdout",
     "output_type": "stream",
     "text": [
      "Redirected:  6451 https://www.domain.com.au/32-jessie-st-richmond-vic-3121-16044369\n"
     ]
    },
    {
     "name": "stderr",
     "output_type": "stream",
     "text": [
      " 39%|█████████████████████████████▌                                              | 6473/16624 [51:34<1:07:16,  2.51it/s]"
     ]
    },
    {
     "name": "stdout",
     "output_type": "stream",
     "text": [
      "Redirected:  6472 https://www.domain.com.au/1-293-buckley-st-essendon-vic-3040-13810790\n",
      "'props'\n"
     ]
    },
    {
     "name": "stderr",
     "output_type": "stream",
     "text": [
      " 39%|█████████████████████████████▋                                              | 6481/16624 [51:39<1:10:50,  2.39it/s]"
     ]
    },
    {
     "name": "stdout",
     "output_type": "stream",
     "text": [
      "Redirected:  6480 https://www.domain.com.au/11-436-geelong-road-west-footscray-vic-3012-16048132\n",
      "'props'\n"
     ]
    },
    {
     "name": "stderr",
     "output_type": "stream",
     "text": [
      " 39%|█████████████████████████████▊                                              | 6527/16624 [52:00<1:13:56,  2.28it/s]"
     ]
    },
    {
     "name": "stdout",
     "output_type": "stream",
     "text": [
      "Redirected:  6527 https://www.domain.com.au/6-151-fitzroy-street-st-kilda-vic-3182-15960897\n"
     ]
    },
    {
     "name": "stderr",
     "output_type": "stream",
     "text": [
      " 39%|█████████████████████████████▉                                              | 6543/16624 [52:07<1:02:12,  2.70it/s]"
     ]
    },
    {
     "name": "stdout",
     "output_type": "stream",
     "text": [
      "Redirected:  6542 https://www.domain.com.au/201-64-macaulay-road-north-melbourne-vic-3051-16047959\n",
      "'props'\n"
     ]
    },
    {
     "name": "stderr",
     "output_type": "stream",
     "text": [
      " 40%|██████████████████████████████                                              | 6580/16624 [52:25<1:11:10,  2.35it/s]"
     ]
    },
    {
     "name": "stdout",
     "output_type": "stream",
     "text": [
      "Redirected:  6580 https://www.domain.com.au/98-bostock-street-warrnambool-vic-3280-16047788\n"
     ]
    },
    {
     "name": "stderr",
     "output_type": "stream",
     "text": [
      " 40%|███████████████████████████████▎                                              | 6662/16624 [53:06<57:47,  2.87it/s]"
     ]
    },
    {
     "name": "stdout",
     "output_type": "stream",
     "text": [
      "Redirected:  6661 https://www.domain.com.au/903-lydiard-st-n-ballarat-north-vic-3350-16047530\n",
      "'props'\n"
     ]
    },
    {
     "name": "stderr",
     "output_type": "stream",
     "text": [
      " 40%|██████████████████████████████▍                                             | 6671/16624 [53:10<1:00:52,  2.72it/s]"
     ]
    },
    {
     "name": "stdout",
     "output_type": "stream",
     "text": [
      "Redirected:  6670 https://www.domain.com.au/1880-westernport-road-ripplebrook-vic-3818-16047492\n",
      "'props'\n"
     ]
    },
    {
     "name": "stderr",
     "output_type": "stream",
     "text": [
      " 40%|██████████████████████████████▌                                             | 6679/16624 [53:13<1:01:15,  2.71it/s]"
     ]
    },
    {
     "name": "stdout",
     "output_type": "stream",
     "text": [
      "Redirected:  6678 https://www.domain.com.au/8-harvey-court-roxburgh-park-vic-3064-16047471\n",
      "'props'\n"
     ]
    },
    {
     "name": "stderr",
     "output_type": "stream",
     "text": [
      " 40%|██████████████████████████████▌                                             | 6684/16624 [53:15<1:00:44,  2.73it/s]"
     ]
    },
    {
     "name": "stdout",
     "output_type": "stream",
     "text": [
      "Redirected:  6683 https://www.domain.com.au/1-35-wilgah-st-st-kilda-east-vic-3183-15695571\n",
      "'props'\n"
     ]
    },
    {
     "name": "stderr",
     "output_type": "stream",
     "text": [
      " 40%|██████████████████████████████▋                                             | 6701/16624 [53:26<1:15:58,  2.18it/s]"
     ]
    },
    {
     "name": "stdout",
     "output_type": "stream",
     "text": [
      "Redirected:  6700 https://www.domain.com.au/4706-60-kavanagh-street-southbank-vic-3006-16047391\n",
      "'props'\n"
     ]
    },
    {
     "name": "stderr",
     "output_type": "stream",
     "text": [
      " 40%|██████████████████████████████▋                                             | 6703/16624 [53:27<1:13:23,  2.25it/s]"
     ]
    },
    {
     "name": "stdout",
     "output_type": "stream",
     "text": [
      "Redirected:  6702 https://www.domain.com.au/2812-601-little-lonsdale-street-melbourne-vic-3000-16047388\n",
      "'props'\n"
     ]
    },
    {
     "name": "stderr",
     "output_type": "stream",
     "text": [
      " 40%|██████████████████████████████▋                                             | 6724/16624 [53:38<1:18:24,  2.10it/s]"
     ]
    },
    {
     "name": "stdout",
     "output_type": "stream",
     "text": [
      "Redirected:  6723 https://www.domain.com.au/904n-229-toorak-road-south-yarra-vic-3141-11309148\n",
      "'listingSummary'\n"
     ]
    },
    {
     "name": "stderr",
     "output_type": "stream",
     "text": [
      " 40%|██████████████████████████████▋                                             | 6726/16624 [53:39<1:17:09,  2.14it/s]"
     ]
    },
    {
     "name": "stdout",
     "output_type": "stream",
     "text": [
      "Redirected:  6725 https://www.domain.com.au/212-416a-st-kilda-road-melbourne-vic-3004-16047316\n",
      "'props'\n"
     ]
    },
    {
     "name": "stderr",
     "output_type": "stream",
     "text": [
      " 40%|██████████████████████████████▊                                             | 6731/16624 [53:42<1:31:18,  1.81it/s]"
     ]
    },
    {
     "name": "stdout",
     "output_type": "stream",
     "text": [
      "Redirected:  6731 https://www.domain.com.au/201-116-leake-street-essendon-vic-3040-16047298\n"
     ]
    },
    {
     "name": "stderr",
     "output_type": "stream",
     "text": [
      " 41%|██████████████████████████████▊                                             | 6745/16624 [53:49<1:18:13,  2.11it/s]"
     ]
    },
    {
     "name": "stdout",
     "output_type": "stream",
     "text": [
      "Redirected:  6745 https://www.domain.com.au/20a-cavehill-road-lilydale-vic-3140-15239553\n"
     ]
    },
    {
     "name": "stderr",
     "output_type": "stream",
     "text": [
      " 41%|██████████████████████████████▊                                             | 6749/16624 [53:51<1:13:23,  2.24it/s]"
     ]
    },
    {
     "name": "stdout",
     "output_type": "stream",
     "text": [
      "Redirected:  6748 https://www.domain.com.au/2-49-valencia-st-glenroy-vic-3046-16047132\n",
      "'props'\n"
     ]
    },
    {
     "name": "stderr",
     "output_type": "stream",
     "text": [
      " 41%|██████████████████████████████▉                                             | 6771/16624 [54:01<1:11:00,  2.31it/s]"
     ]
    },
    {
     "name": "stdout",
     "output_type": "stream",
     "text": [
      "Redirected:  6771 https://www.domain.com.au/238a-were-street-brighton-east-vic-3187-16047072\n"
     ]
    },
    {
     "name": "stderr",
     "output_type": "stream",
     "text": [
      " 41%|███████████████████████████████                                             | 6799/16624 [54:16<1:21:28,  2.01it/s]"
     ]
    },
    {
     "name": "stdout",
     "output_type": "stream",
     "text": [
      "Redirected:  6798 https://www.domain.com.au/2804-245-city-road-southbank-vic-3006-16046962\n",
      "'props'\n"
     ]
    },
    {
     "name": "stderr",
     "output_type": "stream",
     "text": [
      " 41%|███████████████████████████████                                             | 6806/16624 [54:19<1:26:15,  1.90it/s]"
     ]
    },
    {
     "name": "stdout",
     "output_type": "stream",
     "text": [
      "Redirected:  6806 https://www.domain.com.au/1507e-888-little-collins-street-docklands-vic-3008-16046909\n"
     ]
    },
    {
     "name": "stderr",
     "output_type": "stream",
     "text": [
      " 41%|███████████████████████████████▎                                            | 6845/16624 [54:42<1:19:59,  2.04it/s]"
     ]
    },
    {
     "name": "stdout",
     "output_type": "stream",
     "text": [
      "Redirected:  6845 https://www.domain.com.au/2-22-albert-street-brunswick-east-vic-3057-16046766\n"
     ]
    },
    {
     "name": "stderr",
     "output_type": "stream",
     "text": [
      " 41%|███████████████████████████████▎                                            | 6861/16624 [54:50<1:07:03,  2.43it/s]"
     ]
    },
    {
     "name": "stdout",
     "output_type": "stream",
     "text": [
      "Redirected:  6860 https://www.domain.com.au/107c-11-shamrock-street-abbotsford-vic-3067-16046712\n",
      "'listingSummary'\n"
     ]
    },
    {
     "name": "stderr",
     "output_type": "stream",
     "text": [
      " 41%|███████████████████████████████▍                                            | 6874/16624 [54:57<1:02:57,  2.58it/s]"
     ]
    },
    {
     "name": "stdout",
     "output_type": "stream",
     "text": [
      "Redirected:  6873 https://www.domain.com.au/4-molbray-street-wendouree-vic-3355-16046628\n",
      "'props'\n"
     ]
    },
    {
     "name": "stderr",
     "output_type": "stream",
     "text": [
      " 41%|███████████████████████████████▍                                            | 6876/16624 [54:58<1:12:55,  2.23it/s]"
     ]
    },
    {
     "name": "stdout",
     "output_type": "stream",
     "text": [
      "Redirected:  6875 https://www.domain.com.au/4413-560-lonsdale-street-melbourne-vic-3000-16046622\n",
      "'props'\n"
     ]
    },
    {
     "name": "stderr",
     "output_type": "stream",
     "text": [
      " 41%|███████████████████████████████▍                                            | 6882/16624 [55:01<1:06:43,  2.43it/s]"
     ]
    },
    {
     "name": "stdout",
     "output_type": "stream",
     "text": [
      "Redirected:  6881 https://www.domain.com.au/21-14-campus-gate-chirnside-park-vic-3116-16046603\n",
      "'listingSummary'\n"
     ]
    },
    {
     "name": "stderr",
     "output_type": "stream",
     "text": [
      " 41%|███████████████████████████████▍                                            | 6886/16624 [55:04<2:35:04,  1.05it/s]"
     ]
    },
    {
     "name": "stdout",
     "output_type": "stream",
     "text": [
      "Redirected:  6886 https://www.domain.com.au/a-14-gunyah-road-blackburn-north-vic-3130-16046580\n"
     ]
    },
    {
     "name": "stderr",
     "output_type": "stream",
     "text": [
      " 41%|███████████████████████████████▍                                            | 6890/16624 [55:07<1:58:11,  1.37it/s]"
     ]
    },
    {
     "name": "stdout",
     "output_type": "stream",
     "text": [
      "Redirected:  6889 https://www.domain.com.au/402-rodier-street-canadian-vic-3350-16046560\n",
      "'props'\n"
     ]
    },
    {
     "name": "stderr",
     "output_type": "stream",
     "text": [
      " 41%|███████████████████████████████▌                                            | 6892/16624 [55:09<2:11:38,  1.23it/s]"
     ]
    },
    {
     "name": "stdout",
     "output_type": "stream",
     "text": [
      "Redirected:  6892 https://www.domain.com.au/8-st-finbars-crescent-brighton-vic-3186-16046548\n"
     ]
    },
    {
     "name": "stderr",
     "output_type": "stream",
     "text": [
      " 42%|███████████████████████████████▌                                            | 6905/16624 [55:15<1:12:51,  2.22it/s]"
     ]
    },
    {
     "name": "stdout",
     "output_type": "stream",
     "text": [
      "Redirected:  6905 https://www.domain.com.au/82-bryant-street-kensington-vic-3031-16046484\n"
     ]
    },
    {
     "name": "stderr",
     "output_type": "stream",
     "text": [
      " 42%|███████████████████████████████▋                                            | 6921/16624 [55:26<1:49:27,  1.48it/s]"
     ]
    },
    {
     "name": "stdout",
     "output_type": "stream",
     "text": [
      "Redirected:  6920 https://www.domain.com.au/130-moore-road-sunbury-vic-3429-16046423\n",
      "'props'\n"
     ]
    },
    {
     "name": "stderr",
     "output_type": "stream",
     "text": [
      " 42%|███████████████████████████████▋                                            | 6941/16624 [55:36<1:30:08,  1.79it/s]"
     ]
    },
    {
     "name": "stdout",
     "output_type": "stream",
     "text": [
      "Redirected:  6940 https://www.domain.com.au/91-settlement-road-belmont-vic-3216-16046367\n",
      "'props'\n"
     ]
    },
    {
     "name": "stderr",
     "output_type": "stream",
     "text": [
      " 42%|███████████████████████████████▊                                            | 6951/16624 [55:42<1:36:56,  1.66it/s]"
     ]
    },
    {
     "name": "stdout",
     "output_type": "stream",
     "text": [
      "'NoneType' object is not subscriptable\n"
     ]
    },
    {
     "name": "stderr",
     "output_type": "stream",
     "text": [
      " 42%|███████████████████████████████▊                                            | 6957/16624 [55:45<1:15:45,  2.13it/s]"
     ]
    },
    {
     "name": "stdout",
     "output_type": "stream",
     "text": [
      "Redirected:  6956 https://www.domain.com.au/2865-princes-highway-garfield-vic-3814-16046315\n",
      "'props'\n"
     ]
    },
    {
     "name": "stderr",
     "output_type": "stream",
     "text": [
      "\r",
      " 42%|███████████████████████████████▊                                            | 6958/16624 [55:45<1:05:37,  2.46it/s]"
     ]
    },
    {
     "name": "stdout",
     "output_type": "stream",
     "text": [
      "Redirected:  6957 https://www.domain.com.au/409-127-leicester-street-carlton-vic-3053-8647794\n",
      "'props'\n"
     ]
    },
    {
     "name": "stderr",
     "output_type": "stream",
     "text": [
      " 42%|███████████████████████████████▊                                            | 6964/16624 [55:48<1:17:45,  2.07it/s]"
     ]
    },
    {
     "name": "stdout",
     "output_type": "stream",
     "text": [
      "Redirected:  6964 https://www.domain.com.au/3-211-esplanade-west-port-melbourne-vic-3207-16046297\n"
     ]
    },
    {
     "name": "stderr",
     "output_type": "stream",
     "text": [
      " 42%|███████████████████████████████▉                                            | 6983/16624 [55:58<1:15:18,  2.13it/s]"
     ]
    },
    {
     "name": "stdout",
     "output_type": "stream",
     "text": [
      "Redirected:  6982 https://www.domain.com.au/7-8-10-martin-street-thornbury-vic-3071-16046250\n",
      "'props'\n"
     ]
    },
    {
     "name": "stderr",
     "output_type": "stream",
     "text": [
      " 42%|████████████████████████████████                                            | 7005/16624 [56:10<1:23:37,  1.92it/s]"
     ]
    },
    {
     "name": "stdout",
     "output_type": "stream",
     "text": [
      "Redirected:  7005 https://www.domain.com.au/12-belle-vue-balwyn-north-vic-3104-16046183\n"
     ]
    },
    {
     "name": "stderr",
     "output_type": "stream",
     "text": [
      " 42%|████████████████████████████████▏                                           | 7027/16624 [56:20<1:20:14,  1.99it/s]"
     ]
    },
    {
     "name": "stdout",
     "output_type": "stream",
     "text": [
      "Redirected:  7026 https://www.domain.com.au/2413-220-spencer-street-melbourne-vic-3000-16046123\n",
      "'props'\n"
     ]
    },
    {
     "name": "stderr",
     "output_type": "stream",
     "text": [
      " 42%|████████████████████████████████▏                                           | 7030/16624 [56:23<1:39:23,  1.61it/s]"
     ]
    },
    {
     "name": "stdout",
     "output_type": "stream",
     "text": [
      "Redirected:  7029 https://www.domain.com.au/215b-9-village-ave-brunswick-east-vic-3057-15843331\n",
      "'listingSummary'\n"
     ]
    },
    {
     "name": "stderr",
     "output_type": "stream",
     "text": [
      " 42%|████████████████████████████████▏                                           | 7039/16624 [56:27<1:09:31,  2.30it/s]"
     ]
    },
    {
     "name": "stdout",
     "output_type": "stream",
     "text": [
      "Redirected:  7038 https://www.domain.com.au/85-chatsworth-road-prahran-vic-3181-16046097\n",
      "'props'\n"
     ]
    },
    {
     "name": "stderr",
     "output_type": "stream",
     "text": [
      " 43%|████████████████████████████████▎                                           | 7074/16624 [56:44<1:20:44,  1.97it/s]"
     ]
    },
    {
     "name": "stdout",
     "output_type": "stream",
     "text": [
      "Redirected:  7074 https://www.domain.com.au/330a-young-street-fitzroy-vic-3065-16046005\n"
     ]
    },
    {
     "name": "stderr",
     "output_type": "stream",
     "text": [
      " 43%|█████████████████████████████████▏                                            | 7080/16624 [56:47<46:41,  3.41it/s]"
     ]
    },
    {
     "name": "stdout",
     "output_type": "stream",
     "text": [
      "Redirected:  7078 https://www.domain.com.au/211-255-cardigan-street-carlton-vic-3053-8648094\n",
      "'props'\n",
      "Redirected:  7079 https://www.domain.com.au/126-holden-street-fitzroy-north-vic-3068-16045993\n",
      "'props'\n"
     ]
    },
    {
     "name": "stderr",
     "output_type": "stream",
     "text": [
      " 43%|████████████████████████████████▍                                           | 7108/16624 [57:02<1:38:36,  1.61it/s]"
     ]
    },
    {
     "name": "stdout",
     "output_type": "stream",
     "text": [
      "Redirected:  7107 https://www.domain.com.au/21-hermitage-parade-derrimut-vic-3026-16045904\n",
      "'props'\n"
     ]
    },
    {
     "name": "stderr",
     "output_type": "stream",
     "text": [
      " 43%|████████████████████████████████▌                                           | 7117/16624 [57:06<1:03:56,  2.48it/s]"
     ]
    },
    {
     "name": "stdout",
     "output_type": "stream",
     "text": [
      "Redirected:  7116 https://www.domain.com.au/3-15-peter-street-box-hill-north-vic-3129-16045882\n",
      "'props'\n"
     ]
    },
    {
     "name": "stderr",
     "output_type": "stream",
     "text": [
      " 43%|████████████████████████████████▋                                           | 7145/16624 [57:21<1:55:19,  1.37it/s]"
     ]
    },
    {
     "name": "stdout",
     "output_type": "stream",
     "text": [
      "'NoneType' object is not subscriptable\n"
     ]
    },
    {
     "name": "stderr",
     "output_type": "stream",
     "text": [
      " 43%|████████████████████████████████▋                                           | 7155/16624 [57:25<1:10:24,  2.24it/s]"
     ]
    },
    {
     "name": "stdout",
     "output_type": "stream",
     "text": [
      "Redirected:  7155 https://www.domain.com.au/90-nickson-street-bundoora-vic-3083-14593787\n"
     ]
    },
    {
     "name": "stderr",
     "output_type": "stream",
     "text": [
      " 43%|████████████████████████████████▋                                           | 7161/16624 [57:30<1:36:46,  1.63it/s]"
     ]
    },
    {
     "name": "stdout",
     "output_type": "stream",
     "text": [
      "Redirected:  7161 https://www.domain.com.au/2-30-nariel-road-st-albans-vic-3021-16045731\n"
     ]
    },
    {
     "name": "stderr",
     "output_type": "stream",
     "text": [
      " 43%|████████████████████████████████▊                                           | 7175/16624 [57:36<1:11:02,  2.22it/s]"
     ]
    },
    {
     "name": "stdout",
     "output_type": "stream",
     "text": [
      "Redirected:  7174 https://www.domain.com.au/1-14-chapman-drive-wyndham-vale-vic-3024-12842340\n",
      "'props'\n"
     ]
    },
    {
     "name": "stderr",
     "output_type": "stream",
     "text": [
      " 43%|████████████████████████████████▊                                           | 7182/16624 [57:40<1:11:21,  2.21it/s]"
     ]
    },
    {
     "name": "stdout",
     "output_type": "stream",
     "text": [
      "Redirected:  7181 https://www.domain.com.au/202-15-bond-street-caulfield-north-vic-3161-16045675\n",
      "'props'\n"
     ]
    },
    {
     "name": "stderr",
     "output_type": "stream",
     "text": [
      " 43%|████████████████████████████████▉                                           | 7191/16624 [57:44<1:00:32,  2.60it/s]"
     ]
    },
    {
     "name": "stdout",
     "output_type": "stream",
     "text": [
      "Redirected:  7190 https://www.domain.com.au/1-29-hopwood-street-echuca-vic-3564-15801627\n",
      "'props'\n"
     ]
    },
    {
     "name": "stderr",
     "output_type": "stream",
     "text": [
      " 43%|████████████████████████████████▉                                           | 7202/16624 [57:48<1:14:00,  2.12it/s]"
     ]
    },
    {
     "name": "stdout",
     "output_type": "stream",
     "text": [
      "Redirected:  7201 https://www.domain.com.au/3-queen-st-cobram-vic-3644-16045613\n",
      "'listingSummary'\n"
     ]
    },
    {
     "name": "stderr",
     "output_type": "stream",
     "text": [
      " 43%|████████████████████████████████▉                                           | 7213/16624 [57:55<1:27:04,  1.80it/s]"
     ]
    },
    {
     "name": "stdout",
     "output_type": "stream",
     "text": [
      "Redirected:  7213 https://www.domain.com.au/4-morey-street-wonthaggi-vic-3995-16045570\n"
     ]
    },
    {
     "name": "stderr",
     "output_type": "stream",
     "text": [
      " 44%|█████████████████████████████████▏                                          | 7249/16624 [58:13<1:24:45,  1.84it/s]"
     ]
    },
    {
     "name": "stdout",
     "output_type": "stream",
     "text": [
      "Redirected:  7249 https://www.domain.com.au/brunswick-vic-3056-16045460\n"
     ]
    },
    {
     "name": "stderr",
     "output_type": "stream",
     "text": [
      " 44%|█████████████████████████████████▎                                          | 7273/16624 [58:25<1:29:09,  1.75it/s]"
     ]
    },
    {
     "name": "stdout",
     "output_type": "stream",
     "text": [
      "Redirected:  7272 https://www.domain.com.au/14-railway-avenue-donnybrook-vic-3064-15363560\n",
      "'props'\n"
     ]
    },
    {
     "name": "stderr",
     "output_type": "stream",
     "text": [
      " 44%|█████████████████████████████████▎                                          | 7279/16624 [58:28<1:01:26,  2.53it/s]"
     ]
    },
    {
     "name": "stdout",
     "output_type": "stream",
     "text": [
      "Redirected:  7278 https://www.domain.com.au/1110-12-queens-road-melbourne-vic-3004-16045352\n",
      "'props'\n"
     ]
    },
    {
     "name": "stderr",
     "output_type": "stream",
     "text": [
      " 44%|██████████████████████████████████▏                                           | 7289/16624 [58:33<59:12,  2.63it/s]"
     ]
    },
    {
     "name": "stdout",
     "output_type": "stream",
     "text": [
      "Redirected:  7288 https://www.domain.com.au/708-1-almeida-crescent-south-yarra-vic-3141-13259916\n",
      "'props'\n"
     ]
    },
    {
     "name": "stderr",
     "output_type": "stream",
     "text": [
      " 44%|█████████████████████████████████▍                                          | 7322/16624 [58:50<1:25:37,  1.81it/s]"
     ]
    },
    {
     "name": "stdout",
     "output_type": "stream",
     "text": [
      "Redirected:  7321 https://www.domain.com.au/1-356-maroondah-highway-ringwood-vic-3134-16045216\n",
      "'props'\n"
     ]
    },
    {
     "name": "stderr",
     "output_type": "stream",
     "text": [
      " 44%|█████████████████████████████████▌                                          | 7353/16624 [59:05<1:04:02,  2.41it/s]"
     ]
    },
    {
     "name": "stdout",
     "output_type": "stream",
     "text": [
      "Redirected:  7353 https://www.domain.com.au/20-macquarie-court-cranbourne-north-vic-3977-16045126\n"
     ]
    },
    {
     "name": "stderr",
     "output_type": "stream",
     "text": [
      " 44%|█████████████████████████████████▋                                          | 7361/16624 [59:09<1:12:57,  2.12it/s]"
     ]
    },
    {
     "name": "stdout",
     "output_type": "stream",
     "text": [
      "Redirected:  7360 https://www.domain.com.au/11-120-sturt-st-southbank-vic-3006-16045115\n",
      "'props'\n"
     ]
    },
    {
     "name": "stderr",
     "output_type": "stream",
     "text": [
      " 45%|█████████████████████████████████▊                                          | 7405/16624 [59:29<1:05:58,  2.33it/s]"
     ]
    },
    {
     "name": "stdout",
     "output_type": "stream",
     "text": [
      "Redirected:  7405 https://www.domain.com.au/5-499-high-street-kew-vic-3101-16044814\n"
     ]
    },
    {
     "name": "stderr",
     "output_type": "stream",
     "text": [
      " 45%|█████████████████████████████████▉                                          | 7414/16624 [59:34<1:16:33,  2.00it/s]"
     ]
    },
    {
     "name": "stdout",
     "output_type": "stream",
     "text": [
      "Redirected:  7414 https://www.domain.com.au/41-43-dublin-road-ringwood-east-vic-3135-16044720\n"
     ]
    },
    {
     "name": "stderr",
     "output_type": "stream",
     "text": [
      " 45%|█████████████████████████████████▉                                          | 7420/16624 [59:38<1:35:18,  1.61it/s]"
     ]
    },
    {
     "name": "stdout",
     "output_type": "stream",
     "text": [
      "Redirected:  7420 https://www.domain.com.au/6-65-71-clarence-street-elsternwick-vic-3185-16039179\n"
     ]
    },
    {
     "name": "stderr",
     "output_type": "stream",
     "text": [
      " 45%|██████████████████████████████████                                          | 7438/16624 [59:46<1:05:57,  2.32it/s]"
     ]
    },
    {
     "name": "stdout",
     "output_type": "stream",
     "text": [
      "Redirected:  7437 https://www.domain.com.au/267-inkerman-street-st-kilda-east-vic-3183-16044635\n",
      "'props'\n"
     ]
    },
    {
     "name": "stderr",
     "output_type": "stream",
     "text": [
      " 45%|██████████████████████████████████                                          | 7442/16624 [59:48<1:14:01,  2.07it/s]"
     ]
    },
    {
     "name": "stdout",
     "output_type": "stream",
     "text": [
      "Redirected:  7442 https://www.domain.com.au/902-199-william-st-west-melbourne-vic-3003-16044565\n"
     ]
    },
    {
     "name": "stderr",
     "output_type": "stream",
     "text": [
      " 45%|███████████████████████████████████                                           | 7463/16624 [59:58<56:15,  2.71it/s]"
     ]
    },
    {
     "name": "stdout",
     "output_type": "stream",
     "text": [
      "Redirected:  7462 https://www.domain.com.au/2-58-miranda-road-reservoir-vic-3073-14229962\n",
      "'props'\n"
     ]
    },
    {
     "name": "stderr",
     "output_type": "stream",
     "text": [
      " 45%|██████████████████████████████████▏                                         | 7482/16624 [1:00:06<48:46,  3.12it/s]"
     ]
    },
    {
     "name": "stdout",
     "output_type": "stream",
     "text": [
      "Redirected:  7481 https://www.domain.com.au/73-whiteleaf-drive-mickleham-vic-3064-16044419\n",
      "'props'\n"
     ]
    },
    {
     "name": "stderr",
     "output_type": "stream",
     "text": [
      " 45%|█████████████████████████████████▎                                        | 7496/16624 [1:00:13<1:06:57,  2.27it/s]"
     ]
    },
    {
     "name": "stdout",
     "output_type": "stream",
     "text": [
      "Redirected:  7495 https://www.domain.com.au/301-21-collins-street-chadstone-vic-3148-16044379\n",
      "'props'\n"
     ]
    },
    {
     "name": "stderr",
     "output_type": "stream",
     "text": [
      " 45%|█████████████████████████████████▍                                        | 7506/16624 [1:00:17<1:06:59,  2.27it/s]"
     ]
    },
    {
     "name": "stdout",
     "output_type": "stream",
     "text": [
      "Redirected:  7506 https://www.domain.com.au/level-31-3101-31-abeckett-street-melbourne-vic-3000-16044335\n"
     ]
    },
    {
     "name": "stderr",
     "output_type": "stream",
     "text": [
      " 45%|█████████████████████████████████▍                                        | 7509/16624 [1:00:19<1:12:06,  2.11it/s]"
     ]
    },
    {
     "name": "stdout",
     "output_type": "stream",
     "text": [
      "Redirected:  7509 https://www.domain.com.au/25-1072-whitehorse-road-box-hill-vic-3128-16044326\n"
     ]
    },
    {
     "name": "stderr",
     "output_type": "stream",
     "text": [
      " 45%|██████████████████████████████████▎                                         | 7516/16624 [1:00:21<55:07,  2.75it/s]"
     ]
    },
    {
     "name": "stdout",
     "output_type": "stream",
     "text": [
      "Redirected:  7515 https://www.domain.com.au/28-laura-st-brunswick-vic-3056-16044304\n",
      "'props'\n"
     ]
    },
    {
     "name": "stderr",
     "output_type": "stream",
     "text": [
      " 45%|█████████████████████████████████▌                                        | 7537/16624 [1:00:34<1:23:31,  1.81it/s]"
     ]
    },
    {
     "name": "stdout",
     "output_type": "stream",
     "text": [
      "Redirected:  7536 https://www.domain.com.au/36-collett-street-kensington-vic-3031-16018079\n",
      "'props'\n"
     ]
    },
    {
     "name": "stderr",
     "output_type": "stream",
     "text": [
      " 45%|█████████████████████████████████▌                                        | 7540/16624 [1:00:36<1:41:19,  1.49it/s]"
     ]
    },
    {
     "name": "stdout",
     "output_type": "stream",
     "text": [
      "Redirected:  7539 https://www.domain.com.au/10-faulkner-court-eastwood-vic-3875-16044240\n",
      "'props'\n"
     ]
    },
    {
     "name": "stderr",
     "output_type": "stream",
     "text": [
      " 45%|█████████████████████████████████▌                                        | 7552/16624 [1:00:42<1:04:03,  2.36it/s]"
     ]
    },
    {
     "name": "stdout",
     "output_type": "stream",
     "text": [
      "Redirected:  7551 https://www.domain.com.au/20-lexington-square-sandhurst-vic-3977-8822236\n",
      "'listingSummary'\n"
     ]
    },
    {
     "name": "stderr",
     "output_type": "stream",
     "text": [
      " 46%|██████████████████████████████████▌                                         | 7565/16624 [1:00:48<59:16,  2.55it/s]"
     ]
    },
    {
     "name": "stdout",
     "output_type": "stream",
     "text": [
      "Redirected:  7564 https://www.domain.com.au/209-500-flinders-street-melbourne-vic-3000-16044137\n",
      "'props'\n"
     ]
    },
    {
     "name": "stderr",
     "output_type": "stream",
     "text": [
      " 46%|██████████████████████████████████▌                                         | 7572/16624 [1:00:51<45:07,  3.34it/s]"
     ]
    },
    {
     "name": "stdout",
     "output_type": "stream",
     "text": [
      "Redirected:  7570 https://www.domain.com.au/104a-eighth-st-mildura-vic-3500-16044140\n",
      "'props'\n",
      "Redirected:  7571 https://www.domain.com.au/90-ballantyne-street-thornbury-vic-3071-16044133\n",
      "'props'\n"
     ]
    },
    {
     "name": "stderr",
     "output_type": "stream",
     "text": [
      " 46%|██████████████████████████████████▋                                         | 7582/16624 [1:00:55<59:12,  2.55it/s]"
     ]
    },
    {
     "name": "stdout",
     "output_type": "stream",
     "text": [
      "Redirected:  7581 https://www.domain.com.au/806-250-city-road-southbank-vic-3006-16044097\n",
      "'props'\n"
     ]
    },
    {
     "name": "stderr",
     "output_type": "stream",
     "text": [
      " 46%|██████████████████████████████████▋                                         | 7589/16624 [1:00:58<49:25,  3.05it/s]"
     ]
    },
    {
     "name": "stdout",
     "output_type": "stream",
     "text": [
      "Redirected:  7588 https://www.domain.com.au/5-6-rockley-road-south-yarra-vic-3141-16044091\n",
      "'props'\n"
     ]
    },
    {
     "name": "stderr",
     "output_type": "stream",
     "text": [
      " 46%|█████████████████████████████████▉                                        | 7635/16624 [1:01:20<1:18:25,  1.91it/s]"
     ]
    },
    {
     "name": "stdout",
     "output_type": "stream",
     "text": [
      "Redirected:  7635 https://www.domain.com.au/516-551-swanston-street-carlton-vic-3053-16043931\n"
     ]
    },
    {
     "name": "stderr",
     "output_type": "stream",
     "text": [
      " 46%|██████████████████████████████████▉                                         | 7637/16624 [1:01:21<58:14,  2.57it/s]"
     ]
    },
    {
     "name": "stdout",
     "output_type": "stream",
     "text": [
      "'listingSummary'\n",
      "Redirected:  7636 https://www.domain.com.au/7406-70-southbank-boulevard-southbank-vic-3006-16043930\n",
      "'props'\n"
     ]
    },
    {
     "name": "stderr",
     "output_type": "stream",
     "text": [
      " 46%|██████████████████████████████████▉                                         | 7649/16624 [1:01:25<56:34,  2.64it/s]"
     ]
    },
    {
     "name": "stdout",
     "output_type": "stream",
     "text": [
      "Redirected:  7648 https://www.domain.com.au/97-diamond-parade-skye-vic-3977-12217973\n",
      "'props'\n"
     ]
    },
    {
     "name": "stderr",
     "output_type": "stream",
     "text": [
      " 46%|██████████████████████████████████▉                                         | 7651/16624 [1:01:26<51:35,  2.90it/s]"
     ]
    },
    {
     "name": "stdout",
     "output_type": "stream",
     "text": [
      "Redirected:  7650 https://www.domain.com.au/706-593-elizabeth-street-melbourne-vic-3000-8640714\n",
      "'listingSummary'\n"
     ]
    },
    {
     "name": "stderr",
     "output_type": "stream",
     "text": [
      " 46%|██████████████████████████████████                                        | 7656/16624 [1:01:29<1:22:10,  1.82it/s]"
     ]
    },
    {
     "name": "stdout",
     "output_type": "stream",
     "text": [
      "'NoneType' object is not subscriptable\n"
     ]
    },
    {
     "name": "stderr",
     "output_type": "stream",
     "text": [
      " 46%|███████████████████████████████████                                         | 7658/16624 [1:01:29<57:13,  2.61it/s]"
     ]
    },
    {
     "name": "stdout",
     "output_type": "stream",
     "text": [
      "Redirected:  7657 https://www.domain.com.au/5-437-flemington-road-north-melbourne-vic-3051-16043843\n",
      "'props'\n"
     ]
    },
    {
     "name": "stderr",
     "output_type": "stream",
     "text": [
      " 46%|██████████████████████████████████▏                                       | 7667/16624 [1:01:34<1:13:38,  2.03it/s]"
     ]
    },
    {
     "name": "stdout",
     "output_type": "stream",
     "text": [
      "Redirected:  7666 https://www.domain.com.au/3-16-compton-st-reservoir-vic-3073-15990033\n",
      "'props'\n"
     ]
    },
    {
     "name": "stderr",
     "output_type": "stream",
     "text": [
      " 46%|██████████████████████████████████▎                                       | 7701/16624 [1:01:50<1:28:49,  1.67it/s]"
     ]
    },
    {
     "name": "stdout",
     "output_type": "stream",
     "text": [
      "Redirected:  7701 https://www.domain.com.au/3-3-sea-parade-mentone-vic-3194-16043737\n"
     ]
    },
    {
     "name": "stderr",
     "output_type": "stream",
     "text": [
      " 46%|███████████████████████████████████▎                                        | 7715/16624 [1:01:57<55:19,  2.68it/s]"
     ]
    },
    {
     "name": "stdout",
     "output_type": "stream",
     "text": [
      "Redirected:  7714 https://www.domain.com.au/7-wallara-waters-boulevard-wallan-vic-3756-16043669\n",
      "'props'\n"
     ]
    },
    {
     "name": "stderr",
     "output_type": "stream",
     "text": [
      " 46%|███████████████████████████████████▎                                        | 7718/16624 [1:01:58<52:41,  2.82it/s]"
     ]
    },
    {
     "name": "stdout",
     "output_type": "stream",
     "text": [
      "Redirected:  7717 https://www.domain.com.au/2-16-nicholas-street-newtown-vic-3220-16043657\n",
      "'props'\n"
     ]
    },
    {
     "name": "stderr",
     "output_type": "stream",
     "text": [
      " 47%|███████████████████████████████████▎                                        | 7731/16624 [1:02:03<54:07,  2.74it/s]"
     ]
    },
    {
     "name": "stdout",
     "output_type": "stream",
     "text": [
      "Redirected:  7730 https://www.domain.com.au/286-melbourne-road-newport-vic-3015-16043618\n",
      "'props'\n"
     ]
    },
    {
     "name": "stderr",
     "output_type": "stream",
     "text": [
      " 47%|███████████████████████████████████▍                                        | 7745/16624 [1:02:09<54:26,  2.72it/s]"
     ]
    },
    {
     "name": "stdout",
     "output_type": "stream",
     "text": [
      "Redirected:  7744 https://www.domain.com.au/25-narambi-crescent-frankston-vic-3199-16043570\n",
      "'props'\n"
     ]
    },
    {
     "name": "stderr",
     "output_type": "stream",
     "text": [
      " 47%|██████████████████████████████████▋                                       | 7780/16624 [1:02:26<1:04:24,  2.29it/s]"
     ]
    },
    {
     "name": "stdout",
     "output_type": "stream",
     "text": [
      "Redirected:  7780 https://www.domain.com.au/5-61-di-palma-place-bundoora-vic-3083-16043443\n"
     ]
    },
    {
     "name": "stderr",
     "output_type": "stream",
     "text": [
      " 47%|██████████████████████████████████▋                                       | 7801/16624 [1:02:37<1:09:07,  2.13it/s]"
     ]
    },
    {
     "name": "stdout",
     "output_type": "stream",
     "text": [
      "Redirected:  7801 https://www.domain.com.au/2-6-harrier-street-werribee-vic-3030-16043372\n"
     ]
    },
    {
     "name": "stderr",
     "output_type": "stream",
     "text": [
      " 47%|██████████████████████████████████▊                                       | 7830/16624 [1:02:50<1:04:26,  2.27it/s]"
     ]
    },
    {
     "name": "stdout",
     "output_type": "stream",
     "text": [
      "Redirected:  7830 https://www.domain.com.au/4-cowper-street-sandringham-vic-3191-16043282\n"
     ]
    },
    {
     "name": "stderr",
     "output_type": "stream",
     "text": [
      " 47%|███████████████████████████████████▉                                        | 7853/16624 [1:03:01<54:43,  2.67it/s]"
     ]
    },
    {
     "name": "stdout",
     "output_type": "stream",
     "text": [
      "Redirected:  7852 https://www.domain.com.au/4-lord-place-braybrook-vic-3019-16043198\n",
      "'props'\n"
     ]
    },
    {
     "name": "stderr",
     "output_type": "stream",
     "text": [
      " 47%|████████████████████████████████████                                        | 7875/16624 [1:03:10<54:27,  2.68it/s]"
     ]
    },
    {
     "name": "stdout",
     "output_type": "stream",
     "text": [
      "Redirected:  7874 https://www.domain.com.au/3-bona-street-ringwood-east-vic-3135-16043144\n",
      "'props'\n"
     ]
    },
    {
     "name": "stderr",
     "output_type": "stream",
     "text": [
      " 48%|████████████████████████████████████▏                                       | 7902/16624 [1:03:22<59:39,  2.44it/s]"
     ]
    },
    {
     "name": "stdout",
     "output_type": "stream",
     "text": [
      "Redirected:  7901 https://www.domain.com.au/108-490-elgar-road-box-hill-vic-3128-8640107\n",
      "'props'\n"
     ]
    },
    {
     "name": "stderr",
     "output_type": "stream",
     "text": [
      " 48%|████████████████████████████████████▎                                       | 7948/16624 [1:03:47<52:41,  2.74it/s]"
     ]
    },
    {
     "name": "stdout",
     "output_type": "stream",
     "text": [
      "Redirected:  7947 https://www.domain.com.au/28-howard-place-deer-park-vic-3023-15927446\n",
      "'props'\n"
     ]
    },
    {
     "name": "stderr",
     "output_type": "stream",
     "text": [
      " 48%|███████████████████████████████████▍                                      | 7973/16624 [1:03:59<1:00:00,  2.40it/s]"
     ]
    },
    {
     "name": "stdout",
     "output_type": "stream",
     "text": [
      "Redirected:  7973 https://www.domain.com.au/11-2-freeman-street-hawthorn-east-vic-3123-16042863\n"
     ]
    },
    {
     "name": "stderr",
     "output_type": "stream",
     "text": [
      " 48%|████████████████████████████████████▌                                       | 7996/16624 [1:04:09<52:46,  2.72it/s]"
     ]
    },
    {
     "name": "stdout",
     "output_type": "stream",
     "text": [
      "Redirected:  7995 https://www.domain.com.au/5-kinross-avenue-caulfield-north-vic-3161-16042796\n",
      "'props'\n"
     ]
    },
    {
     "name": "stderr",
     "output_type": "stream",
     "text": [
      " 48%|████████████████████████████████████▌                                       | 8004/16624 [1:04:12<57:30,  2.50it/s]"
     ]
    },
    {
     "name": "stdout",
     "output_type": "stream",
     "text": [
      "Redirected:  8004 https://www.domain.com.au/14-clays-court-doncaster-vic-3108-16042773\n"
     ]
    },
    {
     "name": "stderr",
     "output_type": "stream",
     "text": [
      " 48%|███████████████████████████████████▋                                      | 8008/16624 [1:04:14<1:09:42,  2.06it/s]"
     ]
    },
    {
     "name": "stdout",
     "output_type": "stream",
     "text": [
      "Redirected:  8008 https://www.domain.com.au/18-46-48-eucalyptus-drive-maidstone-vic-3012-16042755\n"
     ]
    },
    {
     "name": "stderr",
     "output_type": "stream",
     "text": [
      " 48%|███████████████████████████████████▋                                      | 8021/16624 [1:04:21<1:15:30,  1.90it/s]"
     ]
    },
    {
     "name": "stdout",
     "output_type": "stream",
     "text": [
      "Redirected:  8021 https://www.domain.com.au/312-23-market-street-nunawading-vic-3131-16042710\n"
     ]
    },
    {
     "name": "stderr",
     "output_type": "stream",
     "text": [
      "\r",
      " 48%|███████████████████████████████████▋                                      | 8022/16624 [1:04:21<1:16:23,  1.88it/s]"
     ]
    },
    {
     "name": "stdout",
     "output_type": "stream",
     "text": [
      "'listingSummary'\n"
     ]
    },
    {
     "name": "stderr",
     "output_type": "stream",
     "text": [
      " 48%|████████████████████████████████████▊                                       | 8040/16624 [1:04:30<52:38,  2.72it/s]"
     ]
    },
    {
     "name": "stdout",
     "output_type": "stream",
     "text": [
      "Redirected:  8039 https://www.domain.com.au/3-3-king-street-bayswater-vic-3153-15323542\n",
      "'props'\n"
     ]
    },
    {
     "name": "stderr",
     "output_type": "stream",
     "text": [
      " 48%|████████████████████████████████████▊                                       | 8050/16624 [1:04:34<52:29,  2.72it/s]"
     ]
    },
    {
     "name": "stdout",
     "output_type": "stream",
     "text": [
      "Redirected:  8049 https://www.domain.com.au/2211-181-abeckett-street-melbourne-vic-3000-16042638\n",
      "'props'\n"
     ]
    },
    {
     "name": "stderr",
     "output_type": "stream",
     "text": [
      " 48%|███████████████████████████████████▉                                      | 8061/16624 [1:04:40<1:46:12,  1.34it/s]"
     ]
    },
    {
     "name": "stdout",
     "output_type": "stream",
     "text": [
      "Redirected:  8060 https://www.domain.com.au/18-17-ellesmere-road-windsor-vic-3181-11615591\n",
      "'listingSummary'\n"
     ]
    },
    {
     "name": "stderr",
     "output_type": "stream",
     "text": [
      " 49%|████████████████████████████████████▉                                       | 8093/16624 [1:04:56<55:23,  2.57it/s]"
     ]
    },
    {
     "name": "stdout",
     "output_type": "stream",
     "text": [
      "Redirected:  8092 https://www.domain.com.au/5-77-elgar-road-burwood-vic-3125-13341741\n",
      "'props'\n"
     ]
    },
    {
     "name": "stderr",
     "output_type": "stream",
     "text": [
      " 49%|█████████████████████████████████████                                       | 8096/16624 [1:04:57<55:24,  2.57it/s]"
     ]
    },
    {
     "name": "stdout",
     "output_type": "stream",
     "text": [
      "Redirected:  8094 https://www.domain.com.au/2-young-street-horsham-vic-3400-16042522\n",
      "'props'\n",
      "Redirected:  8095 https://www.domain.com.au/2-natimuk-road-horsham-vic-3400-16042521\n",
      "'props'\n"
     ]
    },
    {
     "name": "stderr",
     "output_type": "stream",
     "text": [
      " 49%|█████████████████████████████████████                                       | 8099/16624 [1:04:58<48:11,  2.95it/s]"
     ]
    },
    {
     "name": "stdout",
     "output_type": "stream",
     "text": [
      "Redirected:  8098 https://www.domain.com.au/2603-60-kavanagh-street-southbank-vic-3006-16042514\n",
      "'props'\n"
     ]
    },
    {
     "name": "stderr",
     "output_type": "stream",
     "text": [
      " 49%|█████████████████████████████████████                                       | 8101/16624 [1:04:59<44:12,  3.21it/s]"
     ]
    },
    {
     "name": "stdout",
     "output_type": "stream",
     "text": [
      "Redirected:  8100 https://www.domain.com.au/906-668-bourke-street-melbourne-vic-3000-16042513\n",
      "'props'\n"
     ]
    },
    {
     "name": "stderr",
     "output_type": "stream",
     "text": [
      "\r",
      " 49%|█████████████████████████████████████                                       | 8102/16624 [1:04:59<39:42,  3.58it/s]"
     ]
    },
    {
     "name": "stdout",
     "output_type": "stream",
     "text": [
      "Redirected:  8101 https://www.domain.com.au/313-68-wests-road-maribyrnong-vic-3032-16042512\n",
      "'props'\n"
     ]
    },
    {
     "name": "stderr",
     "output_type": "stream",
     "text": [
      " 49%|█████████████████████████████████████                                       | 8110/16624 [1:05:03<59:31,  2.38it/s]"
     ]
    },
    {
     "name": "stdout",
     "output_type": "stream",
     "text": [
      "Redirected:  8109 https://www.domain.com.au/2-29-kelp-street-warrnambool-vic-3280-16042495\n",
      "'props'\n"
     ]
    },
    {
     "name": "stderr",
     "output_type": "stream",
     "text": [
      " 49%|█████████████████████████████████████▏                                      | 8144/16624 [1:05:20<52:25,  2.70it/s]"
     ]
    },
    {
     "name": "stdout",
     "output_type": "stream",
     "text": [
      "Redirected:  8143 https://www.domain.com.au/28-grattan-cove-craigieburn-vic-3064-10768644\n",
      "'props'\n"
     ]
    },
    {
     "name": "stderr",
     "output_type": "stream",
     "text": [
      " 49%|████████████████████████████████████▎                                     | 8159/16624 [1:05:27<1:07:23,  2.09it/s]"
     ]
    },
    {
     "name": "stdout",
     "output_type": "stream",
     "text": [
      "Redirected:  8159 https://www.domain.com.au/48-victoria-street-brunswick-east-vic-3057-16042322\n"
     ]
    },
    {
     "name": "stderr",
     "output_type": "stream",
     "text": [
      " 49%|████████████████████████████████████▎                                     | 8169/16624 [1:05:32<1:07:07,  2.10it/s]"
     ]
    },
    {
     "name": "stdout",
     "output_type": "stream",
     "text": [
      "Redirected:  8168 https://www.domain.com.au/249-civic-parade-altona-vic-3018-14617397\n",
      "'props'\n"
     ]
    },
    {
     "name": "stderr",
     "output_type": "stream",
     "text": [
      " 49%|█████████████████████████████████████▎                                      | 8171/16624 [1:05:33<56:40,  2.49it/s]"
     ]
    },
    {
     "name": "stdout",
     "output_type": "stream",
     "text": [
      "Redirected:  8170 https://www.domain.com.au/3016-555-swanston-street-carlton-vic-3053-16042270\n",
      "'props'\n"
     ]
    },
    {
     "name": "stderr",
     "output_type": "stream",
     "text": [
      "\r",
      " 49%|█████████████████████████████████████▎                                      | 8172/16624 [1:05:33<57:32,  2.45it/s]"
     ]
    },
    {
     "name": "stdout",
     "output_type": "stream",
     "text": [
      "Redirected:  8172 https://www.domain.com.au/101-569-whitehorse-road-mitcham-vic-3132-16042264\n"
     ]
    },
    {
     "name": "stderr",
     "output_type": "stream",
     "text": [
      " 49%|████████████████████████████████████▌                                     | 8211/16624 [1:05:53<1:09:02,  2.03it/s]"
     ]
    },
    {
     "name": "stdout",
     "output_type": "stream",
     "text": [
      "Redirected:  8210 https://www.domain.com.au/10-lansdowne-parade-tarneit-vic-3029-16042119\n",
      "'props'\n"
     ]
    },
    {
     "name": "stderr",
     "output_type": "stream",
     "text": [
      " 49%|█████████████████████████████████████▌                                      | 8220/16624 [1:05:58<53:41,  2.61it/s]"
     ]
    },
    {
     "name": "stdout",
     "output_type": "stream",
     "text": [
      "Redirected:  8219 https://www.domain.com.au/6-brownlow-crescent-epping-vic-3076-16042081\n",
      "'props'\n"
     ]
    },
    {
     "name": "stderr",
     "output_type": "stream",
     "text": [
      " 50%|████████████████████████████████████▋                                     | 8231/16624 [1:06:03<1:13:28,  1.90it/s]"
     ]
    },
    {
     "name": "stdout",
     "output_type": "stream",
     "text": [
      "Redirected:  8231 https://www.domain.com.au/5-3-carder-avenue-seaford-seaford-vic-3198-15269758\n"
     ]
    },
    {
     "name": "stderr",
     "output_type": "stream",
     "text": [
      " 50%|████████████████████████████████████▋                                     | 8237/16624 [1:06:07<1:06:03,  2.12it/s]"
     ]
    },
    {
     "name": "stdout",
     "output_type": "stream",
     "text": [
      "Redirected:  8236 https://www.domain.com.au/3-1091-whitehorse-road-box-hill-vic-3128-16042031\n",
      "'props'\n"
     ]
    },
    {
     "name": "stderr",
     "output_type": "stream",
     "text": [
      " 50%|████████████████████████████████████▋                                     | 8243/16624 [1:06:09<1:02:43,  2.23it/s]"
     ]
    },
    {
     "name": "stdout",
     "output_type": "stream",
     "text": [
      "Redirected:  8243 https://www.domain.com.au/2009-889-collins-street-docklands-vic-3008-16042012\n"
     ]
    },
    {
     "name": "stderr",
     "output_type": "stream",
     "text": [
      " 50%|█████████████████████████████████████▉                                      | 8289/16624 [1:06:30<49:50,  2.79it/s]"
     ]
    },
    {
     "name": "stdout",
     "output_type": "stream",
     "text": [
      "Redirected:  8288 https://www.domain.com.au/507-101-bay-street-port-melbourne-vic-3207-16041867\n",
      "'props'\n"
     ]
    },
    {
     "name": "stderr",
     "output_type": "stream",
     "text": [
      " 50%|█████████████████████████████████████▉                                      | 8298/16624 [1:06:34<54:08,  2.56it/s]"
     ]
    },
    {
     "name": "stdout",
     "output_type": "stream",
     "text": [
      "Redirected:  8297 https://www.domain.com.au/12-walpole-ave-indented-head-vic-3223-15937035\n",
      "'props'\n"
     ]
    },
    {
     "name": "stderr",
     "output_type": "stream",
     "text": [
      " 50%|█████████████████████████████████████                                     | 8318/16624 [1:06:44<1:00:57,  2.27it/s]"
     ]
    },
    {
     "name": "stdout",
     "output_type": "stream",
     "text": [
      "Redirected:  8317 https://www.domain.com.au/3-153-buckley-street-morwell-vic-3840-16041739\n",
      "'props'\n"
     ]
    },
    {
     "name": "stderr",
     "output_type": "stream",
     "text": [
      " 50%|█████████████████████████████████████▏                                    | 8343/16624 [1:06:56<1:01:47,  2.23it/s]"
     ]
    },
    {
     "name": "stdout",
     "output_type": "stream",
     "text": [
      "Redirected:  8343 https://www.domain.com.au/9-dickins-street-strathtulloh-vic-3338-16041661\n"
     ]
    },
    {
     "name": "stderr",
     "output_type": "stream",
     "text": [
      " 50%|██████████████████████████████████████▏                                     | 8349/16624 [1:06:59<54:10,  2.55it/s]"
     ]
    },
    {
     "name": "stdout",
     "output_type": "stream",
     "text": [
      "Redirected:  8348 https://www.domain.com.au/3-66-kionga-street-clayton-vic-3168-16041649\n",
      "'props'\n"
     ]
    },
    {
     "name": "stderr",
     "output_type": "stream",
     "text": [
      " 50%|██████████████████████████████████████▏                                     | 8363/16624 [1:07:05<45:38,  3.02it/s]"
     ]
    },
    {
     "name": "stdout",
     "output_type": "stream",
     "text": [
      "Redirected:  8362 https://www.domain.com.au/7-peacock-avenue-wodonga-vic-3690-11261190\n",
      "'props'\n"
     ]
    },
    {
     "name": "stderr",
     "output_type": "stream",
     "text": [
      " 51%|██████████████████████████████████████▍                                     | 8410/16624 [1:07:28<57:35,  2.38it/s]"
     ]
    },
    {
     "name": "stdout",
     "output_type": "stream",
     "text": [
      "Redirected:  8410 https://www.domain.com.au/503-princes-highway-port-fairy-vic-3284-16041463\n"
     ]
    },
    {
     "name": "stderr",
     "output_type": "stream",
     "text": [
      " 51%|██████████████████████████████████████▌                                     | 8436/16624 [1:07:40<46:26,  2.94it/s]"
     ]
    },
    {
     "name": "stdout",
     "output_type": "stream",
     "text": [
      "Redirected:  8435 https://www.domain.com.au/85-allison-rd-elsternwick-vic-3185-15898454\n",
      "'props'\n"
     ]
    },
    {
     "name": "stderr",
     "output_type": "stream",
     "text": [
      " 51%|██████████████████████████████████████▌                                     | 8441/16624 [1:07:42<52:14,  2.61it/s]"
     ]
    },
    {
     "name": "stdout",
     "output_type": "stream",
     "text": [
      "Redirected:  8440 https://www.domain.com.au/8-pelion-avenue-clyde-vic-3978-16041365\n",
      "'props'\n"
     ]
    },
    {
     "name": "stderr",
     "output_type": "stream",
     "text": [
      " 51%|█████████████████████████████████████▌                                    | 8445/16624 [1:07:46<1:19:50,  1.71it/s]"
     ]
    },
    {
     "name": "stdout",
     "output_type": "stream",
     "text": [
      "Redirected:  8444 https://www.domain.com.au/26-53-balaclava-rd-st-kilda-east-vic-3183-15972850\n",
      "'props'\n"
     ]
    },
    {
     "name": "stderr",
     "output_type": "stream",
     "text": [
      " 51%|█████████████████████████████████████▌                                    | 8450/16624 [1:07:49<1:12:51,  1.87it/s]"
     ]
    },
    {
     "name": "stdout",
     "output_type": "stream",
     "text": [
      "Redirected:  8450 https://www.domain.com.au/601-118-kavanagh-street-southbank-vic-3006-16040952\n"
     ]
    },
    {
     "name": "stderr",
     "output_type": "stream",
     "text": [
      " 51%|██████████████████████████████████████▋                                     | 8464/16624 [1:07:56<53:04,  2.56it/s]"
     ]
    },
    {
     "name": "stdout",
     "output_type": "stream",
     "text": [
      "Redirected:  8463 https://www.domain.com.au/701-118-russell-street-melbourne-vic-3000-16041278\n",
      "'props'\n"
     ]
    },
    {
     "name": "stderr",
     "output_type": "stream",
     "text": [
      " 51%|██████████████████████████████████████▋                                     | 8474/16624 [1:08:00<59:52,  2.27it/s]"
     ]
    },
    {
     "name": "stdout",
     "output_type": "stream",
     "text": [
      "Redirected:  8474 https://www.domain.com.au/71-vincent-street-oak-park-vic-3046-16041253\n"
     ]
    },
    {
     "name": "stderr",
     "output_type": "stream",
     "text": [
      "\r",
      " 51%|█████████████████████████████████████▋                                    | 8475/16624 [1:08:02<1:43:56,  1.31it/s]"
     ]
    },
    {
     "name": "stdout",
     "output_type": "stream",
     "text": [
      "'props'\n"
     ]
    },
    {
     "name": "stderr",
     "output_type": "stream",
     "text": [
      " 51%|██████████████████████████████████████▉                                     | 8506/16624 [1:08:16<53:36,  2.52it/s]"
     ]
    },
    {
     "name": "stdout",
     "output_type": "stream",
     "text": [
      "Redirected:  8505 https://www.domain.com.au/39-clairwood-avenue-pakenham-vic-3810-16041143\n",
      "'props'\n"
     ]
    },
    {
     "name": "stderr",
     "output_type": "stream",
     "text": [
      " 51%|█████████████████████████████████████▉                                    | 8517/16624 [1:08:21<1:03:15,  2.14it/s]"
     ]
    },
    {
     "name": "stdout",
     "output_type": "stream",
     "text": [
      "Redirected:  8517 https://www.domain.com.au/28-beatrix-avenue-point-cook-vic-3030-16041102\n"
     ]
    },
    {
     "name": "stderr",
     "output_type": "stream",
     "text": [
      " 51%|███████████████████████████████████████                                     | 8531/16624 [1:08:27<58:58,  2.29it/s]"
     ]
    },
    {
     "name": "stdout",
     "output_type": "stream",
     "text": [
      "Redirected:  8531 https://www.domain.com.au/36-bridge-street-sandringham-vic-3191-16041065\n"
     ]
    },
    {
     "name": "stderr",
     "output_type": "stream",
     "text": [
      " 51%|███████████████████████████████████████                                     | 8549/16624 [1:08:35<50:11,  2.68it/s]"
     ]
    },
    {
     "name": "stdout",
     "output_type": "stream",
     "text": [
      "Redirected:  8548 https://www.domain.com.au/1109-1-balston-street-southbank-vic-3006-16041019\n",
      "'props'\n"
     ]
    },
    {
     "name": "stderr",
     "output_type": "stream",
     "text": [
      " 51%|██████████████████████████████████████                                    | 8552/16624 [1:08:38<1:18:26,  1.72it/s]"
     ]
    },
    {
     "name": "stdout",
     "output_type": "stream",
     "text": [
      "Redirected:  8552 https://www.domain.com.au/206-126-carlisle-street-st-kilda-east-vic-3183-16041005\n"
     ]
    },
    {
     "name": "stderr",
     "output_type": "stream",
     "text": [
      " 52%|██████████████████████████████████████▏                                   | 8568/16624 [1:08:45<1:00:17,  2.23it/s]"
     ]
    },
    {
     "name": "stdout",
     "output_type": "stream",
     "text": [
      "Redirected:  8567 https://www.domain.com.au/345-173-city-road-southbank-vic-3006-16040951\n",
      "'props'\n"
     ]
    },
    {
     "name": "stderr",
     "output_type": "stream",
     "text": [
      " 52%|██████████████████████████████████████▏                                   | 8574/16624 [1:08:50<1:18:33,  1.71it/s]"
     ]
    },
    {
     "name": "stdout",
     "output_type": "stream",
     "text": [
      "Redirected:  8573 https://www.domain.com.au/11-glenbourne-road-cranbourne-vic-3977-16040938\n",
      "'props'\n"
     ]
    },
    {
     "name": "stderr",
     "output_type": "stream",
     "text": [
      " 52%|██████████████████████████████████████▏                                   | 8576/16624 [1:08:51<1:08:39,  1.95it/s]"
     ]
    },
    {
     "name": "stdout",
     "output_type": "stream",
     "text": [
      "Redirected:  8576 https://www.domain.com.au/7-lynn-street-seaford-vic-3198-16040934\n"
     ]
    },
    {
     "name": "stderr",
     "output_type": "stream",
     "text": [
      " 52%|███████████████████████████████████████▎                                    | 8598/16624 [1:09:01<56:30,  2.37it/s]"
     ]
    },
    {
     "name": "stdout",
     "output_type": "stream",
     "text": [
      "Redirected:  8598 https://www.domain.com.au/3-coolomon-close-wantirna-vic-3152-16040830\n"
     ]
    },
    {
     "name": "stderr",
     "output_type": "stream",
     "text": [
      " 52%|██████████████████████████████████████▎                                   | 8619/16624 [1:09:11<1:02:17,  2.14it/s]"
     ]
    },
    {
     "name": "stdout",
     "output_type": "stream",
     "text": [
      "Redirected:  8618 https://www.domain.com.au/229-shaws-road-werribee-vic-3030-16040769\n",
      "'props'\n"
     ]
    },
    {
     "name": "stderr",
     "output_type": "stream",
     "text": [
      " 52%|███████████████████████████████████████▌                                    | 8644/16624 [1:09:21<57:08,  2.33it/s]"
     ]
    },
    {
     "name": "stdout",
     "output_type": "stream",
     "text": [
      "Redirected:  8643 https://www.domain.com.au/g05-58-douglas-street-noble-park-vic-3174-13568242\n",
      "'listingSummary'\n"
     ]
    },
    {
     "name": "stderr",
     "output_type": "stream",
     "text": [
      " 52%|███████████████████████████████████████▌                                    | 8650/16624 [1:09:24<57:42,  2.30it/s]"
     ]
    },
    {
     "name": "stdout",
     "output_type": "stream",
     "text": [
      "Redirected:  8650 https://www.domain.com.au/7-nadar-close-redan-vic-3350-16040675\n"
     ]
    },
    {
     "name": "stderr",
     "output_type": "stream",
     "text": [
      " 52%|███████████████████████████████████████▋                                    | 8673/16624 [1:09:35<49:31,  2.68it/s]"
     ]
    },
    {
     "name": "stdout",
     "output_type": "stream",
     "text": [
      "Redirected:  8672 https://www.domain.com.au/3-727-tarneit-road-tarneit-vic-3029-12877836\n",
      "'props'\n"
     ]
    },
    {
     "name": "stderr",
     "output_type": "stream",
     "text": [
      "\r",
      " 52%|███████████████████████████████████████▋                                    | 8674/16624 [1:09:36<52:07,  2.54it/s]"
     ]
    },
    {
     "name": "stdout",
     "output_type": "stream",
     "text": [
      "Redirected:  8674 https://www.domain.com.au/62-108-union-street-brunswick-vic-3056-15728743\n"
     ]
    },
    {
     "name": "stderr",
     "output_type": "stream",
     "text": [
      " 52%|██████████████████████████████████████▋                                   | 8697/16624 [1:09:47<1:18:29,  1.68it/s]"
     ]
    },
    {
     "name": "stdout",
     "output_type": "stream",
     "text": [
      "Redirected:  8697 https://www.domain.com.au/3-12-shankland-boulevard-meadow-heights-vic-3048-16040567\n"
     ]
    },
    {
     "name": "stderr",
     "output_type": "stream",
     "text": [
      " 52%|██████████████████████████████████████▋                                   | 8705/16624 [1:09:53<1:15:35,  1.75it/s]"
     ]
    },
    {
     "name": "stdout",
     "output_type": "stream",
     "text": [
      "Redirected:  8704 https://www.domain.com.au/19-camargue-circuit-clyde-north-vic-3978-16040542\n",
      "'props'\n"
     ]
    },
    {
     "name": "stderr",
     "output_type": "stream",
     "text": [
      " 52%|███████████████████████████████████████▊                                    | 8720/16624 [1:10:00<53:45,  2.45it/s]"
     ]
    },
    {
     "name": "stdout",
     "output_type": "stream",
     "text": [
      "Redirected:  8720 https://www.domain.com.au/1907-118-kavanagh-street-southbank-vic-3006-16040472\n"
     ]
    },
    {
     "name": "stderr",
     "output_type": "stream",
     "text": [
      " 52%|██████████████████████████████████████▊                                   | 8722/16624 [1:10:01<1:04:46,  2.03it/s]"
     ]
    },
    {
     "name": "stdout",
     "output_type": "stream",
     "text": [
      "Redirected:  8721 https://www.domain.com.au/4104-601-little-lonsdale-street-melbourne-vic-3000-16040471\n",
      "'props'\n"
     ]
    },
    {
     "name": "stderr",
     "output_type": "stream",
     "text": [
      " 52%|███████████████████████████████████████▉                                    | 8724/16624 [1:10:02<54:31,  2.41it/s]"
     ]
    },
    {
     "name": "stdout",
     "output_type": "stream",
     "text": [
      "Redirected:  8723 https://www.domain.com.au/2-6-mccoll-court-brunswick-west-vic-3055-16040469\n",
      "'props'\n"
     ]
    },
    {
     "name": "stderr",
     "output_type": "stream",
     "text": [
      " 53%|███████████████████████████████████████▉                                    | 8734/16624 [1:10:06<55:41,  2.36it/s]"
     ]
    },
    {
     "name": "stdout",
     "output_type": "stream",
     "text": [
      "Redirected:  8733 https://www.domain.com.au/22-peacedale-grove-blackburn-vic-3130-16040433\n",
      "'props'\n"
     ]
    },
    {
     "name": "stderr",
     "output_type": "stream",
     "text": [
      " 53%|███████████████████████████████████████▉                                    | 8747/16624 [1:10:13<59:38,  2.20it/s]"
     ]
    },
    {
     "name": "stdout",
     "output_type": "stream",
     "text": [
      "Redirected:  8747 https://www.domain.com.au/armstrong-creek-vic-3217-16040407\n"
     ]
    },
    {
     "name": "stderr",
     "output_type": "stream",
     "text": [
      " 53%|████████████████████████████████████████                                    | 8754/16624 [1:10:16<58:45,  2.23it/s]"
     ]
    },
    {
     "name": "stdout",
     "output_type": "stream",
     "text": [
      "Redirected:  8753 https://www.domain.com.au/16-78-auburn-road-hawthorn-vic-3122-14257358\n",
      "'listingSummary'\n"
     ]
    },
    {
     "name": "stderr",
     "output_type": "stream",
     "text": [
      " 53%|████████████████████████████████████████                                    | 8758/16624 [1:10:17<45:35,  2.88it/s]"
     ]
    },
    {
     "name": "stdout",
     "output_type": "stream",
     "text": [
      "Redirected:  8757 https://www.domain.com.au/1914-601-little-lonsdale-melbourne-vic-3000-16040381\n",
      "'props'\n"
     ]
    },
    {
     "name": "stderr",
     "output_type": "stream",
     "text": [
      " 53%|████████████████████████████████████████▏                                   | 8788/16624 [1:10:30<43:04,  3.03it/s]"
     ]
    },
    {
     "name": "stdout",
     "output_type": "stream",
     "text": [
      "Redirected:  8787 https://www.domain.com.au/162-79-whiteman-street-southbank-vic-3006-16040298\n",
      "'props'\n"
     ]
    },
    {
     "name": "stderr",
     "output_type": "stream",
     "text": [
      " 53%|████████████████████████████████████████▏                                   | 8791/16624 [1:10:31<43:11,  3.02it/s]"
     ]
    },
    {
     "name": "stdout",
     "output_type": "stream",
     "text": [
      "Redirected:  8790 https://www.domain.com.au/1602-163-city-road-southbank-vic-3006-16040294\n",
      "'props'\n"
     ]
    },
    {
     "name": "stderr",
     "output_type": "stream",
     "text": [
      " 53%|███████████████████████████████████████▎                                  | 8827/16624 [1:10:48<1:00:34,  2.15it/s]"
     ]
    },
    {
     "name": "stdout",
     "output_type": "stream",
     "text": [
      "Redirected:  8827 https://www.domain.com.au/10-elm-st-elsternwick-vic-3185-15942205\n"
     ]
    },
    {
     "name": "stderr",
     "output_type": "stream",
     "text": [
      " 53%|████████████████████████████████████████▍                                   | 8832/16624 [1:10:51<55:49,  2.33it/s]"
     ]
    },
    {
     "name": "stdout",
     "output_type": "stream",
     "text": [
      "Redirected:  8831 https://www.domain.com.au/24-haines-street-mitcham-vic-3132-16040188\n",
      "'props'\n"
     ]
    },
    {
     "name": "stderr",
     "output_type": "stream",
     "text": [
      " 53%|████████████████████████████████████████▌                                   | 8870/16624 [1:11:08<56:05,  2.30it/s]"
     ]
    },
    {
     "name": "stdout",
     "output_type": "stream",
     "text": [
      "Redirected:  8870 https://www.domain.com.au/3-2-dubbo-street-albion-vic-3020-16040037\n"
     ]
    },
    {
     "name": "stderr",
     "output_type": "stream",
     "text": [
      " 53%|███████████████████████████████████████▌                                  | 8877/16624 [1:11:12<1:03:02,  2.05it/s]"
     ]
    },
    {
     "name": "stdout",
     "output_type": "stream",
     "text": [
      "Redirected:  8877 https://www.domain.com.au/4-4-balfe-crescent-brunswick-west-vic-3055-16039989\n"
     ]
    },
    {
     "name": "stderr",
     "output_type": "stream",
     "text": [
      " 53%|████████████████████████████████████████▌                                   | 8883/16624 [1:11:14<49:02,  2.63it/s]"
     ]
    },
    {
     "name": "stdout",
     "output_type": "stream",
     "text": [
      "Redirected:  8882 https://www.domain.com.au/18-mckean-street-fitzroy-north-vic-3068-15862250\n",
      "'props'\n"
     ]
    },
    {
     "name": "stderr",
     "output_type": "stream",
     "text": [
      " 54%|████████████████████████████████████████▊                                   | 8916/16624 [1:11:30<55:22,  2.32it/s]"
     ]
    },
    {
     "name": "stdout",
     "output_type": "stream",
     "text": [
      "Redirected:  8916 https://www.domain.com.au/princess-highway-springvale-vic-3171-16039857\n"
     ]
    },
    {
     "name": "stderr",
     "output_type": "stream",
     "text": [
      " 54%|████████████████████████████████████████▉                                   | 8946/16624 [1:11:45<59:30,  2.15it/s]"
     ]
    },
    {
     "name": "stdout",
     "output_type": "stream",
     "text": [
      "Redirected:  8946 https://www.domain.com.au/66-seventh-avenue-altona-north-vic-3025-16039764\n"
     ]
    },
    {
     "name": "stderr",
     "output_type": "stream",
     "text": [
      " 54%|█████████████████████████████████████████                                   | 8981/16624 [1:12:03<47:45,  2.67it/s]"
     ]
    },
    {
     "name": "stdout",
     "output_type": "stream",
     "text": [
      "Redirected:  8980 https://www.domain.com.au/3704-151-city-road-southbank-vic-3006-16039664\n",
      "'props'\n"
     ]
    },
    {
     "name": "stderr",
     "output_type": "stream",
     "text": [
      " 54%|█████████████████████████████████████████                                   | 8985/16624 [1:12:04<32:11,  3.95it/s]"
     ]
    },
    {
     "name": "stdout",
     "output_type": "stream",
     "text": [
      "Redirected:  8983 https://www.domain.com.au/1914-601-little-lonsdale-melbourne-vic-3000-16039661\n",
      "'props'\n",
      "Redirected:  8984 https://www.domain.com.au/502-1-balston-street-southbank-vic-3006-16039660\n",
      "'props'\n"
     ]
    },
    {
     "name": "stderr",
     "output_type": "stream",
     "text": [
      " 54%|█████████████████████████████████████████▏                                  | 9002/16624 [1:12:11<41:26,  3.07it/s]"
     ]
    },
    {
     "name": "stdout",
     "output_type": "stream",
     "text": [
      "Redirected:  9001 https://www.domain.com.au/501a-6-clinch-avenue-preston-vic-3072-16039614\n",
      "'props'\n",
      "Redirected:  9002 https://www.domain.com.au/28-b-mcneil-avenue-east-geelong-vic-3219-16039609\n"
     ]
    },
    {
     "name": "stderr",
     "output_type": "stream",
     "text": [
      "\r",
      " 54%|█████████████████████████████████████████▏                                  | 9003/16624 [1:12:12<48:04,  2.64it/s]"
     ]
    },
    {
     "name": "stdout",
     "output_type": "stream",
     "text": [
      "Redirected:  9003 https://www.domain.com.au/29a-melalueca-drive-hoppers-crossing-vic-3029-16039605\n"
     ]
    },
    {
     "name": "stderr",
     "output_type": "stream",
     "text": [
      " 54%|█████████████████████████████████████████▎                                  | 9025/16624 [1:12:22<53:47,  2.35it/s]"
     ]
    },
    {
     "name": "stdout",
     "output_type": "stream",
     "text": [
      "Redirected:  9025 https://www.domain.com.au/s1501-231-harbour-esp-docklands-vic-3008-16039501\n"
     ]
    },
    {
     "name": "stderr",
     "output_type": "stream",
     "text": [
      " 54%|████████████████████████████████████████▏                                 | 9030/16624 [1:12:24<1:12:55,  1.74it/s]"
     ]
    },
    {
     "name": "stdout",
     "output_type": "stream",
     "text": [
      "Redirected:  9030 https://www.domain.com.au/2-23-25-baggot-drive-hoppers-crossing-vic-3029-16039473\n"
     ]
    },
    {
     "name": "stderr",
     "output_type": "stream",
     "text": [
      " 55%|█████████████████████████████████████████▍                                  | 9063/16624 [1:12:41<55:49,  2.26it/s]"
     ]
    },
    {
     "name": "stdout",
     "output_type": "stream",
     "text": [
      "Redirected:  9063 https://www.domain.com.au/73-king-street-dandenong-north-vic-3175-16039344\n"
     ]
    },
    {
     "name": "stderr",
     "output_type": "stream",
     "text": [
      " 55%|█████████████████████████████████████████▌                                  | 9078/16624 [1:12:48<43:46,  2.87it/s]"
     ]
    },
    {
     "name": "stdout",
     "output_type": "stream",
     "text": [
      "Redirected:  9077 https://www.domain.com.au/12-foxdale-place-cairnlea-vic-3023-16039296\n",
      "'props'\n"
     ]
    },
    {
     "name": "stderr",
     "output_type": "stream",
     "text": [
      " 55%|█████████████████████████████████████████▋                                  | 9106/16624 [1:13:03<43:17,  2.89it/s]"
     ]
    },
    {
     "name": "stdout",
     "output_type": "stream",
     "text": [
      "Redirected:  9105 https://www.domain.com.au/1605-1-balston-street-southbank-vic-3006-16039193\n",
      "'props'\n",
      "Redirected:  9106 https://www.domain.com.au/city173-275-city-road-southbank-vic-3006-16039192\n"
     ]
    },
    {
     "name": "stderr",
     "output_type": "stream",
     "text": [
      " 55%|████████████████████████████████████████▋                                 | 9127/16624 [1:13:13<1:03:03,  1.98it/s]"
     ]
    },
    {
     "name": "stdout",
     "output_type": "stream",
     "text": [
      "Redirected:  9127 https://www.domain.com.au/16-island-drive-point-cook-vic-3030-16039146\n"
     ]
    },
    {
     "name": "stderr",
     "output_type": "stream",
     "text": [
      " 55%|████████████████████████████████████████▋                                 | 9130/16624 [1:13:15<1:03:58,  1.95it/s]"
     ]
    },
    {
     "name": "stdout",
     "output_type": "stream",
     "text": [
      "Redirected:  9130 https://www.domain.com.au/1-9-bennet-street-drysdale-vic-3222-16039135\n"
     ]
    },
    {
     "name": "stderr",
     "output_type": "stream",
     "text": [
      " 55%|█████████████████████████████████████████▊                                  | 9135/16624 [1:13:17<53:00,  2.35it/s]"
     ]
    },
    {
     "name": "stdout",
     "output_type": "stream",
     "text": [
      "Redirected:  9134 https://www.domain.com.au/5-105-107-dublin-road-ringwood-east-vic-3135-16039123\n",
      "'props'\n"
     ]
    },
    {
     "name": "stderr",
     "output_type": "stream",
     "text": [
      " 55%|█████████████████████████████████████████▊                                  | 9152/16624 [1:13:25<48:18,  2.58it/s]"
     ]
    },
    {
     "name": "stdout",
     "output_type": "stream",
     "text": [
      "Redirected:  9151 https://www.domain.com.au/143-spensley-street-clifton-hill-vic-3068-16039076\n",
      "'props'\n"
     ]
    },
    {
     "name": "stderr",
     "output_type": "stream",
     "text": [
      " 55%|█████████████████████████████████████████▉                                  | 9166/16624 [1:13:31<43:15,  2.87it/s]"
     ]
    },
    {
     "name": "stdout",
     "output_type": "stream",
     "text": [
      "Redirected:  9165 https://www.domain.com.au/3-10-muir-street-hawthorn-vic-3122-9766628\n",
      "'props'\n"
     ]
    },
    {
     "name": "stderr",
     "output_type": "stream",
     "text": [
      " 55%|█████████████████████████████████████████▉                                  | 9168/16624 [1:13:32<48:34,  2.56it/s]"
     ]
    },
    {
     "name": "stdout",
     "output_type": "stream",
     "text": [
      "Redirected:  9168 https://www.domain.com.au/30-bardini-road-point-cook-vic-3030-16039014\n"
     ]
    },
    {
     "name": "stderr",
     "output_type": "stream",
     "text": [
      " 55%|██████████████████████████████████████████                                  | 9191/16624 [1:13:42<50:12,  2.47it/s]"
     ]
    },
    {
     "name": "stdout",
     "output_type": "stream",
     "text": [
      "Redirected:  9190 https://www.domain.com.au/89-broadbeach-circuit-sanctuary-lakes-vic-3030-9570753\n",
      "'props'\n"
     ]
    },
    {
     "name": "stderr",
     "output_type": "stream",
     "text": [
      " 55%|██████████████████████████████████████████                                  | 9198/16624 [1:13:45<46:25,  2.67it/s]"
     ]
    },
    {
     "name": "stdout",
     "output_type": "stream",
     "text": [
      "Redirected:  9197 https://www.domain.com.au/31-777-bell-street-preston-vic-3072-16038878\n",
      "'props'\n",
      "Redirected:  9198 https://www.domain.com.au/q-1134-dandenong-road-carnegie-vic-3163-16038868\n"
     ]
    },
    {
     "name": "stderr",
     "output_type": "stream",
     "text": [
      " 56%|██████████████████████████████████████████▎                                 | 9244/16624 [1:14:07<43:32,  2.82it/s]"
     ]
    },
    {
     "name": "stdout",
     "output_type": "stream",
     "text": [
      "Redirected:  9243 https://www.domain.com.au/2604-245-city-road-southbank-vic-3006-15190633\n",
      "'props'\n"
     ]
    },
    {
     "name": "stderr",
     "output_type": "stream",
     "text": [
      " 56%|██████████████████████████████████████████▎                                 | 9246/16624 [1:14:07<36:05,  3.41it/s]"
     ]
    },
    {
     "name": "stdout",
     "output_type": "stream",
     "text": [
      "Redirected:  9245 https://www.domain.com.au/2-15-anderson-st-caulfield-vic-3162-15967087\n",
      "'props'\n"
     ]
    },
    {
     "name": "stderr",
     "output_type": "stream",
     "text": [
      " 56%|██████████████████████████████████████████▎                                 | 9248/16624 [1:14:08<33:15,  3.70it/s]"
     ]
    },
    {
     "name": "stdout",
     "output_type": "stream",
     "text": [
      "Redirected:  9247 https://www.domain.com.au/17-777-bell-street-preston-vic-3072-16038724\n",
      "'props'\n",
      "Redirected:  9248 https://www.domain.com.au/10-58-lantana-road-gardenvale-vic-3185-15830286\n"
     ]
    },
    {
     "name": "stderr",
     "output_type": "stream",
     "text": [
      " 56%|██████████████████████████████████████████▎                                 | 9250/16624 [1:14:08<27:00,  4.55it/s]"
     ]
    },
    {
     "name": "stdout",
     "output_type": "stream",
     "text": [
      "'props'\n",
      "Redirected:  9249 https://www.domain.com.au/5-45-gladwyn-avenue-bentleigh-east-vic-3165-15954383\n",
      "'props'\n"
     ]
    },
    {
     "name": "stderr",
     "output_type": "stream",
     "text": [
      " 56%|█████████████████████████████████████████▏                                | 9259/16624 [1:14:14<1:15:33,  1.62it/s]"
     ]
    },
    {
     "name": "stdout",
     "output_type": "stream",
     "text": [
      "Redirected:  9259 https://www.domain.com.au/6710-138-spencer-street-melbourne-vic-3000-16033018\n"
     ]
    },
    {
     "name": "stderr",
     "output_type": "stream",
     "text": [
      " 56%|█████████████████████████████████████████▎                                | 9282/16624 [1:14:25<1:04:54,  1.89it/s]"
     ]
    },
    {
     "name": "stdout",
     "output_type": "stream",
     "text": [
      "Redirected:  9282 https://www.domain.com.au/1-146-blyth-st-brunswick-vic-3056-16038620\n"
     ]
    },
    {
     "name": "stderr",
     "output_type": "stream",
     "text": [
      " 56%|██████████████████████████████████████████▌                                 | 9319/16624 [1:14:44<52:33,  2.32it/s]"
     ]
    },
    {
     "name": "stdout",
     "output_type": "stream",
     "text": [
      "Redirected:  9318 https://www.domain.com.au/12-dorr-court-belmont-vic-3216-14931504\n",
      "'props'\n"
     ]
    },
    {
     "name": "stderr",
     "output_type": "stream",
     "text": [
      " 56%|██████████████████████████████████████████▌                                 | 9323/16624 [1:14:46<45:22,  2.68it/s]"
     ]
    },
    {
     "name": "stdout",
     "output_type": "stream",
     "text": [
      "Redirected:  9322 https://www.domain.com.au/3-69-kirkwood-avenue-seaford-vic-3198-16038493\n",
      "'props'\n"
     ]
    },
    {
     "name": "stderr",
     "output_type": "stream",
     "text": [
      " 56%|██████████████████████████████████████████▋                                 | 9326/16624 [1:14:47<42:48,  2.84it/s]"
     ]
    },
    {
     "name": "stdout",
     "output_type": "stream",
     "text": [
      "Redirected:  9325 https://www.domain.com.au/3-626-whitehorse-road-mitcham-vic-3132-16038490\n",
      "'props'\n"
     ]
    },
    {
     "name": "stderr",
     "output_type": "stream",
     "text": [
      " 56%|██████████████████████████████████████████▋                                 | 9344/16624 [1:14:55<55:17,  2.19it/s]"
     ]
    },
    {
     "name": "stdout",
     "output_type": "stream",
     "text": [
      "Redirected:  9344 https://www.domain.com.au/910-675-la-trobe-street-docklands-vic-3008-16038423\n"
     ]
    },
    {
     "name": "stderr",
     "output_type": "stream",
     "text": [
      " 56%|█████████████████████████████████████████▋                                | 9355/16624 [1:15:04<1:26:49,  1.40it/s]"
     ]
    },
    {
     "name": "stdout",
     "output_type": "stream",
     "text": [
      "Redirected:  9354 https://www.domain.com.au/1-9-parker-street-springvale-south-vic-3172-16023530\n",
      "'props'\n"
     ]
    },
    {
     "name": "stderr",
     "output_type": "stream",
     "text": [
      " 56%|█████████████████████████████████████████▋                                | 9358/16624 [1:15:05<1:03:26,  1.91it/s]"
     ]
    },
    {
     "name": "stdout",
     "output_type": "stream",
     "text": [
      "Redirected:  9358 https://www.domain.com.au/level-2304e-888-collins-street-docklands-vic-3008-16038389\n"
     ]
    },
    {
     "name": "stderr",
     "output_type": "stream",
     "text": [
      " 56%|██████████████████████████████████████████▉                                 | 9391/16624 [1:15:21<53:29,  2.25it/s]"
     ]
    },
    {
     "name": "stdout",
     "output_type": "stream",
     "text": [
      "Redirected:  9390 https://www.domain.com.au/1-78-marion-street-altona-north-vic-3025-15897367\n",
      "'props'\n"
     ]
    },
    {
     "name": "stderr",
     "output_type": "stream",
     "text": [
      " 57%|██████████████████████████████████████████▉                                 | 9397/16624 [1:15:23<50:22,  2.39it/s]"
     ]
    },
    {
     "name": "stdout",
     "output_type": "stream",
     "text": [
      "Redirected:  9397 https://www.domain.com.au/h64-bowen-crescent-carlton-north-vic-3054-15958932\n"
     ]
    },
    {
     "name": "stderr",
     "output_type": "stream",
     "text": [
      " 57%|███████████████████████████████████████████                                 | 9424/16624 [1:15:35<53:39,  2.24it/s]"
     ]
    },
    {
     "name": "stdout",
     "output_type": "stream",
     "text": [
      "Redirected:  9424 https://www.domain.com.au/20-20-mccormack-road-maddingley-vic-3340-16038178\n"
     ]
    },
    {
     "name": "stderr",
     "output_type": "stream",
     "text": [
      " 57%|███████████████████████████████████████████                                 | 9427/16624 [1:15:36<41:51,  2.87it/s]"
     ]
    },
    {
     "name": "stdout",
     "output_type": "stream",
     "text": [
      "Redirected:  9426 https://www.domain.com.au/189-kilgour-street-geelong-vic-3220-16038174\n",
      "'props'\n"
     ]
    },
    {
     "name": "stderr",
     "output_type": "stream",
     "text": [
      " 57%|███████████████████████████████████████████▏                                | 9450/16624 [1:15:47<47:53,  2.50it/s]"
     ]
    },
    {
     "name": "stdout",
     "output_type": "stream",
     "text": [
      "Redirected:  9449 https://www.domain.com.au/3602-151-city-road-southbank-vic-3006-16038122\n",
      "'props'\n"
     ]
    },
    {
     "name": "stderr",
     "output_type": "stream",
     "text": [
      " 57%|███████████████████████████████████████████▏                                | 9454/16624 [1:15:48<31:31,  3.79it/s]"
     ]
    },
    {
     "name": "stdout",
     "output_type": "stream",
     "text": [
      "Redirected:  9452 https://www.domain.com.au/whit79-22-whiteman-street-southbank-vic-3006-16038118\n",
      "'props'\n",
      "Redirected:  9453 https://www.domain.com.au/99-79-whiteman-street-southbank-vic-3006-16038115\n",
      "'props'\n"
     ]
    },
    {
     "name": "stderr",
     "output_type": "stream",
     "text": [
      " 57%|███████████████████████████████████████████▏                                | 9458/16624 [1:15:50<39:32,  3.02it/s]"
     ]
    },
    {
     "name": "stdout",
     "output_type": "stream",
     "text": [
      "Redirected:  9457 https://www.domain.com.au/2103-181-abeckett-street-melbourne-vic-3000-16038110\n",
      "'props'\n"
     ]
    },
    {
     "name": "stderr",
     "output_type": "stream",
     "text": [
      " 57%|███████████████████████████████████████████▎                                | 9473/16624 [1:15:57<43:04,  2.77it/s]"
     ]
    },
    {
     "name": "stdout",
     "output_type": "stream",
     "text": [
      "Redirected:  9472 https://www.domain.com.au/5-6-portsmouth-place-epping-vic-3076-16038079\n",
      "'props'\n"
     ]
    },
    {
     "name": "stderr",
     "output_type": "stream",
     "text": [
      " 57%|███████████████████████████████████████████▍                                | 9496/16624 [1:16:09<59:17,  2.00it/s]"
     ]
    },
    {
     "name": "stdout",
     "output_type": "stream",
     "text": [
      "Redirected:  9496 https://www.domain.com.au/2-84-the-esplanade-torquay-vic-3228-16038006\n"
     ]
    },
    {
     "name": "stderr",
     "output_type": "stream",
     "text": [
      " 57%|███████████████████████████████████████████▍                                | 9499/16624 [1:16:10<44:36,  2.66it/s]"
     ]
    },
    {
     "name": "stdout",
     "output_type": "stream",
     "text": [
      "Redirected:  9498 https://www.domain.com.au/2-63-bradman-boulevard-traralgon-vic-3844-10242593\n",
      "'props'\n"
     ]
    },
    {
     "name": "stderr",
     "output_type": "stream",
     "text": [
      " 57%|███████████████████████████████████████████▍                                | 9506/16624 [1:16:13<46:36,  2.55it/s]"
     ]
    },
    {
     "name": "stdout",
     "output_type": "stream",
     "text": [
      "Redirected:  9506 https://www.domain.com.au/26-11-15-cochrane-street-brighton-vic-3186-16037984\n"
     ]
    },
    {
     "name": "stderr",
     "output_type": "stream",
     "text": [
      " 57%|███████████████████████████████████████████▍                                | 9511/16624 [1:16:15<50:15,  2.36it/s]"
     ]
    },
    {
     "name": "stdout",
     "output_type": "stream",
     "text": [
      "Redirected:  9511 https://www.domain.com.au/27-70-church-street-hawthorn-vic-3122-16037973\n"
     ]
    },
    {
     "name": "stderr",
     "output_type": "stream",
     "text": [
      " 57%|███████████████████████████████████████████▌                                | 9527/16624 [1:16:22<43:31,  2.72it/s]"
     ]
    },
    {
     "name": "stdout",
     "output_type": "stream",
     "text": [
      "Redirected:  9526 https://www.domain.com.au/8-callus-street-killara-vic-3691-16037933\n",
      "'props'\n",
      "Redirected:  9527 https://www.domain.com.au/150-ingleman-road-buln-buln-east-vic-3821-15167812\n"
     ]
    },
    {
     "name": "stderr",
     "output_type": "stream",
     "text": [
      "\r",
      " 57%|███████████████████████████████████████████▌                                | 9528/16624 [1:16:22<36:14,  3.26it/s]"
     ]
    },
    {
     "name": "stdout",
     "output_type": "stream",
     "text": [
      "'props'\n"
     ]
    },
    {
     "name": "stderr",
     "output_type": "stream",
     "text": [
      " 57%|███████████████████████████████████████████▌                                | 9534/16624 [1:16:25<55:59,  2.11it/s]"
     ]
    },
    {
     "name": "stdout",
     "output_type": "stream",
     "text": [
      "Redirected:  9533 https://www.domain.com.au/7-777-bell-street-preston-vic-3072-16037905\n",
      "'props'\n"
     ]
    },
    {
     "name": "stderr",
     "output_type": "stream",
     "text": [
      " 57%|███████████████████████████████████████████▌                                | 9539/16624 [1:16:27<41:53,  2.82it/s]"
     ]
    },
    {
     "name": "stdout",
     "output_type": "stream",
     "text": [
      "Redirected:  9538 https://www.domain.com.au/5-139-endeavour-drive-cranbourne-north-vic-3977-10858174\n",
      "'props'\n"
     ]
    },
    {
     "name": "stderr",
     "output_type": "stream",
     "text": [
      " 57%|███████████████████████████████████████████▌                                | 9541/16624 [1:16:28<39:28,  2.99it/s]"
     ]
    },
    {
     "name": "stdout",
     "output_type": "stream",
     "text": [
      "Redirected:  9540 https://www.domain.com.au/78-larch-cres-mount-waverley-vic-3149-10321161\n",
      "'props'\n"
     ]
    },
    {
     "name": "stderr",
     "output_type": "stream",
     "text": [
      " 57%|███████████████████████████████████████████▋                                | 9553/16624 [1:16:34<51:28,  2.29it/s]"
     ]
    },
    {
     "name": "stdout",
     "output_type": "stream",
     "text": [
      "Redirected:  9552 https://www.domain.com.au/18-777-bell-street-preston-vic-3072-16037856\n",
      "'props'\n"
     ]
    },
    {
     "name": "stderr",
     "output_type": "stream",
     "text": [
      " 57%|███████████████████████████████████████████▋                                | 9557/16624 [1:16:35<47:49,  2.46it/s]"
     ]
    },
    {
     "name": "stdout",
     "output_type": "stream",
     "text": [
      "Redirected:  9556 https://www.domain.com.au/1-ross-pincott-drive-mooroolbark-vic-3138-16037841\n",
      "'props'\n"
     ]
    },
    {
     "name": "stderr",
     "output_type": "stream",
     "text": [
      " 58%|███████████████████████████████████████████▊                                | 9572/16624 [1:16:42<52:05,  2.26it/s]"
     ]
    },
    {
     "name": "stdout",
     "output_type": "stream",
     "text": [
      "Redirected:  9572 https://www.domain.com.au/204-9-high-st-north-melbourne-vic-3051-16011405\n"
     ]
    },
    {
     "name": "stderr",
     "output_type": "stream",
     "text": [
      " 58%|███████████████████████████████████████████▊                                | 9584/16624 [1:16:48<40:54,  2.87it/s]"
     ]
    },
    {
     "name": "stdout",
     "output_type": "stream",
     "text": [
      "Redirected:  9583 https://www.domain.com.au/3-12-federal-road-ringwood-east-vic-3135-16037755\n",
      "'props'\n"
     ]
    },
    {
     "name": "stderr",
     "output_type": "stream",
     "text": [
      " 58%|███████████████████████████████████████████▊                                | 9588/16624 [1:16:49<37:56,  3.09it/s]"
     ]
    },
    {
     "name": "stdout",
     "output_type": "stream",
     "text": [
      "Redirected:  9587 https://www.domain.com.au/4007-60-kavanagh-street-southbank-vic-3006-16037746\n",
      "'props'\n"
     ]
    },
    {
     "name": "stderr",
     "output_type": "stream",
     "text": [
      " 58%|███████████████████████████████████████████▊                                | 9590/16624 [1:16:50<32:39,  3.59it/s]"
     ]
    },
    {
     "name": "stdout",
     "output_type": "stream",
     "text": [
      "Redirected:  9589 https://www.domain.com.au/42-140-flinders-street-melbourne-vic-3000-16037712\n",
      "'props'\n"
     ]
    },
    {
     "name": "stderr",
     "output_type": "stream",
     "text": [
      " 58%|███████████████████████████████████████████▉                                | 9614/16624 [1:17:00<39:57,  2.92it/s]"
     ]
    },
    {
     "name": "stdout",
     "output_type": "stream",
     "text": [
      "Redirected:  9613 https://www.domain.com.au/unit-1-75-morley-street-glenroy-vic-3046-16037660\n",
      "'props'\n"
     ]
    },
    {
     "name": "stderr",
     "output_type": "stream",
     "text": [
      " 58%|████████████████████████████████████████████                                | 9631/16624 [1:17:07<47:20,  2.46it/s]"
     ]
    },
    {
     "name": "stdout",
     "output_type": "stream",
     "text": [
      "Redirected:  9631 https://www.domain.com.au/11-40-edgevale-road-kew-vic-3101-11102471\n"
     ]
    },
    {
     "name": "stderr",
     "output_type": "stream",
     "text": [
      " 58%|████████████████████████████████████████████                                | 9645/16624 [1:17:14<46:27,  2.50it/s]"
     ]
    },
    {
     "name": "stdout",
     "output_type": "stream",
     "text": [
      "Redirected:  9644 https://www.domain.com.au/5-1a-boondara-grove-st-kilda-vic-3182-5199117\n",
      "'props'\n"
     ]
    },
    {
     "name": "stderr",
     "output_type": "stream",
     "text": [
      " 58%|████████████████████████████████████████████▏                               | 9656/16624 [1:17:18<39:21,  2.95it/s]"
     ]
    },
    {
     "name": "stdout",
     "output_type": "stream",
     "text": [
      "Redirected:  9655 https://www.domain.com.au/unit-12-28-tivoli-road-south-yarra-vic-3141-16037487\n",
      "'props'\n"
     ]
    },
    {
     "name": "stderr",
     "output_type": "stream",
     "text": [
      " 58%|████████████████████████████████████████████▎                               | 9687/16624 [1:17:35<49:31,  2.33it/s]"
     ]
    },
    {
     "name": "stdout",
     "output_type": "stream",
     "text": [
      "Redirected:  9686 https://www.domain.com.au/123-83-whiteman-street-southbank-vic-3006-16037340\n",
      "'props'\n"
     ]
    },
    {
     "name": "stderr",
     "output_type": "stream",
     "text": [
      " 58%|███████████████████████████████████████████▏                              | 9700/16624 [1:17:41<1:02:14,  1.85it/s]"
     ]
    },
    {
     "name": "stdout",
     "output_type": "stream",
     "text": [
      "Redirected:  9700 https://www.domain.com.au/425-hawthorn-road-caulfield-south-vic-3162-16037273\n"
     ]
    },
    {
     "name": "stderr",
     "output_type": "stream",
     "text": [
      " 58%|████████████████████████████████████████████▍                               | 9707/16624 [1:17:44<41:37,  2.77it/s]"
     ]
    },
    {
     "name": "stdout",
     "output_type": "stream",
     "text": [
      "Redirected:  9706 https://www.domain.com.au/4-58-john-street-glenroy-vic-3046-16037253\n",
      "'props'\n",
      "Redirected:  9707 https://www.domain.com.au/3-29-volga-street-hadfield-vic-3046-16037252\n"
     ]
    },
    {
     "name": "stderr",
     "output_type": "stream",
     "text": [
      " 58%|████████████████████████████████████████████▍                               | 9711/16624 [1:17:46<45:02,  2.56it/s]"
     ]
    },
    {
     "name": "stdout",
     "output_type": "stream",
     "text": [
      "Redirected:  9710 https://www.domain.com.au/2706-245-city-road-southbank-vic-3006-16037240\n",
      "'props'\n"
     ]
    },
    {
     "name": "stderr",
     "output_type": "stream",
     "text": [
      " 58%|████████████████████████████████████████████▍                               | 9714/16624 [1:17:47<52:44,  2.18it/s]"
     ]
    },
    {
     "name": "stdout",
     "output_type": "stream",
     "text": [
      "Redirected:  9714 https://www.domain.com.au/29-edmund-drive-bonshaw-vic-3352-16037229\n"
     ]
    },
    {
     "name": "stderr",
     "output_type": "stream",
     "text": [
      " 59%|████████████████████████████████████████████▍                               | 9730/16624 [1:17:54<36:56,  3.11it/s]"
     ]
    },
    {
     "name": "stdout",
     "output_type": "stream",
     "text": [
      "Redirected:  9729 https://www.domain.com.au/109-newmarket-rd-werribee-vic-3030-15986002\n",
      "'props'\n"
     ]
    },
    {
     "name": "stderr",
     "output_type": "stream",
     "text": [
      " 59%|████████████████████████████████████████████▍                               | 9732/16624 [1:17:54<40:26,  2.84it/s]"
     ]
    },
    {
     "name": "stdout",
     "output_type": "stream",
     "text": [
      "Redirected:  9732 https://www.domain.com.au/1-townsend-street-kennington-bendigo-vic-3550-16037195\n"
     ]
    },
    {
     "name": "stderr",
     "output_type": "stream",
     "text": [
      " 59%|████████████████████████████████████████████▌                               | 9735/16624 [1:17:56<41:01,  2.80it/s]"
     ]
    },
    {
     "name": "stdout",
     "output_type": "stream",
     "text": [
      "Redirected:  9734 https://www.domain.com.au/113-park-street-south-melbourne-vic-3205-16037161\n",
      "'listingSummary'\n"
     ]
    },
    {
     "name": "stderr",
     "output_type": "stream",
     "text": [
      " 59%|████████████████████████████████████████████▌                               | 9741/16624 [1:17:58<48:53,  2.35it/s]"
     ]
    },
    {
     "name": "stdout",
     "output_type": "stream",
     "text": [
      "Redirected:  9740 https://www.domain.com.au/1-30-westbourne-grove-northcote-vic-3070-16037162\n",
      "'props'\n"
     ]
    },
    {
     "name": "stderr",
     "output_type": "stream",
     "text": [
      " 59%|███████████████████████████████████████████▍                              | 9748/16624 [1:18:03<1:13:07,  1.57it/s]"
     ]
    },
    {
     "name": "stdout",
     "output_type": "stream",
     "text": [
      "Redirected:  9747 https://www.domain.com.au/6-westbury-street-cairnlea-vic-3023-16037122\n",
      "'props'\n",
      "Redirected:  9748 https://www.domain.com.au/3-harry-street-cranbourne-cranbourne-vic-3977-16037118\n"
     ]
    },
    {
     "name": "stderr",
     "output_type": "stream",
     "text": [
      " 59%|████████████████████████████████████████████▋                               | 9773/16624 [1:18:14<43:23,  2.63it/s]"
     ]
    },
    {
     "name": "stdout",
     "output_type": "stream",
     "text": [
      "Redirected:  9772 https://www.domain.com.au/1613-151-city-road-southbank-vic-3006-16037025\n",
      "'props'\n"
     ]
    },
    {
     "name": "stderr",
     "output_type": "stream",
     "text": [
      " 59%|████████████████████████████████████████████▊                               | 9801/16624 [1:18:28<45:11,  2.52it/s]"
     ]
    },
    {
     "name": "stdout",
     "output_type": "stream",
     "text": [
      "Redirected:  9800 https://www.domain.com.au/108-bindi-street-glenroy-vic-3046-16036929\n",
      "'props'\n"
     ]
    },
    {
     "name": "stderr",
     "output_type": "stream",
     "text": [
      " 59%|███████████████████████████████████████████▋                              | 9809/16624 [1:18:33<1:30:40,  1.25it/s]"
     ]
    },
    {
     "name": "stdout",
     "output_type": "stream",
     "text": [
      "Redirected:  9809 https://www.domain.com.au/11-wood-st-avondale-heights-vic-3034-16036895\n"
     ]
    },
    {
     "name": "stderr",
     "output_type": "stream",
     "text": [
      " 59%|████████████████████████████████████████████▊                               | 9815/16624 [1:18:35<42:43,  2.66it/s]"
     ]
    },
    {
     "name": "stdout",
     "output_type": "stream",
     "text": [
      "Redirected:  9814 https://www.domain.com.au/204-26-queens-road-melbourne-vic-3004-16036884\n",
      "'props'\n"
     ]
    },
    {
     "name": "stderr",
     "output_type": "stream",
     "text": [
      "\r",
      " 59%|████████████████████████████████████████████▉                               | 9816/16624 [1:18:35<39:19,  2.89it/s]"
     ]
    },
    {
     "name": "stdout",
     "output_type": "stream",
     "text": [
      "Redirected:  9815 https://www.domain.com.au/216-183-city-road-southbank-vic-3006-16036883\n",
      "'props'\n"
     ]
    },
    {
     "name": "stderr",
     "output_type": "stream",
     "text": [
      " 59%|████████████████████████████████████████████▉                               | 9834/16624 [1:18:43<39:55,  2.83it/s]"
     ]
    },
    {
     "name": "stdout",
     "output_type": "stream",
     "text": [
      "Redirected:  9833 https://www.domain.com.au/21-alma-road-camberwell-vic-3124-16036826\n",
      "'props'\n"
     ]
    },
    {
     "name": "stderr",
     "output_type": "stream",
     "text": [
      " 59%|█████████████████████████████████████████████                               | 9848/16624 [1:18:49<40:07,  2.81it/s]"
     ]
    },
    {
     "name": "stdout",
     "output_type": "stream",
     "text": [
      "Redirected:  9847 https://www.domain.com.au/44-agnes-street-noble-park-vic-3174-12758582\n",
      "'props'\n"
     ]
    },
    {
     "name": "stderr",
     "output_type": "stream",
     "text": [
      " 59%|█████████████████████████████████████████████                               | 9851/16624 [1:18:50<34:13,  3.30it/s]"
     ]
    },
    {
     "name": "stdout",
     "output_type": "stream",
     "text": [
      "Redirected:  9850 https://www.domain.com.au/53-nicholson-street-coburg-vic-3058-16036763\n",
      "'props'\n"
     ]
    },
    {
     "name": "stderr",
     "output_type": "stream",
     "text": [
      " 59%|█████████████████████████████████████████████                               | 9858/16624 [1:18:53<51:47,  2.18it/s]"
     ]
    },
    {
     "name": "stdout",
     "output_type": "stream",
     "text": [
      "Redirected:  9858 https://www.domain.com.au/1-7-como-parade-mentone-vic-3194-16036729\n"
     ]
    },
    {
     "name": "stderr",
     "output_type": "stream",
     "text": [
      " 60%|█████████████████████████████████████████████▏                              | 9893/16624 [1:19:10<40:46,  2.75it/s]"
     ]
    },
    {
     "name": "stdout",
     "output_type": "stream",
     "text": [
      "Redirected:  9892 https://www.domain.com.au/53-gray-street-swan-hill-vic-3585-16036637\n",
      "'props'\n"
     ]
    },
    {
     "name": "stderr",
     "output_type": "stream",
     "text": [
      " 60%|█████████████████████████████████████████████▏                              | 9897/16624 [1:19:11<45:46,  2.45it/s]"
     ]
    },
    {
     "name": "stdout",
     "output_type": "stream",
     "text": [
      "Redirected:  9897 https://www.domain.com.au/215-345-high-street-preston-vic-3072-16036625\n"
     ]
    },
    {
     "name": "stderr",
     "output_type": "stream",
     "text": [
      " 60%|█████████████████████████████████████████████▎                              | 9899/16624 [1:19:12<47:25,  2.36it/s]"
     ]
    },
    {
     "name": "stdout",
     "output_type": "stream",
     "text": [
      "Redirected:  9898 https://www.domain.com.au/1018-39-coventry-st-southbank-vic-3006-15235217\n",
      "'props'\n"
     ]
    },
    {
     "name": "stderr",
     "output_type": "stream",
     "text": [
      " 60%|█████████████████████████████████████████████▎                              | 9910/16624 [1:19:18<51:27,  2.17it/s]"
     ]
    },
    {
     "name": "stdout",
     "output_type": "stream",
     "text": [
      "Redirected:  9910 https://www.domain.com.au/4-28-olive-grove-mentone-vic-3194-16036605\n"
     ]
    },
    {
     "name": "stderr",
     "output_type": "stream",
     "text": [
      " 60%|█████████████████████████████████████████████▎                              | 9924/16624 [1:19:25<50:19,  2.22it/s]"
     ]
    },
    {
     "name": "stdout",
     "output_type": "stream",
     "text": [
      "Redirected:  9923 https://www.domain.com.au/20-colorado-street-truganina-vic-3029-16036559\n",
      "'props'\n"
     ]
    },
    {
     "name": "stderr",
     "output_type": "stream",
     "text": [
      " 60%|█████████████████████████████████████████████▍                              | 9927/16624 [1:19:26<38:25,  2.90it/s]"
     ]
    },
    {
     "name": "stdout",
     "output_type": "stream",
     "text": [
      "Redirected:  9926 https://www.domain.com.au/3809-81-a-beckett-street-melbourne-vic-3000-16036549\n",
      "'props'\n"
     ]
    },
    {
     "name": "stderr",
     "output_type": "stream",
     "text": [
      " 60%|█████████████████████████████████████████████▍                              | 9949/16624 [1:19:36<44:23,  2.51it/s]"
     ]
    },
    {
     "name": "stdout",
     "output_type": "stream",
     "text": [
      "Redirected:  9948 https://www.domain.com.au/11-fischer-street-torquay-vic-3228-16036492\n",
      "'listingSummary'\n",
      "Redirected:  9949 https://www.domain.com.au/912-100-harbour-esplanade-docklands-vic-3008-16036491\n"
     ]
    },
    {
     "name": "stderr",
     "output_type": "stream",
     "text": [
      "\r",
      " 60%|█████████████████████████████████████████████▍                              | 9950/16624 [1:19:36<34:34,  3.22it/s]"
     ]
    },
    {
     "name": "stdout",
     "output_type": "stream",
     "text": [
      "'props'\n"
     ]
    },
    {
     "name": "stderr",
     "output_type": "stream",
     "text": [
      " 60%|█████████████████████████████████████████████▌                              | 9967/16624 [1:19:44<47:04,  2.36it/s]"
     ]
    },
    {
     "name": "stdout",
     "output_type": "stream",
     "text": [
      "Redirected:  9967 https://www.domain.com.au/6a-sica-court-sydenham-vic-3037-16036421\n"
     ]
    },
    {
     "name": "stderr",
     "output_type": "stream",
     "text": [
      " 60%|█████████████████████████████████████████████▌                              | 9972/16624 [1:19:47<56:59,  1.95it/s]"
     ]
    },
    {
     "name": "stdout",
     "output_type": "stream",
     "text": [
      "Redirected:  9971 https://www.domain.com.au/703-4-6-station-street-moorabbin-vic-3189-13956216\n",
      "'props'\n"
     ]
    },
    {
     "name": "stderr",
     "output_type": "stream",
     "text": [
      "\r",
      " 60%|█████████████████████████████████████████████▌                              | 9973/16624 [1:19:48<54:23,  2.04it/s]"
     ]
    },
    {
     "name": "stdout",
     "output_type": "stream",
     "text": [
      "Redirected:  9973 https://www.domain.com.au/2a-flinders-street-thornbury-vic-3071-16036424\n"
     ]
    },
    {
     "name": "stderr",
     "output_type": "stream",
     "text": [
      " 60%|█████████████████████████████████████████████▋                              | 9982/16624 [1:19:52<45:28,  2.43it/s]"
     ]
    },
    {
     "name": "stdout",
     "output_type": "stream",
     "text": [
      "Redirected:  9981 https://www.domain.com.au/2612-288-spencer-street-melbourne-vic-3000-16036407\n",
      "'props'\n"
     ]
    },
    {
     "name": "stderr",
     "output_type": "stream",
     "text": [
      " 60%|█████████████████████████████████████████████▋                              | 9986/16624 [1:19:53<46:32,  2.38it/s]"
     ]
    },
    {
     "name": "stdout",
     "output_type": "stream",
     "text": [
      "Redirected:  9985 https://www.domain.com.au/5-bushwalk-grove-epsom-vic-3551-16036396\n",
      "'props'\n"
     ]
    },
    {
     "name": "stderr",
     "output_type": "stream",
     "text": [
      " 60%|█████████████████████████████████████████████▋                              | 9988/16624 [1:19:54<43:50,  2.52it/s]"
     ]
    },
    {
     "name": "stdout",
     "output_type": "stream",
     "text": [
      "Redirected:  9987 https://www.domain.com.au/32-gracedale-avenue-ringwood-east-vic-3135-16036385\n",
      "'props'\n"
     ]
    },
    {
     "name": "stderr",
     "output_type": "stream",
     "text": [
      " 60%|█████████████████████████████████████████████▋                              | 9994/16624 [1:19:56<35:28,  3.12it/s]"
     ]
    },
    {
     "name": "stdout",
     "output_type": "stream",
     "text": [
      "Redirected:  9993 https://www.domain.com.au/20-cannes-avenue-avondale-heights-vic-3034-16036360\n",
      "'props'\n"
     ]
    },
    {
     "name": "stderr",
     "output_type": "stream",
     "text": [
      " 60%|█████████████████████████████████████████████▋                              | 9996/16624 [1:19:57<35:38,  3.10it/s]"
     ]
    },
    {
     "name": "stdout",
     "output_type": "stream",
     "text": [
      "Redirected:  9995 https://www.domain.com.au/1-96-wallace-street-bairnsdale-vic-3875-15790494\n",
      "'props'\n"
     ]
    },
    {
     "name": "stderr",
     "output_type": "stream",
     "text": [
      " 60%|█████████████████████████████████████████████                              | 10002/16624 [1:20:00<40:43,  2.71it/s]"
     ]
    },
    {
     "name": "stdout",
     "output_type": "stream",
     "text": [
      "Redirected:  10001 https://www.domain.com.au/14-23-avoca-street-south-yarra-vic-3141-10435681\n",
      "'props'\n"
     ]
    },
    {
     "name": "stderr",
     "output_type": "stream",
     "text": [
      " 60%|█████████████████████████████████████████████▏                             | 10005/16624 [1:20:01<35:47,  3.08it/s]"
     ]
    },
    {
     "name": "stdout",
     "output_type": "stream",
     "text": [
      "Redirected:  10004 https://www.domain.com.au/9-rene-street-waurn-ponds-vic-3216-15969266\n",
      "'props'\n"
     ]
    },
    {
     "name": "stderr",
     "output_type": "stream",
     "text": [
      " 60%|█████████████████████████████████████████████▎                             | 10055/16624 [1:20:27<42:49,  2.56it/s]"
     ]
    },
    {
     "name": "stdout",
     "output_type": "stream",
     "text": [
      "Redirected:  10054 https://www.domain.com.au/1112-601-little-collins-st-melbourne-vic-3000-15994372\n",
      "'props'\n"
     ]
    },
    {
     "name": "stderr",
     "output_type": "stream",
     "text": [
      " 61%|████████████████████████████████████████████▏                            | 10058/16624 [1:20:29<1:08:20,  1.60it/s]"
     ]
    },
    {
     "name": "stdout",
     "output_type": "stream",
     "text": [
      "Redirected:  10058 https://www.domain.com.au/2-61-david-street-knoxfield-vic-3180-16036189\n"
     ]
    },
    {
     "name": "stderr",
     "output_type": "stream",
     "text": [
      " 61%|█████████████████████████████████████████████▍                             | 10065/16624 [1:20:32<41:08,  2.66it/s]"
     ]
    },
    {
     "name": "stdout",
     "output_type": "stream",
     "text": [
      "Redirected:  10064 https://www.domain.com.au/108-106-108-queensberry-street-carlton-vic-3053-16036162\n",
      "'listingSummary'\n"
     ]
    },
    {
     "name": "stderr",
     "output_type": "stream",
     "text": [
      " 61%|█████████████████████████████████████████████▍                             | 10072/16624 [1:20:35<36:28,  2.99it/s]"
     ]
    },
    {
     "name": "stdout",
     "output_type": "stream",
     "text": [
      "Redirected:  10071 https://www.domain.com.au/1-9-van-ness-avenue-mornington-vic-3931-16036139\n",
      "'props'\n",
      "Redirected:  10072 https://www.domain.com.au/6-59-belgrave-hallam-road-hallam-vic-3803-16036136\n"
     ]
    },
    {
     "name": "stderr",
     "output_type": "stream",
     "text": [
      "\r",
      " 61%|█████████████████████████████████████████████▍                             | 10073/16624 [1:20:36<51:10,  2.13it/s]"
     ]
    },
    {
     "name": "stdout",
     "output_type": "stream",
     "text": [
      "'listingSummary'\n"
     ]
    },
    {
     "name": "stderr",
     "output_type": "stream",
     "text": [
      " 61%|█████████████████████████████████████████████▌                             | 10095/16624 [1:20:46<41:22,  2.63it/s]"
     ]
    },
    {
     "name": "stdout",
     "output_type": "stream",
     "text": [
      "Redirected:  10094 https://www.domain.com.au/231-173-city-road-southbank-vic-3006-16036063\n",
      "'props'\n"
     ]
    },
    {
     "name": "stderr",
     "output_type": "stream",
     "text": [
      " 61%|█████████████████████████████████████████████▌                             | 10099/16624 [1:20:48<44:06,  2.47it/s]"
     ]
    },
    {
     "name": "stdout",
     "output_type": "stream",
     "text": [
      "Redirected:  10099 https://www.domain.com.au/dg06-8-olive-york-way-brunswick-east-vic-3057-16036047\n"
     ]
    },
    {
     "name": "stderr",
     "output_type": "stream",
     "text": [
      " 61%|█████████████████████████████████████████████▋                             | 10116/16624 [1:20:56<42:44,  2.54it/s]"
     ]
    },
    {
     "name": "stdout",
     "output_type": "stream",
     "text": [
      "Redirected:  10115 https://www.domain.com.au/308-112-ireland-street-west-melbourne-vic-3003-16035998\n",
      "'props'\n"
     ]
    },
    {
     "name": "stderr",
     "output_type": "stream",
     "text": [
      " 61%|█████████████████████████████████████████████▋                             | 10120/16624 [1:20:57<41:23,  2.62it/s]"
     ]
    },
    {
     "name": "stdout",
     "output_type": "stream",
     "text": [
      "Redirected:  10119 https://www.domain.com.au/3514-601-little-lonsdale-street-melbourne-vic-3000-16035989\n",
      "'props'\n"
     ]
    },
    {
     "name": "stderr",
     "output_type": "stream",
     "text": [
      " 61%|█████████████████████████████████████████████▋                             | 10128/16624 [1:21:01<40:41,  2.66it/s]"
     ]
    },
    {
     "name": "stdout",
     "output_type": "stream",
     "text": [
      "Redirected:  10127 https://www.domain.com.au/25-olivia-way-hastings-vic-3915-16035967\n",
      "'props'\n"
     ]
    },
    {
     "name": "stderr",
     "output_type": "stream",
     "text": [
      " 61%|█████████████████████████████████████████████▊                             | 10159/16624 [1:21:19<40:17,  2.67it/s]"
     ]
    },
    {
     "name": "stdout",
     "output_type": "stream",
     "text": [
      "Redirected:  10158 https://www.domain.com.au/611-2-claremont-street-south-yarra-vic-3141-16035882\n",
      "'props'\n"
     ]
    },
    {
     "name": "stderr",
     "output_type": "stream",
     "text": [
      " 61%|█████████████████████████████████████████████▉                             | 10181/16624 [1:21:29<36:58,  2.90it/s]"
     ]
    },
    {
     "name": "stdout",
     "output_type": "stream",
     "text": [
      "Redirected:  10180 https://www.domain.com.au/2-4-assumption-close-truganina-vic-3029-16035814\n",
      "'props'\n"
     ]
    },
    {
     "name": "stderr",
     "output_type": "stream",
     "text": [
      " 61%|█████████████████████████████████████████████▉                             | 10189/16624 [1:21:33<38:49,  2.76it/s]"
     ]
    },
    {
     "name": "stdout",
     "output_type": "stream",
     "text": [
      "Redirected:  10188 https://www.domain.com.au/52a-campbell-street-coburg-vic-3058-16035800\n",
      "'props'\n"
     ]
    },
    {
     "name": "stderr",
     "output_type": "stream",
     "text": [
      " 61%|██████████████████████████████████████████████                             | 10212/16624 [1:21:42<45:58,  2.32it/s]"
     ]
    },
    {
     "name": "stdout",
     "output_type": "stream",
     "text": [
      "Redirected:  10212 https://www.domain.com.au/51-riley-street-clayton-vic-3168-16035733\n"
     ]
    },
    {
     "name": "stderr",
     "output_type": "stream",
     "text": [
      " 62%|██████████████████████████████████████████████▏                            | 10229/16624 [1:21:51<47:07,  2.26it/s]"
     ]
    },
    {
     "name": "stdout",
     "output_type": "stream",
     "text": [
      "Redirected:  10229 https://www.domain.com.au/9-491-nicholson-street-carlton-north-vic-3054-16035692\n"
     ]
    },
    {
     "name": "stderr",
     "output_type": "stream",
     "text": [
      " 62%|██████████████████████████████████████████████▏                            | 10231/16624 [1:21:51<38:24,  2.77it/s]"
     ]
    },
    {
     "name": "stdout",
     "output_type": "stream",
     "text": [
      "'listingSummary'\n",
      "Redirected:  10230 https://www.domain.com.au/10-song-street-mambourin-vic-3024-15981941\n",
      "'props'\n"
     ]
    },
    {
     "name": "stderr",
     "output_type": "stream",
     "text": [
      " 62%|██████████████████████████████████████████████▎                            | 10254/16624 [1:22:01<38:24,  2.76it/s]"
     ]
    },
    {
     "name": "stdout",
     "output_type": "stream",
     "text": [
      "Redirected:  10253 https://www.domain.com.au/27-69-dorcas-street-south-melbourne-vic-3205-16035633\n",
      "'props'\n",
      "Redirected:  10254 https://www.domain.com.au/1107-241-city-road-southbank-vic-3006-16034249\n"
     ]
    },
    {
     "name": "stderr",
     "output_type": "stream",
     "text": [
      "\r",
      " 62%|██████████████████████████████████████████████▎                            | 10255/16624 [1:22:02<33:12,  3.20it/s]"
     ]
    },
    {
     "name": "stdout",
     "output_type": "stream",
     "text": [
      "'props'\n"
     ]
    },
    {
     "name": "stderr",
     "output_type": "stream",
     "text": [
      " 62%|██████████████████████████████████████████████▎                            | 10257/16624 [1:22:02<30:05,  3.53it/s]"
     ]
    },
    {
     "name": "stdout",
     "output_type": "stream",
     "text": [
      "Redirected:  10256 https://www.domain.com.au/4906-560-lonsdale-street-melbourne-vic-3000-16035629\n",
      "'props'\n"
     ]
    },
    {
     "name": "stderr",
     "output_type": "stream",
     "text": [
      " 62%|██████████████████████████████████████████████▎                            | 10261/16624 [1:22:04<41:19,  2.57it/s]"
     ]
    },
    {
     "name": "stdout",
     "output_type": "stream",
     "text": [
      "Redirected:  10261 https://www.domain.com.au/3-5-rosella-place-yarrawonga-vic-3730-16035603\n"
     ]
    },
    {
     "name": "stderr",
     "output_type": "stream",
     "text": [
      " 62%|█████████████████████████████████████████████                            | 10274/16624 [1:22:11<1:04:55,  1.63it/s]"
     ]
    },
    {
     "name": "stdout",
     "output_type": "stream",
     "text": [
      "Redirected:  10273 https://www.domain.com.au/6-13-hopetoun-avenue-brunswick-west-vic-3055-16035563\n",
      "'props'\n",
      "Redirected:  10274 https://www.domain.com.au/3-34-elstone-avenue-airport-west-vic-3042-16035562\n"
     ]
    },
    {
     "name": "stderr",
     "output_type": "stream",
     "text": [
      "\r",
      " 62%|██████████████████████████████████████████████▎                            | 10275/16624 [1:22:11<51:43,  2.05it/s]"
     ]
    },
    {
     "name": "stdout",
     "output_type": "stream",
     "text": [
      "'props'\n"
     ]
    },
    {
     "name": "stderr",
     "output_type": "stream",
     "text": [
      " 62%|█████████████████████████████████████████████▏                           | 10277/16624 [1:22:13<1:02:04,  1.70it/s]"
     ]
    },
    {
     "name": "stdout",
     "output_type": "stream",
     "text": [
      "Redirected:  10276 https://www.domain.com.au/1310-238-flinders-street-melbourne-vic-3000-16035559\n",
      "'props'\n"
     ]
    },
    {
     "name": "stderr",
     "output_type": "stream",
     "text": [
      " 62%|█████████████████████████████████████████████▏                           | 10287/16624 [1:22:19<1:34:01,  1.12it/s]"
     ]
    },
    {
     "name": "stdout",
     "output_type": "stream",
     "text": [
      "Redirected:  10286 https://www.domain.com.au/38-gordon-street-traralgon-vic-3844-16035513\n",
      "'props'\n"
     ]
    },
    {
     "name": "stderr",
     "output_type": "stream",
     "text": [
      " 62%|██████████████████████████████████████████████▍                            | 10296/16624 [1:22:23<40:59,  2.57it/s]"
     ]
    },
    {
     "name": "stdout",
     "output_type": "stream",
     "text": [
      "Redirected:  10295 https://www.domain.com.au/3505-601-little-lonsdale-street-melbourne-vic-3000-16035491\n",
      "'props'\n"
     ]
    },
    {
     "name": "stderr",
     "output_type": "stream",
     "text": [
      " 62%|██████████████████████████████████████████████▌                            | 10325/16624 [1:22:36<36:18,  2.89it/s]"
     ]
    },
    {
     "name": "stdout",
     "output_type": "stream",
     "text": [
      "Redirected:  10324 https://www.domain.com.au/1307-601-little-lonsdale-street-melbourne-vic-3000-16035333\n",
      "'props'\n"
     ]
    },
    {
     "name": "stderr",
     "output_type": "stream",
     "text": [
      " 62%|██████████████████████████████████████████████▋                            | 10340/16624 [1:22:42<34:42,  3.02it/s]"
     ]
    },
    {
     "name": "stdout",
     "output_type": "stream",
     "text": [
      "Redirected:  10339 https://www.domain.com.au/812-300-swanston-st-melbourne-vic-3000-16035293\n",
      "'props'\n"
     ]
    },
    {
     "name": "stderr",
     "output_type": "stream",
     "text": [
      " 62%|██████████████████████████████████████████████▋                            | 10342/16624 [1:22:43<42:31,  2.46it/s]"
     ]
    },
    {
     "name": "stdout",
     "output_type": "stream",
     "text": [
      "Redirected:  10341 https://www.domain.com.au/2-2-flowerdale-road-hampton-east-vic-3188-16035286\n",
      "'props'\n"
     ]
    },
    {
     "name": "stderr",
     "output_type": "stream",
     "text": [
      " 62%|██████████████████████████████████████████████▋                            | 10346/16624 [1:22:45<30:57,  3.38it/s]"
     ]
    },
    {
     "name": "stdout",
     "output_type": "stream",
     "text": [
      "Redirected:  10344 https://www.domain.com.au/1-82-bindi-street-glenroy-vic-3046-16035282\n",
      "'props'\n",
      "Redirected:  10345 https://www.domain.com.au/307-499-st-kilda-road-melbourne-vic-3004-14203000\n",
      "'props'\n"
     ]
    },
    {
     "name": "stderr",
     "output_type": "stream",
     "text": [
      " 62%|██████████████████████████████████████████████▋                            | 10354/16624 [1:22:49<53:50,  1.94it/s]"
     ]
    },
    {
     "name": "stdout",
     "output_type": "stream",
     "text": [
      "Redirected:  10353 https://www.domain.com.au/46-steven-street-dandenong-vic-3175-16035252\n",
      "'props'\n"
     ]
    },
    {
     "name": "stderr",
     "output_type": "stream",
     "text": [
      " 62%|██████████████████████████████████████████████▊                            | 10370/16624 [1:22:57<59:31,  1.75it/s]"
     ]
    },
    {
     "name": "stdout",
     "output_type": "stream",
     "text": [
      "Redirected:  10369 https://www.domain.com.au/20-chase-boulevard-berwick-vic-3806-16035185\n",
      "'listingSummary'\n"
     ]
    },
    {
     "name": "stderr",
     "output_type": "stream",
     "text": [
      " 62%|██████████████████████████████████████████████▊                            | 10374/16624 [1:22:59<53:19,  1.95it/s]"
     ]
    },
    {
     "name": "stdout",
     "output_type": "stream",
     "text": [
      "Redirected:  10374 https://www.domain.com.au/burwood-east-vic-3151-16035159\n"
     ]
    },
    {
     "name": "stderr",
     "output_type": "stream",
     "text": [
      " 62%|██████████████████████████████████████████████▊                            | 10381/16624 [1:23:03<40:53,  2.54it/s]"
     ]
    },
    {
     "name": "stdout",
     "output_type": "stream",
     "text": [
      "Redirected:  10380 https://www.domain.com.au/1807-245-city-road-southbank-vic-3006-16035124\n",
      "'props'\n"
     ]
    },
    {
     "name": "stderr",
     "output_type": "stream",
     "text": [
      " 62%|██████████████████████████████████████████████▊                            | 10387/16624 [1:23:05<39:50,  2.61it/s]"
     ]
    },
    {
     "name": "stdout",
     "output_type": "stream",
     "text": [
      "Redirected:  10386 https://www.domain.com.au/149-police-road-mulgrave-vic-3170-16035111\n",
      "'props'\n"
     ]
    },
    {
     "name": "stderr",
     "output_type": "stream",
     "text": [
      " 63%|██████████████████████████████████████████████▉                            | 10408/16624 [1:23:16<49:14,  2.10it/s]"
     ]
    },
    {
     "name": "stdout",
     "output_type": "stream",
     "text": [
      "Redirected:  10407 https://www.domain.com.au/15-evergreen-boulevard-jackass-flat-vic-3556-16035026\n",
      "'props'\n"
     ]
    },
    {
     "name": "stderr",
     "output_type": "stream",
     "text": [
      " 63%|██████████████████████████████████████████████▉                            | 10410/16624 [1:23:17<46:24,  2.23it/s]"
     ]
    },
    {
     "name": "stdout",
     "output_type": "stream",
     "text": [
      "Redirected:  10409 https://www.domain.com.au/1407-50-albert-road-south-melbourne-vic-3205-15238547\n",
      "'props'\n"
     ]
    },
    {
     "name": "stderr",
     "output_type": "stream",
     "text": [
      " 63%|██████████████████████████████████████████████▉                            | 10416/16624 [1:23:19<40:33,  2.55it/s]"
     ]
    },
    {
     "name": "stdout",
     "output_type": "stream",
     "text": [
      "Redirected:  10415 https://www.domain.com.au/8a-maralinga-terrace-mooroolbark-vic-3138-16035009\n",
      "'listingSummary'\n"
     ]
    },
    {
     "name": "stderr",
     "output_type": "stream",
     "text": [
      " 63%|███████████████████████████████████████████████                            | 10433/16624 [1:23:27<40:42,  2.54it/s]"
     ]
    },
    {
     "name": "stdout",
     "output_type": "stream",
     "text": [
      "Redirected:  10432 https://www.domain.com.au/2-300-springfield-road-nunawading-vic-3131-16034947\n",
      "'props'\n"
     ]
    },
    {
     "name": "stderr",
     "output_type": "stream",
     "text": [
      " 63%|███████████████████████████████████████████████                            | 10442/16624 [1:23:31<52:18,  1.97it/s]"
     ]
    },
    {
     "name": "stdout",
     "output_type": "stream",
     "text": [
      "Redirected:  10441 https://www.domain.com.au/110-nada-way-carrum-downs-vic-3201-15956375\n",
      "'listingSummary'\n"
     ]
    },
    {
     "name": "stderr",
     "output_type": "stream",
     "text": [
      "\r",
      " 63%|███████████████████████████████████████████████                            | 10443/16624 [1:23:31<41:30,  2.48it/s]"
     ]
    },
    {
     "name": "stdout",
     "output_type": "stream",
     "text": [
      "Redirected:  10442 https://www.domain.com.au/4-meredith-street-mount-waverley-vic-3149-16034912\n",
      "'props'\n"
     ]
    },
    {
     "name": "stderr",
     "output_type": "stream",
     "text": [
      " 63%|███████████████████████████████████████████████▏                           | 10457/16624 [1:23:38<48:03,  2.14it/s]"
     ]
    },
    {
     "name": "stdout",
     "output_type": "stream",
     "text": [
      "Redirected:  10456 https://www.domain.com.au/18-rollins-road-bell-post-hill-vic-3215-15936515\n",
      "'props'\n"
     ]
    },
    {
     "name": "stderr",
     "output_type": "stream",
     "text": [
      " 63%|███████████████████████████████████████████████▎                           | 10480/16624 [1:23:49<50:00,  2.05it/s]"
     ]
    },
    {
     "name": "stdout",
     "output_type": "stream",
     "text": [
      "Redirected:  10480 https://www.domain.com.au/8a-gavin-street-jacana-vic-3047-16034801\n"
     ]
    },
    {
     "name": "stderr",
     "output_type": "stream",
     "text": [
      "\r",
      " 63%|██████████████████████████████████████████████                           | 10481/16624 [1:23:50<1:08:10,  1.50it/s]"
     ]
    },
    {
     "name": "stdout",
     "output_type": "stream",
     "text": [
      "'listingSummary'\n"
     ]
    },
    {
     "name": "stderr",
     "output_type": "stream",
     "text": [
      " 63%|███████████████████████████████████████████████▎                           | 10489/16624 [1:23:54<50:06,  2.04it/s]"
     ]
    },
    {
     "name": "stdout",
     "output_type": "stream",
     "text": [
      "Redirected:  10489 https://www.domain.com.au/103-616-618-warrigal-road-malvern-east-vic-3145-16034773\n"
     ]
    },
    {
     "name": "stderr",
     "output_type": "stream",
     "text": [
      " 63%|███████████████████████████████████████████████▎                           | 10499/16624 [1:24:00<49:20,  2.07it/s]"
     ]
    },
    {
     "name": "stdout",
     "output_type": "stream",
     "text": [
      "Redirected:  10498 https://www.domain.com.au/302-200-toorak-road-south-yarra-vic-3141-16034745\n",
      "'props'\n"
     ]
    },
    {
     "name": "stderr",
     "output_type": "stream",
     "text": [
      " 63%|███████████████████████████████████████████████▍                           | 10515/16624 [1:24:08<55:57,  1.82it/s]"
     ]
    },
    {
     "name": "stdout",
     "output_type": "stream",
     "text": [
      "Redirected:  10514 https://www.domain.com.au/25-burke-street-mortlake-vic-3272-16034689\n",
      "'props'\n"
     ]
    },
    {
     "name": "stderr",
     "output_type": "stream",
     "text": [
      " 63%|███████████████████████████████████████████████▍                           | 10523/16624 [1:24:12<51:56,  1.96it/s]"
     ]
    },
    {
     "name": "stdout",
     "output_type": "stream",
     "text": [
      "Redirected:  10523 https://www.domain.com.au/1-7-9-ormsby-avenue-toorak-vic-3142-16034652\n"
     ]
    },
    {
     "name": "stderr",
     "output_type": "stream",
     "text": [
      " 63%|███████████████████████████████████████████████▌                           | 10545/16624 [1:24:24<33:48,  3.00it/s]"
     ]
    },
    {
     "name": "stdout",
     "output_type": "stream",
     "text": [
      "Redirected:  10544 https://www.domain.com.au/42-ferrars-place-south-melbourne-vic-3205-16034598\n",
      "'props'\n"
     ]
    },
    {
     "name": "stderr",
     "output_type": "stream",
     "text": [
      " 64%|███████████████████████████████████████████████▋                           | 10563/16624 [1:24:32<49:32,  2.04it/s]"
     ]
    },
    {
     "name": "stdout",
     "output_type": "stream",
     "text": [
      "Redirected:  10562 https://www.domain.com.au/7-mulberry-grove-keysborough-vic-3173-16034512\n",
      "'props'\n"
     ]
    },
    {
     "name": "stderr",
     "output_type": "stream",
     "text": [
      " 64%|███████████████████████████████████████████████▋                           | 10574/16624 [1:24:39<37:16,  2.71it/s]"
     ]
    },
    {
     "name": "stdout",
     "output_type": "stream",
     "text": [
      "Redirected:  10573 https://www.domain.com.au/2-318-blackburn-road-glen-waverley-vic-3150-16034472\n",
      "'props'\n"
     ]
    },
    {
     "name": "stderr",
     "output_type": "stream",
     "text": [
      " 64%|███████████████████████████████████████████████▊                           | 10588/16624 [1:24:45<32:19,  3.11it/s]"
     ]
    },
    {
     "name": "stdout",
     "output_type": "stream",
     "text": [
      "Redirected:  10586 https://www.domain.com.au/1307-151-city-road-southbank-vic-3006-16034427\n",
      "'props'\n",
      "Redirected:  10587 https://www.domain.com.au/307-112-adderley-street-west-melbourne-vic-3003-16034423\n",
      "'props'\n"
     ]
    },
    {
     "name": "stderr",
     "output_type": "stream",
     "text": [
      " 64%|███████████████████████████████████████████████▊                           | 10600/16624 [1:24:51<51:41,  1.94it/s]"
     ]
    },
    {
     "name": "stdout",
     "output_type": "stream",
     "text": [
      "Redirected:  10599 https://www.domain.com.au/6-11-15-mimosa-court-maryborough-vic-3465-16034377\n",
      "'props'\n"
     ]
    },
    {
     "name": "stderr",
     "output_type": "stream",
     "text": [
      " 64%|███████████████████████████████████████████████▉                           | 10619/16624 [1:25:00<46:35,  2.15it/s]"
     ]
    },
    {
     "name": "stdout",
     "output_type": "stream",
     "text": [
      "Redirected:  10619 https://www.domain.com.au/lalor-vic-3075-16034291\n"
     ]
    },
    {
     "name": "stderr",
     "output_type": "stream",
     "text": [
      " 64%|███████████████████████████████████████████████▉                           | 10622/16624 [1:25:02<41:31,  2.41it/s]"
     ]
    },
    {
     "name": "stdout",
     "output_type": "stream",
     "text": [
      "Redirected:  10621 https://www.domain.com.au/2-power-street-croydon-north-vic-3136-16034266\n",
      "'props'\n"
     ]
    },
    {
     "name": "stderr",
     "output_type": "stream",
     "text": [
      " 64%|███████████████████████████████████████████████▉                           | 10627/16624 [1:25:04<38:23,  2.60it/s]"
     ]
    },
    {
     "name": "stdout",
     "output_type": "stream",
     "text": [
      "Redirected:  10626 https://www.domain.com.au/308-187-boundary-road-north-melbourne-vic-3051-16034252\n",
      "'props'\n"
     ]
    },
    {
     "name": "stderr",
     "output_type": "stream",
     "text": [
      " 64%|███████████████████████████████████████████████▉                           | 10638/16624 [1:25:09<38:47,  2.57it/s]"
     ]
    },
    {
     "name": "stdout",
     "output_type": "stream",
     "text": [
      "Redirected:  10637 https://www.domain.com.au/25-wilkinson-road-sunshine-vic-3020-16034224\n",
      "'props'\n"
     ]
    },
    {
     "name": "stderr",
     "output_type": "stream",
     "text": [
      " 64%|████████████████████████████████████████████████                           | 10647/16624 [1:25:13<33:32,  2.97it/s]"
     ]
    },
    {
     "name": "stdout",
     "output_type": "stream",
     "text": [
      "Redirected:  10645 https://www.domain.com.au/51-atheldene-drive-glen-waverley-vic-3150-12712971\n",
      "'props'\n",
      "Redirected:  10646 https://www.domain.com.au/14-moss-street-prahran-vic-3181-16034206\n",
      "'props'\n"
     ]
    },
    {
     "name": "stderr",
     "output_type": "stream",
     "text": [
      " 64%|████████████████████████████████████████████████                           | 10659/16624 [1:25:20<47:20,  2.10it/s]"
     ]
    },
    {
     "name": "stdout",
     "output_type": "stream",
     "text": [
      "Redirected:  10659 https://www.domain.com.au/253-normanby-road-south-melbourne-vic-3205-16034152\n"
     ]
    },
    {
     "name": "stderr",
     "output_type": "stream",
     "text": [
      " 64%|████████████████████████████████████████████████                           | 10666/16624 [1:25:23<39:47,  2.50it/s]"
     ]
    },
    {
     "name": "stdout",
     "output_type": "stream",
     "text": [
      "Redirected:  10665 https://www.domain.com.au/11-43-caroline-street-south-yarra-vic-3141-16034147\n",
      "'props'\n"
     ]
    },
    {
     "name": "stderr",
     "output_type": "stream",
     "text": [
      " 64%|████████████████████████████████████████████████▏                          | 10669/16624 [1:25:24<41:15,  2.41it/s]"
     ]
    },
    {
     "name": "stdout",
     "output_type": "stream",
     "text": [
      "Redirected:  10669 https://www.domain.com.au/253-normanby-road-south-melbourne-vic-3205-16034120\n"
     ]
    },
    {
     "name": "stderr",
     "output_type": "stream",
     "text": [
      " 64%|████████████████████████████████████████████████▏                          | 10690/16624 [1:25:34<46:32,  2.13it/s]"
     ]
    },
    {
     "name": "stdout",
     "output_type": "stream",
     "text": [
      "Redirected:  10690 https://www.domain.com.au/401-839-dandenong-road-malvern-east-vic-3145-11446712\n"
     ]
    },
    {
     "name": "stderr",
     "output_type": "stream",
     "text": [
      " 64%|████████████████████████████████████████████████▏                          | 10692/16624 [1:25:35<52:58,  1.87it/s]"
     ]
    },
    {
     "name": "stdout",
     "output_type": "stream",
     "text": [
      "Redirected:  10692 https://www.domain.com.au/22-epsom-avenue-mill-park-vic-3082-16034050\n"
     ]
    },
    {
     "name": "stderr",
     "output_type": "stream",
     "text": [
      " 64%|████████████████████████████████████████████████▎                          | 10708/16624 [1:25:43<32:41,  3.02it/s]"
     ]
    },
    {
     "name": "stdout",
     "output_type": "stream",
     "text": [
      "Redirected:  10707 https://www.domain.com.au/38-pakenham-street-blackburn-vic-3130-16033983\n",
      "'props'\n"
     ]
    },
    {
     "name": "stderr",
     "output_type": "stream",
     "text": [
      " 64%|████████████████████████████████████████████████▎                          | 10720/16624 [1:25:48<33:02,  2.98it/s]"
     ]
    },
    {
     "name": "stdout",
     "output_type": "stream",
     "text": [
      "Redirected:  10719 https://www.domain.com.au/389-napier-street-fitzroy-vic-3065-16033938\n",
      "'props'\n"
     ]
    },
    {
     "name": "stderr",
     "output_type": "stream",
     "text": [
      " 65%|████████████████████████████████████████████████▍                          | 10736/16624 [1:25:57<42:16,  2.32it/s]"
     ]
    },
    {
     "name": "stdout",
     "output_type": "stream",
     "text": [
      "Redirected:  10736 https://www.domain.com.au/53-adelong-bvd-cobblebank-vic-3338-16033906\n"
     ]
    },
    {
     "name": "stderr",
     "output_type": "stream",
     "text": [
      " 65%|████████████████████████████████████████████████▍                          | 10738/16624 [1:25:58<43:43,  2.24it/s]"
     ]
    },
    {
     "name": "stdout",
     "output_type": "stream",
     "text": [
      "Redirected:  10738 https://www.domain.com.au/15-alcock-reservoir-vic-3073-16033893\n"
     ]
    },
    {
     "name": "stderr",
     "output_type": "stream",
     "text": [
      " 65%|████████████████████████████████████████████████▍                          | 10749/16624 [1:26:04<45:36,  2.15it/s]"
     ]
    },
    {
     "name": "stdout",
     "output_type": "stream",
     "text": [
      "Redirected:  10748 https://www.domain.com.au/6-1-3-barkly-avenue-armadale-vic-3143-9516759\n",
      "'props'\n"
     ]
    },
    {
     "name": "stderr",
     "output_type": "stream",
     "text": [
      " 65%|████████████████████████████████████████████████▌                          | 10752/16624 [1:26:05<35:01,  2.79it/s]"
     ]
    },
    {
     "name": "stdout",
     "output_type": "stream",
     "text": [
      "Redirected:  10751 https://www.domain.com.au/303-2-pine-avenue-elwood-vic-3184-15568042\n",
      "'props'\n"
     ]
    },
    {
     "name": "stderr",
     "output_type": "stream",
     "text": [
      " 65%|████████████████████████████████████████████████▌                          | 10763/16624 [1:26:10<48:43,  2.00it/s]"
     ]
    },
    {
     "name": "stdout",
     "output_type": "stream",
     "text": [
      "Redirected:  10763 https://www.domain.com.au/5-neptune-ave-n-portland-north-vic-3305-16033823\n"
     ]
    },
    {
     "name": "stderr",
     "output_type": "stream",
     "text": [
      " 65%|████████████████████████████████████████████████▋                          | 10792/16624 [1:26:25<33:25,  2.91it/s]"
     ]
    },
    {
     "name": "stdout",
     "output_type": "stream",
     "text": [
      "Redirected:  10791 https://www.domain.com.au/5-glenisla-way-berwick-vic-3806-15305505\n",
      "'props'\n"
     ]
    },
    {
     "name": "stderr",
     "output_type": "stream",
     "text": [
      " 65%|████████████████████████████████████████████████▋                          | 10794/16624 [1:26:26<45:03,  2.16it/s]"
     ]
    },
    {
     "name": "stdout",
     "output_type": "stream",
     "text": [
      "Redirected:  10794 https://www.domain.com.au/43-madden-boulevard-tarneit-vic-3029-16033724\n"
     ]
    },
    {
     "name": "stderr",
     "output_type": "stream",
     "text": [
      " 65%|████████████████████████████████████████████████▊                          | 10818/16624 [1:26:38<41:10,  2.35it/s]"
     ]
    },
    {
     "name": "stdout",
     "output_type": "stream",
     "text": [
      "Redirected:  10817 https://www.domain.com.au/601-277-279-centre-road-bentleigh-vic-3204-16033654\n",
      "'listingSummary'\n"
     ]
    },
    {
     "name": "stderr",
     "output_type": "stream",
     "text": [
      "\r",
      " 65%|████████████████████████████████████████████████▊                          | 10819/16624 [1:26:39<37:24,  2.59it/s]"
     ]
    },
    {
     "name": "stdout",
     "output_type": "stream",
     "text": [
      "Redirected:  10818 https://www.domain.com.au/1-logan-court-shepparton-vic-3630-16033653\n",
      "'props'\n"
     ]
    },
    {
     "name": "stderr",
     "output_type": "stream",
     "text": [
      " 65%|████████████████████████████████████████████████▊                          | 10830/16624 [1:26:43<43:18,  2.23it/s]"
     ]
    },
    {
     "name": "stdout",
     "output_type": "stream",
     "text": [
      "Redirected:  10829 https://www.domain.com.au/5-moss-street-melton-south-vic-3338-15980372\n",
      "'props'\n"
     ]
    },
    {
     "name": "stderr",
     "output_type": "stream",
     "text": [
      " 65%|████████████████████████████████████████████████▉                          | 10857/16624 [1:26:57<34:35,  2.78it/s]"
     ]
    },
    {
     "name": "stdout",
     "output_type": "stream",
     "text": [
      "Redirected:  10856 https://www.domain.com.au/2310-3-yarra-street-south-yarra-vic-3141-11220968\n",
      "'props'\n"
     ]
    },
    {
     "name": "stderr",
     "output_type": "stream",
     "text": [
      " 65%|█████████████████████████████████████████████████                          | 10863/16624 [1:27:00<41:18,  2.32it/s]"
     ]
    },
    {
     "name": "stdout",
     "output_type": "stream",
     "text": [
      "Redirected:  10862 https://www.domain.com.au/1-40-durham-road-surrey-hills-vic-3127-11695529\n",
      "'props'\n"
     ]
    },
    {
     "name": "stderr",
     "output_type": "stream",
     "text": [
      " 65%|█████████████████████████████████████████████████                          | 10865/16624 [1:27:02<57:48,  1.66it/s]"
     ]
    },
    {
     "name": "stdout",
     "output_type": "stream",
     "text": [
      "Redirected:  10865 https://www.domain.com.au/1b-ireland-street-ringwood-vic-3134-16033514\n"
     ]
    },
    {
     "name": "stderr",
     "output_type": "stream",
     "text": [
      " 66%|███████████████████████████████████████████████▊                         | 10898/16624 [1:27:20<1:03:30,  1.50it/s]"
     ]
    },
    {
     "name": "stdout",
     "output_type": "stream",
     "text": [
      "Redirected:  10897 https://www.domain.com.au/5-3-5-carlisle-crescent-hughesdale-vic-3166-16033405\n",
      "'props'\n"
     ]
    },
    {
     "name": "stderr",
     "output_type": "stream",
     "text": [
      " 66%|█████████████████████████████████████████████████▏                         | 10909/16624 [1:27:25<31:44,  3.00it/s]"
     ]
    },
    {
     "name": "stdout",
     "output_type": "stream",
     "text": [
      "Redirected:  10907 https://www.domain.com.au/535-walnut-avenue-mildura-vic-3500-16033385\n",
      "'props'\n",
      "Redirected:  10908 https://www.domain.com.au/14-milton-drive-wyndham-vale-vic-3024-13677817\n",
      "'props'\n"
     ]
    },
    {
     "name": "stderr",
     "output_type": "stream",
     "text": [
      " 66%|█████████████████████████████████████████████████▏                         | 10912/16624 [1:27:26<42:40,  2.23it/s]"
     ]
    },
    {
     "name": "stdout",
     "output_type": "stream",
     "text": [
      "Redirected:  10911 https://www.domain.com.au/1-christopher-crescent-tullamarine-vic-3043-15990410\n",
      "'props'\n"
     ]
    },
    {
     "name": "stderr",
     "output_type": "stream",
     "text": [
      " 66%|█████████████████████████████████████████████████▏                         | 10914/16624 [1:27:27<37:39,  2.53it/s]"
     ]
    },
    {
     "name": "stdout",
     "output_type": "stream",
     "text": [
      "Redirected:  10913 https://www.domain.com.au/14-westgarth-street-northcote-vic-3070-16033374\n",
      "'props'\n"
     ]
    },
    {
     "name": "stderr",
     "output_type": "stream",
     "text": [
      " 66%|█████████████████████████████████████████████████▏                         | 10916/16624 [1:27:27<28:44,  3.31it/s]"
     ]
    },
    {
     "name": "stdout",
     "output_type": "stream",
     "text": [
      "Redirected:  10915 https://www.domain.com.au/4-74-dundas-street-thornbury-vic-3071-15820197\n",
      "'props'\n"
     ]
    },
    {
     "name": "stderr",
     "output_type": "stream",
     "text": [
      " 66%|█████████████████████████████████████████████████▎                         | 10920/16624 [1:27:30<50:30,  1.88it/s]"
     ]
    },
    {
     "name": "stdout",
     "output_type": "stream",
     "text": [
      "Redirected:  10919 https://www.domain.com.au/1410-181-abeckett-street-melbourne-vic-3000-16033368\n",
      "'props'\n"
     ]
    },
    {
     "name": "stderr",
     "output_type": "stream",
     "text": [
      " 66%|█████████████████████████████████████████████████▎                         | 10925/16624 [1:27:32<38:28,  2.47it/s]"
     ]
    },
    {
     "name": "stdout",
     "output_type": "stream",
     "text": [
      "Redirected:  10924 https://www.domain.com.au/5-199-auburn-road-hawthorn-vic-3122-16033351\n",
      "'props'\n"
     ]
    },
    {
     "name": "stderr",
     "output_type": "stream",
     "text": [
      " 66%|█████████████████████████████████████████████████▎                         | 10928/16624 [1:27:33<34:37,  2.74it/s]"
     ]
    },
    {
     "name": "stdout",
     "output_type": "stream",
     "text": [
      "Redirected:  10927 https://www.domain.com.au/115-magnolia-ave-mildura-vic-3500-15979985\n",
      "'props'\n"
     ]
    },
    {
     "name": "stderr",
     "output_type": "stream",
     "text": [
      " 66%|█████████████████████████████████████████████████▎                         | 10940/16624 [1:27:39<44:14,  2.14it/s]"
     ]
    },
    {
     "name": "stdout",
     "output_type": "stream",
     "text": [
      "Redirected:  10940 https://www.domain.com.au/46-view-street-st-albans-east-vic-3021-16033278\n"
     ]
    },
    {
     "name": "stderr",
     "output_type": "stream",
     "text": [
      " 66%|█████████████████████████████████████████████████▍                         | 10945/16624 [1:27:41<35:14,  2.69it/s]"
     ]
    },
    {
     "name": "stdout",
     "output_type": "stream",
     "text": [
      "Redirected:  10944 https://www.domain.com.au/150-moores-road-clyde-vic-3978-16033261\n",
      "'props'\n"
     ]
    },
    {
     "name": "stderr",
     "output_type": "stream",
     "text": [
      " 66%|█████████████████████████████████████████████████▍                         | 10964/16624 [1:27:50<41:00,  2.30it/s]"
     ]
    },
    {
     "name": "stdout",
     "output_type": "stream",
     "text": [
      "Redirected:  10964 https://www.domain.com.au/hawthorn-vic-3122-16033192\n"
     ]
    },
    {
     "name": "stderr",
     "output_type": "stream",
     "text": [
      " 66%|█████████████████████████████████████████████████▌                         | 10975/16624 [1:27:55<40:24,  2.33it/s]"
     ]
    },
    {
     "name": "stdout",
     "output_type": "stream",
     "text": [
      "Redirected:  10975 https://www.domain.com.au/44-beauty-gully-road-warrandyte-vic-3113-16033139\n"
     ]
    },
    {
     "name": "stderr",
     "output_type": "stream",
     "text": [
      " 66%|█████████████████████████████████████████████████▌                         | 10982/16624 [1:27:58<38:40,  2.43it/s]"
     ]
    },
    {
     "name": "stdout",
     "output_type": "stream",
     "text": [
      "Redirected:  10982 https://www.domain.com.au/509-121-rosslyn-street-west-melbourne-vic-3003-14662967\n"
     ]
    },
    {
     "name": "stderr",
     "output_type": "stream",
     "text": [
      " 66%|█████████████████████████████████████████████████▌                         | 10989/16624 [1:28:01<43:21,  2.17it/s]"
     ]
    },
    {
     "name": "stdout",
     "output_type": "stream",
     "text": [
      "Redirected:  10989 https://www.domain.com.au/802-478-st-kilda-road-melbourne-vic-3004-13068501\n"
     ]
    },
    {
     "name": "stderr",
     "output_type": "stream",
     "text": [
      " 66%|█████████████████████████████████████████████████▌                         | 10998/16624 [1:28:05<48:46,  1.92it/s]"
     ]
    },
    {
     "name": "stdout",
     "output_type": "stream",
     "text": [
      "Redirected:  10998 https://www.domain.com.au/35-st-georges-road-fitzroy-vic-3065-16033026\n"
     ]
    },
    {
     "name": "stderr",
     "output_type": "stream",
     "text": [
      " 66%|█████████████████████████████████████████████████▋                         | 11002/16624 [1:28:08<52:12,  1.79it/s]"
     ]
    },
    {
     "name": "stdout",
     "output_type": "stream",
     "text": [
      "Redirected:  11002 https://www.domain.com.au/2-4-sydeney-street-clayton-south-vic-3169-16033012\n"
     ]
    },
    {
     "name": "stderr",
     "output_type": "stream",
     "text": [
      " 66%|█████████████████████████████████████████████████▋                         | 11013/16624 [1:28:13<36:29,  2.56it/s]"
     ]
    },
    {
     "name": "stdout",
     "output_type": "stream",
     "text": [
      "Redirected:  11012 https://www.domain.com.au/4-wilhelma-ave-bayswater-vic-3153-16032978\n",
      "'props'\n"
     ]
    },
    {
     "name": "stderr",
     "output_type": "stream",
     "text": [
      " 66%|█████████████████████████████████████████████████▋                         | 11015/16624 [1:28:14<39:27,  2.37it/s]"
     ]
    },
    {
     "name": "stdout",
     "output_type": "stream",
     "text": [
      "Redirected:  11015 https://www.domain.com.au/123-33-jeffcott-street-west-melbourne-vic-3003-15110059\n"
     ]
    },
    {
     "name": "stderr",
     "output_type": "stream",
     "text": [
      " 66%|█████████████████████████████████████████████████▋                         | 11026/16624 [1:28:19<27:29,  3.39it/s]"
     ]
    },
    {
     "name": "stdout",
     "output_type": "stream",
     "text": [
      "Redirected:  11024 https://www.domain.com.au/2003-245-city-road-southbank-vic-3006-16032948\n",
      "'props'\n",
      "Redirected:  11025 https://www.domain.com.au/3813-160-victoria-st-carlton-vic-3053-15268098\n",
      "'props'\n"
     ]
    },
    {
     "name": "stderr",
     "output_type": "stream",
     "text": [
      " 66%|█████████████████████████████████████████████████▊                         | 11035/16624 [1:28:25<47:01,  1.98it/s]"
     ]
    },
    {
     "name": "stdout",
     "output_type": "stream",
     "text": [
      "Redirected:  11034 https://www.domain.com.au/5-325-o-hea-street-pascoe-vale-south-vic-3044-16032912\n",
      "'listingSummary'\n"
     ]
    },
    {
     "name": "stderr",
     "output_type": "stream",
     "text": [
      " 66%|█████████████████████████████████████████████████▊                         | 11040/16624 [1:28:27<35:38,  2.61it/s]"
     ]
    },
    {
     "name": "stdout",
     "output_type": "stream",
     "text": [
      "Redirected:  11039 https://www.domain.com.au/516-551-swanston-street-carlton-vic-3053-16032885\n",
      "'listingSummary'\n"
     ]
    },
    {
     "name": "stderr",
     "output_type": "stream",
     "text": [
      "\r",
      " 66%|█████████████████████████████████████████████████▊                         | 11041/16624 [1:28:27<37:40,  2.47it/s]"
     ]
    },
    {
     "name": "stdout",
     "output_type": "stream",
     "text": [
      "Redirected:  11041 https://www.domain.com.au/1-595-tarneit-street-tarneit-vic-3029-16032880\n"
     ]
    },
    {
     "name": "stderr",
     "output_type": "stream",
     "text": [
      " 66%|█████████████████████████████████████████████████▊                         | 11048/16624 [1:28:31<43:40,  2.13it/s]"
     ]
    },
    {
     "name": "stdout",
     "output_type": "stream",
     "text": [
      "Redirected:  11048 https://www.domain.com.au/14-village-way-pakenham-vic-3810-16032860\n"
     ]
    },
    {
     "name": "stderr",
     "output_type": "stream",
     "text": [
      " 66%|█████████████████████████████████████████████████▊                         | 11051/16624 [1:28:32<35:28,  2.62it/s]"
     ]
    },
    {
     "name": "stdout",
     "output_type": "stream",
     "text": [
      "Redirected:  11050 https://www.domain.com.au/9-20-french-street-footscray-vic-3011-16032851\n",
      "'props'\n"
     ]
    },
    {
     "name": "stderr",
     "output_type": "stream",
     "text": [
      " 67%|█████████████████████████████████████████████████▉                         | 11060/16624 [1:28:35<37:21,  2.48it/s]"
     ]
    },
    {
     "name": "stdout",
     "output_type": "stream",
     "text": [
      "Redirected:  11060 https://www.domain.com.au/6-semillon-grove-mount-clear-vic-3350-16032820\n"
     ]
    },
    {
     "name": "stderr",
     "output_type": "stream",
     "text": [
      " 67%|█████████████████████████████████████████████████▉                         | 11068/16624 [1:28:40<41:59,  2.21it/s]"
     ]
    },
    {
     "name": "stdout",
     "output_type": "stream",
     "text": [
      "Redirected:  11067 https://www.domain.com.au/45-thunderbolt-drive-cranbourne-east-vic-3977-14450073\n",
      "'props'\n"
     ]
    },
    {
     "name": "stderr",
     "output_type": "stream",
     "text": [
      " 67%|█████████████████████████████████████████████████▉                         | 11075/16624 [1:28:44<44:51,  2.06it/s]"
     ]
    },
    {
     "name": "stdout",
     "output_type": "stream",
     "text": [
      "Redirected:  11074 https://www.domain.com.au/508-33-plenty-road-preston-vic-3072-16020998\n",
      "'listingSummary'\n"
     ]
    },
    {
     "name": "stderr",
     "output_type": "stream",
     "text": [
      " 67%|██████████████████████████████████████████████████▏                        | 11123/16624 [1:29:06<38:03,  2.41it/s]"
     ]
    },
    {
     "name": "stdout",
     "output_type": "stream",
     "text": [
      "Redirected:  11123 https://www.domain.com.au/63a-purtell-street-bentleigh-east-vic-3165-16032628\n"
     ]
    },
    {
     "name": "stderr",
     "output_type": "stream",
     "text": [
      " 67%|██████████████████████████████████████████████████▎                        | 11143/16624 [1:29:15<35:23,  2.58it/s]"
     ]
    },
    {
     "name": "stdout",
     "output_type": "stream",
     "text": [
      "Redirected:  11142 https://www.domain.com.au/11-115-oxford-street-collingwood-vic-3066-16032574\n",
      "'props'\n"
     ]
    },
    {
     "name": "stderr",
     "output_type": "stream",
     "text": [
      " 67%|██████████████████████████████████████████████████▎                        | 11161/16624 [1:29:23<32:59,  2.76it/s]"
     ]
    },
    {
     "name": "stdout",
     "output_type": "stream",
     "text": [
      "Redirected:  11160 https://www.domain.com.au/12-92-wellington-street-collingwood-vic-3066-16032536\n",
      "'props'\n"
     ]
    },
    {
     "name": "stderr",
     "output_type": "stream",
     "text": [
      " 67%|██████████████████████████████████████████████████▎                        | 11164/16624 [1:29:24<35:11,  2.59it/s]"
     ]
    },
    {
     "name": "stdout",
     "output_type": "stream",
     "text": [
      "Redirected:  11163 https://www.domain.com.au/41-mercury-road-cranbourne-east-vic-3977-15105644\n",
      "'props'\n"
     ]
    },
    {
     "name": "stderr",
     "output_type": "stream",
     "text": [
      " 67%|██████████████████████████████████████████████████▍                        | 11169/16624 [1:29:26<29:38,  3.07it/s]"
     ]
    },
    {
     "name": "stdout",
     "output_type": "stream",
     "text": [
      "Redirected:  11168 https://www.domain.com.au/30-garrard-crescent-clyde-vic-3978-16032507\n",
      "'props'\n"
     ]
    },
    {
     "name": "stderr",
     "output_type": "stream",
     "text": [
      " 67%|██████████████████████████████████████████████████▍                        | 11171/16624 [1:29:27<38:43,  2.35it/s]"
     ]
    },
    {
     "name": "stdout",
     "output_type": "stream",
     "text": [
      "Redirected:  11170 https://www.domain.com.au/35a-hutchinson-street-albion-vic-3020-16032505\n",
      "'props'\n"
     ]
    },
    {
     "name": "stderr",
     "output_type": "stream",
     "text": [
      " 67%|██████████████████████████████████████████████████▍                        | 11175/16624 [1:29:29<31:20,  2.90it/s]"
     ]
    },
    {
     "name": "stdout",
     "output_type": "stream",
     "text": [
      "Redirected:  11174 https://www.domain.com.au/207-100-kavanagh-street-southbank-vic-3006-15872170\n",
      "'props'\n",
      "Redirected:  11175 https://www.domain.com.au/108-288-albert-street-brunswick-vic-3056-12218295\n"
     ]
    },
    {
     "name": "stderr",
     "output_type": "stream",
     "text": [
      "\r",
      " 67%|██████████████████████████████████████████████████▍                        | 11176/16624 [1:29:29<26:54,  3.38it/s]"
     ]
    },
    {
     "name": "stdout",
     "output_type": "stream",
     "text": [
      "'props'\n"
     ]
    },
    {
     "name": "stderr",
     "output_type": "stream",
     "text": [
      " 67%|██████████████████████████████████████████████████▍                        | 11178/16624 [1:29:29<26:57,  3.37it/s]"
     ]
    },
    {
     "name": "stdout",
     "output_type": "stream",
     "text": [
      "Redirected:  11177 https://www.domain.com.au/20-longwarry-road-drouin-vic-3818-16032489\n",
      "'props'\n"
     ]
    },
    {
     "name": "stderr",
     "output_type": "stream",
     "text": [
      " 67%|██████████████████████████████████████████████████▍                        | 11180/16624 [1:29:30<25:05,  3.62it/s]"
     ]
    },
    {
     "name": "stdout",
     "output_type": "stream",
     "text": [
      "Redirected:  11179 https://www.domain.com.au/8-chevron-street-tarneit-vic-3029-16032487\n",
      "'props'\n"
     ]
    },
    {
     "name": "stderr",
     "output_type": "stream",
     "text": [
      " 67%|██████████████████████████████████████████████████▌                        | 11205/16624 [1:29:41<46:44,  1.93it/s]"
     ]
    },
    {
     "name": "stdout",
     "output_type": "stream",
     "text": [
      "Redirected:  11205 https://www.domain.com.au/3-412-drummond-street-south-ballarat-central-vic-3350-16032403\n"
     ]
    },
    {
     "name": "stderr",
     "output_type": "stream",
     "text": [
      " 68%|██████████████████████████████████████████████████▋                        | 11234/16624 [1:29:55<33:56,  2.65it/s]"
     ]
    },
    {
     "name": "stdout",
     "output_type": "stream",
     "text": [
      "Redirected:  11233 https://www.domain.com.au/g02-555-saint-kilda-road-melbourne-vic-3004-15961237\n",
      "'listingSummary'\n"
     ]
    },
    {
     "name": "stderr",
     "output_type": "stream",
     "text": [
      "\r",
      " 68%|██████████████████████████████████████████████████▋                        | 11235/16624 [1:29:55<28:46,  3.12it/s]"
     ]
    },
    {
     "name": "stdout",
     "output_type": "stream",
     "text": [
      "Redirected:  11234 https://www.domain.com.au/41-jefferson-road-garfield-vic-3814-15545932\n",
      "'props'\n"
     ]
    },
    {
     "name": "stderr",
     "output_type": "stream",
     "text": [
      " 68%|██████████████████████████████████████████████████▊                        | 11251/16624 [1:30:02<40:11,  2.23it/s]"
     ]
    },
    {
     "name": "stdout",
     "output_type": "stream",
     "text": [
      "Redirected:  11250 https://www.domain.com.au/305-1200-high-street-malvern-vic-3144-15192944\n",
      "'listingSummary'\n"
     ]
    },
    {
     "name": "stderr",
     "output_type": "stream",
     "text": [
      " 68%|██████████████████████████████████████████████████▊                        | 11258/16624 [1:30:05<39:02,  2.29it/s]"
     ]
    },
    {
     "name": "stdout",
     "output_type": "stream",
     "text": [
      "Redirected:  11258 https://www.domain.com.au/5-5-lilac-street-horsham-vic-3400-16032238\n"
     ]
    },
    {
     "name": "stderr",
     "output_type": "stream",
     "text": [
      " 68%|██████████████████████████████████████████████████▊                        | 11260/16624 [1:30:06<39:54,  2.24it/s]"
     ]
    },
    {
     "name": "stdout",
     "output_type": "stream",
     "text": [
      "Redirected:  11260 https://www.domain.com.au/unit-3-4-apple-court-doveton-vic-3177-16032230\n"
     ]
    },
    {
     "name": "stderr",
     "output_type": "stream",
     "text": [
      " 68%|██████████████████████████████████████████████████▊                        | 11262/16624 [1:30:07<39:52,  2.24it/s]"
     ]
    },
    {
     "name": "stdout",
     "output_type": "stream",
     "text": [
      "Redirected:  11262 https://www.domain.com.au/207-157-park-road-cheltenham-vic-3192-16032225\n"
     ]
    },
    {
     "name": "stderr",
     "output_type": "stream",
     "text": [
      " 68%|██████████████████████████████████████████████████▊                        | 11269/16624 [1:30:10<29:26,  3.03it/s]"
     ]
    },
    {
     "name": "stdout",
     "output_type": "stream",
     "text": [
      "Redirected:  11267 https://www.domain.com.au/11-manderston-avenue-derrimut-vic-3026-16032212\n",
      "'props'\n",
      "Redirected:  11268 https://www.domain.com.au/275-saint-germain-boulevard-clyde-north-vic-3978-16032205\n",
      "'props'\n"
     ]
    },
    {
     "name": "stderr",
     "output_type": "stream",
     "text": [
      " 68%|███████████████████████████████████████████████████                        | 11325/16624 [1:30:38<30:29,  2.90it/s]"
     ]
    },
    {
     "name": "stdout",
     "output_type": "stream",
     "text": [
      "Redirected:  11324 https://www.domain.com.au/10-sanctuary-ct-lilydale-vic-3140-15962629\n",
      "'props'\n"
     ]
    },
    {
     "name": "stderr",
     "output_type": "stream",
     "text": [
      " 68%|███████████████████████████████████████████████████▏                       | 11339/16624 [1:30:44<37:22,  2.36it/s]"
     ]
    },
    {
     "name": "stdout",
     "output_type": "stream",
     "text": [
      "Redirected:  11339 https://www.domain.com.au/1a-boston-street-fawkner-vic-3060-16032050\n"
     ]
    },
    {
     "name": "stderr",
     "output_type": "stream",
     "text": [
      " 68%|███████████████████████████████████████████████████▏                       | 11352/16624 [1:30:50<35:16,  2.49it/s]"
     ]
    },
    {
     "name": "stdout",
     "output_type": "stream",
     "text": [
      "Redirected:  11351 https://www.domain.com.au/2-124-breed-street-traralgon-vic-3844-14360450\n",
      "'props'\n"
     ]
    },
    {
     "name": "stderr",
     "output_type": "stream",
     "text": [
      " 68%|███████████████████████████████████████████████████▎                       | 11383/16624 [1:31:05<34:33,  2.53it/s]"
     ]
    },
    {
     "name": "stdout",
     "output_type": "stream",
     "text": [
      "Redirected:  11382 https://www.domain.com.au/202-8-porter-street-prahran-vic-3181-16031928\n",
      "'props'\n"
     ]
    },
    {
     "name": "stderr",
     "output_type": "stream",
     "text": [
      " 69%|███████████████████████████████████████████████████▍                       | 11400/16624 [1:31:12<31:12,  2.79it/s]"
     ]
    },
    {
     "name": "stdout",
     "output_type": "stream",
     "text": [
      "Redirected:  11399 https://www.domain.com.au/161-22-kavanagh-street-southbank-vic-3006-16031873\n",
      "'props'\n"
     ]
    },
    {
     "name": "stderr",
     "output_type": "stream",
     "text": [
      " 69%|███████████████████████████████████████████████████▍                       | 11403/16624 [1:31:13<34:47,  2.50it/s]"
     ]
    },
    {
     "name": "stdout",
     "output_type": "stream",
     "text": [
      "Redirected:  11403 https://www.domain.com.au/219-collins-street-thornbury-vic-3071-16031864\n"
     ]
    },
    {
     "name": "stderr",
     "output_type": "stream",
     "text": [
      " 69%|███████████████████████████████████████████████████▌                       | 11421/16624 [1:31:23<41:34,  2.09it/s]"
     ]
    },
    {
     "name": "stdout",
     "output_type": "stream",
     "text": [
      "Redirected:  11421 https://www.domain.com.au/333-archer-st-shepparton-vic-3630-13483376\n"
     ]
    },
    {
     "name": "stderr",
     "output_type": "stream",
     "text": [
      " 69%|███████████████████████████████████████████████████▌                       | 11426/16624 [1:31:25<42:22,  2.04it/s]"
     ]
    },
    {
     "name": "stdout",
     "output_type": "stream",
     "text": [
      "Redirected:  11426 https://www.domain.com.au/1-3-13-erskine-avenue-reservoir-vic-3073-16031814\n"
     ]
    },
    {
     "name": "stderr",
     "output_type": "stream",
     "text": [
      " 69%|██████████████████████████████████████████████████▏                      | 11429/16624 [1:31:28<1:02:53,  1.38it/s]"
     ]
    },
    {
     "name": "stdout",
     "output_type": "stream",
     "text": [
      "Redirected:  11429 https://www.domain.com.au/2-12-padula-court-hillside-vic-3037-15606225\n"
     ]
    },
    {
     "name": "stderr",
     "output_type": "stream",
     "text": [
      " 69%|███████████████████████████████████████████████████▌                       | 11439/16624 [1:31:32<32:04,  2.69it/s]"
     ]
    },
    {
     "name": "stdout",
     "output_type": "stream",
     "text": [
      "Redirected:  11438 https://www.domain.com.au/1209-233-collins-st-melbourne-vic-3000-16031764\n",
      "'props'\n"
     ]
    },
    {
     "name": "stderr",
     "output_type": "stream",
     "text": [
      " 69%|███████████████████████████████████████████████████▋                       | 11466/16624 [1:31:44<29:08,  2.95it/s]"
     ]
    },
    {
     "name": "stdout",
     "output_type": "stream",
     "text": [
      "Redirected:  11465 https://www.domain.com.au/2-290-hawthorn-road-caulfield-vic-3162-16031676\n",
      "'props'\n"
     ]
    },
    {
     "name": "stderr",
     "output_type": "stream",
     "text": [
      " 69%|███████████████████████████████████████████████████▊                       | 11475/16624 [1:31:48<36:36,  2.34it/s]"
     ]
    },
    {
     "name": "stdout",
     "output_type": "stream",
     "text": [
      "Redirected:  11475 https://www.domain.com.au/1-27-ewart-street-malvern-vic-3144-16031650\n"
     ]
    },
    {
     "name": "stderr",
     "output_type": "stream",
     "text": [
      " 69%|███████████████████████████████████████████████████▊                       | 11478/16624 [1:31:50<45:16,  1.89it/s]"
     ]
    },
    {
     "name": "stdout",
     "output_type": "stream",
     "text": [
      "Redirected:  11477 https://www.domain.com.au/18-barwise-street-laverton-vic-3028-16031644\n",
      "'props'\n"
     ]
    },
    {
     "name": "stderr",
     "output_type": "stream",
     "text": [
      " 69%|███████████████████████████████████████████████████▊                       | 11482/16624 [1:31:52<37:35,  2.28it/s]"
     ]
    },
    {
     "name": "stdout",
     "output_type": "stream",
     "text": [
      "Redirected:  11482 https://www.domain.com.au/603-231-harbour-esp-docklands-vic-3008-16031629\n"
     ]
    },
    {
     "name": "stderr",
     "output_type": "stream",
     "text": [
      " 69%|███████████████████████████████████████████████████▉                       | 11503/16624 [1:32:02<33:55,  2.52it/s]"
     ]
    },
    {
     "name": "stdout",
     "output_type": "stream",
     "text": [
      "Redirected:  11502 https://www.domain.com.au/87-blossom-drive-greenvale-vic-3059-16031573\n",
      "'props'\n"
     ]
    },
    {
     "name": "stderr",
     "output_type": "stream",
     "text": [
      " 69%|███████████████████████████████████████████████████▉                       | 11505/16624 [1:32:03<32:19,  2.64it/s]"
     ]
    },
    {
     "name": "stdout",
     "output_type": "stream",
     "text": [
      "Redirected:  11504 https://www.domain.com.au/6-6-smith-street-moonee-ponds-vic-3039-16031564\n",
      "'props'\n"
     ]
    },
    {
     "name": "stderr",
     "output_type": "stream",
     "text": [
      " 70%|████████████████████████████████████████████████████▏                      | 11556/16624 [1:32:28<45:02,  1.88it/s]"
     ]
    },
    {
     "name": "stdout",
     "output_type": "stream",
     "text": [
      "Redirected:  11555 https://www.domain.com.au/25-3-kooyongkoot-road-hawthorn-vic-3122-9902098\n",
      "'props'\n"
     ]
    },
    {
     "name": "stderr",
     "output_type": "stream",
     "text": [
      " 70%|████████████████████████████████████████████████████▏                      | 11561/16624 [1:32:30<38:42,  2.18it/s]"
     ]
    },
    {
     "name": "stdout",
     "output_type": "stream",
     "text": [
      "Redirected:  11561 https://www.domain.com.au/g05-5-rodgerson-road-box-hill-vic-3128-16031394\n"
     ]
    },
    {
     "name": "stderr",
     "output_type": "stream",
     "text": [
      "\r",
      " 70%|████████████████████████████████████████████████████▏                      | 11562/16624 [1:32:31<38:42,  2.18it/s]"
     ]
    },
    {
     "name": "stdout",
     "output_type": "stream",
     "text": [
      "'listingSummary'\n"
     ]
    },
    {
     "name": "stderr",
     "output_type": "stream",
     "text": [
      " 70%|████████████████████████████████████████████████████▏                      | 11572/16624 [1:32:35<36:26,  2.31it/s]"
     ]
    },
    {
     "name": "stdout",
     "output_type": "stream",
     "text": [
      "Redirected:  11571 https://www.domain.com.au/120-100-plenty-road-preston-vic-3072-16031359\n",
      "'props'\n"
     ]
    },
    {
     "name": "stderr",
     "output_type": "stream",
     "text": [
      " 70%|████████████████████████████████████████████████████▎                      | 11584/16624 [1:32:41<29:32,  2.84it/s]"
     ]
    },
    {
     "name": "stdout",
     "output_type": "stream",
     "text": [
      "Redirected:  11583 https://www.domain.com.au/63-berkeley-street-huntingdale-vic-3166-12963242\n",
      "'props'\n"
     ]
    },
    {
     "name": "stderr",
     "output_type": "stream",
     "text": [
      " 70%|████████████████████████████████████████████████████▎                      | 11588/16624 [1:32:42<27:56,  3.00it/s]"
     ]
    },
    {
     "name": "stdout",
     "output_type": "stream",
     "text": [
      "Redirected:  11587 https://www.domain.com.au/410-8-breavington-way-northcote-vic-3070-16031323\n",
      "'props'\n"
     ]
    },
    {
     "name": "stderr",
     "output_type": "stream",
     "text": [
      " 70%|████████████████████████████████████████████████████▍                      | 11615/16624 [1:32:54<32:50,  2.54it/s]"
     ]
    },
    {
     "name": "stdout",
     "output_type": "stream",
     "text": [
      "Redirected:  11614 https://www.domain.com.au/1807-181-abeckett-street-melbourne-vic-3000-16031252\n",
      "'props'\n"
     ]
    },
    {
     "name": "stderr",
     "output_type": "stream",
     "text": [
      " 70%|████████████████████████████████████████████████████▍                      | 11632/16624 [1:33:02<36:58,  2.25it/s]"
     ]
    },
    {
     "name": "stdout",
     "output_type": "stream",
     "text": [
      "Redirected:  11632 https://www.domain.com.au/202-23-31-small-hampton-vic-3188-16031209\n"
     ]
    },
    {
     "name": "stderr",
     "output_type": "stream",
     "text": [
      " 70%|████████████████████████████████████████████████████▍                      | 11634/16624 [1:33:02<35:08,  2.37it/s]"
     ]
    },
    {
     "name": "stdout",
     "output_type": "stream",
     "text": [
      "Redirected:  11633 https://www.domain.com.au/17-liebig-street-avoca-vic-3467-15995873\n",
      "'listingSummary'\n"
     ]
    },
    {
     "name": "stderr",
     "output_type": "stream",
     "text": [
      " 70%|████████████████████████████████████████████████████▌                      | 11640/16624 [1:33:05<30:18,  2.74it/s]"
     ]
    },
    {
     "name": "stdout",
     "output_type": "stream",
     "text": [
      "Redirected:  11639 https://www.domain.com.au/2201-80-a-beckett-street-melbourne-vic-3000-16031185\n",
      "'props'\n"
     ]
    },
    {
     "name": "stderr",
     "output_type": "stream",
     "text": [
      " 70%|████████████████████████████████████████████████████▌                      | 11647/16624 [1:33:08<31:10,  2.66it/s]"
     ]
    },
    {
     "name": "stdout",
     "output_type": "stream",
     "text": [
      "Redirected:  11646 https://www.domain.com.au/55-lodge-crescent-berwick-vic-3806-16031168\n",
      "'props'\n"
     ]
    },
    {
     "name": "stderr",
     "output_type": "stream",
     "text": [
      " 70%|████████████████████████████████████████████████████▌                      | 11654/16624 [1:33:11<29:04,  2.85it/s]"
     ]
    },
    {
     "name": "stdout",
     "output_type": "stream",
     "text": [
      "Redirected:  11653 https://www.domain.com.au/41a-caroline-street-ringwood-vic-3134-16031147\n",
      "'props'\n"
     ]
    },
    {
     "name": "stderr",
     "output_type": "stream",
     "text": [
      " 70%|████████████████████████████████████████████████████▌                      | 11656/16624 [1:33:11<27:35,  3.00it/s]"
     ]
    },
    {
     "name": "stdout",
     "output_type": "stream",
     "text": [
      "Redirected:  11655 https://www.domain.com.au/5-174-peel-street-windsor-vic-3181-16031140\n",
      "'props'\n"
     ]
    },
    {
     "name": "stderr",
     "output_type": "stream",
     "text": [
      " 70%|████████████████████████████████████████████████████▌                      | 11664/16624 [1:33:15<44:57,  1.84it/s]"
     ]
    },
    {
     "name": "stdout",
     "output_type": "stream",
     "text": [
      "Redirected:  11664 https://www.domain.com.au/1-331-inkerman-street-balaclava-vic-3183-16031110\n"
     ]
    },
    {
     "name": "stderr",
     "output_type": "stream",
     "text": [
      " 70%|████████████████████████████████████████████████████▋                      | 11667/16624 [1:33:16<38:13,  2.16it/s]"
     ]
    },
    {
     "name": "stdout",
     "output_type": "stream",
     "text": [
      "Redirected:  11667 https://www.domain.com.au/1-22-kalonga-road-balwyn-north-vic-3104-16031103\n"
     ]
    },
    {
     "name": "stderr",
     "output_type": "stream",
     "text": [
      " 70%|████████████████████████████████████████████████████▋                      | 11669/16624 [1:33:17<38:11,  2.16it/s]"
     ]
    },
    {
     "name": "stdout",
     "output_type": "stream",
     "text": [
      "Redirected:  11669 https://www.domain.com.au/6-331-inkerman-st-balaclava-vic-3183-15014867\n"
     ]
    },
    {
     "name": "stderr",
     "output_type": "stream",
     "text": [
      " 70%|████████████████████████████████████████████████████▋                      | 11672/16624 [1:33:19<31:09,  2.65it/s]"
     ]
    },
    {
     "name": "stdout",
     "output_type": "stream",
     "text": [
      "Redirected:  11671 https://www.domain.com.au/409-33-racecourse-road-north-melbourne-vic-3051-16031095\n",
      "'props'\n"
     ]
    },
    {
     "name": "stderr",
     "output_type": "stream",
     "text": [
      " 70%|████████████████████████████████████████████████████▋                      | 11681/16624 [1:33:23<30:29,  2.70it/s]"
     ]
    },
    {
     "name": "stdout",
     "output_type": "stream",
     "text": [
      "Redirected:  11680 https://www.domain.com.au/9-7-empire-street-footscray-vic-3011-14985486\n",
      "'props'\n"
     ]
    },
    {
     "name": "stderr",
     "output_type": "stream",
     "text": [
      " 70%|████████████████████████████████████████████████████▋                      | 11688/16624 [1:33:26<35:21,  2.33it/s]"
     ]
    },
    {
     "name": "stdout",
     "output_type": "stream",
     "text": [
      "Redirected:  11688 https://www.domain.com.au/2-331-inkerman-street-st-kilda-vic-3182-15288842\n"
     ]
    },
    {
     "name": "stderr",
     "output_type": "stream",
     "text": [
      "\r",
      " 70%|████████████████████████████████████████████████████▋                      | 11689/16624 [1:33:27<44:49,  1.83it/s]"
     ]
    },
    {
     "name": "stdout",
     "output_type": "stream",
     "text": [
      "Redirected:  11689 https://www.domain.com.au/g01-3-new-street-ringwood-vic-3134-15952089\n"
     ]
    },
    {
     "name": "stderr",
     "output_type": "stream",
     "text": [
      " 70%|████████████████████████████████████████████████████▊                      | 11694/16624 [1:33:29<50:22,  1.63it/s]"
     ]
    },
    {
     "name": "stdout",
     "output_type": "stream",
     "text": [
      "Redirected:  11693 https://www.domain.com.au/2-alan-court-noble-park-north-vic-3174-16031028\n",
      "'props'\n"
     ]
    },
    {
     "name": "stderr",
     "output_type": "stream",
     "text": [
      " 71%|████████████████████████████████████████████████████▉                      | 11722/16624 [1:33:42<35:30,  2.30it/s]"
     ]
    },
    {
     "name": "stdout",
     "output_type": "stream",
     "text": [
      "Redirected:  11722 https://www.domain.com.au/62-the-esplanade-null-clifton-hill-vic-3068-16030931\n"
     ]
    },
    {
     "name": "stderr",
     "output_type": "stream",
     "text": [
      " 71%|████████████████████████████████████████████████████▉                      | 11741/16624 [1:33:52<31:52,  2.55it/s]"
     ]
    },
    {
     "name": "stdout",
     "output_type": "stream",
     "text": [
      "Redirected:  11740 https://www.domain.com.au/122-283-spring-street-melbourne-vic-3000-16030845\n",
      "'props'\n"
     ]
    },
    {
     "name": "stderr",
     "output_type": "stream",
     "text": [
      "\r",
      " 71%|████████████████████████████████████████████████████▉                      | 11742/16624 [1:33:52<32:46,  2.48it/s]"
     ]
    },
    {
     "name": "stdout",
     "output_type": "stream",
     "text": [
      "Redirected:  11742 https://www.domain.com.au/21-dargy-amble-tarneit-vic-3029-16030840\n"
     ]
    },
    {
     "name": "stderr",
     "output_type": "stream",
     "text": [
      " 71%|█████████████████████████████████████████████████████                      | 11771/16624 [1:34:05<36:52,  2.19it/s]"
     ]
    },
    {
     "name": "stdout",
     "output_type": "stream",
     "text": [
      "Redirected:  11770 https://www.domain.com.au/3-5-7-newham-way-altona-meadows-vic-3028-16030745\n",
      "'props'\n"
     ]
    },
    {
     "name": "stderr",
     "output_type": "stream",
     "text": [
      " 71%|█████████████████████████████████████████████████████▏                     | 11778/16624 [1:34:09<36:11,  2.23it/s]"
     ]
    },
    {
     "name": "stdout",
     "output_type": "stream",
     "text": [
      "Redirected:  11777 https://www.domain.com.au/2-229-dow-street-port-melbourne-vic-3207-16030718\n",
      "'props'\n"
     ]
    },
    {
     "name": "stderr",
     "output_type": "stream",
     "text": [
      " 71%|█████████████████████████████████████████████████████▏                     | 11784/16624 [1:34:12<41:39,  1.94it/s]"
     ]
    },
    {
     "name": "stdout",
     "output_type": "stream",
     "text": [
      "Redirected:  11784 https://www.domain.com.au/14-yarramundi-street-clifton-springs-vic-3222-16030694\n"
     ]
    },
    {
     "name": "stderr",
     "output_type": "stream",
     "text": [
      " 71%|█████████████████████████████████████████████████████▏                     | 11791/16624 [1:34:14<26:44,  3.01it/s]"
     ]
    },
    {
     "name": "stdout",
     "output_type": "stream",
     "text": [
      "Redirected:  11790 https://www.domain.com.au/32-grattan-cove-craigieburn-vic-3064-12271976\n",
      "'props'\n"
     ]
    },
    {
     "name": "stderr",
     "output_type": "stream",
     "text": [
      " 71%|█████████████████████████████████████████████████████▏                     | 11796/16624 [1:34:16<31:19,  2.57it/s]"
     ]
    },
    {
     "name": "stdout",
     "output_type": "stream",
     "text": [
      "Redirected:  11796 https://www.domain.com.au/1-3-ashdale-court-springvale-vic-3171-16030659\n"
     ]
    },
    {
     "name": "stderr",
     "output_type": "stream",
     "text": [
      " 71%|█████████████████████████████████████████████████████▎                     | 11817/16624 [1:34:26<27:50,  2.88it/s]"
     ]
    },
    {
     "name": "stdout",
     "output_type": "stream",
     "text": [
      "Redirected:  11816 https://www.domain.com.au/2-250-beaconsfield-parade-middle-park-vic-3206-16030618\n",
      "'props'\n"
     ]
    },
    {
     "name": "stderr",
     "output_type": "stream",
     "text": [
      "\r",
      " 71%|█████████████████████████████████████████████████████▎                     | 11818/16624 [1:34:26<25:51,  3.10it/s]"
     ]
    },
    {
     "name": "stdout",
     "output_type": "stream",
     "text": [
      "Redirected:  11817 https://www.domain.com.au/3-107-109-anderson-road-fawkner-vic-3060-16030616\n",
      "'props'\n"
     ]
    },
    {
     "name": "stderr",
     "output_type": "stream",
     "text": [
      " 71%|█████████████████████████████████████████████████████▎                     | 11823/16624 [1:34:28<33:05,  2.42it/s]"
     ]
    },
    {
     "name": "stdout",
     "output_type": "stream",
     "text": [
      "Redirected:  11823 https://www.domain.com.au/3304w-42-48-balston-street-southbank-vic-3006-16030595\n"
     ]
    },
    {
     "name": "stderr",
     "output_type": "stream",
     "text": [
      "\r",
      " 71%|█████████████████████████████████████████████████████▎                     | 11824/16624 [1:34:28<32:51,  2.43it/s]"
     ]
    },
    {
     "name": "stdout",
     "output_type": "stream",
     "text": [
      "'listingSummary'\n"
     ]
    },
    {
     "name": "stderr",
     "output_type": "stream",
     "text": [
      " 71%|█████████████████████████████████████████████████████▎                     | 11826/16624 [1:34:29<36:59,  2.16it/s]"
     ]
    },
    {
     "name": "stdout",
     "output_type": "stream",
     "text": [
      "Redirected:  11825 https://www.domain.com.au/1804w-42-48-balston-street-southbank-vic-3006-16030593\n",
      "'listingSummary'\n"
     ]
    },
    {
     "name": "stderr",
     "output_type": "stream",
     "text": [
      " 71%|█████████████████████████████████████████████████████▍                     | 11831/16624 [1:34:32<38:29,  2.08it/s]"
     ]
    },
    {
     "name": "stdout",
     "output_type": "stream",
     "text": [
      "Redirected:  11830 https://www.domain.com.au/510-318-little-lonsdale-street-melbourne-vic-3000-16030574\n",
      "'props'\n"
     ]
    },
    {
     "name": "stderr",
     "output_type": "stream",
     "text": [
      " 71%|█████████████████████████████████████████████████████▍                     | 11852/16624 [1:34:41<36:04,  2.21it/s]"
     ]
    },
    {
     "name": "stdout",
     "output_type": "stream",
     "text": [
      "Redirected:  11852 https://www.domain.com.au/6-129-melville-road-brunswick-vic-3056-16030501\n"
     ]
    },
    {
     "name": "stderr",
     "output_type": "stream",
     "text": [
      " 71%|█████████████████████████████████████████████████████▍                     | 11854/16624 [1:34:42<29:49,  2.67it/s]"
     ]
    },
    {
     "name": "stdout",
     "output_type": "stream",
     "text": [
      "Redirected:  11853 https://www.domain.com.au/1105-65-coventry-street-southbank-vic-3006-16030499\n",
      "'props'\n"
     ]
    },
    {
     "name": "stderr",
     "output_type": "stream",
     "text": [
      " 71%|█████████████████████████████████████████████████████▌                     | 11866/16624 [1:34:48<32:18,  2.45it/s]"
     ]
    },
    {
     "name": "stdout",
     "output_type": "stream",
     "text": [
      "Redirected:  11866 https://www.domain.com.au/7-99-neerim-road-carnegie-vic-3163-11936047\n"
     ]
    },
    {
     "name": "stderr",
     "output_type": "stream",
     "text": [
      " 71%|█████████████████████████████████████████████████████▌                     | 11880/16624 [1:34:55<36:25,  2.17it/s]"
     ]
    },
    {
     "name": "stdout",
     "output_type": "stream",
     "text": [
      "Redirected:  11880 https://www.domain.com.au/7-99-neerim-road-glen-huntly-vic-3163-11935961\n"
     ]
    },
    {
     "name": "stderr",
     "output_type": "stream",
     "text": [
      " 72%|█████████████████████████████████████████████████████▋                     | 11904/16624 [1:35:06<31:06,  2.53it/s]"
     ]
    },
    {
     "name": "stdout",
     "output_type": "stream",
     "text": [
      "Redirected:  11903 https://www.domain.com.au/2-6-redan-street-st-kilda-vic-3182-16030336\n",
      "'props'\n"
     ]
    },
    {
     "name": "stderr",
     "output_type": "stream",
     "text": [
      " 72%|█████████████████████████████████████████████████████▋                     | 11913/16624 [1:35:09<25:39,  3.06it/s]"
     ]
    },
    {
     "name": "stdout",
     "output_type": "stream",
     "text": [
      "Redirected:  11912 https://www.domain.com.au/101-1240-1248-glenhutly-road-carnegie-vic-3163-16030311\n",
      "'listingSummary'\n"
     ]
    },
    {
     "name": "stderr",
     "output_type": "stream",
     "text": [
      " 72%|█████████████████████████████████████████████████████▊                     | 11924/16624 [1:35:14<29:06,  2.69it/s]"
     ]
    },
    {
     "name": "stdout",
     "output_type": "stream",
     "text": [
      "Redirected:  11923 https://www.domain.com.au/406-canterbury-road-ringwood-east-vic-3135-16030274\n",
      "'props'\n"
     ]
    },
    {
     "name": "stderr",
     "output_type": "stream",
     "text": [
      " 72%|█████████████████████████████████████████████████████▊                     | 11930/16624 [1:35:17<33:29,  2.34it/s]"
     ]
    },
    {
     "name": "stdout",
     "output_type": "stream",
     "text": [
      "Redirected:  11929 https://www.domain.com.au/9-119-wellington-street-st-kilda-vic-3182-16030252\n",
      "'props'\n"
     ]
    },
    {
     "name": "stderr",
     "output_type": "stream",
     "text": [
      " 72%|█████████████████████████████████████████████████████▉                     | 11948/16624 [1:35:26<29:57,  2.60it/s]"
     ]
    },
    {
     "name": "stdout",
     "output_type": "stream",
     "text": [
      "Redirected:  11947 https://www.domain.com.au/4-7-white-avenue-kew-east-vic-3102-16030197\n",
      "'props'\n"
     ]
    },
    {
     "name": "stderr",
     "output_type": "stream",
     "text": [
      " 72%|██████████████████████████████████████████████████████▏                    | 12004/16624 [1:35:53<28:06,  2.74it/s]"
     ]
    },
    {
     "name": "stdout",
     "output_type": "stream",
     "text": [
      "Redirected:  12003 https://www.domain.com.au/115-33-judd-street-richmond-vic-3121-14355570\n",
      "'props'\n"
     ]
    },
    {
     "name": "stderr",
     "output_type": "stream",
     "text": [
      " 72%|██████████████████████████████████████████████████████▎                    | 12041/16624 [1:36:10<30:45,  2.48it/s]"
     ]
    },
    {
     "name": "stdout",
     "output_type": "stream",
     "text": [
      "Redirected:  12040 https://www.domain.com.au/6-23-shoobra-rd-elsternwick-vic-3185-15783818\n",
      "'listingSummary'\n"
     ]
    },
    {
     "name": "stderr",
     "output_type": "stream",
     "text": [
      " 72%|██████████████████████████████████████████████████████▎                    | 12047/16624 [1:36:12<29:47,  2.56it/s]"
     ]
    },
    {
     "name": "stdout",
     "output_type": "stream",
     "text": [
      "Redirected:  12047 https://www.domain.com.au/unit-7-382-deakin-avenue-mildura-vic-3500-16029915\n"
     ]
    },
    {
     "name": "stderr",
     "output_type": "stream",
     "text": [
      " 72%|██████████████████████████████████████████████████████▎                    | 12052/16624 [1:36:15<37:00,  2.06it/s]"
     ]
    },
    {
     "name": "stdout",
     "output_type": "stream",
     "text": [
      "Redirected:  12052 https://www.domain.com.au/1209-14-queens-road-melbourne-vic-3004-16029900\n"
     ]
    },
    {
     "name": "stderr",
     "output_type": "stream",
     "text": [
      " 73%|██████████████████████████████████████████████████████▍                    | 12076/16624 [1:36:25<33:15,  2.28it/s]"
     ]
    },
    {
     "name": "stdout",
     "output_type": "stream",
     "text": [
      "Redirected:  12076 https://www.domain.com.au/315-101-bay-street-street-port-melbourne-vic-3207-16029813\n"
     ]
    },
    {
     "name": "stderr",
     "output_type": "stream",
     "text": [
      " 73%|██████████████████████████████████████████████████████▌                    | 12089/16624 [1:36:32<33:44,  2.24it/s]"
     ]
    },
    {
     "name": "stdout",
     "output_type": "stream",
     "text": [
      "Redirected:  12089 https://www.domain.com.au/1-37-grange-road-fairfield-vic-3078-16029765\n"
     ]
    },
    {
     "name": "stderr",
     "output_type": "stream",
     "text": [
      " 73%|██████████████████████████████████████████████████████▌                    | 12091/16624 [1:36:33<33:45,  2.24it/s]"
     ]
    },
    {
     "name": "stdout",
     "output_type": "stream",
     "text": [
      "Redirected:  12091 https://www.domain.com.au/55-worthing-road-devon-meadows-vic-3977-16029758\n"
     ]
    },
    {
     "name": "stderr",
     "output_type": "stream",
     "text": [
      " 73%|██████████████████████████████████████████████████████▋                    | 12111/16624 [1:36:45<34:17,  2.19it/s]"
     ]
    },
    {
     "name": "stdout",
     "output_type": "stream",
     "text": [
      "Redirected:  12111 https://www.domain.com.au/2-mala-street-truganina-vic-3029-16029697\n"
     ]
    },
    {
     "name": "stderr",
     "output_type": "stream",
     "text": [
      " 73%|██████████████████████████████████████████████████████▋                    | 12113/16624 [1:36:46<30:14,  2.49it/s]"
     ]
    },
    {
     "name": "stdout",
     "output_type": "stream",
     "text": [
      "Redirected:  12112 https://www.domain.com.au/2-3-hume-street-cobram-vic-3644-16029685\n",
      "'props'\n"
     ]
    },
    {
     "name": "stderr",
     "output_type": "stream",
     "text": [
      " 73%|██████████████████████████████████████████████████████▋                    | 12118/16624 [1:36:48<31:53,  2.36it/s]"
     ]
    },
    {
     "name": "stdout",
     "output_type": "stream",
     "text": [
      "Redirected:  12118 https://www.domain.com.au/610-40-hall-street-moonee-ponds-vic-3039-16029668\n"
     ]
    },
    {
     "name": "stderr",
     "output_type": "stream",
     "text": [
      " 73%|██████████████████████████████████████████████████████▋                    | 12127/16624 [1:36:52<34:20,  2.18it/s]"
     ]
    },
    {
     "name": "stdout",
     "output_type": "stream",
     "text": [
      "Redirected:  12127 https://www.domain.com.au/2-31-stockwell-crescent-keilor-downs-vic-3038-16029642\n"
     ]
    },
    {
     "name": "stderr",
     "output_type": "stream",
     "text": [
      "\r",
      " 73%|██████████████████████████████████████████████████████▋                    | 12128/16624 [1:36:52<35:30,  2.11it/s]"
     ]
    },
    {
     "name": "stdout",
     "output_type": "stream",
     "text": [
      "Redirected:  12128 https://www.domain.com.au/19-erinbank-crescent-westmeadows-vic-3049-15116161\n"
     ]
    },
    {
     "name": "stderr",
     "output_type": "stream",
     "text": [
      " 73%|██████████████████████████████████████████████████████▊                    | 12152/16624 [1:37:02<27:55,  2.67it/s]"
     ]
    },
    {
     "name": "stdout",
     "output_type": "stream",
     "text": [
      "Redirected:  12151 https://www.domain.com.au/3-10-12-manoon-road-clayton-south-vic-3169-16029579\n",
      "'listingSummary'\n"
     ]
    },
    {
     "name": "stderr",
     "output_type": "stream",
     "text": [
      " 73%|██████████████████████████████████████████████████████▊                    | 12154/16624 [1:37:03<30:37,  2.43it/s]"
     ]
    },
    {
     "name": "stdout",
     "output_type": "stream",
     "text": [
      "Redirected:  12154 https://www.domain.com.au/house46-bruce-street-toorak-vic-3142-16029568\n"
     ]
    },
    {
     "name": "stderr",
     "output_type": "stream",
     "text": [
      " 73%|██████████████████████████████████████████████████████▉                    | 12184/16624 [1:37:18<29:00,  2.55it/s]"
     ]
    },
    {
     "name": "stdout",
     "output_type": "stream",
     "text": [
      "Redirected:  12183 https://www.domain.com.au/d806-615-victoria-street-abbotsford-vic-3067-15080775\n",
      "'listingSummary'\n"
     ]
    },
    {
     "name": "stderr",
     "output_type": "stream",
     "text": [
      " 73%|██████████████████████████████████████████████████████▉                    | 12186/16624 [1:37:19<28:19,  2.61it/s]"
     ]
    },
    {
     "name": "stdout",
     "output_type": "stream",
     "text": [
      "Redirected:  12186 https://www.domain.com.au/rear-14-estelle-street-sunshine-west-vic-3020-16029475\n"
     ]
    },
    {
     "name": "stderr",
     "output_type": "stream",
     "text": [
      " 73%|██████████████████████████████████████████████████████▉                    | 12188/16624 [1:37:19<23:14,  3.18it/s]"
     ]
    },
    {
     "name": "stdout",
     "output_type": "stream",
     "text": [
      "'listingSummary'\n",
      "Redirected:  12187 https://www.domain.com.au/75-chute-street-mordialloc-vic-3195-16029468\n",
      "'props'\n"
     ]
    },
    {
     "name": "stderr",
     "output_type": "stream",
     "text": [
      " 73%|███████████████████████████████████████████████████████                    | 12209/16624 [1:37:28<32:15,  2.28it/s]"
     ]
    },
    {
     "name": "stdout",
     "output_type": "stream",
     "text": [
      "Redirected:  12209 https://www.domain.com.au/11-21-chusan-street-balaclava-vic-3183-15916112\n"
     ]
    },
    {
     "name": "stderr",
     "output_type": "stream",
     "text": [
      " 73%|███████████████████████████████████████████████████████                    | 12215/16624 [1:37:31<28:17,  2.60it/s]"
     ]
    },
    {
     "name": "stdout",
     "output_type": "stream",
     "text": [
      "Redirected:  12214 https://www.domain.com.au/1a-pellew-street-reservoir-vic-3073-16029379\n",
      "'props'\n"
     ]
    },
    {
     "name": "stderr",
     "output_type": "stream",
     "text": [
      " 74%|███████████████████████████████████████████████████████▏                   | 12220/16624 [1:37:33<29:38,  2.48it/s]"
     ]
    },
    {
     "name": "stdout",
     "output_type": "stream",
     "text": [
      "Redirected:  12220 https://www.domain.com.au/n2610-570-lygon-street-carlton-vic-3053-16029340\n"
     ]
    },
    {
     "name": "stderr",
     "output_type": "stream",
     "text": [
      "\r",
      " 74%|███████████████████████████████████████████████████████▏                   | 12221/16624 [1:37:34<33:45,  2.17it/s]"
     ]
    },
    {
     "name": "stdout",
     "output_type": "stream",
     "text": [
      "'listingSummary'\n"
     ]
    },
    {
     "name": "stderr",
     "output_type": "stream",
     "text": [
      " 74%|███████████████████████████████████████████████████████▏                   | 12240/16624 [1:37:43<27:55,  2.62it/s]"
     ]
    },
    {
     "name": "stdout",
     "output_type": "stream",
     "text": [
      "Redirected:  12239 https://www.domain.com.au/16-cranham-street-caulfield-vic-3162-16029186\n",
      "'props'\n"
     ]
    },
    {
     "name": "stderr",
     "output_type": "stream",
     "text": [
      " 74%|███████████████████████████████████████████████████████▎                   | 12261/16624 [1:37:51<24:22,  2.98it/s]"
     ]
    },
    {
     "name": "stdout",
     "output_type": "stream",
     "text": [
      "Redirected:  12260 https://www.domain.com.au/612-12-queens-road-melbourne-vic-3004-16029198\n",
      "'props'\n"
     ]
    },
    {
     "name": "stderr",
     "output_type": "stream",
     "text": [
      " 74%|███████████████████████████████████████████████████████▍                   | 12276/16624 [1:37:58<30:14,  2.40it/s]"
     ]
    },
    {
     "name": "stdout",
     "output_type": "stream",
     "text": [
      "Redirected:  12276 https://www.domain.com.au/4-136-kitchener-street-broadmeadows-vic-3047-16029137\n"
     ]
    },
    {
     "name": "stderr",
     "output_type": "stream",
     "text": [
      "\r",
      " 74%|███████████████████████████████████████████████████████▍                   | 12277/16624 [1:37:58<28:10,  2.57it/s]"
     ]
    },
    {
     "name": "stdout",
     "output_type": "stream",
     "text": [
      "'props'\n"
     ]
    },
    {
     "name": "stderr",
     "output_type": "stream",
     "text": [
      " 74%|███████████████████████████████████████████████████████▍                   | 12289/16624 [1:38:04<38:03,  1.90it/s]"
     ]
    },
    {
     "name": "stdout",
     "output_type": "stream",
     "text": [
      "Redirected:  12289 https://www.domain.com.au/15-ida-street-niddrie-vic-3042-16029093\n"
     ]
    },
    {
     "name": "stderr",
     "output_type": "stream",
     "text": [
      " 74%|███████████████████████████████████████████████████████▍                   | 12291/16624 [1:38:05<35:33,  2.03it/s]"
     ]
    },
    {
     "name": "stdout",
     "output_type": "stream",
     "text": [
      "Redirected:  12291 https://www.domain.com.au/6-8-thomas-street-parkdale-vic-3195-16029088\n"
     ]
    },
    {
     "name": "stderr",
     "output_type": "stream",
     "text": [
      " 74%|███████████████████████████████████████████████████████▍                   | 12295/16624 [1:38:06<27:30,  2.62it/s]"
     ]
    },
    {
     "name": "stdout",
     "output_type": "stream",
     "text": [
      "Redirected:  12294 https://www.domain.com.au/15-marot-way-mernda-vic-3754-16029080\n",
      "'props'\n"
     ]
    },
    {
     "name": "stderr",
     "output_type": "stream",
     "text": [
      " 74%|███████████████████████████████████████████████████████▍                   | 12298/16624 [1:38:07<23:01,  3.13it/s]"
     ]
    },
    {
     "name": "stdout",
     "output_type": "stream",
     "text": [
      "Redirected:  12297 https://www.domain.com.au/1010-601-little-lonsdale-street-melbourne-vic-3000-16028870\n",
      "'props'\n"
     ]
    },
    {
     "name": "stderr",
     "output_type": "stream",
     "text": [
      " 74%|███████████████████████████████████████████████████████▍                   | 12300/16624 [1:38:08<20:35,  3.50it/s]"
     ]
    },
    {
     "name": "stdout",
     "output_type": "stream",
     "text": [
      "Redirected:  12299 https://www.domain.com.au/4-117-119-auburn-rd-hawthorn-vic-3122-9864287\n",
      "'props'\n"
     ]
    },
    {
     "name": "stderr",
     "output_type": "stream",
     "text": [
      " 74%|███████████████████████████████████████████████████████▌                   | 12303/16624 [1:38:09<21:03,  3.42it/s]"
     ]
    },
    {
     "name": "stdout",
     "output_type": "stream",
     "text": [
      "Redirected:  12302 https://www.domain.com.au/3-hopkins-court-werribee-vic-3030-16029062\n",
      "'props'\n"
     ]
    },
    {
     "name": "stderr",
     "output_type": "stream",
     "text": [
      " 74%|███████████████████████████████████████████████████████▌                   | 12306/16624 [1:38:10<21:56,  3.28it/s]"
     ]
    },
    {
     "name": "stdout",
     "output_type": "stream",
     "text": [
      "Redirected:  12305 https://www.domain.com.au/88-justin-avenue-glenroy-vic-3046-16029050\n",
      "'props'\n"
     ]
    },
    {
     "name": "stderr",
     "output_type": "stream",
     "text": [
      " 74%|███████████████████████████████████████████████████████▌                   | 12322/16624 [1:38:16<25:14,  2.84it/s]"
     ]
    },
    {
     "name": "stdout",
     "output_type": "stream",
     "text": [
      "Redirected:  12321 https://www.domain.com.au/3-52-balaclava-road-st-kilda-east-vic-3183-16028988\n",
      "'props'\n"
     ]
    },
    {
     "name": "stderr",
     "output_type": "stream",
     "text": [
      " 74%|███████████████████████████████████████████████████████▋                   | 12336/16624 [1:38:23<33:21,  2.14it/s]"
     ]
    },
    {
     "name": "stdout",
     "output_type": "stream",
     "text": [
      "Redirected:  12335 https://www.domain.com.au/15-yellow-gum-drive-pakenham-vic-3810-16028947\n",
      "'props'\n"
     ]
    },
    {
     "name": "stderr",
     "output_type": "stream",
     "text": [
      " 74%|███████████████████████████████████████████████████████▋                   | 12350/16624 [1:38:30<33:43,  2.11it/s]"
     ]
    },
    {
     "name": "stdout",
     "output_type": "stream",
     "text": [
      "Redirected:  12349 https://www.domain.com.au/17-basingstoke-road-mitcham-vic-3132-16028915\n",
      "'props'\n"
     ]
    },
    {
     "name": "stderr",
     "output_type": "stream",
     "text": [
      " 75%|████████████████████████████████████████████████████████▏                  | 12443/16624 [1:39:15<28:13,  2.47it/s]"
     ]
    },
    {
     "name": "stdout",
     "output_type": "stream",
     "text": [
      "Redirected:  12443 https://www.domain.com.au/3-5-bembridge-avenue-frankston-south-vic-3199-16028169\n"
     ]
    },
    {
     "name": "stderr",
     "output_type": "stream",
     "text": [
      " 75%|████████████████████████████████████████████████████████▎                  | 12488/16624 [1:39:37<33:56,  2.03it/s]"
     ]
    },
    {
     "name": "stdout",
     "output_type": "stream",
     "text": [
      "Redirected:  12488 https://www.domain.com.au/24-gloria-avenue-dandenong-vic-3175-16027853\n"
     ]
    },
    {
     "name": "stderr",
     "output_type": "stream",
     "text": [
      " 75%|████████████████████████████████████████████████████████▌                  | 12542/16624 [1:40:03<29:37,  2.30it/s]"
     ]
    },
    {
     "name": "stdout",
     "output_type": "stream",
     "text": [
      "Redirected:  12542 https://www.domain.com.au/8-40-42-chapman-street-glenroy-vic-3046-16027502\n"
     ]
    },
    {
     "name": "stderr",
     "output_type": "stream",
     "text": [
      " 76%|████████████████████████████████████████████████████████▊                  | 12588/16624 [1:40:24<24:12,  2.78it/s]"
     ]
    },
    {
     "name": "stdout",
     "output_type": "stream",
     "text": [
      "Redirected:  12587 https://www.domain.com.au/501-simmie-road-echuca-village-vic-3564-16027115\n",
      "'props'\n"
     ]
    },
    {
     "name": "stderr",
     "output_type": "stream",
     "text": [
      " 76%|████████████████████████████████████████████████████████▉                  | 12628/16624 [1:40:42<36:03,  1.85it/s]"
     ]
    },
    {
     "name": "stdout",
     "output_type": "stream",
     "text": [
      "Redirected:  12628 https://www.domain.com.au/4-26-clarke-prahran-vic-3181-16026759\n"
     ]
    },
    {
     "name": "stderr",
     "output_type": "stream",
     "text": [
      " 76%|█████████████████████████████████████████████████████████                  | 12646/16624 [1:40:51<28:44,  2.31it/s]"
     ]
    },
    {
     "name": "stdout",
     "output_type": "stream",
     "text": [
      "Redirected:  12646 https://www.domain.com.au/36-lesney-street-richmond-vic-3121-13533466\n"
     ]
    },
    {
     "name": "stderr",
     "output_type": "stream",
     "text": [
      " 77%|█████████████████████████████████████████████████████████▍                 | 12728/16624 [1:41:32<27:13,  2.38it/s]"
     ]
    },
    {
     "name": "stdout",
     "output_type": "stream",
     "text": [
      "Redirected:  12728 https://www.domain.com.au/mulgrave-vic-3170-16025973\n"
     ]
    },
    {
     "name": "stderr",
     "output_type": "stream",
     "text": [
      " 77%|█████████████████████████████████████████████████████████▍                 | 12740/16624 [1:41:38<34:13,  1.89it/s]"
     ]
    },
    {
     "name": "stdout",
     "output_type": "stream",
     "text": [
      "Redirected:  12739 https://www.domain.com.au/14-danthonia-street-coburg-north-vic-3058-16025816\n",
      "'props'\n"
     ]
    },
    {
     "name": "stderr",
     "output_type": "stream",
     "text": [
      " 77%|█████████████████████████████████████████████████████████▌                 | 12748/16624 [1:41:41<26:56,  2.40it/s]"
     ]
    },
    {
     "name": "stdout",
     "output_type": "stream",
     "text": [
      "Redirected:  12748 https://www.domain.com.au/295-gilbert-road-preston-vic-3072-16025754\n"
     ]
    },
    {
     "name": "stderr",
     "output_type": "stream",
     "text": [
      " 77%|█████████████████████████████████████████████████████████▊                 | 12815/16624 [1:42:14<28:34,  2.22it/s]"
     ]
    },
    {
     "name": "stdout",
     "output_type": "stream",
     "text": [
      "Redirected:  12815 https://www.domain.com.au/4-21-gladstone-street-kew-vic-3101-15613484\n"
     ]
    },
    {
     "name": "stderr",
     "output_type": "stream",
     "text": [
      " 77%|█████████████████████████████████████████████████████████▉                 | 12848/16624 [1:42:31<39:26,  1.60it/s]"
     ]
    },
    {
     "name": "stdout",
     "output_type": "stream",
     "text": [
      "Redirected:  12848 https://www.domain.com.au/3811-628-flinders-street-docklands-vic-3008-16024892\n"
     ]
    },
    {
     "name": "stderr",
     "output_type": "stream",
     "text": [
      " 78%|██████████████████████████████████████████████████████████▏                | 12892/16624 [1:42:54<29:47,  2.09it/s]"
     ]
    },
    {
     "name": "stdout",
     "output_type": "stream",
     "text": [
      "Redirected:  12892 https://www.domain.com.au/2-cole-street-chadstone-vic-3148-16024503\n"
     ]
    },
    {
     "name": "stderr",
     "output_type": "stream",
     "text": [
      " 78%|██████████████████████████████████████████████████████████▎                | 12933/16624 [1:43:12<25:06,  2.45it/s]"
     ]
    },
    {
     "name": "stdout",
     "output_type": "stream",
     "text": [
      "Redirected:  12933 https://www.domain.com.au/st-kilda-vic-3182-16024155\n"
     ]
    },
    {
     "name": "stderr",
     "output_type": "stream",
     "text": [
      " 78%|██████████████████████████████████████████████████████████▌                | 12968/16624 [1:43:31<29:15,  2.08it/s]"
     ]
    },
    {
     "name": "stdout",
     "output_type": "stream",
     "text": [
      "Redirected:  12968 https://www.domain.com.au/unit-1-500-station-street-carrum-vic-3197-16023841\n"
     ]
    },
    {
     "name": "stderr",
     "output_type": "stream",
     "text": [
      " 78%|██████████████████████████████████████████████████████████▌                | 12978/16624 [1:43:36<31:30,  1.93it/s]"
     ]
    },
    {
     "name": "stdout",
     "output_type": "stream",
     "text": [
      "Redirected:  12978 https://www.domain.com.au/1-128-alma-avenue-laverton-vic-3028-16023690\n"
     ]
    },
    {
     "name": "stderr",
     "output_type": "stream",
     "text": [
      " 78%|██████████████████████████████████████████████████████████▌                | 12980/16624 [1:43:37<30:25,  2.00it/s]"
     ]
    },
    {
     "name": "stdout",
     "output_type": "stream",
     "text": [
      "Redirected:  12980 https://www.domain.com.au/1-83-main-street-gembrook-vic-3783-12413574\n"
     ]
    },
    {
     "name": "stderr",
     "output_type": "stream",
     "text": [
      " 78%|██████████████████████████████████████████████████████████▌                | 12984/16624 [1:43:40<44:34,  1.36it/s]"
     ]
    },
    {
     "name": "stdout",
     "output_type": "stream",
     "text": [
      "'NoneType' object is not subscriptable\n"
     ]
    },
    {
     "name": "stderr",
     "output_type": "stream",
     "text": [
      " 79%|██████████████████████████████████████████████████████████▉                | 13059/16624 [1:44:15<25:55,  2.29it/s]"
     ]
    },
    {
     "name": "stdout",
     "output_type": "stream",
     "text": [
      "Redirected:  13059 https://www.domain.com.au/b-24-orchid-avenue-capel-sound-vic-3940-16022792\n"
     ]
    },
    {
     "name": "stderr",
     "output_type": "stream",
     "text": [
      " 79%|███████████████████████████████████████████████████████████                | 13099/16624 [1:44:35<29:32,  1.99it/s]"
     ]
    },
    {
     "name": "stdout",
     "output_type": "stream",
     "text": [
      "Redirected:  13099 https://www.domain.com.au/37-400-little-collins-street-melbourne-vic-3000-16022489\n"
     ]
    },
    {
     "name": "stderr",
     "output_type": "stream",
     "text": [
      " 79%|███████████████████████████████████████████████████████████▏               | 13107/16624 [1:44:39<28:19,  2.07it/s]"
     ]
    },
    {
     "name": "stdout",
     "output_type": "stream",
     "text": [
      "Redirected:  13107 https://www.domain.com.au/1-1153-main-road-eltham-vic-3095-16022398\n"
     ]
    },
    {
     "name": "stderr",
     "output_type": "stream",
     "text": [
      " 79%|███████████████████████████████████████████████████████████▏               | 13109/16624 [1:44:40<27:13,  2.15it/s]"
     ]
    },
    {
     "name": "stdout",
     "output_type": "stream",
     "text": [
      "Redirected:  13109 https://www.domain.com.au/selby-vic-3159-16022395\n"
     ]
    },
    {
     "name": "stderr",
     "output_type": "stream",
     "text": [
      " 79%|███████████████████████████████████████████████████████████▏               | 13113/16624 [1:44:42<27:00,  2.17it/s]"
     ]
    },
    {
     "name": "stdout",
     "output_type": "stream",
     "text": [
      "Redirected:  13112 https://www.domain.com.au/33-park-street-hawthorn-vic-3122-10846886\n",
      "'props'\n"
     ]
    },
    {
     "name": "stderr",
     "output_type": "stream",
     "text": [
      " 79%|███████████████████████████████████████████████████████████▎               | 13151/16624 [1:45:02<26:02,  2.22it/s]"
     ]
    },
    {
     "name": "stdout",
     "output_type": "stream",
     "text": [
      "Redirected:  13151 https://www.domain.com.au/2-seam-street-north-wonthaggi-vic-3995-16022026\n"
     ]
    },
    {
     "name": "stderr",
     "output_type": "stream",
     "text": [
      " 80%|████████████████████████████████████████████████████████████               | 13313/16624 [1:46:20<22:56,  2.41it/s]"
     ]
    },
    {
     "name": "stdout",
     "output_type": "stream",
     "text": [
      "Redirected:  13313 https://www.domain.com.au/16-3-kooyong-rd-hawthorn-vic-3122-16019817\n"
     ]
    },
    {
     "name": "stderr",
     "output_type": "stream",
     "text": [
      " 80%|████████████████████████████████████████████████████████████▏              | 13353/16624 [1:46:39<25:17,  2.16it/s]"
     ]
    },
    {
     "name": "stdout",
     "output_type": "stream",
     "text": [
      "Redirected:  13353 https://www.domain.com.au/9-kinsfolk-circuit-doveton-vic-3177-15179134\n"
     ]
    },
    {
     "name": "stderr",
     "output_type": "stream",
     "text": [
      " 81%|████████████████████████████████████████████████████████████▌              | 13417/16624 [1:47:12<24:59,  2.14it/s]"
     ]
    },
    {
     "name": "stdout",
     "output_type": "stream",
     "text": [
      "Redirected:  13417 https://www.domain.com.au/2-63-boldrewood-pde-reservoir-vic-3073-16018846\n"
     ]
    },
    {
     "name": "stderr",
     "output_type": "stream",
     "text": [
      " 81%|████████████████████████████████████████████████████████████▌              | 13425/16624 [1:47:15<18:00,  2.96it/s]"
     ]
    },
    {
     "name": "stdout",
     "output_type": "stream",
     "text": [
      "Redirected:  13424 https://www.domain.com.au/2-130-civic-parade-altona-vic-3018-16018744\n",
      "'props'\n"
     ]
    },
    {
     "name": "stderr",
     "output_type": "stream",
     "text": [
      " 81%|████████████████████████████████████████████████████████████▌              | 13427/16624 [1:47:16<21:34,  2.47it/s]"
     ]
    },
    {
     "name": "stdout",
     "output_type": "stream",
     "text": [
      "Redirected:  13427 https://www.domain.com.au/2-149-grange-road-glen-huntly-vic-3163-16018696\n"
     ]
    },
    {
     "name": "stderr",
     "output_type": "stream",
     "text": [
      " 81%|████████████████████████████████████████████████████████████▊              | 13475/16624 [1:47:40<33:49,  1.55it/s]"
     ]
    },
    {
     "name": "stdout",
     "output_type": "stream",
     "text": [
      "Redirected:  13475 https://www.domain.com.au/21-stanley-grove-canterbury-vic-3126-16017880\n"
     ]
    },
    {
     "name": "stderr",
     "output_type": "stream",
     "text": [
      " 81%|█████████████████████████████████████████████████████████████              | 13527/16624 [1:48:06<28:05,  1.84it/s]"
     ]
    },
    {
     "name": "stdout",
     "output_type": "stream",
     "text": [
      "Redirected:  13527 https://www.domain.com.au/5-77a-clow-street-dandenong-vic-3175-16017763\n"
     ]
    },
    {
     "name": "stderr",
     "output_type": "stream",
     "text": [
      " 82%|█████████████████████████████████████████████████████████████▎             | 13577/16624 [1:48:30<20:29,  2.48it/s]"
     ]
    },
    {
     "name": "stdout",
     "output_type": "stream",
     "text": [
      "Redirected:  13576 https://www.domain.com.au/105-200-lygon-street-brunswick-east-vic-3057-14343881\n",
      "'listingSummary'\n"
     ]
    },
    {
     "name": "stderr",
     "output_type": "stream",
     "text": [
      " 82%|█████████████████████████████████████████████████████████████▌             | 13646/16624 [1:49:04<23:50,  2.08it/s]"
     ]
    },
    {
     "name": "stdout",
     "output_type": "stream",
     "text": [
      "Redirected:  13646 https://www.domain.com.au/274-warrigal-r0ad-glen-iris-vic-3146-16016537\n"
     ]
    },
    {
     "name": "stderr",
     "output_type": "stream",
     "text": [
      " 82%|█████████████████████████████████████████████████████████████▋             | 13677/16624 [1:49:19<22:23,  2.19it/s]"
     ]
    },
    {
     "name": "stdout",
     "output_type": "stream",
     "text": [
      "Redirected:  13677 https://www.domain.com.au/level-1-70-victoria-street-carlton-vic-3053-15614959\n"
     ]
    },
    {
     "name": "stderr",
     "output_type": "stream",
     "text": [
      " 82%|█████████████████████████████████████████████████████████████▋             | 13679/16624 [1:49:20<25:00,  1.96it/s]"
     ]
    },
    {
     "name": "stdout",
     "output_type": "stream",
     "text": [
      "Redirected:  13679 https://www.domain.com.au/a-55-chlorinda-road-tarneit-vic-3029-16016066\n"
     ]
    },
    {
     "name": "stderr",
     "output_type": "stream",
     "text": [
      " 82%|█████████████████████████████████████████████████████████████▊             | 13690/16624 [1:49:26<21:46,  2.25it/s]"
     ]
    },
    {
     "name": "stdout",
     "output_type": "stream",
     "text": [
      "Redirected:  13690 https://www.domain.com.au/4117-160-victoria-street-melbourne-vic-3000-16015936\n"
     ]
    },
    {
     "name": "stderr",
     "output_type": "stream",
     "text": [
      " 83%|██████████████████████████████████████████████████████████████             | 13765/16624 [1:50:03<27:26,  1.74it/s]"
     ]
    },
    {
     "name": "stdout",
     "output_type": "stream",
     "text": [
      "Redirected:  13765 https://www.domain.com.au/5-swiss-way-wyndham-vale-vic-3024-16015120\n"
     ]
    },
    {
     "name": "stderr",
     "output_type": "stream",
     "text": [
      " 83%|██████████████████████████████████████████████████████████████             | 13767/16624 [1:50:05<28:24,  1.68it/s]"
     ]
    },
    {
     "name": "stdout",
     "output_type": "stream",
     "text": [
      "Redirected:  13767 https://www.domain.com.au/1-5-7-wakool-avenue-avenue-mentone-vic-3194-16015109\n"
     ]
    },
    {
     "name": "stderr",
     "output_type": "stream",
     "text": [
      " 83%|██████████████████████████████████████████████████████████████▏            | 13781/16624 [1:50:11<19:28,  2.43it/s]"
     ]
    },
    {
     "name": "stdout",
     "output_type": "stream",
     "text": [
      "Redirected:  13781 https://www.domain.com.au/8-simmonds-pl-roxburgh-park-vic-3064-16014951\n"
     ]
    },
    {
     "name": "stderr",
     "output_type": "stream",
     "text": [
      " 83%|██████████████████████████████████████████████████████████████▍            | 13853/16624 [1:50:49<21:35,  2.14it/s]"
     ]
    },
    {
     "name": "stdout",
     "output_type": "stream",
     "text": [
      "Redirected:  13853 https://www.domain.com.au/2-102-albert-road-warragul-vic-3820-16014159\n"
     ]
    },
    {
     "name": "stderr",
     "output_type": "stream",
     "text": [
      " 84%|██████████████████████████████████████████████████████████████▋            | 13886/16624 [1:51:07<21:37,  2.11it/s]"
     ]
    },
    {
     "name": "stdout",
     "output_type": "stream",
     "text": [
      "Redirected:  13886 https://www.domain.com.au/1-102-albert-road-warragul-vic-3820-16013602\n"
     ]
    },
    {
     "name": "stderr",
     "output_type": "stream",
     "text": [
      " 84%|██████████████████████████████████████████████████████████████▋            | 13891/16624 [1:51:09<20:26,  2.23it/s]"
     ]
    },
    {
     "name": "stdout",
     "output_type": "stream",
     "text": [
      "Redirected:  13891 https://www.domain.com.au/36-473-475-princes-hwy-noble-park-vic-3174-16013556\n"
     ]
    },
    {
     "name": "stderr",
     "output_type": "stream",
     "text": [
      "\r",
      " 84%|██████████████████████████████████████████████████████████████▋            | 13892/16624 [1:51:10<20:54,  2.18it/s]"
     ]
    },
    {
     "name": "stdout",
     "output_type": "stream",
     "text": [
      "Redirected:  13892 https://www.domain.com.au/65-springvale-road-mulgrave-vic-3170-16013542\n"
     ]
    },
    {
     "name": "stderr",
     "output_type": "stream",
     "text": [
      " 84%|██████████████████████████████████████████████████████████████▋            | 13901/16624 [1:51:15<21:33,  2.11it/s]"
     ]
    },
    {
     "name": "stdout",
     "output_type": "stream",
     "text": [
      "Redirected:  13901 https://www.domain.com.au/4-5-marion-street-dandenong-vic-3175-16013449\n"
     ]
    },
    {
     "name": "stderr",
     "output_type": "stream",
     "text": [
      " 84%|██████████████████████████████████████████████████████████████▋            | 13904/16624 [1:51:16<23:31,  1.93it/s]"
     ]
    },
    {
     "name": "stdout",
     "output_type": "stream",
     "text": [
      "Redirected:  13904 https://www.domain.com.au/336-burwood-highway-burwood-vic-3125-16013368\n"
     ]
    },
    {
     "name": "stderr",
     "output_type": "stream",
     "text": [
      " 84%|██████████████████████████████████████████████████████████████▋            | 13908/16624 [1:51:18<19:51,  2.28it/s]"
     ]
    },
    {
     "name": "stdout",
     "output_type": "stream",
     "text": [
      "Redirected:  13908 https://www.domain.com.au/2514-250e-elizabeth-street-melbourne-vic-3000-16013303\n"
     ]
    },
    {
     "name": "stderr",
     "output_type": "stream",
     "text": [
      " 84%|██████████████████████████████████████████████████████████████▊            | 13912/16624 [1:51:20<22:05,  2.05it/s]"
     ]
    },
    {
     "name": "stdout",
     "output_type": "stream",
     "text": [
      "Redirected:  13912 https://www.domain.com.au/101-972-glenhuntly-road-caulfield-south-vic-3162-16013270\n"
     ]
    },
    {
     "name": "stderr",
     "output_type": "stream",
     "text": [
      " 84%|██████████████████████████████████████████████████████████████▉            | 13939/16624 [1:51:33<19:46,  2.26it/s]"
     ]
    },
    {
     "name": "stdout",
     "output_type": "stream",
     "text": [
      "Redirected:  13939 https://www.domain.com.au/1-7-oaklands-avenue-ferntree-gully-vic-3156-16013031\n"
     ]
    },
    {
     "name": "stderr",
     "output_type": "stream",
     "text": [
      " 84%|███████████████████████████████████████████████████████████████            | 13973/16624 [1:51:50<18:08,  2.44it/s]"
     ]
    },
    {
     "name": "stdout",
     "output_type": "stream",
     "text": [
      "Redirected:  13973 https://www.domain.com.au/unit-1-23-koonalda-grove-dandenong-north-vic-3175-16012605\n"
     ]
    },
    {
     "name": "stderr",
     "output_type": "stream",
     "text": [
      " 84%|███████████████████████████████████████████████████████████████            | 13982/16624 [1:51:54<19:58,  2.20it/s]"
     ]
    },
    {
     "name": "stdout",
     "output_type": "stream",
     "text": [
      "Redirected:  13982 https://www.domain.com.au/18a-hampton-road-essendon-west-vic-3040-16012457\n"
     ]
    },
    {
     "name": "stderr",
     "output_type": "stream",
     "text": [
      " 84%|███████████████████████████████████████████████████████████████▏           | 14004/16624 [1:52:04<15:54,  2.74it/s]"
     ]
    },
    {
     "name": "stdout",
     "output_type": "stream",
     "text": [
      "Redirected:  14003 https://www.domain.com.au/12-vule-street-st-albans-vic-3021-16012152\n",
      "'props'\n"
     ]
    },
    {
     "name": "stderr",
     "output_type": "stream",
     "text": [
      " 84%|███████████████████████████████████████████████████████████████▏           | 14012/16624 [1:52:10<23:32,  1.85it/s]"
     ]
    },
    {
     "name": "stdout",
     "output_type": "stream",
     "text": [
      "Redirected:  14012 https://www.domain.com.au/47-angliss-street-yarraville-vic-3013-16011999\n"
     ]
    },
    {
     "name": "stderr",
     "output_type": "stream",
     "text": [
      " 84%|███████████████████████████████████████████████████████████████▎           | 14045/16624 [1:52:25<21:41,  1.98it/s]"
     ]
    },
    {
     "name": "stdout",
     "output_type": "stream",
     "text": [
      "Redirected:  14045 https://www.domain.com.au/oasis-crescent-yarrawonga-vic-3730-16011493\n"
     ]
    },
    {
     "name": "stderr",
     "output_type": "stream",
     "text": [
      " 85%|███████████████████████████████████████████████████████████████▋           | 14112/16624 [1:52:57<18:02,  2.32it/s]"
     ]
    },
    {
     "name": "stdout",
     "output_type": "stream",
     "text": [
      "Redirected:  14112 https://www.domain.com.au/234-bridport-street-west-street-albert-park-vic-3206-16010656\n"
     ]
    },
    {
     "name": "stderr",
     "output_type": "stream",
     "text": [
      " 85%|███████████████████████████████████████████████████████████████▋           | 14115/16624 [1:52:58<18:55,  2.21it/s]"
     ]
    },
    {
     "name": "stdout",
     "output_type": "stream",
     "text": [
      "Redirected:  14115 https://www.domain.com.au/9-6-poplar-grove-carnegie-vic-3163-16010598\n"
     ]
    },
    {
     "name": "stderr",
     "output_type": "stream",
     "text": [
      "\r",
      " 85%|███████████████████████████████████████████████████████████████▋           | 14116/16624 [1:52:59<21:00,  1.99it/s]"
     ]
    },
    {
     "name": "stdout",
     "output_type": "stream",
     "text": [
      "Redirected:  14116 https://www.domain.com.au/13-6-poplar-grove-carnegie-vic-3163-16010587\n"
     ]
    },
    {
     "name": "stderr",
     "output_type": "stream",
     "text": [
      " 85%|███████████████████████████████████████████████████████████████▋           | 14118/16624 [1:53:00<27:43,  1.51it/s]"
     ]
    },
    {
     "name": "stdout",
     "output_type": "stream",
     "text": [
      "Redirected:  14117 https://www.domain.com.au/3-627-mountain-highway-bayswater-vic-3153-16010576\n",
      "'props'\n"
     ]
    },
    {
     "name": "stderr",
     "output_type": "stream",
     "text": [
      " 85%|███████████████████████████████████████████████████████████████▊           | 14151/16624 [1:53:17<17:45,  2.32it/s]"
     ]
    },
    {
     "name": "stdout",
     "output_type": "stream",
     "text": [
      "Redirected:  14151 https://www.domain.com.au/carspace-610-st-kilda-road-melbourne-vic-3004-16010221\n"
     ]
    },
    {
     "name": "stderr",
     "output_type": "stream",
     "text": [
      " 86%|████████████████████████████████████████████████████████████████▏          | 14217/16624 [1:53:47<19:04,  2.10it/s]"
     ]
    },
    {
     "name": "stdout",
     "output_type": "stream",
     "text": [
      "Redirected:  14217 https://www.domain.com.au/16-penzance-avenue-sydenham-vic-3037-16009285\n"
     ]
    },
    {
     "name": "stderr",
     "output_type": "stream",
     "text": [
      " 86%|████████████████████████████████████████████████████████████████▏          | 14223/16624 [1:53:50<16:41,  2.40it/s]"
     ]
    },
    {
     "name": "stdout",
     "output_type": "stream",
     "text": [
      "Redirected:  14223 https://www.domain.com.au/7-544-gilbert-road-preston-vic-3072-16009214\n"
     ]
    },
    {
     "name": "stderr",
     "output_type": "stream",
     "text": [
      "\r",
      " 86%|████████████████████████████████████████████████████████████████▏          | 14224/16624 [1:53:50<17:00,  2.35it/s]"
     ]
    },
    {
     "name": "stdout",
     "output_type": "stream",
     "text": [
      "Redirected:  14224 https://www.domain.com.au/125-gower-preston-vic-3072-16009213\n"
     ]
    },
    {
     "name": "stderr",
     "output_type": "stream",
     "text": [
      "\r",
      " 86%|████████████████████████████████████████████████████████████████▏          | 14225/16624 [1:53:51<17:31,  2.28it/s]"
     ]
    },
    {
     "name": "stdout",
     "output_type": "stream",
     "text": [
      "Redirected:  14225 https://www.domain.com.au/7-544-gilbert-road-preston-vic-3072-16009211\n"
     ]
    },
    {
     "name": "stderr",
     "output_type": "stream",
     "text": [
      "\r",
      " 86%|████████████████████████████████████████████████████████████████▏          | 14226/16624 [1:53:51<19:07,  2.09it/s]"
     ]
    },
    {
     "name": "stdout",
     "output_type": "stream",
     "text": [
      "Redirected:  14226 https://www.domain.com.au/125-gower-preston-vic-3072-16009209\n"
     ]
    },
    {
     "name": "stderr",
     "output_type": "stream",
     "text": [
      " 86%|████████████████████████████████████████████████████████████████▏          | 14234/16624 [1:53:55<16:12,  2.46it/s]"
     ]
    },
    {
     "name": "stdout",
     "output_type": "stream",
     "text": [
      "Redirected:  14234 https://www.domain.com.au/8-7-nelson-street-balaclava-vic-3183-16009120\n"
     ]
    },
    {
     "name": "stderr",
     "output_type": "stream",
     "text": [
      " 86%|████████████████████████████████████████████████████████████████▎          | 14260/16624 [1:54:08<18:50,  2.09it/s]"
     ]
    },
    {
     "name": "stdout",
     "output_type": "stream",
     "text": [
      "Redirected:  14260 https://www.domain.com.au/3-35-paxton-street-malvern-east-vic-3145-16008619\n"
     ]
    },
    {
     "name": "stderr",
     "output_type": "stream",
     "text": [
      " 86%|████████████████████████████████████████████████████████████████▍          | 14284/16624 [1:54:20<14:26,  2.70it/s]"
     ]
    },
    {
     "name": "stdout",
     "output_type": "stream",
     "text": [
      "list index out of range\n"
     ]
    },
    {
     "name": "stderr",
     "output_type": "stream",
     "text": [
      " 86%|████████████████████████████████████████████████████████████████▌          | 14299/16624 [1:54:27<21:05,  1.84it/s]"
     ]
    },
    {
     "name": "stdout",
     "output_type": "stream",
     "text": [
      "Redirected:  14299 https://www.domain.com.au/1017-heatherton-road-springvale-south-vic-3172-16008183\n"
     ]
    },
    {
     "name": "stderr",
     "output_type": "stream",
     "text": [
      " 86%|████████████████████████████████████████████████████████████████▌          | 14321/16624 [1:54:39<22:01,  1.74it/s]"
     ]
    },
    {
     "name": "stdout",
     "output_type": "stream",
     "text": [
      "Redirected:  14321 https://www.domain.com.au/2-47-hillside-drive-dandenong-north-vic-3175-16007922\n"
     ]
    },
    {
     "name": "stderr",
     "output_type": "stream",
     "text": [
      " 86%|████████████████████████████████████████████████████████████████▋          | 14328/16624 [1:54:43<18:50,  2.03it/s]"
     ]
    },
    {
     "name": "stdout",
     "output_type": "stream",
     "text": [
      "Redirected:  14328 https://www.domain.com.au/1-5-bainbridge-avenue-seaford-vic-3198-16007860\n"
     ]
    },
    {
     "name": "stderr",
     "output_type": "stream",
     "text": [
      " 86%|████████████████████████████████████████████████████████████████▊          | 14362/16624 [1:54:59<21:18,  1.77it/s]"
     ]
    },
    {
     "name": "stdout",
     "output_type": "stream",
     "text": [
      "Redirected:  14362 https://www.domain.com.au/3-140-warrigal-road-camberwell-vic-3124-16007377\n"
     ]
    },
    {
     "name": "stderr",
     "output_type": "stream",
     "text": [
      " 86%|████████████████████████████████████████████████████████████████▊          | 14376/16624 [1:55:06<17:40,  2.12it/s]"
     ]
    },
    {
     "name": "stdout",
     "output_type": "stream",
     "text": [
      "Redirected:  14376 https://www.domain.com.au/24-tedecso-circuit-williamstown-vic-3016-16007152\n"
     ]
    },
    {
     "name": "stderr",
     "output_type": "stream",
     "text": [
      " 87%|████████████████████████████████████████████████████████████████▉          | 14397/16624 [1:55:16<15:07,  2.45it/s]"
     ]
    },
    {
     "name": "stdout",
     "output_type": "stream",
     "text": [
      "Redirected:  14397 https://www.domain.com.au/402-261-centre-road-bentleigh-vic-3204-14859377\n"
     ]
    },
    {
     "name": "stderr",
     "output_type": "stream",
     "text": [
      " 87%|█████████████████████████████████████████████████████████████████          | 14415/16624 [1:55:24<15:37,  2.36it/s]"
     ]
    },
    {
     "name": "stdout",
     "output_type": "stream",
     "text": [
      "Redirected:  14415 https://www.domain.com.au/2-de-feu-street-north-melbourne-vic-3051-16006686\n"
     ]
    },
    {
     "name": "stderr",
     "output_type": "stream",
     "text": [
      " 87%|█████████████████████████████████████████████████████████████████▎         | 14463/16624 [1:55:47<17:08,  2.10it/s]"
     ]
    },
    {
     "name": "stdout",
     "output_type": "stream",
     "text": [
      "Redirected:  14463 https://www.domain.com.au/1-101-great-ryrie-street-ringwood-vic-3134-16006002\n"
     ]
    },
    {
     "name": "stderr",
     "output_type": "stream",
     "text": [
      " 87%|█████████████████████████████████████████████████████████████████▎         | 14478/16624 [1:55:54<14:49,  2.41it/s]"
     ]
    },
    {
     "name": "stdout",
     "output_type": "stream",
     "text": [
      "Redirected:  14478 https://www.domain.com.au/10-50-leura-grove-hawthorn-vic-3122-16005616\n"
     ]
    },
    {
     "name": "stderr",
     "output_type": "stream",
     "text": [
      " 87%|█████████████████████████████████████████████████████████████████▎         | 14482/16624 [1:55:56<15:16,  2.34it/s]"
     ]
    },
    {
     "name": "stdout",
     "output_type": "stream",
     "text": [
      "Redirected:  14482 https://www.domain.com.au/25-melville-road-brunswick-vic-3056-15938975\n"
     ]
    },
    {
     "name": "stderr",
     "output_type": "stream",
     "text": [
      " 87%|█████████████████████████████████████████████████████████████████▍         | 14503/16624 [1:56:06<18:27,  1.92it/s]"
     ]
    },
    {
     "name": "stdout",
     "output_type": "stream",
     "text": [
      "Redirected:  14503 https://www.domain.com.au/4-mesarati-way-cranbourne-east-vic-3977-16005231\n"
     ]
    },
    {
     "name": "stderr",
     "output_type": "stream",
     "text": [
      " 87%|█████████████████████████████████████████████████████████████████▌         | 14520/16624 [1:56:14<17:29,  2.01it/s]"
     ]
    },
    {
     "name": "stdout",
     "output_type": "stream",
     "text": [
      "Redirected:  14520 https://www.domain.com.au/1404c-260-spencer-st-melbourne-vic-3000-16004965\n"
     ]
    },
    {
     "name": "stderr",
     "output_type": "stream",
     "text": [
      " 88%|█████████████████████████████████████████████████████████████████▋         | 14548/16624 [1:56:26<12:32,  2.76it/s]"
     ]
    },
    {
     "name": "stdout",
     "output_type": "stream",
     "text": [
      "Redirected:  14547 https://www.domain.com.au/13-chaucer-close-delahey-vic-3037-16003887\n",
      "'props'\n"
     ]
    },
    {
     "name": "stderr",
     "output_type": "stream",
     "text": [
      " 88%|█████████████████████████████████████████████████████████████████▋         | 14555/16624 [1:56:29<11:37,  2.97it/s]"
     ]
    },
    {
     "name": "stdout",
     "output_type": "stream",
     "text": [
      "Redirected:  14554 https://www.domain.com.au/17-collett-street-kensington-vic-3031-16003784\n",
      "'props'\n"
     ]
    },
    {
     "name": "stderr",
     "output_type": "stream",
     "text": [
      " 88%|█████████████████████████████████████████████████████████████████▊         | 14597/16624 [1:56:47<14:55,  2.26it/s]"
     ]
    },
    {
     "name": "stdout",
     "output_type": "stream",
     "text": [
      "Redirected:  14597 https://www.domain.com.au/330a-canterbury-rd-surrey-hills-vic-3127-12135798\n"
     ]
    },
    {
     "name": "stderr",
     "output_type": "stream",
     "text": [
      " 88%|█████████████████████████████████████████████████████████████████▉         | 14619/16624 [1:56:58<13:26,  2.49it/s]"
     ]
    },
    {
     "name": "stdout",
     "output_type": "stream",
     "text": [
      "list index out of range\n"
     ]
    },
    {
     "name": "stderr",
     "output_type": "stream",
     "text": [
      " 88%|█████████████████████████████████████████████████████████████████▉         | 14621/16624 [1:56:59<15:24,  2.17it/s]"
     ]
    },
    {
     "name": "stdout",
     "output_type": "stream",
     "text": [
      "Redirected:  14621 https://www.domain.com.au/3119-488-swanston-street-carlton-vic-3053-16002815\n"
     ]
    },
    {
     "name": "stderr",
     "output_type": "stream",
     "text": [
      " 88%|██████████████████████████████████████████████████████████████████▏        | 14682/16624 [1:57:28<12:57,  2.50it/s]"
     ]
    },
    {
     "name": "stdout",
     "output_type": "stream",
     "text": [
      "Redirected:  14682 https://www.domain.com.au/601-15-doepel-way-docklands-vic-3008-16001822\n"
     ]
    },
    {
     "name": "stderr",
     "output_type": "stream",
     "text": [
      " 88%|██████████████████████████████████████████████████████████████████▎        | 14695/16624 [1:57:33<13:40,  2.35it/s]"
     ]
    },
    {
     "name": "stdout",
     "output_type": "stream",
     "text": [
      "Redirected:  14695 https://www.domain.com.au/lot-a-2-83-hotham-road-niddrie-vic-3042-16001629\n"
     ]
    },
    {
     "name": "stderr",
     "output_type": "stream",
     "text": [
      " 89%|██████████████████████████████████████████████████████████████████▌        | 14763/16624 [1:58:10<20:31,  1.51it/s]"
     ]
    },
    {
     "name": "stdout",
     "output_type": "stream",
     "text": [
      "Redirected:  14763 https://www.domain.com.au/18-james-street-templestowe-vic-3106-16000492\n"
     ]
    },
    {
     "name": "stderr",
     "output_type": "stream",
     "text": [
      " 89%|██████████████████████████████████████████████████████████████████▋        | 14771/16624 [1:58:14<13:45,  2.25it/s]"
     ]
    },
    {
     "name": "stdout",
     "output_type": "stream",
     "text": [
      "Redirected:  14771 https://www.domain.com.au/95-street-seddon-vic-3011-16000330\n"
     ]
    },
    {
     "name": "stderr",
     "output_type": "stream",
     "text": [
      " 89%|██████████████████████████████████████████████████████████████████▉        | 14839/16624 [1:58:46<11:52,  2.50it/s]"
     ]
    },
    {
     "name": "stdout",
     "output_type": "stream",
     "text": [
      "Redirected:  14839 https://www.domain.com.au/2902-828-whitehorse-road-box-hill-vic-3128-15999360\n"
     ]
    },
    {
     "name": "stderr",
     "output_type": "stream",
     "text": [
      " 89%|███████████████████████████████████████████████████████████████████        | 14867/16624 [1:58:58<10:18,  2.84it/s]"
     ]
    },
    {
     "name": "stdout",
     "output_type": "stream",
     "text": [
      "Redirected:  14866 https://www.domain.com.au/1008-60-kavanagh-street-southbank-vic-3006-15998622\n",
      "'props'\n"
     ]
    },
    {
     "name": "stderr",
     "output_type": "stream",
     "text": [
      " 89%|███████████████████████████████████████████████████████████████████        | 14869/16624 [1:58:59<10:43,  2.73it/s]"
     ]
    },
    {
     "name": "stdout",
     "output_type": "stream",
     "text": [
      "Redirected:  14869 https://www.domain.com.au/pedro-street-clyde-north-vic-3978-15998586\n"
     ]
    },
    {
     "name": "stderr",
     "output_type": "stream",
     "text": [
      " 90%|███████████████████████████████████████████████████████████████████▏       | 14905/16624 [1:59:16<10:17,  2.78it/s]"
     ]
    },
    {
     "name": "stdout",
     "output_type": "stream",
     "text": [
      "Redirected:  14904 https://www.domain.com.au/34-felix-grove-mooroolbark-vic-3138-15997835\n",
      "'props'\n"
     ]
    },
    {
     "name": "stderr",
     "output_type": "stream",
     "text": [
      "\r",
      " 90%|███████████████████████████████████████████████████████████████████▏       | 14906/16624 [1:59:16<10:23,  2.75it/s]"
     ]
    },
    {
     "name": "stdout",
     "output_type": "stream",
     "text": [
      "Redirected:  14906 https://www.domain.com.au/4-pippen-loop-fraser-rise-vic-3336-15997822\n"
     ]
    },
    {
     "name": "stderr",
     "output_type": "stream",
     "text": [
      " 90%|███████████████████████████████████████████████████████████████████▍       | 14953/16624 [1:59:37<13:33,  2.06it/s]"
     ]
    },
    {
     "name": "stdout",
     "output_type": "stream",
     "text": [
      "Redirected:  14953 https://www.domain.com.au/505-200-lygon-street-brunswick-vic-3056-15996680\n"
     ]
    },
    {
     "name": "stderr",
     "output_type": "stream",
     "text": [
      " 90%|███████████████████████████████████████████████████████████████████▌       | 14964/16624 [1:59:42<12:31,  2.21it/s]"
     ]
    },
    {
     "name": "stdout",
     "output_type": "stream",
     "text": [
      "Redirected:  14964 https://www.domain.com.au/76-toolong-north-road-toolong-vic-3285-15996413\n"
     ]
    },
    {
     "name": "stderr",
     "output_type": "stream",
     "text": [
      " 90%|███████████████████████████████████████████████████████████████████▋       | 15008/16624 [2:00:02<11:34,  2.33it/s]"
     ]
    },
    {
     "name": "stdout",
     "output_type": "stream",
     "text": [
      "Redirected:  15008 https://www.domain.com.au/330-55-villiers-street-north-melbourne-vic-3051-14883515\n"
     ]
    },
    {
     "name": "stderr",
     "output_type": "stream",
     "text": [
      " 91%|████████████████████████████████████████████████████████████████████       | 15088/16624 [2:00:38<11:26,  2.24it/s]"
     ]
    },
    {
     "name": "stdout",
     "output_type": "stream",
     "text": [
      "Redirected:  15088 https://www.domain.com.au/2-207-balaclava-road-caulfield-north-vic-3161-15950067\n"
     ]
    },
    {
     "name": "stderr",
     "output_type": "stream",
     "text": [
      " 91%|████████████████████████████████████████████████████████████████████▎      | 15132/16624 [2:00:59<10:24,  2.39it/s]"
     ]
    },
    {
     "name": "stdout",
     "output_type": "stream",
     "text": [
      "Redirected:  15132 https://www.domain.com.au/1-winglillie-street-mildura-vic-3500-15993769\n"
     ]
    },
    {
     "name": "stderr",
     "output_type": "stream",
     "text": [
      " 91%|████████████████████████████████████████████████████████████████████▎      | 15145/16624 [2:01:05<10:42,  2.30it/s]"
     ]
    },
    {
     "name": "stdout",
     "output_type": "stream",
     "text": [
      "Redirected:  15145 https://www.domain.com.au/213-17-arnold-street-box-hill-vic-3128-15993457\n"
     ]
    },
    {
     "name": "stderr",
     "output_type": "stream",
     "text": [
      " 91%|████████████████████████████████████████████████████████████████████▍      | 15162/16624 [2:01:14<19:33,  1.25it/s]"
     ]
    },
    {
     "name": "stdout",
     "output_type": "stream",
     "text": [
      "Redirected:  15161 https://www.domain.com.au/22-forbes-court-north-bendigo-vic-3550-15993112\n",
      "'props'\n"
     ]
    },
    {
     "name": "stderr",
     "output_type": "stream",
     "text": [
      " 91%|████████████████████████████████████████████████████████████████████▍      | 15180/16624 [2:01:22<11:25,  2.11it/s]"
     ]
    },
    {
     "name": "stdout",
     "output_type": "stream",
     "text": [
      "Redirected:  15180 https://www.domain.com.au/1604-250-st-kilda-road-melbourne-vic-3000-15992873\n"
     ]
    },
    {
     "name": "stderr",
     "output_type": "stream",
     "text": [
      "\r",
      " 91%|████████████████████████████████████████████████████████████████████▍      | 15181/16624 [2:01:23<11:19,  2.12it/s]"
     ]
    },
    {
     "name": "stdout",
     "output_type": "stream",
     "text": [
      "Redirected:  15181 https://www.domain.com.au/4-kirrak-street-wonthaggi-vic-3995-15992847\n"
     ]
    },
    {
     "name": "stderr",
     "output_type": "stream",
     "text": [
      " 91%|████████████████████████████████████████████████████████████████████▌      | 15209/16624 [2:01:37<12:32,  1.88it/s]"
     ]
    },
    {
     "name": "stdout",
     "output_type": "stream",
     "text": [
      "Redirected:  15209 https://www.domain.com.au/10-ranfurlie-avenue-point-cook-vic-3030-15992281\n"
     ]
    },
    {
     "name": "stderr",
     "output_type": "stream",
     "text": [
      " 92%|████████████████████████████████████████████████████████████████████▋      | 15223/16624 [2:01:45<14:54,  1.57it/s]"
     ]
    },
    {
     "name": "stdout",
     "output_type": "stream",
     "text": [
      "Redirected:  15223 https://www.domain.com.au/unit-1-40-44-edgevale-road-kew-vic-3101-15992046\n"
     ]
    },
    {
     "name": "stderr",
     "output_type": "stream",
     "text": [
      " 92%|████████████████████████████████████████████████████████████████████▊      | 15261/16624 [2:02:02<09:55,  2.29it/s]"
     ]
    },
    {
     "name": "stdout",
     "output_type": "stream",
     "text": [
      "Redirected:  15261 https://www.domain.com.au/4-4-hamliton-street-bentleigh-vic-3204-15991234\n"
     ]
    },
    {
     "name": "stderr",
     "output_type": "stream",
     "text": [
      " 92%|█████████████████████████████████████████████████████████████████████▏     | 15331/16624 [2:02:36<09:05,  2.37it/s]"
     ]
    },
    {
     "name": "stdout",
     "output_type": "stream",
     "text": [
      "Redirected:  15331 https://www.domain.com.au/61-masada-boulevard-winter-valley-vic-3358-15990144\n"
     ]
    },
    {
     "name": "stderr",
     "output_type": "stream",
     "text": [
      " 92%|█████████████████████████████████████████████████████████████████████▎     | 15374/16624 [2:02:57<10:15,  2.03it/s]"
     ]
    },
    {
     "name": "stdout",
     "output_type": "stream",
     "text": [
      "Redirected:  15374 https://www.domain.com.au/burwood-vic-3125-15989035\n"
     ]
    },
    {
     "name": "stderr",
     "output_type": "stream",
     "text": [
      " 93%|█████████████████████████████████████████████████████████████████████▋     | 15439/16624 [2:03:27<09:43,  2.03it/s]"
     ]
    },
    {
     "name": "stdout",
     "output_type": "stream",
     "text": [
      "Redirected:  15439 https://www.domain.com.au/9-susman-court-altona-meadows-vic-3028-15987606\n"
     ]
    },
    {
     "name": "stderr",
     "output_type": "stream",
     "text": [
      " 93%|█████████████████████████████████████████████████████████████████████▋     | 15443/16624 [2:03:29<09:12,  2.14it/s]"
     ]
    },
    {
     "name": "stdout",
     "output_type": "stream",
     "text": [
      "Redirected:  15443 https://www.domain.com.au/1-3-4-5-6-20-hemmings-street-dandenong-vic-3175-15987514\n"
     ]
    },
    {
     "name": "stderr",
     "output_type": "stream",
     "text": [
      " 93%|█████████████████████████████████████████████████████████████████████▋     | 15451/16624 [2:03:33<08:59,  2.17it/s]"
     ]
    },
    {
     "name": "stdout",
     "output_type": "stream",
     "text": [
      "Redirected:  15451 https://www.domain.com.au/balwyn-north-vic-3104-15987333\n"
     ]
    },
    {
     "name": "stderr",
     "output_type": "stream",
     "text": [
      " 93%|█████████████████████████████████████████████████████████████████████▊     | 15463/16624 [2:03:38<08:23,  2.30it/s]"
     ]
    },
    {
     "name": "stdout",
     "output_type": "stream",
     "text": [
      "Redirected:  15463 https://www.domain.com.au/36-cooloongatta-rd-camberwell-vic-3124-15987027\n"
     ]
    },
    {
     "name": "stderr",
     "output_type": "stream",
     "text": [
      " 93%|█████████████████████████████████████████████████████████████████████▊     | 15474/16624 [2:03:43<09:02,  2.12it/s]"
     ]
    },
    {
     "name": "stdout",
     "output_type": "stream",
     "text": [
      "Redirected:  15474 https://www.domain.com.au/3194-45-railway-avenue-oakleigh-vic-3166-15986822\n"
     ]
    },
    {
     "name": "stderr",
     "output_type": "stream",
     "text": [
      " 93%|█████████████████████████████████████████████████████████████████████▊     | 15486/16624 [2:03:48<06:38,  2.85it/s]"
     ]
    },
    {
     "name": "stdout",
     "output_type": "stream",
     "text": [
      "Redirected:  15485 https://www.domain.com.au/unit-8-17a-martin-st-brighton-vic-3186-15986677\n",
      "'props'\n"
     ]
    },
    {
     "name": "stderr",
     "output_type": "stream",
     "text": [
      " 93%|██████████████████████████████████████████████████████████████████████     | 15518/16624 [2:04:02<08:23,  2.20it/s]"
     ]
    },
    {
     "name": "stdout",
     "output_type": "stream",
     "text": [
      "Redirected:  15518 https://www.domain.com.au/3-49-tennyson-street-elwood-vic-3184-15985762\n"
     ]
    },
    {
     "name": "stderr",
     "output_type": "stream",
     "text": [
      " 93%|██████████████████████████████████████████████████████████████████████     | 15527/16624 [2:04:06<08:05,  2.26it/s]"
     ]
    },
    {
     "name": "stdout",
     "output_type": "stream",
     "text": [
      "Redirected:  15527 https://www.domain.com.au/2-66-banksia-street-heidelberg-vic-3084-15985525\n"
     ]
    },
    {
     "name": "stderr",
     "output_type": "stream",
     "text": [
      " 94%|██████████████████████████████████████████████████████████████████████▏    | 15547/16624 [2:04:16<08:20,  2.15it/s]"
     ]
    },
    {
     "name": "stdout",
     "output_type": "stream",
     "text": [
      "Redirected:  15547 https://www.domain.com.au/47a-madden-street-maidstone-vic-3012-15984780\n"
     ]
    },
    {
     "name": "stderr",
     "output_type": "stream",
     "text": [
      " 94%|██████████████████████████████████████████████████████████████████████▏    | 15566/16624 [2:04:25<06:20,  2.78it/s]"
     ]
    },
    {
     "name": "stdout",
     "output_type": "stream",
     "text": [
      "Redirected:  15565 https://www.domain.com.au/33-roberts-avenue-hoppers-crossing-vic-3029-15984186\n",
      "'props'\n"
     ]
    },
    {
     "name": "stderr",
     "output_type": "stream",
     "text": [
      " 94%|██████████████████████████████████████████████████████████████████████▍    | 15620/16624 [2:04:49<07:27,  2.24it/s]"
     ]
    },
    {
     "name": "stdout",
     "output_type": "stream",
     "text": [
      "Redirected:  15620 https://www.domain.com.au/8-everlasting-terrace-armstrong-creek-vic-3217-15983183\n"
     ]
    },
    {
     "name": "stderr",
     "output_type": "stream",
     "text": [
      " 94%|██████████████████████████████████████████████████████████████████████▍    | 15624/16624 [2:04:51<07:54,  2.11it/s]"
     ]
    },
    {
     "name": "stdout",
     "output_type": "stream",
     "text": [
      "Redirected:  15624 https://www.domain.com.au/1804-327-la-trobe-st-melbourne-vic-3000-15113606\n"
     ]
    },
    {
     "name": "stderr",
     "output_type": "stream",
     "text": [
      " 94%|██████████████████████████████████████████████████████████████████████▌    | 15638/16624 [2:04:57<08:49,  1.86it/s]"
     ]
    },
    {
     "name": "stdout",
     "output_type": "stream",
     "text": [
      "Redirected:  15638 https://www.domain.com.au/10-12-14-quinns-road-bentleigh-east-vic-3165-15937557\n"
     ]
    },
    {
     "name": "stderr",
     "output_type": "stream",
     "text": [
      " 94%|██████████████████████████████████████████████████████████████████████▌    | 15650/16624 [2:05:04<07:08,  2.27it/s]"
     ]
    },
    {
     "name": "stdout",
     "output_type": "stream",
     "text": [
      "Redirected:  15650 https://www.domain.com.au/40-watts-road-nyora-vic-3987-15936521\n"
     ]
    },
    {
     "name": "stderr",
     "output_type": "stream",
     "text": [
      " 94%|██████████████████████████████████████████████████████████████████████▊    | 15693/16624 [2:05:24<05:55,  2.62it/s]"
     ]
    },
    {
     "name": "stdout",
     "output_type": "stream",
     "text": [
      "Redirected:  15692 https://www.domain.com.au/57-bunting-street-richmond-vic-3121-15122188\n",
      "'props'\n"
     ]
    },
    {
     "name": "stderr",
     "output_type": "stream",
     "text": [
      " 95%|██████████████████████████████████████████████████████████████████████▉    | 15724/16624 [2:05:37<06:53,  2.18it/s]"
     ]
    },
    {
     "name": "stdout",
     "output_type": "stream",
     "text": [
      "Redirected:  15724 https://www.domain.com.au/room-8-125-arthur-street-bundoora-vic-3083-15932021\n"
     ]
    },
    {
     "name": "stderr",
     "output_type": "stream",
     "text": [
      " 95%|██████████████████████████████████████████████████████████████████████▉    | 15727/16624 [2:05:38<06:52,  2.18it/s]"
     ]
    },
    {
     "name": "stdout",
     "output_type": "stream",
     "text": [
      "Redirected:  15727 https://www.domain.com.au/88-strathmerton-street-reservoir-vic-3073-15931220\n"
     ]
    },
    {
     "name": "stderr",
     "output_type": "stream",
     "text": [
      " 95%|███████████████████████████████████████████████████████████████████████    | 15742/16624 [2:05:45<06:01,  2.44it/s]"
     ]
    },
    {
     "name": "stdout",
     "output_type": "stream",
     "text": [
      "Redirected:  15742 https://www.domain.com.au/7-9-gordon-footscray-vic-3011-15929504\n"
     ]
    },
    {
     "name": "stderr",
     "output_type": "stream",
     "text": [
      " 95%|███████████████████████████████████████████████████████████████████████▎   | 15793/16624 [2:06:10<06:58,  1.99it/s]"
     ]
    },
    {
     "name": "stdout",
     "output_type": "stream",
     "text": [
      "Redirected:  15793 https://www.domain.com.au/8-daly-street-south-yarra-vic-3141-15926135\n"
     ]
    },
    {
     "name": "stderr",
     "output_type": "stream",
     "text": [
      " 95%|███████████████████████████████████████████████████████████████████████▎   | 15797/16624 [2:06:13<09:35,  1.44it/s]"
     ]
    },
    {
     "name": "stdout",
     "output_type": "stream",
     "text": [
      "Redirected:  15797 https://www.domain.com.au/469-riversdale-road-hawthorn-east-vic-3123-15925871\n"
     ]
    },
    {
     "name": "stderr",
     "output_type": "stream",
     "text": [
      " 95%|███████████████████████████████████████████████████████████████████████▎   | 15803/16624 [2:06:17<11:02,  1.24it/s]"
     ]
    },
    {
     "name": "stdout",
     "output_type": "stream",
     "text": [
      "Redirected:  15803 https://www.domain.com.au/12-6-westbury-st-st-kilda-east-vic-3183-15925389\n"
     ]
    },
    {
     "name": "stderr",
     "output_type": "stream",
     "text": [
      " 95%|███████████████████████████████████████████████████████████████████████▍   | 15832/16624 [2:06:31<05:56,  2.22it/s]"
     ]
    },
    {
     "name": "stdout",
     "output_type": "stream",
     "text": [
      "Redirected:  15832 https://www.domain.com.au/42-hunter-street-richmond-richmond-vic-3121-15922605\n"
     ]
    },
    {
     "name": "stderr",
     "output_type": "stream",
     "text": [
      "\r",
      " 95%|███████████████████████████████████████████████████████████████████████▍   | 15833/16624 [2:06:32<06:24,  2.06it/s]"
     ]
    },
    {
     "name": "stdout",
     "output_type": "stream",
     "text": [
      "Redirected:  15833 https://www.domain.com.au/68-171-flemington-road-north-melbourne-vic-3051-15922594\n"
     ]
    },
    {
     "name": "stderr",
     "output_type": "stream",
     "text": [
      " 95%|███████████████████████████████████████████████████████████████████████▍   | 15835/16624 [2:06:33<07:39,  1.72it/s]"
     ]
    },
    {
     "name": "stdout",
     "output_type": "stream",
     "text": [
      "Redirected:  15835 https://www.domain.com.au/210-60-kavanagh-street-southbank-vic-3006-15922561\n"
     ]
    },
    {
     "name": "stderr",
     "output_type": "stream",
     "text": [
      " 95%|███████████████████████████████████████████████████████████████████████▌   | 15852/16624 [2:06:41<07:49,  1.64it/s]"
     ]
    },
    {
     "name": "stdout",
     "output_type": "stream",
     "text": [
      "Redirected:  15852 https://www.domain.com.au/5-167-169-oshanassy-street-sunbury-vic-3429-15921480\n"
     ]
    },
    {
     "name": "stderr",
     "output_type": "stream",
     "text": [
      " 95%|███████████████████████████████████████████████████████████████████████▌   | 15859/16624 [2:06:45<07:05,  1.80it/s]"
     ]
    },
    {
     "name": "stdout",
     "output_type": "stream",
     "text": [
      "Redirected:  15859 https://www.domain.com.au/47-frederick-street-caulfield-north-vic-3161-15921064\n"
     ]
    },
    {
     "name": "stderr",
     "output_type": "stream",
     "text": [
      "\r",
      " 95%|███████████████████████████████████████████████████████████████████████▌   | 15860/16624 [2:06:45<06:44,  1.89it/s]"
     ]
    },
    {
     "name": "stdout",
     "output_type": "stream",
     "text": [
      "Redirected:  15860 https://www.domain.com.au/33-roberts-avenue-mulgrave-vic-3170-15920980\n"
     ]
    },
    {
     "name": "stderr",
     "output_type": "stream",
     "text": [
      " 95%|███████████████████████████████████████████████████████████████████████▌   | 15864/16624 [2:06:47<06:16,  2.02it/s]"
     ]
    },
    {
     "name": "stdout",
     "output_type": "stream",
     "text": [
      "Redirected:  15864 https://www.domain.com.au/201-22-nicholson-street-fitzroy-north-vic-3068-13065176\n"
     ]
    },
    {
     "name": "stderr",
     "output_type": "stream",
     "text": [
      " 95%|███████████████████████████████████████████████████████████████████████▌   | 15868/16624 [2:06:49<05:46,  2.18it/s]"
     ]
    },
    {
     "name": "stdout",
     "output_type": "stream",
     "text": [
      "Redirected:  15868 https://www.domain.com.au/9-151-hall-road-carrum-downs-vic-3201-15920493\n"
     ]
    },
    {
     "name": "stderr",
     "output_type": "stream",
     "text": [
      " 96%|███████████████████████████████████████████████████████████████████████▋   | 15886/16624 [2:06:57<05:21,  2.29it/s]"
     ]
    },
    {
     "name": "stdout",
     "output_type": "stream",
     "text": [
      "Redirected:  15886 https://www.domain.com.au/moonee-ponds-vic-3039-15919119\n"
     ]
    },
    {
     "name": "stderr",
     "output_type": "stream",
     "text": [
      " 96%|███████████████████████████████████████████████████████████████████████▊   | 15924/16624 [2:07:14<05:14,  2.22it/s]"
     ]
    },
    {
     "name": "stdout",
     "output_type": "stream",
     "text": [
      "Redirected:  15924 https://www.domain.com.au/2-3-and-4-5-hillview-drive-carrum-downs-vic-3201-15915118\n"
     ]
    },
    {
     "name": "stderr",
     "output_type": "stream",
     "text": [
      " 96%|███████████████████████████████████████████████████████████████████████▉   | 15941/16624 [2:07:23<05:02,  2.26it/s]"
     ]
    },
    {
     "name": "stdout",
     "output_type": "stream",
     "text": [
      "Redirected:  15941 https://www.domain.com.au/830a-high-street-prahran-vic-3181-15914247\n"
     ]
    },
    {
     "name": "stderr",
     "output_type": "stream",
     "text": [
      " 96%|███████████████████████████████████████████████████████████████████████▉   | 15953/16624 [2:07:28<04:45,  2.35it/s]"
     ]
    },
    {
     "name": "stdout",
     "output_type": "stream",
     "text": [
      "Redirected:  15953 https://www.domain.com.au/16-1-kooyong-road-armadale-road-armadale-vic-3143-15913121\n"
     ]
    },
    {
     "name": "stderr",
     "output_type": "stream",
     "text": [
      " 96%|████████████████████████████████████████████████████████████████████████   | 15966/16624 [2:07:34<05:09,  2.13it/s]"
     ]
    },
    {
     "name": "stdout",
     "output_type": "stream",
     "text": [
      "Redirected:  15966 https://www.domain.com.au/7-33-osborne-avenue-malvern-vic-3144-15911408\n"
     ]
    },
    {
     "name": "stderr",
     "output_type": "stream",
     "text": [
      " 96%|████████████████████████████████████████████████████████████████████████   | 15985/16624 [2:07:42<04:47,  2.22it/s]"
     ]
    },
    {
     "name": "stdout",
     "output_type": "stream",
     "text": [
      "Redirected:  15985 https://www.domain.com.au/54-54-betula-terrace-sunbury-vic-3429-15910254\n"
     ]
    },
    {
     "name": "stderr",
     "output_type": "stream",
     "text": [
      " 96%|████████████████████████████████████████████████████████████████████████▏  | 15987/16624 [2:07:43<04:41,  2.26it/s]"
     ]
    },
    {
     "name": "stdout",
     "output_type": "stream",
     "text": [
      "Redirected:  15987 https://www.domain.com.au/hampton-vic-3188-15910160\n"
     ]
    },
    {
     "name": "stderr",
     "output_type": "stream",
     "text": [
      " 96%|████████████████████████████████████████████████████████████████████████▏  | 15997/16624 [2:07:48<04:04,  2.57it/s]"
     ]
    },
    {
     "name": "stdout",
     "output_type": "stream",
     "text": [
      "Redirected:  15996 https://www.domain.com.au/11-25-hotham-street-east-melbourne-vic-3002-15909241\n",
      "'props'\n"
     ]
    },
    {
     "name": "stderr",
     "output_type": "stream",
     "text": [
      " 96%|████████████████████████████████████████████████████████████████████████▏  | 16007/16624 [2:07:52<05:09,  1.99it/s]"
     ]
    },
    {
     "name": "stdout",
     "output_type": "stream",
     "text": [
      "Redirected:  16007 https://www.domain.com.au/1006f-138-ferrars-street-south-melbourne-vic-3205-15429644\n"
     ]
    },
    {
     "name": "stderr",
     "output_type": "stream",
     "text": [
      " 96%|████████████████████████████████████████████████████████████████████████▎  | 16019/16624 [2:07:58<04:40,  2.16it/s]"
     ]
    },
    {
     "name": "stdout",
     "output_type": "stream",
     "text": [
      "Redirected:  16019 https://www.domain.com.au/8-to-11-harvest-home-road-wollert-vic-3750-15906803\n"
     ]
    },
    {
     "name": "stderr",
     "output_type": "stream",
     "text": [
      " 96%|████████████████████████████████████████████████████████████████████████▎  | 16039/16624 [2:08:07<04:21,  2.23it/s]"
     ]
    },
    {
     "name": "stdout",
     "output_type": "stream",
     "text": [
      "Redirected:  16039 https://www.domain.com.au/227-elgar-road-surrey-hills-vic-3127-15904203\n"
     ]
    },
    {
     "name": "stderr",
     "output_type": "stream",
     "text": [
      " 97%|████████████████████████████████████████████████████████████████████████▍  | 16059/16624 [2:08:17<04:59,  1.89it/s]"
     ]
    },
    {
     "name": "stdout",
     "output_type": "stream",
     "text": [
      "'NoneType' object is not subscriptable\n"
     ]
    },
    {
     "name": "stderr",
     "output_type": "stream",
     "text": [
      " 97%|████████████████████████████████████████████████████████████████████████▊  | 16132/16624 [2:08:53<03:31,  2.33it/s]"
     ]
    },
    {
     "name": "stdout",
     "output_type": "stream",
     "text": [
      "Redirected:  16132 https://www.domain.com.au/8-103-stanhope-street-west-footscray-vic-3012-15842636\n"
     ]
    },
    {
     "name": "stderr",
     "output_type": "stream",
     "text": [
      " 97%|████████████████████████████████████████████████████████████████████████▊  | 16140/16624 [2:08:57<03:34,  2.25it/s]"
     ]
    },
    {
     "name": "stdout",
     "output_type": "stream",
     "text": [
      "Redirected:  16140 https://www.domain.com.au/craigieburn-vic-3064-15622567\n"
     ]
    },
    {
     "name": "stderr",
     "output_type": "stream",
     "text": [
      " 97%|████████████████████████████████████████████████████████████████████████▊  | 16145/16624 [2:09:00<03:48,  2.10it/s]"
     ]
    },
    {
     "name": "stdout",
     "output_type": "stream",
     "text": [
      "Redirected:  16145 https://www.domain.com.au/6-myrnong-crescent-ascot-vale-vic-3032-15839587\n"
     ]
    },
    {
     "name": "stderr",
     "output_type": "stream",
     "text": [
      " 97%|████████████████████████████████████████████████████████████████████████▉  | 16161/16624 [2:09:07<03:02,  2.54it/s]"
     ]
    },
    {
     "name": "stdout",
     "output_type": "stream",
     "text": [
      "Redirected:  16161 https://www.domain.com.au/9-14-a-beckett-street-prahran-vic-3181-15834798\n"
     ]
    },
    {
     "name": "stderr",
     "output_type": "stream",
     "text": [
      " 97%|████████████████████████████████████████████████████████████████████████▉  | 16166/16624 [2:09:10<03:49,  1.99it/s]"
     ]
    },
    {
     "name": "stdout",
     "output_type": "stream",
     "text": [
      "Redirected:  16166 https://www.domain.com.au/2-60-trafalgar-ave-altona-meadows-vic-3028-15833832\n"
     ]
    },
    {
     "name": "stderr",
     "output_type": "stream",
     "text": [
      " 97%|████████████████████████████████████████████████████████████████████████▉  | 16174/16624 [2:09:13<03:31,  2.12it/s]"
     ]
    },
    {
     "name": "stdout",
     "output_type": "stream",
     "text": [
      "Redirected:  16174 https://www.domain.com.au/504-18-russell-place-melbourne-vic-3000-15831769\n"
     ]
    },
    {
     "name": "stderr",
     "output_type": "stream",
     "text": [
      " 97%|█████████████████████████████████████████████████████████████████████████  | 16182/16624 [2:09:17<03:24,  2.16it/s]"
     ]
    },
    {
     "name": "stdout",
     "output_type": "stream",
     "text": [
      "Redirected:  16182 https://www.domain.com.au/4-tannery-walk-footscray-vic-3011-15829820\n"
     ]
    },
    {
     "name": "stderr",
     "output_type": "stream",
     "text": [
      " 97%|█████████████████████████████████████████████████████████████████████████  | 16184/16624 [2:09:18<03:24,  2.15it/s]"
     ]
    },
    {
     "name": "stdout",
     "output_type": "stream",
     "text": [
      "Redirected:  16184 https://www.domain.com.au/g05-150-dudley-st-west-melbourne-vic-3003-15829775\n"
     ]
    },
    {
     "name": "stderr",
     "output_type": "stream",
     "text": [
      "\r",
      " 97%|█████████████████████████████████████████████████████████████████████████  | 16185/16624 [2:09:18<03:22,  2.17it/s]"
     ]
    },
    {
     "name": "stdout",
     "output_type": "stream",
     "text": [
      "Redirected:  16185 https://www.domain.com.au/g07-150-dudley-st-west-melbourne-vic-3003-15829689\n"
     ]
    },
    {
     "name": "stderr",
     "output_type": "stream",
     "text": [
      "\r",
      " 97%|█████████████████████████████████████████████████████████████████████████  | 16186/16624 [2:09:19<03:40,  1.99it/s]"
     ]
    },
    {
     "name": "stdout",
     "output_type": "stream",
     "text": [
      "Redirected:  16186 https://www.domain.com.au/37-wotonga-drive-horsham-vic-3400-15829544\n"
     ]
    },
    {
     "name": "stderr",
     "output_type": "stream",
     "text": [
      "\r",
      " 97%|█████████████████████████████████████████████████████████████████████████  | 16187/16624 [2:09:20<03:34,  2.04it/s]"
     ]
    },
    {
     "name": "stdout",
     "output_type": "stream",
     "text": [
      "Redirected:  16187 https://www.domain.com.au/1-hallenstein-street-footscray-vic-3011-15829355\n"
     ]
    },
    {
     "name": "stderr",
     "output_type": "stream",
     "text": [
      " 97%|█████████████████████████████████████████████████████████████████████████  | 16191/16624 [2:09:23<04:49,  1.49it/s]"
     ]
    },
    {
     "name": "stdout",
     "output_type": "stream",
     "text": [
      "Redirected:  16191 https://www.domain.com.au/3-253-darebin-road-thornbury-vic-3071-15828844\n"
     ]
    },
    {
     "name": "stderr",
     "output_type": "stream",
     "text": [
      "\r",
      " 97%|█████████████████████████████████████████████████████████████████████████  | 16192/16624 [2:09:23<04:46,  1.51it/s]"
     ]
    },
    {
     "name": "stdout",
     "output_type": "stream",
     "text": [
      "Redirected:  16192 https://www.domain.com.au/20-road-carrum-downs-vic-3201-15828739\n"
     ]
    },
    {
     "name": "stderr",
     "output_type": "stream",
     "text": [
      " 98%|█████████████████████████████████████████████████████████████████████████▏ | 16210/16624 [2:09:31<02:17,  3.02it/s]"
     ]
    },
    {
     "name": "stdout",
     "output_type": "stream",
     "text": [
      "Redirected:  16209 https://www.domain.com.au/3-viola-court-frankston-vic-3199-15824296\n",
      "'props'\n"
     ]
    },
    {
     "name": "stderr",
     "output_type": "stream",
     "text": [
      " 98%|█████████████████████████████████████████████████████████████████████████▏ | 16227/16624 [2:09:38<02:27,  2.68it/s]"
     ]
    },
    {
     "name": "stdout",
     "output_type": "stream",
     "text": [
      "Redirected:  16226 https://www.domain.com.au/1-brad-street-bentleigh-east-vic-3165-15820593\n",
      "'props'\n"
     ]
    },
    {
     "name": "stderr",
     "output_type": "stream",
     "text": [
      " 98%|█████████████████████████████████████████████████████████████████████████▏ | 16231/16624 [2:09:40<02:26,  2.68it/s]"
     ]
    },
    {
     "name": "stdout",
     "output_type": "stream",
     "text": [
      "Redirected:  16231 https://www.domain.com.au/1-106-asbury-street-west-ocean-grove-vic-3226-15819815\n"
     ]
    },
    {
     "name": "stderr",
     "output_type": "stream",
     "text": [
      " 98%|█████████████████████████████████████████████████████████████████████████▏ | 16235/16624 [2:09:41<02:40,  2.43it/s]"
     ]
    },
    {
     "name": "stdout",
     "output_type": "stream",
     "text": [
      "Redirected:  16235 https://www.domain.com.au/8-marong-terrace-forest-hill-vic-3131-15816213\n"
     ]
    },
    {
     "name": "stderr",
     "output_type": "stream",
     "text": [
      " 98%|█████████████████████████████████████████████████████████████████████████▎ | 16238/16624 [2:09:43<02:50,  2.27it/s]"
     ]
    },
    {
     "name": "stdout",
     "output_type": "stream",
     "text": [
      "Redirected:  16238 https://www.domain.com.au/203-528-swanston-street-carlton-vic-3053-14399584\n"
     ]
    },
    {
     "name": "stderr",
     "output_type": "stream",
     "text": [
      " 98%|█████████████████████████████████████████████████████████████████████████▎ | 16252/16624 [2:09:50<03:12,  1.93it/s]"
     ]
    },
    {
     "name": "stdout",
     "output_type": "stream",
     "text": [
      "Redirected:  16252 https://www.domain.com.au/brighton-east-vic-3187-15813396\n"
     ]
    },
    {
     "name": "stderr",
     "output_type": "stream",
     "text": [
      "\r",
      " 98%|█████████████████████████████████████████████████████████████████████████▎ | 16253/16624 [2:09:50<03:35,  1.72it/s]"
     ]
    },
    {
     "name": "stdout",
     "output_type": "stream",
     "text": [
      "Redirected:  16253 https://www.domain.com.au/203-205-waiora-road-heidelberg-heights-vic-3081-15813368\n"
     ]
    },
    {
     "name": "stderr",
     "output_type": "stream",
     "text": [
      " 98%|█████████████████████████████████████████████████████████████████████████▎ | 16260/16624 [2:09:54<02:53,  2.10it/s]"
     ]
    },
    {
     "name": "stdout",
     "output_type": "stream",
     "text": [
      "Redirected:  16260 https://www.domain.com.au/307e-16-moreland-street-footscray-vic-3011-15811849\n"
     ]
    },
    {
     "name": "stderr",
     "output_type": "stream",
     "text": [
      " 98%|█████████████████████████████████████████████████████████████████████████▍ | 16272/16624 [2:09:59<02:18,  2.54it/s]"
     ]
    },
    {
     "name": "stdout",
     "output_type": "stream",
     "text": [
      "Redirected:  16271 https://www.domain.com.au/1-5-arilpa-court-ashwood-vic-3147-15807674\n",
      "'props'\n"
     ]
    },
    {
     "name": "stderr",
     "output_type": "stream",
     "text": [
      " 98%|█████████████████████████████████████████████████████████████████████████▍ | 16279/16624 [2:10:02<02:28,  2.32it/s]"
     ]
    },
    {
     "name": "stdout",
     "output_type": "stream",
     "text": [
      "Redirected:  16279 https://www.domain.com.au/9-608-bell-street-preston-vic-3072-15805725\n"
     ]
    },
    {
     "name": "stderr",
     "output_type": "stream",
     "text": [
      "\r",
      " 98%|█████████████████████████████████████████████████████████████████████████▍ | 16280/16624 [2:10:03<02:30,  2.29it/s]"
     ]
    },
    {
     "name": "stdout",
     "output_type": "stream",
     "text": [
      "Redirected:  16280 https://www.domain.com.au/townhouse-5-597-burke-rd-camberwell-vic-3124-15804619\n"
     ]
    },
    {
     "name": "stderr",
     "output_type": "stream",
     "text": [
      " 98%|█████████████████████████████████████████████████████████████████████████▍ | 16282/16624 [2:10:04<02:35,  2.20it/s]"
     ]
    },
    {
     "name": "stdout",
     "output_type": "stream",
     "text": [
      "Redirected:  16282 https://www.domain.com.au/barwon-heads-vic-3227-15804294\n"
     ]
    },
    {
     "name": "stderr",
     "output_type": "stream",
     "text": [
      " 98%|█████████████████████████████████████████████████████████████████████████▋ | 16329/16624 [2:10:26<02:08,  2.30it/s]"
     ]
    },
    {
     "name": "stdout",
     "output_type": "stream",
     "text": [
      "Redirected:  16329 https://www.domain.com.au/3-5-morris-court-dandenong-north-vic-3175-15787735\n"
     ]
    },
    {
     "name": "stderr",
     "output_type": "stream",
     "text": [
      " 98%|█████████████████████████████████████████████████████████████████████████▋ | 16344/16624 [2:10:33<02:02,  2.29it/s]"
     ]
    },
    {
     "name": "stdout",
     "output_type": "stream",
     "text": [
      "Redirected:  16344 https://www.domain.com.au/7-243-flemington-road-north-melbourne-vic-3051-15783896\n"
     ]
    },
    {
     "name": "stderr",
     "output_type": "stream",
     "text": [
      " 98%|█████████████████████████████████████████████████████████████████████████▊ | 16356/16624 [2:10:39<02:04,  2.14it/s]"
     ]
    },
    {
     "name": "stdout",
     "output_type": "stream",
     "text": [
      "Redirected:  16356 https://www.domain.com.au/101-118-pier-street-altona-vic-3018-15778075\n"
     ]
    },
    {
     "name": "stderr",
     "output_type": "stream",
     "text": [
      " 98%|█████████████████████████████████████████████████████████████████████████▊ | 16362/16624 [2:10:41<02:05,  2.09it/s]"
     ]
    },
    {
     "name": "stdout",
     "output_type": "stream",
     "text": [
      "Redirected:  16362 https://www.domain.com.au/1906-12-queens-road-melbourne-vic-3004-15776880\n"
     ]
    },
    {
     "name": "stderr",
     "output_type": "stream",
     "text": [
      " 98%|█████████████████████████████████████████████████████████████████████████▊ | 16364/16624 [2:10:43<02:09,  2.00it/s]"
     ]
    },
    {
     "name": "stdout",
     "output_type": "stream",
     "text": [
      "Redirected:  16364 https://www.domain.com.au/1201e-6-tannery-walk-footscray-vic-3011-15775198\n"
     ]
    },
    {
     "name": "stderr",
     "output_type": "stream",
     "text": [
      " 98%|█████████████████████████████████████████████████████████████████████████▊ | 16370/16624 [2:10:45<01:53,  2.23it/s]"
     ]
    },
    {
     "name": "stdout",
     "output_type": "stream",
     "text": [
      "Redirected:  16370 https://www.domain.com.au/2-myora-court-chadstone-vic-3148-15647832\n"
     ]
    },
    {
     "name": "stderr",
     "output_type": "stream",
     "text": [
      " 99%|█████████████████████████████████████████████████████████████████████████▉ | 16376/16624 [2:10:49<02:16,  1.82it/s]"
     ]
    },
    {
     "name": "stdout",
     "output_type": "stream",
     "text": [
      "Redirected:  16376 https://www.domain.com.au/level-4-143-high-street-preston-vic-3072-15767907\n"
     ]
    },
    {
     "name": "stderr",
     "output_type": "stream",
     "text": [
      " 99%|█████████████████████████████████████████████████████████████████████████▉ | 16378/16624 [2:10:50<02:10,  1.89it/s]"
     ]
    },
    {
     "name": "stdout",
     "output_type": "stream",
     "text": [
      "Redirected:  16378 https://www.domain.com.au/kew-vic-3101-15766536\n"
     ]
    },
    {
     "name": "stderr",
     "output_type": "stream",
     "text": [
      "\r",
      " 99%|█████████████████████████████████████████████████████████████████████████▉ | 16379/16624 [2:10:50<02:08,  1.91it/s]"
     ]
    },
    {
     "name": "stdout",
     "output_type": "stream",
     "text": [
      "Redirected:  16379 https://www.domain.com.au/2-637-malvern-rd-toorak-vic-3142-15766201\n"
     ]
    },
    {
     "name": "stderr",
     "output_type": "stream",
     "text": [
      " 99%|█████████████████████████████████████████████████████████████████████████▉ | 16387/16624 [2:10:54<01:50,  2.15it/s]"
     ]
    },
    {
     "name": "stdout",
     "output_type": "stream",
     "text": [
      "Redirected:  16387 https://www.domain.com.au/shed-1-116-pasley-st-bundalong-south-vic-3730-15763229\n"
     ]
    },
    {
     "name": "stderr",
     "output_type": "stream",
     "text": [
      " 99%|█████████████████████████████████████████████████████████████████████████▉ | 16392/16624 [2:10:57<02:02,  1.89it/s]"
     ]
    },
    {
     "name": "stdout",
     "output_type": "stream",
     "text": [
      "Redirected:  16392 https://www.domain.com.au/ssc-22-protea-street-carrum-downs-vic-3201-15760960\n"
     ]
    },
    {
     "name": "stderr",
     "output_type": "stream",
     "text": [
      " 99%|█████████████████████████████████████████████████████████████████████████▉ | 16398/16624 [2:10:59<01:44,  2.16it/s]"
     ]
    },
    {
     "name": "stdout",
     "output_type": "stream",
     "text": [
      "Redirected:  16398 https://www.domain.com.au/7-36-nepean-avenue-hampton-east-vic-3188-15757092\n"
     ]
    },
    {
     "name": "stderr",
     "output_type": "stream",
     "text": [
      " 99%|█████████████████████████████████████████████████████████████████████████▉ | 16400/16624 [2:11:00<01:50,  2.03it/s]"
     ]
    },
    {
     "name": "stdout",
     "output_type": "stream",
     "text": [
      "Redirected:  16400 https://www.domain.com.au/6-148-melville-road-pascoe-vale-south-vic-3044-12848096\n"
     ]
    },
    {
     "name": "stderr",
     "output_type": "stream",
     "text": [
      " 99%|██████████████████████████████████████████████████████████████████████████ | 16412/16624 [2:11:06<01:34,  2.24it/s]"
     ]
    },
    {
     "name": "stdout",
     "output_type": "stream",
     "text": [
      "Redirected:  16412 https://www.domain.com.au/3-4-7-13-2-2-4-irwin-street-clayton-vic-3168-15748890\n"
     ]
    },
    {
     "name": "stderr",
     "output_type": "stream",
     "text": [
      " 99%|██████████████████████████████████████████████████████████████████████████▏| 16441/16624 [2:11:20<01:22,  2.23it/s]"
     ]
    },
    {
     "name": "stdout",
     "output_type": "stream",
     "text": [
      "Redirected:  16441 https://www.domain.com.au/x02-560-flinders-street-melbourne-vic-3000-15732108\n"
     ]
    },
    {
     "name": "stderr",
     "output_type": "stream",
     "text": [
      " 99%|██████████████████████████████████████████████████████████████████████████▏| 16447/16624 [2:11:24<01:39,  1.78it/s]"
     ]
    },
    {
     "name": "stdout",
     "output_type": "stream",
     "text": [
      "Redirected:  16447 https://www.domain.com.au/7-31-erskine-street-frankston-vic-3199-15728834\n"
     ]
    },
    {
     "name": "stderr",
     "output_type": "stream",
     "text": [
      " 99%|██████████████████████████████████████████████████████████████████████████▏| 16450/16624 [2:11:25<01:20,  2.16it/s]"
     ]
    },
    {
     "name": "stdout",
     "output_type": "stream",
     "text": [
      "Redirected:  16450 https://www.domain.com.au/2-29-browns-road-clayton-vic-3168-15726310\n"
     ]
    },
    {
     "name": "stderr",
     "output_type": "stream",
     "text": [
      "\r",
      " 99%|██████████████████████████████████████████████████████████████████████████▏| 16451/16624 [2:11:26<01:30,  1.90it/s]"
     ]
    },
    {
     "name": "stdout",
     "output_type": "stream",
     "text": [
      "Redirected:  16451 https://www.domain.com.au/1-29-browns-road-clayton-vic-3168-15726278\n"
     ]
    },
    {
     "name": "stderr",
     "output_type": "stream",
     "text": [
      " 99%|██████████████████████████████████████████████████████████████████████████▏| 16453/16624 [2:11:27<01:28,  1.93it/s]"
     ]
    },
    {
     "name": "stdout",
     "output_type": "stream",
     "text": [
      "Redirected:  16453 https://www.domain.com.au/29-browns-road-clayton-vic-3168-15725907\n"
     ]
    },
    {
     "name": "stderr",
     "output_type": "stream",
     "text": [
      " 99%|██████████████████████████████████████████████████████████████████████████▎| 16462/16624 [2:11:31<01:16,  2.11it/s]"
     ]
    },
    {
     "name": "stdout",
     "output_type": "stream",
     "text": [
      "Redirected:  16462 https://www.domain.com.au/2-112-merrijig-drive-torquay-vic-3228-15721074\n"
     ]
    },
    {
     "name": "stderr",
     "output_type": "stream",
     "text": [
      "\r",
      " 99%|██████████████████████████████████████████████████████████████████████████▎| 16463/16624 [2:11:31<01:18,  2.05it/s]"
     ]
    },
    {
     "name": "stdout",
     "output_type": "stream",
     "text": [
      "Redirected:  16463 https://www.domain.com.au/19-850-pascoe-vale-rd-glenroy-vic-3046-15719964\n"
     ]
    },
    {
     "name": "stderr",
     "output_type": "stream",
     "text": [
      "\r",
      " 99%|██████████████████████████████████████████████████████████████████████████▎| 16464/16624 [2:11:32<01:18,  2.05it/s]"
     ]
    },
    {
     "name": "stdout",
     "output_type": "stream",
     "text": [
      "Redirected:  16464 https://www.domain.com.au/1-52-langton-street-glenroy-vic-3046-15719961\n"
     ]
    },
    {
     "name": "stderr",
     "output_type": "stream",
     "text": [
      "\r",
      " 99%|██████████████████████████████████████████████████████████████████████████▎| 16465/16624 [2:11:32<01:22,  1.92it/s]"
     ]
    },
    {
     "name": "stdout",
     "output_type": "stream",
     "text": [
      "Redirected:  16465 https://www.domain.com.au/119-view-street-glenroy-vic-3046-15719955\n"
     ]
    },
    {
     "name": "stderr",
     "output_type": "stream",
     "text": [
      "\r",
      " 99%|██████████████████████████████████████████████████████████████████████████▎| 16466/16624 [2:11:33<01:19,  2.00it/s]"
     ]
    },
    {
     "name": "stdout",
     "output_type": "stream",
     "text": [
      "Redirected:  16466 https://www.domain.com.au/3-wilby-court-broadmeadows-vic-3047-15719952\n"
     ]
    },
    {
     "name": "stderr",
     "output_type": "stream",
     "text": [
      " 99%|██████████████████████████████████████████████████████████████████████████▎| 16470/16624 [2:11:35<01:23,  1.84it/s]"
     ]
    },
    {
     "name": "stdout",
     "output_type": "stream",
     "text": [
      "Redirected:  16470 https://www.domain.com.au/9-william-oakleigh-vic-3166-15647934\n"
     ]
    },
    {
     "name": "stderr",
     "output_type": "stream",
     "text": [
      " 99%|██████████████████████████████████████████████████████████████████████████▍| 16489/16624 [2:11:44<01:06,  2.04it/s]"
     ]
    },
    {
     "name": "stdout",
     "output_type": "stream",
     "text": [
      "Redirected:  16489 https://www.domain.com.au/9-william-oakleigh-vic-3166-15647934\n"
     ]
    },
    {
     "name": "stderr",
     "output_type": "stream",
     "text": [
      " 99%|██████████████████████████████████████████████████████████████████████████▍| 16498/16624 [2:11:48<01:00,  2.09it/s]"
     ]
    },
    {
     "name": "stdout",
     "output_type": "stream",
     "text": [
      "Redirected:  16498 https://www.domain.com.au/14-70-canterbury-rd-toorak-vic-3142-15632839\n"
     ]
    },
    {
     "name": "stderr",
     "output_type": "stream",
     "text": [
      " 99%|██████████████████████████████████████████████████████████████████████████▍| 16501/16624 [2:11:50<00:59,  2.06it/s]"
     ]
    },
    {
     "name": "stdout",
     "output_type": "stream",
     "text": [
      "Redirected:  16501 https://www.domain.com.au/1203-57-city-rd-southbank-vic-3006-15631603\n"
     ]
    },
    {
     "name": "stderr",
     "output_type": "stream",
     "text": [
      "\r",
      " 99%|██████████████████████████████████████████████████████████████████████████▍| 16502/16624 [2:11:50<01:03,  1.91it/s]"
     ]
    },
    {
     "name": "stdout",
     "output_type": "stream",
     "text": [
      "Redirected:  16502 https://www.domain.com.au/2803-63-haig-st-southbank-vic-3006-15631602\n"
     ]
    },
    {
     "name": "stderr",
     "output_type": "stream",
     "text": [
      "\r",
      " 99%|██████████████████████████████████████████████████████████████████████████▍| 16503/16624 [2:11:51<01:07,  1.79it/s]"
     ]
    },
    {
     "name": "stdout",
     "output_type": "stream",
     "text": [
      "Redirected:  16503 https://www.domain.com.au/2702-89-gladstone-st-south-melbourne-vic-3205-15631589\n"
     ]
    },
    {
     "name": "stderr",
     "output_type": "stream",
     "text": [
      " 99%|██████████████████████████████████████████████████████████████████████████▍| 16508/16624 [2:11:53<00:51,  2.24it/s]"
     ]
    },
    {
     "name": "stdout",
     "output_type": "stream",
     "text": [
      "Redirected:  16508 https://www.domain.com.au/1008-77-89-a-beckett-southbank-vic-3006-15622026\n"
     ]
    },
    {
     "name": "stderr",
     "output_type": "stream",
     "text": [
      "\r",
      " 99%|██████████████████████████████████████████████████████████████████████████▍| 16509/16624 [2:11:54<00:51,  2.25it/s]"
     ]
    },
    {
     "name": "stdout",
     "output_type": "stream",
     "text": [
      "Redirected:  16509 https://www.domain.com.au/8-2b-hawsleigh-ave-balaclava-vic-3183-15619644\n"
     ]
    },
    {
     "name": "stderr",
     "output_type": "stream",
     "text": [
      " 99%|██████████████████████████████████████████████████████████████████████████▌| 16537/16624 [2:12:08<00:39,  2.22it/s]"
     ]
    },
    {
     "name": "stdout",
     "output_type": "stream",
     "text": [
      "Redirected:  16537 https://www.domain.com.au/room-1-5-35-bradshaw-street-kingsbury-vic-3083-15478269\n"
     ]
    },
    {
     "name": "stderr",
     "output_type": "stream",
     "text": [
      " 99%|██████████████████████████████████████████████████████████████████████████▌| 16540/16624 [2:12:09<00:47,  1.76it/s]"
     ]
    },
    {
     "name": "stdout",
     "output_type": "stream",
     "text": [
      "Redirected:  16540 https://www.domain.com.au/2-14-percy-street-fawkner-vic-3060-15470783\n"
     ]
    },
    {
     "name": "stderr",
     "output_type": "stream",
     "text": [
      "100%|██████████████████████████████████████████████████████████████████████████▋| 16555/16624 [2:12:16<00:28,  2.42it/s]"
     ]
    },
    {
     "name": "stdout",
     "output_type": "stream",
     "text": [
      "Redirected:  16555 https://www.domain.com.au/4-14-westbury-street-st-kilda-east-vic-3183-15449726\n"
     ]
    },
    {
     "name": "stderr",
     "output_type": "stream",
     "text": [
      "100%|██████████████████████████████████████████████████████████████████████████▋| 16557/16624 [2:12:17<00:29,  2.29it/s]"
     ]
    },
    {
     "name": "stdout",
     "output_type": "stream",
     "text": [
      "Redirected:  16557 https://www.domain.com.au/7-715-pascoe-vale-rd-glenroy-vic-3046-15443774\n"
     ]
    },
    {
     "name": "stderr",
     "output_type": "stream",
     "text": [
      "100%|██████████████████████████████████████████████████████████████████████████▋| 16559/16624 [2:12:18<00:32,  2.02it/s]"
     ]
    },
    {
     "name": "stdout",
     "output_type": "stream",
     "text": [
      "Redirected:  16559 https://www.domain.com.au/fluent-lane-greenvale-vic-3059-15442916\n"
     ]
    },
    {
     "name": "stderr",
     "output_type": "stream",
     "text": [
      "100%|██████████████████████████████████████████████████████████████████████████▋| 16565/16624 [2:12:21<00:27,  2.15it/s]"
     ]
    },
    {
     "name": "stdout",
     "output_type": "stream",
     "text": [
      "Redirected:  16565 https://www.domain.com.au/606-394-collins-street-melbourne-vic-3000-15437445\n"
     ]
    },
    {
     "name": "stderr",
     "output_type": "stream",
     "text": [
      "\r",
      "100%|██████████████████████████████████████████████████████████████████████████▋| 16566/16624 [2:12:21<00:28,  2.04it/s]"
     ]
    },
    {
     "name": "stdout",
     "output_type": "stream",
     "text": [
      "Redirected:  16566 https://www.domain.com.au/23-johnson-street-roxburgh-park-vic-3064-15435116\n"
     ]
    },
    {
     "name": "stderr",
     "output_type": "stream",
     "text": [
      "\r",
      "100%|██████████████████████████████████████████████████████████████████████████▋| 16567/16624 [2:12:22<00:28,  2.01it/s]"
     ]
    },
    {
     "name": "stdout",
     "output_type": "stream",
     "text": [
      "Redirected:  16567 https://www.domain.com.au/1-1-widford-street-glenroy-vic-3046-15435103\n"
     ]
    },
    {
     "name": "stderr",
     "output_type": "stream",
     "text": [
      "100%|██████████████████████████████████████████████████████████████████████████▊| 16581/16624 [2:12:29<00:21,  1.99it/s]"
     ]
    },
    {
     "name": "stdout",
     "output_type": "stream",
     "text": [
      "Redirected:  16581 https://www.domain.com.au/6-rye-street-dallas-vic-3047-15415466\n"
     ]
    },
    {
     "name": "stderr",
     "output_type": "stream",
     "text": [
      "100%|██████████████████████████████████████████████████████████████████████████▊| 16586/16624 [2:12:32<00:17,  2.13it/s]"
     ]
    },
    {
     "name": "stdout",
     "output_type": "stream",
     "text": [
      "Redirected:  16586 https://www.domain.com.au/2-243-flemington-road-north-melbourne-vic-3051-15406854\n"
     ]
    },
    {
     "name": "stderr",
     "output_type": "stream",
     "text": [
      "100%|██████████████████████████████████████████████████████████████████████████▊| 16589/16624 [2:12:33<00:16,  2.17it/s]"
     ]
    },
    {
     "name": "stdout",
     "output_type": "stream",
     "text": [
      "Redirected:  16589 https://www.domain.com.au/16-515-bridge-inn-road-mernda-vic-3754-15403154\n"
     ]
    },
    {
     "name": "stderr",
     "output_type": "stream",
     "text": [
      "100%|██████████████████████████████████████████████████████████████████████████▉| 16599/16624 [2:12:38<00:13,  1.88it/s]"
     ]
    },
    {
     "name": "stdout",
     "output_type": "stream",
     "text": [
      "Redirected:  16599 https://www.domain.com.au/1-10-sylvan-gr-pascoe-vale-vic-3044-14794992\n"
     ]
    },
    {
     "name": "stderr",
     "output_type": "stream",
     "text": [
      "\r",
      "100%|██████████████████████████████████████████████████████████████████████████▉| 16600/16624 [2:12:39<00:12,  1.89it/s]"
     ]
    },
    {
     "name": "stdout",
     "output_type": "stream",
     "text": [
      "Redirected:  16600 https://www.domain.com.au/2-168-waterloo-road-pascoe-vale-vic-3044-13947175\n"
     ]
    },
    {
     "name": "stderr",
     "output_type": "stream",
     "text": [
      "\r",
      "100%|██████████████████████████████████████████████████████████████████████████▉| 16601/16624 [2:12:39<00:11,  2.01it/s]"
     ]
    },
    {
     "name": "stdout",
     "output_type": "stream",
     "text": [
      "Redirected:  16601 https://www.domain.com.au/2-686-pascoe-vale-rd-pascoe-vale-vic-3044-14029242\n"
     ]
    },
    {
     "name": "stderr",
     "output_type": "stream",
     "text": [
      "100%|██████████████████████████████████████████████████████████████████████████▉| 16605/16624 [2:12:41<00:08,  2.28it/s]"
     ]
    },
    {
     "name": "stdout",
     "output_type": "stream",
     "text": [
      "Redirected:  16605 https://www.domain.com.au/13-12-surrey-street-glenroy-vic-3046-14731953\n"
     ]
    },
    {
     "name": "stderr",
     "output_type": "stream",
     "text": [
      "\r",
      "100%|██████████████████████████████████████████████████████████████████████████▉| 16606/16624 [2:12:41<00:08,  2.24it/s]"
     ]
    },
    {
     "name": "stdout",
     "output_type": "stream",
     "text": [
      "Redirected:  16606 https://www.domain.com.au/2-686-pascoe-vale-rd-glenroy-vic-3046-14815033\n"
     ]
    },
    {
     "name": "stderr",
     "output_type": "stream",
     "text": [
      "\r",
      "100%|██████████████████████████████████████████████████████████████████████████▉| 16607/16624 [2:12:42<00:07,  2.19it/s]"
     ]
    },
    {
     "name": "stdout",
     "output_type": "stream",
     "text": [
      "Redirected:  16607 https://www.domain.com.au/1-47-chapman-ave-glenroy-vic-3046-14058379\n"
     ]
    },
    {
     "name": "stderr",
     "output_type": "stream",
     "text": [
      "100%|██████████████████████████████████████████████████████████████████████████▉| 16609/16624 [2:12:43<00:06,  2.34it/s]"
     ]
    },
    {
     "name": "stdout",
     "output_type": "stream",
     "text": [
      "Redirected:  16609 https://www.domain.com.au/12-556-moreland-rd-brunswick-vic-3056-13480274\n"
     ]
    },
    {
     "name": "stderr",
     "output_type": "stream",
     "text": [
      "\r",
      "100%|██████████████████████████████████████████████████████████████████████████▉| 16610/16624 [2:12:43<00:06,  2.17it/s]"
     ]
    },
    {
     "name": "stdout",
     "output_type": "stream",
     "text": [
      "Redirected:  16610 https://www.domain.com.au/12-556-moreland-rd-brunswick-vic-3056-14209165\n"
     ]
    },
    {
     "name": "stderr",
     "output_type": "stream",
     "text": [
      "100%|██████████████████████████████████████████████████████████████████████████▉| 16613/16624 [2:12:44<00:04,  2.21it/s]"
     ]
    },
    {
     "name": "stdout",
     "output_type": "stream",
     "text": [
      "Redirected:  16613 https://www.domain.com.au/6-admiration-dr-craigieburn-vic-3064-14734948\n"
     ]
    },
    {
     "name": "stderr",
     "output_type": "stream",
     "text": [
      "\r",
      "100%|██████████████████████████████████████████████████████████████████████████▉| 16614/16624 [2:12:45<00:04,  2.08it/s]"
     ]
    },
    {
     "name": "stdout",
     "output_type": "stream",
     "text": [
      "Redirected:  16614 https://www.domain.com.au/1701-483-swanston-street-melbourne-vic-3000-15386502\n"
     ]
    },
    {
     "name": "stderr",
     "output_type": "stream",
     "text": [
      "100%|██████████████████████████████████████████████████████████████████████████▉| 16621/16624 [2:12:48<00:01,  2.34it/s]"
     ]
    },
    {
     "name": "stdout",
     "output_type": "stream",
     "text": [
      "Redirected:  16621 https://www.domain.com.au/14-8-clyde-street-essendon-vic-3040-14529998\n"
     ]
    },
    {
     "name": "stderr",
     "output_type": "stream",
     "text": [
      "100%|██████████████████████████████████████████████████████████████████████████▉| 16623/16624 [2:12:49<00:00,  2.23it/s]"
     ]
    },
    {
     "name": "stdout",
     "output_type": "stream",
     "text": [
      "Redirected:  16623 https://www.domain.com.au/2-19-eastgate-street-pascoe-vale-vic-3044-15376920\n"
     ]
    },
    {
     "name": "stderr",
     "output_type": "stream",
     "text": [
      "100%|███████████████████████████████████████████████████████████████████████████| 16624/16624 [2:12:50<00:00,  2.09it/s]\n"
     ]
    },
    {
     "name": "stdout",
     "output_type": "stream",
     "text": [
      "/mnt/c/Users/User/OneDrive/Desktop/Uni - 2022/sem2/Applied Data Science/Proj2/generic-real-estate-consulting-project-group-25/notebooks\n"
     ]
    }
   ],
   "source": [
    "%cd ../scripts\n",
    "from scrape import get_datasets\n",
    "prop_list, sub_list, neigh_list, school_list = get_datasets(write=True)\n",
    "%cd ../notebooks"
   ]
  },
  {
   "cell_type": "code",
   "execution_count": 5,
   "id": "4860d61f",
   "metadata": {},
   "outputs": [
    {
     "data": {
      "text/html": [
       "<div>\n",
       "<style scoped>\n",
       "    .dataframe tbody tr th:only-of-type {\n",
       "        vertical-align: middle;\n",
       "    }\n",
       "\n",
       "    .dataframe tbody tr th {\n",
       "        vertical-align: top;\n",
       "    }\n",
       "\n",
       "    .dataframe thead th {\n",
       "        text-align: right;\n",
       "    }\n",
       "</style>\n",
       "<table border=\"1\" class=\"dataframe\">\n",
       "  <thead>\n",
       "    <tr style=\"text-align: right;\">\n",
       "      <th></th>\n",
       "      <th>id</th>\n",
       "      <th>educationLevel</th>\n",
       "      <th>name</th>\n",
       "      <th>distance</th>\n",
       "      <th>state</th>\n",
       "      <th>postCode</th>\n",
       "      <th>year</th>\n",
       "      <th>gender</th>\n",
       "      <th>type</th>\n",
       "      <th>address</th>\n",
       "      <th>url</th>\n",
       "    </tr>\n",
       "  </thead>\n",
       "  <tbody>\n",
       "    <tr>\n",
       "      <th>0</th>\n",
       "      <td>16068115</td>\n",
       "      <td>primary</td>\n",
       "      <td>Thomastown Primary School</td>\n",
       "      <td>286.321791</td>\n",
       "      <td>VIC</td>\n",
       "      <td>3074</td>\n",
       "      <td>Prep-6</td>\n",
       "      <td>CoEd</td>\n",
       "      <td>Government</td>\n",
       "      <td>Thomastown, VIC 3074</td>\n",
       "      <td>http://www.thomastownps.vic.edu.au</td>\n",
       "    </tr>\n",
       "    <tr>\n",
       "      <th>1</th>\n",
       "      <td>16068114</td>\n",
       "      <td>combined</td>\n",
       "      <td>Melbourne Grammar School - Grimwade Campus</td>\n",
       "      <td>523.071716</td>\n",
       "      <td>VIC</td>\n",
       "      <td>3161</td>\n",
       "      <td></td>\n",
       "      <td></td>\n",
       "      <td>Private</td>\n",
       "      <td>Caulfield North, VIC 3161</td>\n",
       "      <td></td>\n",
       "    </tr>\n",
       "    <tr>\n",
       "      <th>2</th>\n",
       "      <td>16068112</td>\n",
       "      <td>primary</td>\n",
       "      <td>St Joseph's School</td>\n",
       "      <td>1500.469229</td>\n",
       "      <td>VIC</td>\n",
       "      <td>3820</td>\n",
       "      <td>Prep-6</td>\n",
       "      <td>CoEd</td>\n",
       "      <td>Catholic</td>\n",
       "      <td>Warragul, VIC 3820</td>\n",
       "      <td>http://www.stjwarragul.catholic.edu.au</td>\n",
       "    </tr>\n",
       "    <tr>\n",
       "      <th>3</th>\n",
       "      <td>16068113</td>\n",
       "      <td>secondary</td>\n",
       "      <td>Indie School Wodonga - Indie School Ringwood C...</td>\n",
       "      <td>119.007998</td>\n",
       "      <td>VIC</td>\n",
       "      <td>3134</td>\n",
       "      <td></td>\n",
       "      <td></td>\n",
       "      <td>Private</td>\n",
       "      <td>Ringwood, VIC 3134</td>\n",
       "      <td></td>\n",
       "    </tr>\n",
       "    <tr>\n",
       "      <th>4</th>\n",
       "      <td>16068111</td>\n",
       "      <td>primary</td>\n",
       "      <td>Carlton Gardens Primary School</td>\n",
       "      <td>471.758309</td>\n",
       "      <td>VIC</td>\n",
       "      <td>3053</td>\n",
       "      <td>Prep-6</td>\n",
       "      <td>CoEd</td>\n",
       "      <td>Government</td>\n",
       "      <td>Carlton, VIC 3053</td>\n",
       "      <td>http://www.carltongardens.vic.edu.au</td>\n",
       "    </tr>\n",
       "    <tr>\n",
       "      <th>...</th>\n",
       "      <td>...</td>\n",
       "      <td>...</td>\n",
       "      <td>...</td>\n",
       "      <td>...</td>\n",
       "      <td>...</td>\n",
       "      <td>...</td>\n",
       "      <td>...</td>\n",
       "      <td>...</td>\n",
       "      <td>...</td>\n",
       "      <td>...</td>\n",
       "      <td>...</td>\n",
       "    </tr>\n",
       "    <tr>\n",
       "      <th>16121</th>\n",
       "      <td>13210984</td>\n",
       "      <td>combined</td>\n",
       "      <td>Apollo Bay P-12 College</td>\n",
       "      <td>720.992925</td>\n",
       "      <td>VIC</td>\n",
       "      <td>3233</td>\n",
       "      <td>Prep-12</td>\n",
       "      <td>CoEd</td>\n",
       "      <td>Government</td>\n",
       "      <td>Apollo Bay, VIC 3233</td>\n",
       "      <td>http://external.apollobayp12.vic.edu.au/</td>\n",
       "    </tr>\n",
       "    <tr>\n",
       "      <th>16122</th>\n",
       "      <td>15381771</td>\n",
       "      <td>primary</td>\n",
       "      <td>Rosanna Primary School</td>\n",
       "      <td>898.177717</td>\n",
       "      <td>VIC</td>\n",
       "      <td>3084</td>\n",
       "      <td>Prep-6</td>\n",
       "      <td>CoEd</td>\n",
       "      <td>Government</td>\n",
       "      <td>Rosanna, VIC 3084</td>\n",
       "      <td>http://www.rosannaps.vic.edu.au</td>\n",
       "    </tr>\n",
       "    <tr>\n",
       "      <th>16123</th>\n",
       "      <td>14529998</td>\n",
       "      <td>primary</td>\n",
       "      <td>St Monica's Primary School</td>\n",
       "      <td>705.284820</td>\n",
       "      <td>VIC</td>\n",
       "      <td>3039</td>\n",
       "      <td>Prep-6</td>\n",
       "      <td>CoEd</td>\n",
       "      <td>Catholic</td>\n",
       "      <td>Moonee Ponds, VIC 3039</td>\n",
       "      <td>http://www.stmonicasmp.catholic.edu.au</td>\n",
       "    </tr>\n",
       "    <tr>\n",
       "      <th>16124</th>\n",
       "      <td>15378664</td>\n",
       "      <td>primary</td>\n",
       "      <td>Carlton Gardens Primary School</td>\n",
       "      <td>244.869231</td>\n",
       "      <td>VIC</td>\n",
       "      <td>3053</td>\n",
       "      <td>Prep-6</td>\n",
       "      <td>CoEd</td>\n",
       "      <td>Government</td>\n",
       "      <td>Carlton, VIC 3053</td>\n",
       "      <td>http://www.carltongardens.vic.edu.au</td>\n",
       "    </tr>\n",
       "    <tr>\n",
       "      <th>16125</th>\n",
       "      <td>15376920</td>\n",
       "      <td>secondary</td>\n",
       "      <td>Pascoe Vale Girls Secondary College</td>\n",
       "      <td>305.881220</td>\n",
       "      <td>VIC</td>\n",
       "      <td>3044</td>\n",
       "      <td>7-12</td>\n",
       "      <td>Girls</td>\n",
       "      <td>Government</td>\n",
       "      <td>Pascoe Vale, VIC 3044</td>\n",
       "      <td>http://www.pvgc.vic.edu.au</td>\n",
       "    </tr>\n",
       "  </tbody>\n",
       "</table>\n",
       "<p>16126 rows × 11 columns</p>\n",
       "</div>"
      ],
      "text/plain": [
       "             id educationLevel  \\\n",
       "0      16068115        primary   \n",
       "1      16068114       combined   \n",
       "2      16068112        primary   \n",
       "3      16068113      secondary   \n",
       "4      16068111        primary   \n",
       "...         ...            ...   \n",
       "16121  13210984       combined   \n",
       "16122  15381771        primary   \n",
       "16123  14529998        primary   \n",
       "16124  15378664        primary   \n",
       "16125  15376920      secondary   \n",
       "\n",
       "                                                    name     distance state  \\\n",
       "0                              Thomastown Primary School   286.321791   VIC   \n",
       "1             Melbourne Grammar School - Grimwade Campus   523.071716   VIC   \n",
       "2                                     St Joseph's School  1500.469229   VIC   \n",
       "3      Indie School Wodonga - Indie School Ringwood C...   119.007998   VIC   \n",
       "4                         Carlton Gardens Primary School   471.758309   VIC   \n",
       "...                                                  ...          ...   ...   \n",
       "16121                            Apollo Bay P-12 College   720.992925   VIC   \n",
       "16122                             Rosanna Primary School   898.177717   VIC   \n",
       "16123                         St Monica's Primary School   705.284820   VIC   \n",
       "16124                     Carlton Gardens Primary School   244.869231   VIC   \n",
       "16125                Pascoe Vale Girls Secondary College   305.881220   VIC   \n",
       "\n",
       "      postCode     year gender        type                    address  \\\n",
       "0         3074   Prep-6   CoEd  Government       Thomastown, VIC 3074   \n",
       "1         3161                     Private  Caulfield North, VIC 3161   \n",
       "2         3820   Prep-6   CoEd    Catholic         Warragul, VIC 3820   \n",
       "3         3134                     Private         Ringwood, VIC 3134   \n",
       "4         3053   Prep-6   CoEd  Government          Carlton, VIC 3053   \n",
       "...        ...      ...    ...         ...                        ...   \n",
       "16121     3233  Prep-12   CoEd  Government       Apollo Bay, VIC 3233   \n",
       "16122     3084   Prep-6   CoEd  Government          Rosanna, VIC 3084   \n",
       "16123     3039   Prep-6   CoEd    Catholic     Moonee Ponds, VIC 3039   \n",
       "16124     3053   Prep-6   CoEd  Government          Carlton, VIC 3053   \n",
       "16125     3044     7-12  Girls  Government      Pascoe Vale, VIC 3044   \n",
       "\n",
       "                                            url  \n",
       "0            http://www.thomastownps.vic.edu.au  \n",
       "1                                                \n",
       "2        http://www.stjwarragul.catholic.edu.au  \n",
       "3                                                \n",
       "4          http://www.carltongardens.vic.edu.au  \n",
       "...                                         ...  \n",
       "16121  http://external.apollobayp12.vic.edu.au/  \n",
       "16122           http://www.rosannaps.vic.edu.au  \n",
       "16123    http://www.stmonicasmp.catholic.edu.au  \n",
       "16124      http://www.carltongardens.vic.edu.au  \n",
       "16125                http://www.pvgc.vic.edu.au  \n",
       "\n",
       "[16126 rows x 11 columns]"
      ]
     },
     "execution_count": 5,
     "metadata": {},
     "output_type": "execute_result"
    }
   ],
   "source": [
    "school_list"
   ]
  }
 ],
 "metadata": {
  "kernelspec": {
   "display_name": "Python 3 (ipykernel)",
   "language": "python",
   "name": "python3"
  },
  "language_info": {
   "codemirror_mode": {
    "name": "ipython",
    "version": 3
   },
   "file_extension": ".py",
   "mimetype": "text/x-python",
   "name": "python",
   "nbconvert_exporter": "python",
   "pygments_lexer": "ipython3",
   "version": "3.10.4"
  }
 },
 "nbformat": 4,
 "nbformat_minor": 5
}
