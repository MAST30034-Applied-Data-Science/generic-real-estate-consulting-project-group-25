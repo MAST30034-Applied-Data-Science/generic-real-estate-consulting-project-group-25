{
 "cells": [
  {
   "cell_type": "code",
   "execution_count": null,
   "id": "a536342d",
   "metadata": {},
   "outputs": [],
   "source": [
    "import sys\n",
    "sys.path.append('../scripts')"
   ]
  },
  {
   "cell_type": "code",
   "execution_count": null,
   "id": "cc7e3534",
   "metadata": {},
   "outputs": [],
   "source": [
    "from scrape import get_datasets\n",
    "prop_list, sub_list, neigh_list, school_list = get_datasets(write=True)"
   ]
  },
  {
   "cell_type": "code",
   "execution_count": null,
   "id": "4860d61f",
   "metadata": {},
   "outputs": [],
   "source": [
    "school_list"
   ]
  },
  {
   "cell_type": "code",
   "execution_count": null,
   "id": "c17ce0e9",
   "metadata": {},
   "outputs": [],
   "source": [
    "sub_list"
   ]
  }
 ],
 "metadata": {
  "kernelspec": {
   "display_name": "Python 3.8.10 ('adsenv')",
   "language": "python",
   "name": "python3"
  },
  "language_info": {
   "codemirror_mode": {
    "name": "ipython",
    "version": 3
   },
   "file_extension": ".py",
   "mimetype": "text/x-python",
   "name": "python",
   "nbconvert_exporter": "python",
   "pygments_lexer": "ipython3",
   "version": "3.8.10"
  },
  "vscode": {
   "interpreter": {
    "hash": "f0224c05727885fec999e6ecccbb3a73f7a41ae998e258d763262ca99124f03f"
   }
  }
 },
 "nbformat": 4,
 "nbformat_minor": 5
}
