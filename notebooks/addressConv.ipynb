{
 "cells": [
  {
   "cell_type": "code",
   "execution_count": 2,
   "metadata": {},
   "outputs": [
    {
     "name": "stdout",
     "output_type": "stream",
     "text": [
      "/mnt/c/Users/ohanr/OneDrive/Unimelb/3rd Year/MAST30034/generic-real-estate-consulting-project-group-25/scripts\n"
     ]
    }
   ],
   "source": [
    "%cd ../scripts \n",
    "from address import addressToCords\n",
    "import pandas as pd"
   ]
  },
  {
   "cell_type": "code",
   "execution_count": null,
   "metadata": {},
   "outputs": [],
   "source": [
    "listing = pd.read_csv(\"../data/curated/cleaned_property_listing_data.csv\")\n",
    "listing[\"Coordinates\"] = None\n",
    "listing[\"Latitude\"] = None\n",
    "listing[\"Longitude\"] = None"
   ]
  },
  {
   "cell_type": "code",
   "execution_count": null,
   "metadata": {},
   "outputs": [],
   "source": [
    "#Dividing the dataframe into chunks to prevent loss of progress if the Nominatium (API) server goes down\n",
    "n = 100\n",
    "start = 0\n",
    "end = 100\n",
    "while end < len(listing):\n",
    "    print(start)\n",
    "    try: \n",
    "        listing[\"Coordinates\"].iloc[start: end] = listing[\"address\"].iloc[start:end].apply(lambda x: addressToCords(x))\n",
    "        listing[\"Latitude\"].iloc[start:end] = listing[\"Coordinates\"].iloc[start:end].apply(lambda x: x[0])\n",
    "        listing[\"Longitude\"].iloc[start:end] = listing[\"Coordinates\"].iloc[start:end].apply(lambda x: x[1])\n",
    "        listing.to_csv(\"../data/curated/listings_w_cords.csv\")\n",
    "    except:\n",
    "        break\n",
    "    start = end \n",
    "    end += n"
   ]
  },
  {
   "cell_type": "markdown",
   "metadata": {},
   "source": [
    "Taking care of addresses that could not be found"
   ]
  },
  {
   "cell_type": "code",
   "execution_count": 3,
   "metadata": {},
   "outputs": [],
   "source": [
    "listing = pd.read_csv(\"../data/curated/listings_w_cords.csv\")"
   ]
  },
  {
   "cell_type": "code",
   "execution_count": 17,
   "metadata": {},
   "outputs": [
    {
     "name": "stdout",
     "output_type": "stream",
     "text": [
      "9+Killeen%2C+Ballarat+North+VIC+3350\n"
     ]
    },
    {
     "data": {
      "text/plain": [
       "[]"
      ]
     },
     "execution_count": 17,
     "metadata": {},
     "output_type": "execute_result"
    }
   ],
   "source": [
    "import requests\n",
    "import re\n",
    "address = \"9 Killeen, Ballarat North VIC 3350\"\n",
    "address = re.sub(\"Drive||Street||Avenue||Road\", \"\", address)\n",
    "address = re.sub(\"^.+\\/\", \"\", address)\n",
    "address = re.sub(\"[0-9]+\\-\", \"\", address) \n",
    "query = re.sub(\" \", \"+\", address)\n",
    "query = re.sub(\",\", \"%2C\", query)\n",
    "print(query)\n",
    "url = f\"https://nominatim.openstreetmap.org/search?q={query}&format=json&limit=1\"\n",
    "location = requests.get(url).json()\n",
    "location"
   ]
  },
  {
   "cell_type": "markdown",
   "metadata": {},
   "source": [
    "Backup"
   ]
  },
  {
   "cell_type": "code",
   "execution_count": null,
   "metadata": {},
   "outputs": [],
   "source": [
    "from geopy.geocoders import Nominatim\n",
    "import re\n",
    "import requests\n",
    "def addressToCords(address: str):    \n",
    "    query = re.sub(\" \", \"+\", address)\n",
    "    query = re.sub(\",\", \"%2C\", query)\n",
    "    query = re.sub(\"\\/\", \"%2F\", query)\n",
    "    url = f\"https://nominatim.openstreetmap.org/search?q={query}&format=json&limit=1\"\n",
    "    location = requests.get(url).json()\n",
    "    if location == []:\n",
    "        try:\n",
    "            # Getting rid of unit number\n",
    "            query = re.sub(\"^.+%2F\", \"\", query)\n",
    "            url = f\"https://nominatim.openstreetmap.org/search?q={query}&format=json&limit=1\"\n",
    "            location = requests.get(url).json()\n",
    "            return location[0][\"lat\"], location[0][\"lon\"]\n",
    "        except:\n",
    "            # Only using one block as a reference \n",
    "            try:\n",
    "                query = re.sub(\"[0-9]+\\-\", \"\", query)\n",
    "                url = f\"https://nominatim.openstreetmap.org/search?q={query}&format=json&limit=1\"\n",
    "                location = requests.get(url).json()\n",
    "                return location[0][\"lat\"], location[0][\"lon\"]\n",
    "            except AttributeError:\n",
    "                return \"Requires Manual Inspection\"        \n",
    "\n",
    "    return location[0][\"lat\"], location[0][\"lon\"]\n",
    " "
   ]
  }
 ],
 "metadata": {
  "kernelspec": {
   "display_name": "Python 3.10.4 64-bit",
   "language": "python",
   "name": "python3"
  },
  "language_info": {
   "codemirror_mode": {
    "name": "ipython",
    "version": 3
   },
   "file_extension": ".py",
   "mimetype": "text/x-python",
   "name": "python",
   "nbconvert_exporter": "python",
   "pygments_lexer": "ipython3",
   "version": "3.10.4"
  },
  "orig_nbformat": 4,
  "vscode": {
   "interpreter": {
    "hash": "916dbcbb3f70747c44a77c7bcd40155683ae19c65e1c03b4aa3499c5328201f1"
   }
  }
 },
 "nbformat": 4,
 "nbformat_minor": 2
}
