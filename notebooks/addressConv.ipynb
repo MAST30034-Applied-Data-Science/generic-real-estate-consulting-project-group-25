{
 "cells": [
  {
   "cell_type": "code",
   "execution_count": null,
   "metadata": {},
   "outputs": [],
   "source": [
    "%cd ../scripts \n",
    "from address import addressToCords\n",
    "import pandas as pd"
   ]
  },
  {
   "cell_type": "markdown",
   "metadata": {},
   "source": [
    "## Getting Coordinates for listing"
   ]
  },
  {
   "cell_type": "markdown",
   "metadata": {},
   "source": [
    "Note: There were about 350 listings were the coordinates did not exist on the API due to either spelling mistakes, mismatch of suburb names/street name etc. These were examined and the coordinates were either retrieved manually or discarded. \n",
    "\n",
    "The final dataset after manual inspection is contained in listing_w_cords.csv in the same directory as code on the shared google drive"
   ]
  },
  {
   "cell_type": "code",
   "execution_count": null,
   "metadata": {},
   "outputs": [],
   "source": [
    "listing = pd.read_csv(\"../data/curated/cleaned_property_listing_data.csv\")\n",
    "listing[\"Coordinates\"] = None\n",
    "listing[\"Latitude\"] = None\n",
    "listing[\"Longitude\"] = None"
   ]
  },
  {
   "cell_type": "code",
   "execution_count": null,
   "metadata": {},
   "outputs": [],
   "source": [
    "n = 100\n",
    "start = 0\n",
    "end = 100"
   ]
  },
  {
   "cell_type": "code",
   "execution_count": null,
   "metadata": {},
   "outputs": [],
   "source": [
    "#Dividing the dataframe into chunks to prevent loss of progress if the Nominatium (API) server goes down\n",
    "while end < len(listing):\n",
    "    print(start)\n",
    "    try: \n",
    "        listing[\"Coordinates\"].iloc[start: end] = listing[\"address\"].iloc[start:end].apply(lambda x: addressToCords(x))\n",
    "        listing[\"Latitude\"].iloc[start:end] = listing[\"Coordinates\"].iloc[start:end].apply(lambda x: x[0])\n",
    "        listing[\"Longitude\"].iloc[start:end] = listing[\"Coordinates\"].iloc[start:end].apply(lambda x: x[1])\n",
    "        listing.to_csv(\"../data/curated/listings_w_cords.csv\", index = False)\n",
    "    except:\n",
    "        break\n",
    "    start = end \n",
    "    end += n"
   ]
  },
  {
   "cell_type": "markdown",
   "metadata": {},
   "source": [
    "## Getting Coordinates for Universities"
   ]
  },
  {
   "cell_type": "markdown",
   "metadata": {},
   "source": [
    "Similarly with Universities, around about half the coordinates were retrieved manually as the API would not return any results. "
   ]
  },
  {
   "cell_type": "code",
   "execution_count": null,
   "metadata": {},
   "outputs": [],
   "source": [
    "universities = pd.read_csv(\"../data/raw/List of Universities.csv\")"
   ]
  },
  {
   "cell_type": "code",
   "execution_count": null,
   "metadata": {},
   "outputs": [],
   "source": [
    "# Using the api to search for the coordinates of the University\n",
    "universities.loc[universities['Name'].isnull(), 'Name'] = \"\"\n",
    "universities[\"Coordinates\"] = (universities[\"University\"] + \" \" + universities[\"Suburb or town\"] + \" \" + universities[\"Name\"]).apply(lambda x: addressToCords(x))\n",
    "universities[\"Latitude\"] = universities[\"Coordinates\"].apply(lambda x: x[0])\n",
    "universities[\"Longitude\"] = universities[\"Coordinates\"].apply(lambda x: x[1])"
   ]
  },
  {
   "cell_type": "code",
   "execution_count": null,
   "metadata": {},
   "outputs": [],
   "source": [
    "universities[[\"University\", \"Suburb or town\", \"Name\", \"Latitude\", \"Longitude\"]].to_csv(\"../data/curated/universities.csv\", index=False)"
   ]
  }
 ],
 "metadata": {
  "kernelspec": {
   "display_name": "Python 3.10.4 64-bit",
   "language": "python",
   "name": "python3"
  },
  "language_info": {
   "codemirror_mode": {
    "name": "ipython",
    "version": 3
   },
   "file_extension": ".py",
   "mimetype": "text/x-python",
   "name": "python",
   "nbconvert_exporter": "python",
   "pygments_lexer": "ipython3",
   "version": "3.10.4"
  },
  "orig_nbformat": 4,
  "vscode": {
   "interpreter": {
    "hash": "916dbcbb3f70747c44a77c7bcd40155683ae19c65e1c03b4aa3499c5328201f1"
   }
  }
 },
 "nbformat": 4,
 "nbformat_minor": 2
}
