{
 "cells": [
  {
   "cell_type": "code",
   "execution_count": 2,
   "metadata": {},
   "outputs": [
    {
     "name": "stdout",
     "output_type": "stream",
     "text": [
      "/mnt/c/Users/ohanr/OneDrive/Unimelb/3rd Year/MAST30034/generic-real-estate-consulting-project-group-25/scripts\n"
     ]
    }
   ],
   "source": [
    "%cd ../scripts \n",
    "from address import addressToCords\n",
    "import pandas as pd"
   ]
  },
  {
   "cell_type": "code",
   "execution_count": null,
   "metadata": {},
   "outputs": [],
   "source": [
    "listing = pd.read_csv(\"../data/curated/cleaned_property_listing_data.csv\")\n",
    "listing[\"Coordinates\"] = None\n",
    "listing[\"Latitude\"] = None\n",
    "listing[\"Longitude\"] = None"
   ]
  },
  {
   "cell_type": "code",
   "execution_count": null,
   "metadata": {},
   "outputs": [],
   "source": [
    "#Dividing the dataframe into chunks to prevent loss of progress if the Nominatium (API) server goes down\n",
    "n = 100\n",
    "start = 0\n",
    "end = 100\n",
    "while end < len(listing):\n",
    "    print(start)\n",
    "    try: \n",
    "        listing[\"Coordinates\"].iloc[start: end] = listing[\"address\"].iloc[start:end].apply(lambda x: addressToCords(x))\n",
    "        listing[\"Latitude\"].iloc[start:end] = listing[\"Coordinates\"].iloc[start:end].apply(lambda x: x[0])\n",
    "        listing[\"Longitude\"].iloc[start:end] = listing[\"Coordinates\"].iloc[start:end].apply(lambda x: x[1])\n",
    "        listing.to_csv(\"../data/curated/listings_w_cords.csv\")\n",
    "    except:\n",
    "        break\n",
    "    start = end \n",
    "    end += n"
   ]
  }
 ],
 "metadata": {
  "kernelspec": {
   "display_name": "Python 3.10.5 64-bit",
   "language": "python",
   "name": "python3"
  },
  "language_info": {
   "codemirror_mode": {
    "name": "ipython",
    "version": 3
   },
   "file_extension": ".py",
   "mimetype": "text/x-python",
   "name": "python",
   "nbconvert_exporter": "python",
   "pygments_lexer": "ipython3",
   "version": "3.10.5"
  },
  "orig_nbformat": 4,
  "vscode": {
   "interpreter": {
    "hash": "b9af7b4efe902259f093e5a81853f1934b192867f93a14bfcc6783e18a0ce382"
   }
  }
 },
 "nbformat": 4,
 "nbformat_minor": 2
}
