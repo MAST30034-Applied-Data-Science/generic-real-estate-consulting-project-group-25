{
 "cells": [
  {
   "cell_type": "code",
   "execution_count": 2,
   "metadata": {},
   "outputs": [
    {
     "name": "stdout",
     "output_type": "stream",
     "text": [
      "/mnt/c/Users/ohanr/OneDrive/Unimelb/3rd Year/MAST30034/generic-real-estate-consulting-project-group-25/scripts\n"
     ]
    }
   ],
   "source": [
    "%cd ../scripts \n",
    "from address import addressToCords\n",
    "import pandas as pd"
   ]
  },
  {
   "cell_type": "code",
   "execution_count": null,
   "metadata": {},
   "outputs": [],
   "source": [
    "listing = pd.read_csv(\"../data/curated/cleaned_property_listing_data.csv\")\n",
    "listing[\"Coordinates\"] = None\n",
    "listing[\"Latitude\"] = None\n",
    "listing[\"Longitude\"] = None"
   ]
  },
  {
   "cell_type": "markdown",
   "metadata": {},
   "source": [
    "## Getting Coordinates for listing"
   ]
  },
  {
   "cell_type": "code",
   "execution_count": null,
   "metadata": {},
   "outputs": [],
   "source": [
    "#Dividing the dataframe into chunks to prevent loss of progress if the Nominatium (API) server goes down\n",
    "n = 100\n",
    "start = 0\n",
    "end = 100\n",
    "while end < len(listing):\n",
    "    print(start)\n",
    "    try: \n",
    "        listing[\"Coordinates\"].iloc[start: end] = listing[\"address\"].iloc[start:end].apply(lambda x: addressToCords(x))\n",
    "        listing[\"Latitude\"].iloc[start:end] = listing[\"Coordinates\"].iloc[start:end].apply(lambda x: x[0])\n",
    "        listing[\"Longitude\"].iloc[start:end] = listing[\"Coordinates\"].iloc[start:end].apply(lambda x: x[1])\n",
    "        listing.to_csv(\"../data/curated/listings_w_cords.csv\", index = False)\n",
    "    except:\n",
    "        break\n",
    "    start = end \n",
    "    end += n"
   ]
  },
  {
   "cell_type": "markdown",
   "metadata": {},
   "source": [
    "## Getting Coordinates for Universities"
   ]
  },
  {
   "cell_type": "code",
   "execution_count": 3,
   "metadata": {},
   "outputs": [
    {
     "data": {
      "text/html": [
       "<div>\n",
       "<style scoped>\n",
       "    .dataframe tbody tr th:only-of-type {\n",
       "        vertical-align: middle;\n",
       "    }\n",
       "\n",
       "    .dataframe tbody tr th {\n",
       "        vertical-align: top;\n",
       "    }\n",
       "\n",
       "    .dataframe thead th {\n",
       "        text-align: right;\n",
       "    }\n",
       "</style>\n",
       "<table border=\"1\" class=\"dataframe\">\n",
       "  <thead>\n",
       "    <tr style=\"text-align: right;\">\n",
       "      <th></th>\n",
       "      <th>Campus</th>\n",
       "      <th>University</th>\n",
       "      <th>Suburb or town</th>\n",
       "      <th>Name</th>\n",
       "    </tr>\n",
       "  </thead>\n",
       "  <tbody>\n",
       "    <tr>\n",
       "      <th>0</th>\n",
       "      <td>Satellite</td>\n",
       "      <td>Australian Catholic University</td>\n",
       "      <td>Melbourne</td>\n",
       "      <td>ACU Melbourne</td>\n",
       "    </tr>\n",
       "    <tr>\n",
       "      <th>1</th>\n",
       "      <td>Satellite</td>\n",
       "      <td>Australian Catholic University</td>\n",
       "      <td>Ballarat</td>\n",
       "      <td>NaN</td>\n",
       "    </tr>\n",
       "    <tr>\n",
       "      <th>2</th>\n",
       "      <td>Satellite</td>\n",
       "      <td>Charles Darwin University</td>\n",
       "      <td>Melbourne</td>\n",
       "      <td>CDU Melbourne</td>\n",
       "    </tr>\n",
       "    <tr>\n",
       "      <th>3</th>\n",
       "      <td>Satellite</td>\n",
       "      <td>Charles Sturt University</td>\n",
       "      <td>Albury-Wodonga</td>\n",
       "      <td>NaN</td>\n",
       "    </tr>\n",
       "    <tr>\n",
       "      <th>4</th>\n",
       "      <td>Satellite</td>\n",
       "      <td>CQUniversity</td>\n",
       "      <td>Melbourne</td>\n",
       "      <td>CQU Melbourne</td>\n",
       "    </tr>\n",
       "  </tbody>\n",
       "</table>\n",
       "</div>"
      ],
      "text/plain": [
       "     Campus                       University  Suburb or town           Name\n",
       "0  Satellite  Australian Catholic University       Melbourne  ACU Melbourne\n",
       "1  Satellite  Australian Catholic University        Ballarat            NaN\n",
       "2  Satellite       Charles Darwin University       Melbourne  CDU Melbourne\n",
       "3  Satellite        Charles Sturt University  Albury-Wodonga            NaN\n",
       "4  Satellite                    CQUniversity       Melbourne  CQU Melbourne"
      ]
     },
     "execution_count": 3,
     "metadata": {},
     "output_type": "execute_result"
    }
   ],
   "source": [
    "universities = pd.read_csv(\"../data/raw/List of Universities.csv\")\n",
    "universities.head()"
   ]
  },
  {
   "cell_type": "code",
   "execution_count": 4,
   "metadata": {},
   "outputs": [],
   "source": [
    "universities.loc[universities['Name'].isnull(), 'Name'] = \"\""
   ]
  },
  {
   "cell_type": "code",
   "execution_count": 5,
   "metadata": {},
   "outputs": [],
   "source": [
    "universities[\"Coordinates\"] = (universities[\"University\"] + \" \" + universities[\"Suburb or town\"] + \" \" + universities[\"Name\"]).apply(lambda x: addressToCords(x))"
   ]
  },
  {
   "cell_type": "code",
   "execution_count": 6,
   "metadata": {},
   "outputs": [],
   "source": [
    "universities[\"Latitude\"] = universities[\"Coordinates\"].apply(lambda x: x[0])\n",
    "universities[\"Longitude\"] = universities[\"Coordinates\"].apply(lambda x: x[1])"
   ]
  },
  {
   "cell_type": "code",
   "execution_count": 64,
   "metadata": {},
   "outputs": [
    {
     "data": {
      "text/html": [
       "<div>\n",
       "<style scoped>\n",
       "    .dataframe tbody tr th:only-of-type {\n",
       "        vertical-align: middle;\n",
       "    }\n",
       "\n",
       "    .dataframe tbody tr th {\n",
       "        vertical-align: top;\n",
       "    }\n",
       "\n",
       "    .dataframe thead th {\n",
       "        text-align: right;\n",
       "    }\n",
       "</style>\n",
       "<table border=\"1\" class=\"dataframe\">\n",
       "  <thead>\n",
       "    <tr style=\"text-align: right;\">\n",
       "      <th></th>\n",
       "      <th>Campus</th>\n",
       "      <th>University</th>\n",
       "      <th>Suburb or town</th>\n",
       "      <th>Name</th>\n",
       "      <th>Coordinates</th>\n",
       "      <th>Latitude</th>\n",
       "      <th>Longitude</th>\n",
       "    </tr>\n",
       "  </thead>\n",
       "  <tbody>\n",
       "    <tr>\n",
       "      <th>0</th>\n",
       "      <td>Satellite</td>\n",
       "      <td>Australian Catholic University</td>\n",
       "      <td>Melbourne</td>\n",
       "      <td>ACU Melbourne</td>\n",
       "      <td>Requires Manual Inspection</td>\n",
       "      <td>R</td>\n",
       "      <td>e</td>\n",
       "    </tr>\n",
       "    <tr>\n",
       "      <th>1</th>\n",
       "      <td>Satellite</td>\n",
       "      <td>Australian Catholic University</td>\n",
       "      <td>Ballarat</td>\n",
       "      <td></td>\n",
       "      <td>(-37.557274899999996, 143.8436582961171)</td>\n",
       "      <td>-37.557275</td>\n",
       "      <td>143.843658</td>\n",
       "    </tr>\n",
       "    <tr>\n",
       "      <th>2</th>\n",
       "      <td>Satellite</td>\n",
       "      <td>Charles Darwin University</td>\n",
       "      <td>Melbourne</td>\n",
       "      <td>CDU Melbourne</td>\n",
       "      <td>Requires Manual Inspection</td>\n",
       "      <td>R</td>\n",
       "      <td>e</td>\n",
       "    </tr>\n",
       "    <tr>\n",
       "      <th>3</th>\n",
       "      <td>Satellite</td>\n",
       "      <td>Charles Sturt University</td>\n",
       "      <td>Albury-Wodonga</td>\n",
       "      <td></td>\n",
       "      <td>Requires Manual Inspection</td>\n",
       "      <td>R</td>\n",
       "      <td>e</td>\n",
       "    </tr>\n",
       "    <tr>\n",
       "      <th>4</th>\n",
       "      <td>Satellite</td>\n",
       "      <td>CQUniversity</td>\n",
       "      <td>Melbourne</td>\n",
       "      <td>CQU Melbourne</td>\n",
       "      <td>Requires Manual Inspection</td>\n",
       "      <td>R</td>\n",
       "      <td>e</td>\n",
       "    </tr>\n",
       "  </tbody>\n",
       "</table>\n",
       "</div>"
      ],
      "text/plain": [
       "     Campus                       University  Suburb or town           Name  \\\n",
       "0  Satellite  Australian Catholic University       Melbourne  ACU Melbourne   \n",
       "1  Satellite  Australian Catholic University        Ballarat                  \n",
       "2  Satellite       Charles Darwin University       Melbourne  CDU Melbourne   \n",
       "3  Satellite        Charles Sturt University  Albury-Wodonga                  \n",
       "4  Satellite                    CQUniversity       Melbourne  CQU Melbourne   \n",
       "\n",
       "                                Coordinates   Latitude   Longitude  \n",
       "0                Requires Manual Inspection          R           e  \n",
       "1  (-37.557274899999996, 143.8436582961171) -37.557275  143.843658  \n",
       "2                Requires Manual Inspection          R           e  \n",
       "3                Requires Manual Inspection          R           e  \n",
       "4                Requires Manual Inspection          R           e  "
      ]
     },
     "execution_count": 64,
     "metadata": {},
     "output_type": "execute_result"
    }
   ],
   "source": [
    "universities.head()"
   ]
  },
  {
   "cell_type": "code",
   "execution_count": 7,
   "metadata": {},
   "outputs": [],
   "source": [
    "universities[[\"University\", \"Suburb or town\", \"Name\", \"Latitude\", \"Longitude\"]].to_csv(\"../data/curated/universities.csv\", index=False)"
   ]
  }
 ],
 "metadata": {
  "kernelspec": {
   "display_name": "Python 3.10.4 64-bit",
   "language": "python",
   "name": "python3"
  },
  "language_info": {
   "codemirror_mode": {
    "name": "ipython",
    "version": 3
   },
   "file_extension": ".py",
   "mimetype": "text/x-python",
   "name": "python",
   "nbconvert_exporter": "python",
   "pygments_lexer": "ipython3",
   "version": "3.10.4"
  },
  "orig_nbformat": 4,
  "vscode": {
   "interpreter": {
    "hash": "916dbcbb3f70747c44a77c7bcd40155683ae19c65e1c03b4aa3499c5328201f1"
   }
  }
 },
 "nbformat": 4,
 "nbformat_minor": 2
}
