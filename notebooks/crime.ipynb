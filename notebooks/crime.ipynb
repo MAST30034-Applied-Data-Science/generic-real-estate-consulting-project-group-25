{
 "cells": [
  {
   "cell_type": "code",
   "execution_count": 57,
   "metadata": {},
   "outputs": [],
   "source": [
    "import geopandas as gpd\n",
    "import pandas as pd\n",
    "import folium\n",
    "from shapely.geometry import shape\n",
    "import re"
   ]
  },
  {
   "cell_type": "markdown",
   "metadata": {},
   "source": [
    "# Allocating Suburbs to Local City Councils"
   ]
  },
  {
   "cell_type": "markdown",
   "metadata": {},
   "source": [
    "The suburbs would be allocated to a local city council where the majority of the areas overlap"
   ]
  },
  {
   "cell_type": "code",
   "execution_count": 3,
   "metadata": {},
   "outputs": [],
   "source": [
    "suburb = gpd.read_file(\"../data/raw/Suburb Shapes/vic_localities.shp\")\n",
    "council = gpd.read_file(\"../data/raw/VMADMIN/AD_LGA_AREA_POLYGON.shp\")\n",
    "council = council[council[\"STATE\"]==\"VIC\"]"
   ]
  },
  {
   "cell_type": "code",
   "execution_count": 4,
   "metadata": {},
   "outputs": [],
   "source": [
    "council['geometry'] = council['geometry'].to_crs(\"+proj=longlat +ellps=WGS84 +datum=WGS84 +no_defs\")\n",
    "suburb['geometry'] = suburb['geometry'].to_crs(\"+proj=longlat +ellps=WGS84 +datum=WGS84 +no_defs\")"
   ]
  },
  {
   "cell_type": "markdown",
   "metadata": {},
   "source": [
    "# Finding overlaps"
   ]
  },
  {
   "cell_type": "code",
   "execution_count": 5,
   "metadata": {},
   "outputs": [],
   "source": [
    "# Loop through each suburb and council\n",
    "allocation = {}\n",
    "for index, sub in suburb.iterrows():\n",
    "    sub_geom = shape(sub[\"geometry\"])\n",
    "    max_area = 0\n",
    "    council_name = None\n",
    "    # If the council polygon contains the suburb polygon, then the suburb is assigned to the council\n",
    "    # else the suburb will be assigned to the council that contains the most proportion of the suburb. \n",
    "    for index, coun in council.iterrows():\n",
    "        con_geom = shape(coun[\"geometry\"])\n",
    "        if con_geom.contains(sub_geom):\n",
    "            council_name  = coun[\"NAME\"]\n",
    "            break\n",
    "        elif sub_geom.intersects(con_geom):\n",
    "            area = sub_geom.intersection(con_geom).area/sub_geom.area\n",
    "            if area > max_area:\n",
    "                max_area = area\n",
    "                council_name = coun[\"NAME\"] \n",
    "    allocation[sub[\"LOC_NAME\"]] = council_name\n",
    "\n",
    "            \n",
    "\n"
   ]
  },
  {
   "cell_type": "markdown",
   "metadata": {},
   "source": [
    "## Re-assigning crime rate data to each suburb "
   ]
  },
  {
   "cell_type": "code",
   "execution_count": 64,
   "metadata": {},
   "outputs": [],
   "source": [
    "# For each year, allocate each of the crime data by local gov council to the suburbs and save it as csv file\n",
    "yrs = [f\"{year}\" for year in range(2013, 2023)]\n",
    "wanted_rows = [\"Suburb\", \"Local Government Area\", \"Year ending\", \"Alleged Offender Incident Rate\", \"Alleged Offender Incidents\", \"Criminial Incident Rate\", \"Family Incident Count\", \"Family Incident Rate\", \"Incidents Recorded\", \"Offence Count\", \"Offence Rate\", \"Victim Reports\", \"Victimisation Rate\"]\n",
    "for yr in yrs:\n",
    "    suburb_crime = pd.DataFrame()\n",
    "    suburb_crime[\"Suburb\"] = allocation.keys()\n",
    "    suburb_crime[\"Local Government Area\"] = allocation.values()\n",
    "    council_crime = pd.read_csv(f\"../data/raw/Crime rates/{yr}_CrimeRates.csv\")\n",
    "    council_crime[\"Local Government Area\"] = council_crime[\"Local Government Area\"].apply(lambda x: re.sub(\"^ \", \"\", x).upper())\n",
    "    result = suburb_crime.merge(council_crime, how=\"inner\")\n",
    "    result = result[wanted_rows]\n",
    "    result.to_csv(f\"../data/curated/{yr}_CrimeRate_Suburb.csv\", index=False)\n"
   ]
  }
 ],
 "metadata": {
  "kernelspec": {
   "display_name": "Python 3.10.4 64-bit",
   "language": "python",
   "name": "python3"
  },
  "language_info": {
   "codemirror_mode": {
    "name": "ipython",
    "version": 3
   },
   "file_extension": ".py",
   "mimetype": "text/x-python",
   "name": "python",
   "nbconvert_exporter": "python",
   "pygments_lexer": "ipython3",
   "version": "3.10.4"
  },
  "orig_nbformat": 4,
  "vscode": {
   "interpreter": {
    "hash": "916dbcbb3f70747c44a77c7bcd40155683ae19c65e1c03b4aa3499c5328201f1"
   }
  }
 },
 "nbformat": 4,
 "nbformat_minor": 2
}
