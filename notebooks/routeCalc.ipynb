{
 "cells": [
  {
   "cell_type": "code",
   "execution_count": 1,
   "metadata": {},
   "outputs": [
    {
     "name": "stdout",
     "output_type": "stream",
     "text": [
      "/mnt/c/Users/ohanr/OneDrive/Unimelb/3rd Year/MAST30034/generic-real-estate-consulting-project-group-25/scripts\n"
     ]
    }
   ],
   "source": [
    "%cd ../scripts \n",
    "from address import find_closest_location, dist_between_two_lat_lon\n",
    "import pandas as pd"
   ]
  },
  {
   "cell_type": "markdown",
   "metadata": {},
   "source": [
    "## Distance to closest shopping centre"
   ]
  },
  {
   "cell_type": "code",
   "execution_count": 2,
   "metadata": {},
   "outputs": [],
   "source": [
    "listing = pd.read_csv(\"../data/curated/listings_w_cords.csv\")\n",
    "shops = pd.read_csv(\"../data/curated/ShoppingCentreData.csv\")"
   ]
  },
  {
   "cell_type": "code",
   "execution_count": 3,
   "metadata": {},
   "outputs": [
    {
     "data": {
      "text/plain": [
       "12056"
      ]
     },
     "execution_count": 3,
     "metadata": {},
     "output_type": "execute_result"
    }
   ],
   "source": [
    "listing = listing[~(listing[\"Coordinates\"] == \"Requires Manual Inspection\")]\n",
    "listing[\"ClosestDstToShoppingCentre\"] = None\n",
    "len(listing)"
   ]
  },
  {
   "cell_type": "code",
   "execution_count": 3,
   "metadata": {},
   "outputs": [],
   "source": [
    "listing = listing[listing[\"Coordinates\"] == \"Requires Manual Inspection\"]\n",
    "listing.to_csv(\"../data/curated/listing_require_manual.csv\")"
   ]
  },
  {
   "cell_type": "code",
   "execution_count": null,
   "metadata": {},
   "outputs": [],
   "source": [
    "## Save in partitions to compensate unstable api connection due to limited RAM\n",
    "start = 7400\n",
    "end = 7450\n",
    "n = 50\n",
    "while end < len(listing):\n",
    "    for i in range(start, end):\n",
    "        try: \n",
    "            lng = listing[\"Longitude\"][i] \n",
    "            lat = listing[\"Latitude\"][i]\n",
    "        except KeyError:\n",
    "            continue\n",
    "        d, clo = find_closest_location(lat, lng, shops)\n",
    "        listing[\"ClosestDstToShoppingCentre\"][i] = d\n",
    "    listing.to_csv(\"../data/curated/listings_w_shops.csv\")\n",
    "    start = end \n",
    "    print(end)\n",
    "    end += n\n",
    "    "
   ]
  },
  {
   "cell_type": "markdown",
   "metadata": {},
   "source": [
    "## Distance to CBD"
   ]
  },
  {
   "cell_type": "code",
   "execution_count": 3,
   "metadata": {},
   "outputs": [],
   "source": [
    "listing = pd.read_csv(\"../data/curated/listings_w_shops.csv\")"
   ]
  },
  {
   "cell_type": "code",
   "execution_count": 4,
   "metadata": {},
   "outputs": [],
   "source": [
    "CBD = (-37.8136, 144.9631)\n",
    "dst = []\n",
    "\n",
    "for i in range(0, len(listing)):\n",
    "    lng = listing[\"Longitude\"][i] \n",
    "    lat = listing[\"Latitude\"][i]\n",
    "    d = dist_between_two_lat_lon(lat, CBD[0], lng, CBD[1])\n",
    "    dst.append(d)\n",
    "\n"
   ]
  },
  {
   "cell_type": "code",
   "execution_count": 5,
   "metadata": {},
   "outputs": [],
   "source": [
    "listing[\"DstToCBD\"] = dst"
   ]
  },
  {
   "cell_type": "code",
   "execution_count": 6,
   "metadata": {},
   "outputs": [],
   "source": [
    "listing.to_csv(\"../data/curated/listings_w_CBD.csv\")"
   ]
  },
  {
   "cell_type": "markdown",
   "metadata": {},
   "source": [
    "## Distance to Nearest Train Station"
   ]
  },
  {
   "cell_type": "code",
   "execution_count": null,
   "metadata": {},
   "outputs": [],
   "source": []
  }
 ],
 "metadata": {
  "kernelspec": {
   "display_name": "Python 3.10.4 64-bit",
   "language": "python",
   "name": "python3"
  },
  "language_info": {
   "codemirror_mode": {
    "name": "ipython",
    "version": 3
   },
   "file_extension": ".py",
   "mimetype": "text/x-python",
   "name": "python",
   "nbconvert_exporter": "python",
   "pygments_lexer": "ipython3",
   "version": "3.10.4"
  },
  "orig_nbformat": 4,
  "vscode": {
   "interpreter": {
    "hash": "916dbcbb3f70747c44a77c7bcd40155683ae19c65e1c03b4aa3499c5328201f1"
   }
  }
 },
 "nbformat": 4,
 "nbformat_minor": 2
}
