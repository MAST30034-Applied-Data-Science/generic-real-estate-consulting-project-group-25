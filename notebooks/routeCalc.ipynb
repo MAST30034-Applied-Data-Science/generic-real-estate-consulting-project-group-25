{
 "cells": [
  {
   "cell_type": "code",
   "execution_count": 1,
   "metadata": {},
   "outputs": [
    {
     "name": "stdout",
     "output_type": "stream",
     "text": [
      "/mnt/c/Users/ohanr/OneDrive/Unimelb/3rd Year/MAST30034/generic-real-estate-consulting-project-group-25/scripts\n"
     ]
    }
   ],
   "source": [
    "%cd ../scripts \n",
    "from address import dist_between_two_lat_lon, find_closest_location\n",
    "import pandas as pd\n",
    "import geopandas as gpd\n",
    "from os.path import exists\n",
    "import warnings"
   ]
  },
  {
   "cell_type": "code",
   "execution_count": null,
   "metadata": {},
   "outputs": [],
   "source": [
    "listing = pd.read_csv(\"../data/curated/Distances_pre/listings_w_cords.csv\")\n",
    "listing[\"ClosestDstToStation\"] = None\n",
    "listing[\"ClosestStation\"] = None\n",
    "listing[\"ClosestDstToShoppingCentre\"] = None\n",
    "listing[\"ClosestShop\"] = None\n",
    "listing[\"ClosestDstToUni\"] = None\n",
    "listing[\"ClosestUni\"] = None\n",
    "if exists(\"../data/curated/listings_with_distances.csv\"):\n",
    "    listing = pd.read_csv(\"../data/curated/listings_with_distances.csv\")"
   ]
  },
  {
   "cell_type": "markdown",
   "metadata": {},
   "source": [
    "With the following code blocks, often times the server would crash in the local machine due to device's RAM limitations, hence the code needed to be re-ran accrodingly depends on which row of data the server crashed on"
   ]
  },
  {
   "cell_type": "markdown",
   "metadata": {},
   "source": [
    "## Distance to closest shopping centre"
   ]
  },
  {
   "cell_type": "code",
   "execution_count": null,
   "metadata": {},
   "outputs": [],
   "source": [
    "shops = pd.read_csv(\"../data/raw/ShoppingCentreData.csv\")"
   ]
  },
  {
   "cell_type": "code",
   "execution_count": null,
   "metadata": {},
   "outputs": [
    {
     "ename": "",
     "evalue": "",
     "output_type": "error",
     "traceback": [
      "\u001b[1;31mFailed to interrupt the Kernel. \n",
      "\u001b[1;31mUnable to start Kernel 'Python 3.10.4 64-bit' due to connection timeout. \n",
      "\u001b[1;31mView Jupyter <a href='command:jupyter.viewOutput'>log</a> for further details."
     ]
    }
   ],
   "source": [
    "saved_index = 0\n",
    "for i in range(saved_index, len(listing)):\n",
    "    try: \n",
    "        lng = listing[\"Longitude\"][i] \n",
    "        lat = listing[\"Latitude\"][i]\n",
    "    except KeyError:\n",
    "        continue\n",
    "    d, clo = find_closest_location(lat, lng, shops, \"Latitude\", \"Longitude\", \"Shopping Centre Name\")\n",
    "    listing[\"ClosestDstToShoppingCentre\"][i] = d\n",
    "    listing[\"ClosestShop\"][i] = clo\n",
    "    ## Save in partitions to compensate unstable api connection due to limited RAM\n",
    "    if (i != saved_index) and (i%50 == 0):\n",
    "        listing.to_csv(\"../data/curated/listings_with_distances.csv\", index=False)\n",
    "        saved_index = i\n",
    "        print(saved_index)\n",
    "listing.to_csv(\"../data/curated/listings_with_distances.csv\", index=False)   "
   ]
  },
  {
   "cell_type": "markdown",
   "metadata": {},
   "source": [
    "## Distance to CBD"
   ]
  },
  {
   "cell_type": "code",
   "execution_count": null,
   "metadata": {},
   "outputs": [],
   "source": [
    "CBD = (-37.8136, 144.9631)\n",
    "dst = []\n",
    "for i in range(0, len(listing)):\n",
    "    lng = listing[\"Longitude\"][i] \n",
    "    lat = listing[\"Latitude\"][i]\n",
    "    d = dist_between_two_lat_lon(lat, CBD[0], lng, CBD[1])\n",
    "    dst.append(d)\n",
    "\n"
   ]
  },
  {
   "cell_type": "code",
   "execution_count": null,
   "metadata": {},
   "outputs": [],
   "source": [
    "listing[\"DstToCBD\"] = dst\n",
    "listing.to_csv(\"../data/curated/listings_w_distance.csv\", index = False)"
   ]
  },
  {
   "cell_type": "markdown",
   "metadata": {},
   "source": [
    "## Distance to Nearest Train Station"
   ]
  },
  {
   "cell_type": "code",
   "execution_count": null,
   "metadata": {},
   "outputs": [],
   "source": [
    "ptv = gpd.read_file(\"../data/raw/PTV/PTV_METRO_TRAIN_STATION.shp\")\n",
    "vline = gpd.read_file(\"../data/raw/PTV_Regional/PTV_REGIONAL_TRAIN_STATION.shp\")\n",
    "stations = gpd.GeoDataFrame(pd.concat([ptv, vline]))\n",
    "listing = pd.read_csv(\"../data/curated/listings_with_distances.csv\")"
   ]
  },
  {
   "cell_type": "code",
   "execution_count": null,
   "metadata": {},
   "outputs": [],
   "source": [
    "saved_index = 0\n",
    "for i in range(saved_index, len(listing)):\n",
    "    try: \n",
    "        lng = listing[\"Longitude\"][i] \n",
    "        lat = listing[\"Latitude\"][i]\n",
    "    except KeyError:\n",
    "        continue\n",
    "    d, clo = find_closest_location(lat, lng, stations, \"LATITUDE\", \"LONGITUDE\", \"STOP_NAME\")\n",
    "    listing[\"ClosestDstToStation\"][i] = d\n",
    "    listing[\"ClosestStation\"][i] = clo\n",
    "    ## Save in partitions to compensate unstable api connection due to limited RAM\n",
    "    if (i != saved_index) and (i%50 == 0):\n",
    "        listing.to_csv(\"../data/curated/listings_with_distances.csv\", index = False)\n",
    "        saved_index = i\n",
    "        print(saved_index)\n",
    "listing.to_csv(\"../data/curated/listings_with_distances.csv\", index=False)   "
   ]
  },
  {
   "cell_type": "markdown",
   "metadata": {},
   "source": [
    "## Distance to Universities"
   ]
  },
  {
   "cell_type": "code",
   "execution_count": null,
   "metadata": {},
   "outputs": [],
   "source": [
    "universities = pd.read_csv(\"../data/curated/universities.csv\")"
   ]
  },
  {
   "cell_type": "code",
   "execution_count": null,
   "metadata": {},
   "outputs": [],
   "source": [
    "\n",
    "saved_index = 300\n",
    "for i in range(saved_index, len(listing)):\n",
    "    try: \n",
    "        lng = listing[\"Longitude\"][i] \n",
    "        lat = listing[\"Latitude\"][i]\n",
    "    except KeyError:\n",
    "        continue\n",
    "    d, clo = find_closest_location(lat, lng, universities, \"Latitude\", \"Longitude\", \"University\")\n",
    "    listing[\"ClosestDstToUni\"][i] = d\n",
    "    listing[\"ClosestUni\"][i] = clo\n",
    "    ## Save in partitions to compensate unstable api connection due to limited RAM\n",
    "    if (i != saved_index) and (i%50 == 0):\n",
    "        listing.to_csv(\"../data/curated/listings_with_distances.csv\", index = False)\n",
    "        saved_index = i\n",
    "        print(saved_index)\n",
    "listing.to_csv(\"../data/curated/listings_with_distances.csv\", index=False)   "
   ]
  },
  {
   "cell_type": "markdown",
   "metadata": {},
   "source": [
    "## Suburb to Nearest Station Distance"
   ]
  },
  {
   "cell_type": "code",
   "execution_count": null,
   "metadata": {},
   "outputs": [],
   "source": [
    "ptv = gpd.read_file(\"../data/raw/PTV/PTV_METRO_TRAIN_STATION.shp\")\n",
    "vline = gpd.read_file(\"../data/raw/PTV_Regional/PTV_REGIONAL_TRAIN_STATION.shp\")\n",
    "stations = gpd.GeoDataFrame(pd.concat([ptv, vline]))\n",
    "suburbs = pd.read_csv(\"../data/raw/sub_4_pred_done.csv\")"
   ]
  },
  {
   "cell_type": "code",
   "execution_count": null,
   "metadata": {},
   "outputs": [],
   "source": [
    "suburbs[\"DstToStation\"] = None\n",
    "suburbs[\"ClosestStation\"] = None"
   ]
  },
  {
   "cell_type": "code",
   "execution_count": null,
   "metadata": {},
   "outputs": [],
   "source": [
    "saved_index = 0\n",
    "for i in range(saved_index, len(suburbs)):\n",
    "    try: \n",
    "        lng = suburbs[\"Longitude\"][i] \n",
    "        lat = suburbs[\"Latitude\"][i]\n",
    "    except KeyError:\n",
    "        continue\n",
    "    d, clo = find_closest_location(lat, lng, stations, \"LATITUDE\", \"LONGITUDE\", \"STOP_NAME\")\n",
    "    suburbs[\"DstToStation\"][i] = d\n",
    "    suburbs[\"ClosestStation\"][i] = clo\n",
    "    ## Save in partitions to compensate unstable api connection due to limited RAM\n",
    "    if (i != saved_index) and (i%50 == 0):\n",
    "        suburbs.to_csv(\"../data/curated/suburbs_w_dstTrain.csv\", index = False)\n",
    "        saved_index = i\n",
    "        print(saved_index)\n",
    "suburbs.to_csv(\"../data/curated/suburbs_w_dstTrain.csv\", index=False)   "
   ]
  }
 ],
 "metadata": {
  "kernelspec": {
   "display_name": "Python 3.10.4 64-bit",
   "language": "python",
   "name": "python3"
  },
  "language_info": {
   "codemirror_mode": {
    "name": "ipython",
    "version": 3
   },
   "file_extension": ".py",
   "mimetype": "text/x-python",
   "name": "python",
   "nbconvert_exporter": "python",
   "pygments_lexer": "ipython3",
   "version": "3.10.4"
  },
  "orig_nbformat": 4,
  "vscode": {
   "interpreter": {
    "hash": "916dbcbb3f70747c44a77c7bcd40155683ae19c65e1c03b4aa3499c5328201f1"
   }
  }
 },
 "nbformat": 4,
 "nbformat_minor": 2
}
