{
 "cells": [
  {
   "cell_type": "code",
   "execution_count": 1,
   "metadata": {},
   "outputs": [
    {
     "name": "stdout",
     "output_type": "stream",
     "text": [
      "/mnt/c/Users/ohanr/OneDrive/Unimelb/3rd Year/MAST30034/generic-real-estate-consulting-project-group-25/scripts\n"
     ]
    }
   ],
   "source": [
    "%cd ../scripts \n",
    "from address import find_closest_location, dist_between_two_lat_lon, find_min_dist\n",
    "import pandas as pd"
   ]
  },
  {
   "cell_type": "markdown",
   "metadata": {},
   "source": [
    "## Distance to closest shopping centre"
   ]
  },
  {
   "cell_type": "code",
   "execution_count": 2,
   "metadata": {},
   "outputs": [],
   "source": [
    "#listing = pd.read_csv(\"../data/curated/listings_w_cords.csv\")\n",
    "shops = pd.read_csv(\"../data/curated/Distances_pre/ShoppingCentreData.csv\")"
   ]
  },
  {
   "cell_type": "code",
   "execution_count": 3,
   "metadata": {},
   "outputs": [
    {
     "data": {
      "text/plain": [
       "12056"
      ]
     },
     "execution_count": 3,
     "metadata": {},
     "output_type": "execute_result"
    }
   ],
   "source": [
    "listing = listing[~(listing[\"Coordinates\"] == \"Requires Manual Inspection\")]\n",
    "listing = listing[listing[\"Coordinates\"] == \"Requires Manual Inspection\"]\n",
    "listing.to_csv(\"../data/curated/listing_require_manual.csv\")\n",
    "listing[\"ClosestDstToShoppingCentre\"] = None\n",
    "listing[\"ClosestShop\"] = None\n",
    "len(listing)"
   ]
  },
  {
   "cell_type": "code",
   "execution_count": 3,
   "metadata": {},
   "outputs": [],
   "source": [
    "#listing = pd.read_csv(\"../data/curated/listings_w_CBD.csv\")\n",
    "listing = pd.read_csv(\"../data/curated/listings_with_distances.csv\")\n"
   ]
  },
  {
   "cell_type": "code",
   "execution_count": 4,
   "metadata": {},
   "outputs": [],
   "source": [
    "import warnings\n",
    "warnings.filterwarnings(\"ignore\")"
   ]
  },
  {
   "cell_type": "code",
   "execution_count": 5,
   "metadata": {},
   "outputs": [
    {
     "name": "stdout",
     "output_type": "stream",
     "text": [
      "1150\n",
      "1200\n",
      "1250\n",
      "1300\n",
      "1350\n",
      "1400\n",
      "1450\n",
      "1500\n",
      "1550\n",
      "1600\n",
      "1650\n",
      "1700\n",
      "1750\n",
      "1800\n",
      "1850\n",
      "1900\n",
      "1950\n",
      "2000\n",
      "2050\n",
      "2100\n",
      "2150\n",
      "2200\n",
      "2250\n",
      "2300\n",
      "2350\n",
      "2400\n",
      "2450\n",
      "2500\n",
      "2550\n",
      "2600\n",
      "2650\n",
      "2700\n",
      "2750\n",
      "2800\n",
      "2850\n",
      "2900\n",
      "2950\n",
      "3000\n",
      "3050\n",
      "3100\n",
      "3150\n",
      "3200\n",
      "3250\n",
      "3300\n",
      "3350\n",
      "3400\n",
      "3450\n",
      "3500\n",
      "3550\n",
      "3600\n",
      "3650\n",
      "3700\n",
      "3750\n",
      "3800\n",
      "3850\n",
      "3900\n",
      "3950\n",
      "4000\n",
      "4050\n",
      "4100\n",
      "4150\n",
      "4200\n",
      "4250\n",
      "4300\n",
      "4350\n",
      "4400\n",
      "4450\n",
      "4500\n",
      "4550\n",
      "4600\n",
      "4650\n",
      "4700\n",
      "4750\n",
      "4800\n",
      "4850\n",
      "4900\n",
      "4950\n",
      "5000\n",
      "5050\n",
      "5100\n",
      "5150\n",
      "5200\n",
      "5250\n",
      "5300\n",
      "5350\n"
     ]
    },
    {
     "ename": "ConnectionError",
     "evalue": "('Connection aborted.', RemoteDisconnected('Remote end closed connection without response'))",
     "output_type": "error",
     "traceback": [
      "\u001b[0;31m---------------------------------------------------------------------------\u001b[0m",
      "\u001b[0;31mRemoteDisconnected\u001b[0m                        Traceback (most recent call last)",
      "File \u001b[0;32m/usr/lib/python3/dist-packages/urllib3/connectionpool.py:699\u001b[0m, in \u001b[0;36mHTTPConnectionPool.urlopen\u001b[0;34m(self, method, url, body, headers, retries, redirect, assert_same_host, timeout, pool_timeout, release_conn, chunked, body_pos, **response_kw)\u001b[0m\n\u001b[1;32m    698\u001b[0m \u001b[39m# Make the request on the httplib connection object.\u001b[39;00m\n\u001b[0;32m--> 699\u001b[0m httplib_response \u001b[39m=\u001b[39m \u001b[39mself\u001b[39;49m\u001b[39m.\u001b[39;49m_make_request(\n\u001b[1;32m    700\u001b[0m     conn,\n\u001b[1;32m    701\u001b[0m     method,\n\u001b[1;32m    702\u001b[0m     url,\n\u001b[1;32m    703\u001b[0m     timeout\u001b[39m=\u001b[39;49mtimeout_obj,\n\u001b[1;32m    704\u001b[0m     body\u001b[39m=\u001b[39;49mbody,\n\u001b[1;32m    705\u001b[0m     headers\u001b[39m=\u001b[39;49mheaders,\n\u001b[1;32m    706\u001b[0m     chunked\u001b[39m=\u001b[39;49mchunked,\n\u001b[1;32m    707\u001b[0m )\n\u001b[1;32m    709\u001b[0m \u001b[39m# If we're going to release the connection in ``finally:``, then\u001b[39;00m\n\u001b[1;32m    710\u001b[0m \u001b[39m# the response doesn't need to know about the connection. Otherwise\u001b[39;00m\n\u001b[1;32m    711\u001b[0m \u001b[39m# it will also try to release it and we'll have a double-release\u001b[39;00m\n\u001b[1;32m    712\u001b[0m \u001b[39m# mess.\u001b[39;00m\n",
      "File \u001b[0;32m/usr/lib/python3/dist-packages/urllib3/connectionpool.py:445\u001b[0m, in \u001b[0;36mHTTPConnectionPool._make_request\u001b[0;34m(self, conn, method, url, timeout, chunked, **httplib_request_kw)\u001b[0m\n\u001b[1;32m    441\u001b[0m         \u001b[39mexcept\u001b[39;00m \u001b[39mBaseException\u001b[39;00m \u001b[39mas\u001b[39;00m e:\n\u001b[1;32m    442\u001b[0m             \u001b[39m# Remove the TypeError from the exception chain in\u001b[39;00m\n\u001b[1;32m    443\u001b[0m             \u001b[39m# Python 3 (including for exceptions like SystemExit).\u001b[39;00m\n\u001b[1;32m    444\u001b[0m             \u001b[39m# Otherwise it looks like a bug in the code.\u001b[39;00m\n\u001b[0;32m--> 445\u001b[0m             six\u001b[39m.\u001b[39;49mraise_from(e, \u001b[39mNone\u001b[39;49;00m)\n\u001b[1;32m    446\u001b[0m \u001b[39mexcept\u001b[39;00m (SocketTimeout, BaseSSLError, SocketError) \u001b[39mas\u001b[39;00m e:\n",
      "File \u001b[0;32m<string>:3\u001b[0m, in \u001b[0;36mraise_from\u001b[0;34m(value, from_value)\u001b[0m\n",
      "File \u001b[0;32m/usr/lib/python3/dist-packages/urllib3/connectionpool.py:440\u001b[0m, in \u001b[0;36mHTTPConnectionPool._make_request\u001b[0;34m(self, conn, method, url, timeout, chunked, **httplib_request_kw)\u001b[0m\n\u001b[1;32m    439\u001b[0m \u001b[39mtry\u001b[39;00m:\n\u001b[0;32m--> 440\u001b[0m     httplib_response \u001b[39m=\u001b[39m conn\u001b[39m.\u001b[39;49mgetresponse()\n\u001b[1;32m    441\u001b[0m \u001b[39mexcept\u001b[39;00m \u001b[39mBaseException\u001b[39;00m \u001b[39mas\u001b[39;00m e:\n\u001b[1;32m    442\u001b[0m     \u001b[39m# Remove the TypeError from the exception chain in\u001b[39;00m\n\u001b[1;32m    443\u001b[0m     \u001b[39m# Python 3 (including for exceptions like SystemExit).\u001b[39;00m\n\u001b[1;32m    444\u001b[0m     \u001b[39m# Otherwise it looks like a bug in the code.\u001b[39;00m\n",
      "File \u001b[0;32m/usr/lib/python3.10/http/client.py:1374\u001b[0m, in \u001b[0;36mHTTPConnection.getresponse\u001b[0;34m(self)\u001b[0m\n\u001b[1;32m   1373\u001b[0m \u001b[39mtry\u001b[39;00m:\n\u001b[0;32m-> 1374\u001b[0m     response\u001b[39m.\u001b[39;49mbegin()\n\u001b[1;32m   1375\u001b[0m \u001b[39mexcept\u001b[39;00m \u001b[39mConnectionError\u001b[39;00m:\n",
      "File \u001b[0;32m/usr/lib/python3.10/http/client.py:318\u001b[0m, in \u001b[0;36mHTTPResponse.begin\u001b[0;34m(self)\u001b[0m\n\u001b[1;32m    317\u001b[0m \u001b[39mwhile\u001b[39;00m \u001b[39mTrue\u001b[39;00m:\n\u001b[0;32m--> 318\u001b[0m     version, status, reason \u001b[39m=\u001b[39m \u001b[39mself\u001b[39;49m\u001b[39m.\u001b[39;49m_read_status()\n\u001b[1;32m    319\u001b[0m     \u001b[39mif\u001b[39;00m status \u001b[39m!=\u001b[39m CONTINUE:\n",
      "File \u001b[0;32m/usr/lib/python3.10/http/client.py:287\u001b[0m, in \u001b[0;36mHTTPResponse._read_status\u001b[0;34m(self)\u001b[0m\n\u001b[1;32m    284\u001b[0m \u001b[39mif\u001b[39;00m \u001b[39mnot\u001b[39;00m line:\n\u001b[1;32m    285\u001b[0m     \u001b[39m# Presumably, the server closed the connection before\u001b[39;00m\n\u001b[1;32m    286\u001b[0m     \u001b[39m# sending a valid response.\u001b[39;00m\n\u001b[0;32m--> 287\u001b[0m     \u001b[39mraise\u001b[39;00m RemoteDisconnected(\u001b[39m\"\u001b[39m\u001b[39mRemote end closed connection without\u001b[39m\u001b[39m\"\u001b[39m\n\u001b[1;32m    288\u001b[0m                              \u001b[39m\"\u001b[39m\u001b[39m response\u001b[39m\u001b[39m\"\u001b[39m)\n\u001b[1;32m    289\u001b[0m \u001b[39mtry\u001b[39;00m:\n",
      "\u001b[0;31mRemoteDisconnected\u001b[0m: Remote end closed connection without response",
      "\nDuring handling of the above exception, another exception occurred:\n",
      "\u001b[0;31mProtocolError\u001b[0m                             Traceback (most recent call last)",
      "File \u001b[0;32m/usr/lib/python3/dist-packages/requests/adapters.py:439\u001b[0m, in \u001b[0;36mHTTPAdapter.send\u001b[0;34m(self, request, stream, timeout, verify, cert, proxies)\u001b[0m\n\u001b[1;32m    438\u001b[0m \u001b[39mif\u001b[39;00m \u001b[39mnot\u001b[39;00m chunked:\n\u001b[0;32m--> 439\u001b[0m     resp \u001b[39m=\u001b[39m conn\u001b[39m.\u001b[39;49murlopen(\n\u001b[1;32m    440\u001b[0m         method\u001b[39m=\u001b[39;49mrequest\u001b[39m.\u001b[39;49mmethod,\n\u001b[1;32m    441\u001b[0m         url\u001b[39m=\u001b[39;49murl,\n\u001b[1;32m    442\u001b[0m         body\u001b[39m=\u001b[39;49mrequest\u001b[39m.\u001b[39;49mbody,\n\u001b[1;32m    443\u001b[0m         headers\u001b[39m=\u001b[39;49mrequest\u001b[39m.\u001b[39;49mheaders,\n\u001b[1;32m    444\u001b[0m         redirect\u001b[39m=\u001b[39;49m\u001b[39mFalse\u001b[39;49;00m,\n\u001b[1;32m    445\u001b[0m         assert_same_host\u001b[39m=\u001b[39;49m\u001b[39mFalse\u001b[39;49;00m,\n\u001b[1;32m    446\u001b[0m         preload_content\u001b[39m=\u001b[39;49m\u001b[39mFalse\u001b[39;49;00m,\n\u001b[1;32m    447\u001b[0m         decode_content\u001b[39m=\u001b[39;49m\u001b[39mFalse\u001b[39;49;00m,\n\u001b[1;32m    448\u001b[0m         retries\u001b[39m=\u001b[39;49m\u001b[39mself\u001b[39;49m\u001b[39m.\u001b[39;49mmax_retries,\n\u001b[1;32m    449\u001b[0m         timeout\u001b[39m=\u001b[39;49mtimeout\n\u001b[1;32m    450\u001b[0m     )\n\u001b[1;32m    452\u001b[0m \u001b[39m# Send the request.\u001b[39;00m\n\u001b[1;32m    453\u001b[0m \u001b[39melse\u001b[39;00m:\n",
      "File \u001b[0;32m/usr/lib/python3/dist-packages/urllib3/connectionpool.py:755\u001b[0m, in \u001b[0;36mHTTPConnectionPool.urlopen\u001b[0;34m(self, method, url, body, headers, retries, redirect, assert_same_host, timeout, pool_timeout, release_conn, chunked, body_pos, **response_kw)\u001b[0m\n\u001b[1;32m    753\u001b[0m     e \u001b[39m=\u001b[39m ProtocolError(\u001b[39m\"\u001b[39m\u001b[39mConnection aborted.\u001b[39m\u001b[39m\"\u001b[39m, e)\n\u001b[0;32m--> 755\u001b[0m retries \u001b[39m=\u001b[39m retries\u001b[39m.\u001b[39;49mincrement(\n\u001b[1;32m    756\u001b[0m     method, url, error\u001b[39m=\u001b[39;49me, _pool\u001b[39m=\u001b[39;49m\u001b[39mself\u001b[39;49m, _stacktrace\u001b[39m=\u001b[39;49msys\u001b[39m.\u001b[39;49mexc_info()[\u001b[39m2\u001b[39;49m]\n\u001b[1;32m    757\u001b[0m )\n\u001b[1;32m    758\u001b[0m retries\u001b[39m.\u001b[39msleep()\n",
      "File \u001b[0;32m/usr/lib/python3/dist-packages/urllib3/util/retry.py:532\u001b[0m, in \u001b[0;36mRetry.increment\u001b[0;34m(self, method, url, response, error, _pool, _stacktrace)\u001b[0m\n\u001b[1;32m    531\u001b[0m \u001b[39mif\u001b[39;00m read \u001b[39mis\u001b[39;00m \u001b[39mFalse\u001b[39;00m \u001b[39mor\u001b[39;00m \u001b[39mnot\u001b[39;00m \u001b[39mself\u001b[39m\u001b[39m.\u001b[39m_is_method_retryable(method):\n\u001b[0;32m--> 532\u001b[0m     \u001b[39mraise\u001b[39;00m six\u001b[39m.\u001b[39;49mreraise(\u001b[39mtype\u001b[39;49m(error), error, _stacktrace)\n\u001b[1;32m    533\u001b[0m \u001b[39melif\u001b[39;00m read \u001b[39mis\u001b[39;00m \u001b[39mnot\u001b[39;00m \u001b[39mNone\u001b[39;00m:\n",
      "File \u001b[0;32m/usr/lib/python3/dist-packages/six.py:718\u001b[0m, in \u001b[0;36mreraise\u001b[0;34m(tp, value, tb)\u001b[0m\n\u001b[1;32m    717\u001b[0m \u001b[39mif\u001b[39;00m value\u001b[39m.\u001b[39m__traceback__ \u001b[39mis\u001b[39;00m \u001b[39mnot\u001b[39;00m tb:\n\u001b[0;32m--> 718\u001b[0m     \u001b[39mraise\u001b[39;00m value\u001b[39m.\u001b[39mwith_traceback(tb)\n\u001b[1;32m    719\u001b[0m \u001b[39mraise\u001b[39;00m value\n",
      "File \u001b[0;32m/usr/lib/python3/dist-packages/urllib3/connectionpool.py:699\u001b[0m, in \u001b[0;36mHTTPConnectionPool.urlopen\u001b[0;34m(self, method, url, body, headers, retries, redirect, assert_same_host, timeout, pool_timeout, release_conn, chunked, body_pos, **response_kw)\u001b[0m\n\u001b[1;32m    698\u001b[0m \u001b[39m# Make the request on the httplib connection object.\u001b[39;00m\n\u001b[0;32m--> 699\u001b[0m httplib_response \u001b[39m=\u001b[39m \u001b[39mself\u001b[39;49m\u001b[39m.\u001b[39;49m_make_request(\n\u001b[1;32m    700\u001b[0m     conn,\n\u001b[1;32m    701\u001b[0m     method,\n\u001b[1;32m    702\u001b[0m     url,\n\u001b[1;32m    703\u001b[0m     timeout\u001b[39m=\u001b[39;49mtimeout_obj,\n\u001b[1;32m    704\u001b[0m     body\u001b[39m=\u001b[39;49mbody,\n\u001b[1;32m    705\u001b[0m     headers\u001b[39m=\u001b[39;49mheaders,\n\u001b[1;32m    706\u001b[0m     chunked\u001b[39m=\u001b[39;49mchunked,\n\u001b[1;32m    707\u001b[0m )\n\u001b[1;32m    709\u001b[0m \u001b[39m# If we're going to release the connection in ``finally:``, then\u001b[39;00m\n\u001b[1;32m    710\u001b[0m \u001b[39m# the response doesn't need to know about the connection. Otherwise\u001b[39;00m\n\u001b[1;32m    711\u001b[0m \u001b[39m# it will also try to release it and we'll have a double-release\u001b[39;00m\n\u001b[1;32m    712\u001b[0m \u001b[39m# mess.\u001b[39;00m\n",
      "File \u001b[0;32m/usr/lib/python3/dist-packages/urllib3/connectionpool.py:445\u001b[0m, in \u001b[0;36mHTTPConnectionPool._make_request\u001b[0;34m(self, conn, method, url, timeout, chunked, **httplib_request_kw)\u001b[0m\n\u001b[1;32m    441\u001b[0m         \u001b[39mexcept\u001b[39;00m \u001b[39mBaseException\u001b[39;00m \u001b[39mas\u001b[39;00m e:\n\u001b[1;32m    442\u001b[0m             \u001b[39m# Remove the TypeError from the exception chain in\u001b[39;00m\n\u001b[1;32m    443\u001b[0m             \u001b[39m# Python 3 (including for exceptions like SystemExit).\u001b[39;00m\n\u001b[1;32m    444\u001b[0m             \u001b[39m# Otherwise it looks like a bug in the code.\u001b[39;00m\n\u001b[0;32m--> 445\u001b[0m             six\u001b[39m.\u001b[39;49mraise_from(e, \u001b[39mNone\u001b[39;49;00m)\n\u001b[1;32m    446\u001b[0m \u001b[39mexcept\u001b[39;00m (SocketTimeout, BaseSSLError, SocketError) \u001b[39mas\u001b[39;00m e:\n",
      "File \u001b[0;32m<string>:3\u001b[0m, in \u001b[0;36mraise_from\u001b[0;34m(value, from_value)\u001b[0m\n",
      "File \u001b[0;32m/usr/lib/python3/dist-packages/urllib3/connectionpool.py:440\u001b[0m, in \u001b[0;36mHTTPConnectionPool._make_request\u001b[0;34m(self, conn, method, url, timeout, chunked, **httplib_request_kw)\u001b[0m\n\u001b[1;32m    439\u001b[0m \u001b[39mtry\u001b[39;00m:\n\u001b[0;32m--> 440\u001b[0m     httplib_response \u001b[39m=\u001b[39m conn\u001b[39m.\u001b[39;49mgetresponse()\n\u001b[1;32m    441\u001b[0m \u001b[39mexcept\u001b[39;00m \u001b[39mBaseException\u001b[39;00m \u001b[39mas\u001b[39;00m e:\n\u001b[1;32m    442\u001b[0m     \u001b[39m# Remove the TypeError from the exception chain in\u001b[39;00m\n\u001b[1;32m    443\u001b[0m     \u001b[39m# Python 3 (including for exceptions like SystemExit).\u001b[39;00m\n\u001b[1;32m    444\u001b[0m     \u001b[39m# Otherwise it looks like a bug in the code.\u001b[39;00m\n",
      "File \u001b[0;32m/usr/lib/python3.10/http/client.py:1374\u001b[0m, in \u001b[0;36mHTTPConnection.getresponse\u001b[0;34m(self)\u001b[0m\n\u001b[1;32m   1373\u001b[0m \u001b[39mtry\u001b[39;00m:\n\u001b[0;32m-> 1374\u001b[0m     response\u001b[39m.\u001b[39;49mbegin()\n\u001b[1;32m   1375\u001b[0m \u001b[39mexcept\u001b[39;00m \u001b[39mConnectionError\u001b[39;00m:\n",
      "File \u001b[0;32m/usr/lib/python3.10/http/client.py:318\u001b[0m, in \u001b[0;36mHTTPResponse.begin\u001b[0;34m(self)\u001b[0m\n\u001b[1;32m    317\u001b[0m \u001b[39mwhile\u001b[39;00m \u001b[39mTrue\u001b[39;00m:\n\u001b[0;32m--> 318\u001b[0m     version, status, reason \u001b[39m=\u001b[39m \u001b[39mself\u001b[39;49m\u001b[39m.\u001b[39;49m_read_status()\n\u001b[1;32m    319\u001b[0m     \u001b[39mif\u001b[39;00m status \u001b[39m!=\u001b[39m CONTINUE:\n",
      "File \u001b[0;32m/usr/lib/python3.10/http/client.py:287\u001b[0m, in \u001b[0;36mHTTPResponse._read_status\u001b[0;34m(self)\u001b[0m\n\u001b[1;32m    284\u001b[0m \u001b[39mif\u001b[39;00m \u001b[39mnot\u001b[39;00m line:\n\u001b[1;32m    285\u001b[0m     \u001b[39m# Presumably, the server closed the connection before\u001b[39;00m\n\u001b[1;32m    286\u001b[0m     \u001b[39m# sending a valid response.\u001b[39;00m\n\u001b[0;32m--> 287\u001b[0m     \u001b[39mraise\u001b[39;00m RemoteDisconnected(\u001b[39m\"\u001b[39m\u001b[39mRemote end closed connection without\u001b[39m\u001b[39m\"\u001b[39m\n\u001b[1;32m    288\u001b[0m                              \u001b[39m\"\u001b[39m\u001b[39m response\u001b[39m\u001b[39m\"\u001b[39m)\n\u001b[1;32m    289\u001b[0m \u001b[39mtry\u001b[39;00m:\n",
      "\u001b[0;31mProtocolError\u001b[0m: ('Connection aborted.', RemoteDisconnected('Remote end closed connection without response'))",
      "\nDuring handling of the above exception, another exception occurred:\n",
      "\u001b[0;31mConnectionError\u001b[0m                           Traceback (most recent call last)",
      "\u001b[1;32m/mnt/c/Users/ohanr/OneDrive/Unimelb/3rd Year/MAST30034/generic-real-estate-consulting-project-group-25/notebooks/routeCalc.ipynb Cell 7\u001b[0m in \u001b[0;36m<cell line: 3>\u001b[0;34m()\u001b[0m\n\u001b[1;32m      <a href='vscode-notebook-cell://wsl%2Bubuntu-22.04/mnt/c/Users/ohanr/OneDrive/Unimelb/3rd%20Year/MAST30034/generic-real-estate-consulting-project-group-25/notebooks/routeCalc.ipynb#W6sdnNjb2RlLXJlbW90ZQ%3D%3D?line=6'>7</a>\u001b[0m \u001b[39mexcept\u001b[39;00m \u001b[39mKeyError\u001b[39;00m:\n\u001b[1;32m      <a href='vscode-notebook-cell://wsl%2Bubuntu-22.04/mnt/c/Users/ohanr/OneDrive/Unimelb/3rd%20Year/MAST30034/generic-real-estate-consulting-project-group-25/notebooks/routeCalc.ipynb#W6sdnNjb2RlLXJlbW90ZQ%3D%3D?line=7'>8</a>\u001b[0m     \u001b[39mcontinue\u001b[39;00m\n\u001b[0;32m----> <a href='vscode-notebook-cell://wsl%2Bubuntu-22.04/mnt/c/Users/ohanr/OneDrive/Unimelb/3rd%20Year/MAST30034/generic-real-estate-consulting-project-group-25/notebooks/routeCalc.ipynb#W6sdnNjb2RlLXJlbW90ZQ%3D%3D?line=8'>9</a>\u001b[0m d, clo \u001b[39m=\u001b[39m find_closest_location(lat, lng, shops, \u001b[39m\"\u001b[39;49m\u001b[39mLatitude\u001b[39;49m\u001b[39m\"\u001b[39;49m, \u001b[39m\"\u001b[39;49m\u001b[39mLongitude\u001b[39;49m\u001b[39m\"\u001b[39;49m, \u001b[39m\"\u001b[39;49m\u001b[39mShopping Centre Name\u001b[39;49m\u001b[39m\"\u001b[39;49m)\n\u001b[1;32m     <a href='vscode-notebook-cell://wsl%2Bubuntu-22.04/mnt/c/Users/ohanr/OneDrive/Unimelb/3rd%20Year/MAST30034/generic-real-estate-consulting-project-group-25/notebooks/routeCalc.ipynb#W6sdnNjb2RlLXJlbW90ZQ%3D%3D?line=9'>10</a>\u001b[0m listing[\u001b[39m\"\u001b[39m\u001b[39mClosestDstToShoppingCentre\u001b[39m\u001b[39m\"\u001b[39m][i] \u001b[39m=\u001b[39m d\n\u001b[1;32m     <a href='vscode-notebook-cell://wsl%2Bubuntu-22.04/mnt/c/Users/ohanr/OneDrive/Unimelb/3rd%20Year/MAST30034/generic-real-estate-consulting-project-group-25/notebooks/routeCalc.ipynb#W6sdnNjb2RlLXJlbW90ZQ%3D%3D?line=10'>11</a>\u001b[0m listing[\u001b[39m\"\u001b[39m\u001b[39mClosestShop\u001b[39m\u001b[39m\"\u001b[39m][i] \u001b[39m=\u001b[39m clo\n",
      "File \u001b[0;32m/mnt/c/Users/ohanr/OneDrive/Unimelb/3rd Year/MAST30034/generic-real-estate-consulting-project-group-25/scripts/address.py:63\u001b[0m, in \u001b[0;36mfind_closest_location\u001b[0;34m(rent_lat, rent_long, ext_data, ext_lat_col, ext_lon_col, name_col)\u001b[0m\n\u001b[1;32m     61\u001b[0m \u001b[39mdef\u001b[39;00m \u001b[39mfind_closest_location\u001b[39m(rent_lat, rent_long, ext_data, ext_lat_col, ext_lon_col, name_col):\n\u001b[1;32m     62\u001b[0m     ext_data[\u001b[39m\"\u001b[39m\u001b[39mcords\u001b[39m\u001b[39m\"\u001b[39m] \u001b[39m=\u001b[39m ext_data[[ext_lat_col, ext_lon_col, name_col]]\u001b[39m.\u001b[39mvalues\u001b[39m.\u001b[39mtolist()\n\u001b[0;32m---> 63\u001b[0m     closest \u001b[39m=\u001b[39m \u001b[39mmin\u001b[39;49m(ext_data[\u001b[39m\"\u001b[39;49m\u001b[39mcords\u001b[39;49m\u001b[39m\"\u001b[39;49m], key\u001b[39m=\u001b[39;49m\u001b[39mlambda\u001b[39;49;00m x: dist_between_two_lat_lon(rent_lat, x[\u001b[39m0\u001b[39;49m], rent_long, x[\u001b[39m1\u001b[39;49m]))\n\u001b[1;32m     64\u001b[0m     \u001b[39mreturn\u001b[39;00m dist_between_two_lat_lon(rent_lat, closest[\u001b[39m0\u001b[39m], rent_long, closest[\u001b[39m1\u001b[39m]), closest[\u001b[39m2\u001b[39m]\n",
      "File \u001b[0;32m/mnt/c/Users/ohanr/OneDrive/Unimelb/3rd Year/MAST30034/generic-real-estate-consulting-project-group-25/scripts/address.py:63\u001b[0m, in \u001b[0;36mfind_closest_location.<locals>.<lambda>\u001b[0;34m(x)\u001b[0m\n\u001b[1;32m     61\u001b[0m \u001b[39mdef\u001b[39;00m \u001b[39mfind_closest_location\u001b[39m(rent_lat, rent_long, ext_data, ext_lat_col, ext_lon_col, name_col):\n\u001b[1;32m     62\u001b[0m     ext_data[\u001b[39m\"\u001b[39m\u001b[39mcords\u001b[39m\u001b[39m\"\u001b[39m] \u001b[39m=\u001b[39m ext_data[[ext_lat_col, ext_lon_col, name_col]]\u001b[39m.\u001b[39mvalues\u001b[39m.\u001b[39mtolist()\n\u001b[0;32m---> 63\u001b[0m     closest \u001b[39m=\u001b[39m \u001b[39mmin\u001b[39m(ext_data[\u001b[39m\"\u001b[39m\u001b[39mcords\u001b[39m\u001b[39m\"\u001b[39m], key\u001b[39m=\u001b[39m\u001b[39mlambda\u001b[39;00m x: dist_between_two_lat_lon(rent_lat, x[\u001b[39m0\u001b[39;49m], rent_long, x[\u001b[39m1\u001b[39;49m]))\n\u001b[1;32m     64\u001b[0m     \u001b[39mreturn\u001b[39;00m dist_between_two_lat_lon(rent_lat, closest[\u001b[39m0\u001b[39m], rent_long, closest[\u001b[39m1\u001b[39m]), closest[\u001b[39m2\u001b[39m]\n",
      "File \u001b[0;32m/mnt/c/Users/ohanr/OneDrive/Unimelb/3rd Year/MAST30034/generic-real-estate-consulting-project-group-25/scripts/address.py:72\u001b[0m, in \u001b[0;36mdist_between_two_lat_lon\u001b[0;34m(lat1, lat2, long1, long2, method)\u001b[0m\n\u001b[1;32m     71\u001b[0m \u001b[39mdef\u001b[39;00m \u001b[39mdist_between_two_lat_lon\u001b[39m(lat1, lat2, long1, long2, method \u001b[39m=\u001b[39m \u001b[39m\"\u001b[39m\u001b[39mdriving-car\u001b[39m\u001b[39m\"\u001b[39m):\n\u001b[0;32m---> 72\u001b[0m     response \u001b[39m=\u001b[39m requests\u001b[39m.\u001b[39;49mget(\u001b[39mf\u001b[39;49m\u001b[39m\"\u001b[39;49m\u001b[39mhttp://localhost:8080/ors/v2/directions/\u001b[39;49m\u001b[39m{\u001b[39;49;00mmethod\u001b[39m}\u001b[39;49;00m\u001b[39m?&start=\u001b[39;49m\u001b[39m{\u001b[39;49;00mlong1\u001b[39m}\u001b[39;49;00m\u001b[39m,\u001b[39;49m\u001b[39m{\u001b[39;49;00mlat1\u001b[39m}\u001b[39;49;00m\u001b[39m&end=\u001b[39;49m\u001b[39m{\u001b[39;49;00mlong2\u001b[39m}\u001b[39;49;00m\u001b[39m,\u001b[39;49m\u001b[39m{\u001b[39;49;00mlat2\u001b[39m}\u001b[39;49;00m\u001b[39m\"\u001b[39;49m)\n\u001b[1;32m     73\u001b[0m     \u001b[39mtry\u001b[39;00m:\n\u001b[1;32m     74\u001b[0m         \u001b[39mreturn\u001b[39;00m response\u001b[39m.\u001b[39mjson()[\u001b[39m\"\u001b[39m\u001b[39mfeatures\u001b[39m\u001b[39m\"\u001b[39m][\u001b[39m0\u001b[39m][\u001b[39m\"\u001b[39m\u001b[39mproperties\u001b[39m\u001b[39m\"\u001b[39m][\u001b[39m\"\u001b[39m\u001b[39msegments\u001b[39m\u001b[39m\"\u001b[39m][\u001b[39m0\u001b[39m][\u001b[39m\"\u001b[39m\u001b[39mdistance\u001b[39m\u001b[39m\"\u001b[39m]\n",
      "File \u001b[0;32m/usr/lib/python3/dist-packages/requests/api.py:76\u001b[0m, in \u001b[0;36mget\u001b[0;34m(url, params, **kwargs)\u001b[0m\n\u001b[1;32m     65\u001b[0m \u001b[39mr\u001b[39m\u001b[39m\"\"\"Sends a GET request.\u001b[39;00m\n\u001b[1;32m     66\u001b[0m \n\u001b[1;32m     67\u001b[0m \u001b[39m:param url: URL for the new :class:`Request` object.\u001b[39;00m\n\u001b[0;32m   (...)\u001b[0m\n\u001b[1;32m     72\u001b[0m \u001b[39m:rtype: requests.Response\u001b[39;00m\n\u001b[1;32m     73\u001b[0m \u001b[39m\"\"\"\u001b[39;00m\n\u001b[1;32m     75\u001b[0m kwargs\u001b[39m.\u001b[39msetdefault(\u001b[39m'\u001b[39m\u001b[39mallow_redirects\u001b[39m\u001b[39m'\u001b[39m, \u001b[39mTrue\u001b[39;00m)\n\u001b[0;32m---> 76\u001b[0m \u001b[39mreturn\u001b[39;00m request(\u001b[39m'\u001b[39;49m\u001b[39mget\u001b[39;49m\u001b[39m'\u001b[39;49m, url, params\u001b[39m=\u001b[39;49mparams, \u001b[39m*\u001b[39;49m\u001b[39m*\u001b[39;49mkwargs)\n",
      "File \u001b[0;32m/usr/lib/python3/dist-packages/requests/api.py:61\u001b[0m, in \u001b[0;36mrequest\u001b[0;34m(method, url, **kwargs)\u001b[0m\n\u001b[1;32m     57\u001b[0m \u001b[39m# By using the 'with' statement we are sure the session is closed, thus we\u001b[39;00m\n\u001b[1;32m     58\u001b[0m \u001b[39m# avoid leaving sockets open which can trigger a ResourceWarning in some\u001b[39;00m\n\u001b[1;32m     59\u001b[0m \u001b[39m# cases, and look like a memory leak in others.\u001b[39;00m\n\u001b[1;32m     60\u001b[0m \u001b[39mwith\u001b[39;00m sessions\u001b[39m.\u001b[39mSession() \u001b[39mas\u001b[39;00m session:\n\u001b[0;32m---> 61\u001b[0m     \u001b[39mreturn\u001b[39;00m session\u001b[39m.\u001b[39;49mrequest(method\u001b[39m=\u001b[39;49mmethod, url\u001b[39m=\u001b[39;49murl, \u001b[39m*\u001b[39;49m\u001b[39m*\u001b[39;49mkwargs)\n",
      "File \u001b[0;32m/usr/lib/python3/dist-packages/requests/sessions.py:542\u001b[0m, in \u001b[0;36mSession.request\u001b[0;34m(self, method, url, params, data, headers, cookies, files, auth, timeout, allow_redirects, proxies, hooks, stream, verify, cert, json)\u001b[0m\n\u001b[1;32m    537\u001b[0m send_kwargs \u001b[39m=\u001b[39m {\n\u001b[1;32m    538\u001b[0m     \u001b[39m'\u001b[39m\u001b[39mtimeout\u001b[39m\u001b[39m'\u001b[39m: timeout,\n\u001b[1;32m    539\u001b[0m     \u001b[39m'\u001b[39m\u001b[39mallow_redirects\u001b[39m\u001b[39m'\u001b[39m: allow_redirects,\n\u001b[1;32m    540\u001b[0m }\n\u001b[1;32m    541\u001b[0m send_kwargs\u001b[39m.\u001b[39mupdate(settings)\n\u001b[0;32m--> 542\u001b[0m resp \u001b[39m=\u001b[39m \u001b[39mself\u001b[39;49m\u001b[39m.\u001b[39;49msend(prep, \u001b[39m*\u001b[39;49m\u001b[39m*\u001b[39;49msend_kwargs)\n\u001b[1;32m    544\u001b[0m \u001b[39mreturn\u001b[39;00m resp\n",
      "File \u001b[0;32m/usr/lib/python3/dist-packages/requests/sessions.py:655\u001b[0m, in \u001b[0;36mSession.send\u001b[0;34m(self, request, **kwargs)\u001b[0m\n\u001b[1;32m    652\u001b[0m start \u001b[39m=\u001b[39m preferred_clock()\n\u001b[1;32m    654\u001b[0m \u001b[39m# Send the request\u001b[39;00m\n\u001b[0;32m--> 655\u001b[0m r \u001b[39m=\u001b[39m adapter\u001b[39m.\u001b[39;49msend(request, \u001b[39m*\u001b[39;49m\u001b[39m*\u001b[39;49mkwargs)\n\u001b[1;32m    657\u001b[0m \u001b[39m# Total elapsed time of the request (approximately)\u001b[39;00m\n\u001b[1;32m    658\u001b[0m elapsed \u001b[39m=\u001b[39m preferred_clock() \u001b[39m-\u001b[39m start\n",
      "File \u001b[0;32m/usr/lib/python3/dist-packages/requests/adapters.py:498\u001b[0m, in \u001b[0;36mHTTPAdapter.send\u001b[0;34m(self, request, stream, timeout, verify, cert, proxies)\u001b[0m\n\u001b[1;32m    495\u001b[0m             \u001b[39mraise\u001b[39;00m\n\u001b[1;32m    497\u001b[0m \u001b[39mexcept\u001b[39;00m (ProtocolError, socket\u001b[39m.\u001b[39merror) \u001b[39mas\u001b[39;00m err:\n\u001b[0;32m--> 498\u001b[0m     \u001b[39mraise\u001b[39;00m \u001b[39mConnectionError\u001b[39;00m(err, request\u001b[39m=\u001b[39mrequest)\n\u001b[1;32m    500\u001b[0m \u001b[39mexcept\u001b[39;00m MaxRetryError \u001b[39mas\u001b[39;00m e:\n\u001b[1;32m    501\u001b[0m     \u001b[39mif\u001b[39;00m \u001b[39misinstance\u001b[39m(e\u001b[39m.\u001b[39mreason, ConnectTimeoutError):\n\u001b[1;32m    502\u001b[0m         \u001b[39m# TODO: Remove this in 3.0.0: see #2811\u001b[39;00m\n",
      "\u001b[0;31mConnectionError\u001b[0m: ('Connection aborted.', RemoteDisconnected('Remote end closed connection without response'))"
     ]
    }
   ],
   "source": [
    "## Save in partitions to compensate unstable api connection due to limited RAM\n",
    "saved_index = 5350\n",
    "for i in range(saved_index, len(listing)):\n",
    "    try: \n",
    "        lng = listing[\"Longitude\"][i] \n",
    "        lat = listing[\"Latitude\"][i]\n",
    "    except KeyError:\n",
    "        continue\n",
    "    d, clo = find_closest_location(lat, lng, shops, \"Latitude\", \"Longitude\", \"Shopping Centre Name\")\n",
    "    listing[\"ClosestDstToShoppingCentre\"][i] = d\n",
    "    listing[\"ClosestShop\"][i] = clo\n",
    "    if (i != saved_index) and (i%50 == 0):\n",
    "        listing.to_csv(\"../data/curated/listings_with_distances.csv\")\n",
    "        saved_index = i\n",
    "        print(saved_index)\n",
    "listing.to_csv(\"../data/curated/listings_with_distances.csv\", index=False)   "
   ]
  },
  {
   "cell_type": "code",
   "execution_count": 6,
   "metadata": {},
   "outputs": [
    {
     "data": {
      "text/plain": [
       "0"
      ]
     },
     "execution_count": 6,
     "metadata": {},
     "output_type": "execute_result"
    }
   ],
   "source": [
    "saved_index"
   ]
  },
  {
   "cell_type": "markdown",
   "metadata": {},
   "source": [
    "## Distance to CBD"
   ]
  },
  {
   "cell_type": "code",
   "execution_count": 3,
   "metadata": {},
   "outputs": [],
   "source": [
    "listing = pd.read_csv(\"../data/curated/listings_w_shops.csv\")"
   ]
  },
  {
   "cell_type": "code",
   "execution_count": 4,
   "metadata": {},
   "outputs": [],
   "source": [
    "CBD = (-37.8136, 144.9631)\n",
    "dst = []\n",
    "\n",
    "for i in range(0, len(listing)):\n",
    "    lng = listing[\"Longitude\"][i] \n",
    "    lat = listing[\"Latitude\"][i]\n",
    "    d = dist_between_two_lat_lon(lat, CBD[0], lng, CBD[1])\n",
    "    dst.append(d)\n",
    "\n"
   ]
  },
  {
   "cell_type": "code",
   "execution_count": 5,
   "metadata": {},
   "outputs": [],
   "source": [
    "listing[\"DstToCBD\"] = dst"
   ]
  },
  {
   "cell_type": "code",
   "execution_count": 6,
   "metadata": {},
   "outputs": [],
   "source": [
    "listing.to_csv(\"../data/curated/listings_w_CBD.csv\")"
   ]
  },
  {
   "cell_type": "markdown",
   "metadata": {},
   "source": [
    "## Distance to Nearest Train Station"
   ]
  },
  {
   "cell_type": "code",
   "execution_count": 2,
   "metadata": {},
   "outputs": [],
   "source": [
    "ptv = gpd.read_file(\"../data/raw/PTV/PTV_METRO_TRAIN_STATION.shp\")\n",
    "vline = gpd.read_file(\"../data/raw/PTV_Regional/PTV_REGIONAL_TRAIN_STATION.shp\")\n",
    "stations = gpd.GeoDataFrame(pd.concat([ptv, vline]))\n"
   ]
  },
  {
   "cell_type": "code",
   "execution_count": 3,
   "metadata": {},
   "outputs": [],
   "source": [
    "listing = pd.read_csv(\"../data/curated/listings_w_stations.csv\")"
   ]
  },
  {
   "cell_type": "code",
   "execution_count": 3,
   "metadata": {},
   "outputs": [],
   "source": [
    "listing = pd.read_csv(\"../data/curated/listings_w_CBD.csv\")\n",
    "listing[\"ClosestDstToStation\"] = None\n"
   ]
  },
  {
   "cell_type": "code",
   "execution_count": 6,
   "metadata": {},
   "outputs": [
    {
     "data": {
      "text/plain": [
       "12056"
      ]
     },
     "execution_count": 6,
     "metadata": {},
     "output_type": "execute_result"
    }
   ],
   "source": [
    "len(listing)"
   ]
  },
  {
   "cell_type": "code",
   "execution_count": 9,
   "metadata": {},
   "outputs": [
    {
     "name": "stderr",
     "output_type": "stream",
     "text": [
      "/tmp/ipykernel_343/1041172144.py:13: SettingWithCopyWarning: \n",
      "A value is trying to be set on a copy of a slice from a DataFrame\n",
      "\n",
      "See the caveats in the documentation: https://pandas.pydata.org/pandas-docs/stable/user_guide/indexing.html#returning-a-view-versus-a-copy\n",
      "  listing[\"ClosestDstToStation\"][i] = d\n",
      "/tmp/ipykernel_343/1041172144.py:13: SettingWithCopyWarning: \n",
      "A value is trying to be set on a copy of a slice from a DataFrame\n",
      "\n",
      "See the caveats in the documentation: https://pandas.pydata.org/pandas-docs/stable/user_guide/indexing.html#returning-a-view-versus-a-copy\n",
      "  listing[\"ClosestDstToStation\"][i] = d\n",
      "/tmp/ipykernel_343/1041172144.py:13: SettingWithCopyWarning: \n",
      "A value is trying to be set on a copy of a slice from a DataFrame\n",
      "\n",
      "See the caveats in the documentation: https://pandas.pydata.org/pandas-docs/stable/user_guide/indexing.html#returning-a-view-versus-a-copy\n",
      "  listing[\"ClosestDstToStation\"][i] = d\n",
      "/tmp/ipykernel_343/1041172144.py:13: SettingWithCopyWarning: \n",
      "A value is trying to be set on a copy of a slice from a DataFrame\n",
      "\n",
      "See the caveats in the documentation: https://pandas.pydata.org/pandas-docs/stable/user_guide/indexing.html#returning-a-view-versus-a-copy\n",
      "  listing[\"ClosestDstToStation\"][i] = d\n",
      "/tmp/ipykernel_343/1041172144.py:13: SettingWithCopyWarning: \n",
      "A value is trying to be set on a copy of a slice from a DataFrame\n",
      "\n",
      "See the caveats in the documentation: https://pandas.pydata.org/pandas-docs/stable/user_guide/indexing.html#returning-a-view-versus-a-copy\n",
      "  listing[\"ClosestDstToStation\"][i] = d\n",
      "/tmp/ipykernel_343/1041172144.py:13: SettingWithCopyWarning: \n",
      "A value is trying to be set on a copy of a slice from a DataFrame\n",
      "\n",
      "See the caveats in the documentation: https://pandas.pydata.org/pandas-docs/stable/user_guide/indexing.html#returning-a-view-versus-a-copy\n",
      "  listing[\"ClosestDstToStation\"][i] = d\n"
     ]
    }
   ],
   "source": [
    "## Save in partitions to compensate unstable api connection due to limited RAM\n",
    "start = 12050\n",
    "end = 12056\n",
    "n = 50\n",
    "while end <= len(listing):\n",
    "    for i in range(start, end):\n",
    "        try: \n",
    "            lng = listing[\"Longitude\"][i] \n",
    "            lat = listing[\"Latitude\"][i]\n",
    "        except KeyError:\n",
    "            continue\n",
    "        d, clo = find_closest_location(lat, lng, stations, \"LATITUDE\", \"LONGITUDE\")\n",
    "        listing[\"ClosestDstToStation\"][i] = d\n",
    "    listing.to_csv(\"../data/curated/listings_w_stations.csv\")\n",
    "    start = end \n",
    "    end += n"
   ]
  },
  {
   "cell_type": "code",
   "execution_count": 5,
   "metadata": {},
   "outputs": [
    {
     "data": {
      "text/plain": [
       "12050"
      ]
     },
     "execution_count": 5,
     "metadata": {},
     "output_type": "execute_result"
    }
   ],
   "source": [
    "start"
   ]
  },
  {
   "cell_type": "markdown",
   "metadata": {},
   "source": [
    "## Dist Calc"
   ]
  },
  {
   "cell_type": "code",
   "execution_count": 3,
   "metadata": {},
   "outputs": [
    {
     "ename": "TypeError",
     "evalue": "find_closest_location() missing 6 required positional arguments: 'rent_lat', 'rent_long', 'ext_data', 'ext_lat_col', 'ext_lon_col', and 'name_col'",
     "output_type": "error",
     "traceback": [
      "\u001b[0;31m---------------------------------------------------------------------------\u001b[0m",
      "\u001b[0;31mTypeError\u001b[0m                                 Traceback (most recent call last)",
      "\u001b[1;32m/mnt/c/Users/ohanr/OneDrive/Unimelb/3rd Year/MAST30034/generic-real-estate-consulting-project-group-25/notebooks/routeCalc.ipynb Cell 24\u001b[0m in \u001b[0;36m<cell line: 1>\u001b[0;34m()\u001b[0m\n\u001b[0;32m----> <a href='vscode-notebook-cell://wsl%2Bubuntu-22.04/mnt/c/Users/ohanr/OneDrive/Unimelb/3rd%20Year/MAST30034/generic-real-estate-consulting-project-group-25/notebooks/routeCalc.ipynb#X33sdnNjb2RlLXJlbW90ZQ%3D%3D?line=0'>1</a>\u001b[0m test\u001b[39m=\u001b[39mfind_closest_location()\n",
      "\u001b[0;31mTypeError\u001b[0m: find_closest_location() missing 6 required positional arguments: 'rent_lat', 'rent_long', 'ext_data', 'ext_lat_col', 'ext_lon_col', and 'name_col'"
     ]
    }
   ],
   "source": [
    "test=find_closest_location()"
   ]
  },
  {
   "cell_type": "code",
   "execution_count": 5,
   "metadata": {},
   "outputs": [
    {
     "data": {
      "text/plain": [
       "[[40372.41], [117469.85]]"
      ]
     },
     "execution_count": 5,
     "metadata": {},
     "output_type": "execute_result"
    }
   ],
   "source": [
    "test[\"distances\"]"
   ]
  },
  {
   "cell_type": "code",
   "execution_count": 2,
   "metadata": {},
   "outputs": [],
   "source": [
    "shops = pd.read_csv(\"../data/curated/ShoppingCentreData.csv\")\n",
    "listing = pd.read_csv(\"../data/curated/listings_with_distances.csv\")\n",
    "import warnings\n",
    "warnings.filterwarnings(\"ignore\")"
   ]
  },
  {
   "cell_type": "code",
   "execution_count": 3,
   "metadata": {},
   "outputs": [
    {
     "name": "stdout",
     "output_type": "stream",
     "text": [
      "[[144.9482517, -37.818769], [144.966947, -37.812733], [144.980617, -37.868967], [144.84627, -37.828989], [145.12501, -38.373199], [144.962004, -37.775695], [144.305826, -38.161872], [145.124068, -38.141951], [144.388547, -38.168784], [144.336645, -38.089309], [144.349107, -38.170104], [144.280743, -36.765765], [145.048067, -38.245416], [145.346619, -38.02951], [146.86482, -36.127763], [144.964386, -37.813538], [145.12179, -37.818677], [145.1714718, -37.819375], [145.161647, -37.905522], [144.86422, -37.782172], [144.775276, -37.751223], [144.91953, -37.680244], [145.091637, -37.76613], [144.753677, -37.75938], [145.149761, -37.853784], [145.058043, -37.82931], [144.960737, -37.689343], [145.301494, -37.822732], [145.058444, -37.884786], [145.04284, -37.876146], [144.776038, -37.873122], [144.861609, -37.793489], [144.831506, -37.78187], [145.164632, -37.881427], [145.08346106348, -37.886038881076], [145.305655, -37.765247], [145.313972, -37.758258], [145.28299318557, -37.799301795285], [144.983537, -37.729625], [144.97268, -37.814312], [144.965749, -37.815545], [144.355819, -38.074772], [144.912268, -37.592986], [145.279178, -38.085817], [145.282017, -38.109657], [145.278937, -37.794026], [144.743748, -37.731774], [145.217684, -37.986731], [144.440871, -37.659449], [144.906547, -37.733125], [145.08812, -37.971261], [144.949879, -37.825196], [145.15957, -37.673551], [145.132541, -37.983412], [144.964645, -38.333538], [145.229157, -37.812672], [147.629682, -37.826676], [145.089375, -38.183794], [145.148743, -37.714902], [144.963555, -37.812517], [145.258788, -37.976993], [145.027155, -37.628168], [144.969024, -37.81797], [144.901875, -37.800522], [144.894785, -37.802426], [145.164718, -37.835453], [145.137326, -38.148946], [144.962743, -37.814824], [142.519768, -38.381608], [144.383085, -38.065015], [147.06271, -38.106745], [144.589909, -37.485605], [144.88463, -37.688293], [145.102816, -37.702696], [144.881948, -37.639349], [145.265843, -38.032654], [144.939344, -37.812574], [146.325113, -36.356748], [144.710844, -37.875109], [144.885527, -37.772658], [142.523999, -38.383231], [145.518043, -37.652833], [145.041367, -37.949024], [144.888781, -37.77369], [144.68726, -37.861908], [145.21853, -38.005209], [143.8211086, -37.5343837], [144.884429, -37.771563], [146.90877, -36.137884], [145.091922, -37.877598], [142.196203, -36.715718], [145.04146, -37.768183], [145.165494, -38.153172], [144.806774, -37.727952], [144.306331, -36.775409], [144.242283, -36.810475], [145.348895, -37.759801], [145.256595, -38.05177], [145.027026, -37.863028], [144.614452, -37.876281], [144.361964, -38.147951], [144.922161, -37.650845], [144.962812, -37.810813], [144.963206, -37.813692], [144.603102, -37.688442], [146.429798, -38.236989], [142.138774, -34.208196], [144.861442, -37.749591], [145.192535, -37.815739], [144.922669, -37.765648], [145.038272, -37.939558], [145.086614, -38.008072], [145.039113, -38.218566], [145.040597, -38.223672], [145.274908, -37.883678], [145.265094, -37.840921], [144.963993, -37.813881], [144.39147, -38.169956], [145.152392, -37.812013], [145.001845, -37.768556], [145.027778, -37.741697], [145.029845, -37.739018], [145.090211, -37.901055], [144.548297, -38.258894], [145.018678, -37.653869], [144.679643, -37.875219], [145.483931, -38.0775], [145.480817, -38.079019], [144.347662, -38.137503], [144.347624, -38.136985], [145.084297, -37.997395], [145.322697, -38.014211], [145.173138, -37.992893], [145.145241, -37.892422], [144.993643, -37.846954], [145.00178, -37.739352], [144.955688, -37.807962], [144.965716, -37.810696], [145.222226, -37.815398], [145.089676, -38.185074], [144.891378, -38.361526], [144.932287, -37.639405], [144.963505, -37.814699], [144.893951, -37.724585], [145.423834, -36.387641], [144.952153, -37.816219], [144.954095, -37.81898], [145.143394, -37.927444], [145.135792, -37.685088], [144.9201082, -37.5751264], [144.73538783062, -37.883369895772], [145.168284, -37.763554], [145.04558170316, -37.845596113968], [143.823885, -37.53431], [144.305047, -36.774541], [145.237115, -37.920638], [144.729432, -37.577542], [144.966529, -37.813077], [144.673555, -37.839616], [144.996065, -37.838366], [142.520583, -38.381549], [145.165638, -37.87639], [144.995792, -37.842618], [145.1825171, -38.0886367], [145.286693, -37.860342], [144.969441, -37.811333], [144.962665, -37.813277], [144.964729, -37.814766], [145.076943, -37.984204], [145.008246, -37.84066], [146.53939, -38.194538], [145.182224, -37.855243], [145.010977, -37.812724], [144.996158, -37.837395], [145.068739, -37.755915], [144.939035, -37.814342], [144.775813, -37.699266], [144.751043, -37.723117], [145.189605, -37.935473], [145.252208, -37.92821], [144.886366, -37.714077], [145.125332, -37.78685], [145.303787, -38.017692], [144.362575, -38.146987], [145.24004, -37.86927], [145.071752, -37.651367], [145.054806, -37.958445], [146.881917, -36.121153], [144.56127, -37.686167], [146.892456, -36.139008], [144.607036, -37.888057], [144.704302, -37.849333]]\n",
      "{'error': {'code': 6004, 'message': 'Request parameters exceed the server configuration limits. Only a total of 100 routes are allowed.'}, 'info': {'engine': {'version': '6.7.0', 'build_date': '2022-09-16T15:50:49Z'}, 'timestamp': 1664941830995}}\n"
     ]
    }
   ],
   "source": [
    "## Save in partitions to compensate unstable api connection due to limited RAM\n",
    "saved_index = 0\n",
    "for i in range(saved_index, 1):\n",
    "    try: \n",
    "        lng = listing[\"Longitude\"][i] \n",
    "        lat = listing[\"Latitude\"][i]\n",
    "    except KeyError:\n",
    "        continue\n",
    "    clo = find_min_dist(lat, lng, shops, \"Latitude\", \"Longitude\", \"Shopping Centre Name\")\n",
    "print(clo)"
   ]
  },
  {
   "cell_type": "code",
   "execution_count": 5,
   "metadata": {},
   "outputs": [
    {
     "ename": "KeyError",
     "evalue": "'distances'",
     "output_type": "error",
     "traceback": [
      "\u001b[0;31m---------------------------------------------------------------------------\u001b[0m",
      "\u001b[0;31mKeyError\u001b[0m                                  Traceback (most recent call last)",
      "\u001b[1;32m/mnt/c/Users/ohanr/OneDrive/Unimelb/3rd Year/MAST30034/generic-real-estate-consulting-project-group-25/notebooks/routeCalc.ipynb Cell 27\u001b[0m in \u001b[0;36m<cell line: 3>\u001b[0;34m()\u001b[0m\n\u001b[1;32m      <a href='vscode-notebook-cell://wsl%2Bubuntu-22.04/mnt/c/Users/ohanr/OneDrive/Unimelb/3rd%20Year/MAST30034/generic-real-estate-consulting-project-group-25/notebooks/routeCalc.ipynb#X43sdnNjb2RlLXJlbW90ZQ%3D%3D?line=6'>7</a>\u001b[0m \u001b[39mexcept\u001b[39;00m \u001b[39mKeyError\u001b[39;00m:\n\u001b[1;32m      <a href='vscode-notebook-cell://wsl%2Bubuntu-22.04/mnt/c/Users/ohanr/OneDrive/Unimelb/3rd%20Year/MAST30034/generic-real-estate-consulting-project-group-25/notebooks/routeCalc.ipynb#X43sdnNjb2RlLXJlbW90ZQ%3D%3D?line=7'>8</a>\u001b[0m     \u001b[39mcontinue\u001b[39;00m\n\u001b[0;32m----> <a href='vscode-notebook-cell://wsl%2Bubuntu-22.04/mnt/c/Users/ohanr/OneDrive/Unimelb/3rd%20Year/MAST30034/generic-real-estate-consulting-project-group-25/notebooks/routeCalc.ipynb#X43sdnNjb2RlLXJlbW90ZQ%3D%3D?line=8'>9</a>\u001b[0m d, clo \u001b[39m=\u001b[39m find_min_dist(lat, lng, shops, \u001b[39m\"\u001b[39;49m\u001b[39mLatitude\u001b[39;49m\u001b[39m\"\u001b[39;49m, \u001b[39m\"\u001b[39;49m\u001b[39mLongitude\u001b[39;49m\u001b[39m\"\u001b[39;49m, \u001b[39m\"\u001b[39;49m\u001b[39mShopping Centre Name\u001b[39;49m\u001b[39m\"\u001b[39;49m)\n\u001b[1;32m     <a href='vscode-notebook-cell://wsl%2Bubuntu-22.04/mnt/c/Users/ohanr/OneDrive/Unimelb/3rd%20Year/MAST30034/generic-real-estate-consulting-project-group-25/notebooks/routeCalc.ipynb#X43sdnNjb2RlLXJlbW90ZQ%3D%3D?line=9'>10</a>\u001b[0m \u001b[39m#listing[\"ClosestDstToShoppingCentre\"][i] = d\u001b[39;00m\n\u001b[1;32m     <a href='vscode-notebook-cell://wsl%2Bubuntu-22.04/mnt/c/Users/ohanr/OneDrive/Unimelb/3rd%20Year/MAST30034/generic-real-estate-consulting-project-group-25/notebooks/routeCalc.ipynb#X43sdnNjb2RlLXJlbW90ZQ%3D%3D?line=10'>11</a>\u001b[0m listing[\u001b[39m\"\u001b[39m\u001b[39mClosestShop\u001b[39m\u001b[39m\"\u001b[39m][i] \u001b[39m=\u001b[39m clo\n",
      "File \u001b[0;32m/mnt/c/Users/ohanr/OneDrive/Unimelb/3rd Year/MAST30034/generic-real-estate-consulting-project-group-25/scripts/address.py:57\u001b[0m, in \u001b[0;36mfind_min_dist\u001b[0;34m(lat, lng, ext_data, ext_lat_col, ext_lng_col, ext_name_col, method)\u001b[0m\n\u001b[1;32m     50\u001b[0m data \u001b[39m=\u001b[39m {\n\u001b[1;32m     51\u001b[0m             \u001b[39m\"\u001b[39m\u001b[39mlocations\u001b[39m\u001b[39m\"\u001b[39m:[sources],\n\u001b[1;32m     52\u001b[0m             \u001b[39m\"\u001b[39m\u001b[39mdestinations\u001b[39m\u001b[39m\"\u001b[39m:[\u001b[39m0\u001b[39m],\n\u001b[1;32m     53\u001b[0m             \u001b[39m\"\u001b[39m\u001b[39mmetrics\u001b[39m\u001b[39m\"\u001b[39m:[\u001b[39m\"\u001b[39m\u001b[39mdistance\u001b[39m\u001b[39m\"\u001b[39m],\n\u001b[1;32m     54\u001b[0m             \u001b[39m\"\u001b[39m\u001b[39msources\u001b[39m\u001b[39m\"\u001b[39m:[x \u001b[39mfor\u001b[39;00m x \u001b[39min\u001b[39;00m \u001b[39mrange\u001b[39m(\u001b[39m1\u001b[39m, \u001b[39mlen\u001b[39m(sources))]\n\u001b[1;32m     55\u001b[0m         }\n\u001b[1;32m     56\u001b[0m response \u001b[39m=\u001b[39m requests\u001b[39m.\u001b[39mpost(\u001b[39mf\u001b[39m\u001b[39m\"\u001b[39m\u001b[39mhttp://localhost:8080/ors/v2/matrix/\u001b[39m\u001b[39m{\u001b[39;00mmethod\u001b[39m}\u001b[39;00m\u001b[39m\"\u001b[39m, json \u001b[39m=\u001b[39m data)\n\u001b[0;32m---> 57\u001b[0m result \u001b[39m=\u001b[39m response\u001b[39m.\u001b[39;49mjson()[\u001b[39m\"\u001b[39;49m\u001b[39mdistances\u001b[39;49m\u001b[39m\"\u001b[39;49m]\n\u001b[1;32m     58\u001b[0m dst \u001b[39m=\u001b[39m \u001b[39mmin\u001b[39m(result)\n\u001b[1;32m     59\u001b[0m loc \u001b[39m=\u001b[39m ext_data[ext_name_col][result\u001b[39m.\u001b[39mindex(dst)]\n",
      "\u001b[0;31mKeyError\u001b[0m: 'distances'"
     ]
    }
   ],
   "source": [
    "## Save in partitions to compensate unstable api connection due to limited RAM\n",
    "saved_index = 0\n",
    "for i in range(saved_index, 1):\n",
    "    try: \n",
    "        lng = listing[\"Longitude\"][i] \n",
    "        lat = listing[\"Latitude\"][i]\n",
    "    except KeyError:\n",
    "        continue\n",
    "    d, clo = find_min_dist(lat, lng, shops, \"Latitude\", \"Longitude\", \"Shopping Centre Name\")\n",
    "    #listing[\"ClosestDstToShoppingCentre\"][i] = d\n",
    "    listing[\"ClosestShop\"][i] = clo\n",
    "    if (i != saved_index) and (i%50 == 0):\n",
    "        listing.to_csv(\"../data/curated/listings_with_distances.csv\")\n",
    "        saved_index = i\n",
    "        print(saved_index)\n",
    "saved_index    "
   ]
  }
 ],
 "metadata": {
  "kernelspec": {
   "display_name": "Python 3.10.4 64-bit",
   "language": "python",
   "name": "python3"
  },
  "language_info": {
   "codemirror_mode": {
    "name": "ipython",
    "version": 3
   },
   "file_extension": ".py",
   "mimetype": "text/x-python",
   "name": "python",
   "nbconvert_exporter": "python",
   "pygments_lexer": "ipython3",
   "version": "3.10.4"
  },
  "orig_nbformat": 4,
  "vscode": {
   "interpreter": {
    "hash": "916dbcbb3f70747c44a77c7bcd40155683ae19c65e1c03b4aa3499c5328201f1"
   }
  }
 },
 "nbformat": 4,
 "nbformat_minor": 2
}
