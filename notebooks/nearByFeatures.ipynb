{
 "cells": [
  {
   "cell_type": "code",
   "execution_count": 29,
   "metadata": {},
   "outputs": [
    {
     "name": "stdout",
     "output_type": "stream",
     "text": [
      "/mnt/c/Users/ohanr/OneDrive/Unimelb/3rd Year/MAST30034/generic-real-estate-consulting-project-group-25/scripts\n"
     ]
    },
    {
     "ename": "ImportError",
     "evalue": "cannot import name 'getNearestStation' from 'nearbyFeatures' (/mnt/c/Users/ohanr/OneDrive/Unimelb/3rd Year/MAST30034/generic-real-estate-consulting-project-group-25/scripts/nearbyFeatures.py)",
     "output_type": "error",
     "traceback": [
      "\u001b[0;31m---------------------------------------------------------------------------\u001b[0m",
      "\u001b[0;31mImportError\u001b[0m                               Traceback (most recent call last)",
      "\u001b[1;32m/mnt/c/Users/ohanr/OneDrive/Unimelb/3rd Year/MAST30034/generic-real-estate-consulting-project-group-25/notebooks/nearByFeatures.ipynb Cell 1\u001b[0m in \u001b[0;36m<cell line: 2>\u001b[0;34m()\u001b[0m\n\u001b[1;32m      <a href='vscode-notebook-cell://wsl%2Bubuntu-22.04/mnt/c/Users/ohanr/OneDrive/Unimelb/3rd%20Year/MAST30034/generic-real-estate-consulting-project-group-25/notebooks/nearByFeatures.ipynb#W0sdnNjb2RlLXJlbW90ZQ%3D%3D?line=0'>1</a>\u001b[0m get_ipython()\u001b[39m.\u001b[39mrun_line_magic(\u001b[39m'\u001b[39m\u001b[39mcd\u001b[39m\u001b[39m'\u001b[39m, \u001b[39m'\u001b[39m\u001b[39m../scripts\u001b[39m\u001b[39m'\u001b[39m)\n\u001b[0;32m----> <a href='vscode-notebook-cell://wsl%2Bubuntu-22.04/mnt/c/Users/ohanr/OneDrive/Unimelb/3rd%20Year/MAST30034/generic-real-estate-consulting-project-group-25/notebooks/nearByFeatures.ipynb#W0sdnNjb2RlLXJlbW90ZQ%3D%3D?line=1'>2</a>\u001b[0m \u001b[39mfrom\u001b[39;00m \u001b[39mnearbyFeatures\u001b[39;00m \u001b[39mimport\u001b[39;00m nearbyFeatures, getNearestStation\n\u001b[1;32m      <a href='vscode-notebook-cell://wsl%2Bubuntu-22.04/mnt/c/Users/ohanr/OneDrive/Unimelb/3rd%20Year/MAST30034/generic-real-estate-consulting-project-group-25/notebooks/nearByFeatures.ipynb#W0sdnNjb2RlLXJlbW90ZQ%3D%3D?line=2'>3</a>\u001b[0m \u001b[39mimport\u001b[39;00m \u001b[39mpandas\u001b[39;00m \u001b[39mas\u001b[39;00m \u001b[39mpd\u001b[39;00m\n",
      "\u001b[0;31mImportError\u001b[0m: cannot import name 'getNearestStation' from 'nearbyFeatures' (/mnt/c/Users/ohanr/OneDrive/Unimelb/3rd Year/MAST30034/generic-real-estate-consulting-project-group-25/scripts/nearbyFeatures.py)"
     ]
    }
   ],
   "source": [
    "%cd ../scripts \n",
    "from nearbyFeatures import nearbyFeatures, getNearestStation\n",
    "import pandas as pd"
   ]
  },
  {
   "cell_type": "code",
   "execution_count": 17,
   "metadata": {},
   "outputs": [
    {
     "data": {
      "text/plain": [
       "7"
      ]
     },
     "execution_count": 17,
     "metadata": {},
     "output_type": "execute_result"
    }
   ],
   "source": [
    "data = nearbyFeatures(-37.827243, 145.227464,2000, \"railway\", \"stop\")\n",
    "\n"
   ]
  },
  {
   "cell_type": "code",
   "execution_count": 27,
   "metadata": {},
   "outputs": [
    {
     "data": {
      "text/plain": [
       "-37.8187049"
      ]
     },
     "execution_count": 27,
     "metadata": {},
     "output_type": "execute_result"
    }
   ],
   "source": [
    "data[\"elements\"][0][\"lat\"]"
   ]
  },
  {
   "cell_type": "code",
   "execution_count": 10,
   "metadata": {},
   "outputs": [
    {
     "data": {
      "text/plain": [
       "[{'place_id': 203172584,\n",
       "  'licence': 'Data © OpenStreetMap contributors, ODbL 1.0. https://osm.org/copyright',\n",
       "  'osm_type': 'way',\n",
       "  'osm_id': 430888679,\n",
       "  'boundingbox': ['-37.8195956', '-37.8190396', '145.1209179', '145.1233298'],\n",
       "  'lat': '-37.81932675',\n",
       "  'lon': '145.1221350690762',\n",
       "  'display_name': 'Box Hill, Station Street, Box Hill, Melbourne, City of Whitehorse, Victoria, 3128, Australia',\n",
       "  'class': 'railway',\n",
       "  'type': 'station',\n",
       "  'importance': 0.8774119944777511,\n",
       "  'icon': 'https://nominatim.openstreetmap.org/ui/mapicons/transport_train_station2.p.20.png'}]"
      ]
     },
     "execution_count": 10,
     "metadata": {},
     "output_type": "execute_result"
    }
   ],
   "source": [
    "import requests\n",
    "response = requests.get(\"https://nominatim.openstreetmap.org/search?q=Box+Hill+Railway+Station+Australia+Victoria&format=json\")\n",
    "response.json()"
   ]
  },
  {
   "cell_type": "code",
   "execution_count": 8,
   "metadata": {},
   "outputs": [
    {
     "data": {
      "text/plain": [
       "[{'place_id': 182512237,\n",
       "  'licence': 'Data © OpenStreetMap contributors, ODbL 1.0. https://osm.org/copyright',\n",
       "  'osm_type': 'way',\n",
       "  'osm_id': 320389003,\n",
       "  'boundingbox': ['-37.7998156', '-37.7997509', '145.1166804', '145.1169071'],\n",
       "  'lat': '-37.7997833',\n",
       "  'lon': '145.1167937500361',\n",
       "  'display_name': 'Railway Station, Belmore Road, Mont Albert North, Melbourne, City of Whitehorse, Victoria, 3129, Australia',\n",
       "  'class': 'building',\n",
       "  'type': 'yes',\n",
       "  'importance': 0.42010000000000003},\n",
       " {'place_id': 198396671,\n",
       "  'licence': 'Data © OpenStreetMap contributors, ODbL 1.0. https://osm.org/copyright',\n",
       "  'osm_type': 'way',\n",
       "  'osm_id': 402248148,\n",
       "  'boundingbox': ['-13.8197574', '-13.8196262', '131.8328414', '131.8329695'],\n",
       "  'lat': '-13.819691850000002',\n",
       "  'lon': '131.83290545975677',\n",
       "  'display_name': 'Railway Station, Main Terrace, Pine Creek, Victoria Daly Region, Northern Territory, 0847, Australia',\n",
       "  'class': 'building',\n",
       "  'type': 'yes',\n",
       "  'importance': 0.41009999999999996}]"
      ]
     },
     "execution_count": 8,
     "metadata": {},
     "output_type": "execute_result"
    }
   ],
   "source": [
    "import requests\n",
    "response = requests.get(\"https://nominatim.openstreetmap.org/search?&format=json\")\n",
    "response.json()"
   ]
  },
  {
   "cell_type": "code",
   "execution_count": 1,
   "metadata": {},
   "outputs": [],
   "source": [
    "def getAll(box = \"-39.192401, 141.028939, -34.005138, 151.077642\"):\n",
    "    overpass_url = \"http://overpass-api.de/api/interpreter\"\n",
    "    overpass_query = f\"\"\"\n",
    "    [out:json];\n",
    "    (node[\"name\"=\"railway station\"]({box});\n",
    "    );\n",
    "    out;\n",
    "    \"\"\"\n",
    "    response = requests.get(overpass_url, \n",
    "                            params={'data': overpass_query})\n",
    "    data = response.json()\n",
    "\n",
    "    return data"
   ]
  },
  {
   "cell_type": "code",
   "execution_count": 2,
   "metadata": {},
   "outputs": [
    {
     "ename": "NameError",
     "evalue": "name 'requests' is not defined",
     "output_type": "error",
     "traceback": [
      "\u001b[0;31m---------------------------------------------------------------------------\u001b[0m",
      "\u001b[0;31mNameError\u001b[0m                                 Traceback (most recent call last)",
      "\u001b[1;32m/mnt/c/Users/ohanr/OneDrive/Unimelb/3rd Year/MAST30034/generic-real-estate-consulting-project-group-25/notebooks/nearByFeatures.ipynb Cell 6\u001b[0m in \u001b[0;36m<cell line: 1>\u001b[0;34m()\u001b[0m\n\u001b[0;32m----> <a href='vscode-notebook-cell://wsl%2Bubuntu-22.04/mnt/c/Users/ohanr/OneDrive/Unimelb/3rd%20Year/MAST30034/generic-real-estate-consulting-project-group-25/notebooks/nearByFeatures.ipynb#W5sdnNjb2RlLXJlbW90ZQ%3D%3D?line=0'>1</a>\u001b[0m getAll()\n",
      "\u001b[1;32m/mnt/c/Users/ohanr/OneDrive/Unimelb/3rd Year/MAST30034/generic-real-estate-consulting-project-group-25/notebooks/nearByFeatures.ipynb Cell 6\u001b[0m in \u001b[0;36mgetAll\u001b[0;34m(box)\u001b[0m\n\u001b[1;32m      <a href='vscode-notebook-cell://wsl%2Bubuntu-22.04/mnt/c/Users/ohanr/OneDrive/Unimelb/3rd%20Year/MAST30034/generic-real-estate-consulting-project-group-25/notebooks/nearByFeatures.ipynb#W5sdnNjb2RlLXJlbW90ZQ%3D%3D?line=1'>2</a>\u001b[0m overpass_url \u001b[39m=\u001b[39m \u001b[39m\"\u001b[39m\u001b[39mhttp://overpass-api.de/api/interpreter\u001b[39m\u001b[39m\"\u001b[39m\n\u001b[1;32m      <a href='vscode-notebook-cell://wsl%2Bubuntu-22.04/mnt/c/Users/ohanr/OneDrive/Unimelb/3rd%20Year/MAST30034/generic-real-estate-consulting-project-group-25/notebooks/nearByFeatures.ipynb#W5sdnNjb2RlLXJlbW90ZQ%3D%3D?line=2'>3</a>\u001b[0m overpass_query \u001b[39m=\u001b[39m \u001b[39mf\u001b[39m\u001b[39m\"\"\"\u001b[39m\n\u001b[1;32m      <a href='vscode-notebook-cell://wsl%2Bubuntu-22.04/mnt/c/Users/ohanr/OneDrive/Unimelb/3rd%20Year/MAST30034/generic-real-estate-consulting-project-group-25/notebooks/nearByFeatures.ipynb#W5sdnNjb2RlLXJlbW90ZQ%3D%3D?line=3'>4</a>\u001b[0m \u001b[39m[out:json];\u001b[39m\n\u001b[1;32m      <a href='vscode-notebook-cell://wsl%2Bubuntu-22.04/mnt/c/Users/ohanr/OneDrive/Unimelb/3rd%20Year/MAST30034/generic-real-estate-consulting-project-group-25/notebooks/nearByFeatures.ipynb#W5sdnNjb2RlLXJlbW90ZQ%3D%3D?line=4'>5</a>\u001b[0m \u001b[39m(node[\u001b[39m\u001b[39m\"\u001b[39m\u001b[39mname\u001b[39m\u001b[39m\"\u001b[39m\u001b[39m=\u001b[39m\u001b[39m\"\u001b[39m\u001b[39mrailway station\u001b[39m\u001b[39m\"\u001b[39m\u001b[39m](\u001b[39m\u001b[39m{\u001b[39;00mbox\u001b[39m}\u001b[39;00m\u001b[39m);\u001b[39m\n\u001b[1;32m      <a href='vscode-notebook-cell://wsl%2Bubuntu-22.04/mnt/c/Users/ohanr/OneDrive/Unimelb/3rd%20Year/MAST30034/generic-real-estate-consulting-project-group-25/notebooks/nearByFeatures.ipynb#W5sdnNjb2RlLXJlbW90ZQ%3D%3D?line=5'>6</a>\u001b[0m \u001b[39m);\u001b[39m\n\u001b[1;32m      <a href='vscode-notebook-cell://wsl%2Bubuntu-22.04/mnt/c/Users/ohanr/OneDrive/Unimelb/3rd%20Year/MAST30034/generic-real-estate-consulting-project-group-25/notebooks/nearByFeatures.ipynb#W5sdnNjb2RlLXJlbW90ZQ%3D%3D?line=6'>7</a>\u001b[0m \u001b[39mout;\u001b[39m\n\u001b[1;32m      <a href='vscode-notebook-cell://wsl%2Bubuntu-22.04/mnt/c/Users/ohanr/OneDrive/Unimelb/3rd%20Year/MAST30034/generic-real-estate-consulting-project-group-25/notebooks/nearByFeatures.ipynb#W5sdnNjb2RlLXJlbW90ZQ%3D%3D?line=7'>8</a>\u001b[0m \u001b[39m\u001b[39m\u001b[39m\"\"\"\u001b[39m\n\u001b[0;32m----> <a href='vscode-notebook-cell://wsl%2Bubuntu-22.04/mnt/c/Users/ohanr/OneDrive/Unimelb/3rd%20Year/MAST30034/generic-real-estate-consulting-project-group-25/notebooks/nearByFeatures.ipynb#W5sdnNjb2RlLXJlbW90ZQ%3D%3D?line=8'>9</a>\u001b[0m response \u001b[39m=\u001b[39m requests\u001b[39m.\u001b[39mget(overpass_url, \n\u001b[1;32m     <a href='vscode-notebook-cell://wsl%2Bubuntu-22.04/mnt/c/Users/ohanr/OneDrive/Unimelb/3rd%20Year/MAST30034/generic-real-estate-consulting-project-group-25/notebooks/nearByFeatures.ipynb#W5sdnNjb2RlLXJlbW90ZQ%3D%3D?line=9'>10</a>\u001b[0m                         params\u001b[39m=\u001b[39m{\u001b[39m'\u001b[39m\u001b[39mdata\u001b[39m\u001b[39m'\u001b[39m: overpass_query})\n\u001b[1;32m     <a href='vscode-notebook-cell://wsl%2Bubuntu-22.04/mnt/c/Users/ohanr/OneDrive/Unimelb/3rd%20Year/MAST30034/generic-real-estate-consulting-project-group-25/notebooks/nearByFeatures.ipynb#W5sdnNjb2RlLXJlbW90ZQ%3D%3D?line=10'>11</a>\u001b[0m data \u001b[39m=\u001b[39m response\u001b[39m.\u001b[39mjson()\n\u001b[1;32m     <a href='vscode-notebook-cell://wsl%2Bubuntu-22.04/mnt/c/Users/ohanr/OneDrive/Unimelb/3rd%20Year/MAST30034/generic-real-estate-consulting-project-group-25/notebooks/nearByFeatures.ipynb#W5sdnNjb2RlLXJlbW90ZQ%3D%3D?line=12'>13</a>\u001b[0m \u001b[39mreturn\u001b[39;00m data\n",
      "\u001b[0;31mNameError\u001b[0m: name 'requests' is not defined"
     ]
    }
   ],
   "source": [
    "getAll()"
   ]
  }
 ],
 "metadata": {
  "kernelspec": {
   "display_name": "Python 3.10.4 64-bit",
   "language": "python",
   "name": "python3"
  },
  "language_info": {
   "codemirror_mode": {
    "name": "ipython",
    "version": 3
   },
   "file_extension": ".py",
   "mimetype": "text/x-python",
   "name": "python",
   "nbconvert_exporter": "python",
   "pygments_lexer": "ipython3",
   "version": "3.10.4"
  },
  "orig_nbformat": 4,
  "vscode": {
   "interpreter": {
    "hash": "916dbcbb3f70747c44a77c7bcd40155683ae19c65e1c03b4aa3499c5328201f1"
   }
  }
 },
 "nbformat": 4,
 "nbformat_minor": 2
}
