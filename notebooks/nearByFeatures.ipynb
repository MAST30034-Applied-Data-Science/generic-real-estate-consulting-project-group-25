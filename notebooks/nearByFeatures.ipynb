{
 "cells": [
  {
   "cell_type": "code",
   "execution_count": 1,
   "metadata": {},
   "outputs": [
    {
     "name": "stdout",
     "output_type": "stream",
     "text": [
      "/mnt/c/Users/ohanr/OneDrive/Unimelb/3rd Year/MAST30034/generic-real-estate-consulting-project-group-25/scripts\n"
     ]
    }
   ],
   "source": [
    "%cd ../scripts \n",
    "from nearbyFeatures import nearbyFeatures, getAll\n",
    "import pandas as pd"
   ]
  },
  {
   "cell_type": "code",
   "execution_count": 42,
   "metadata": {},
   "outputs": [
    {
     "data": {
      "text/plain": [
       "{'version': 0.6,\n",
       " 'generator': 'Overpass API 0.7.58.5 b0c4acbb',\n",
       " 'osm3s': {'timestamp_osm_base': '2022-09-20T10:28:21Z',\n",
       "  'copyright': 'The data included in this document is from www.openstreetmap.org. The data is made available under ODbL.'},\n",
       " 'elements': []}"
      ]
     },
     "execution_count": 42,
     "metadata": {},
     "output_type": "execute_result"
    }
   ],
   "source": [
    "data = nearbyFeatures(-37.819636, 145.122400 ,1000, \"railway\", \"station\")\n",
    "data"
   ]
  },
  {
   "cell_type": "code",
   "execution_count": 10,
   "metadata": {},
   "outputs": [
    {
     "data": {
      "text/plain": [
       "[{'place_id': 203172584,\n",
       "  'licence': 'Data © OpenStreetMap contributors, ODbL 1.0. https://osm.org/copyright',\n",
       "  'osm_type': 'way',\n",
       "  'osm_id': 430888679,\n",
       "  'boundingbox': ['-37.8195956', '-37.8190396', '145.1209179', '145.1233298'],\n",
       "  'lat': '-37.81932675',\n",
       "  'lon': '145.1221350690762',\n",
       "  'display_name': 'Box Hill, Station Street, Box Hill, Melbourne, City of Whitehorse, Victoria, 3128, Australia',\n",
       "  'class': 'railway',\n",
       "  'type': 'station',\n",
       "  'importance': 0.8774119944777511,\n",
       "  'icon': 'https://nominatim.openstreetmap.org/ui/mapicons/transport_train_station2.p.20.png'}]"
      ]
     },
     "execution_count": 10,
     "metadata": {},
     "output_type": "execute_result"
    }
   ],
   "source": [
    "import requests\n",
    "response = requests.get(\"https://nominatim.openstreetmap.org/search?q=Box+Hill+Railway+Station+Australia+Victoria&format=json\")\n",
    "response.json()"
   ]
  },
  {
   "cell_type": "code",
   "execution_count": 8,
   "metadata": {},
   "outputs": [
    {
     "data": {
      "text/plain": [
       "[{'place_id': 182512237,\n",
       "  'licence': 'Data © OpenStreetMap contributors, ODbL 1.0. https://osm.org/copyright',\n",
       "  'osm_type': 'way',\n",
       "  'osm_id': 320389003,\n",
       "  'boundingbox': ['-37.7998156', '-37.7997509', '145.1166804', '145.1169071'],\n",
       "  'lat': '-37.7997833',\n",
       "  'lon': '145.1167937500361',\n",
       "  'display_name': 'Railway Station, Belmore Road, Mont Albert North, Melbourne, City of Whitehorse, Victoria, 3129, Australia',\n",
       "  'class': 'building',\n",
       "  'type': 'yes',\n",
       "  'importance': 0.42010000000000003},\n",
       " {'place_id': 198396671,\n",
       "  'licence': 'Data © OpenStreetMap contributors, ODbL 1.0. https://osm.org/copyright',\n",
       "  'osm_type': 'way',\n",
       "  'osm_id': 402248148,\n",
       "  'boundingbox': ['-13.8197574', '-13.8196262', '131.8328414', '131.8329695'],\n",
       "  'lat': '-13.819691850000002',\n",
       "  'lon': '131.83290545975677',\n",
       "  'display_name': 'Railway Station, Main Terrace, Pine Creek, Victoria Daly Region, Northern Territory, 0847, Australia',\n",
       "  'class': 'building',\n",
       "  'type': 'yes',\n",
       "  'importance': 0.41009999999999996}]"
      ]
     },
     "execution_count": 8,
     "metadata": {},
     "output_type": "execute_result"
    }
   ],
   "source": [
    "import requests\n",
    "response = requests.get(\"https://nominatim.openstreetmap.org/search?&format=json\")\n",
    "response.json()"
   ]
  }
 ],
 "metadata": {
  "kernelspec": {
   "display_name": "Python 3.10.4 64-bit",
   "language": "python",
   "name": "python3"
  },
  "language_info": {
   "codemirror_mode": {
    "name": "ipython",
    "version": 3
   },
   "file_extension": ".py",
   "mimetype": "text/x-python",
   "name": "python",
   "nbconvert_exporter": "python",
   "pygments_lexer": "ipython3",
   "version": "3.10.4"
  },
  "orig_nbformat": 4,
  "vscode": {
   "interpreter": {
    "hash": "916dbcbb3f70747c44a77c7bcd40155683ae19c65e1c03b4aa3499c5328201f1"
   }
  }
 },
 "nbformat": 4,
 "nbformat_minor": 2
}
