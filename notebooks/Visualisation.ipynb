{
 "cells": [
  {
   "cell_type": "code",
   "execution_count": null,
   "metadata": {},
   "outputs": [],
   "source": [
    "import numpy as np\n",
    "\n",
    "import pandas as pd\n",
    "import geopandas as gpd\n",
    "\n",
    "#import matplotlib.pyplot as plt\n",
    "#import seaborn as sns\n",
    "\n",
    "#import folium\n",
    "import requests\n",
    "\n",
    "import json\n",
    "\n",
    "from random import randint"
   ]
  },
  {
   "cell_type": "code",
   "execution_count": null,
   "metadata": {},
   "outputs": [],
   "source": [
    "from bokeh.io import output_file, show, output_notebook, export_png\n",
    "from bokeh.models import ColumnDataSource, GeoJSONDataSource, LinearColorMapper, ColorBar, HoverTool, Select\n",
    "from bokeh.plotting import figure\n",
    "from bokeh.palettes import brewer\n",
    "#from bokeh.sampledata.sample_geojson import geojson\n",
    "from bokeh.layouts import widgetbox, row, column\n",
    "from bokeh.io.doc import curdoc\n",
    "\n",
    "\n",
    "from bokeh.tile_providers import CARTODBPOSITRON, get_provider\n",
    "\n",
    "#output_notebook()"
   ]
  },
  {
   "cell_type": "code",
   "execution_count": null,
   "metadata": {},
   "outputs": [],
   "source": [
    "data = requests.get('https://data.gov.au/geoserver/vic-suburb-locality-boundaries-psma-administrative-boundaries/wfs?request=GetFeature&typeName=ckan_af33dd8c_0534_4e18_9245_fc64440f742e&outputFormat=json', headers={\"Content-Type\":\"application/json\"})\n",
    "geodata = data.json()"
   ]
  },
  {
   "cell_type": "code",
   "execution_count": null,
   "metadata": {},
   "outputs": [],
   "source": [
    "with open('../data/raw/geodata.json', 'w', encoding='utf-8') as f:\n",
    "    json.dump(geodata, f, indent=4)"
   ]
  },
  {
   "cell_type": "code",
   "execution_count": null,
   "metadata": {},
   "outputs": [],
   "source": [
    "gdf = gpd.read_file('../data/raw/geodata.json')\n",
    "gdf.set_crs('epsg:4283')\n",
    "# map tile providers provide only a few projections, so casting to that specific projection\n",
    "# WGS84 (EPSG:4326) or Web Mercator (EPSG:3857) are usually available \n",
    "# source: https://kodu.ut.ee/~kmoch/geopython2020/L6/interactive-map-bokeh.html\n",
    "gdf['geometry'] = gdf['geometry'].to_crs(epsg=3857) \n",
    "gdf.head()\n"
   ]
  },
  {
   "cell_type": "code",
   "execution_count": null,
   "metadata": {},
   "outputs": [],
   "source": [
    "gdf['base'] = 100\n",
    "gdf['1bedroom_pred'] = np.random.randint(75, 125, gdf.shape[0])\n",
    "gdf['2bedroom_pred'] = np.random.randint(100, 150, gdf.shape[0])\n",
    "\n",
    "gdf.head()"
   ]
  },
  {
   "cell_type": "code",
   "execution_count": null,
   "metadata": {},
   "outputs": [],
   "source": [
    "#gdf['geometry'] = gdf['geometry'].simplify(0.05, preserve_topology=True) # if we want to reduce precision of each polygon to make it quicker to display, 0.05 is the reducing coeficitient or whateve"
   ]
  },
  {
   "cell_type": "code",
   "execution_count": null,
   "metadata": {},
   "outputs": [],
   "source": [
    "# Set bokeh to save file\n",
    "output_file(\"../plots/test.html\", title=\"Testing suburb plotting\")\n",
    "\n",
    "geo_source = GeoJSONDataSource(geojson=gdf.to_json())\n",
    "\n",
    "# giving the basic view frame of the map\n",
    "tile_provider = get_provider(CARTODBPOSITRON)\n",
    "# range bounds supplied in web mercator coordinates\n",
    "p = figure(x_range=(15600000, 16700000), y_range=(-5000000, -3900000),\n",
    "           x_axis_type=\"mercator\", y_axis_type=\"mercator\",\n",
    "           plot_height=600, plot_width=600)\n",
    "p.add_tile(tile_provider)\n",
    "\n",
    "# Define color palettes\n",
    "palette = brewer['RdBu'][8]\n",
    "# reverse order of colors so higher values have darker colors\n",
    "palette = palette[::-1]\n",
    "\n",
    "# Instantiate LinearColorMapper that linearly maps numbers in a range, into a sequence of colors.\n",
    "# TODO, use those as min and max from data we plot\n",
    "color_mapper = LinearColorMapper(palette=palette, low=75, high=125)\n",
    "\n",
    "color_bar = ColorBar(color_mapper=color_mapper, label_standoff=8, width=500, height=20,\n",
    "                     border_line_color=None, location=(0, 0), orientation='horizontal')\n",
    "# major_label_overrides = tick_labels, could be used to set custom tickers, tick_labels is a dict value->display value\n",
    "\n",
    "\n",
    "# Add patch renderer to figure.\n",
    "suburbs = p.patches('xs', 'ys', source=geo_source,\n",
    "                    # here comes the transform function\n",
    "                    fill_color={'field': '2025_pred',\n",
    "                                'transform': color_mapper},\n",
    "                    line_color='gray',\n",
    "                    line_width=0.25,\n",
    "                    fill_alpha=0.2)\n",
    "\n",
    "# add tooltips as needed for other prediction values\n",
    "tooltips = [('Suburb', '@vic_loca_2'),\n",
    "            ('2025 prediction', '@2025_pred')]\n",
    "p.add_tools(HoverTool(renderers=[suburbs],\n",
    "                      tooltips=tooltips))\n",
    "\n",
    "show(p)  # this ; prevents vscode of showing output, output breaks things, todo to be fixef\n"
   ]
  },
  {
   "cell_type": "code",
   "execution_count": null,
   "metadata": {},
   "outputs": [],
   "source": [
    "gdf.color = 'blue'\n",
    "show(p)"
   ]
  },
  {
   "cell_type": "code",
   "execution_count": null,
   "metadata": {},
   "outputs": [],
   "source": [
    "from bokeh.io import show\n",
    "from bokeh.models import CustomJS, RadioGroup\n",
    "\n",
    "LABELS = [\"Option 1\", \"Option 2\", \"Option 3\"]\n",
    "\n",
    "radio_group = RadioGroup(labels=LABELS, active=0)\n",
    "radio_group.js_on_click(CustomJS(code=\"\"\"\n",
    "    console.log('radio_group: active=' + this.active, this.toString())\n",
    "\"\"\"))\n",
    "\n",
    "show(radio_group)\n"
   ]
  },
  {
   "cell_type": "code",
   "execution_count": null,
   "metadata": {},
   "outputs": [],
   "source": [
    "# might be needed\n",
    "output_file(\"../plots/test2.html\", title=\"Testing suburb plotting\")\n",
    "\n",
    "palette = brewer['RdBu'][8]\n",
    "palette = palette[::-1]\n",
    "\n",
    "# Define the callback function: update_plot\n",
    "\n",
    "\n",
    "def update_plot(attr, old, new):\n",
    "    # The input cr is the criteria selected from the select box\n",
    "    appartment_type = select.value\n",
    "\n",
    "    # Update the plot based on the changed inputs\n",
    "    p = make_plot(appartment_type)\n",
    "\n",
    "    # Update the layout, clear the old document and display the new document\n",
    "    layout = column(p, widgetbox(select))\n",
    "    curdoc().clear()\n",
    "    curdoc().add_root(layout)\n",
    "\n",
    "    # Create a plotting function\n",
    "\n",
    "\n",
    "def make_plot(field_name):\n",
    "    # colorbar, todo make actual minmax\n",
    "    min_range = 75\n",
    "    max_range = 150\n",
    "\n",
    "    color_mapper = LinearColorMapper(\n",
    "        palette=palette, low=min_range, high=max_range)\n",
    "\n",
    "    # Create color bar.\n",
    "    color_bar = ColorBar(color_mapper=color_mapper,\n",
    "                         border_line_color=None, location=(0, 0))\n",
    "\n",
    "    # Create figure object.\n",
    "    apt_type = gdf[field_name]\n",
    "\n",
    "    p = figure(x_range=(15600000, 16700000), y_range=(-5000000, -3900000),\n",
    "               x_axis_type=\"mercator\", y_axis_type=\"mercator\",\n",
    "               plot_height=600, plot_width=600,\n",
    "               title=field_name+' prediction for 2025')\n",
    "\n",
    "    # Add patch renderer to figure.\n",
    "    geo_source = GeoJSONDataSource(geojson=gdf.to_json())\n",
    "    suburbs = p.patches('xs', 'ys', source=geo_source,\n",
    "                        fill_color={'field': field_name,\n",
    "                                    'transform': color_mapper},\n",
    "                        line_color='black', line_width=0.25, fill_alpha=0.5)\n",
    "\n",
    "    # Specify color bar layout.\n",
    "    p.add_layout(color_bar, 'right')\n",
    "\n",
    "    # Add the hover tool to the graph\n",
    "    # add tooltips as needed for other prediction values\n",
    "    tooltips = [('Suburb', '@vic_loca_2'),\n",
    "                ('1 bedroom 2025 prediction', '@1bedroom_pred'),\n",
    "                ('2 bedroom 2025 prediction', '@2bedroom_pred')]\n",
    "    hover = HoverTool(renderers=[suburbs], tooltips=tooltips)\n",
    "\n",
    "    p.add_tools(hover)\n",
    "    return p\n",
    "\n",
    "\n",
    "# Call the plotting function\n",
    "input_field = '1bedroom_pred'\n",
    "p = make_plot(input_field)\n",
    "\n",
    "\n",
    "# Make a selection object: select\n",
    "# add here other column names you want to plot\n",
    "select = Select(title='Select apt type:', value='1bedroom_pred',\n",
    "                options=['1bedroom_pred', '2bedroom_pred'])\n",
    "select.on_change('value', update_plot)\n",
    "\n",
    "# Make a column layout of select and plot, and add it to the current document\n",
    "# Display the current document\n",
    "layout = column(p, select)\n",
    "curdoc().add_root(layout)\n",
    "\n",
    "\n",
    "# output_notebook()\n",
    "show(p)\n"
   ]
  }
 ],
 "metadata": {
  "kernelspec": {
   "display_name": "Python 3 (ipykernel)",
   "language": "python",
   "name": "python3"
  },
  "language_info": {
   "codemirror_mode": {
    "name": "ipython",
    "version": 3
   },
   "file_extension": ".py",
   "mimetype": "text/x-python",
   "name": "python",
   "nbconvert_exporter": "python",
   "pygments_lexer": "ipython3",
   "version": "3.8.10"
  },
  "vscode": {
   "interpreter": {
    "hash": "f0224c05727885fec999e6ecccbb3a73f7a41ae998e258d763262ca99124f03f"
   }
  }
 },
 "nbformat": 4,
 "nbformat_minor": 2
}
